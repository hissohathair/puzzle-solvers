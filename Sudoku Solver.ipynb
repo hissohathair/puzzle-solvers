{
 "cells": [
  {
   "cell_type": "markdown",
   "metadata": {},
   "source": [
    "# Sudoku Solver (v3)\n",
    "\n",
    "Close to final form.\n",
    "\n",
    "Objectives:\n",
    "\n",
    "1. Assess effectiveness and performance against different test cases\n",
    " 1. Back tracking\n",
    " 2. Back tracking + constraint propogation\n",
    " 3. Solution X or Dancing Links?\n",
    "2. Analyse our performance\n",
    "3. Draw some pretty graphs\n",
    "4. Assess performance against other implementations\n"
   ]
  },
  {
   "cell_type": "markdown",
   "metadata": {},
   "source": [
    "## Supporting Packages"
   ]
  },
  {
   "cell_type": "code",
   "execution_count": 1,
   "metadata": {},
   "outputs": [],
   "source": [
    "import sudoku as su\n",
    "import puzzlegrid as pg\n",
    "import pandas as pd\n",
    "from IPython.display import HTML, display, clear_output\n",
    "\n",
    "pd.set_option('precision', 3)"
   ]
  },
  {
   "cell_type": "markdown",
   "metadata": {},
   "source": [
    "## Help functions\n",
    "\n",
    "Print puzzles."
   ]
  },
  {
   "cell_type": "code",
   "execution_count": 2,
   "metadata": {},
   "outputs": [],
   "source": [
    "def print_puzzle(puzzle):\n",
    "    display(HTML(puzzle.as_html()))\n",
    "\n",
    "def print_2_puzzles(puz1, puz2):\n",
    "    display(HTML('<table><tr><td>' + puz1.as_html() + '</td><td>' + puz2.as_html() + '</td></tr></table>'))\n",
    "\n",
    "def update_progress(label, current, total, time_so_far, test_case):\n",
    "    clear_output(wait=True)\n",
    "    display(HTML(f'<progress style=\"width: 100%\" max={total} value={current}>{current} out of {total}</progress>'))\n",
    "    if test_case:\n",
    "        display(HTML(f\"<p>Working on {label}: <i>{test_case['label']}</i>, total time so far {time_so_far:.2f} seconds</p>\"))\n",
    "    else:\n",
    "        display(HTML(f\"<p>Completed in {time_so_far:.2f} seconds</p>\"))\n",
    "    return"
   ]
  },
  {
   "cell_type": "markdown",
   "metadata": {},
   "source": [
    "## Example class usage\n",
    "\n",
    "Create a puzzle in `SudokuPuzzle` then use separate class `SudokuSolver`. Separation FTW.\n"
   ]
  },
  {
   "cell_type": "code",
   "execution_count": 3,
   "metadata": {},
   "outputs": [
    {
     "data": {
      "text/html": [
       "<table><tr><td><table class=\"sudoku\"><tr><td>8</td><td>9</td><td> </td><td>4</td><td> </td><td> </td><td> </td><td>5</td><td>6</td></tr><tr><td>1</td><td>4</td><td> </td><td>3</td><td>5</td><td> </td><td> </td><td>9</td><td> </td></tr><tr><td> </td><td> </td><td> </td><td> </td><td> </td><td> </td><td>8</td><td> </td><td> </td></tr><tr><td>9</td><td> </td><td> </td><td> </td><td> </td><td> </td><td>2</td><td> </td><td> </td></tr><tr><td> </td><td>8</td><td> </td><td>9</td><td>6</td><td>5</td><td> </td><td>4</td><td> </td></tr><tr><td> </td><td> </td><td>1</td><td> </td><td> </td><td> </td><td> </td><td> </td><td>5</td></tr><tr><td> </td><td> </td><td>8</td><td> </td><td> </td><td> </td><td> </td><td> </td><td> </td></tr><tr><td> </td><td>3</td><td> </td><td> </td><td>2</td><td>1</td><td> </td><td>7</td><td>8</td></tr><tr><td>4</td><td>2</td><td> </td><td> </td><td> </td><td>6</td><td> </td><td>1</td><td>3</td></tr></table></td><td><table class=\"sudoku sudoku-solved\"><tr><td>8</td><td>9</td><td>3</td><td>4</td><td>7</td><td>2</td><td>1</td><td>5</td><td>6</td></tr><tr><td>1</td><td>4</td><td>6</td><td>3</td><td>5</td><td>8</td><td>7</td><td>9</td><td>2</td></tr><tr><td>2</td><td>7</td><td>5</td><td>6</td><td>1</td><td>9</td><td>8</td><td>3</td><td>4</td></tr><tr><td>9</td><td>5</td><td>4</td><td>1</td><td>8</td><td>3</td><td>2</td><td>6</td><td>7</td></tr><tr><td>7</td><td>8</td><td>2</td><td>9</td><td>6</td><td>5</td><td>3</td><td>4</td><td>1</td></tr><tr><td>3</td><td>6</td><td>1</td><td>2</td><td>4</td><td>7</td><td>9</td><td>8</td><td>5</td></tr><tr><td>5</td><td>1</td><td>8</td><td>7</td><td>3</td><td>4</td><td>6</td><td>2</td><td>9</td></tr><tr><td>6</td><td>3</td><td>9</td><td>5</td><td>2</td><td>1</td><td>4</td><td>7</td><td>8</td></tr><tr><td>4</td><td>2</td><td>7</td><td>8</td><td>9</td><td>6</td><td>5</td><td>1</td><td>3</td></tr></table></td></tr></table>"
      ],
      "text/plain": [
       "<IPython.core.display.HTML object>"
      ]
     },
     "metadata": {},
     "output_type": "display_data"
    }
   ],
   "source": [
    "p = su.SudokuPuzzle()\n",
    "p.init_puzzle(su.SAMPLE_PUZZLES[0]['puzzle'])\n",
    "solver = su.SudokuSolver(p)\n",
    "solver.solve()\n",
    "print_2_puzzles(solver.original, p)"
   ]
  },
  {
   "cell_type": "markdown",
   "metadata": {},
   "source": [
    "# Sudoku Solution Strategies\n",
    "\n",
    "## Backtracking and Constraint Propogation\n",
    "\n"
   ]
  },
  {
   "cell_type": "code",
   "execution_count": 4,
   "metadata": {},
   "outputs": [],
   "source": [
    "include_levels = ['Kids', 'Easy', 'Moderate'] #, 'Hard', 'Diabolical', 'Pathalogical']\n",
    "test_cases = [x for x in su.SAMPLE_PUZZLES if x['level'] in include_levels]\n",
    "p = su.SudokuPuzzle()"
   ]
  },
  {
   "cell_type": "code",
   "execution_count": 5,
   "metadata": {},
   "outputs": [
    {
     "data": {
      "text/html": [
       "<progress style=\"width: 100%\" max=5 value=5>5 out of 5</progress>"
      ],
      "text/plain": [
       "<IPython.core.display.HTML object>"
      ]
     },
     "metadata": {},
     "output_type": "display_data"
    },
    {
     "data": {
      "text/html": [
       "<p>Completed in 1.10 seconds</p>"
      ],
      "text/plain": [
       "<IPython.core.display.HTML object>"
      ]
     },
     "metadata": {},
     "output_type": "display_data"
    }
   ],
   "source": [
    "pt = pg.PuzzleTester(puzzle_class=su.SudokuPuzzle, test_samples=3)\n",
    "pt.add_testcases(test_cases)\n",
    "\n",
    "for s in su.SOLVERS:\n",
    "    solver = su.SudokuSolver(p, method=s)\n",
    "    pt.run_tests(solver, s, callback=update_progress)"
   ]
  },
  {
   "cell_type": "code",
   "execution_count": 6,
   "metadata": {},
   "outputs": [
    {
     "data": {
      "text/html": [
       "<div>\n",
       "<style scoped>\n",
       "    .dataframe tbody tr th:only-of-type {\n",
       "        vertical-align: middle;\n",
       "    }\n",
       "\n",
       "    .dataframe tbody tr th {\n",
       "        vertical-align: top;\n",
       "    }\n",
       "\n",
       "    .dataframe thead th {\n",
       "        text-align: right;\n",
       "    }\n",
       "</style>\n",
       "<table border=\"1\" class=\"dataframe\">\n",
       "  <thead>\n",
       "    <tr style=\"text-align: right;\">\n",
       "      <th></th>\n",
       "      <th>label</th>\n",
       "      <th>level</th>\n",
       "      <th>starting_clues</th>\n",
       "      <th>constraintpropogation (SudokuSolver)</th>\n",
       "      <th>backtracking (SudokuSolver)</th>\n",
       "    </tr>\n",
       "  </thead>\n",
       "  <tbody>\n",
       "    <tr>\n",
       "      <th>0</th>\n",
       "      <td>SMH 1</td>\n",
       "      <td>Kids</td>\n",
       "      <td>31</td>\n",
       "      <td>0.002</td>\n",
       "      <td>0.003</td>\n",
       "    </tr>\n",
       "    <tr>\n",
       "      <th>1</th>\n",
       "      <td>SMH 2</td>\n",
       "      <td>Easy</td>\n",
       "      <td>24</td>\n",
       "      <td>0.003</td>\n",
       "      <td>0.187</td>\n",
       "    </tr>\n",
       "    <tr>\n",
       "      <th>2</th>\n",
       "      <td>KTH 1</td>\n",
       "      <td>Easy</td>\n",
       "      <td>30</td>\n",
       "      <td>0.002</td>\n",
       "      <td>0.012</td>\n",
       "    </tr>\n",
       "    <tr>\n",
       "      <th>3</th>\n",
       "      <td>Rico Alan Heart</td>\n",
       "      <td>Easy</td>\n",
       "      <td>22</td>\n",
       "      <td>0.028</td>\n",
       "      <td>0.076</td>\n",
       "    </tr>\n",
       "    <tr>\n",
       "      <th>4</th>\n",
       "      <td>SMH 3</td>\n",
       "      <td>Moderate</td>\n",
       "      <td>26</td>\n",
       "      <td>0.024</td>\n",
       "      <td>0.088</td>\n",
       "    </tr>\n",
       "  </tbody>\n",
       "</table>\n",
       "</div>"
      ],
      "text/plain": [
       "             label     level  starting_clues  \\\n",
       "0            SMH 1      Kids              31   \n",
       "1            SMH 2      Easy              24   \n",
       "2            KTH 1      Easy              30   \n",
       "3  Rico Alan Heart      Easy              22   \n",
       "4            SMH 3  Moderate              26   \n",
       "\n",
       "   constraintpropogation (SudokuSolver)  backtracking (SudokuSolver)  \n",
       "0                                 0.002                        0.003  \n",
       "1                                 0.003                        0.187  \n",
       "2                                 0.002                        0.012  \n",
       "3                                 0.028                        0.076  \n",
       "4                                 0.024                        0.088  "
      ]
     },
     "execution_count": 6,
     "metadata": {},
     "output_type": "execute_result"
    }
   ],
   "source": [
    "df = pd.DataFrame(pt.get_test_results())\n",
    "df"
   ]
  },
  {
   "cell_type": "markdown",
   "metadata": {},
   "source": [
    "Add more test cases from (insert source)"
   ]
  },
  {
   "cell_type": "code",
   "execution_count": 7,
   "metadata": {},
   "outputs": [
    {
     "data": {
      "text/html": [
       "<progress style=\"width: 100%\" max=111 value=111>111 out of 111</progress>"
      ],
      "text/plain": [
       "<IPython.core.display.HTML object>"
      ]
     },
     "metadata": {},
     "output_type": "display_data"
    },
    {
     "data": {
      "text/html": [
       "<p>Completed in 11839.13 seconds</p>"
      ],
      "text/plain": [
       "<IPython.core.display.HTML object>"
      ]
     },
     "metadata": {},
     "output_type": "display_data"
    }
   ],
   "source": [
    "pt.add_testcases(pg.from_file(\"data/hardest.txt\", level=\"Hard\"))\n",
    "pt.add_testcases(pg.from_file(\"data/top95.txt\", level=\"Diabolical\"))\n",
    "for s in su.SOLVERS:\n",
    "    solver = su.SudokuSolver(p, method=s)\n",
    "    pt.run_tests(solver, s, callback=update_progress)"
   ]
  },
  {
   "cell_type": "code",
   "execution_count": 9,
   "metadata": {},
   "outputs": [
    {
     "data": {
      "text/html": [
       "<div>\n",
       "<style scoped>\n",
       "    .dataframe tbody tr th:only-of-type {\n",
       "        vertical-align: middle;\n",
       "    }\n",
       "\n",
       "    .dataframe tbody tr th {\n",
       "        vertical-align: top;\n",
       "    }\n",
       "\n",
       "    .dataframe thead th {\n",
       "        text-align: right;\n",
       "    }\n",
       "</style>\n",
       "<table border=\"1\" class=\"dataframe\">\n",
       "  <thead>\n",
       "    <tr style=\"text-align: right;\">\n",
       "      <th></th>\n",
       "      <th>label</th>\n",
       "      <th>level</th>\n",
       "      <th>starting_clues</th>\n",
       "      <th>constraintpropogation (SudokuSolver)</th>\n",
       "      <th>backtracking (SudokuSolver)</th>\n",
       "    </tr>\n",
       "  </thead>\n",
       "  <tbody>\n",
       "    <tr>\n",
       "      <th>0</th>\n",
       "      <td>SMH 1</td>\n",
       "      <td>Kids</td>\n",
       "      <td>31</td>\n",
       "      <td>0.001</td>\n",
       "      <td>0.003</td>\n",
       "    </tr>\n",
       "    <tr>\n",
       "      <th>1</th>\n",
       "      <td>SMH 2</td>\n",
       "      <td>Easy</td>\n",
       "      <td>24</td>\n",
       "      <td>0.002</td>\n",
       "      <td>0.178</td>\n",
       "    </tr>\n",
       "    <tr>\n",
       "      <th>2</th>\n",
       "      <td>KTH 1</td>\n",
       "      <td>Easy</td>\n",
       "      <td>30</td>\n",
       "      <td>0.003</td>\n",
       "      <td>0.012</td>\n",
       "    </tr>\n",
       "    <tr>\n",
       "      <th>3</th>\n",
       "      <td>Rico Alan Heart</td>\n",
       "      <td>Easy</td>\n",
       "      <td>22</td>\n",
       "      <td>0.032</td>\n",
       "      <td>0.078</td>\n",
       "    </tr>\n",
       "    <tr>\n",
       "      <th>4</th>\n",
       "      <td>SMH 3</td>\n",
       "      <td>Moderate</td>\n",
       "      <td>26</td>\n",
       "      <td>0.032</td>\n",
       "      <td>0.084</td>\n",
       "    </tr>\n",
       "    <tr>\n",
       "      <th>...</th>\n",
       "      <td>...</td>\n",
       "      <td>...</td>\n",
       "      <td>...</td>\n",
       "      <td>...</td>\n",
       "      <td>...</td>\n",
       "    </tr>\n",
       "    <tr>\n",
       "      <th>106</th>\n",
       "      <td>data/top95.txt:91</td>\n",
       "      <td>Diabolicalii</td>\n",
       "      <td>23</td>\n",
       "      <td>0.003</td>\n",
       "      <td>0.212</td>\n",
       "    </tr>\n",
       "    <tr>\n",
       "      <th>107</th>\n",
       "      <td>data/top95.txt:92</td>\n",
       "      <td>Diabolicalii</td>\n",
       "      <td>23</td>\n",
       "      <td>0.008</td>\n",
       "      <td>0.151</td>\n",
       "    </tr>\n",
       "    <tr>\n",
       "      <th>108</th>\n",
       "      <td>data/top95.txt:93</td>\n",
       "      <td>Diabolicalii</td>\n",
       "      <td>22</td>\n",
       "      <td>0.046</td>\n",
       "      <td>4.272</td>\n",
       "    </tr>\n",
       "    <tr>\n",
       "      <th>109</th>\n",
       "      <td>data/top95.txt:94</td>\n",
       "      <td>Diabolicalii</td>\n",
       "      <td>23</td>\n",
       "      <td>0.019</td>\n",
       "      <td>5.519</td>\n",
       "    </tr>\n",
       "    <tr>\n",
       "      <th>110</th>\n",
       "      <td>data/top95.txt:95</td>\n",
       "      <td>Diabolicalii</td>\n",
       "      <td>17</td>\n",
       "      <td>0.068</td>\n",
       "      <td>180.339</td>\n",
       "    </tr>\n",
       "  </tbody>\n",
       "</table>\n",
       "<p>111 rows × 5 columns</p>\n",
       "</div>"
      ],
      "text/plain": [
       "                 label         level  starting_clues  \\\n",
       "0                SMH 1          Kids              31   \n",
       "1                SMH 2          Easy              24   \n",
       "2                KTH 1          Easy              30   \n",
       "3      Rico Alan Heart          Easy              22   \n",
       "4                SMH 3      Moderate              26   \n",
       "..                 ...           ...             ...   \n",
       "106  data/top95.txt:91  Diabolicalii              23   \n",
       "107  data/top95.txt:92  Diabolicalii              23   \n",
       "108  data/top95.txt:93  Diabolicalii              22   \n",
       "109  data/top95.txt:94  Diabolicalii              23   \n",
       "110  data/top95.txt:95  Diabolicalii              17   \n",
       "\n",
       "     constraintpropogation (SudokuSolver)  backtracking (SudokuSolver)  \n",
       "0                                   0.001                        0.003  \n",
       "1                                   0.002                        0.178  \n",
       "2                                   0.003                        0.012  \n",
       "3                                   0.032                        0.078  \n",
       "4                                   0.032                        0.084  \n",
       "..                                    ...                          ...  \n",
       "106                                 0.003                        0.212  \n",
       "107                                 0.008                        0.151  \n",
       "108                                 0.046                        4.272  \n",
       "109                                 0.019                        5.519  \n",
       "110                                 0.068                      180.339  \n",
       "\n",
       "[111 rows x 5 columns]"
      ]
     },
     "execution_count": 9,
     "metadata": {},
     "output_type": "execute_result"
    }
   ],
   "source": [
    "df = pd.DataFrame(pt.get_test_results())\n",
    "df"
   ]
  },
  {
   "cell_type": "code",
   "execution_count": 11,
   "metadata": {},
   "outputs": [],
   "source": [
    "df.to_pickle('sudoku_test_results.pkl')\n"
   ]
  },
  {
   "cell_type": "markdown",
   "metadata": {},
   "source": [
    "# Appendix\n",
    "\n",
    "## Sources\n",
    "\n",
    "Part of this exercise was to learn Python and Jupyter skills while also solving a problem that I found interesting. So I've largely avoided reading other people's solutions to solving Sudoku. However from time to time I've gotten stuck or just been curious about something and found the below sources useful.\n",
    "\n",
    "* The \"Top 95\" and \"Hardest\" puzzle examples in the data directory come from [Solving Every Sudoku Puzzle (by Peter Norvig)](https://norvig.com/sudoku.html)\n",
    "* [Sudoku solving algorithms](https://en.wikipedia.org/wiki/Sudoku_solving_algorithms) -- links to some sample puzzles (on Flickr of all places). Found via the [Wikipedia article on Sudoku solving algorithms](https://en.wikipedia.org/wiki/Sudoku_solving_algorithms).\n",
    "* [AI Sudoku](http://www.aisudoku.com/index_en.html) -- collection of really hard puzzles.\n",
    "* The [sudoku.py](sudoku.py) class has URLs to where I found some of the sample puzzles. I've attempted to use labels for them that credit the source, although it's not always clear where the original puzzle came from.\n",
    "* Also used examples from [Simple sudoku solver using constraint propagation](https://gpicavet.github.io/jekyll/update/2017/12/16/sudoku-solver.html) (Grégory Picavet's Blog).\n",
    "\n",
    "\n",
    "## Table formatting\n",
    "\n",
    "Snippet below inserts some CSS to make the table look more like a Sudoku puzzle grid.\n"
   ]
  },
  {
   "cell_type": "code",
   "execution_count": null,
   "metadata": {},
   "outputs": [],
   "source": [
    "display(HTML('''\n",
    "<style type=\"text/css\">\n",
    ".sudoku table {\n",
    "    border: 3px solid red;\n",
    "}\n",
    "\n",
    ".sudoku td {\n",
    "    width: 40px;\n",
    "    height: 40px;\n",
    "    border: 1px solid #F00;\n",
    "    text-align: center;\n",
    "}\n",
    "\n",
    ".sudoku td:nth-of-type(3n) {    \n",
    "    border-right: 3px solid red;\n",
    "}\n",
    "\n",
    ".sudoku tr:nth-of-type(3n) td {    \n",
    "    border-bottom: 3px solid red;\n",
    "}\n",
    "\n",
    ".sudoku-solved table {\n",
    "    border: 3px solid green;\n",
    "}\n",
    "\n",
    ".sudoku-solved td {\n",
    "    border: 1pm solid green !important;\n",
    "}\n",
    "\n",
    "</style>\n",
    "'''))"
   ]
  },
  {
   "cell_type": "markdown",
   "metadata": {},
   "source": [
    "Scratch.txt\n",
    "\n",
    "#10: Rico Alan Border #1\n",
    "Greg: Solved in 3 ms, 59 tests, 0 backtracks\n",
    "Me: Solved in 3 ms\n",
    "\n",
    "#13: Rico Alan #3\n",
    "Greg: Invalid board!\n",
    "Me: Solved in 1.771 s\n",
    "\n",
    "#11: Rico Alan #4\n",
    "Greg: Solved in 30 ms, 5396 tests, 2371 backtracks\n",
    "Me: Solved in 26 ms\n",
    "\n",
    "#12: Qassim Hamza\n",
    "Greg: Solved in 15 ms\n",
    "Me: Solved in 59 ms\n",
    "\n",
    "#14: World's Hardest Sudoku 2012\n",
    "Greg: Solved in 21 ms\n",
    "Me: Solved in 30 ms\n",
    "\n",
    "#15: AI escargot\n",
    "Greg: Solved in 1 ms, 187 tests, 12 backtracks\n",
    "Me: Solved in 4 ms"
   ]
  }
 ],
 "metadata": {
  "kernelspec": {
   "display_name": "Python 3",
   "language": "python",
   "name": "python3"
  },
  "language_info": {
   "codemirror_mode": {
    "name": "ipython",
    "version": 3
   },
   "file_extension": ".py",
   "mimetype": "text/x-python",
   "name": "python",
   "nbconvert_exporter": "python",
   "pygments_lexer": "ipython3",
   "version": "3.7.4"
  }
 },
 "nbformat": 4,
 "nbformat_minor": 4
}
