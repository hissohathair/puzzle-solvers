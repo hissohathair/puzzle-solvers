{
 "cells": [
  {
   "cell_type": "markdown",
   "metadata": {},
   "source": [
    "# Sudoku Solver (v3)\n",
    "\n",
    "Close to final form.\n",
    "\n",
    "Objectives:\n",
    "\n",
    "1. Assess effectiveness and performance against different test cases\n",
    " 1. Back tracking\n",
    " 2. Back tracking + constraint propogation\n",
    " 3. Deductive logic\n",
    " 4. Solution X or Dancing Links?\n",
    "3. Learn some more Pandas + Matplotlib (draw some pretty graphs)\n",
    "4. ~~Assess performance against other implementations~~\n"
   ]
  },
  {
   "cell_type": "markdown",
   "metadata": {},
   "source": [
    "## Supporting Packages\n",
    "\n",
    "**TODO**: Brief description of [sudoku](sudoku.py) and [puzzlegrid](puzzlegrid.py) libraries.\n"
   ]
  },
  {
   "cell_type": "code",
   "execution_count": 1,
   "metadata": {},
   "outputs": [],
   "source": [
    "import sudoku as su\n",
    "import puzzlegrid as pg"
   ]
  },
  {
   "cell_type": "markdown",
   "metadata": {},
   "source": [
    "**TODO**: Brief description of why we need the following"
   ]
  },
  {
   "cell_type": "code",
   "execution_count": 2,
   "metadata": {},
   "outputs": [],
   "source": [
    "import copy\n",
    "import pandas as pd\n",
    "import matplotlib.pyplot as plt\n",
    "from IPython.display import HTML, display, clear_output\n",
    "\n",
    "%matplotlib inline\n",
    "plt.rcParams[\"figure.figsize\"] = [12, 6]\n",
    "pd.set_option('precision', 4)\n"
   ]
  },
  {
   "cell_type": "markdown",
   "metadata": {},
   "source": [
    "## Help functions\n",
    "\n",
    "**TODO:** Print puzzles descriptions.\n"
   ]
  },
  {
   "cell_type": "code",
   "execution_count": 3,
   "metadata": {},
   "outputs": [],
   "source": [
    "def print_puzzle(puzzle, **args):\n",
    "    display(HTML(puzzle.as_html(**args)))\n",
    "\n",
    "def print_2_puzzles(puz1, puz2, **args):\n",
    "    display(HTML('<table><tr><td>' + puz1.as_html(**args) + '</td><td>' + puz2.as_html() + '</td></tr></table>'))\n",
    "\n",
    "def update_progress(label, current, total, time_so_far, test_case):\n",
    "    clear_output(wait=True)\n",
    "    display(HTML(f'<progress style=\"width: 100%\" max={total} value={current}>{current} out of {total}</progress>'))\n",
    "    if test_case:\n",
    "        display(HTML(f\"<p>Working on {label}: <i>{test_case['label']}</i>, total time so far {time_so_far:.2f} seconds</p>\"))\n",
    "    else:\n",
    "        display(HTML(f\"<p>Completed in {time_so_far:.2f} seconds</p>\"))\n",
    "    return"
   ]
  },
  {
   "cell_type": "markdown",
   "metadata": {},
   "source": [
    "## Example class usage\n",
    "\n",
    "Create a puzzle in `SudokuPuzzle` then use separate class `SudokuSolver`. Separation FTW.\n"
   ]
  },
  {
   "cell_type": "code",
   "execution_count": 4,
   "metadata": {},
   "outputs": [
    {
     "data": {
      "text/html": [
       "<table><tr><td><table class=\"sudoku\"><tr><td>8</td><td>9</td><td> </td><td>4</td><td>{1, 7}</td><td>{2, 7}</td><td> </td><td>5</td><td>6</td></tr><tr><td>1</td><td>4</td><td> </td><td>3</td><td>5</td><td> </td><td>{7}</td><td>9</td><td>{2, 7}</td></tr><tr><td> </td><td> </td><td> </td><td> </td><td> </td><td> </td><td>8</td><td>{2, 3}</td><td> </td></tr><tr><td>9</td><td> </td><td> </td><td> </td><td> </td><td> </td><td>2</td><td> </td><td>{1, 7}</td></tr><tr><td> </td><td>8</td><td> </td><td>9</td><td>6</td><td>5</td><td> </td><td>4</td><td>{1, 7}</td></tr><tr><td> </td><td>{6, 7}</td><td>1</td><td> </td><td> </td><td> </td><td> </td><td> </td><td>5</td></tr><tr><td> </td><td> </td><td>8</td><td>{5, 7}</td><td> </td><td> </td><td> </td><td>{2, 6}</td><td> </td></tr><tr><td>{5, 6}</td><td>3</td><td> </td><td>{5}</td><td>2</td><td>1</td><td> </td><td>7</td><td>8</td></tr><tr><td>4</td><td>2</td><td> </td><td> </td><td> </td><td>6</td><td>{9, 5}</td><td>1</td><td>3</td></tr></table></td><td><table class=\"sudoku sudoku-solved\"><tr><td>8</td><td>9</td><td>3</td><td>4</td><td>7</td><td>2</td><td>1</td><td>5</td><td>6</td></tr><tr><td>1</td><td>4</td><td>6</td><td>3</td><td>5</td><td>8</td><td>7</td><td>9</td><td>2</td></tr><tr><td>2</td><td>7</td><td>5</td><td>6</td><td>1</td><td>9</td><td>8</td><td>3</td><td>4</td></tr><tr><td>9</td><td>5</td><td>4</td><td>1</td><td>8</td><td>3</td><td>2</td><td>6</td><td>7</td></tr><tr><td>7</td><td>8</td><td>2</td><td>9</td><td>6</td><td>5</td><td>3</td><td>4</td><td>1</td></tr><tr><td>3</td><td>6</td><td>1</td><td>2</td><td>4</td><td>7</td><td>9</td><td>8</td><td>5</td></tr><tr><td>5</td><td>1</td><td>8</td><td>7</td><td>3</td><td>4</td><td>6</td><td>2</td><td>9</td></tr><tr><td>6</td><td>3</td><td>9</td><td>5</td><td>2</td><td>1</td><td>4</td><td>7</td><td>8</td></tr><tr><td>4</td><td>2</td><td>7</td><td>8</td><td>9</td><td>6</td><td>5</td><td>1</td><td>3</td></tr></table></td></tr></table>"
      ],
      "text/plain": [
       "<IPython.core.display.HTML object>"
      ]
     },
     "metadata": {},
     "output_type": "display_data"
    }
   ],
   "source": [
    "puzzle = su.SudokuPuzzle(starting_grid=su.SAMPLE_PUZZLES[0]['puzzle'])\n",
    "original = copy.deepcopy(puzzle)\n",
    "solver = su.SudokuSolver()\n",
    "solver.solve(puzzle)\n",
    "print_2_puzzles(original, puzzle, show_possibilities=2)"
   ]
  },
  {
   "cell_type": "code",
   "execution_count": 5,
   "metadata": {},
   "outputs": [
    {
     "data": {
      "text/html": [
       "<table><tr><td><table class=\"sudoku\"><tr><td>8</td><td>9</td><td> </td><td>4</td><td>{1, 7}</td><td>{2, 7}</td><td> </td><td>5</td><td>6</td></tr><tr><td>1</td><td>4</td><td> </td><td>3</td><td>5</td><td> </td><td>{7}</td><td>9</td><td>{2, 7}</td></tr><tr><td> </td><td> </td><td> </td><td> </td><td> </td><td> </td><td>8</td><td>{2, 3}</td><td> </td></tr><tr><td>9</td><td> </td><td> </td><td> </td><td> </td><td> </td><td>2</td><td> </td><td>{1, 7}</td></tr><tr><td> </td><td>8</td><td> </td><td>9</td><td>6</td><td>5</td><td> </td><td>4</td><td>{1, 7}</td></tr><tr><td> </td><td>{6, 7}</td><td>1</td><td> </td><td> </td><td> </td><td> </td><td> </td><td>5</td></tr><tr><td> </td><td> </td><td>8</td><td>{5, 7}</td><td> </td><td> </td><td> </td><td>{2, 6}</td><td> </td></tr><tr><td>{5, 6}</td><td>3</td><td> </td><td>{5}</td><td>2</td><td>1</td><td> </td><td>7</td><td>8</td></tr><tr><td>4</td><td>2</td><td> </td><td> </td><td> </td><td>6</td><td>{9, 5}</td><td>1</td><td>3</td></tr></table></td><td><table class=\"sudoku sudoku-solved\"><tr><td>8</td><td>9</td><td>3</td><td>4</td><td>7</td><td>2</td><td>1</td><td>5</td><td>6</td></tr><tr><td>1</td><td>4</td><td>6</td><td>3</td><td>5</td><td>8</td><td>7</td><td>9</td><td>2</td></tr><tr><td>2</td><td>7</td><td>5</td><td>6</td><td>1</td><td>9</td><td>8</td><td>3</td><td>4</td></tr><tr><td>9</td><td>5</td><td>4</td><td>1</td><td>8</td><td>3</td><td>2</td><td>6</td><td>7</td></tr><tr><td>7</td><td>8</td><td>2</td><td>9</td><td>6</td><td>5</td><td>3</td><td>4</td><td>1</td></tr><tr><td>3</td><td>6</td><td>1</td><td>2</td><td>4</td><td>7</td><td>9</td><td>8</td><td>5</td></tr><tr><td>5</td><td>1</td><td>8</td><td>7</td><td>3</td><td>4</td><td>6</td><td>2</td><td>9</td></tr><tr><td>6</td><td>3</td><td>9</td><td>5</td><td>2</td><td>1</td><td>4</td><td>7</td><td>8</td></tr><tr><td>4</td><td>2</td><td>7</td><td>8</td><td>9</td><td>6</td><td>5</td><td>1</td><td>3</td></tr></table></td></tr></table>"
      ],
      "text/plain": [
       "<IPython.core.display.HTML object>"
      ]
     },
     "metadata": {},
     "output_type": "display_data"
    }
   ],
   "source": [
    "puzzle.init_puzzle(su.SAMPLE_PUZZLES[0]['puzzle'])\n",
    "solver.solve_only_squares(puzzle)\n",
    "print_2_puzzles(original, puzzle, show_possibilities=2)"
   ]
  },
  {
   "cell_type": "code",
   "execution_count": 7,
   "metadata": {},
   "outputs": [
    {
     "name": "stdout",
     "output_type": "stream",
     "text": [
      "49 204\n"
     ]
    }
   ],
   "source": [
    "print(solver.max_depth, solver.backtrack_count)"
   ]
  },
  {
   "cell_type": "code",
   "execution_count": 8,
   "metadata": {},
   "outputs": [
    {
     "data": {
      "text/html": [
       "<table class=\"sudoku\"><tr><td>1</td><td> </td><td> </td><td>7</td><td> </td><td>{8, 9}</td><td>{2, 6}</td><td>4</td><td>{2, 6}</td></tr><tr><td>{2, 7}</td><td>6</td><td>{2, 7}</td><td>1</td><td>{4}</td><td>3</td><td>5</td><td>8</td><td>9</td></tr><tr><td>4</td><td>{8, 9}</td><td>{8}</td><td>2</td><td> </td><td>5</td><td>1</td><td>3</td><td>7</td></tr><tr><td>9</td><td>7</td><td> </td><td> </td><td> </td><td> </td><td>3</td><td> </td><td> </td></tr><tr><td>{2, 5}</td><td> </td><td> </td><td>6</td><td> </td><td> </td><td>{2, 4}</td><td> </td><td>{2, 5}</td></tr><tr><td>{2, 5}</td><td>{4}</td><td> </td><td>{4, 5}</td><td>3</td><td>{2, 7}</td><td>8</td><td>9</td><td>1</td></tr><tr><td>3</td><td>{1, 4}</td><td> </td><td> </td><td> </td><td> </td><td> </td><td> </td><td> </td></tr><tr><td>6</td><td>5</td><td>{1, 7}</td><td> </td><td> </td><td>4</td><td>{9, 2}</td><td>{1, 2}</td><td> </td></tr><tr><td>8</td><td>2</td><td>9</td><td>{3, 5}</td><td>{1, 5}</td><td>6</td><td>7</td><td>{1, 5}</td><td>4</td></tr></table>"
      ],
      "text/plain": [
       "<IPython.core.display.HTML object>"
      ]
     },
     "metadata": {},
     "output_type": "display_data"
    }
   ],
   "source": [
    "p2 = su.SudokuPuzzle(starting_grid='1..7...4....1..589...2.5.3797....3.....6.........3.8913........65...4....29..6..4')\n",
    "\n",
    "p2.set(2, 6, 1)\n",
    "p2.set(1, 5, 3)\n",
    "p2.set(8, 6, 7)\n",
    "p2.set(8, 0, 8)\n",
    "p2.set(2, 0, 4)\n",
    "p2.set(1, 1, 6)\n",
    "\n",
    "print_puzzle(p2, show_possibilities=2)"
   ]
  },
  {
   "cell_type": "markdown",
   "metadata": {},
   "source": [
    "# Sudoku Solution Strategies\n",
    "\n",
    "Running some timing tests. Using 2017 Macbook Pro (2.3 GHz Intel Core i5).\n",
    "\n",
    "## Backtracking\n",
    "\n",
    "**TODO:** Explanation of algorithm.\n",
    "\n",
    "### Evaluating Backtracking\n",
    "\n",
    "In test code below, limiting `include_levels` to `Kids`, `Easy`, and `Moderate` will complete the testing in ~1 second. On the other hand:\n",
    "\n",
    "* `Hard` extends the running time to ~9 seconds.\n",
    "* `Diabolical` takes ~5 minutes.\n",
    "* `Pathalogical` takes ~36 minutes.\n",
    "\n",
    "The time is due to the poor performance of the naive \"backtracking\" algorithm on some (but not all) puzzles. We're also solving each puzzle `NUM_SAMPLES` times (3 by default). We then average out the running times.\n",
    "\n"
   ]
  },
  {
   "cell_type": "code",
   "execution_count": 6,
   "metadata": {},
   "outputs": [],
   "source": [
    "include_levels = ['Kids', 'Easy', 'Moderate'] # ['Hard', 'Diabolical', 'Pathalogical']\n",
    "test_cases = [x for x in su.SAMPLE_PUZZLES if x['level'] in include_levels]\n",
    "\n",
    "NUM_SAMPLES=5"
   ]
  },
  {
   "cell_type": "markdown",
   "metadata": {},
   "source": [
    "Using the `PuzzleTester` class. Takes test cases and then runs Sudoku solvers against each one. The list `su.SOLVERS` contains the list of solving algorithms that the solver class supports. We'll start with `backtracking`."
   ]
  },
  {
   "cell_type": "code",
   "execution_count": 7,
   "metadata": {},
   "outputs": [
    {
     "data": {
      "text/html": [
       "<progress style=\"width: 100%\" max=5 value=5>5 out of 5</progress>"
      ],
      "text/plain": [
       "<IPython.core.display.HTML object>"
      ]
     },
     "metadata": {},
     "output_type": "display_data"
    },
    {
     "data": {
      "text/html": [
       "<p>Completed in 1.98 seconds</p>"
      ],
      "text/plain": [
       "<IPython.core.display.HTML object>"
      ]
     },
     "metadata": {},
     "output_type": "display_data"
    }
   ],
   "source": [
    "pt = pg.PuzzleTester(puzzle_class=su.SudokuPuzzle, test_samples=NUM_SAMPLES)\n",
    "pt.add_testcases(test_cases)\n",
    "\n",
    "method = 'backtracking'\n",
    "solver = su.SudokuSolver(method=method)\n",
    "n = pt.run_tests(solver, method, callback=update_progress)\n"
   ]
  },
  {
   "cell_type": "markdown",
   "metadata": {},
   "source": [
    "Can see some results below. Sorted by time taken (longest first). Plain backtracking is always slower, and on some puzzles it's a huge difference. "
   ]
  },
  {
   "cell_type": "code",
   "execution_count": 8,
   "metadata": {},
   "outputs": [
    {
     "data": {
      "text/html": [
       "<div>\n",
       "<style scoped>\n",
       "    .dataframe tbody tr th:only-of-type {\n",
       "        vertical-align: middle;\n",
       "    }\n",
       "\n",
       "    .dataframe tbody tr th {\n",
       "        vertical-align: top;\n",
       "    }\n",
       "\n",
       "    .dataframe thead th {\n",
       "        text-align: right;\n",
       "    }\n",
       "</style>\n",
       "<table border=\"1\" class=\"dataframe\">\n",
       "  <thead>\n",
       "    <tr style=\"text-align: right;\">\n",
       "      <th></th>\n",
       "      <th>label</th>\n",
       "      <th>level</th>\n",
       "      <th>starting_clues</th>\n",
       "      <th>backtracking</th>\n",
       "    </tr>\n",
       "  </thead>\n",
       "  <tbody>\n",
       "    <tr>\n",
       "      <th>1</th>\n",
       "      <td>SMH 2</td>\n",
       "      <td>Easy</td>\n",
       "      <td>24</td>\n",
       "      <td>0.2050</td>\n",
       "    </tr>\n",
       "    <tr>\n",
       "      <th>4</th>\n",
       "      <td>SMH 3</td>\n",
       "      <td>Moderate</td>\n",
       "      <td>26</td>\n",
       "      <td>0.0876</td>\n",
       "    </tr>\n",
       "    <tr>\n",
       "      <th>3</th>\n",
       "      <td>Rico Alan Heart</td>\n",
       "      <td>Easy</td>\n",
       "      <td>22</td>\n",
       "      <td>0.0809</td>\n",
       "    </tr>\n",
       "    <tr>\n",
       "      <th>2</th>\n",
       "      <td>KTH 1</td>\n",
       "      <td>Easy</td>\n",
       "      <td>30</td>\n",
       "      <td>0.0183</td>\n",
       "    </tr>\n",
       "    <tr>\n",
       "      <th>0</th>\n",
       "      <td>SMH 1</td>\n",
       "      <td>Kids</td>\n",
       "      <td>31</td>\n",
       "      <td>0.0044</td>\n",
       "    </tr>\n",
       "  </tbody>\n",
       "</table>\n",
       "</div>"
      ],
      "text/plain": [
       "             label     level  starting_clues  backtracking\n",
       "1            SMH 2      Easy              24        0.2050\n",
       "4            SMH 3  Moderate              26        0.0876\n",
       "3  Rico Alan Heart      Easy              22        0.0809\n",
       "2            KTH 1      Easy              30        0.0183\n",
       "0            SMH 1      Kids              31        0.0044"
      ]
     },
     "execution_count": 8,
     "metadata": {},
     "output_type": "execute_result"
    }
   ],
   "source": [
    "df = pd.DataFrame(pt.get_test_results())\n",
    "df.sort_values(by=method, ascending=False).head(n=5)\n"
   ]
  },
  {
   "cell_type": "markdown",
   "metadata": {},
   "source": [
    "## Solving Harder Puzzles\n",
    "\n",
    "Add more test cases from [Peter Norvig](https://norvig.com/sudoku.html).\n",
    "\n",
    "If the test results file exists we'll use the results from earlier. Otherwise, this will re-run all the tests which took ~3.5 hours on my 2017 Macbook Pro (2.3 GHz Intel Core i5).\n"
   ]
  },
  {
   "cell_type": "code",
   "execution_count": 9,
   "metadata": {},
   "outputs": [],
   "source": [
    "import os.path\n",
    "\n",
    "TEST_RESULTS = \"sudoku_test_results.pkl\"\n",
    "if os.path.isfile(TEST_RESULTS):\n",
    "    df = pd.read_pickle(TEST_RESULTS)\n",
    "else:\n",
    "    # pt.add_testcases([x for x in su.SAMPLE_PUZZLES if x['level'] not in include_levels])\n",
    "    pt.add_testcases(pg.from_file(\"data/hardest.txt\", level=\"Hard\"))\n",
    "    pt.add_testcases(pg.from_file(\"data/top95.txt\", level=\"Diabolical\"))\n",
    "    for m in su.SOLVERS:\n",
    "        solver = su.SudokuSolver(method=m)\n",
    "        pt.run_tests(solver, m, callback=update_progress)\n",
    "    df = pd.DataFrame(pt.get_test_results())\n",
    "    df.to_pickle(TEST_RESULTS)\n"
   ]
  },
  {
   "cell_type": "code",
   "execution_count": 10,
   "metadata": {},
   "outputs": [
    {
     "data": {
      "text/html": [
       "<div>\n",
       "<style scoped>\n",
       "    .dataframe tbody tr th:only-of-type {\n",
       "        vertical-align: middle;\n",
       "    }\n",
       "\n",
       "    .dataframe tbody tr th {\n",
       "        vertical-align: top;\n",
       "    }\n",
       "\n",
       "    .dataframe thead th {\n",
       "        text-align: right;\n",
       "    }\n",
       "</style>\n",
       "<table border=\"1\" class=\"dataframe\">\n",
       "  <thead>\n",
       "    <tr style=\"text-align: right;\">\n",
       "      <th></th>\n",
       "      <th>starting_clues</th>\n",
       "      <th>backtracking</th>\n",
       "      <th>constraintpropogation</th>\n",
       "    </tr>\n",
       "  </thead>\n",
       "  <tbody>\n",
       "    <tr>\n",
       "      <th>count</th>\n",
       "      <td>114.0000</td>\n",
       "      <td>114.0000</td>\n",
       "      <td>114.0000</td>\n",
       "    </tr>\n",
       "    <tr>\n",
       "      <th>mean</th>\n",
       "      <td>21.2632</td>\n",
       "      <td>44.0623</td>\n",
       "      <td>0.6161</td>\n",
       "    </tr>\n",
       "    <tr>\n",
       "      <th>std</th>\n",
       "      <td>3.4744</td>\n",
       "      <td>155.3830</td>\n",
       "      <td>1.8542</td>\n",
       "    </tr>\n",
       "    <tr>\n",
       "      <th>min</th>\n",
       "      <td>17.0000</td>\n",
       "      <td>0.0026</td>\n",
       "      <td>0.0014</td>\n",
       "    </tr>\n",
       "    <tr>\n",
       "      <th>25%</th>\n",
       "      <td>17.0000</td>\n",
       "      <td>0.2937</td>\n",
       "      <td>0.0215</td>\n",
       "    </tr>\n",
       "    <tr>\n",
       "      <th>50%</th>\n",
       "      <td>22.0000</td>\n",
       "      <td>2.0871</td>\n",
       "      <td>0.0668</td>\n",
       "    </tr>\n",
       "    <tr>\n",
       "      <th>75%</th>\n",
       "      <td>24.0000</td>\n",
       "      <td>11.8639</td>\n",
       "      <td>0.2124</td>\n",
       "    </tr>\n",
       "    <tr>\n",
       "      <th>max</th>\n",
       "      <td>31.0000</td>\n",
       "      <td>1173.6804</td>\n",
       "      <td>12.7283</td>\n",
       "    </tr>\n",
       "  </tbody>\n",
       "</table>\n",
       "</div>"
      ],
      "text/plain": [
       "       starting_clues  backtracking  constraintpropogation\n",
       "count        114.0000      114.0000               114.0000\n",
       "mean          21.2632       44.0623                 0.6161\n",
       "std            3.4744      155.3830                 1.8542\n",
       "min           17.0000        0.0026                 0.0014\n",
       "25%           17.0000        0.2937                 0.0215\n",
       "50%           22.0000        2.0871                 0.0668\n",
       "75%           24.0000       11.8639                 0.2124\n",
       "max           31.0000     1173.6804                12.7283"
      ]
     },
     "execution_count": 10,
     "metadata": {},
     "output_type": "execute_result"
    }
   ],
   "source": [
    "df.describe()\n"
   ]
  },
  {
   "cell_type": "markdown",
   "metadata": {},
   "source": [
    "So, yeah. Backtracking alone is appalling. Look it.\n",
    "\n",
    "* 75% of the test cases are solved in ~0.2 seconds with the constraint propogation solution, but we need ~12 seconds using backtrackng alone.\n",
    "* Mean time is terrible for backtracking alone (~35 seconds). \n",
    "\n",
    "You can see the variability better with the following plot."
   ]
  },
  {
   "cell_type": "code",
   "execution_count": 11,
   "metadata": {},
   "outputs": [
    {
     "data": {
      "image/png": "[encoded data removed]",
      "text/plain": [
       "<Figure size 864x432 with 1 Axes>"
      ]
     },
     "metadata": {
      "needs_background": "light"
     },
     "output_type": "display_data"
    }
   ],
   "source": [
    "axs = df[su.SOLVERS].plot()\n"
   ]
  },
  {
   "cell_type": "markdown",
   "metadata": {},
   "source": [
    "So, at this point, going to stop testing with backtracking alone. But there are a few puzzles that seem to be particularly difficult for the constraint propogation solution, so let's look at those.\n",
    "\n",
    "## Constraint Propogation\n",
    "\n",
    "**TODO**: Explanation of CP.\n",
    "\n",
    "### Evaluating CP\n",
    "\n",
    "The majority of the test puzzles are solved in < ~ 0.2 seconds, however there are some that take longer, up to a maxiumum of 12 seconds.\n"
   ]
  },
  {
   "cell_type": "code",
   "execution_count": 12,
   "metadata": {},
   "outputs": [
    {
     "data": {
      "image/png": "[encoded data removed]",
      "text/plain": [
       "<Figure size 864x432 with 1 Axes>"
      ]
     },
     "metadata": {
      "needs_background": "light"
     },
     "output_type": "display_data"
    }
   ],
   "source": [
    "method = 'constraintpropogation'\n",
    "axs = df.sort_values(by=method)[[method]].plot(kind='bar')\n",
    "axs.xaxis.label.set_visible(False)\n",
    "axs.xaxis.set_ticks([])\n",
    "plt.show()"
   ]
  },
  {
   "cell_type": "markdown",
   "metadata": {},
   "source": [
    "Let's take a look at those puzzles that take so much longer to solve and see if we can work out what's happening there."
   ]
  },
  {
   "cell_type": "code",
   "execution_count": 13,
   "metadata": {},
   "outputs": [
    {
     "data": {
      "text/html": [
       "<style  type=\"text/css\" >\n",
       "    #T_605c1cc2_e2d6_11ea_8a01_8c85903d48d1row0_col0 {\n",
       "            background-color:  black;\n",
       "             color:  white;\n",
       "        }    #T_605c1cc2_e2d6_11ea_8a01_8c85903d48d1row0_col1 {\n",
       "            background-color:  black;\n",
       "             color:  white;\n",
       "        }    #T_605c1cc2_e2d6_11ea_8a01_8c85903d48d1row0_col2 {\n",
       "            background-color:  black;\n",
       "             color:  white;\n",
       "        }    #T_605c1cc2_e2d6_11ea_8a01_8c85903d48d1row0_col3 {\n",
       "            background-color:  black;\n",
       "             color:  white;\n",
       "        }    #T_605c1cc2_e2d6_11ea_8a01_8c85903d48d1row0_col4 {\n",
       "            background-color:  black;\n",
       "             color:  white;\n",
       "            width:  10em;\n",
       "             height:  80%;\n",
       "            background:  linear-gradient(90deg,orange 100.0%, transparent 100.0%);\n",
       "        }    #T_605c1cc2_e2d6_11ea_8a01_8c85903d48d1row1_col0 {\n",
       "            background-color:  black;\n",
       "             color:  white;\n",
       "        }    #T_605c1cc2_e2d6_11ea_8a01_8c85903d48d1row1_col1 {\n",
       "            background-color:  black;\n",
       "             color:  white;\n",
       "        }    #T_605c1cc2_e2d6_11ea_8a01_8c85903d48d1row1_col2 {\n",
       "            background-color:  black;\n",
       "             color:  white;\n",
       "        }    #T_605c1cc2_e2d6_11ea_8a01_8c85903d48d1row1_col3 {\n",
       "            background-color:  black;\n",
       "             color:  white;\n",
       "        }    #T_605c1cc2_e2d6_11ea_8a01_8c85903d48d1row1_col4 {\n",
       "            background-color:  black;\n",
       "             color:  white;\n",
       "            width:  10em;\n",
       "             height:  80%;\n",
       "            background:  linear-gradient(90deg,orange 91.3%, transparent 91.3%);\n",
       "        }    #T_605c1cc2_e2d6_11ea_8a01_8c85903d48d1row2_col0 {\n",
       "            background-color:  yellow;\n",
       "             color:  black;\n",
       "        }    #T_605c1cc2_e2d6_11ea_8a01_8c85903d48d1row2_col1 {\n",
       "            background-color:  yellow;\n",
       "             color:  black;\n",
       "        }    #T_605c1cc2_e2d6_11ea_8a01_8c85903d48d1row2_col2 {\n",
       "            background-color:  yellow;\n",
       "             color:  black;\n",
       "        }    #T_605c1cc2_e2d6_11ea_8a01_8c85903d48d1row2_col3 {\n",
       "            background-color:  yellow;\n",
       "             color:  black;\n",
       "        }    #T_605c1cc2_e2d6_11ea_8a01_8c85903d48d1row2_col4 {\n",
       "            background-color:  yellow;\n",
       "             color:  black;\n",
       "            width:  10em;\n",
       "             height:  80%;\n",
       "            background:  linear-gradient(90deg,orange 35.3%, transparent 35.3%);\n",
       "        }    #T_605c1cc2_e2d6_11ea_8a01_8c85903d48d1row3_col0 {\n",
       "            background-color:  black;\n",
       "             color:  white;\n",
       "        }    #T_605c1cc2_e2d6_11ea_8a01_8c85903d48d1row3_col1 {\n",
       "            background-color:  black;\n",
       "             color:  white;\n",
       "        }    #T_605c1cc2_e2d6_11ea_8a01_8c85903d48d1row3_col2 {\n",
       "            background-color:  black;\n",
       "             color:  white;\n",
       "        }    #T_605c1cc2_e2d6_11ea_8a01_8c85903d48d1row3_col3 {\n",
       "            background-color:  black;\n",
       "             color:  white;\n",
       "        }    #T_605c1cc2_e2d6_11ea_8a01_8c85903d48d1row3_col4 {\n",
       "            background-color:  black;\n",
       "             color:  white;\n",
       "            width:  10em;\n",
       "             height:  80%;\n",
       "            background:  linear-gradient(90deg,orange 35.2%, transparent 35.2%);\n",
       "        }    #T_605c1cc2_e2d6_11ea_8a01_8c85903d48d1row4_col0 {\n",
       "            background-color:  black;\n",
       "             color:  white;\n",
       "        }    #T_605c1cc2_e2d6_11ea_8a01_8c85903d48d1row4_col1 {\n",
       "            background-color:  black;\n",
       "             color:  white;\n",
       "        }    #T_605c1cc2_e2d6_11ea_8a01_8c85903d48d1row4_col2 {\n",
       "            background-color:  black;\n",
       "             color:  white;\n",
       "        }    #T_605c1cc2_e2d6_11ea_8a01_8c85903d48d1row4_col3 {\n",
       "            background-color:  black;\n",
       "             color:  white;\n",
       "        }    #T_605c1cc2_e2d6_11ea_8a01_8c85903d48d1row4_col4 {\n",
       "            background-color:  black;\n",
       "             color:  white;\n",
       "            width:  10em;\n",
       "             height:  80%;\n",
       "            background:  linear-gradient(90deg,orange 29.7%, transparent 29.7%);\n",
       "        }    #T_605c1cc2_e2d6_11ea_8a01_8c85903d48d1row5_col0 {\n",
       "            background-color:  black;\n",
       "             color:  white;\n",
       "        }    #T_605c1cc2_e2d6_11ea_8a01_8c85903d48d1row5_col1 {\n",
       "            background-color:  black;\n",
       "             color:  white;\n",
       "        }    #T_605c1cc2_e2d6_11ea_8a01_8c85903d48d1row5_col2 {\n",
       "            background-color:  black;\n",
       "             color:  white;\n",
       "        }    #T_605c1cc2_e2d6_11ea_8a01_8c85903d48d1row5_col3 {\n",
       "            background-color:  black;\n",
       "             color:  white;\n",
       "        }    #T_605c1cc2_e2d6_11ea_8a01_8c85903d48d1row5_col4 {\n",
       "            background-color:  black;\n",
       "             color:  white;\n",
       "            width:  10em;\n",
       "             height:  80%;\n",
       "            background:  linear-gradient(90deg,orange 26.4%, transparent 26.4%);\n",
       "        }    #T_605c1cc2_e2d6_11ea_8a01_8c85903d48d1row6_col0 {\n",
       "            background-color:  yellow;\n",
       "             color:  black;\n",
       "        }    #T_605c1cc2_e2d6_11ea_8a01_8c85903d48d1row6_col1 {\n",
       "            background-color:  yellow;\n",
       "             color:  black;\n",
       "        }    #T_605c1cc2_e2d6_11ea_8a01_8c85903d48d1row6_col2 {\n",
       "            background-color:  yellow;\n",
       "             color:  black;\n",
       "        }    #T_605c1cc2_e2d6_11ea_8a01_8c85903d48d1row6_col3 {\n",
       "            background-color:  yellow;\n",
       "             color:  black;\n",
       "        }    #T_605c1cc2_e2d6_11ea_8a01_8c85903d48d1row6_col4 {\n",
       "            background-color:  yellow;\n",
       "             color:  black;\n",
       "            width:  10em;\n",
       "             height:  80%;\n",
       "            background:  linear-gradient(90deg,orange 23.2%, transparent 23.2%);\n",
       "        }    #T_605c1cc2_e2d6_11ea_8a01_8c85903d48d1row7_col0 {\n",
       "            background-color:  black;\n",
       "             color:  white;\n",
       "        }    #T_605c1cc2_e2d6_11ea_8a01_8c85903d48d1row7_col1 {\n",
       "            background-color:  black;\n",
       "             color:  white;\n",
       "        }    #T_605c1cc2_e2d6_11ea_8a01_8c85903d48d1row7_col2 {\n",
       "            background-color:  black;\n",
       "             color:  white;\n",
       "        }    #T_605c1cc2_e2d6_11ea_8a01_8c85903d48d1row7_col3 {\n",
       "            background-color:  black;\n",
       "             color:  white;\n",
       "        }    #T_605c1cc2_e2d6_11ea_8a01_8c85903d48d1row7_col4 {\n",
       "            background-color:  black;\n",
       "             color:  white;\n",
       "            width:  10em;\n",
       "             height:  80%;\n",
       "            background:  linear-gradient(90deg,orange 22.5%, transparent 22.5%);\n",
       "        }    #T_605c1cc2_e2d6_11ea_8a01_8c85903d48d1row8_col0 {\n",
       "            background-color:  black;\n",
       "             color:  white;\n",
       "        }    #T_605c1cc2_e2d6_11ea_8a01_8c85903d48d1row8_col1 {\n",
       "            background-color:  black;\n",
       "             color:  white;\n",
       "        }    #T_605c1cc2_e2d6_11ea_8a01_8c85903d48d1row8_col2 {\n",
       "            background-color:  black;\n",
       "             color:  white;\n",
       "        }    #T_605c1cc2_e2d6_11ea_8a01_8c85903d48d1row8_col3 {\n",
       "            background-color:  black;\n",
       "             color:  white;\n",
       "        }    #T_605c1cc2_e2d6_11ea_8a01_8c85903d48d1row8_col4 {\n",
       "            background-color:  black;\n",
       "             color:  white;\n",
       "            width:  10em;\n",
       "             height:  80%;\n",
       "            background:  linear-gradient(90deg,orange 14.7%, transparent 14.7%);\n",
       "        }    #T_605c1cc2_e2d6_11ea_8a01_8c85903d48d1row9_col0 {\n",
       "            background-color:  black;\n",
       "             color:  white;\n",
       "        }    #T_605c1cc2_e2d6_11ea_8a01_8c85903d48d1row9_col1 {\n",
       "            background-color:  black;\n",
       "             color:  white;\n",
       "        }    #T_605c1cc2_e2d6_11ea_8a01_8c85903d48d1row9_col2 {\n",
       "            background-color:  black;\n",
       "             color:  white;\n",
       "        }    #T_605c1cc2_e2d6_11ea_8a01_8c85903d48d1row9_col3 {\n",
       "            background-color:  black;\n",
       "             color:  white;\n",
       "        }    #T_605c1cc2_e2d6_11ea_8a01_8c85903d48d1row9_col4 {\n",
       "            background-color:  black;\n",
       "             color:  white;\n",
       "            width:  10em;\n",
       "             height:  80%;\n",
       "            background:  linear-gradient(90deg,orange 13.8%, transparent 13.8%);\n",
       "        }    #T_605c1cc2_e2d6_11ea_8a01_8c85903d48d1row10_col0 {\n",
       "            background-color:  black;\n",
       "             color:  white;\n",
       "        }    #T_605c1cc2_e2d6_11ea_8a01_8c85903d48d1row10_col1 {\n",
       "            background-color:  black;\n",
       "             color:  white;\n",
       "        }    #T_605c1cc2_e2d6_11ea_8a01_8c85903d48d1row10_col2 {\n",
       "            background-color:  black;\n",
       "             color:  white;\n",
       "        }    #T_605c1cc2_e2d6_11ea_8a01_8c85903d48d1row10_col3 {\n",
       "            background-color:  black;\n",
       "             color:  white;\n",
       "        }    #T_605c1cc2_e2d6_11ea_8a01_8c85903d48d1row10_col4 {\n",
       "            background-color:  black;\n",
       "             color:  white;\n",
       "            width:  10em;\n",
       "             height:  80%;\n",
       "            background:  linear-gradient(90deg,orange 2.7%, transparent 2.7%);\n",
       "        }    #T_605c1cc2_e2d6_11ea_8a01_8c85903d48d1row11_col0 {\n",
       "            background-color:  lightgreen;\n",
       "             color:  black;\n",
       "        }    #T_605c1cc2_e2d6_11ea_8a01_8c85903d48d1row11_col1 {\n",
       "            background-color:  lightgreen;\n",
       "             color:  black;\n",
       "        }    #T_605c1cc2_e2d6_11ea_8a01_8c85903d48d1row11_col2 {\n",
       "            background-color:  lightgreen;\n",
       "             color:  black;\n",
       "        }    #T_605c1cc2_e2d6_11ea_8a01_8c85903d48d1row11_col3 {\n",
       "            background-color:  lightgreen;\n",
       "             color:  black;\n",
       "        }    #T_605c1cc2_e2d6_11ea_8a01_8c85903d48d1row11_col4 {\n",
       "            background-color:  lightgreen;\n",
       "             color:  black;\n",
       "            width:  10em;\n",
       "             height:  80%;\n",
       "        }</style><table id=\"T_605c1cc2_e2d6_11ea_8a01_8c85903d48d1\" ><thead>    <tr>        <th class=\"blank level0\" ></th>        <th class=\"col_heading level0 col0\" >label</th>        <th class=\"col_heading level0 col1\" >level</th>        <th class=\"col_heading level0 col2\" >starting_clues</th>        <th class=\"col_heading level0 col3\" >backtracking</th>        <th class=\"col_heading level0 col4\" >constraintpropogation</th>    </tr></thead><tbody>\n",
       "                <tr>\n",
       "                        <th id=\"T_605c1cc2_e2d6_11ea_8a01_8c85903d48d1level0_row0\" class=\"row_heading level0 row0\" >46</th>\n",
       "                        <td id=\"T_605c1cc2_e2d6_11ea_8a01_8c85903d48d1row0_col0\" class=\"data row0 col0\" >data/top95.txt:28</td>\n",
       "                        <td id=\"T_605c1cc2_e2d6_11ea_8a01_8c85903d48d1row0_col1\" class=\"data row0 col1\" >Diabolical</td>\n",
       "                        <td id=\"T_605c1cc2_e2d6_11ea_8a01_8c85903d48d1row0_col2\" class=\"data row0 col2\" >17</td>\n",
       "                        <td id=\"T_605c1cc2_e2d6_11ea_8a01_8c85903d48d1row0_col3\" class=\"data row0 col3\" >17.600</td>\n",
       "                        <td id=\"T_605c1cc2_e2d6_11ea_8a01_8c85903d48d1row0_col4\" class=\"data row0 col4\" >12.728</td>\n",
       "            </tr>\n",
       "            <tr>\n",
       "                        <th id=\"T_605c1cc2_e2d6_11ea_8a01_8c85903d48d1level0_row1\" class=\"row_heading level0 row1\" >36</th>\n",
       "                        <td id=\"T_605c1cc2_e2d6_11ea_8a01_8c85903d48d1row1_col0\" class=\"data row1 col0\" >data/top95.txt:18</td>\n",
       "                        <td id=\"T_605c1cc2_e2d6_11ea_8a01_8c85903d48d1row1_col1\" class=\"data row1 col1\" >Diabolical</td>\n",
       "                        <td id=\"T_605c1cc2_e2d6_11ea_8a01_8c85903d48d1row1_col2\" class=\"data row1 col2\" >17</td>\n",
       "                        <td id=\"T_605c1cc2_e2d6_11ea_8a01_8c85903d48d1row1_col3\" class=\"data row1 col3\" >56.110</td>\n",
       "                        <td id=\"T_605c1cc2_e2d6_11ea_8a01_8c85903d48d1row1_col4\" class=\"data row1 col4\" >11.702</td>\n",
       "            </tr>\n",
       "            <tr>\n",
       "                        <th id=\"T_605c1cc2_e2d6_11ea_8a01_8c85903d48d1level0_row2\" class=\"row_heading level0 row2\" >25</th>\n",
       "                        <td id=\"T_605c1cc2_e2d6_11ea_8a01_8c85903d48d1row2_col0\" class=\"data row2 col0\" >data/top95.txt:7</td>\n",
       "                        <td id=\"T_605c1cc2_e2d6_11ea_8a01_8c85903d48d1row2_col1\" class=\"data row2 col1\" >Diabolical</td>\n",
       "                        <td id=\"T_605c1cc2_e2d6_11ea_8a01_8c85903d48d1row2_col2\" class=\"data row2 col2\" >17</td>\n",
       "                        <td id=\"T_605c1cc2_e2d6_11ea_8a01_8c85903d48d1row2_col3\" class=\"data row2 col3\" >1.689</td>\n",
       "                        <td id=\"T_605c1cc2_e2d6_11ea_8a01_8c85903d48d1row2_col4\" class=\"data row2 col4\" >5.066</td>\n",
       "            </tr>\n",
       "            <tr>\n",
       "                        <th id=\"T_605c1cc2_e2d6_11ea_8a01_8c85903d48d1level0_row3\" class=\"row_heading level0 row3\" >59</th>\n",
       "                        <td id=\"T_605c1cc2_e2d6_11ea_8a01_8c85903d48d1row3_col0\" class=\"data row3 col0\" >data/top95.txt:41</td>\n",
       "                        <td id=\"T_605c1cc2_e2d6_11ea_8a01_8c85903d48d1row3_col1\" class=\"data row3 col1\" >Diabolical</td>\n",
       "                        <td id=\"T_605c1cc2_e2d6_11ea_8a01_8c85903d48d1row3_col2\" class=\"data row3 col2\" >17</td>\n",
       "                        <td id=\"T_605c1cc2_e2d6_11ea_8a01_8c85903d48d1row3_col3\" class=\"data row3 col3\" >1173.680</td>\n",
       "                        <td id=\"T_605c1cc2_e2d6_11ea_8a01_8c85903d48d1row3_col4\" class=\"data row3 col4\" >5.052</td>\n",
       "            </tr>\n",
       "            <tr>\n",
       "                        <th id=\"T_605c1cc2_e2d6_11ea_8a01_8c85903d48d1level0_row4\" class=\"row_heading level0 row4\" >39</th>\n",
       "                        <td id=\"T_605c1cc2_e2d6_11ea_8a01_8c85903d48d1row4_col0\" class=\"data row4 col0\" >data/top95.txt:21</td>\n",
       "                        <td id=\"T_605c1cc2_e2d6_11ea_8a01_8c85903d48d1row4_col1\" class=\"data row4 col1\" >Diabolical</td>\n",
       "                        <td id=\"T_605c1cc2_e2d6_11ea_8a01_8c85903d48d1row4_col2\" class=\"data row4 col2\" >17</td>\n",
       "                        <td id=\"T_605c1cc2_e2d6_11ea_8a01_8c85903d48d1row4_col3\" class=\"data row4 col3\" >42.158</td>\n",
       "                        <td id=\"T_605c1cc2_e2d6_11ea_8a01_8c85903d48d1row4_col4\" class=\"data row4 col4\" >4.399</td>\n",
       "            </tr>\n",
       "            <tr>\n",
       "                        <th id=\"T_605c1cc2_e2d6_11ea_8a01_8c85903d48d1level0_row5\" class=\"row_heading level0 row5\" >26</th>\n",
       "                        <td id=\"T_605c1cc2_e2d6_11ea_8a01_8c85903d48d1row5_col0\" class=\"data row5 col0\" >data/top95.txt:8</td>\n",
       "                        <td id=\"T_605c1cc2_e2d6_11ea_8a01_8c85903d48d1row5_col1\" class=\"data row5 col1\" >Diabolical</td>\n",
       "                        <td id=\"T_605c1cc2_e2d6_11ea_8a01_8c85903d48d1row5_col2\" class=\"data row5 col2\" >17</td>\n",
       "                        <td id=\"T_605c1cc2_e2d6_11ea_8a01_8c85903d48d1row5_col3\" class=\"data row5 col3\" >113.170</td>\n",
       "                        <td id=\"T_605c1cc2_e2d6_11ea_8a01_8c85903d48d1row5_col4\" class=\"data row5 col4\" >4.012</td>\n",
       "            </tr>\n",
       "            <tr>\n",
       "                        <th id=\"T_605c1cc2_e2d6_11ea_8a01_8c85903d48d1level0_row6\" class=\"row_heading level0 row6\" >27</th>\n",
       "                        <td id=\"T_605c1cc2_e2d6_11ea_8a01_8c85903d48d1row6_col0\" class=\"data row6 col0\" >data/top95.txt:9</td>\n",
       "                        <td id=\"T_605c1cc2_e2d6_11ea_8a01_8c85903d48d1row6_col1\" class=\"data row6 col1\" >Diabolical</td>\n",
       "                        <td id=\"T_605c1cc2_e2d6_11ea_8a01_8c85903d48d1row6_col2\" class=\"data row6 col2\" >17</td>\n",
       "                        <td id=\"T_605c1cc2_e2d6_11ea_8a01_8c85903d48d1row6_col3\" class=\"data row6 col3\" >1.691</td>\n",
       "                        <td id=\"T_605c1cc2_e2d6_11ea_8a01_8c85903d48d1row6_col4\" class=\"data row6 col4\" >3.630</td>\n",
       "            </tr>\n",
       "            <tr>\n",
       "                        <th id=\"T_605c1cc2_e2d6_11ea_8a01_8c85903d48d1level0_row7\" class=\"row_heading level0 row7\" >28</th>\n",
       "                        <td id=\"T_605c1cc2_e2d6_11ea_8a01_8c85903d48d1row7_col0\" class=\"data row7 col0\" >data/top95.txt:10</td>\n",
       "                        <td id=\"T_605c1cc2_e2d6_11ea_8a01_8c85903d48d1row7_col1\" class=\"data row7 col1\" >Diabolical</td>\n",
       "                        <td id=\"T_605c1cc2_e2d6_11ea_8a01_8c85903d48d1row7_col2\" class=\"data row7 col2\" >17</td>\n",
       "                        <td id=\"T_605c1cc2_e2d6_11ea_8a01_8c85903d48d1row7_col3\" class=\"data row7 col3\" >107.888</td>\n",
       "                        <td id=\"T_605c1cc2_e2d6_11ea_8a01_8c85903d48d1row7_col4\" class=\"data row7 col4\" >3.551</td>\n",
       "            </tr>\n",
       "            <tr>\n",
       "                        <th id=\"T_605c1cc2_e2d6_11ea_8a01_8c85903d48d1level0_row8\" class=\"row_heading level0 row8\" >89</th>\n",
       "                        <td id=\"T_605c1cc2_e2d6_11ea_8a01_8c85903d48d1row8_col0\" class=\"data row8 col0\" >data/top95.txt:71</td>\n",
       "                        <td id=\"T_605c1cc2_e2d6_11ea_8a01_8c85903d48d1row8_col1\" class=\"data row8 col1\" >Diabolical</td>\n",
       "                        <td id=\"T_605c1cc2_e2d6_11ea_8a01_8c85903d48d1row8_col2\" class=\"data row8 col2\" >17</td>\n",
       "                        <td id=\"T_605c1cc2_e2d6_11ea_8a01_8c85903d48d1row8_col3\" class=\"data row8 col3\" >203.557</td>\n",
       "                        <td id=\"T_605c1cc2_e2d6_11ea_8a01_8c85903d48d1row8_col4\" class=\"data row8 col4\" >2.622</td>\n",
       "            </tr>\n",
       "            <tr>\n",
       "                        <th id=\"T_605c1cc2_e2d6_11ea_8a01_8c85903d48d1level0_row9\" class=\"row_heading level0 row9\" >23</th>\n",
       "                        <td id=\"T_605c1cc2_e2d6_11ea_8a01_8c85903d48d1row9_col0\" class=\"data row9 col0\" >data/top95.txt:5</td>\n",
       "                        <td id=\"T_605c1cc2_e2d6_11ea_8a01_8c85903d48d1row9_col1\" class=\"data row9 col1\" >Diabolical</td>\n",
       "                        <td id=\"T_605c1cc2_e2d6_11ea_8a01_8c85903d48d1row9_col2\" class=\"data row9 col2\" >17</td>\n",
       "                        <td id=\"T_605c1cc2_e2d6_11ea_8a01_8c85903d48d1row9_col3\" class=\"data row9 col3\" >796.919</td>\n",
       "                        <td id=\"T_605c1cc2_e2d6_11ea_8a01_8c85903d48d1row9_col4\" class=\"data row9 col4\" >2.526</td>\n",
       "            </tr>\n",
       "            <tr>\n",
       "                        <th id=\"T_605c1cc2_e2d6_11ea_8a01_8c85903d48d1level0_row10\" class=\"row_heading level0 row10\" >64</th>\n",
       "                        <td id=\"T_605c1cc2_e2d6_11ea_8a01_8c85903d48d1row10_col0\" class=\"data row10 col0\" >data/top95.txt:46</td>\n",
       "                        <td id=\"T_605c1cc2_e2d6_11ea_8a01_8c85903d48d1row10_col1\" class=\"data row10 col1\" >Diabolical</td>\n",
       "                        <td id=\"T_605c1cc2_e2d6_11ea_8a01_8c85903d48d1row10_col2\" class=\"data row10 col2\" >17</td>\n",
       "                        <td id=\"T_605c1cc2_e2d6_11ea_8a01_8c85903d48d1row10_col3\" class=\"data row10 col3\" >46.742</td>\n",
       "                        <td id=\"T_605c1cc2_e2d6_11ea_8a01_8c85903d48d1row10_col4\" class=\"data row10 col4\" >1.201</td>\n",
       "            </tr>\n",
       "            <tr>\n",
       "                        <th id=\"T_605c1cc2_e2d6_11ea_8a01_8c85903d48d1level0_row11\" class=\"row_heading level0 row11\" >29</th>\n",
       "                        <td id=\"T_605c1cc2_e2d6_11ea_8a01_8c85903d48d1row11_col0\" class=\"data row11 col0\" >data/top95.txt:11</td>\n",
       "                        <td id=\"T_605c1cc2_e2d6_11ea_8a01_8c85903d48d1row11_col1\" class=\"data row11 col1\" >Diabolical</td>\n",
       "                        <td id=\"T_605c1cc2_e2d6_11ea_8a01_8c85903d48d1row11_col2\" class=\"data row11 col2\" >17</td>\n",
       "                        <td id=\"T_605c1cc2_e2d6_11ea_8a01_8c85903d48d1row11_col3\" class=\"data row11 col3\" >36.773</td>\n",
       "                        <td id=\"T_605c1cc2_e2d6_11ea_8a01_8c85903d48d1row11_col4\" class=\"data row11 col4\" >0.887</td>\n",
       "            </tr>\n",
       "    </tbody></table>"
      ],
      "text/plain": [
       "<pandas.io.formats.style.Styler at 0x121381190>"
      ]
     },
     "execution_count": 13,
     "metadata": {},
     "output_type": "execute_result"
    }
   ],
   "source": [
    "def highlight_where_backtracking_faster(s):\n",
    "    if s.constraintpropogation > s.backtracking:\n",
    "        return ['background-color: yellow; color: black'] * 5\n",
    "    elif s.constraintpropogation < 1.0:\n",
    "        return ['background-color: lightgreen; color: black'] * 5\n",
    "    else:\n",
    "        return ['background-color: black; color: white'] * 5\n",
    "\n",
    "ndf = df.sort_values(by=method, ascending=False).head(n=12)\n",
    "ndf.style.apply(highlight_where_backtracking_faster, axis=1).bar(subset=[method], color='orange').format({method: \"{:.3f}\", 'backtracking': '{:.3f}'})\n"
   ]
  },
  {
   "cell_type": "markdown",
   "metadata": {},
   "source": [
    "Interesting points:\n",
    "\n",
    "* Puzzles 7 and 9 (highlighted yellow) actually take longer to solve with the constraint propogation solution than simple backtracking\n",
    "* Puzzles 21 and 46 look like good candidates for looking at closer, because the backtracking time isn't so long that we can't wait for profiler output if we want to compare profiles\n",
    "* Puzzle 42 looks like a good place to start though: < ~1 second (highlighted green)\n",
    "\n",
    "So let's look at Puzzle 42 (answer to the Ultimate Question?), using the built in Jupyet profiler tools. First though, a quick check that the total time matches up. According to original testing performance, this should take ~8 microseconds (ms).\n"
   ]
  },
  {
   "cell_type": "code",
   "execution_count": 14,
   "metadata": {},
   "outputs": [
    {
     "name": "stdout",
     "output_type": "stream",
     "text": [
      "CPU times: user 800 ms, sys: 7.03 ms, total: 807 ms\n",
      "Wall time: 842 ms\n"
     ]
    },
    {
     "data": {
      "text/plain": [
       "True"
      ]
     },
     "execution_count": 14,
     "metadata": {},
     "output_type": "execute_result"
    }
   ],
   "source": [
    "puzzle42 = '......8.16..2........7.5......6...2..1....3...8.......2......7..3..8....5...4....'\n",
    "puzzle.init_puzzle(puzzle42)\n",
    "solver = su.SudokuSolver(method=method)\n",
    "%time solver.solve(puzzle)"
   ]
  },
  {
   "cell_type": "markdown",
   "metadata": {},
   "source": [
    "That looks OK. So reset the puzzle and profile below. The profiler itself adds some overhead so this takes slightly longer (~1.2 seconds)."
   ]
  },
  {
   "cell_type": "code",
   "execution_count": 15,
   "metadata": {},
   "outputs": [
    {
     "name": "stdout",
     "output_type": "stream",
     "text": [
      " "
     ]
    },
    {
     "data": {
      "text/plain": [
       "         2059320 function calls (2030330 primitive calls) in 1.189 seconds\n",
       "\n",
       "   Ordered by: internal time\n",
       "\n",
       "   ncalls  tottime  percall  cumtime  percall filename:lineno(function)\n",
       "   398932    0.370    0.000    0.666    0.000 sudoku.py:96(get_allowed_values)\n",
       "    57980    0.245    0.000    0.844    0.000 puzzlegrid.py:256(next_best_empty_cell)\n",
       "   398932    0.193    0.000    0.193    0.000 puzzlegrid.py:293(get_allowed_values)\n",
       "   456848    0.118    0.000    0.118    0.000 sudoku.py:48(box_xy_to_num)\n",
       "  28991/1    0.074    0.000    1.189    1.189 sudoku.py:211(solve_constraintpropogation)\n",
       "    28990    0.037    0.000    0.102    0.000 puzzlegrid.py:173(set)\n",
       "    28926    0.031    0.000    0.072    0.000 sudoku.py:69(clear)\n",
       "    28990    0.030    0.000    0.143    0.000 sudoku.py:56(set)\n",
       "    28926    0.025    0.000    0.031    0.000 puzzlegrid.py:202(clear)\n",
       "   341006    0.023    0.000    0.023    0.000 {built-in method builtins.len}\n",
       "    28990    0.015    0.000    0.059    0.000 puzzlegrid.py:305(is_allowed_value)\n",
       "    86970    0.009    0.000    0.009    0.000 {method 'remove' of 'set' objects}\n",
       "    86778    0.009    0.000    0.009    0.000 {method 'add' of 'set' objects}\n",
       "    28990    0.007    0.000    0.844    0.000 {built-in method builtins.next}\n",
       "    28992    0.004    0.000    0.004    0.000 puzzlegrid.py:159(num_empty_cells)\n",
       "        1    0.000    0.000    1.189    1.189 {built-in method builtins.exec}\n",
       "        1    0.000    0.000    0.000    0.000 puzzlegrid.py:317(is_puzzle_valid)\n",
       "        1    0.000    0.000    0.000    0.000 sudoku.py:107(is_puzzle_valid)\n",
       "        9    0.000    0.000    0.000    0.000 sudoku.py:84(get_box_values)\n",
       "        9    0.000    0.000    0.000    0.000 puzzlegrid.py:291(<listcomp>)\n",
       "        9    0.000    0.000    0.000    0.000 puzzlegrid.py:284(<listcomp>)\n",
       "        9    0.000    0.000    0.000    0.000 sudoku.py:91(<listcomp>)\n",
       "        9    0.000    0.000    0.000    0.000 sudoku.py:94(<listcomp>)\n",
       "        9    0.000    0.000    0.000    0.000 sudoku.py:36(box_num_to_xy)\n",
       "        1    0.000    0.000    1.189    1.189 sudoku.py:178(solve)\n",
       "        9    0.000    0.000    0.000    0.000 puzzlegrid.py:279(get_row_values)\n",
       "        9    0.000    0.000    0.000    0.000 puzzlegrid.py:286(get_column_values)\n",
       "        1    0.000    0.000    0.000    0.000 puzzlegrid.py:340(is_solved)\n",
       "        1    0.000    0.000    1.189    1.189 <string>:1(<module>)\n",
       "        1    0.000    0.000    0.000    0.000 {method 'disable' of '_lsprof.Profiler' objects}"
      ]
     },
     "metadata": {},
     "output_type": "display_data"
    }
   ],
   "source": [
    "puzzle.init_puzzle(puzzle42)\n",
    "s = su.SudokuSolver(method=method)\n",
    "%prun s.solve(puzzle)"
   ]
  },
  {
   "cell_type": "markdown",
   "metadata": {},
   "source": [
    "Notes:\n",
    "\n",
    "* 399K calls to `get_allowed_values`. The first entry is in [sudoku.py](sudoku.py#line_88), which gets the allowed values for the box, then calls the same method in the [parent class](puzzlegrid.py#line_321) to return the intersection of allowed cells in that row, column and box.\n",
    "* Recurses into `solve_constraintpropogation` 29K times.\n",
    "\n",
    "Compare the performance of #42 to #46. Expect #46 to take ~2.5 seconds."
   ]
  },
  {
   "cell_type": "code",
   "execution_count": 16,
   "metadata": {},
   "outputs": [
    {
     "name": "stdout",
     "output_type": "stream",
     "text": [
      "CPU times: user 247 ms, sys: 3.37 ms, total: 250 ms\n",
      "Wall time: 256 ms\n"
     ]
    },
    {
     "data": {
      "text/plain": [
       "True"
      ]
     },
     "execution_count": 16,
     "metadata": {},
     "output_type": "execute_result"
    }
   ],
   "source": [
    "puzzle46 = '.834.........7..5...........4.1.8..........27...3.....2.6.5....5.....8........1..'\n",
    "puzzle.init_puzzle(puzzle46)\n",
    "solver = su.SudokuSolver(method=method)\n",
    "%time solver.solve(puzzle)"
   ]
  },
  {
   "cell_type": "markdown",
   "metadata": {},
   "source": [
    "OK, this is weird. That was supposed to take ~2.5 seconds and instead finished in ~0.3 seconds. Let's run it again...and again. And this time we'll output some of the stats collected by the solver itself:\n",
    "\n",
    "* Max Depth: The deepest stack-depth the recursion reached\n",
    "* Backtracks: The number of \"mistakes\" made by the algorithm that resulted in it backtracking to a prior state\n"
   ]
  },
  {
   "cell_type": "code",
   "execution_count": 17,
   "metadata": {},
   "outputs": [
    {
     "name": "stdout",
     "output_type": "stream",
     "text": [
      "RUN 0\n",
      "CPU times: user 2.65 s, sys: 18.2 ms, total: 2.66 s\n",
      "Wall time: 2.73 s\n",
      "Max Depth=63; Backtracks=105917\n",
      "\n",
      "RUN 1\n",
      "CPU times: user 2.55 s, sys: 7.63 ms, total: 2.56 s\n",
      "Wall time: 2.59 s\n",
      "Max Depth=63; Backtracks=105917\n",
      "\n",
      "RUN 2\n",
      "CPU times: user 226 ms, sys: 765 µs, total: 227 ms\n",
      "Wall time: 229 ms\n",
      "Max Depth=63; Backtracks=8766\n",
      "\n",
      "RUN 3\n",
      "CPU times: user 252 ms, sys: 1.97 ms, total: 254 ms\n",
      "Wall time: 260 ms\n",
      "Max Depth=63; Backtracks=8766\n",
      "\n",
      "RUN 4\n",
      "CPU times: user 224 ms, sys: 747 µs, total: 225 ms\n",
      "Wall time: 225 ms\n",
      "Max Depth=63; Backtracks=8766\n",
      "\n"
     ]
    }
   ],
   "source": [
    "puzzle = su.SudokuPuzzle()\n",
    "solver = su.SudokuSolver(method=method)\n",
    "for i in range(5):\n",
    "    print(f\"RUN {i}\")\n",
    "    puzzle.init_puzzle(starting_grid=puzzle46)\n",
    "    assert(not puzzle.is_solved())\n",
    "    %time solver.solve(puzzle)\n",
    "    print(f\"Max Depth={solver.max_depth}; Backtracks={solver.backtrack_count}\\n\")"
   ]
  },
  {
   "cell_type": "markdown",
   "metadata": {},
   "source": [
    "In testing, the first two usually take ~2.5 seconds, and the last 3 take ~220 ms. Even though it's exactly the same puzzle being solved by exactly the same algorithm.\n",
    "\n",
    "Difference is caused by the return order of the set of allowed values. Since the values are returned in a set, the order of the set members is not guaranteed to be consistent. When the order is slightly different, then the backtracking can take dramatically different search paths, with consequent impacts on run time. You can see this in the `Backtracks` reported (105K vs 88K).\n",
    "\n",
    "In this specific case, one of the cells has allowed values (1, 9). If \"1\" is chosen then the solution takes 2.5 seconds to find. However if the \"9\" is chosen, then the search takes ~220 ms. \n",
    "\n",
    "If I modify the algorithm to always sort the allowed values then the performance time is always consistent. Otherwise there's a certain amount of randmomness to it.\n",
    "\n",
    "The other change is to recreate the `puzzle` instance each time. When I do that, the performance remains consistent, because the set order remains consistent. Not sure why that is.\n"
   ]
  },
  {
   "cell_type": "markdown",
   "metadata": {},
   "source": [
    "# Next Steps\n",
    "\n",
    "Still to do:\n",
    "\n",
    "* Not sure if the change in set ordering happens when running tests in `PuzzleTester` -- should check and see if that impacts results (I get an average but what's the stddev?)\n",
    "* Could force the set ordering to be deterministic and test with different preferred sort orders. Expect to find the same range of performance times, even as times for individual puzzles might vary.\n",
    "\n",
    "On that first point: I changed the code so that I get the expected behaviour. The method `run_single_test` was creating a new `SudokuPuzzle` instance each and every time it was called. I changed it to re-use the same instance and can now observe the variation. Not sure if that's really desireable or not.\n"
   ]
  },
  {
   "cell_type": "code",
   "execution_count": 18,
   "metadata": {},
   "outputs": [],
   "source": [
    "newpt = pg.PuzzleTester(puzzle_class=su.SudokuPuzzle, test_samples=10)\n",
    "newcases = [x for x in pg.from_file(\"data/top95.txt\", level=\"Diabolical\") if x['label'] == 'data/top95.txt:46']\n",
    "newpt.add_testcases(newcases)\n",
    "newpt.num_testcases()"
   ]
  },
  {
   "cell_type": "code",
   "execution_count": 18,
   "metadata": {},
   "outputs": [
    {
     "data": {
      "text/html": [
       "<progress style=\"width: 100%\" max=1 value=1>1 out of 1</progress>"
      ],
      "text/plain": [
       "<IPython.core.display.HTML object>"
      ]
     },
     "metadata": {},
     "output_type": "display_data"
    },
    {
     "data": {
      "text/html": [
       "<p>Completed in 7.59 seconds</p>"
      ],
      "text/plain": [
       "<IPython.core.display.HTML object>"
      ]
     },
     "metadata": {},
     "output_type": "display_data"
    },
    {
     "data": {
      "text/html": [
       "<div>\n",
       "<style scoped>\n",
       "    .dataframe tbody tr th:only-of-type {\n",
       "        vertical-align: middle;\n",
       "    }\n",
       "\n",
       "    .dataframe tbody tr th {\n",
       "        vertical-align: top;\n",
       "    }\n",
       "\n",
       "    .dataframe thead th {\n",
       "        text-align: right;\n",
       "    }\n",
       "</style>\n",
       "<table border=\"1\" class=\"dataframe\">\n",
       "  <thead>\n",
       "    <tr style=\"text-align: right;\">\n",
       "      <th></th>\n",
       "      <th>label</th>\n",
       "      <th>level</th>\n",
       "      <th>starting_clues</th>\n",
       "      <th>constraintpropogation</th>\n",
       "    </tr>\n",
       "  </thead>\n",
       "  <tbody>\n",
       "    <tr>\n",
       "      <th>0</th>\n",
       "      <td>data/top95.txt:46</td>\n",
       "      <td>Diabolical</td>\n",
       "      <td>17</td>\n",
       "      <td>0.7591</td>\n",
       "    </tr>\n",
       "  </tbody>\n",
       "</table>\n",
       "</div>"
      ],
      "text/plain": [
       "               label       level  starting_clues  constraintpropogation\n",
       "0  data/top95.txt:46  Diabolical              17                 0.7591"
      ]
     },
     "execution_count": 18,
     "metadata": {},
     "output_type": "execute_result"
    }
   ],
   "source": [
    "method = 'constraintpropogation'\n",
    "solver = su.SudokuSolver(method=method)\n",
    "newpt.run_tests(solver, method, callback=update_progress)\n",
    "newdf = pd.DataFrame(newpt.get_test_results())\n",
    "newdf"
   ]
  },
  {
   "cell_type": "markdown",
   "metadata": {},
   "source": [
    "# Just for Fun: Cheating\n",
    "\n",
    "Occurred to me that the way I've designed the puzzle and solver classes opens the way to having a \"cheating\" solver. Basically a solver that over-writes the puzzle with a pre-programmed sequence of numbers that obey the rules but do not match the original puzzle clues.\n",
    "\n",
    "So just for fun let's see how easy that is to do and how I could improve the puzzle class to detect and block attempts to \"cheat\".\n"
   ]
  },
  {
   "cell_type": "code",
   "execution_count": 19,
   "metadata": {},
   "outputs": [
    {
     "data": {
      "text/plain": [
       "True"
      ]
     },
     "execution_count": 19,
     "metadata": {},
     "output_type": "execute_result"
    }
   ],
   "source": [
    "class CheatingSolver(pg.ConstraintSolver):\n",
    "    def solve(self, puzzle):\n",
    "        \"\"\"Easiest way to cheat would be to trick the is_solved() method on the puzzle to always returning True\"\"\"\n",
    "        puzzle._num_empty_cells = 0\n",
    "        return True\n",
    "\n",
    "puzzle = su.SudokuPuzzle(starting_grid=su.SAMPLE_PUZZLES[0]['puzzle'])\n",
    "solver = CheatingSolver()\n",
    "solver.solve(puzzle)\n",
    "puzzle.is_solved()"
   ]
  },
  {
   "cell_type": "markdown",
   "metadata": {},
   "source": [
    "Gah. That was *too* easy. So maybe instead we should at least make sure that `is_solved()` does a cell-by-cell check to see that all values are really filled in."
   ]
  },
  {
   "cell_type": "code",
   "execution_count": 20,
   "metadata": {},
   "outputs": [
    {
     "data": {
      "text/plain": [
       "True"
      ]
     },
     "execution_count": 20,
     "metadata": {},
     "output_type": "execute_result"
    }
   ],
   "source": [
    "class AntiCheatSudoku(su.SudokuPuzzle):\n",
    "    def is_solved(self):\n",
    "        if self.is_puzzle_valid():\n",
    "            for i in range(self.max_value()):\n",
    "                for j in range(self.max_value()):\n",
    "                    if self.is_empty(i, j):\n",
    "                        return False\n",
    "            return True\n",
    "        else:\n",
    "            return False\n",
    "    \n",
    "puzzle = AntiCheatSudoku(starting_grid=su.SAMPLE_PUZZLES[0]['puzzle'])\n",
    "solver = CheatingSolver()\n",
    "solver.solve(puzzle)"
   ]
  },
  {
   "cell_type": "code",
   "execution_count": 21,
   "metadata": {},
   "outputs": [
    {
     "data": {
      "text/plain": [
       "False"
      ]
     },
     "execution_count": 21,
     "metadata": {},
     "output_type": "execute_result"
    }
   ],
   "source": [
    "puzzle.is_solved()"
   ]
  },
  {
   "cell_type": "markdown",
   "metadata": {},
   "source": [
    "A little better -- the puzzle instance at least knows it is not solved, even though the \"solver\" reported that it was. So all we'd need to do now is make sure our test harness noticed the discrepency and threw away such results."
   ]
  },
  {
   "cell_type": "code",
   "execution_count": 26,
   "metadata": {},
   "outputs": [
    {
     "data": {
      "text/plain": [
       "5"
      ]
     },
     "execution_count": 26,
     "metadata": {},
     "output_type": "execute_result"
    }
   ],
   "source": [
    "pt._puzzle_class=AntiCheatSudoku\n",
    "method = 'cheating'\n",
    "solver = CheatingSolver()\n",
    "pt.run_tests(solver, method)"
   ]
  },
  {
   "cell_type": "code",
   "execution_count": 27,
   "metadata": {},
   "outputs": [
    {
     "data": {
      "text/html": [
       "<div>\n",
       "<style scoped>\n",
       "    .dataframe tbody tr th:only-of-type {\n",
       "        vertical-align: middle;\n",
       "    }\n",
       "\n",
       "    .dataframe tbody tr th {\n",
       "        vertical-align: top;\n",
       "    }\n",
       "\n",
       "    .dataframe thead th {\n",
       "        text-align: right;\n",
       "    }\n",
       "</style>\n",
       "<table border=\"1\" class=\"dataframe\">\n",
       "  <thead>\n",
       "    <tr style=\"text-align: right;\">\n",
       "      <th></th>\n",
       "      <th>label</th>\n",
       "      <th>level</th>\n",
       "      <th>starting_clues</th>\n",
       "      <th>backtracking</th>\n",
       "      <th>cheating</th>\n",
       "    </tr>\n",
       "  </thead>\n",
       "  <tbody>\n",
       "    <tr>\n",
       "      <th>0</th>\n",
       "      <td>SMH 1</td>\n",
       "      <td>Kids</td>\n",
       "      <td>31</td>\n",
       "      <td>0.0044</td>\n",
       "      <td>None</td>\n",
       "    </tr>\n",
       "    <tr>\n",
       "      <th>1</th>\n",
       "      <td>SMH 2</td>\n",
       "      <td>Easy</td>\n",
       "      <td>24</td>\n",
       "      <td>0.2050</td>\n",
       "      <td>None</td>\n",
       "    </tr>\n",
       "    <tr>\n",
       "      <th>2</th>\n",
       "      <td>KTH 1</td>\n",
       "      <td>Easy</td>\n",
       "      <td>30</td>\n",
       "      <td>0.0183</td>\n",
       "      <td>None</td>\n",
       "    </tr>\n",
       "    <tr>\n",
       "      <th>3</th>\n",
       "      <td>Rico Alan Heart</td>\n",
       "      <td>Easy</td>\n",
       "      <td>22</td>\n",
       "      <td>0.0809</td>\n",
       "      <td>None</td>\n",
       "    </tr>\n",
       "    <tr>\n",
       "      <th>4</th>\n",
       "      <td>SMH 3</td>\n",
       "      <td>Moderate</td>\n",
       "      <td>26</td>\n",
       "      <td>0.0876</td>\n",
       "      <td>None</td>\n",
       "    </tr>\n",
       "  </tbody>\n",
       "</table>\n",
       "</div>"
      ],
      "text/plain": [
       "             label     level  starting_clues  backtracking cheating\n",
       "0            SMH 1      Kids              31        0.0044     None\n",
       "1            SMH 2      Easy              24        0.2050     None\n",
       "2            KTH 1      Easy              30        0.0183     None\n",
       "3  Rico Alan Heart      Easy              22        0.0809     None\n",
       "4            SMH 3  Moderate              26        0.0876     None"
      ]
     },
     "execution_count": 27,
     "metadata": {},
     "output_type": "execute_result"
    }
   ],
   "source": [
    "df = pd.DataFrame(pt.get_test_results())\n",
    "df"
   ]
  },
  {
   "cell_type": "markdown",
   "metadata": {},
   "source": [
    "So I had to change `PuzzleTester` class to check the return value of `run_single_test` (which returns the value of `puzzle.is_solved()`) so at least if the puzzle asserts that it is NOT solved then no result is recorded for the solver.\n",
    "\n",
    "## Cheating Attempt #2\n",
    "\n",
    "So since our really simple cheater no longer works I guess we'll need a more sophisticated version. We could just fill in the blank cells with \"1\" (or any other value) but then the `is_puzzle_valid` check would fail, at which point we may as well solve it properly. Let's just verify that that's true...\n"
   ]
  },
  {
   "cell_type": "code",
   "execution_count": 28,
   "metadata": {},
   "outputs": [],
   "source": [
    "class CheatingSolver(pg.ConstraintSolver):\n",
    "    def solve(self, puzzle):\n",
    "        \"\"\"Write some random value into empty cells\"\"\"\n",
    "        for i in range(puzzle.max_value()):\n",
    "            for j in range(puzzle.max_value()):\n",
    "                if puzzle.is_empty(i, j):\n",
    "                    # can't use set() because it checks validity!\n",
    "                    puzzle._grid[i][j] = 1\n",
    "        puzzle._num_empty_cells = 0\n",
    "        return True"
   ]
  },
  {
   "cell_type": "code",
   "execution_count": 29,
   "metadata": {},
   "outputs": [
    {
     "data": {
      "text/plain": [
       "False"
      ]
     },
     "execution_count": 29,
     "metadata": {},
     "output_type": "execute_result"
    }
   ],
   "source": [
    "puzzle = AntiCheatSudoku(starting_grid=su.SAMPLE_PUZZLES[0]['puzzle'])\n",
    "solver = CheatingSolver()\n",
    "solver.solve(puzzle)\n",
    "puzzle.is_solved()"
   ]
  },
  {
   "cell_type": "markdown",
   "metadata": {},
   "source": [
    "Correct! And that's because the puzzle isn't valid, right?"
   ]
  },
  {
   "cell_type": "code",
   "execution_count": 30,
   "metadata": {},
   "outputs": [
    {
     "data": {
      "text/plain": [
       "False"
      ]
     },
     "execution_count": 30,
     "metadata": {},
     "output_type": "execute_result"
    }
   ],
   "source": [
    "puzzle.is_puzzle_valid()"
   ]
  },
  {
   "cell_type": "markdown",
   "metadata": {},
   "source": [
    "Excellent! \n",
    "\n",
    "So maybe what our cheat needs to do is overwrite *all* cells in a rule-abiding way. We won't be actually solving the original puzzle. Basically, we're just writing a \"pre-solved\" puzzle over the top."
   ]
  },
  {
   "cell_type": "code",
   "execution_count": 31,
   "metadata": {},
   "outputs": [],
   "source": [
    "class CheatingSolver(pg.ConstraintSolver):\n",
    "    def solve(self, puzzle):\n",
    "        \"\"\"Write a pre-solved puzzle in over the top of the provided one\"\"\"\n",
    "        starting_values = [0, 3, 6, 1, 4, 7, 2, 5, 8]\n",
    "        max_value = puzzle.max_value()\n",
    "        puzzle.clear_all()\n",
    "        for i in range(max_value):\n",
    "            for j in range(max_value):\n",
    "                #print(i, j, (starting_values[i] + j) % max_value + 1)\n",
    "                puzzle.set(i, j, (starting_values[i] + j) % max_value + 1)\n",
    "        return True"
   ]
  },
  {
   "cell_type": "code",
   "execution_count": 32,
   "metadata": {},
   "outputs": [
    {
     "data": {
      "text/plain": [
       "True"
      ]
     },
     "execution_count": 32,
     "metadata": {},
     "output_type": "execute_result"
    }
   ],
   "source": [
    "puzzle = AntiCheatSudoku(starting_grid=su.SAMPLE_PUZZLES[0]['puzzle'])\n",
    "solver = CheatingSolver()\n",
    "solver.solve(puzzle)\n",
    "puzzle.is_solved()"
   ]
  },
  {
   "cell_type": "markdown",
   "metadata": {},
   "source": [
    "The whole point of this is to be faster than a real solver, so let's test performance."
   ]
  },
  {
   "cell_type": "code",
   "execution_count": 34,
   "metadata": {},
   "outputs": [
    {
     "data": {
      "text/html": [
       "<div>\n",
       "<style scoped>\n",
       "    .dataframe tbody tr th:only-of-type {\n",
       "        vertical-align: middle;\n",
       "    }\n",
       "\n",
       "    .dataframe tbody tr th {\n",
       "        vertical-align: top;\n",
       "    }\n",
       "\n",
       "    .dataframe thead th {\n",
       "        text-align: right;\n",
       "    }\n",
       "</style>\n",
       "<table border=\"1\" class=\"dataframe\">\n",
       "  <thead>\n",
       "    <tr style=\"text-align: right;\">\n",
       "      <th></th>\n",
       "      <th>label</th>\n",
       "      <th>level</th>\n",
       "      <th>starting_clues</th>\n",
       "      <th>backtracking</th>\n",
       "      <th>cheating</th>\n",
       "      <th>overwrite</th>\n",
       "    </tr>\n",
       "  </thead>\n",
       "  <tbody>\n",
       "    <tr>\n",
       "      <th>0</th>\n",
       "      <td>SMH 1</td>\n",
       "      <td>Kids</td>\n",
       "      <td>31</td>\n",
       "      <td>0.0044</td>\n",
       "      <td>None</td>\n",
       "      <td>0.0008</td>\n",
       "    </tr>\n",
       "    <tr>\n",
       "      <th>1</th>\n",
       "      <td>SMH 2</td>\n",
       "      <td>Easy</td>\n",
       "      <td>24</td>\n",
       "      <td>0.2050</td>\n",
       "      <td>None</td>\n",
       "      <td>0.0008</td>\n",
       "    </tr>\n",
       "    <tr>\n",
       "      <th>2</th>\n",
       "      <td>KTH 1</td>\n",
       "      <td>Easy</td>\n",
       "      <td>30</td>\n",
       "      <td>0.0183</td>\n",
       "      <td>None</td>\n",
       "      <td>0.0007</td>\n",
       "    </tr>\n",
       "    <tr>\n",
       "      <th>3</th>\n",
       "      <td>Rico Alan Heart</td>\n",
       "      <td>Easy</td>\n",
       "      <td>22</td>\n",
       "      <td>0.0809</td>\n",
       "      <td>None</td>\n",
       "      <td>0.0006</td>\n",
       "    </tr>\n",
       "    <tr>\n",
       "      <th>4</th>\n",
       "      <td>SMH 3</td>\n",
       "      <td>Moderate</td>\n",
       "      <td>26</td>\n",
       "      <td>0.0876</td>\n",
       "      <td>None</td>\n",
       "      <td>0.0010</td>\n",
       "    </tr>\n",
       "  </tbody>\n",
       "</table>\n",
       "</div>"
      ],
      "text/plain": [
       "             label     level  starting_clues  backtracking cheating  overwrite\n",
       "0            SMH 1      Kids              31        0.0044     None     0.0008\n",
       "1            SMH 2      Easy              24        0.2050     None     0.0008\n",
       "2            KTH 1      Easy              30        0.0183     None     0.0007\n",
       "3  Rico Alan Heart      Easy              22        0.0809     None     0.0006\n",
       "4            SMH 3  Moderate              26        0.0876     None     0.0010"
      ]
     },
     "execution_count": 34,
     "metadata": {},
     "output_type": "execute_result"
    }
   ],
   "source": [
    "method = 'overwrite'\n",
    "pt.run_tests(solver, method)\n",
    "df = pd.DataFrame(pt.get_test_results())\n",
    "df"
   ]
  },
  {
   "cell_type": "markdown",
   "metadata": {},
   "source": [
    "## Catching Cheat #2\n",
    "\n",
    "To prevent the new cheat we basically need to compare the puzzle with a copy of the original. That way we can detect that the starting clues have been over written.\n",
    "\n",
    "We can't do this in the `SudokuPuzzle` itself. Python doesn't really have `private` attributes, [just a naming convention](https://docs.python.org/3/tutorial/classes.html#tut-private) that signals \"hey, you're not supposed to muck around with this\", but we've already seen that we can pretty much ignore that and modify the class's internals. And since we're trying to guard against cheating we can assume an attacker will happily ignore convention.\n",
    "\n",
    "If we assume that the caller (test harness) can be trusted then we can let the caller verify that the original puzzle is OK. We'll just need a function that confirms if the starting clues in one puzzle also exist in the second.\n"
   ]
  },
  {
   "cell_type": "code",
   "execution_count": 35,
   "metadata": {},
   "outputs": [],
   "source": [
    "def has_same_clues(a, b):\n",
    "    \"\"\"Returns true if the non empty cells in a have the same value in b\"\"\"\n",
    "    if a.max_value() != b.max_value():\n",
    "        return False\n",
    "    \n",
    "    for i in range(a.max_value()):\n",
    "        for j in range(a.max_value()):\n",
    "            if not a.is_empty(i, j) and a.get(i, j) != b.get(i, j):\n",
    "                return False\n",
    "    return True"
   ]
  },
  {
   "cell_type": "code",
   "execution_count": 38,
   "metadata": {},
   "outputs": [
    {
     "data": {
      "text/plain": [
       "True"
      ]
     },
     "execution_count": 38,
     "metadata": {},
     "output_type": "execute_result"
    }
   ],
   "source": [
    "puzzle = AntiCheatSudoku(starting_grid=su.SAMPLE_PUZZLES[0]['puzzle'])\n",
    "original = copy.deepcopy(puzzle)\n",
    "has_same_clues(original, puzzle)"
   ]
  },
  {
   "cell_type": "code",
   "execution_count": 39,
   "metadata": {},
   "outputs": [
    {
     "data": {
      "text/plain": [
       "True"
      ]
     },
     "execution_count": 39,
     "metadata": {},
     "output_type": "execute_result"
    }
   ],
   "source": [
    "solver.solve(puzzle)\n",
    "puzzle.is_solved()"
   ]
  },
  {
   "cell_type": "code",
   "execution_count": 40,
   "metadata": {},
   "outputs": [
    {
     "data": {
      "text/plain": [
       "False"
      ]
     },
     "execution_count": 40,
     "metadata": {},
     "output_type": "execute_result"
    }
   ],
   "source": [
    "has_same_clues(original, puzzle)"
   ]
  },
  {
   "cell_type": "markdown",
   "metadata": {},
   "source": [
    "Putting it all together, let's ~~monkey patch~~ override the test harness instance and make sure it throws away test results if the solver has cheated."
   ]
  },
  {
   "cell_type": "code",
   "execution_count": 46,
   "metadata": {},
   "outputs": [
    {
     "data": {
      "text/plain": [
       "5"
      ]
     },
     "execution_count": 46,
     "metadata": {},
     "output_type": "execute_result"
    }
   ],
   "source": [
    "class AntiCheatTester(pg.PuzzleTester):\n",
    "    def run_single_test(self, test_case, puzzle, solver):\n",
    "            \"\"\"Checks that the solver has really solved the puzzle\"\"\"\n",
    "            puzzle.init_puzzle(test_case['puzzle'])\n",
    "            original = copy.deepcopy(puzzle)\n",
    "            solver.solve(puzzle)\n",
    "            if has_same_clues(original, puzzle):\n",
    "                self._last_was_solved = puzzle.is_solved()\n",
    "            else:\n",
    "                self._last_was_solved = False\n",
    "            return self._last_was_solved\n",
    "    \n",
    "newpt = AntiCheatTester(puzzle_class=AntiCheatSudoku, test_samples=NUM_SAMPLES)\n",
    "newpt.add_testcases(test_cases)\n",
    "newpt.num_testcases()"
   ]
  },
  {
   "cell_type": "code",
   "execution_count": 48,
   "metadata": {},
   "outputs": [
    {
     "data": {
      "text/html": [
       "<div>\n",
       "<style scoped>\n",
       "    .dataframe tbody tr th:only-of-type {\n",
       "        vertical-align: middle;\n",
       "    }\n",
       "\n",
       "    .dataframe tbody tr th {\n",
       "        vertical-align: top;\n",
       "    }\n",
       "\n",
       "    .dataframe thead th {\n",
       "        text-align: right;\n",
       "    }\n",
       "</style>\n",
       "<table border=\"1\" class=\"dataframe\">\n",
       "  <thead>\n",
       "    <tr style=\"text-align: right;\">\n",
       "      <th></th>\n",
       "      <th>label</th>\n",
       "      <th>level</th>\n",
       "      <th>starting_clues</th>\n",
       "      <th>overwrite</th>\n",
       "    </tr>\n",
       "  </thead>\n",
       "  <tbody>\n",
       "    <tr>\n",
       "      <th>0</th>\n",
       "      <td>SMH 1</td>\n",
       "      <td>Kids</td>\n",
       "      <td>31</td>\n",
       "      <td>None</td>\n",
       "    </tr>\n",
       "    <tr>\n",
       "      <th>1</th>\n",
       "      <td>SMH 2</td>\n",
       "      <td>Easy</td>\n",
       "      <td>24</td>\n",
       "      <td>None</td>\n",
       "    </tr>\n",
       "    <tr>\n",
       "      <th>2</th>\n",
       "      <td>KTH 1</td>\n",
       "      <td>Easy</td>\n",
       "      <td>30</td>\n",
       "      <td>None</td>\n",
       "    </tr>\n",
       "    <tr>\n",
       "      <th>3</th>\n",
       "      <td>Rico Alan Heart</td>\n",
       "      <td>Easy</td>\n",
       "      <td>22</td>\n",
       "      <td>None</td>\n",
       "    </tr>\n",
       "    <tr>\n",
       "      <th>4</th>\n",
       "      <td>SMH 3</td>\n",
       "      <td>Moderate</td>\n",
       "      <td>26</td>\n",
       "      <td>None</td>\n",
       "    </tr>\n",
       "  </tbody>\n",
       "</table>\n",
       "</div>"
      ],
      "text/plain": [
       "             label     level  starting_clues overwrite\n",
       "0            SMH 1      Kids              31      None\n",
       "1            SMH 2      Easy              24      None\n",
       "2            KTH 1      Easy              30      None\n",
       "3  Rico Alan Heart      Easy              22      None\n",
       "4            SMH 3  Moderate              26      None"
      ]
     },
     "execution_count": 48,
     "metadata": {},
     "output_type": "execute_result"
    }
   ],
   "source": [
    "newpt.run_tests(solver, method)\n",
    "df = pd.DataFrame(newpt.get_test_results())\n",
    "df"
   ]
  },
  {
   "cell_type": "markdown",
   "metadata": {},
   "source": [
    "OK! Our cheating solver has had no results recorded for it, because the answer it gives does not match the starting clues!\n",
    "\n",
    "There are probably ways to defeat these checks, particularly in a language like Python where \"monkey patching\" is a thing and everything is dynamic. That might be a fun way to learn more about the internals of Python, but for now I'm declaring this \"done\" and moving on to the next puzzle..."
   ]
  },
  {
   "cell_type": "markdown",
   "metadata": {},
   "source": [
    "# Appendix\n",
    "\n",
    "## Sources\n",
    "\n",
    "Part of this exercise was to learn Python and Jupyter skills while also solving a problem that I found interesting. So I've largely avoided reading other people's solutions to solving Sudoku. However from time to time I've gotten stuck or just been curious about something and found the below sources useful.\n",
    "\n",
    "* The \"Top 95\" and \"Hardest\" puzzle examples in the data directory come from [Solving Every Sudoku Puzzle (by Peter Norvig)](https://norvig.com/sudoku.html)\n",
    "* [Sudoku solving algorithms](https://en.wikipedia.org/wiki/Sudoku_solving_algorithms) -- links to some sample puzzles (on Flickr of all places). Found via the [Wikipedia article on Sudoku solving algorithms](https://en.wikipedia.org/wiki/Sudoku_solving_algorithms).\n",
    "* [AI Sudoku](http://www.aisudoku.com/index_en.html) -- collection of really hard puzzles.\n",
    "* The [sudoku.py](sudoku.py) class has URLs to where I found some of the sample puzzles. I've attempted to use labels for them that credit the source, although it's not always clear where the original puzzle came from.\n",
    "* Also used examples from [Simple sudoku solver using constraint propagation](https://gpicavet.github.io/jekyll/update/2017/12/16/sudoku-solver.html) (Grégory Picavet's Blog).\n",
    "\n",
    "\n",
    "## Table formatting\n",
    "\n",
    "Snippet below inserts some CSS to make the table look more like a Sudoku puzzle grid.\n"
   ]
  },
  {
   "cell_type": "code",
   "execution_count": 6,
   "metadata": {},
   "outputs": [
    {
     "data": {
      "text/html": [
       "\n",
       "<style type=\"text/css\">\n",
       ".sudoku table {\n",
       "    border: 3px solid red;\n",
       "}\n",
       "\n",
       ".sudoku td {\n",
       "    width: 40px;\n",
       "    height: 40px;\n",
       "    border: 1px solid #F00;\n",
       "    text-align: center;\n",
       "}\n",
       "\n",
       ".sudoku td:nth-of-type(3n) {    \n",
       "    border-right: 3px solid red;\n",
       "}\n",
       "\n",
       ".sudoku tr:nth-of-type(3n) td {    \n",
       "    border-bottom: 3px solid red;\n",
       "}\n",
       "\n",
       ".sudoku-solved table {\n",
       "    border: 3px solid green;\n",
       "}\n",
       "\n",
       ".sudoku-solved td {\n",
       "    border: 1pm solid green;\n",
       "}\n",
       "\n",
       ".sudoku-solved td:nth-of-type(3n) {    \n",
       "    border-right: 3px solid green;\n",
       "}\n",
       "\n",
       ".sudoku-solved tr:nth-of-type(3n) td {    \n",
       "    border-bottom: 3px solid green;\n",
       "}\n",
       "\n",
       "</style>\n"
      ],
      "text/plain": [
       "<IPython.core.display.HTML object>"
      ]
     },
     "metadata": {},
     "output_type": "display_data"
    }
   ],
   "source": [
    "display(HTML('''\n",
    "<style type=\"text/css\">\n",
    ".sudoku table {\n",
    "    border: 3px solid red;\n",
    "}\n",
    "\n",
    ".sudoku td {\n",
    "    width: 40px;\n",
    "    height: 40px;\n",
    "    border: 1px solid #F00;\n",
    "    text-align: center;\n",
    "}\n",
    "\n",
    ".sudoku td:nth-of-type(3n) {    \n",
    "    border-right: 3px solid red;\n",
    "}\n",
    "\n",
    ".sudoku tr:nth-of-type(3n) td {    \n",
    "    border-bottom: 3px solid red;\n",
    "}\n",
    "\n",
    ".sudoku-solved table {\n",
    "    border: 3px solid green;\n",
    "}\n",
    "\n",
    ".sudoku-solved td {\n",
    "    border: 1pm solid green;\n",
    "}\n",
    "\n",
    ".sudoku-solved td:nth-of-type(3n) {    \n",
    "    border-right: 3px solid green;\n",
    "}\n",
    "\n",
    ".sudoku-solved tr:nth-of-type(3n) td {    \n",
    "    border-bottom: 3px solid green;\n",
    "}\n",
    "\n",
    "</style>\n",
    "'''))"
   ]
  },
  {
   "cell_type": "markdown",
   "metadata": {},
   "source": [
    "Scratch.txt\n",
    "\n",
    "#10: Rico Alan Border #1\n",
    "Greg: Solved in 3 ms, 59 tests, 0 backtracks\n",
    "Me: Solved in 3 ms\n",
    "\n",
    "#13: Rico Alan #3\n",
    "Greg: Invalid board!\n",
    "Me: Solved in 1.771 s\n",
    "\n",
    "#11: Rico Alan #4\n",
    "Greg: Solved in 30 ms, 5396 tests, 2371 backtracks\n",
    "Me: Solved in 26 ms\n",
    "\n",
    "#12: Qassim Hamza\n",
    "Greg: Solved in 15 ms\n",
    "Me: Solved in 59 ms\n",
    "\n",
    "#14: World's Hardest Sudoku 2012\n",
    "Greg: Solved in 21 ms\n",
    "Me: Solved in 30 ms\n",
    "\n",
    "#15: AI escargot\n",
    "Greg: Solved in 1 ms, 187 tests, 12 backtracks\n",
    "Me: Solved in 4 ms"
   ]
  }
 ],
 "metadata": {
  "kernelspec": {
   "display_name": "Python 3",
   "language": "python",
   "name": "python3"
  },
  "language_info": {
   "codemirror_mode": {
    "name": "ipython",
    "version": 3
   },
   "file_extension": ".py",
   "mimetype": "text/x-python",
   "name": "python",
   "nbconvert_exporter": "python",
   "pygments_lexer": "ipython3",
   "version": "3.7.4"
  }
 },
 "nbformat": 4,
 "nbformat_minor": 4
}
