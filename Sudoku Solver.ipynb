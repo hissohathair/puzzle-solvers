{
 "cells": [
  {
   "cell_type": "markdown",
   "metadata": {},
   "source": [
    "# Sudoku Solver (v3)\n",
    "\n",
    "Close to final form.\n",
    "\n",
    "Objectives:\n",
    "\n",
    "1. Assess effectiveness and performance against different test cases\n",
    " 1. Back tracking\n",
    " 2. Back tracking + constraint propogation\n",
    " 3. Deductive logic\n",
    " 4. Solution X or Dancing Links?\n",
    "3. Learn some more Pandas + Matplotlib (draw some pretty graphs)\n",
    "4. ~~Assess performance against other implementations~~\n"
   ]
  },
  {
   "cell_type": "markdown",
   "metadata": {},
   "source": [
    "## Supporting Packages\n",
    "\n",
    "**TODO**: Brief description of [sudoku](sudoku.py) and [puzzlegrid](puzzlegrid.py) libraries.\n"
   ]
  },
  {
   "cell_type": "code",
   "execution_count": 1,
   "metadata": {},
   "outputs": [],
   "source": [
    "import sudoku as su\n",
    "import puzzlegrid as pg"
   ]
  },
  {
   "cell_type": "markdown",
   "metadata": {},
   "source": [
    "**TODO**: Brief description of why we need the following"
   ]
  },
  {
   "cell_type": "code",
   "execution_count": 2,
   "metadata": {},
   "outputs": [],
   "source": [
    "import copy\n",
    "import pandas as pd\n",
    "import matplotlib.pyplot as plt\n",
    "from IPython.display import HTML, display, clear_output\n",
    "\n",
    "%matplotlib inline\n",
    "plt.rcParams[\"figure.figsize\"] = [12, 6]\n",
    "pd.set_option('precision', 3)"
   ]
  },
  {
   "cell_type": "markdown",
   "metadata": {},
   "source": [
    "## Help functions\n",
    "\n",
    "**TODO:** Print puzzles descriptions.\n"
   ]
  },
  {
   "cell_type": "code",
   "execution_count": 3,
   "metadata": {},
   "outputs": [],
   "source": [
    "def print_puzzle(puzzle):\n",
    "    display(HTML(puzzle.as_html()))\n",
    "\n",
    "def print_2_puzzles(puz1, puz2):\n",
    "    display(HTML('<table><tr><td>' + puz1.as_html() + '</td><td>' + puz2.as_html() + '</td></tr></table>'))\n",
    "\n",
    "def update_progress(label, current, total, time_so_far, test_case):\n",
    "    clear_output(wait=True)\n",
    "    display(HTML(f'<progress style=\"width: 100%\" max={total} value={current}>{current} out of {total}</progress>'))\n",
    "    if test_case:\n",
    "        display(HTML(f\"<p>Working on {label}: <i>{test_case['label']}</i>, total time so far {time_so_far:.2f} seconds</p>\"))\n",
    "    else:\n",
    "        display(HTML(f\"<p>Completed in {time_so_far:.2f} seconds</p>\"))\n",
    "    return"
   ]
  },
  {
   "cell_type": "markdown",
   "metadata": {},
   "source": [
    "## Example class usage\n",
    "\n",
    "Create a puzzle in `SudokuPuzzle` then use separate class `SudokuSolver`. Separation FTW.\n"
   ]
  },
  {
   "cell_type": "code",
   "execution_count": 4,
   "metadata": {},
   "outputs": [
    {
     "data": {
      "text/html": [
       "<table><tr><td><table class=\"sudoku\"><tr><td>8</td><td>9</td><td> </td><td>4</td><td> </td><td> </td><td> </td><td>5</td><td>6</td></tr><tr><td>1</td><td>4</td><td> </td><td>3</td><td>5</td><td> </td><td> </td><td>9</td><td> </td></tr><tr><td> </td><td> </td><td> </td><td> </td><td> </td><td> </td><td>8</td><td> </td><td> </td></tr><tr><td>9</td><td> </td><td> </td><td> </td><td> </td><td> </td><td>2</td><td> </td><td> </td></tr><tr><td> </td><td>8</td><td> </td><td>9</td><td>6</td><td>5</td><td> </td><td>4</td><td> </td></tr><tr><td> </td><td> </td><td>1</td><td> </td><td> </td><td> </td><td> </td><td> </td><td>5</td></tr><tr><td> </td><td> </td><td>8</td><td> </td><td> </td><td> </td><td> </td><td> </td><td> </td></tr><tr><td> </td><td>3</td><td> </td><td> </td><td>2</td><td>1</td><td> </td><td>7</td><td>8</td></tr><tr><td>4</td><td>2</td><td> </td><td> </td><td> </td><td>6</td><td> </td><td>1</td><td>3</td></tr></table></td><td><table class=\"sudoku sudoku-solved\"><tr><td>8</td><td>9</td><td>3</td><td>4</td><td>7</td><td>2</td><td>1</td><td>5</td><td>6</td></tr><tr><td>1</td><td>4</td><td>6</td><td>3</td><td>5</td><td>8</td><td>7</td><td>9</td><td>2</td></tr><tr><td>2</td><td>7</td><td>5</td><td>6</td><td>1</td><td>9</td><td>8</td><td>3</td><td>4</td></tr><tr><td>9</td><td>5</td><td>4</td><td>1</td><td>8</td><td>3</td><td>2</td><td>6</td><td>7</td></tr><tr><td>7</td><td>8</td><td>2</td><td>9</td><td>6</td><td>5</td><td>3</td><td>4</td><td>1</td></tr><tr><td>3</td><td>6</td><td>1</td><td>2</td><td>4</td><td>7</td><td>9</td><td>8</td><td>5</td></tr><tr><td>5</td><td>1</td><td>8</td><td>7</td><td>3</td><td>4</td><td>6</td><td>2</td><td>9</td></tr><tr><td>6</td><td>3</td><td>9</td><td>5</td><td>2</td><td>1</td><td>4</td><td>7</td><td>8</td></tr><tr><td>4</td><td>2</td><td>7</td><td>8</td><td>9</td><td>6</td><td>5</td><td>1</td><td>3</td></tr></table></td></tr></table>"
      ],
      "text/plain": [
       "<IPython.core.display.HTML object>"
      ]
     },
     "metadata": {},
     "output_type": "display_data"
    }
   ],
   "source": [
    "puzzle = su.SudokuPuzzle(starting_grid=su.SAMPLE_PUZZLES[0]['puzzle'])\n",
    "original = copy.deepcopy(puzzle)\n",
    "solver = su.SudokuSolver()\n",
    "solver.solve(puzzle)\n",
    "print_2_puzzles(original, puzzle)"
   ]
  },
  {
   "cell_type": "code",
   "execution_count": 5,
   "metadata": {},
   "outputs": [
    {
     "name": "stdout",
     "output_type": "stream",
     "text": [
      "49 204\n"
     ]
    }
   ],
   "source": [
    "print(solver.max_depth, solver.backtrack_count)"
   ]
  },
  {
   "cell_type": "markdown",
   "metadata": {},
   "source": [
    "# Sudoku Solution Strategies\n",
    "\n",
    "Running some timing tests. Using 2017 Macbook Pro (2.3 GHz Intel Core i5).\n",
    "\n",
    "## Backtracking\n",
    "\n",
    "**TODO:** Explanation of algorithm.\n",
    "\n",
    "### Evaluating Backtracking\n",
    "\n",
    "In test code below, limiting `include_levels` to `Kids`, `Easy`, and `Moderate` will complete the testing in ~1 second. On the other hand:\n",
    "\n",
    "* `Hard` extends the running time to ~9 seconds.\n",
    "* `Diabolical` takes ~5 minutes.\n",
    "* `Pathalogical` takes ~36 minutes.\n",
    "\n",
    "The time is due to the poor performance of the naive \"backtracking\" algorithm on some (but not all) puzzles. We're also solving each puzzle `NUM_SAMPLES` times (3 by default). We then average out the running times.\n",
    "\n"
   ]
  },
  {
   "cell_type": "code",
   "execution_count": 6,
   "metadata": {},
   "outputs": [],
   "source": [
    "include_levels = ['Kids', 'Easy', 'Moderate', 'Hard'] # ['Diabolical', 'Pathalogical']\n",
    "test_cases = [x for x in su.SAMPLE_PUZZLES if x['level'] in include_levels]\n",
    "\n",
    "NUM_SAMPLES=3"
   ]
  },
  {
   "cell_type": "markdown",
   "metadata": {},
   "source": [
    "Using the `PuzzleTester` class. Takes test cases and then runs Sudoku solvers against each one. The list `su.SOLVERS` contains the list of solving algorithms that the solver class supports. We'll start with `backtracking`."
   ]
  },
  {
   "cell_type": "code",
   "execution_count": 7,
   "metadata": {},
   "outputs": [
    {
     "data": {
      "text/html": [
       "<progress style=\"width: 100%\" max=8 value=8>8 out of 8</progress>"
      ],
      "text/plain": [
       "<IPython.core.display.HTML object>"
      ]
     },
     "metadata": {},
     "output_type": "display_data"
    },
    {
     "data": {
      "text/html": [
       "<p>Completed in 9.08 seconds</p>"
      ],
      "text/plain": [
       "<IPython.core.display.HTML object>"
      ]
     },
     "metadata": {},
     "output_type": "display_data"
    }
   ],
   "source": [
    "pt = pg.PuzzleTester(puzzle_class=su.SudokuPuzzle, test_samples=NUM_SAMPLES)\n",
    "pt.add_testcases(test_cases)\n",
    "\n",
    "method = 'backtracking'\n",
    "puzzle = su.SudokuPuzzle()\n",
    "solver = su.SudokuSolver(method=method)\n",
    "n = pt.run_tests(solver, method, callback=update_progress)"
   ]
  },
  {
   "cell_type": "markdown",
   "metadata": {},
   "source": [
    "Can see some results below. Sorted by time taken (longest first). Plain backtracking is always slower, and on some puzzles it's a huge difference. "
   ]
  },
  {
   "cell_type": "code",
   "execution_count": 8,
   "metadata": {},
   "outputs": [
    {
     "data": {
      "text/html": [
       "<div>\n",
       "<style scoped>\n",
       "    .dataframe tbody tr th:only-of-type {\n",
       "        vertical-align: middle;\n",
       "    }\n",
       "\n",
       "    .dataframe tbody tr th {\n",
       "        vertical-align: top;\n",
       "    }\n",
       "\n",
       "    .dataframe thead th {\n",
       "        text-align: right;\n",
       "    }\n",
       "</style>\n",
       "<table border=\"1\" class=\"dataframe\">\n",
       "  <thead>\n",
       "    <tr style=\"text-align: right;\">\n",
       "      <th></th>\n",
       "      <th>label</th>\n",
       "      <th>level</th>\n",
       "      <th>starting_clues</th>\n",
       "      <th>backtracking</th>\n",
       "    </tr>\n",
       "  </thead>\n",
       "  <tbody>\n",
       "    <tr>\n",
       "      <th>5</th>\n",
       "      <td>SMH 4</td>\n",
       "      <td>Hard</td>\n",
       "      <td>22</td>\n",
       "      <td>1.447</td>\n",
       "    </tr>\n",
       "    <tr>\n",
       "      <th>6</th>\n",
       "      <td>SMH 5</td>\n",
       "      <td>Hard</td>\n",
       "      <td>25</td>\n",
       "      <td>0.602</td>\n",
       "    </tr>\n",
       "    <tr>\n",
       "      <th>7</th>\n",
       "      <td>Greg [2017]</td>\n",
       "      <td>Hard</td>\n",
       "      <td>21</td>\n",
       "      <td>0.591</td>\n",
       "    </tr>\n",
       "    <tr>\n",
       "      <th>1</th>\n",
       "      <td>SMH 2</td>\n",
       "      <td>Easy</td>\n",
       "      <td>24</td>\n",
       "      <td>0.201</td>\n",
       "    </tr>\n",
       "    <tr>\n",
       "      <th>4</th>\n",
       "      <td>SMH 3</td>\n",
       "      <td>Moderate</td>\n",
       "      <td>26</td>\n",
       "      <td>0.085</td>\n",
       "    </tr>\n",
       "  </tbody>\n",
       "</table>\n",
       "</div>"
      ],
      "text/plain": [
       "         label     level  starting_clues  backtracking\n",
       "5        SMH 4      Hard              22         1.447\n",
       "6        SMH 5      Hard              25         0.602\n",
       "7  Greg [2017]      Hard              21         0.591\n",
       "1        SMH 2      Easy              24         0.201\n",
       "4        SMH 3  Moderate              26         0.085"
      ]
     },
     "execution_count": 8,
     "metadata": {},
     "output_type": "execute_result"
    }
   ],
   "source": [
    "df = pd.DataFrame(pt.get_test_results())\n",
    "df.sort_values(by=method, ascending=False).head(n=5)"
   ]
  },
  {
   "cell_type": "markdown",
   "metadata": {},
   "source": [
    "## Solving Harder Puzzles\n",
    "\n",
    "Add more test cases from [Peter Norvig](https://norvig.com/sudoku.html).\n",
    "\n",
    "If the test results file exists we'll use the results from earlier. Otherwise, this will re-run all the tests which took ~3.5 hours on my 2017 Macbook Pro (2.3 GHz Intel Core i5).\n"
   ]
  },
  {
   "cell_type": "code",
   "execution_count": 9,
   "metadata": {},
   "outputs": [],
   "source": [
    "import os.path\n",
    "\n",
    "TEST_RESULTS = \"sudoku_test_results.pkl\"\n",
    "if os.path.isfile(TEST_RESULTS):\n",
    "    df = pd.read_pickle(TEST_RESULTS)\n",
    "else:\n",
    "    pt.add_testcases(pg.from_file(\"data/hardest.txt\", level=\"Hard\"))\n",
    "    pt.add_testcases(pg.from_file(\"data/top95.txt\", level=\"Diabolical\"))\n",
    "    for m in su.SOLVERS:\n",
    "        solver = su.SudokuSolver(method=m)\n",
    "        pt.run_tests(solver, m, callback=update_progress)\n",
    "    df = pd.DataFrame(pt.get_test_results())\n",
    "    df.to_pickle(TEST_RESULTS)\n"
   ]
  },
  {
   "cell_type": "code",
   "execution_count": 10,
   "metadata": {},
   "outputs": [
    {
     "data": {
      "text/html": [
       "<div>\n",
       "<style scoped>\n",
       "    .dataframe tbody tr th:only-of-type {\n",
       "        vertical-align: middle;\n",
       "    }\n",
       "\n",
       "    .dataframe tbody tr th {\n",
       "        vertical-align: top;\n",
       "    }\n",
       "\n",
       "    .dataframe thead th {\n",
       "        text-align: right;\n",
       "    }\n",
       "</style>\n",
       "<table border=\"1\" class=\"dataframe\">\n",
       "  <thead>\n",
       "    <tr style=\"text-align: right;\">\n",
       "      <th></th>\n",
       "      <th>starting_clues</th>\n",
       "      <th>constraintpropogation</th>\n",
       "      <th>backtracking</th>\n",
       "    </tr>\n",
       "  </thead>\n",
       "  <tbody>\n",
       "    <tr>\n",
       "      <th>count</th>\n",
       "      <td>111.000</td>\n",
       "      <td>111.000</td>\n",
       "      <td>111.000</td>\n",
       "    </tr>\n",
       "    <tr>\n",
       "      <th>mean</th>\n",
       "      <td>21.225</td>\n",
       "      <td>0.641</td>\n",
       "      <td>35.553</td>\n",
       "    </tr>\n",
       "    <tr>\n",
       "      <th>std</th>\n",
       "      <td>3.502</td>\n",
       "      <td>1.889</td>\n",
       "      <td>138.756</td>\n",
       "    </tr>\n",
       "    <tr>\n",
       "      <th>min</th>\n",
       "      <td>17.000</td>\n",
       "      <td>0.001</td>\n",
       "      <td>0.003</td>\n",
       "    </tr>\n",
       "    <tr>\n",
       "      <th>25%</th>\n",
       "      <td>17.000</td>\n",
       "      <td>0.022</td>\n",
       "      <td>0.271</td>\n",
       "    </tr>\n",
       "    <tr>\n",
       "      <th>50%</th>\n",
       "      <td>22.000</td>\n",
       "      <td>0.073</td>\n",
       "      <td>2.155</td>\n",
       "    </tr>\n",
       "    <tr>\n",
       "      <th>75%</th>\n",
       "      <td>24.000</td>\n",
       "      <td>0.227</td>\n",
       "      <td>11.847</td>\n",
       "    </tr>\n",
       "    <tr>\n",
       "      <th>max</th>\n",
       "      <td>31.000</td>\n",
       "      <td>12.849</td>\n",
       "      <td>1181.453</td>\n",
       "    </tr>\n",
       "  </tbody>\n",
       "</table>\n",
       "</div>"
      ],
      "text/plain": [
       "       starting_clues  constraintpropogation  backtracking\n",
       "count         111.000                111.000       111.000\n",
       "mean           21.225                  0.641        35.553\n",
       "std             3.502                  1.889       138.756\n",
       "min            17.000                  0.001         0.003\n",
       "25%            17.000                  0.022         0.271\n",
       "50%            22.000                  0.073         2.155\n",
       "75%            24.000                  0.227        11.847\n",
       "max            31.000                 12.849      1181.453"
      ]
     },
     "execution_count": 10,
     "metadata": {},
     "output_type": "execute_result"
    }
   ],
   "source": [
    "df.describe()"
   ]
  },
  {
   "cell_type": "markdown",
   "metadata": {},
   "source": [
    "So, yeah. Backtracking alone is appalling. Look it.\n",
    "\n",
    "* 75% of the test cases are solved in ~0.2 seconds with the constraint propogation solution, but we need ~12 seconds using backtrackng alone.\n",
    "* Mean time is terrible for backtracking alone (~35 seconds). \n",
    "\n",
    "You can see the variability better with the following plot."
   ]
  },
  {
   "cell_type": "code",
   "execution_count": 11,
   "metadata": {},
   "outputs": [
    {
     "data": {
      "image/png": "[encoded data removed]",
      "text/plain": [
       "<Figure size 864x432 with 1 Axes>"
      ]
     },
     "metadata": {
      "needs_background": "light"
     },
     "output_type": "display_data"
    }
   ],
   "source": [
    "axs = df[su.SOLVERS].plot()"
   ]
  },
  {
   "cell_type": "markdown",
   "metadata": {},
   "source": [
    "So, at this point, going to stop testing with backtracking alone. But there are a few puzzles that seem to be particularly difficult for the constraint propogation solution, so let's look at those.\n",
    "\n",
    "## Constraint Propogation\n",
    "\n",
    "**TODO**: Explanation of CP.\n",
    "\n",
    "### Evaluating CP\n",
    "\n",
    "The majority of the test puzzles are solved in < ~ 0.2 seconds, however there are some that take longer, up to a maxiumum of 12 seconds.\n"
   ]
  },
  {
   "cell_type": "code",
   "execution_count": 12,
   "metadata": {},
   "outputs": [
    {
     "data": {
      "image/png": "[encoded data removed]",
      "text/plain": [
       "<Figure size 864x432 with 1 Axes>"
      ]
     },
     "metadata": {
      "needs_background": "light"
     },
     "output_type": "display_data"
    }
   ],
   "source": [
    "method = 'constraintpropogation'\n",
    "axs = df.sort_values(by=method)[[method]].plot(kind='bar')\n",
    "axs.xaxis.label.set_visible(False)\n",
    "axs.xaxis.set_ticks([])\n",
    "plt.show()"
   ]
  },
  {
   "cell_type": "markdown",
   "metadata": {},
   "source": [
    "Let's take a look at those puzzles that take so much longer to solve and see if we can work out what's happening there."
   ]
  },
  {
   "cell_type": "code",
   "execution_count": 13,
   "metadata": {},
   "outputs": [
    {
     "data": {
      "text/html": [
       "<style  type=\"text/css\" >\n",
       "    #T_4536d6a4_dfbf_11ea_a113_8c85903d48d1row0_col0 {\n",
       "            background-color:  black;\n",
       "             color:  white;\n",
       "        }    #T_4536d6a4_dfbf_11ea_a113_8c85903d48d1row0_col1 {\n",
       "            background-color:  black;\n",
       "             color:  white;\n",
       "        }    #T_4536d6a4_dfbf_11ea_a113_8c85903d48d1row0_col2 {\n",
       "            background-color:  black;\n",
       "             color:  white;\n",
       "        }    #T_4536d6a4_dfbf_11ea_a113_8c85903d48d1row0_col3 {\n",
       "            background-color:  black;\n",
       "             color:  white;\n",
       "            width:  10em;\n",
       "             height:  80%;\n",
       "            background:  linear-gradient(90deg,orange 100.0%, transparent 100.0%);\n",
       "        }    #T_4536d6a4_dfbf_11ea_a113_8c85903d48d1row0_col4 {\n",
       "            background-color:  black;\n",
       "             color:  white;\n",
       "        }    #T_4536d6a4_dfbf_11ea_a113_8c85903d48d1row1_col0 {\n",
       "            background-color:  black;\n",
       "             color:  white;\n",
       "        }    #T_4536d6a4_dfbf_11ea_a113_8c85903d48d1row1_col1 {\n",
       "            background-color:  black;\n",
       "             color:  white;\n",
       "        }    #T_4536d6a4_dfbf_11ea_a113_8c85903d48d1row1_col2 {\n",
       "            background-color:  black;\n",
       "             color:  white;\n",
       "        }    #T_4536d6a4_dfbf_11ea_a113_8c85903d48d1row1_col3 {\n",
       "            background-color:  black;\n",
       "             color:  white;\n",
       "            width:  10em;\n",
       "             height:  80%;\n",
       "            background:  linear-gradient(90deg,orange 90.6%, transparent 90.6%);\n",
       "        }    #T_4536d6a4_dfbf_11ea_a113_8c85903d48d1row1_col4 {\n",
       "            background-color:  black;\n",
       "             color:  white;\n",
       "        }    #T_4536d6a4_dfbf_11ea_a113_8c85903d48d1row2_col0 {\n",
       "            background-color:  black;\n",
       "             color:  white;\n",
       "        }    #T_4536d6a4_dfbf_11ea_a113_8c85903d48d1row2_col1 {\n",
       "            background-color:  black;\n",
       "             color:  white;\n",
       "        }    #T_4536d6a4_dfbf_11ea_a113_8c85903d48d1row2_col2 {\n",
       "            background-color:  black;\n",
       "             color:  white;\n",
       "        }    #T_4536d6a4_dfbf_11ea_a113_8c85903d48d1row2_col3 {\n",
       "            background-color:  black;\n",
       "             color:  white;\n",
       "            width:  10em;\n",
       "             height:  80%;\n",
       "            background:  linear-gradient(90deg,orange 35.4%, transparent 35.4%);\n",
       "        }    #T_4536d6a4_dfbf_11ea_a113_8c85903d48d1row2_col4 {\n",
       "            background-color:  black;\n",
       "             color:  white;\n",
       "        }    #T_4536d6a4_dfbf_11ea_a113_8c85903d48d1row3_col0 {\n",
       "            background-color:  yellow;\n",
       "             color:  black;\n",
       "        }    #T_4536d6a4_dfbf_11ea_a113_8c85903d48d1row3_col1 {\n",
       "            background-color:  yellow;\n",
       "             color:  black;\n",
       "        }    #T_4536d6a4_dfbf_11ea_a113_8c85903d48d1row3_col2 {\n",
       "            background-color:  yellow;\n",
       "             color:  black;\n",
       "        }    #T_4536d6a4_dfbf_11ea_a113_8c85903d48d1row3_col3 {\n",
       "            background-color:  yellow;\n",
       "             color:  black;\n",
       "            width:  10em;\n",
       "             height:  80%;\n",
       "            background:  linear-gradient(90deg,orange 35.1%, transparent 35.1%);\n",
       "        }    #T_4536d6a4_dfbf_11ea_a113_8c85903d48d1row3_col4 {\n",
       "            background-color:  yellow;\n",
       "             color:  black;\n",
       "        }    #T_4536d6a4_dfbf_11ea_a113_8c85903d48d1row4_col0 {\n",
       "            background-color:  black;\n",
       "             color:  white;\n",
       "        }    #T_4536d6a4_dfbf_11ea_a113_8c85903d48d1row4_col1 {\n",
       "            background-color:  black;\n",
       "             color:  white;\n",
       "        }    #T_4536d6a4_dfbf_11ea_a113_8c85903d48d1row4_col2 {\n",
       "            background-color:  black;\n",
       "             color:  white;\n",
       "        }    #T_4536d6a4_dfbf_11ea_a113_8c85903d48d1row4_col3 {\n",
       "            background-color:  black;\n",
       "             color:  white;\n",
       "            width:  10em;\n",
       "             height:  80%;\n",
       "            background:  linear-gradient(90deg,orange 30.1%, transparent 30.1%);\n",
       "        }    #T_4536d6a4_dfbf_11ea_a113_8c85903d48d1row4_col4 {\n",
       "            background-color:  black;\n",
       "             color:  white;\n",
       "        }    #T_4536d6a4_dfbf_11ea_a113_8c85903d48d1row5_col0 {\n",
       "            background-color:  black;\n",
       "             color:  white;\n",
       "        }    #T_4536d6a4_dfbf_11ea_a113_8c85903d48d1row5_col1 {\n",
       "            background-color:  black;\n",
       "             color:  white;\n",
       "        }    #T_4536d6a4_dfbf_11ea_a113_8c85903d48d1row5_col2 {\n",
       "            background-color:  black;\n",
       "             color:  white;\n",
       "        }    #T_4536d6a4_dfbf_11ea_a113_8c85903d48d1row5_col3 {\n",
       "            background-color:  black;\n",
       "             color:  white;\n",
       "            width:  10em;\n",
       "             height:  80%;\n",
       "            background:  linear-gradient(90deg,orange 25.8%, transparent 25.8%);\n",
       "        }    #T_4536d6a4_dfbf_11ea_a113_8c85903d48d1row5_col4 {\n",
       "            background-color:  black;\n",
       "             color:  white;\n",
       "        }    #T_4536d6a4_dfbf_11ea_a113_8c85903d48d1row6_col0 {\n",
       "            background-color:  black;\n",
       "             color:  white;\n",
       "        }    #T_4536d6a4_dfbf_11ea_a113_8c85903d48d1row6_col1 {\n",
       "            background-color:  black;\n",
       "             color:  white;\n",
       "        }    #T_4536d6a4_dfbf_11ea_a113_8c85903d48d1row6_col2 {\n",
       "            background-color:  black;\n",
       "             color:  white;\n",
       "        }    #T_4536d6a4_dfbf_11ea_a113_8c85903d48d1row6_col3 {\n",
       "            background-color:  black;\n",
       "             color:  white;\n",
       "            width:  10em;\n",
       "             height:  80%;\n",
       "            background:  linear-gradient(90deg,orange 23.7%, transparent 23.7%);\n",
       "        }    #T_4536d6a4_dfbf_11ea_a113_8c85903d48d1row6_col4 {\n",
       "            background-color:  black;\n",
       "             color:  white;\n",
       "        }    #T_4536d6a4_dfbf_11ea_a113_8c85903d48d1row7_col0 {\n",
       "            background-color:  yellow;\n",
       "             color:  black;\n",
       "        }    #T_4536d6a4_dfbf_11ea_a113_8c85903d48d1row7_col1 {\n",
       "            background-color:  yellow;\n",
       "             color:  black;\n",
       "        }    #T_4536d6a4_dfbf_11ea_a113_8c85903d48d1row7_col2 {\n",
       "            background-color:  yellow;\n",
       "             color:  black;\n",
       "        }    #T_4536d6a4_dfbf_11ea_a113_8c85903d48d1row7_col3 {\n",
       "            background-color:  yellow;\n",
       "             color:  black;\n",
       "            width:  10em;\n",
       "             height:  80%;\n",
       "            background:  linear-gradient(90deg,orange 21.2%, transparent 21.2%);\n",
       "        }    #T_4536d6a4_dfbf_11ea_a113_8c85903d48d1row7_col4 {\n",
       "            background-color:  yellow;\n",
       "             color:  black;\n",
       "        }    #T_4536d6a4_dfbf_11ea_a113_8c85903d48d1row8_col0 {\n",
       "            background-color:  black;\n",
       "             color:  white;\n",
       "        }    #T_4536d6a4_dfbf_11ea_a113_8c85903d48d1row8_col1 {\n",
       "            background-color:  black;\n",
       "             color:  white;\n",
       "        }    #T_4536d6a4_dfbf_11ea_a113_8c85903d48d1row8_col2 {\n",
       "            background-color:  black;\n",
       "             color:  white;\n",
       "        }    #T_4536d6a4_dfbf_11ea_a113_8c85903d48d1row8_col3 {\n",
       "            background-color:  black;\n",
       "             color:  white;\n",
       "            width:  10em;\n",
       "             height:  80%;\n",
       "            background:  linear-gradient(90deg,orange 16.5%, transparent 16.5%);\n",
       "        }    #T_4536d6a4_dfbf_11ea_a113_8c85903d48d1row8_col4 {\n",
       "            background-color:  black;\n",
       "             color:  white;\n",
       "        }    #T_4536d6a4_dfbf_11ea_a113_8c85903d48d1row9_col0 {\n",
       "            background-color:  black;\n",
       "             color:  white;\n",
       "        }    #T_4536d6a4_dfbf_11ea_a113_8c85903d48d1row9_col1 {\n",
       "            background-color:  black;\n",
       "             color:  white;\n",
       "        }    #T_4536d6a4_dfbf_11ea_a113_8c85903d48d1row9_col2 {\n",
       "            background-color:  black;\n",
       "             color:  white;\n",
       "        }    #T_4536d6a4_dfbf_11ea_a113_8c85903d48d1row9_col3 {\n",
       "            background-color:  black;\n",
       "             color:  white;\n",
       "            width:  10em;\n",
       "             height:  80%;\n",
       "            background:  linear-gradient(90deg,orange 15.2%, transparent 15.2%);\n",
       "        }    #T_4536d6a4_dfbf_11ea_a113_8c85903d48d1row9_col4 {\n",
       "            background-color:  black;\n",
       "             color:  white;\n",
       "        }    #T_4536d6a4_dfbf_11ea_a113_8c85903d48d1row10_col0 {\n",
       "            background-color:  black;\n",
       "             color:  white;\n",
       "        }    #T_4536d6a4_dfbf_11ea_a113_8c85903d48d1row10_col1 {\n",
       "            background-color:  black;\n",
       "             color:  white;\n",
       "        }    #T_4536d6a4_dfbf_11ea_a113_8c85903d48d1row10_col2 {\n",
       "            background-color:  black;\n",
       "             color:  white;\n",
       "        }    #T_4536d6a4_dfbf_11ea_a113_8c85903d48d1row10_col3 {\n",
       "            background-color:  black;\n",
       "             color:  white;\n",
       "            width:  10em;\n",
       "             height:  80%;\n",
       "            background:  linear-gradient(90deg,orange 13.7%, transparent 13.7%);\n",
       "        }    #T_4536d6a4_dfbf_11ea_a113_8c85903d48d1row10_col4 {\n",
       "            background-color:  black;\n",
       "             color:  white;\n",
       "        }    #T_4536d6a4_dfbf_11ea_a113_8c85903d48d1row11_col0 {\n",
       "            background-color:  lightgreen;\n",
       "             color:  black;\n",
       "        }    #T_4536d6a4_dfbf_11ea_a113_8c85903d48d1row11_col1 {\n",
       "            background-color:  lightgreen;\n",
       "             color:  black;\n",
       "        }    #T_4536d6a4_dfbf_11ea_a113_8c85903d48d1row11_col2 {\n",
       "            background-color:  lightgreen;\n",
       "             color:  black;\n",
       "        }    #T_4536d6a4_dfbf_11ea_a113_8c85903d48d1row11_col3 {\n",
       "            background-color:  lightgreen;\n",
       "             color:  black;\n",
       "            width:  10em;\n",
       "             height:  80%;\n",
       "        }    #T_4536d6a4_dfbf_11ea_a113_8c85903d48d1row11_col4 {\n",
       "            background-color:  lightgreen;\n",
       "             color:  black;\n",
       "        }</style><table id=\"T_4536d6a4_dfbf_11ea_a113_8c85903d48d1\" ><thead>    <tr>        <th class=\"blank level0\" ></th>        <th class=\"col_heading level0 col0\" >label</th>        <th class=\"col_heading level0 col1\" >level</th>        <th class=\"col_heading level0 col2\" >starting_clues</th>        <th class=\"col_heading level0 col3\" >constraintpropogation</th>        <th class=\"col_heading level0 col4\" >backtracking</th>    </tr></thead><tbody>\n",
       "                <tr>\n",
       "                        <th id=\"T_4536d6a4_dfbf_11ea_a113_8c85903d48d1level0_row0\" class=\"row_heading level0 row0\" >43</th>\n",
       "                        <td id=\"T_4536d6a4_dfbf_11ea_a113_8c85903d48d1row0_col0\" class=\"data row0 col0\" >data/top95.txt:28</td>\n",
       "                        <td id=\"T_4536d6a4_dfbf_11ea_a113_8c85903d48d1row0_col1\" class=\"data row0 col1\" >Diabolical</td>\n",
       "                        <td id=\"T_4536d6a4_dfbf_11ea_a113_8c85903d48d1row0_col2\" class=\"data row0 col2\" >17</td>\n",
       "                        <td id=\"T_4536d6a4_dfbf_11ea_a113_8c85903d48d1row0_col3\" class=\"data row0 col3\" >12.849</td>\n",
       "                        <td id=\"T_4536d6a4_dfbf_11ea_a113_8c85903d48d1row0_col4\" class=\"data row0 col4\" >17.429</td>\n",
       "            </tr>\n",
       "            <tr>\n",
       "                        <th id=\"T_4536d6a4_dfbf_11ea_a113_8c85903d48d1level0_row1\" class=\"row_heading level0 row1\" >33</th>\n",
       "                        <td id=\"T_4536d6a4_dfbf_11ea_a113_8c85903d48d1row1_col0\" class=\"data row1 col0\" >data/top95.txt:18</td>\n",
       "                        <td id=\"T_4536d6a4_dfbf_11ea_a113_8c85903d48d1row1_col1\" class=\"data row1 col1\" >Diabolical</td>\n",
       "                        <td id=\"T_4536d6a4_dfbf_11ea_a113_8c85903d48d1row1_col2\" class=\"data row1 col2\" >17</td>\n",
       "                        <td id=\"T_4536d6a4_dfbf_11ea_a113_8c85903d48d1row1_col3\" class=\"data row1 col3\" >11.715</td>\n",
       "                        <td id=\"T_4536d6a4_dfbf_11ea_a113_8c85903d48d1row1_col4\" class=\"data row1 col4\" >55.579</td>\n",
       "            </tr>\n",
       "            <tr>\n",
       "                        <th id=\"T_4536d6a4_dfbf_11ea_a113_8c85903d48d1level0_row2\" class=\"row_heading level0 row2\" >56</th>\n",
       "                        <td id=\"T_4536d6a4_dfbf_11ea_a113_8c85903d48d1row2_col0\" class=\"data row2 col0\" >data/top95.txt:41</td>\n",
       "                        <td id=\"T_4536d6a4_dfbf_11ea_a113_8c85903d48d1row2_col1\" class=\"data row2 col1\" >Diabolical</td>\n",
       "                        <td id=\"T_4536d6a4_dfbf_11ea_a113_8c85903d48d1row2_col2\" class=\"data row2 col2\" >17</td>\n",
       "                        <td id=\"T_4536d6a4_dfbf_11ea_a113_8c85903d48d1row2_col3\" class=\"data row2 col3\" >5.058</td>\n",
       "                        <td id=\"T_4536d6a4_dfbf_11ea_a113_8c85903d48d1row2_col4\" class=\"data row2 col4\" >1181.453</td>\n",
       "            </tr>\n",
       "            <tr>\n",
       "                        <th id=\"T_4536d6a4_dfbf_11ea_a113_8c85903d48d1level0_row3\" class=\"row_heading level0 row3\" >22</th>\n",
       "                        <td id=\"T_4536d6a4_dfbf_11ea_a113_8c85903d48d1row3_col0\" class=\"data row3 col0\" >data/top95.txt:7</td>\n",
       "                        <td id=\"T_4536d6a4_dfbf_11ea_a113_8c85903d48d1row3_col1\" class=\"data row3 col1\" >Diabolical</td>\n",
       "                        <td id=\"T_4536d6a4_dfbf_11ea_a113_8c85903d48d1row3_col2\" class=\"data row3 col2\" >17</td>\n",
       "                        <td id=\"T_4536d6a4_dfbf_11ea_a113_8c85903d48d1row3_col3\" class=\"data row3 col3\" >5.017</td>\n",
       "                        <td id=\"T_4536d6a4_dfbf_11ea_a113_8c85903d48d1row3_col4\" class=\"data row3 col4\" >1.683</td>\n",
       "            </tr>\n",
       "            <tr>\n",
       "                        <th id=\"T_4536d6a4_dfbf_11ea_a113_8c85903d48d1level0_row4\" class=\"row_heading level0 row4\" >36</th>\n",
       "                        <td id=\"T_4536d6a4_dfbf_11ea_a113_8c85903d48d1row4_col0\" class=\"data row4 col0\" >data/top95.txt:21</td>\n",
       "                        <td id=\"T_4536d6a4_dfbf_11ea_a113_8c85903d48d1row4_col1\" class=\"data row4 col1\" >Diabolical</td>\n",
       "                        <td id=\"T_4536d6a4_dfbf_11ea_a113_8c85903d48d1row4_col2\" class=\"data row4 col2\" >17</td>\n",
       "                        <td id=\"T_4536d6a4_dfbf_11ea_a113_8c85903d48d1row4_col3\" class=\"data row4 col3\" >4.417</td>\n",
       "                        <td id=\"T_4536d6a4_dfbf_11ea_a113_8c85903d48d1row4_col4\" class=\"data row4 col4\" >41.908</td>\n",
       "            </tr>\n",
       "            <tr>\n",
       "                        <th id=\"T_4536d6a4_dfbf_11ea_a113_8c85903d48d1level0_row5\" class=\"row_heading level0 row5\" >23</th>\n",
       "                        <td id=\"T_4536d6a4_dfbf_11ea_a113_8c85903d48d1row5_col0\" class=\"data row5 col0\" >data/top95.txt:8</td>\n",
       "                        <td id=\"T_4536d6a4_dfbf_11ea_a113_8c85903d48d1row5_col1\" class=\"data row5 col1\" >Diabolical</td>\n",
       "                        <td id=\"T_4536d6a4_dfbf_11ea_a113_8c85903d48d1row5_col2\" class=\"data row5 col2\" >17</td>\n",
       "                        <td id=\"T_4536d6a4_dfbf_11ea_a113_8c85903d48d1row5_col3\" class=\"data row5 col3\" >3.899</td>\n",
       "                        <td id=\"T_4536d6a4_dfbf_11ea_a113_8c85903d48d1row5_col4\" class=\"data row5 col4\" >113.350</td>\n",
       "            </tr>\n",
       "            <tr>\n",
       "                        <th id=\"T_4536d6a4_dfbf_11ea_a113_8c85903d48d1level0_row6\" class=\"row_heading level0 row6\" >25</th>\n",
       "                        <td id=\"T_4536d6a4_dfbf_11ea_a113_8c85903d48d1row6_col0\" class=\"data row6 col0\" >data/top95.txt:10</td>\n",
       "                        <td id=\"T_4536d6a4_dfbf_11ea_a113_8c85903d48d1row6_col1\" class=\"data row6 col1\" >Diabolical</td>\n",
       "                        <td id=\"T_4536d6a4_dfbf_11ea_a113_8c85903d48d1row6_col2\" class=\"data row6 col2\" >17</td>\n",
       "                        <td id=\"T_4536d6a4_dfbf_11ea_a113_8c85903d48d1row6_col3\" class=\"data row6 col3\" >3.640</td>\n",
       "                        <td id=\"T_4536d6a4_dfbf_11ea_a113_8c85903d48d1row6_col4\" class=\"data row6 col4\" >108.091</td>\n",
       "            </tr>\n",
       "            <tr>\n",
       "                        <th id=\"T_4536d6a4_dfbf_11ea_a113_8c85903d48d1level0_row7\" class=\"row_heading level0 row7\" >24</th>\n",
       "                        <td id=\"T_4536d6a4_dfbf_11ea_a113_8c85903d48d1row7_col0\" class=\"data row7 col0\" >data/top95.txt:9</td>\n",
       "                        <td id=\"T_4536d6a4_dfbf_11ea_a113_8c85903d48d1row7_col1\" class=\"data row7 col1\" >Diabolical</td>\n",
       "                        <td id=\"T_4536d6a4_dfbf_11ea_a113_8c85903d48d1row7_col2\" class=\"data row7 col2\" >17</td>\n",
       "                        <td id=\"T_4536d6a4_dfbf_11ea_a113_8c85903d48d1row7_col3\" class=\"data row7 col3\" >3.336</td>\n",
       "                        <td id=\"T_4536d6a4_dfbf_11ea_a113_8c85903d48d1row7_col4\" class=\"data row7 col4\" >1.705</td>\n",
       "            </tr>\n",
       "            <tr>\n",
       "                        <th id=\"T_4536d6a4_dfbf_11ea_a113_8c85903d48d1level0_row8\" class=\"row_heading level0 row8\" >86</th>\n",
       "                        <td id=\"T_4536d6a4_dfbf_11ea_a113_8c85903d48d1row8_col0\" class=\"data row8 col0\" >data/top95.txt:71</td>\n",
       "                        <td id=\"T_4536d6a4_dfbf_11ea_a113_8c85903d48d1row8_col1\" class=\"data row8 col1\" >Diabolical</td>\n",
       "                        <td id=\"T_4536d6a4_dfbf_11ea_a113_8c85903d48d1row8_col2\" class=\"data row8 col2\" >17</td>\n",
       "                        <td id=\"T_4536d6a4_dfbf_11ea_a113_8c85903d48d1row8_col3\" class=\"data row8 col3\" >2.773</td>\n",
       "                        <td id=\"T_4536d6a4_dfbf_11ea_a113_8c85903d48d1row8_col4\" class=\"data row8 col4\" >201.816</td>\n",
       "            </tr>\n",
       "            <tr>\n",
       "                        <th id=\"T_4536d6a4_dfbf_11ea_a113_8c85903d48d1level0_row9\" class=\"row_heading level0 row9\" >61</th>\n",
       "                        <td id=\"T_4536d6a4_dfbf_11ea_a113_8c85903d48d1row9_col0\" class=\"data row9 col0\" >data/top95.txt:46</td>\n",
       "                        <td id=\"T_4536d6a4_dfbf_11ea_a113_8c85903d48d1row9_col1\" class=\"data row9 col1\" >Diabolical</td>\n",
       "                        <td id=\"T_4536d6a4_dfbf_11ea_a113_8c85903d48d1row9_col2\" class=\"data row9 col2\" >17</td>\n",
       "                        <td id=\"T_4536d6a4_dfbf_11ea_a113_8c85903d48d1row9_col3\" class=\"data row9 col3\" >2.618</td>\n",
       "                        <td id=\"T_4536d6a4_dfbf_11ea_a113_8c85903d48d1row9_col4\" class=\"data row9 col4\" >45.625</td>\n",
       "            </tr>\n",
       "            <tr>\n",
       "                        <th id=\"T_4536d6a4_dfbf_11ea_a113_8c85903d48d1level0_row10\" class=\"row_heading level0 row10\" >20</th>\n",
       "                        <td id=\"T_4536d6a4_dfbf_11ea_a113_8c85903d48d1row10_col0\" class=\"data row10 col0\" >data/top95.txt:5</td>\n",
       "                        <td id=\"T_4536d6a4_dfbf_11ea_a113_8c85903d48d1row10_col1\" class=\"data row10 col1\" >Diabolical</td>\n",
       "                        <td id=\"T_4536d6a4_dfbf_11ea_a113_8c85903d48d1row10_col2\" class=\"data row10 col2\" >17</td>\n",
       "                        <td id=\"T_4536d6a4_dfbf_11ea_a113_8c85903d48d1row10_col3\" class=\"data row10 col3\" >2.428</td>\n",
       "                        <td id=\"T_4536d6a4_dfbf_11ea_a113_8c85903d48d1row10_col4\" class=\"data row10 col4\" >811.546</td>\n",
       "            </tr>\n",
       "            <tr>\n",
       "                        <th id=\"T_4536d6a4_dfbf_11ea_a113_8c85903d48d1level0_row11\" class=\"row_heading level0 row11\" >57</th>\n",
       "                        <td id=\"T_4536d6a4_dfbf_11ea_a113_8c85903d48d1row11_col0\" class=\"data row11 col0\" >data/top95.txt:42</td>\n",
       "                        <td id=\"T_4536d6a4_dfbf_11ea_a113_8c85903d48d1row11_col1\" class=\"data row11 col1\" >Diabolical</td>\n",
       "                        <td id=\"T_4536d6a4_dfbf_11ea_a113_8c85903d48d1row11_col2\" class=\"data row11 col2\" >17</td>\n",
       "                        <td id=\"T_4536d6a4_dfbf_11ea_a113_8c85903d48d1row11_col3\" class=\"data row11 col3\" >0.781</td>\n",
       "                        <td id=\"T_4536d6a4_dfbf_11ea_a113_8c85903d48d1row11_col4\" class=\"data row11 col4\" >7.185</td>\n",
       "            </tr>\n",
       "    </tbody></table>"
      ],
      "text/plain": [
       "<pandas.io.formats.style.Styler at 0x11ac02050>"
      ]
     },
     "execution_count": 13,
     "metadata": {},
     "output_type": "execute_result"
    }
   ],
   "source": [
    "def highlight_where_backtracking_faster(s):\n",
    "    if s.constraintpropogation > s.backtracking:\n",
    "        return ['background-color: yellow; color: black'] * 5\n",
    "    elif s.constraintpropogation < 1.0:\n",
    "        return ['background-color: lightgreen; color: black'] * 5\n",
    "    else:\n",
    "        return ['background-color: black; color: white'] * 5\n",
    "\n",
    "ndf = df.sort_values(by=method, ascending=False).head(n=12)\n",
    "ndf.style.apply(highlight_where_backtracking_faster, axis=1).bar(subset=[method], color='orange').format({method: \"{:.3f}\", 'backtracking': '{:.3f}'})\n"
   ]
  },
  {
   "cell_type": "markdown",
   "metadata": {},
   "source": [
    "Interesting points:\n",
    "\n",
    "* Puzzles 7 and 9 (highlighted yellow) actually take longer to solve with the constraint propogation solution than simple backtracking\n",
    "* Puzzles 21 and 46 look like good candidates for looking at closer, because the backtracking time isn't so long that we can't wait for profiler output if we want to compare profiles\n",
    "* Puzzle 42 looks like a good place to start though: < ~1 second (highlighted green)\n",
    "\n",
    "So let's look at Puzzle 42 (answer to the Ultimate Question?), using the built in Jupyet profiler tools. First though, a quick check that the total time matches up. According to original testing performance, this should take ~8 microseconds (ms).\n"
   ]
  },
  {
   "cell_type": "code",
   "execution_count": 14,
   "metadata": {},
   "outputs": [
    {
     "name": "stdout",
     "output_type": "stream",
     "text": [
      "CPU times: user 782 ms, sys: 6.76 ms, total: 788 ms\n",
      "Wall time: 826 ms\n"
     ]
    },
    {
     "data": {
      "text/plain": [
       "True"
      ]
     },
     "execution_count": 14,
     "metadata": {},
     "output_type": "execute_result"
    }
   ],
   "source": [
    "puzzle42 = '......8.16..2........7.5......6...2..1....3...8.......2......7..3..8....5...4....'\n",
    "puzzle.init_puzzle(puzzle42)\n",
    "solver = su.SudokuSolver(method=method)\n",
    "%time solver.solve(puzzle)"
   ]
  },
  {
   "cell_type": "markdown",
   "metadata": {},
   "source": [
    "That looks OK. So reset the puzzle and profile below. The profiler itself adds some overhead so this takes slightly longer (~1.2 seconds)."
   ]
  },
  {
   "cell_type": "code",
   "execution_count": 15,
   "metadata": {},
   "outputs": [
    {
     "name": "stdout",
     "output_type": "stream",
     "text": [
      " "
     ]
    },
    {
     "data": {
      "text/plain": [
       "         2059320 function calls (2030330 primitive calls) in 1.188 seconds\n",
       "\n",
       "   Ordered by: internal time\n",
       "\n",
       "   ncalls  tottime  percall  cumtime  percall filename:lineno(function)\n",
       "   398932    0.369    0.000    0.663    0.000 sudoku.py:96(get_allowed_values)\n",
       "    57980    0.251    0.000    0.848    0.000 puzzlegrid.py:256(next_best_empty_cell)\n",
       "   398932    0.194    0.000    0.194    0.000 puzzlegrid.py:293(get_allowed_values)\n",
       "   456848    0.114    0.000    0.114    0.000 sudoku.py:48(box_xy_to_num)\n",
       "  28991/1    0.073    0.000    1.188    1.188 sudoku.py:211(solve_constraintpropogation)\n",
       "    28990    0.037    0.000    0.102    0.000 puzzlegrid.py:173(set)\n",
       "    28990    0.030    0.000    0.142    0.000 sudoku.py:56(set)\n",
       "    28926    0.030    0.000    0.071    0.000 sudoku.py:69(clear)\n",
       "    28926    0.025    0.000    0.031    0.000 puzzlegrid.py:202(clear)\n",
       "   341006    0.023    0.000    0.023    0.000 {built-in method builtins.len}\n",
       "    28990    0.015    0.000    0.059    0.000 puzzlegrid.py:305(is_allowed_value)\n",
       "    86778    0.009    0.000    0.009    0.000 {method 'add' of 'set' objects}\n",
       "    86970    0.009    0.000    0.009    0.000 {method 'remove' of 'set' objects}\n",
       "    28990    0.007    0.000    0.848    0.000 {built-in method builtins.next}\n",
       "    28992    0.004    0.000    0.004    0.000 puzzlegrid.py:159(num_empty_cells)\n",
       "        1    0.000    0.000    1.188    1.188 {built-in method builtins.exec}\n",
       "        1    0.000    0.000    0.000    0.000 sudoku.py:107(is_puzzle_valid)\n",
       "        1    0.000    0.000    0.000    0.000 puzzlegrid.py:317(is_puzzle_valid)\n",
       "        9    0.000    0.000    0.000    0.000 sudoku.py:84(get_box_values)\n",
       "        9    0.000    0.000    0.000    0.000 sudoku.py:91(<listcomp>)\n",
       "        9    0.000    0.000    0.000    0.000 sudoku.py:94(<listcomp>)\n",
       "        9    0.000    0.000    0.000    0.000 puzzlegrid.py:284(<listcomp>)\n",
       "        9    0.000    0.000    0.000    0.000 puzzlegrid.py:286(get_column_values)\n",
       "        9    0.000    0.000    0.000    0.000 puzzlegrid.py:291(<listcomp>)\n",
       "        9    0.000    0.000    0.000    0.000 sudoku.py:36(box_num_to_xy)\n",
       "        9    0.000    0.000    0.000    0.000 puzzlegrid.py:279(get_row_values)\n",
       "        1    0.000    0.000    1.188    1.188 sudoku.py:178(solve)\n",
       "        1    0.000    0.000    1.188    1.188 <string>:1(<module>)\n",
       "        1    0.000    0.000    0.000    0.000 puzzlegrid.py:340(is_solved)\n",
       "        1    0.000    0.000    0.000    0.000 {method 'disable' of '_lsprof.Profiler' objects}"
      ]
     },
     "metadata": {},
     "output_type": "display_data"
    }
   ],
   "source": [
    "puzzle.init_puzzle(puzzle42)\n",
    "s = su.SudokuSolver(method=method)\n",
    "%prun s.solve(puzzle)"
   ]
  },
  {
   "cell_type": "markdown",
   "metadata": {},
   "source": [
    "Notes:\n",
    "\n",
    "* 399K calls to `get_allowed_values`. The first entry is in [sudoku.py](sudoku.py#line_88), which gets the allowed values for the box, then calls the same method in the [parent class](puzzlegrid.py#line_321) to return the intersection of allowed cells in that row, column and box.\n",
    "* Recurses into `solve_constraintpropogation` 29K times.\n",
    "\n",
    "Compare the performance of #42 to #46. Expect #46 to take ~2.5 seconds."
   ]
  },
  {
   "cell_type": "code",
   "execution_count": 16,
   "metadata": {},
   "outputs": [
    {
     "name": "stdout",
     "output_type": "stream",
     "text": [
      "CPU times: user 257 ms, sys: 6.35 ms, total: 263 ms\n",
      "Wall time: 270 ms\n"
     ]
    },
    {
     "data": {
      "text/plain": [
       "True"
      ]
     },
     "execution_count": 16,
     "metadata": {},
     "output_type": "execute_result"
    }
   ],
   "source": [
    "puzzle46 = '.834.........7..5...........4.1.8..........27...3.....2.6.5....5.....8........1..'\n",
    "puzzle.init_puzzle(puzzle46)\n",
    "solver = su.SudokuSolver(method=method)\n",
    "%time solver.solve(puzzle)"
   ]
  },
  {
   "cell_type": "markdown",
   "metadata": {},
   "source": [
    "OK, this is weird. That was supposed to take ~2.5 seconds and instead finished in ~0.3 seconds. Let's run it again...and again. And this time we'll output some of the stats collected by the solver itself:\n",
    "\n",
    "* Max Depth: The deepest stack-depth the recursion reached\n",
    "* Backtracks: The number of \"mistakes\" made by the algorithm that resulted in it backtracking to a prior state\n"
   ]
  },
  {
   "cell_type": "code",
   "execution_count": 25,
   "metadata": {},
   "outputs": [
    {
     "name": "stdout",
     "output_type": "stream",
     "text": [
      "RUN 0\n",
      "CPU times: user 2.67 s, sys: 22.1 ms, total: 2.69 s\n",
      "Wall time: 2.76 s\n",
      "Max Depth=63; Backtracks=105917\n",
      "\n",
      "RUN 1\n",
      "CPU times: user 2.53 s, sys: 6.37 ms, total: 2.53 s\n",
      "Wall time: 2.56 s\n",
      "Max Depth=63; Backtracks=105917\n",
      "\n",
      "RUN 2\n",
      "CPU times: user 219 ms, sys: 636 µs, total: 220 ms\n",
      "Wall time: 220 ms\n",
      "Max Depth=63; Backtracks=8766\n",
      "\n",
      "RUN 3\n",
      "CPU times: user 232 ms, sys: 836 µs, total: 232 ms\n",
      "Wall time: 236 ms\n",
      "Max Depth=63; Backtracks=8766\n",
      "\n",
      "RUN 4\n",
      "CPU times: user 231 ms, sys: 1.06 ms, total: 233 ms\n",
      "Wall time: 235 ms\n",
      "Max Depth=63; Backtracks=8766\n",
      "\n"
     ]
    }
   ],
   "source": [
    "puzzle = su.SudokuPuzzle()\n",
    "solver = su.SudokuSolver(method=method)\n",
    "for i in range(5):\n",
    "    print(f\"RUN {i}\")\n",
    "    puzzle.init_puzzle(starting_grid=puzzle46)\n",
    "    assert(not puzzle.is_solved())\n",
    "    %time solver.solve(puzzle)\n",
    "    print(f\"Max Depth={solver.max_depth}; Backtracks={solver.backtrack_count}\\n\")"
   ]
  },
  {
   "cell_type": "markdown",
   "metadata": {},
   "source": [
    "In testing, the first two usually take ~2.5 seconds, and the last 3 take ~220 ms. Even though it's exactly the same puzzle being solved by exactly the same algorithm.\n",
    "\n",
    "Difference is caused by the return order of the set of allowed values. Since the values are returned in a set, the order of the set members is not guaranteed to be consistent. When the order is slightly different, then the backtracking can take dramatically different search paths, with consequent impacts on run time. You can see this in the `Backtracks` reported (105K vs 88K).\n",
    "\n",
    "In this specific case, one of the cells has allowed values (1, 9). If \"1\" is chosen then the solution takes 2.5 seconds to find. However if the \"9\" is chosen, then the search takes ~3 ms. \n",
    "\n",
    "If I modify the algorithm to always sort the allowed values then the performance time is always consistent. Otherwise there's a certain amount of randmomness to it.\n",
    "\n",
    "The other change is to recreate the `puzzle` instance each time. When I do that, the performance remains consistent, because the set order remains consistent. Not sure why that is.\n"
   ]
  },
  {
   "cell_type": "markdown",
   "metadata": {},
   "source": [
    "# Next Steps\n",
    "\n",
    "Still to do:\n",
    "\n",
    "* Not sure if the change in set ordering happens when running tests in `PuzzleTester` -- should check and see if that impacts results (I get an average but what's the stddev?)\n",
    "* Could force the set ordering to be deterministic and test with different preferred sort orders. Expect to find the same range of performance times, even as times for individual puzzles might vary.\n"
   ]
  },
  {
   "cell_type": "markdown",
   "metadata": {},
   "source": [
    "# Appendix\n",
    "\n",
    "## Sources\n",
    "\n",
    "Part of this exercise was to learn Python and Jupyter skills while also solving a problem that I found interesting. So I've largely avoided reading other people's solutions to solving Sudoku. However from time to time I've gotten stuck or just been curious about something and found the below sources useful.\n",
    "\n",
    "* The \"Top 95\" and \"Hardest\" puzzle examples in the data directory come from [Solving Every Sudoku Puzzle (by Peter Norvig)](https://norvig.com/sudoku.html)\n",
    "* [Sudoku solving algorithms](https://en.wikipedia.org/wiki/Sudoku_solving_algorithms) -- links to some sample puzzles (on Flickr of all places). Found via the [Wikipedia article on Sudoku solving algorithms](https://en.wikipedia.org/wiki/Sudoku_solving_algorithms).\n",
    "* [AI Sudoku](http://www.aisudoku.com/index_en.html) -- collection of really hard puzzles.\n",
    "* The [sudoku.py](sudoku.py) class has URLs to where I found some of the sample puzzles. I've attempted to use labels for them that credit the source, although it's not always clear where the original puzzle came from.\n",
    "* Also used examples from [Simple sudoku solver using constraint propagation](https://gpicavet.github.io/jekyll/update/2017/12/16/sudoku-solver.html) (Grégory Picavet's Blog).\n",
    "\n",
    "\n",
    "## Table formatting\n",
    "\n",
    "Snippet below inserts some CSS to make the table look more like a Sudoku puzzle grid.\n"
   ]
  },
  {
   "cell_type": "code",
   "execution_count": 25,
   "metadata": {},
   "outputs": [
    {
     "data": {
      "text/html": [
       "\n",
       "<style type=\"text/css\">\n",
       ".sudoku table {\n",
       "    border: 3px solid red;\n",
       "}\n",
       "\n",
       ".sudoku td {\n",
       "    width: 40px;\n",
       "    height: 40px;\n",
       "    border: 1px solid #F00;\n",
       "    text-align: center;\n",
       "}\n",
       "\n",
       ".sudoku td:nth-of-type(3n) {    \n",
       "    border-right: 3px solid red;\n",
       "}\n",
       "\n",
       ".sudoku tr:nth-of-type(3n) td {    \n",
       "    border-bottom: 3px solid red;\n",
       "}\n",
       "\n",
       ".sudoku-solved table {\n",
       "    border: 3px solid green;\n",
       "}\n",
       "\n",
       ".sudoku-solved td {\n",
       "    border: 1pm solid green;\n",
       "}\n",
       "\n",
       ".sudoku-solved td:nth-of-type(3n) {    \n",
       "    border-right: 3px solid green;\n",
       "}\n",
       "\n",
       ".sudoku-solved tr:nth-of-type(3n) td {    \n",
       "    border-bottom: 3px solid green;\n",
       "}\n",
       "\n",
       "</style>\n"
      ],
      "text/plain": [
       "<IPython.core.display.HTML object>"
      ]
     },
     "metadata": {},
     "output_type": "display_data"
    }
   ],
   "source": [
    "display(HTML('''\n",
    "<style type=\"text/css\">\n",
    ".sudoku table {\n",
    "    border: 3px solid red;\n",
    "}\n",
    "\n",
    ".sudoku td {\n",
    "    width: 40px;\n",
    "    height: 40px;\n",
    "    border: 1px solid #F00;\n",
    "    text-align: center;\n",
    "}\n",
    "\n",
    ".sudoku td:nth-of-type(3n) {    \n",
    "    border-right: 3px solid red;\n",
    "}\n",
    "\n",
    ".sudoku tr:nth-of-type(3n) td {    \n",
    "    border-bottom: 3px solid red;\n",
    "}\n",
    "\n",
    ".sudoku-solved table {\n",
    "    border: 3px solid green;\n",
    "}\n",
    "\n",
    ".sudoku-solved td {\n",
    "    border: 1pm solid green;\n",
    "}\n",
    "\n",
    ".sudoku-solved td:nth-of-type(3n) {    \n",
    "    border-right: 3px solid green;\n",
    "}\n",
    "\n",
    ".sudoku-solved tr:nth-of-type(3n) td {    \n",
    "    border-bottom: 3px solid green;\n",
    "}\n",
    "\n",
    "</style>\n",
    "'''))"
   ]
  },
  {
   "cell_type": "markdown",
   "metadata": {},
   "source": [
    "Scratch.txt\n",
    "\n",
    "#10: Rico Alan Border #1\n",
    "Greg: Solved in 3 ms, 59 tests, 0 backtracks\n",
    "Me: Solved in 3 ms\n",
    "\n",
    "#13: Rico Alan #3\n",
    "Greg: Invalid board!\n",
    "Me: Solved in 1.771 s\n",
    "\n",
    "#11: Rico Alan #4\n",
    "Greg: Solved in 30 ms, 5396 tests, 2371 backtracks\n",
    "Me: Solved in 26 ms\n",
    "\n",
    "#12: Qassim Hamza\n",
    "Greg: Solved in 15 ms\n",
    "Me: Solved in 59 ms\n",
    "\n",
    "#14: World's Hardest Sudoku 2012\n",
    "Greg: Solved in 21 ms\n",
    "Me: Solved in 30 ms\n",
    "\n",
    "#15: AI escargot\n",
    "Greg: Solved in 1 ms, 187 tests, 12 backtracks\n",
    "Me: Solved in 4 ms"
   ]
  }
 ],
 "metadata": {
  "kernelspec": {
   "display_name": "Python 3",
   "language": "python",
   "name": "python3"
  },
  "language_info": {
   "codemirror_mode": {
    "name": "ipython",
    "version": 3
   },
   "file_extension": ".py",
   "mimetype": "text/x-python",
   "name": "python",
   "nbconvert_exporter": "python",
   "pygments_lexer": "ipython3",
   "version": "3.7.4"
  }
 },
 "nbformat": 4,
 "nbformat_minor": 4
}
