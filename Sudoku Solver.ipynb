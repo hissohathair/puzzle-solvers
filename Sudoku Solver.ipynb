{
 "cells": [
  {
   "cell_type": "markdown",
   "metadata": {},
   "source": [
    "# Sudoku Solver (v3)\n",
    "\n",
    "Close to final form.\n",
    "\n",
    "Objectives:\n",
    "\n",
    "1. Assess effectiveness and performance against different test cases\n",
    " 1. Back tracking\n",
    " 2. Back tracking + constraint propogation\n",
    " 3. Deductive logic\n",
    " 4. Solution X or Dancing Links?\n",
    "3. Learn some more Pandas + Matplotlib (draw some pretty graphs)\n",
    "4. ~~Assess performance against other implementations~~\n"
   ]
  },
  {
   "cell_type": "markdown",
   "metadata": {},
   "source": [
    "## Supporting Packages\n",
    "\n",
    "**TODO**: Brief description of [sudoku](sudoku.py) and [puzzlegrid](puzzlegrid.py) libraries.\n"
   ]
  },
  {
   "cell_type": "code",
   "execution_count": 1,
   "metadata": {},
   "outputs": [],
   "source": [
    "import sudoku as su\n",
    "import puzzlegrid as pg"
   ]
  },
  {
   "cell_type": "markdown",
   "metadata": {},
   "source": [
    "**TODO**: Brief description of why we need the following"
   ]
  },
  {
   "cell_type": "code",
   "execution_count": 2,
   "metadata": {},
   "outputs": [],
   "source": [
    "import copy\n",
    "import numpy\n",
    "import pandas as pd\n",
    "import matplotlib.pyplot as plt\n",
    "from IPython.display import HTML, display, clear_output\n",
    "\n",
    "%matplotlib inline\n",
    "plt.rcParams[\"figure.figsize\"] = [12, 6]\n",
    "pd.set_option('precision', 4)\n"
   ]
  },
  {
   "cell_type": "markdown",
   "metadata": {},
   "source": [
    "## Help functions\n",
    "\n",
    "**TODO:** Print puzzles descriptions.\n"
   ]
  },
  {
   "cell_type": "code",
   "execution_count": 3,
   "metadata": {},
   "outputs": [],
   "source": [
    "def print_puzzle(puzzle, **args):\n",
    "    display(HTML(puzzle.as_html(**args)))\n",
    "\n",
    "def print_2_puzzles(puz1, puz2, **args):\n",
    "    display(HTML('<table><tr><td>' + puz1.as_html(**args) + '</td><td>' + puz2.as_html() + '</td></tr></table>'))\n",
    "\n",
    "def update_progress(label, current, total, time_so_far, test_case):\n",
    "    clear_output(wait=True)\n",
    "    display(HTML(f'<progress style=\"width: 100%\" max={total} value={current}>{current} out of {total}</progress>'))\n",
    "    if test_case:\n",
    "        display(HTML(f\"<p>Working on {label}: <i>{test_case['label']}</i> ({current} of {total}), time so far {time_so_far:.2f}s</p>\"))\n",
    "    else:\n",
    "        display(HTML(f\"<p>Completed {total} test cases in {time_so_far:.2f} seconds</p>\"))\n",
    "    return"
   ]
  },
  {
   "cell_type": "markdown",
   "metadata": {},
   "source": [
    "## Example class usage\n",
    "\n",
    "Create a puzzle in `SudokuPuzzle`. There are sample puzzles in the [sudoku](sudoku.py#line=423) module.\n"
   ]
  },
  {
   "cell_type": "code",
   "execution_count": 4,
   "metadata": {},
   "outputs": [
    {
     "name": "stdout",
     "output_type": "stream",
     "text": [
      "SMH 1\n",
      "SMH 2\n",
      "KTH 1\n",
      "Rico Alan Heart\n",
      "SMH 3\n",
      "SMH 4\n",
      "SMH 5\n",
      "Greg [2017]\n",
      "Rico Alan 1\n",
      "Rico Alan 2\n",
      "Rico Alan Border #1\n",
      "Rico Alan 4\n",
      "Qassim Hamza\n",
      "Rico Alan 3\n",
      "World's Hardest Sudoku 2012\n",
      "AI escargot\n"
     ]
    }
   ],
   "source": [
    "print(\"\\n\".join([x['label'] for x in su.SAMPLE_PUZZLES]))"
   ]
  },
  {
   "cell_type": "code",
   "execution_count": 5,
   "metadata": {},
   "outputs": [
    {
     "data": {
      "text/html": [
       "<table class=\"sudoku\"><tr><td>8</td><td>9</td><td> </td><td>4</td><td> </td><td> </td><td> </td><td>5</td><td>6</td></tr><tr><td>1</td><td>4</td><td> </td><td>3</td><td>5</td><td> </td><td> </td><td>9</td><td> </td></tr><tr><td> </td><td> </td><td> </td><td> </td><td> </td><td> </td><td>8</td><td> </td><td> </td></tr><tr><td>9</td><td> </td><td> </td><td> </td><td> </td><td> </td><td>2</td><td> </td><td> </td></tr><tr><td> </td><td>8</td><td> </td><td>9</td><td>6</td><td>5</td><td> </td><td>4</td><td> </td></tr><tr><td> </td><td> </td><td>1</td><td> </td><td> </td><td> </td><td> </td><td> </td><td>5</td></tr><tr><td> </td><td> </td><td>8</td><td> </td><td> </td><td> </td><td> </td><td> </td><td> </td></tr><tr><td> </td><td>3</td><td> </td><td> </td><td>2</td><td>1</td><td> </td><td>7</td><td>8</td></tr><tr><td>4</td><td>2</td><td> </td><td> </td><td> </td><td>6</td><td> </td><td>1</td><td>3</td></tr></table>"
      ],
      "text/plain": [
       "<IPython.core.display.HTML object>"
      ]
     },
     "metadata": {},
     "output_type": "display_data"
    }
   ],
   "source": [
    "puzzle = su.SudokuPuzzle(starting_grid=su.SAMPLE_PUZZLES[0]['puzzle'])\n",
    "original = copy.deepcopy(puzzle)\n",
    "print_puzzle(puzzle)"
   ]
  },
  {
   "cell_type": "markdown",
   "metadata": {},
   "source": [
    "The solver classes are defined in [sudoku](sudoku.py). A number of different strategies are defined, in separate classes. There's a helper class `SudokuSolver` which will \"just work\" without too much fuss."
   ]
  },
  {
   "cell_type": "code",
   "execution_count": 6,
   "metadata": {},
   "outputs": [
    {
     "data": {
      "text/html": [
       "<table><tr><td><table class=\"sudoku\"><tr><td>8</td><td>9</td><td> </td><td>4</td><td>{1, 7}</td><td>{2, 7}</td><td> </td><td>5</td><td>6</td></tr><tr><td>1</td><td>4</td><td> </td><td>3</td><td>5</td><td> </td><td>{7}</td><td>9</td><td>{2, 7}</td></tr><tr><td> </td><td> </td><td> </td><td> </td><td> </td><td> </td><td>8</td><td>{2, 3}</td><td> </td></tr><tr><td>9</td><td> </td><td> </td><td> </td><td> </td><td> </td><td>2</td><td> </td><td>{1, 7}</td></tr><tr><td> </td><td>8</td><td> </td><td>9</td><td>6</td><td>5</td><td> </td><td>4</td><td>{1, 7}</td></tr><tr><td> </td><td>{6, 7}</td><td>1</td><td> </td><td> </td><td> </td><td> </td><td> </td><td>5</td></tr><tr><td> </td><td> </td><td>8</td><td>{5, 7}</td><td> </td><td> </td><td> </td><td>{2, 6}</td><td> </td></tr><tr><td>{5, 6}</td><td>3</td><td> </td><td>{5}</td><td>2</td><td>1</td><td> </td><td>7</td><td>8</td></tr><tr><td>4</td><td>2</td><td> </td><td> </td><td> </td><td>6</td><td>{9, 5}</td><td>1</td><td>3</td></tr></table></td><td><table class=\"sudoku solved\"><tr><td>8</td><td>9</td><td>3</td><td>4</td><td>7</td><td>2</td><td>1</td><td>5</td><td>6</td></tr><tr><td>1</td><td>4</td><td>6</td><td>3</td><td>5</td><td>8</td><td>7</td><td>9</td><td>2</td></tr><tr><td>2</td><td>7</td><td>5</td><td>6</td><td>1</td><td>9</td><td>8</td><td>3</td><td>4</td></tr><tr><td>9</td><td>5</td><td>4</td><td>1</td><td>8</td><td>3</td><td>2</td><td>6</td><td>7</td></tr><tr><td>7</td><td>8</td><td>2</td><td>9</td><td>6</td><td>5</td><td>3</td><td>4</td><td>1</td></tr><tr><td>3</td><td>6</td><td>1</td><td>2</td><td>4</td><td>7</td><td>9</td><td>8</td><td>5</td></tr><tr><td>5</td><td>1</td><td>8</td><td>7</td><td>3</td><td>4</td><td>6</td><td>2</td><td>9</td></tr><tr><td>6</td><td>3</td><td>9</td><td>5</td><td>2</td><td>1</td><td>4</td><td>7</td><td>8</td></tr><tr><td>4</td><td>2</td><td>7</td><td>8</td><td>9</td><td>6</td><td>5</td><td>1</td><td>3</td></tr></table></td></tr></table>"
      ],
      "text/plain": [
       "<IPython.core.display.HTML object>"
      ]
     },
     "metadata": {},
     "output_type": "display_data"
    }
   ],
   "source": [
    "solver = su.SudokuSolver()\n",
    "solver.solve(puzzle)\n",
    "print_2_puzzles(original, puzzle, show_possibilities=2)"
   ]
  },
  {
   "cell_type": "markdown",
   "metadata": {},
   "source": [
    "# Sudoku Solution Strategies\n",
    "\n",
    "Running some timing tests. Using 2017 Macbook Pro (2.3 GHz Intel Core i5).\n",
    "\n",
    "These are the strategies implemented in the `*Solver` classes:"
   ]
  },
  {
   "cell_type": "code",
   "execution_count": 7,
   "metadata": {},
   "outputs": [
    {
     "name": "stdout",
     "output_type": "stream",
     "text": [
      "backtracking\n",
      "constraintpropogation\n",
      "deductive\n"
     ]
    }
   ],
   "source": [
    "print(\"\\n\".join([x for x in su.SOLVERS.keys()]))"
   ]
  },
  {
   "cell_type": "markdown",
   "metadata": {},
   "source": [
    "We have some test puzzles in the `sudoku` module. Each puzzle is marked with a \"difficulty level\", which is based on the number of starting clues. We're using the `include_levels` list below to select which levels to include in our tests."
   ]
  },
  {
   "cell_type": "code",
   "execution_count": 8,
   "metadata": {},
   "outputs": [],
   "source": [
    "include_levels = ['Kids', 'Easy', 'Moderate', 'Hard']  # , 'Diabolical', 'Pathalogical']\n",
    "test_cases = [x for x in su.SAMPLE_PUZZLES if x['level'] in include_levels]\n",
    "\n",
    "NUM_SAMPLES=5"
   ]
  },
  {
   "cell_type": "markdown",
   "metadata": {},
   "source": [
    "The final bit of code to introduce is the `PuzzleTester` class. We add puzzles as test cases and then run different solving strategies against them. The tester class will track performance times."
   ]
  },
  {
   "cell_type": "code",
   "execution_count": 9,
   "metadata": {},
   "outputs": [],
   "source": [
    "pt = pg.PuzzleTester(puzzle_class=su.SudokuPuzzle, test_samples=NUM_SAMPLES)\n",
    "pt.add_testcases(test_cases)"
   ]
  },
  {
   "cell_type": "markdown",
   "metadata": {},
   "source": [
    "## Backtracking\n",
    "\n",
    "**TODO:** Explanation of algorithm. Implemented in `BacktrackingSolver`.\n",
    "\n",
    "The primary advantage of backtracking is that it can solve any puzzle, given sufficient time. In test code below, limiting `include_levels` to `Kids`, `Easy`, and `Moderate` will complete the testing in ~1 second. On the other hand:\n",
    "\n",
    "* `Hard` extends the running time to ~15 seconds.\n",
    "* `Diabolical` takes ~5 minutes.\n",
    "* `Pathalogical` takes ~36 minutes.\n",
    "\n",
    "The time is due to the poor performance of the \"naive\" backtracking algorithm on some (but not all) puzzles. We're also solving each puzzle `NUM_SAMPLES` times (5 by default). We then average out the running times."
   ]
  },
  {
   "cell_type": "code",
   "execution_count": 10,
   "metadata": {},
   "outputs": [
    {
     "data": {
      "text/html": [
       "<progress style=\"width: 100%\" max=8 value=8>8 out of 8</progress>"
      ],
      "text/plain": [
       "<IPython.core.display.HTML object>"
      ]
     },
     "metadata": {},
     "output_type": "display_data"
    },
    {
     "data": {
      "text/html": [
       "<p>Completed 8 test cases in 20.73 seconds</p>"
      ],
      "text/plain": [
       "<IPython.core.display.HTML object>"
      ]
     },
     "metadata": {},
     "output_type": "display_data"
    }
   ],
   "source": [
    "method = 'backtracking'\n",
    "solver = su.BacktrackingSolver()\n",
    "n = pt.run_tests(solver, method, callback=update_progress)"
   ]
  },
  {
   "cell_type": "markdown",
   "metadata": {},
   "source": [
    "Can see some results below. Sorted by time taken (longest first). Plain backtracking is always slower, and on some puzzles it's a huge difference. "
   ]
  },
  {
   "cell_type": "code",
   "execution_count": 11,
   "metadata": {},
   "outputs": [
    {
     "data": {
      "text/html": [
       "<div>\n",
       "<style scoped>\n",
       "    .dataframe tbody tr th:only-of-type {\n",
       "        vertical-align: middle;\n",
       "    }\n",
       "\n",
       "    .dataframe tbody tr th {\n",
       "        vertical-align: top;\n",
       "    }\n",
       "\n",
       "    .dataframe thead th {\n",
       "        text-align: right;\n",
       "    }\n",
       "</style>\n",
       "<table border=\"1\" class=\"dataframe\">\n",
       "  <thead>\n",
       "    <tr style=\"text-align: right;\">\n",
       "      <th></th>\n",
       "      <th>label</th>\n",
       "      <th>level</th>\n",
       "      <th>starting_clues</th>\n",
       "      <th>backtracking</th>\n",
       "    </tr>\n",
       "  </thead>\n",
       "  <tbody>\n",
       "    <tr>\n",
       "      <th>5</th>\n",
       "      <td>SMH 4</td>\n",
       "      <td>Hard</td>\n",
       "      <td>22</td>\n",
       "      <td>1.9386</td>\n",
       "    </tr>\n",
       "    <tr>\n",
       "      <th>6</th>\n",
       "      <td>SMH 5</td>\n",
       "      <td>Hard</td>\n",
       "      <td>25</td>\n",
       "      <td>0.8990</td>\n",
       "    </tr>\n",
       "    <tr>\n",
       "      <th>7</th>\n",
       "      <td>Greg [2017]</td>\n",
       "      <td>Hard</td>\n",
       "      <td>21</td>\n",
       "      <td>0.8557</td>\n",
       "    </tr>\n",
       "    <tr>\n",
       "      <th>1</th>\n",
       "      <td>SMH 2</td>\n",
       "      <td>Easy</td>\n",
       "      <td>24</td>\n",
       "      <td>0.2511</td>\n",
       "    </tr>\n",
       "    <tr>\n",
       "      <th>4</th>\n",
       "      <td>SMH 3</td>\n",
       "      <td>Moderate</td>\n",
       "      <td>26</td>\n",
       "      <td>0.1026</td>\n",
       "    </tr>\n",
       "    <tr>\n",
       "      <th>3</th>\n",
       "      <td>Rico Alan Heart</td>\n",
       "      <td>Easy</td>\n",
       "      <td>22</td>\n",
       "      <td>0.0769</td>\n",
       "    </tr>\n",
       "    <tr>\n",
       "      <th>2</th>\n",
       "      <td>KTH 1</td>\n",
       "      <td>Easy</td>\n",
       "      <td>30</td>\n",
       "      <td>0.0176</td>\n",
       "    </tr>\n",
       "    <tr>\n",
       "      <th>0</th>\n",
       "      <td>SMH 1</td>\n",
       "      <td>Kids</td>\n",
       "      <td>31</td>\n",
       "      <td>0.0043</td>\n",
       "    </tr>\n",
       "  </tbody>\n",
       "</table>\n",
       "</div>"
      ],
      "text/plain": [
       "             label     level  starting_clues  backtracking\n",
       "5            SMH 4      Hard              22        1.9386\n",
       "6            SMH 5      Hard              25        0.8990\n",
       "7      Greg [2017]      Hard              21        0.8557\n",
       "1            SMH 2      Easy              24        0.2511\n",
       "4            SMH 3  Moderate              26        0.1026\n",
       "3  Rico Alan Heart      Easy              22        0.0769\n",
       "2            KTH 1      Easy              30        0.0176\n",
       "0            SMH 1      Kids              31        0.0043"
      ]
     },
     "execution_count": 11,
     "metadata": {},
     "output_type": "execute_result"
    }
   ],
   "source": [
    "df = pd.DataFrame(pt.get_test_results())\n",
    "df.sort_values(by=method, ascending=False)"
   ]
  },
  {
   "cell_type": "markdown",
   "metadata": {},
   "source": [
    "## Constaint Propogation\n",
    "\n",
    "*TODO*: Explanation of backtracking + constraint propogation.\n",
    "\n"
   ]
  },
  {
   "cell_type": "code",
   "execution_count": 12,
   "metadata": {},
   "outputs": [
    {
     "data": {
      "text/html": [
       "<progress style=\"width: 100%\" max=8 value=8>8 out of 8</progress>"
      ],
      "text/plain": [
       "<IPython.core.display.HTML object>"
      ]
     },
     "metadata": {},
     "output_type": "display_data"
    },
    {
     "data": {
      "text/html": [
       "<p>Completed 8 test cases in 0.99 seconds</p>"
      ],
      "text/plain": [
       "<IPython.core.display.HTML object>"
      ]
     },
     "metadata": {},
     "output_type": "display_data"
    }
   ],
   "source": [
    "method = 'constraintpropogation'\n",
    "solver = su.ConstraintPropogationSolver()\n",
    "n = pt.run_tests(solver, method, callback=update_progress)"
   ]
  },
  {
   "cell_type": "markdown",
   "metadata": {},
   "source": [
    "This way is generally much faster. "
   ]
  },
  {
   "cell_type": "code",
   "execution_count": 13,
   "metadata": {},
   "outputs": [
    {
     "data": {
      "text/html": [
       "<div>\n",
       "<style scoped>\n",
       "    .dataframe tbody tr th:only-of-type {\n",
       "        vertical-align: middle;\n",
       "    }\n",
       "\n",
       "    .dataframe tbody tr th {\n",
       "        vertical-align: top;\n",
       "    }\n",
       "\n",
       "    .dataframe thead th {\n",
       "        text-align: right;\n",
       "    }\n",
       "</style>\n",
       "<table border=\"1\" class=\"dataframe\">\n",
       "  <thead>\n",
       "    <tr style=\"text-align: right;\">\n",
       "      <th></th>\n",
       "      <th>label</th>\n",
       "      <th>level</th>\n",
       "      <th>starting_clues</th>\n",
       "      <th>backtracking</th>\n",
       "      <th>constraintpropogation</th>\n",
       "    </tr>\n",
       "  </thead>\n",
       "  <tbody>\n",
       "    <tr>\n",
       "      <th>7</th>\n",
       "      <td>Greg [2017]</td>\n",
       "      <td>Hard</td>\n",
       "      <td>21</td>\n",
       "      <td>0.8557</td>\n",
       "      <td>0.0585</td>\n",
       "    </tr>\n",
       "    <tr>\n",
       "      <th>3</th>\n",
       "      <td>Rico Alan Heart</td>\n",
       "      <td>Easy</td>\n",
       "      <td>22</td>\n",
       "      <td>0.0769</td>\n",
       "      <td>0.0370</td>\n",
       "    </tr>\n",
       "    <tr>\n",
       "      <th>5</th>\n",
       "      <td>SMH 4</td>\n",
       "      <td>Hard</td>\n",
       "      <td>22</td>\n",
       "      <td>1.9386</td>\n",
       "      <td>0.0363</td>\n",
       "    </tr>\n",
       "    <tr>\n",
       "      <th>6</th>\n",
       "      <td>SMH 5</td>\n",
       "      <td>Hard</td>\n",
       "      <td>25</td>\n",
       "      <td>0.8990</td>\n",
       "      <td>0.0299</td>\n",
       "    </tr>\n",
       "    <tr>\n",
       "      <th>4</th>\n",
       "      <td>SMH 3</td>\n",
       "      <td>Moderate</td>\n",
       "      <td>26</td>\n",
       "      <td>0.1026</td>\n",
       "      <td>0.0290</td>\n",
       "    </tr>\n",
       "    <tr>\n",
       "      <th>1</th>\n",
       "      <td>SMH 2</td>\n",
       "      <td>Easy</td>\n",
       "      <td>24</td>\n",
       "      <td>0.2511</td>\n",
       "      <td>0.0031</td>\n",
       "    </tr>\n",
       "    <tr>\n",
       "      <th>0</th>\n",
       "      <td>SMH 1</td>\n",
       "      <td>Kids</td>\n",
       "      <td>31</td>\n",
       "      <td>0.0043</td>\n",
       "      <td>0.0029</td>\n",
       "    </tr>\n",
       "    <tr>\n",
       "      <th>2</th>\n",
       "      <td>KTH 1</td>\n",
       "      <td>Easy</td>\n",
       "      <td>30</td>\n",
       "      <td>0.0176</td>\n",
       "      <td>0.0017</td>\n",
       "    </tr>\n",
       "  </tbody>\n",
       "</table>\n",
       "</div>"
      ],
      "text/plain": [
       "             label     level  starting_clues  backtracking  \\\n",
       "7      Greg [2017]      Hard              21        0.8557   \n",
       "3  Rico Alan Heart      Easy              22        0.0769   \n",
       "5            SMH 4      Hard              22        1.9386   \n",
       "6            SMH 5      Hard              25        0.8990   \n",
       "4            SMH 3  Moderate              26        0.1026   \n",
       "1            SMH 2      Easy              24        0.2511   \n",
       "0            SMH 1      Kids              31        0.0043   \n",
       "2            KTH 1      Easy              30        0.0176   \n",
       "\n",
       "   constraintpropogation  \n",
       "7                 0.0585  \n",
       "3                 0.0370  \n",
       "5                 0.0363  \n",
       "6                 0.0299  \n",
       "4                 0.0290  \n",
       "1                 0.0031  \n",
       "0                 0.0029  \n",
       "2                 0.0017  "
      ]
     },
     "execution_count": 13,
     "metadata": {},
     "output_type": "execute_result"
    }
   ],
   "source": [
    "df = pd.DataFrame(pt.get_test_results())\n",
    "df.sort_values(by=method, ascending=False)"
   ]
  },
  {
   "cell_type": "markdown",
   "metadata": {},
   "source": [
    "## Deductive Logic\n",
    "\n",
    "There are some [common Sudoku strategies](https://www.sudokudragon.com/sudokustrategy.htm) which aren't too hard to code and I want to test them. Their primary advantage is that they are fast, but they're not always able to solve all puzzles. The more difficult ones aren't usually solved this way, and we have to fall back to backtracking to finish them off. Still, being able to solve even a few cells with a deductive logic technique can dramatically improve the performance time, because the backtracking solution has fewer search paths to go through.\n",
    "\n",
    "The three coded here are:\n",
    "\n",
    "* Single Possibilities (TODO: explain)\n",
    "* Only Squares (TODO: explain)\n",
    "* Two out of Three Rule (TODO: explain)\n",
    "\n",
    "### Single Possibilities\n"
   ]
  },
  {
   "cell_type": "code",
   "execution_count": 14,
   "metadata": {},
   "outputs": [],
   "source": [
    "method = 'deductive'\n",
    "solver = su.DeductiveSolver()\n",
    "p = su.SudokuPuzzle(starting_grid=su.SAMPLE_PUZZLES[0]['puzzle'])\n",
    "original = copy.deepcopy(p)"
   ]
  },
  {
   "cell_type": "code",
   "execution_count": 15,
   "metadata": {},
   "outputs": [
    {
     "data": {
      "text/html": [
       "<table><tr><td><table class=\"sudoku\"><tr><td>8</td><td>9</td><td> </td><td>4</td><td> </td><td> </td><td> </td><td>5</td><td>6</td></tr><tr><td>1</td><td>4</td><td> </td><td>3</td><td>5</td><td> </td><td> </td><td>9</td><td> </td></tr><tr><td> </td><td> </td><td> </td><td> </td><td> </td><td> </td><td>8</td><td> </td><td> </td></tr><tr><td>9</td><td> </td><td> </td><td> </td><td> </td><td> </td><td>2</td><td> </td><td> </td></tr><tr><td> </td><td>8</td><td> </td><td>9</td><td>6</td><td>5</td><td> </td><td>4</td><td> </td></tr><tr><td> </td><td> </td><td>1</td><td> </td><td> </td><td> </td><td> </td><td> </td><td>5</td></tr><tr><td> </td><td> </td><td>8</td><td> </td><td> </td><td> </td><td> </td><td> </td><td> </td></tr><tr><td> </td><td>3</td><td> </td><td> </td><td>2</td><td>1</td><td> </td><td>7</td><td>8</td></tr><tr><td>4</td><td>2</td><td> </td><td> </td><td> </td><td>6</td><td> </td><td>1</td><td>3</td></tr></table></td><td><table class=\"sudoku solved\"><tr><td>8</td><td>9</td><td>3</td><td>4</td><td>7</td><td>2</td><td>1</td><td>5</td><td>6</td></tr><tr><td>1</td><td>4</td><td>6</td><td>3</td><td>5</td><td>8</td><td>7</td><td>9</td><td>2</td></tr><tr><td>2</td><td>7</td><td>5</td><td>6</td><td>1</td><td>9</td><td>8</td><td>3</td><td>4</td></tr><tr><td>9</td><td>5</td><td>4</td><td>1</td><td>8</td><td>3</td><td>2</td><td>6</td><td>7</td></tr><tr><td>7</td><td>8</td><td>2</td><td>9</td><td>6</td><td>5</td><td>3</td><td>4</td><td>1</td></tr><tr><td>3</td><td>6</td><td>1</td><td>2</td><td>4</td><td>7</td><td>9</td><td>8</td><td>5</td></tr><tr><td>5</td><td>1</td><td>8</td><td>7</td><td>3</td><td>4</td><td>6</td><td>2</td><td>9</td></tr><tr><td>6</td><td>3</td><td>9</td><td>5</td><td>2</td><td>1</td><td>4</td><td>7</td><td>8</td></tr><tr><td>4</td><td>2</td><td>7</td><td>8</td><td>9</td><td>6</td><td>5</td><td>1</td><td>3</td></tr></table></td></tr></table>"
      ],
      "text/plain": [
       "<IPython.core.display.HTML object>"
      ]
     },
     "metadata": {},
     "output_type": "display_data"
    }
   ],
   "source": [
    "solver.solve_single_possibilities(p)\n",
    "print_2_puzzles(original, p)"
   ]
  },
  {
   "cell_type": "markdown",
   "metadata": {},
   "source": [
    "### Only Squares\n"
   ]
  },
  {
   "cell_type": "code",
   "execution_count": 16,
   "metadata": {},
   "outputs": [
    {
     "data": {
      "text/html": [
       "<table><tr><td><table class=\"sudoku\"><tr><td>8</td><td>9</td><td> </td><td>4</td><td> </td><td> </td><td> </td><td>5</td><td>6</td></tr><tr><td>1</td><td>4</td><td> </td><td>3</td><td>5</td><td> </td><td> </td><td>9</td><td> </td></tr><tr><td> </td><td> </td><td> </td><td> </td><td> </td><td> </td><td>8</td><td> </td><td> </td></tr><tr><td>9</td><td> </td><td> </td><td> </td><td> </td><td> </td><td>2</td><td> </td><td> </td></tr><tr><td> </td><td>8</td><td> </td><td>9</td><td>6</td><td>5</td><td> </td><td>4</td><td> </td></tr><tr><td> </td><td> </td><td>1</td><td> </td><td> </td><td> </td><td> </td><td> </td><td>5</td></tr><tr><td> </td><td> </td><td>8</td><td> </td><td> </td><td> </td><td> </td><td> </td><td> </td></tr><tr><td> </td><td>3</td><td> </td><td> </td><td>2</td><td>1</td><td> </td><td>7</td><td>8</td></tr><tr><td>4</td><td>2</td><td> </td><td> </td><td> </td><td>6</td><td> </td><td>1</td><td>3</td></tr></table></td><td><table class=\"sudoku solved\"><tr><td>8</td><td>9</td><td>3</td><td>4</td><td>7</td><td>2</td><td>1</td><td>5</td><td>6</td></tr><tr><td>1</td><td>4</td><td>6</td><td>3</td><td>5</td><td>8</td><td>7</td><td>9</td><td>2</td></tr><tr><td>2</td><td>7</td><td>5</td><td>6</td><td>1</td><td>9</td><td>8</td><td>3</td><td>4</td></tr><tr><td>9</td><td>5</td><td>4</td><td>1</td><td>8</td><td>3</td><td>2</td><td>6</td><td>7</td></tr><tr><td>7</td><td>8</td><td>2</td><td>9</td><td>6</td><td>5</td><td>3</td><td>4</td><td>1</td></tr><tr><td>3</td><td>6</td><td>1</td><td>2</td><td>4</td><td>7</td><td>9</td><td>8</td><td>5</td></tr><tr><td>5</td><td>1</td><td>8</td><td>7</td><td>3</td><td>4</td><td>6</td><td>2</td><td>9</td></tr><tr><td>6</td><td>3</td><td>9</td><td>5</td><td>2</td><td>1</td><td>4</td><td>7</td><td>8</td></tr><tr><td>4</td><td>2</td><td>7</td><td>8</td><td>9</td><td>6</td><td>5</td><td>1</td><td>3</td></tr></table></td></tr></table>"
      ],
      "text/plain": [
       "<IPython.core.display.HTML object>"
      ]
     },
     "metadata": {},
     "output_type": "display_data"
    }
   ],
   "source": [
    "p = copy.deepcopy(original)\n",
    "solver.solve_only_squares(p)\n",
    "print_2_puzzles(original, p)"
   ]
  },
  {
   "cell_type": "markdown",
   "metadata": {},
   "source": [
    "### Two out of Three\n",
    "\n",
    "This idea comes from [Sudoku Dragon's Two out of Three Rule](https://www.sudokudragon.com/forum/twothreestrategy.htm). The code is more complicated than any of the other methods which makes its performance dissapointing. On its own, it is not able to solve any puzzles. It can solve a few cells though.\n"
   ]
  },
  {
   "cell_type": "code",
   "execution_count": 17,
   "metadata": {},
   "outputs": [
    {
     "data": {
      "text/html": [
       "<table><tr><td><table class=\"sudoku\"><tr><td>8</td><td>9</td><td> </td><td>4</td><td> </td><td> </td><td> </td><td>5</td><td>6</td></tr><tr><td>1</td><td>4</td><td> </td><td>3</td><td>5</td><td> </td><td> </td><td>9</td><td> </td></tr><tr><td> </td><td> </td><td> </td><td> </td><td> </td><td> </td><td>8</td><td> </td><td> </td></tr><tr><td>9</td><td> </td><td> </td><td> </td><td> </td><td> </td><td>2</td><td> </td><td> </td></tr><tr><td> </td><td>8</td><td> </td><td>9</td><td>6</td><td>5</td><td> </td><td>4</td><td> </td></tr><tr><td> </td><td> </td><td>1</td><td> </td><td> </td><td> </td><td> </td><td> </td><td>5</td></tr><tr><td> </td><td> </td><td>8</td><td> </td><td> </td><td> </td><td> </td><td> </td><td> </td></tr><tr><td> </td><td>3</td><td> </td><td> </td><td>2</td><td>1</td><td> </td><td>7</td><td>8</td></tr><tr><td>4</td><td>2</td><td> </td><td> </td><td> </td><td>6</td><td> </td><td>1</td><td>3</td></tr></table></td><td><table class=\"sudoku\"><tr><td>8</td><td>9</td><td> </td><td>4</td><td> </td><td> </td><td> </td><td>5</td><td>6</td></tr><tr><td>1</td><td>4</td><td>6</td><td>3</td><td>5</td><td>8</td><td> </td><td>9</td><td>2</td></tr><tr><td> </td><td> </td><td> </td><td>6</td><td> </td><td> </td><td>8</td><td> </td><td>4</td></tr><tr><td>9</td><td>5</td><td>4</td><td> </td><td> </td><td> </td><td>2</td><td> </td><td> </td></tr><tr><td> </td><td>8</td><td> </td><td>9</td><td>6</td><td>5</td><td> </td><td>4</td><td> </td></tr><tr><td> </td><td> </td><td>1</td><td> </td><td> </td><td> </td><td>9</td><td> </td><td>5</td></tr><tr><td> </td><td>1</td><td>8</td><td> </td><td> </td><td> </td><td> </td><td>2</td><td>9</td></tr><tr><td> </td><td>3</td><td> </td><td> </td><td>2</td><td>1</td><td> </td><td>7</td><td>8</td></tr><tr><td>4</td><td>2</td><td> </td><td> </td><td> </td><td>6</td><td> </td><td>1</td><td>3</td></tr></table></td></tr></table>"
      ],
      "text/plain": [
       "<IPython.core.display.HTML object>"
      ]
     },
     "metadata": {},
     "output_type": "display_data"
    }
   ],
   "source": [
    "p = copy.deepcopy(original)\n",
    "solver.solve_two_out_of_three(p)\n",
    "print_2_puzzles(original, p)"
   ]
  },
  {
   "cell_type": "markdown",
   "metadata": {},
   "source": [
    "So how many cells did this method solve?"
   ]
  },
  {
   "cell_type": "code",
   "execution_count": 18,
   "metadata": {},
   "outputs": [
    {
     "data": {
      "text/plain": [
       "11"
      ]
     },
     "execution_count": 18,
     "metadata": {},
     "output_type": "execute_result"
    }
   ],
   "source": [
    "original.num_empty_cells() - p.num_empty_cells()"
   ]
  },
  {
   "cell_type": "markdown",
   "metadata": {},
   "source": [
    "And that was on the easiest puzzle in the test suite. When solving \"manually\" it's actually quite a useful and easy technique to apply. My code is pretty awful though and its effectiveness led me to lose motivation for coding any more complicated methods!"
   ]
  },
  {
   "cell_type": "markdown",
   "metadata": {},
   "source": [
    "### Hybrid\n",
    "\n",
    "Since the deductive methods can't solve all puzzles we have a hybrid approach which will attempt to use the deductive methods as long as possible, and then fall back to backtracking + constraint propogation. It *should* be faster than CP alone.\n",
    "\n",
    "First we'll try with repeated applications of *just* the deductive methods.\n"
   ]
  },
  {
   "cell_type": "code",
   "execution_count": 19,
   "metadata": {},
   "outputs": [
    {
     "data": {
      "text/html": [
       "<progress style=\"width: 100%\" max=8 value=8>8 out of 8</progress>"
      ],
      "text/plain": [
       "<IPython.core.display.HTML object>"
      ]
     },
     "metadata": {},
     "output_type": "display_data"
    },
    {
     "data": {
      "text/html": [
       "<p>Completed 8 test cases in 0.50 seconds</p>"
      ],
      "text/plain": [
       "<IPython.core.display.HTML object>"
      ]
     },
     "metadata": {},
     "output_type": "display_data"
    }
   ],
   "source": [
    "method = 'deductive'\n",
    "solver = su.DeductiveSolver(use_backtracking=False)\n",
    "n = pt.run_tests(solver, method, callback=update_progress)"
   ]
  },
  {
   "cell_type": "code",
   "execution_count": 20,
   "metadata": {},
   "outputs": [
    {
     "data": {
      "text/html": [
       "<style  type=\"text/css\" >\n",
       "    #T_b16613b4_f33b_11ea_bf28_8c85903d48d1row0_col0 {\n",
       "            color:  white;\n",
       "        }    #T_b16613b4_f33b_11ea_bf28_8c85903d48d1row0_col1 {\n",
       "            color:  white;\n",
       "        }    #T_b16613b4_f33b_11ea_bf28_8c85903d48d1row0_col2 {\n",
       "            color:  white;\n",
       "        }    #T_b16613b4_f33b_11ea_bf28_8c85903d48d1row0_col3 {\n",
       "            color:  white;\n",
       "        }    #T_b16613b4_f33b_11ea_bf28_8c85903d48d1row0_col4 {\n",
       "            color:  white;\n",
       "        }    #T_b16613b4_f33b_11ea_bf28_8c85903d48d1row0_col5 {\n",
       "            color:  white;\n",
       "        }    #T_b16613b4_f33b_11ea_bf28_8c85903d48d1row1_col0 {\n",
       "            color:  white;\n",
       "        }    #T_b16613b4_f33b_11ea_bf28_8c85903d48d1row1_col1 {\n",
       "            color:  white;\n",
       "        }    #T_b16613b4_f33b_11ea_bf28_8c85903d48d1row1_col2 {\n",
       "            color:  white;\n",
       "        }    #T_b16613b4_f33b_11ea_bf28_8c85903d48d1row1_col3 {\n",
       "            color:  white;\n",
       "        }    #T_b16613b4_f33b_11ea_bf28_8c85903d48d1row1_col4 {\n",
       "            color:  white;\n",
       "        }    #T_b16613b4_f33b_11ea_bf28_8c85903d48d1row1_col5 {\n",
       "            color:  white;\n",
       "        }    #T_b16613b4_f33b_11ea_bf28_8c85903d48d1row2_col0 {\n",
       "            color:  white;\n",
       "        }    #T_b16613b4_f33b_11ea_bf28_8c85903d48d1row2_col1 {\n",
       "            color:  white;\n",
       "        }    #T_b16613b4_f33b_11ea_bf28_8c85903d48d1row2_col2 {\n",
       "            color:  white;\n",
       "        }    #T_b16613b4_f33b_11ea_bf28_8c85903d48d1row2_col3 {\n",
       "            color:  white;\n",
       "        }    #T_b16613b4_f33b_11ea_bf28_8c85903d48d1row2_col4 {\n",
       "            color:  white;\n",
       "        }    #T_b16613b4_f33b_11ea_bf28_8c85903d48d1row2_col5 {\n",
       "            color:  white;\n",
       "        }    #T_b16613b4_f33b_11ea_bf28_8c85903d48d1row3_col0 {\n",
       "            color:  white;\n",
       "        }    #T_b16613b4_f33b_11ea_bf28_8c85903d48d1row3_col1 {\n",
       "            color:  white;\n",
       "        }    #T_b16613b4_f33b_11ea_bf28_8c85903d48d1row3_col2 {\n",
       "            color:  white;\n",
       "        }    #T_b16613b4_f33b_11ea_bf28_8c85903d48d1row3_col3 {\n",
       "            color:  white;\n",
       "        }    #T_b16613b4_f33b_11ea_bf28_8c85903d48d1row3_col4 {\n",
       "            color:  white;\n",
       "        }    #T_b16613b4_f33b_11ea_bf28_8c85903d48d1row3_col5 {\n",
       "            color:  white;\n",
       "        }    #T_b16613b4_f33b_11ea_bf28_8c85903d48d1row4_col0 {\n",
       "            color:  white;\n",
       "        }    #T_b16613b4_f33b_11ea_bf28_8c85903d48d1row4_col1 {\n",
       "            color:  white;\n",
       "        }    #T_b16613b4_f33b_11ea_bf28_8c85903d48d1row4_col2 {\n",
       "            color:  white;\n",
       "        }    #T_b16613b4_f33b_11ea_bf28_8c85903d48d1row4_col3 {\n",
       "            color:  white;\n",
       "        }    #T_b16613b4_f33b_11ea_bf28_8c85903d48d1row4_col4 {\n",
       "            color:  white;\n",
       "        }    #T_b16613b4_f33b_11ea_bf28_8c85903d48d1row4_col5 {\n",
       "            color:  red;\n",
       "        }    #T_b16613b4_f33b_11ea_bf28_8c85903d48d1row5_col0 {\n",
       "            color:  white;\n",
       "        }    #T_b16613b4_f33b_11ea_bf28_8c85903d48d1row5_col1 {\n",
       "            color:  white;\n",
       "        }    #T_b16613b4_f33b_11ea_bf28_8c85903d48d1row5_col2 {\n",
       "            color:  white;\n",
       "        }    #T_b16613b4_f33b_11ea_bf28_8c85903d48d1row5_col3 {\n",
       "            color:  white;\n",
       "        }    #T_b16613b4_f33b_11ea_bf28_8c85903d48d1row5_col4 {\n",
       "            color:  white;\n",
       "        }    #T_b16613b4_f33b_11ea_bf28_8c85903d48d1row5_col5 {\n",
       "            color:  red;\n",
       "        }    #T_b16613b4_f33b_11ea_bf28_8c85903d48d1row6_col0 {\n",
       "            color:  white;\n",
       "        }    #T_b16613b4_f33b_11ea_bf28_8c85903d48d1row6_col1 {\n",
       "            color:  white;\n",
       "        }    #T_b16613b4_f33b_11ea_bf28_8c85903d48d1row6_col2 {\n",
       "            color:  white;\n",
       "        }    #T_b16613b4_f33b_11ea_bf28_8c85903d48d1row6_col3 {\n",
       "            color:  white;\n",
       "        }    #T_b16613b4_f33b_11ea_bf28_8c85903d48d1row6_col4 {\n",
       "            color:  white;\n",
       "        }    #T_b16613b4_f33b_11ea_bf28_8c85903d48d1row6_col5 {\n",
       "            color:  red;\n",
       "        }    #T_b16613b4_f33b_11ea_bf28_8c85903d48d1row7_col0 {\n",
       "            color:  white;\n",
       "        }    #T_b16613b4_f33b_11ea_bf28_8c85903d48d1row7_col1 {\n",
       "            color:  white;\n",
       "        }    #T_b16613b4_f33b_11ea_bf28_8c85903d48d1row7_col2 {\n",
       "            color:  white;\n",
       "        }    #T_b16613b4_f33b_11ea_bf28_8c85903d48d1row7_col3 {\n",
       "            color:  white;\n",
       "        }    #T_b16613b4_f33b_11ea_bf28_8c85903d48d1row7_col4 {\n",
       "            color:  white;\n",
       "        }    #T_b16613b4_f33b_11ea_bf28_8c85903d48d1row7_col5 {\n",
       "            color:  red;\n",
       "        }</style><table id=\"T_b16613b4_f33b_11ea_bf28_8c85903d48d1\" ><thead>    <tr>        <th class=\"blank level0\" ></th>        <th class=\"col_heading level0 col0\" >label</th>        <th class=\"col_heading level0 col1\" >level</th>        <th class=\"col_heading level0 col2\" >starting_clues</th>        <th class=\"col_heading level0 col3\" >backtracking</th>        <th class=\"col_heading level0 col4\" >constraintpropogation</th>        <th class=\"col_heading level0 col5\" >deductive</th>    </tr></thead><tbody>\n",
       "                <tr>\n",
       "                        <th id=\"T_b16613b4_f33b_11ea_bf28_8c85903d48d1level0_row0\" class=\"row_heading level0 row0\" >0</th>\n",
       "                        <td id=\"T_b16613b4_f33b_11ea_bf28_8c85903d48d1row0_col0\" class=\"data row0 col0\" >SMH 1</td>\n",
       "                        <td id=\"T_b16613b4_f33b_11ea_bf28_8c85903d48d1row0_col1\" class=\"data row0 col1\" >Kids</td>\n",
       "                        <td id=\"T_b16613b4_f33b_11ea_bf28_8c85903d48d1row0_col2\" class=\"data row0 col2\" >31</td>\n",
       "                        <td id=\"T_b16613b4_f33b_11ea_bf28_8c85903d48d1row0_col3\" class=\"data row0 col3\" >0.004338</td>\n",
       "                        <td id=\"T_b16613b4_f33b_11ea_bf28_8c85903d48d1row0_col4\" class=\"data row0 col4\" >0.002866</td>\n",
       "                        <td id=\"T_b16613b4_f33b_11ea_bf28_8c85903d48d1row0_col5\" class=\"data row0 col5\" >0.002422</td>\n",
       "            </tr>\n",
       "            <tr>\n",
       "                        <th id=\"T_b16613b4_f33b_11ea_bf28_8c85903d48d1level0_row1\" class=\"row_heading level0 row1\" >1</th>\n",
       "                        <td id=\"T_b16613b4_f33b_11ea_bf28_8c85903d48d1row1_col0\" class=\"data row1 col0\" >SMH 2</td>\n",
       "                        <td id=\"T_b16613b4_f33b_11ea_bf28_8c85903d48d1row1_col1\" class=\"data row1 col1\" >Easy</td>\n",
       "                        <td id=\"T_b16613b4_f33b_11ea_bf28_8c85903d48d1row1_col2\" class=\"data row1 col2\" >24</td>\n",
       "                        <td id=\"T_b16613b4_f33b_11ea_bf28_8c85903d48d1row1_col3\" class=\"data row1 col3\" >0.2511</td>\n",
       "                        <td id=\"T_b16613b4_f33b_11ea_bf28_8c85903d48d1row1_col4\" class=\"data row1 col4\" >0.003105</td>\n",
       "                        <td id=\"T_b16613b4_f33b_11ea_bf28_8c85903d48d1row1_col5\" class=\"data row1 col5\" >0.007922</td>\n",
       "            </tr>\n",
       "            <tr>\n",
       "                        <th id=\"T_b16613b4_f33b_11ea_bf28_8c85903d48d1level0_row2\" class=\"row_heading level0 row2\" >2</th>\n",
       "                        <td id=\"T_b16613b4_f33b_11ea_bf28_8c85903d48d1row2_col0\" class=\"data row2 col0\" >KTH 1</td>\n",
       "                        <td id=\"T_b16613b4_f33b_11ea_bf28_8c85903d48d1row2_col1\" class=\"data row2 col1\" >Easy</td>\n",
       "                        <td id=\"T_b16613b4_f33b_11ea_bf28_8c85903d48d1row2_col2\" class=\"data row2 col2\" >30</td>\n",
       "                        <td id=\"T_b16613b4_f33b_11ea_bf28_8c85903d48d1row2_col3\" class=\"data row2 col3\" >0.0176</td>\n",
       "                        <td id=\"T_b16613b4_f33b_11ea_bf28_8c85903d48d1row2_col4\" class=\"data row2 col4\" >0.00171</td>\n",
       "                        <td id=\"T_b16613b4_f33b_11ea_bf28_8c85903d48d1row2_col5\" class=\"data row2 col5\" >0.003293</td>\n",
       "            </tr>\n",
       "            <tr>\n",
       "                        <th id=\"T_b16613b4_f33b_11ea_bf28_8c85903d48d1level0_row3\" class=\"row_heading level0 row3\" >3</th>\n",
       "                        <td id=\"T_b16613b4_f33b_11ea_bf28_8c85903d48d1row3_col0\" class=\"data row3 col0\" >Rico Alan Heart</td>\n",
       "                        <td id=\"T_b16613b4_f33b_11ea_bf28_8c85903d48d1row3_col1\" class=\"data row3 col1\" >Easy</td>\n",
       "                        <td id=\"T_b16613b4_f33b_11ea_bf28_8c85903d48d1row3_col2\" class=\"data row3 col2\" >22</td>\n",
       "                        <td id=\"T_b16613b4_f33b_11ea_bf28_8c85903d48d1row3_col3\" class=\"data row3 col3\" >0.07689</td>\n",
       "                        <td id=\"T_b16613b4_f33b_11ea_bf28_8c85903d48d1row3_col4\" class=\"data row3 col4\" >0.03697</td>\n",
       "                        <td id=\"T_b16613b4_f33b_11ea_bf28_8c85903d48d1row3_col5\" class=\"data row3 col5\" >0.01729</td>\n",
       "            </tr>\n",
       "            <tr>\n",
       "                        <th id=\"T_b16613b4_f33b_11ea_bf28_8c85903d48d1level0_row4\" class=\"row_heading level0 row4\" >4</th>\n",
       "                        <td id=\"T_b16613b4_f33b_11ea_bf28_8c85903d48d1row4_col0\" class=\"data row4 col0\" >SMH 3</td>\n",
       "                        <td id=\"T_b16613b4_f33b_11ea_bf28_8c85903d48d1row4_col1\" class=\"data row4 col1\" >Moderate</td>\n",
       "                        <td id=\"T_b16613b4_f33b_11ea_bf28_8c85903d48d1row4_col2\" class=\"data row4 col2\" >26</td>\n",
       "                        <td id=\"T_b16613b4_f33b_11ea_bf28_8c85903d48d1row4_col3\" class=\"data row4 col3\" >0.1026</td>\n",
       "                        <td id=\"T_b16613b4_f33b_11ea_bf28_8c85903d48d1row4_col4\" class=\"data row4 col4\" >0.02901</td>\n",
       "                        <td id=\"T_b16613b4_f33b_11ea_bf28_8c85903d48d1row4_col5\" class=\"data row4 col5\" >nan</td>\n",
       "            </tr>\n",
       "            <tr>\n",
       "                        <th id=\"T_b16613b4_f33b_11ea_bf28_8c85903d48d1level0_row5\" class=\"row_heading level0 row5\" >5</th>\n",
       "                        <td id=\"T_b16613b4_f33b_11ea_bf28_8c85903d48d1row5_col0\" class=\"data row5 col0\" >SMH 4</td>\n",
       "                        <td id=\"T_b16613b4_f33b_11ea_bf28_8c85903d48d1row5_col1\" class=\"data row5 col1\" >Hard</td>\n",
       "                        <td id=\"T_b16613b4_f33b_11ea_bf28_8c85903d48d1row5_col2\" class=\"data row5 col2\" >22</td>\n",
       "                        <td id=\"T_b16613b4_f33b_11ea_bf28_8c85903d48d1row5_col3\" class=\"data row5 col3\" >1.939</td>\n",
       "                        <td id=\"T_b16613b4_f33b_11ea_bf28_8c85903d48d1row5_col4\" class=\"data row5 col4\" >0.03625</td>\n",
       "                        <td id=\"T_b16613b4_f33b_11ea_bf28_8c85903d48d1row5_col5\" class=\"data row5 col5\" >nan</td>\n",
       "            </tr>\n",
       "            <tr>\n",
       "                        <th id=\"T_b16613b4_f33b_11ea_bf28_8c85903d48d1level0_row6\" class=\"row_heading level0 row6\" >6</th>\n",
       "                        <td id=\"T_b16613b4_f33b_11ea_bf28_8c85903d48d1row6_col0\" class=\"data row6 col0\" >SMH 5</td>\n",
       "                        <td id=\"T_b16613b4_f33b_11ea_bf28_8c85903d48d1row6_col1\" class=\"data row6 col1\" >Hard</td>\n",
       "                        <td id=\"T_b16613b4_f33b_11ea_bf28_8c85903d48d1row6_col2\" class=\"data row6 col2\" >25</td>\n",
       "                        <td id=\"T_b16613b4_f33b_11ea_bf28_8c85903d48d1row6_col3\" class=\"data row6 col3\" >0.899</td>\n",
       "                        <td id=\"T_b16613b4_f33b_11ea_bf28_8c85903d48d1row6_col4\" class=\"data row6 col4\" >0.02989</td>\n",
       "                        <td id=\"T_b16613b4_f33b_11ea_bf28_8c85903d48d1row6_col5\" class=\"data row6 col5\" >nan</td>\n",
       "            </tr>\n",
       "            <tr>\n",
       "                        <th id=\"T_b16613b4_f33b_11ea_bf28_8c85903d48d1level0_row7\" class=\"row_heading level0 row7\" >7</th>\n",
       "                        <td id=\"T_b16613b4_f33b_11ea_bf28_8c85903d48d1row7_col0\" class=\"data row7 col0\" >Greg [2017]</td>\n",
       "                        <td id=\"T_b16613b4_f33b_11ea_bf28_8c85903d48d1row7_col1\" class=\"data row7 col1\" >Hard</td>\n",
       "                        <td id=\"T_b16613b4_f33b_11ea_bf28_8c85903d48d1row7_col2\" class=\"data row7 col2\" >21</td>\n",
       "                        <td id=\"T_b16613b4_f33b_11ea_bf28_8c85903d48d1row7_col3\" class=\"data row7 col3\" >0.8557</td>\n",
       "                        <td id=\"T_b16613b4_f33b_11ea_bf28_8c85903d48d1row7_col4\" class=\"data row7 col4\" >0.0585</td>\n",
       "                        <td id=\"T_b16613b4_f33b_11ea_bf28_8c85903d48d1row7_col5\" class=\"data row7 col5\" >nan</td>\n",
       "            </tr>\n",
       "    </tbody></table>"
      ],
      "text/plain": [
       "<pandas.io.formats.style.Styler at 0x11456ae90>"
      ]
     },
     "execution_count": 20,
     "metadata": {},
     "output_type": "execute_result"
    }
   ],
   "source": [
    "def color_nan(val):\n",
    "    color = 'red' if pd.isnull(val) else 'white'\n",
    "    return 'color: %s' % color\n",
    "\n",
    "df = pd.DataFrame(pt.get_test_results())\n",
    "df.sort_values(by=method, ascending=False)\n",
    "df.style.applymap(color_nan)"
   ]
  },
  {
   "cell_type": "markdown",
   "metadata": {},
   "source": [
    "Now we'll use constraint propogation + backtracking if the deductive methods fail.\n"
   ]
  },
  {
   "cell_type": "code",
   "execution_count": 21,
   "metadata": {},
   "outputs": [
    {
     "data": {
      "text/html": [
       "<progress style=\"width: 100%\" max=8 value=8>8 out of 8</progress>"
      ],
      "text/plain": [
       "<IPython.core.display.HTML object>"
      ]
     },
     "metadata": {},
     "output_type": "display_data"
    },
    {
     "data": {
      "text/html": [
       "<p>Completed 8 test cases in 0.84 seconds</p>"
      ],
      "text/plain": [
       "<IPython.core.display.HTML object>"
      ]
     },
     "metadata": {},
     "output_type": "display_data"
    }
   ],
   "source": [
    "method = 'combination'\n",
    "solver = su.DeductiveSolver(use_backtracking=True)\n",
    "n = pt.run_tests(solver, method, callback=update_progress)"
   ]
  },
  {
   "cell_type": "code",
   "execution_count": 25,
   "metadata": {},
   "outputs": [
    {
     "data": {
      "text/html": [
       "<style  type=\"text/css\" >\n",
       "    #T_931c7772_f33b_11ea_a761_8c85903d48d1row0_col0 {\n",
       "            color:  white;\n",
       "        }    #T_931c7772_f33b_11ea_a761_8c85903d48d1row0_col1 {\n",
       "            color:  white;\n",
       "        }    #T_931c7772_f33b_11ea_a761_8c85903d48d1row0_col2 {\n",
       "            color:  white;\n",
       "        }    #T_931c7772_f33b_11ea_a761_8c85903d48d1row0_col3 {\n",
       "            color:  white;\n",
       "        }    #T_931c7772_f33b_11ea_a761_8c85903d48d1row0_col4 {\n",
       "            color:  white;\n",
       "        }    #T_931c7772_f33b_11ea_a761_8c85903d48d1row0_col5 {\n",
       "            color:  white;\n",
       "        }    #T_931c7772_f33b_11ea_a761_8c85903d48d1row0_col6 {\n",
       "            color:  white;\n",
       "        }    #T_931c7772_f33b_11ea_a761_8c85903d48d1row1_col0 {\n",
       "            color:  white;\n",
       "        }    #T_931c7772_f33b_11ea_a761_8c85903d48d1row1_col1 {\n",
       "            color:  white;\n",
       "        }    #T_931c7772_f33b_11ea_a761_8c85903d48d1row1_col2 {\n",
       "            color:  white;\n",
       "        }    #T_931c7772_f33b_11ea_a761_8c85903d48d1row1_col3 {\n",
       "            color:  white;\n",
       "        }    #T_931c7772_f33b_11ea_a761_8c85903d48d1row1_col4 {\n",
       "            color:  white;\n",
       "        }    #T_931c7772_f33b_11ea_a761_8c85903d48d1row1_col5 {\n",
       "            color:  white;\n",
       "        }    #T_931c7772_f33b_11ea_a761_8c85903d48d1row1_col6 {\n",
       "            color:  white;\n",
       "        }    #T_931c7772_f33b_11ea_a761_8c85903d48d1row2_col0 {\n",
       "            color:  white;\n",
       "        }    #T_931c7772_f33b_11ea_a761_8c85903d48d1row2_col1 {\n",
       "            color:  white;\n",
       "        }    #T_931c7772_f33b_11ea_a761_8c85903d48d1row2_col2 {\n",
       "            color:  white;\n",
       "        }    #T_931c7772_f33b_11ea_a761_8c85903d48d1row2_col3 {\n",
       "            color:  white;\n",
       "        }    #T_931c7772_f33b_11ea_a761_8c85903d48d1row2_col4 {\n",
       "            color:  white;\n",
       "        }    #T_931c7772_f33b_11ea_a761_8c85903d48d1row2_col5 {\n",
       "            color:  white;\n",
       "        }    #T_931c7772_f33b_11ea_a761_8c85903d48d1row2_col6 {\n",
       "            color:  white;\n",
       "        }    #T_931c7772_f33b_11ea_a761_8c85903d48d1row3_col0 {\n",
       "            color:  white;\n",
       "        }    #T_931c7772_f33b_11ea_a761_8c85903d48d1row3_col1 {\n",
       "            color:  white;\n",
       "        }    #T_931c7772_f33b_11ea_a761_8c85903d48d1row3_col2 {\n",
       "            color:  white;\n",
       "        }    #T_931c7772_f33b_11ea_a761_8c85903d48d1row3_col3 {\n",
       "            color:  white;\n",
       "        }    #T_931c7772_f33b_11ea_a761_8c85903d48d1row3_col4 {\n",
       "            color:  white;\n",
       "        }    #T_931c7772_f33b_11ea_a761_8c85903d48d1row3_col5 {\n",
       "            color:  white;\n",
       "        }    #T_931c7772_f33b_11ea_a761_8c85903d48d1row3_col6 {\n",
       "            color:  white;\n",
       "        }    #T_931c7772_f33b_11ea_a761_8c85903d48d1row4_col0 {\n",
       "            color:  white;\n",
       "        }    #T_931c7772_f33b_11ea_a761_8c85903d48d1row4_col1 {\n",
       "            color:  white;\n",
       "        }    #T_931c7772_f33b_11ea_a761_8c85903d48d1row4_col2 {\n",
       "            color:  white;\n",
       "        }    #T_931c7772_f33b_11ea_a761_8c85903d48d1row4_col3 {\n",
       "            color:  white;\n",
       "        }    #T_931c7772_f33b_11ea_a761_8c85903d48d1row4_col4 {\n",
       "            color:  white;\n",
       "        }    #T_931c7772_f33b_11ea_a761_8c85903d48d1row4_col5 {\n",
       "            color:  white;\n",
       "        }    #T_931c7772_f33b_11ea_a761_8c85903d48d1row4_col6 {\n",
       "            color:  white;\n",
       "        }    #T_931c7772_f33b_11ea_a761_8c85903d48d1row5_col0 {\n",
       "            color:  white;\n",
       "        }    #T_931c7772_f33b_11ea_a761_8c85903d48d1row5_col1 {\n",
       "            color:  white;\n",
       "        }    #T_931c7772_f33b_11ea_a761_8c85903d48d1row5_col2 {\n",
       "            color:  white;\n",
       "        }    #T_931c7772_f33b_11ea_a761_8c85903d48d1row5_col3 {\n",
       "            color:  white;\n",
       "        }    #T_931c7772_f33b_11ea_a761_8c85903d48d1row5_col4 {\n",
       "            color:  white;\n",
       "        }    #T_931c7772_f33b_11ea_a761_8c85903d48d1row5_col5 {\n",
       "            color:  white;\n",
       "        }    #T_931c7772_f33b_11ea_a761_8c85903d48d1row5_col6 {\n",
       "            color:  white;\n",
       "        }    #T_931c7772_f33b_11ea_a761_8c85903d48d1row6_col0 {\n",
       "            color:  white;\n",
       "        }    #T_931c7772_f33b_11ea_a761_8c85903d48d1row6_col1 {\n",
       "            color:  white;\n",
       "        }    #T_931c7772_f33b_11ea_a761_8c85903d48d1row6_col2 {\n",
       "            color:  white;\n",
       "        }    #T_931c7772_f33b_11ea_a761_8c85903d48d1row6_col3 {\n",
       "            color:  white;\n",
       "        }    #T_931c7772_f33b_11ea_a761_8c85903d48d1row6_col4 {\n",
       "            color:  white;\n",
       "        }    #T_931c7772_f33b_11ea_a761_8c85903d48d1row6_col5 {\n",
       "            color:  white;\n",
       "        }    #T_931c7772_f33b_11ea_a761_8c85903d48d1row6_col6 {\n",
       "            color:  white;\n",
       "        }    #T_931c7772_f33b_11ea_a761_8c85903d48d1row7_col0 {\n",
       "            color:  white;\n",
       "        }    #T_931c7772_f33b_11ea_a761_8c85903d48d1row7_col1 {\n",
       "            color:  white;\n",
       "        }    #T_931c7772_f33b_11ea_a761_8c85903d48d1row7_col2 {\n",
       "            color:  white;\n",
       "        }    #T_931c7772_f33b_11ea_a761_8c85903d48d1row7_col3 {\n",
       "            color:  white;\n",
       "        }    #T_931c7772_f33b_11ea_a761_8c85903d48d1row7_col4 {\n",
       "            color:  white;\n",
       "        }    #T_931c7772_f33b_11ea_a761_8c85903d48d1row7_col5 {\n",
       "            color:  white;\n",
       "        }    #T_931c7772_f33b_11ea_a761_8c85903d48d1row7_col6 {\n",
       "            color:  white;\n",
       "        }</style><table id=\"T_931c7772_f33b_11ea_a761_8c85903d48d1\" ><thead>    <tr>        <th class=\"blank level0\" ></th>        <th class=\"col_heading level0 col0\" >label</th>        <th class=\"col_heading level0 col1\" >level</th>        <th class=\"col_heading level0 col2\" >starting_clues</th>        <th class=\"col_heading level0 col3\" >backtracking</th>        <th class=\"col_heading level0 col4\" >constraintpropogation</th>        <th class=\"col_heading level0 col5\" >deductive</th>        <th class=\"col_heading level0 col6\" >combination</th>    </tr></thead><tbody>\n",
       "                <tr>\n",
       "                        <th id=\"T_931c7772_f33b_11ea_a761_8c85903d48d1level0_row0\" class=\"row_heading level0 row0\" >0</th>\n",
       "                        <td id=\"T_931c7772_f33b_11ea_a761_8c85903d48d1row0_col0\" class=\"data row0 col0\" >SMH 1</td>\n",
       "                        <td id=\"T_931c7772_f33b_11ea_a761_8c85903d48d1row0_col1\" class=\"data row0 col1\" >Kids</td>\n",
       "                        <td id=\"T_931c7772_f33b_11ea_a761_8c85903d48d1row0_col2\" class=\"data row0 col2\" >31</td>\n",
       "                        <td id=\"T_931c7772_f33b_11ea_a761_8c85903d48d1row0_col3\" class=\"data row0 col3\" >0.004</td>\n",
       "                        <td id=\"T_931c7772_f33b_11ea_a761_8c85903d48d1row0_col4\" class=\"data row0 col4\" >0.002</td>\n",
       "                        <td id=\"T_931c7772_f33b_11ea_a761_8c85903d48d1row0_col5\" class=\"data row0 col5\" >0.008</td>\n",
       "                        <td id=\"T_931c7772_f33b_11ea_a761_8c85903d48d1row0_col6\" class=\"data row0 col6\" >0.002</td>\n",
       "            </tr>\n",
       "            <tr>\n",
       "                        <th id=\"T_931c7772_f33b_11ea_a761_8c85903d48d1level0_row1\" class=\"row_heading level0 row1\" >1</th>\n",
       "                        <td id=\"T_931c7772_f33b_11ea_a761_8c85903d48d1row1_col0\" class=\"data row1 col0\" >SMH 2</td>\n",
       "                        <td id=\"T_931c7772_f33b_11ea_a761_8c85903d48d1row1_col1\" class=\"data row1 col1\" >Easy</td>\n",
       "                        <td id=\"T_931c7772_f33b_11ea_a761_8c85903d48d1row1_col2\" class=\"data row1 col2\" >24</td>\n",
       "                        <td id=\"T_931c7772_f33b_11ea_a761_8c85903d48d1row1_col3\" class=\"data row1 col3\" >0.198</td>\n",
       "                        <td id=\"T_931c7772_f33b_11ea_a761_8c85903d48d1row1_col4\" class=\"data row1 col4\" >0.004</td>\n",
       "                        <td id=\"T_931c7772_f33b_11ea_a761_8c85903d48d1row1_col5\" class=\"data row1 col5\" >0.007</td>\n",
       "                        <td id=\"T_931c7772_f33b_11ea_a761_8c85903d48d1row1_col6\" class=\"data row1 col6\" >0.011</td>\n",
       "            </tr>\n",
       "            <tr>\n",
       "                        <th id=\"T_931c7772_f33b_11ea_a761_8c85903d48d1level0_row2\" class=\"row_heading level0 row2\" >2</th>\n",
       "                        <td id=\"T_931c7772_f33b_11ea_a761_8c85903d48d1row2_col0\" class=\"data row2 col0\" >KTH 1</td>\n",
       "                        <td id=\"T_931c7772_f33b_11ea_a761_8c85903d48d1row2_col1\" class=\"data row2 col1\" >Easy</td>\n",
       "                        <td id=\"T_931c7772_f33b_11ea_a761_8c85903d48d1row2_col2\" class=\"data row2 col2\" >30</td>\n",
       "                        <td id=\"T_931c7772_f33b_11ea_a761_8c85903d48d1row2_col3\" class=\"data row2 col3\" >0.023</td>\n",
       "                        <td id=\"T_931c7772_f33b_11ea_a761_8c85903d48d1row2_col4\" class=\"data row2 col4\" >0.005</td>\n",
       "                        <td id=\"T_931c7772_f33b_11ea_a761_8c85903d48d1row2_col5\" class=\"data row2 col5\" >0.006</td>\n",
       "                        <td id=\"T_931c7772_f33b_11ea_a761_8c85903d48d1row2_col6\" class=\"data row2 col6\" >0.008</td>\n",
       "            </tr>\n",
       "            <tr>\n",
       "                        <th id=\"T_931c7772_f33b_11ea_a761_8c85903d48d1level0_row3\" class=\"row_heading level0 row3\" >3</th>\n",
       "                        <td id=\"T_931c7772_f33b_11ea_a761_8c85903d48d1row3_col0\" class=\"data row3 col0\" >Rico Alan Heart</td>\n",
       "                        <td id=\"T_931c7772_f33b_11ea_a761_8c85903d48d1row3_col1\" class=\"data row3 col1\" >Easy</td>\n",
       "                        <td id=\"T_931c7772_f33b_11ea_a761_8c85903d48d1row3_col2\" class=\"data row3 col2\" >22</td>\n",
       "                        <td id=\"T_931c7772_f33b_11ea_a761_8c85903d48d1row3_col3\" class=\"data row3 col3\" >0.120</td>\n",
       "                        <td id=\"T_931c7772_f33b_11ea_a761_8c85903d48d1row3_col4\" class=\"data row3 col4\" >0.086</td>\n",
       "                        <td id=\"T_931c7772_f33b_11ea_a761_8c85903d48d1row3_col5\" class=\"data row3 col5\" >0.018</td>\n",
       "                        <td id=\"T_931c7772_f33b_11ea_a761_8c85903d48d1row3_col6\" class=\"data row3 col6\" >0.020</td>\n",
       "            </tr>\n",
       "            <tr>\n",
       "                        <th id=\"T_931c7772_f33b_11ea_a761_8c85903d48d1level0_row4\" class=\"row_heading level0 row4\" >4</th>\n",
       "                        <td id=\"T_931c7772_f33b_11ea_a761_8c85903d48d1row4_col0\" class=\"data row4 col0\" >SMH 3</td>\n",
       "                        <td id=\"T_931c7772_f33b_11ea_a761_8c85903d48d1row4_col1\" class=\"data row4 col1\" >Moderate</td>\n",
       "                        <td id=\"T_931c7772_f33b_11ea_a761_8c85903d48d1row4_col2\" class=\"data row4 col2\" >26</td>\n",
       "                        <td id=\"T_931c7772_f33b_11ea_a761_8c85903d48d1row4_col3\" class=\"data row4 col3\" >0.141</td>\n",
       "                        <td id=\"T_931c7772_f33b_11ea_a761_8c85903d48d1row4_col4\" class=\"data row4 col4\" >0.028</td>\n",
       "                        <td id=\"T_931c7772_f33b_11ea_a761_8c85903d48d1row4_col5\" class=\"data row4 col5\" >0.094</td>\n",
       "                        <td id=\"T_931c7772_f33b_11ea_a761_8c85903d48d1row4_col6\" class=\"data row4 col6\" >0.050</td>\n",
       "            </tr>\n",
       "            <tr>\n",
       "                        <th id=\"T_931c7772_f33b_11ea_a761_8c85903d48d1level0_row5\" class=\"row_heading level0 row5\" >5</th>\n",
       "                        <td id=\"T_931c7772_f33b_11ea_a761_8c85903d48d1row5_col0\" class=\"data row5 col0\" >SMH 4</td>\n",
       "                        <td id=\"T_931c7772_f33b_11ea_a761_8c85903d48d1row5_col1\" class=\"data row5 col1\" >Hard</td>\n",
       "                        <td id=\"T_931c7772_f33b_11ea_a761_8c85903d48d1row5_col2\" class=\"data row5 col2\" >22</td>\n",
       "                        <td id=\"T_931c7772_f33b_11ea_a761_8c85903d48d1row5_col3\" class=\"data row5 col3\" >1.966</td>\n",
       "                        <td id=\"T_931c7772_f33b_11ea_a761_8c85903d48d1row5_col4\" class=\"data row5 col4\" >0.035</td>\n",
       "                        <td id=\"T_931c7772_f33b_11ea_a761_8c85903d48d1row5_col5\" class=\"data row5 col5\" >0.036</td>\n",
       "                        <td id=\"T_931c7772_f33b_11ea_a761_8c85903d48d1row5_col6\" class=\"data row5 col6\" >0.042</td>\n",
       "            </tr>\n",
       "            <tr>\n",
       "                        <th id=\"T_931c7772_f33b_11ea_a761_8c85903d48d1level0_row6\" class=\"row_heading level0 row6\" >6</th>\n",
       "                        <td id=\"T_931c7772_f33b_11ea_a761_8c85903d48d1row6_col0\" class=\"data row6 col0\" >SMH 5</td>\n",
       "                        <td id=\"T_931c7772_f33b_11ea_a761_8c85903d48d1row6_col1\" class=\"data row6 col1\" >Hard</td>\n",
       "                        <td id=\"T_931c7772_f33b_11ea_a761_8c85903d48d1row6_col2\" class=\"data row6 col2\" >25</td>\n",
       "                        <td id=\"T_931c7772_f33b_11ea_a761_8c85903d48d1row6_col3\" class=\"data row6 col3\" >0.849</td>\n",
       "                        <td id=\"T_931c7772_f33b_11ea_a761_8c85903d48d1row6_col4\" class=\"data row6 col4\" >0.052</td>\n",
       "                        <td id=\"T_931c7772_f33b_11ea_a761_8c85903d48d1row6_col5\" class=\"data row6 col5\" >0.026</td>\n",
       "                        <td id=\"T_931c7772_f33b_11ea_a761_8c85903d48d1row6_col6\" class=\"data row6 col6\" >0.038</td>\n",
       "            </tr>\n",
       "            <tr>\n",
       "                        <th id=\"T_931c7772_f33b_11ea_a761_8c85903d48d1level0_row7\" class=\"row_heading level0 row7\" >7</th>\n",
       "                        <td id=\"T_931c7772_f33b_11ea_a761_8c85903d48d1row7_col0\" class=\"data row7 col0\" >Greg [2017]</td>\n",
       "                        <td id=\"T_931c7772_f33b_11ea_a761_8c85903d48d1row7_col1\" class=\"data row7 col1\" >Hard</td>\n",
       "                        <td id=\"T_931c7772_f33b_11ea_a761_8c85903d48d1row7_col2\" class=\"data row7 col2\" >21</td>\n",
       "                        <td id=\"T_931c7772_f33b_11ea_a761_8c85903d48d1row7_col3\" class=\"data row7 col3\" >0.880</td>\n",
       "                        <td id=\"T_931c7772_f33b_11ea_a761_8c85903d48d1row7_col4\" class=\"data row7 col4\" >0.069</td>\n",
       "                        <td id=\"T_931c7772_f33b_11ea_a761_8c85903d48d1row7_col5\" class=\"data row7 col5\" >0.126</td>\n",
       "                        <td id=\"T_931c7772_f33b_11ea_a761_8c85903d48d1row7_col6\" class=\"data row7 col6\" >0.095</td>\n",
       "            </tr>\n",
       "    </tbody></table>"
      ],
      "text/plain": [
       "<pandas.io.formats.style.Styler at 0x118f09bd0>"
      ]
     },
     "execution_count": 25,
     "metadata": {},
     "output_type": "execute_result"
    }
   ],
   "source": [
    "df = pd.DataFrame(pt.get_test_results())\n",
    "df.sort_values(by=method, ascending=False)\n",
    "df.style.applymap(color_nan).format({m: '{:.3f}' for m in su.SOLVERS}).format({method: '{:.3f}'})"
   ]
  },
  {
   "cell_type": "markdown",
   "metadata": {},
   "source": [
    "# Evaluating the Solution Algorithms\n",
    "\n",
    "Add more test cases from [Peter Norvig](https://norvig.com/sudoku.html). Yes. [that Peter Norvig](http://aima.cs.berkeley.edu/).\n",
    "\n",
    "If the test results file exists we'll use the results from earlier. Otherwise, this will re-run all the tests which took ~3.5 hours on my 2017 Macbook Pro (2.3 GHz Intel Core i5).\n"
   ]
  },
  {
   "cell_type": "code",
   "execution_count": 22,
   "metadata": {},
   "outputs": [],
   "source": [
    "import os.path\n",
    "import datetime\n",
    "\n",
    "TEST_RESULTS = \"sudoku_test_results.pkl\"\n",
    "\n",
    "if os.path.isfile(TEST_RESULTS):\n",
    "    df = pd.read_pickle(TEST_RESULTS)\n",
    "else:\n",
    "    print(f\"Fenerating {TEST_RESULTS} at {datetime.datetime.now()}...\")\n",
    "    pt = pg.PuzzleTester(puzzle_class=su.SudokuPuzzle, test_samples=NUM_SAMPLES)\n",
    "    pt.add_testcases([x for x in su.SAMPLE_PUZZLES])\n",
    "    pt.add_testcases(pg.from_file(\"data/hardest.txt\", level=\"Hard\"))\n",
    "    pt.add_testcases(pg.from_file(\"data/top95.txt\", level=\"Diabolical\"))\n",
    "    print(f\"Using {pt.num_testcases()} test cases\")\n",
    "    for m in su.SOLVERS:\n",
    "        solver = su.SudokuSolver(method=m)\n",
    "        pt.run_tests(solver, m, callback=update_progress)\n",
    "    df = pd.DataFrame(pt.get_test_results())\n",
    "    df.to_pickle(TEST_RESULTS)\n",
    "    print(f\"Finished  {TEST_RESULTS} at {datetime.datetime.now()}\")\n"
   ]
  },
  {
   "cell_type": "code",
   "execution_count": 23,
   "metadata": {},
   "outputs": [
    {
     "data": {
      "text/html": [
       "<div>\n",
       "<style scoped>\n",
       "    .dataframe tbody tr th:only-of-type {\n",
       "        vertical-align: middle;\n",
       "    }\n",
       "\n",
       "    .dataframe tbody tr th {\n",
       "        vertical-align: top;\n",
       "    }\n",
       "\n",
       "    .dataframe thead th {\n",
       "        text-align: right;\n",
       "    }\n",
       "</style>\n",
       "<table border=\"1\" class=\"dataframe\">\n",
       "  <thead>\n",
       "    <tr style=\"text-align: right;\">\n",
       "      <th></th>\n",
       "      <th>starting_clues</th>\n",
       "      <th>backtracking</th>\n",
       "      <th>constraintpropogation</th>\n",
       "      <th>singlepossibilities</th>\n",
       "      <th>onlysquares</th>\n",
       "      <th>combination</th>\n",
       "    </tr>\n",
       "  </thead>\n",
       "  <tbody>\n",
       "    <tr>\n",
       "      <th>count</th>\n",
       "      <td>122.0000</td>\n",
       "      <td>122.0000</td>\n",
       "      <td>122.0000</td>\n",
       "      <td>2.0000e+00</td>\n",
       "      <td>3.0000</td>\n",
       "      <td>122.0000</td>\n",
       "    </tr>\n",
       "    <tr>\n",
       "      <th>mean</th>\n",
       "      <td>21.1885</td>\n",
       "      <td>46.6542</td>\n",
       "      <td>0.5609</td>\n",
       "      <td>1.0416e-03</td>\n",
       "      <td>0.0037</td>\n",
       "      <td>0.2514</td>\n",
       "    </tr>\n",
       "    <tr>\n",
       "      <th>std</th>\n",
       "      <td>3.4023</td>\n",
       "      <td>159.5068</td>\n",
       "      <td>1.7003</td>\n",
       "      <td>1.1498e-05</td>\n",
       "      <td>0.0023</td>\n",
       "      <td>0.7538</td>\n",
       "    </tr>\n",
       "    <tr>\n",
       "      <th>min</th>\n",
       "      <td>17.0000</td>\n",
       "      <td>0.0036</td>\n",
       "      <td>0.0013</td>\n",
       "      <td>1.0335e-03</td>\n",
       "      <td>0.0024</td>\n",
       "      <td>0.0010</td>\n",
       "    </tr>\n",
       "    <tr>\n",
       "      <th>25%</th>\n",
       "      <td>17.0000</td>\n",
       "      <td>0.3250</td>\n",
       "      <td>0.0170</td>\n",
       "      <td>1.0375e-03</td>\n",
       "      <td>0.0024</td>\n",
       "      <td>0.0194</td>\n",
       "    </tr>\n",
       "    <tr>\n",
       "      <th>50%</th>\n",
       "      <td>22.0000</td>\n",
       "      <td>2.0985</td>\n",
       "      <td>0.0596</td>\n",
       "      <td>1.0416e-03</td>\n",
       "      <td>0.0024</td>\n",
       "      <td>0.0442</td>\n",
       "    </tr>\n",
       "    <tr>\n",
       "      <th>75%</th>\n",
       "      <td>23.0000</td>\n",
       "      <td>11.8156</td>\n",
       "      <td>0.1916</td>\n",
       "      <td>1.0457e-03</td>\n",
       "      <td>0.0044</td>\n",
       "      <td>0.1171</td>\n",
       "    </tr>\n",
       "    <tr>\n",
       "      <th>max</th>\n",
       "      <td>31.0000</td>\n",
       "      <td>1170.5112</td>\n",
       "      <td>12.0185</td>\n",
       "      <td>1.0497e-03</td>\n",
       "      <td>0.0064</td>\n",
       "      <td>5.1798</td>\n",
       "    </tr>\n",
       "  </tbody>\n",
       "</table>\n",
       "</div>"
      ],
      "text/plain": [
       "       starting_clues  backtracking  constraintpropogation  \\\n",
       "count        122.0000      122.0000               122.0000   \n",
       "mean          21.1885       46.6542                 0.5609   \n",
       "std            3.4023      159.5068                 1.7003   \n",
       "min           17.0000        0.0036                 0.0013   \n",
       "25%           17.0000        0.3250                 0.0170   \n",
       "50%           22.0000        2.0985                 0.0596   \n",
       "75%           23.0000       11.8156                 0.1916   \n",
       "max           31.0000     1170.5112                12.0185   \n",
       "\n",
       "       singlepossibilities  onlysquares  combination  \n",
       "count           2.0000e+00       3.0000     122.0000  \n",
       "mean            1.0416e-03       0.0037       0.2514  \n",
       "std             1.1498e-05       0.0023       0.7538  \n",
       "min             1.0335e-03       0.0024       0.0010  \n",
       "25%             1.0375e-03       0.0024       0.0194  \n",
       "50%             1.0416e-03       0.0024       0.0442  \n",
       "75%             1.0457e-03       0.0044       0.1171  \n",
       "max             1.0497e-03       0.0064       5.1798  "
      ]
     },
     "execution_count": 23,
     "metadata": {},
     "output_type": "execute_result"
    }
   ],
   "source": [
    "df.describe()"
   ]
  },
  {
   "cell_type": "code",
   "execution_count": 24,
   "metadata": {},
   "outputs": [
    {
     "data": {
      "text/html": [
       "<div>\n",
       "<style scoped>\n",
       "    .dataframe tbody tr th:only-of-type {\n",
       "        vertical-align: middle;\n",
       "    }\n",
       "\n",
       "    .dataframe tbody tr th {\n",
       "        vertical-align: top;\n",
       "    }\n",
       "\n",
       "    .dataframe thead th {\n",
       "        text-align: right;\n",
       "    }\n",
       "</style>\n",
       "<table border=\"1\" class=\"dataframe\">\n",
       "  <thead>\n",
       "    <tr style=\"text-align: right;\">\n",
       "      <th></th>\n",
       "      <th>label</th>\n",
       "      <th>level</th>\n",
       "      <th>starting_clues</th>\n",
       "      <th>backtracking</th>\n",
       "      <th>constraintpropogation</th>\n",
       "      <th>combination</th>\n",
       "    </tr>\n",
       "  </thead>\n",
       "  <tbody>\n",
       "    <tr>\n",
       "      <th>0</th>\n",
       "      <td>SMH 1</td>\n",
       "      <td>Kids</td>\n",
       "      <td>31</td>\n",
       "      <td>0.0036</td>\n",
       "      <td>0.0013</td>\n",
       "      <td>0.0011</td>\n",
       "    </tr>\n",
       "    <tr>\n",
       "      <th>1</th>\n",
       "      <td>SMH 2</td>\n",
       "      <td>Easy</td>\n",
       "      <td>24</td>\n",
       "      <td>0.1853</td>\n",
       "      <td>0.0018</td>\n",
       "      <td>0.0028</td>\n",
       "    </tr>\n",
       "    <tr>\n",
       "      <th>2</th>\n",
       "      <td>KTH 1</td>\n",
       "      <td>Easy</td>\n",
       "      <td>30</td>\n",
       "      <td>0.0110</td>\n",
       "      <td>0.0014</td>\n",
       "      <td>0.0010</td>\n",
       "    </tr>\n",
       "    <tr>\n",
       "      <th>3</th>\n",
       "      <td>Rico Alan Heart</td>\n",
       "      <td>Easy</td>\n",
       "      <td>22</td>\n",
       "      <td>0.0741</td>\n",
       "      <td>0.0206</td>\n",
       "      <td>0.0064</td>\n",
       "    </tr>\n",
       "    <tr>\n",
       "      <th>4</th>\n",
       "      <td>SMH 3</td>\n",
       "      <td>Moderate</td>\n",
       "      <td>26</td>\n",
       "      <td>0.0801</td>\n",
       "      <td>0.0193</td>\n",
       "      <td>0.0270</td>\n",
       "    </tr>\n",
       "    <tr>\n",
       "      <th>...</th>\n",
       "      <td>...</td>\n",
       "      <td>...</td>\n",
       "      <td>...</td>\n",
       "      <td>...</td>\n",
       "      <td>...</td>\n",
       "      <td>...</td>\n",
       "    </tr>\n",
       "    <tr>\n",
       "      <th>117</th>\n",
       "      <td>data/top95.txt:91</td>\n",
       "      <td>Diabolical</td>\n",
       "      <td>23</td>\n",
       "      <td>0.2150</td>\n",
       "      <td>0.0031</td>\n",
       "      <td>0.0065</td>\n",
       "    </tr>\n",
       "    <tr>\n",
       "      <th>118</th>\n",
       "      <td>data/top95.txt:92</td>\n",
       "      <td>Diabolical</td>\n",
       "      <td>23</td>\n",
       "      <td>0.1492</td>\n",
       "      <td>0.0063</td>\n",
       "      <td>0.0444</td>\n",
       "    </tr>\n",
       "    <tr>\n",
       "      <th>119</th>\n",
       "      <td>data/top95.txt:93</td>\n",
       "      <td>Diabolical</td>\n",
       "      <td>22</td>\n",
       "      <td>4.3428</td>\n",
       "      <td>0.0391</td>\n",
       "      <td>0.0339</td>\n",
       "    </tr>\n",
       "    <tr>\n",
       "      <th>120</th>\n",
       "      <td>data/top95.txt:94</td>\n",
       "      <td>Diabolical</td>\n",
       "      <td>23</td>\n",
       "      <td>5.5990</td>\n",
       "      <td>0.0181</td>\n",
       "      <td>0.0675</td>\n",
       "    </tr>\n",
       "    <tr>\n",
       "      <th>121</th>\n",
       "      <td>data/top95.txt:95</td>\n",
       "      <td>Diabolical</td>\n",
       "      <td>17</td>\n",
       "      <td>179.7665</td>\n",
       "      <td>0.0603</td>\n",
       "      <td>0.0666</td>\n",
       "    </tr>\n",
       "  </tbody>\n",
       "</table>\n",
       "<p>122 rows × 6 columns</p>\n",
       "</div>"
      ],
      "text/plain": [
       "                 label       level  starting_clues  backtracking  \\\n",
       "0                SMH 1        Kids              31        0.0036   \n",
       "1                SMH 2        Easy              24        0.1853   \n",
       "2                KTH 1        Easy              30        0.0110   \n",
       "3      Rico Alan Heart        Easy              22        0.0741   \n",
       "4                SMH 3    Moderate              26        0.0801   \n",
       "..                 ...         ...             ...           ...   \n",
       "117  data/top95.txt:91  Diabolical              23        0.2150   \n",
       "118  data/top95.txt:92  Diabolical              23        0.1492   \n",
       "119  data/top95.txt:93  Diabolical              22        4.3428   \n",
       "120  data/top95.txt:94  Diabolical              23        5.5990   \n",
       "121  data/top95.txt:95  Diabolical              17      179.7665   \n",
       "\n",
       "     constraintpropogation  combination  \n",
       "0                   0.0013       0.0011  \n",
       "1                   0.0018       0.0028  \n",
       "2                   0.0014       0.0010  \n",
       "3                   0.0206       0.0064  \n",
       "4                   0.0193       0.0270  \n",
       "..                     ...          ...  \n",
       "117                 0.0031       0.0065  \n",
       "118                 0.0063       0.0444  \n",
       "119                 0.0391       0.0339  \n",
       "120                 0.0181       0.0675  \n",
       "121                 0.0603       0.0666  \n",
       "\n",
       "[122 rows x 6 columns]"
      ]
     },
     "execution_count": 24,
     "metadata": {},
     "output_type": "execute_result"
    }
   ],
   "source": [
    "df.dropna(axis='columns', inplace=True)\n",
    "df"
   ]
  },
  {
   "cell_type": "markdown",
   "metadata": {},
   "source": [
    "So, yeah. Backtracking alone is appalling. Look it.\n",
    "\n",
    "* 75% of the test cases are solved in ~0.2 seconds with the constraint propogation solution, but we need ~12 seconds using backtrackng alone.\n",
    "* Mean time is terrible for backtracking alone (~35 seconds). \n",
    "\n",
    "You can see the variability better with the following plot."
   ]
  },
  {
   "cell_type": "code",
   "execution_count": 25,
   "metadata": {},
   "outputs": [
    {
     "data": {
      "image/png": "[encoded data removed]",
      "text/plain": [
       "<Figure size 864x432 with 1 Axes>"
      ]
     },
     "metadata": {
      "needs_background": "light"
     },
     "output_type": "display_data"
    }
   ],
   "source": [
    "solvers = df.columns[3:]\n",
    "axs = df[solvers].plot()"
   ]
  },
  {
   "cell_type": "markdown",
   "metadata": {},
   "source": [
    "So, at this point, going to stop testing with backtracking alone. But there are a few puzzles that seem to be particularly difficult for the constraint propogation solution, so let's look at those."
   ]
  },
  {
   "cell_type": "code",
   "execution_count": 26,
   "metadata": {},
   "outputs": [
    {
     "data": {
      "image/png": "[encoded data removed]",
      "text/plain": [
       "<Figure size 864x432 with 1 Axes>"
      ]
     },
     "metadata": {
      "needs_background": "light"
     },
     "output_type": "display_data"
    }
   ],
   "source": [
    "method = 'constraintpropogation'\n",
    "axs = df[solvers.drop('backtracking')].plot(kind='hist')"
   ]
  },
  {
   "cell_type": "markdown",
   "metadata": {},
   "source": [
    "## Constraint Propogation\n",
    "\n",
    "**TODO**: Explanation of CP.\n",
    "\n",
    "### Evaluating CP\n",
    "\n",
    "The majority of the test puzzles are solved in < ~ 0.2 seconds, however there are some that take longer, up to a maxiumum of 12 seconds."
   ]
  },
  {
   "cell_type": "code",
   "execution_count": 27,
   "metadata": {},
   "outputs": [
    {
     "data": {
      "image/png": "[encoded data removed]",
      "text/plain": [
       "<Figure size 864x432 with 1 Axes>"
      ]
     },
     "metadata": {
      "needs_background": "light"
     },
     "output_type": "display_data"
    }
   ],
   "source": [
    "method = 'constraintpropogation'\n",
    "axs = df.sort_values(by=method)[[method]].plot(kind='bar')\n",
    "axs.xaxis.label.set_visible(False)\n",
    "axs.xaxis.set_ticks([])\n",
    "plt.show()"
   ]
  },
  {
   "cell_type": "markdown",
   "metadata": {},
   "source": [
    "Let's take a look at those puzzles that take so much longer to solve and see if we can work out what's happening there."
   ]
  },
  {
   "cell_type": "code",
   "execution_count": 32,
   "metadata": {},
   "outputs": [
    {
     "data": {
      "text/html": [
       "<style  type=\"text/css\" >\n",
       "    #T_d24c04f2_f33c_11ea_bf28_8c85903d48d1row0_col0 {\n",
       "            background-color:  black;\n",
       "             color:  white;\n",
       "        }    #T_d24c04f2_f33c_11ea_bf28_8c85903d48d1row0_col1 {\n",
       "            background-color:  black;\n",
       "             color:  white;\n",
       "        }    #T_d24c04f2_f33c_11ea_bf28_8c85903d48d1row0_col2 {\n",
       "            background-color:  black;\n",
       "             color:  white;\n",
       "        }    #T_d24c04f2_f33c_11ea_bf28_8c85903d48d1row0_col3 {\n",
       "            background-color:  black;\n",
       "             color:  white;\n",
       "        }    #T_d24c04f2_f33c_11ea_bf28_8c85903d48d1row0_col4 {\n",
       "            background-color:  black;\n",
       "             color:  white;\n",
       "            width:  10em;\n",
       "             height:  80%;\n",
       "            background:  linear-gradient(90deg,orange 100.0%, transparent 100.0%);\n",
       "        }    #T_d24c04f2_f33c_11ea_bf28_8c85903d48d1row0_col5 {\n",
       "            background-color:  black;\n",
       "             color:  white;\n",
       "        }    #T_d24c04f2_f33c_11ea_bf28_8c85903d48d1row1_col0 {\n",
       "            background-color:  black;\n",
       "             color:  white;\n",
       "        }    #T_d24c04f2_f33c_11ea_bf28_8c85903d48d1row1_col1 {\n",
       "            background-color:  black;\n",
       "             color:  white;\n",
       "        }    #T_d24c04f2_f33c_11ea_bf28_8c85903d48d1row1_col2 {\n",
       "            background-color:  black;\n",
       "             color:  white;\n",
       "        }    #T_d24c04f2_f33c_11ea_bf28_8c85903d48d1row1_col3 {\n",
       "            background-color:  black;\n",
       "             color:  white;\n",
       "        }    #T_d24c04f2_f33c_11ea_bf28_8c85903d48d1row1_col4 {\n",
       "            background-color:  black;\n",
       "             color:  white;\n",
       "            width:  10em;\n",
       "             height:  80%;\n",
       "            background:  linear-gradient(90deg,orange 90.9%, transparent 90.9%);\n",
       "        }    #T_d24c04f2_f33c_11ea_bf28_8c85903d48d1row1_col5 {\n",
       "            background-color:  black;\n",
       "             color:  white;\n",
       "        }    #T_d24c04f2_f33c_11ea_bf28_8c85903d48d1row2_col0 {\n",
       "            background-color:  black;\n",
       "             color:  white;\n",
       "        }    #T_d24c04f2_f33c_11ea_bf28_8c85903d48d1row2_col1 {\n",
       "            background-color:  black;\n",
       "             color:  white;\n",
       "        }    #T_d24c04f2_f33c_11ea_bf28_8c85903d48d1row2_col2 {\n",
       "            background-color:  black;\n",
       "             color:  white;\n",
       "        }    #T_d24c04f2_f33c_11ea_bf28_8c85903d48d1row2_col3 {\n",
       "            background-color:  black;\n",
       "             color:  white;\n",
       "        }    #T_d24c04f2_f33c_11ea_bf28_8c85903d48d1row2_col4 {\n",
       "            background-color:  black;\n",
       "             color:  white;\n",
       "            width:  10em;\n",
       "             height:  80%;\n",
       "            background:  linear-gradient(90deg,orange 34.0%, transparent 34.0%);\n",
       "        }    #T_d24c04f2_f33c_11ea_bf28_8c85903d48d1row2_col5 {\n",
       "            background-color:  black;\n",
       "             color:  white;\n",
       "        }    #T_d24c04f2_f33c_11ea_bf28_8c85903d48d1row3_col0 {\n",
       "            background-color:  yellow;\n",
       "             color:  black;\n",
       "        }    #T_d24c04f2_f33c_11ea_bf28_8c85903d48d1row3_col1 {\n",
       "            background-color:  yellow;\n",
       "             color:  black;\n",
       "        }    #T_d24c04f2_f33c_11ea_bf28_8c85903d48d1row3_col2 {\n",
       "            background-color:  yellow;\n",
       "             color:  black;\n",
       "        }    #T_d24c04f2_f33c_11ea_bf28_8c85903d48d1row3_col3 {\n",
       "            background-color:  yellow;\n",
       "             color:  black;\n",
       "        }    #T_d24c04f2_f33c_11ea_bf28_8c85903d48d1row3_col4 {\n",
       "            background-color:  yellow;\n",
       "             color:  black;\n",
       "            width:  10em;\n",
       "             height:  80%;\n",
       "            background:  linear-gradient(90deg,orange 33.8%, transparent 33.8%);\n",
       "        }    #T_d24c04f2_f33c_11ea_bf28_8c85903d48d1row3_col5 {\n",
       "            background-color:  yellow;\n",
       "             color:  black;\n",
       "        }    #T_d24c04f2_f33c_11ea_bf28_8c85903d48d1row4_col0 {\n",
       "            background-color:  black;\n",
       "             color:  white;\n",
       "        }    #T_d24c04f2_f33c_11ea_bf28_8c85903d48d1row4_col1 {\n",
       "            background-color:  black;\n",
       "             color:  white;\n",
       "        }    #T_d24c04f2_f33c_11ea_bf28_8c85903d48d1row4_col2 {\n",
       "            background-color:  black;\n",
       "             color:  white;\n",
       "        }    #T_d24c04f2_f33c_11ea_bf28_8c85903d48d1row4_col3 {\n",
       "            background-color:  black;\n",
       "             color:  white;\n",
       "        }    #T_d24c04f2_f33c_11ea_bf28_8c85903d48d1row4_col4 {\n",
       "            background-color:  black;\n",
       "             color:  white;\n",
       "            width:  10em;\n",
       "             height:  80%;\n",
       "            background:  linear-gradient(90deg,orange 27.7%, transparent 27.7%);\n",
       "        }    #T_d24c04f2_f33c_11ea_bf28_8c85903d48d1row4_col5 {\n",
       "            background-color:  black;\n",
       "             color:  white;\n",
       "        }    #T_d24c04f2_f33c_11ea_bf28_8c85903d48d1row5_col0 {\n",
       "            background-color:  black;\n",
       "             color:  white;\n",
       "        }    #T_d24c04f2_f33c_11ea_bf28_8c85903d48d1row5_col1 {\n",
       "            background-color:  black;\n",
       "             color:  white;\n",
       "        }    #T_d24c04f2_f33c_11ea_bf28_8c85903d48d1row5_col2 {\n",
       "            background-color:  black;\n",
       "             color:  white;\n",
       "        }    #T_d24c04f2_f33c_11ea_bf28_8c85903d48d1row5_col3 {\n",
       "            background-color:  black;\n",
       "             color:  white;\n",
       "        }    #T_d24c04f2_f33c_11ea_bf28_8c85903d48d1row5_col4 {\n",
       "            background-color:  black;\n",
       "             color:  white;\n",
       "            width:  10em;\n",
       "             height:  80%;\n",
       "            background:  linear-gradient(90deg,orange 24.1%, transparent 24.1%);\n",
       "        }    #T_d24c04f2_f33c_11ea_bf28_8c85903d48d1row5_col5 {\n",
       "            background-color:  black;\n",
       "             color:  white;\n",
       "        }    #T_d24c04f2_f33c_11ea_bf28_8c85903d48d1row6_col0 {\n",
       "            background-color:  black;\n",
       "             color:  white;\n",
       "        }    #T_d24c04f2_f33c_11ea_bf28_8c85903d48d1row6_col1 {\n",
       "            background-color:  black;\n",
       "             color:  white;\n",
       "        }    #T_d24c04f2_f33c_11ea_bf28_8c85903d48d1row6_col2 {\n",
       "            background-color:  black;\n",
       "             color:  white;\n",
       "        }    #T_d24c04f2_f33c_11ea_bf28_8c85903d48d1row6_col3 {\n",
       "            background-color:  black;\n",
       "             color:  white;\n",
       "        }    #T_d24c04f2_f33c_11ea_bf28_8c85903d48d1row6_col4 {\n",
       "            background-color:  black;\n",
       "             color:  white;\n",
       "            width:  10em;\n",
       "             height:  80%;\n",
       "            background:  linear-gradient(90deg,orange 20.9%, transparent 20.9%);\n",
       "        }    #T_d24c04f2_f33c_11ea_bf28_8c85903d48d1row6_col5 {\n",
       "            background-color:  black;\n",
       "             color:  white;\n",
       "        }    #T_d24c04f2_f33c_11ea_bf28_8c85903d48d1row7_col0 {\n",
       "            background-color:  yellow;\n",
       "             color:  black;\n",
       "        }    #T_d24c04f2_f33c_11ea_bf28_8c85903d48d1row7_col1 {\n",
       "            background-color:  yellow;\n",
       "             color:  black;\n",
       "        }    #T_d24c04f2_f33c_11ea_bf28_8c85903d48d1row7_col2 {\n",
       "            background-color:  yellow;\n",
       "             color:  black;\n",
       "        }    #T_d24c04f2_f33c_11ea_bf28_8c85903d48d1row7_col3 {\n",
       "            background-color:  yellow;\n",
       "             color:  black;\n",
       "        }    #T_d24c04f2_f33c_11ea_bf28_8c85903d48d1row7_col4 {\n",
       "            background-color:  yellow;\n",
       "             color:  black;\n",
       "            width:  10em;\n",
       "             height:  80%;\n",
       "            background:  linear-gradient(90deg,orange 18.9%, transparent 18.9%);\n",
       "        }    #T_d24c04f2_f33c_11ea_bf28_8c85903d48d1row7_col5 {\n",
       "            background-color:  yellow;\n",
       "             color:  black;\n",
       "        }    #T_d24c04f2_f33c_11ea_bf28_8c85903d48d1row8_col0 {\n",
       "            background-color:  black;\n",
       "             color:  white;\n",
       "        }    #T_d24c04f2_f33c_11ea_bf28_8c85903d48d1row8_col1 {\n",
       "            background-color:  black;\n",
       "             color:  white;\n",
       "        }    #T_d24c04f2_f33c_11ea_bf28_8c85903d48d1row8_col2 {\n",
       "            background-color:  black;\n",
       "             color:  white;\n",
       "        }    #T_d24c04f2_f33c_11ea_bf28_8c85903d48d1row8_col3 {\n",
       "            background-color:  black;\n",
       "             color:  white;\n",
       "        }    #T_d24c04f2_f33c_11ea_bf28_8c85903d48d1row8_col4 {\n",
       "            background-color:  black;\n",
       "             color:  white;\n",
       "            width:  10em;\n",
       "             height:  80%;\n",
       "            background:  linear-gradient(90deg,orange 12.6%, transparent 12.6%);\n",
       "        }    #T_d24c04f2_f33c_11ea_bf28_8c85903d48d1row8_col5 {\n",
       "            background-color:  black;\n",
       "             color:  white;\n",
       "        }    #T_d24c04f2_f33c_11ea_bf28_8c85903d48d1row9_col0 {\n",
       "            background-color:  black;\n",
       "             color:  white;\n",
       "        }    #T_d24c04f2_f33c_11ea_bf28_8c85903d48d1row9_col1 {\n",
       "            background-color:  black;\n",
       "             color:  white;\n",
       "        }    #T_d24c04f2_f33c_11ea_bf28_8c85903d48d1row9_col2 {\n",
       "            background-color:  black;\n",
       "             color:  white;\n",
       "        }    #T_d24c04f2_f33c_11ea_bf28_8c85903d48d1row9_col3 {\n",
       "            background-color:  black;\n",
       "             color:  white;\n",
       "        }    #T_d24c04f2_f33c_11ea_bf28_8c85903d48d1row9_col4 {\n",
       "            background-color:  black;\n",
       "             color:  white;\n",
       "            width:  10em;\n",
       "             height:  80%;\n",
       "            background:  linear-gradient(90deg,orange 10.5%, transparent 10.5%);\n",
       "        }    #T_d24c04f2_f33c_11ea_bf28_8c85903d48d1row9_col5 {\n",
       "            background-color:  black;\n",
       "             color:  white;\n",
       "        }    #T_d24c04f2_f33c_11ea_bf28_8c85903d48d1row10_col0 {\n",
       "            background-color:  black;\n",
       "             color:  white;\n",
       "        }    #T_d24c04f2_f33c_11ea_bf28_8c85903d48d1row10_col1 {\n",
       "            background-color:  black;\n",
       "             color:  white;\n",
       "        }    #T_d24c04f2_f33c_11ea_bf28_8c85903d48d1row10_col2 {\n",
       "            background-color:  black;\n",
       "             color:  white;\n",
       "        }    #T_d24c04f2_f33c_11ea_bf28_8c85903d48d1row10_col3 {\n",
       "            background-color:  black;\n",
       "             color:  white;\n",
       "        }    #T_d24c04f2_f33c_11ea_bf28_8c85903d48d1row10_col4 {\n",
       "            background-color:  black;\n",
       "             color:  white;\n",
       "            width:  10em;\n",
       "             height:  80%;\n",
       "            background:  linear-gradient(90deg,orange 10.2%, transparent 10.2%);\n",
       "        }    #T_d24c04f2_f33c_11ea_bf28_8c85903d48d1row10_col5 {\n",
       "            background-color:  black;\n",
       "             color:  white;\n",
       "        }    #T_d24c04f2_f33c_11ea_bf28_8c85903d48d1row11_col0 {\n",
       "            background-color:  black;\n",
       "             color:  white;\n",
       "        }    #T_d24c04f2_f33c_11ea_bf28_8c85903d48d1row11_col1 {\n",
       "            background-color:  black;\n",
       "             color:  white;\n",
       "        }    #T_d24c04f2_f33c_11ea_bf28_8c85903d48d1row11_col2 {\n",
       "            background-color:  black;\n",
       "             color:  white;\n",
       "        }    #T_d24c04f2_f33c_11ea_bf28_8c85903d48d1row11_col3 {\n",
       "            background-color:  black;\n",
       "             color:  white;\n",
       "        }    #T_d24c04f2_f33c_11ea_bf28_8c85903d48d1row11_col4 {\n",
       "            background-color:  black;\n",
       "             color:  white;\n",
       "            width:  10em;\n",
       "             height:  80%;\n",
       "        }    #T_d24c04f2_f33c_11ea_bf28_8c85903d48d1row11_col5 {\n",
       "            background-color:  black;\n",
       "             color:  white;\n",
       "        }</style><table id=\"T_d24c04f2_f33c_11ea_bf28_8c85903d48d1\" ><thead>    <tr>        <th class=\"blank level0\" ></th>        <th class=\"col_heading level0 col0\" >label</th>        <th class=\"col_heading level0 col1\" >level</th>        <th class=\"col_heading level0 col2\" >starting_clues</th>        <th class=\"col_heading level0 col3\" >backtracking</th>        <th class=\"col_heading level0 col4\" >constraintpropogation</th>        <th class=\"col_heading level0 col5\" >combination</th>    </tr></thead><tbody>\n",
       "                <tr>\n",
       "                        <th id=\"T_d24c04f2_f33c_11ea_bf28_8c85903d48d1level0_row0\" class=\"row_heading level0 row0\" >54</th>\n",
       "                        <td id=\"T_d24c04f2_f33c_11ea_bf28_8c85903d48d1row0_col0\" class=\"data row0 col0\" >data/top95.txt:28</td>\n",
       "                        <td id=\"T_d24c04f2_f33c_11ea_bf28_8c85903d48d1row0_col1\" class=\"data row0 col1\" >Diabolical</td>\n",
       "                        <td id=\"T_d24c04f2_f33c_11ea_bf28_8c85903d48d1row0_col2\" class=\"data row0 col2\" >17</td>\n",
       "                        <td id=\"T_d24c04f2_f33c_11ea_bf28_8c85903d48d1row0_col3\" class=\"data row0 col3\" >17.607</td>\n",
       "                        <td id=\"T_d24c04f2_f33c_11ea_bf28_8c85903d48d1row0_col4\" class=\"data row0 col4\" >12.019</td>\n",
       "                        <td id=\"T_d24c04f2_f33c_11ea_bf28_8c85903d48d1row0_col5\" class=\"data row0 col5\" >0.06229</td>\n",
       "            </tr>\n",
       "            <tr>\n",
       "                        <th id=\"T_d24c04f2_f33c_11ea_bf28_8c85903d48d1level0_row1\" class=\"row_heading level0 row1\" >44</th>\n",
       "                        <td id=\"T_d24c04f2_f33c_11ea_bf28_8c85903d48d1row1_col0\" class=\"data row1 col0\" >data/top95.txt:18</td>\n",
       "                        <td id=\"T_d24c04f2_f33c_11ea_bf28_8c85903d48d1row1_col1\" class=\"data row1 col1\" >Diabolical</td>\n",
       "                        <td id=\"T_d24c04f2_f33c_11ea_bf28_8c85903d48d1row1_col2\" class=\"data row1 col2\" >17</td>\n",
       "                        <td id=\"T_d24c04f2_f33c_11ea_bf28_8c85903d48d1row1_col3\" class=\"data row1 col3\" >55.957</td>\n",
       "                        <td id=\"T_d24c04f2_f33c_11ea_bf28_8c85903d48d1row1_col4\" class=\"data row1 col4\" >11.031</td>\n",
       "                        <td id=\"T_d24c04f2_f33c_11ea_bf28_8c85903d48d1row1_col5\" class=\"data row1 col5\" >2.235</td>\n",
       "            </tr>\n",
       "            <tr>\n",
       "                        <th id=\"T_d24c04f2_f33c_11ea_bf28_8c85903d48d1level0_row2\" class=\"row_heading level0 row2\" >67</th>\n",
       "                        <td id=\"T_d24c04f2_f33c_11ea_bf28_8c85903d48d1row2_col0\" class=\"data row2 col0\" >data/top95.txt:41</td>\n",
       "                        <td id=\"T_d24c04f2_f33c_11ea_bf28_8c85903d48d1row2_col1\" class=\"data row2 col1\" >Diabolical</td>\n",
       "                        <td id=\"T_d24c04f2_f33c_11ea_bf28_8c85903d48d1row2_col2\" class=\"data row2 col2\" >17</td>\n",
       "                        <td id=\"T_d24c04f2_f33c_11ea_bf28_8c85903d48d1row2_col3\" class=\"data row2 col3\" >1170.511</td>\n",
       "                        <td id=\"T_d24c04f2_f33c_11ea_bf28_8c85903d48d1row2_col4\" class=\"data row2 col4\" >4.827</td>\n",
       "                        <td id=\"T_d24c04f2_f33c_11ea_bf28_8c85903d48d1row2_col5\" class=\"data row2 col5\" >2.981</td>\n",
       "            </tr>\n",
       "            <tr>\n",
       "                        <th id=\"T_d24c04f2_f33c_11ea_bf28_8c85903d48d1level0_row3\" class=\"row_heading level0 row3\" >33</th>\n",
       "                        <td id=\"T_d24c04f2_f33c_11ea_bf28_8c85903d48d1row3_col0\" class=\"data row3 col0\" >data/top95.txt:7</td>\n",
       "                        <td id=\"T_d24c04f2_f33c_11ea_bf28_8c85903d48d1row3_col1\" class=\"data row3 col1\" >Diabolical</td>\n",
       "                        <td id=\"T_d24c04f2_f33c_11ea_bf28_8c85903d48d1row3_col2\" class=\"data row3 col2\" >17</td>\n",
       "                        <td id=\"T_d24c04f2_f33c_11ea_bf28_8c85903d48d1row3_col3\" class=\"data row3 col3\" >1.695</td>\n",
       "                        <td id=\"T_d24c04f2_f33c_11ea_bf28_8c85903d48d1row3_col4\" class=\"data row3 col4\" >4.803</td>\n",
       "                        <td id=\"T_d24c04f2_f33c_11ea_bf28_8c85903d48d1row3_col5\" class=\"data row3 col5\" >1.02</td>\n",
       "            </tr>\n",
       "            <tr>\n",
       "                        <th id=\"T_d24c04f2_f33c_11ea_bf28_8c85903d48d1level0_row4\" class=\"row_heading level0 row4\" >47</th>\n",
       "                        <td id=\"T_d24c04f2_f33c_11ea_bf28_8c85903d48d1row4_col0\" class=\"data row4 col0\" >data/top95.txt:21</td>\n",
       "                        <td id=\"T_d24c04f2_f33c_11ea_bf28_8c85903d48d1row4_col1\" class=\"data row4 col1\" >Diabolical</td>\n",
       "                        <td id=\"T_d24c04f2_f33c_11ea_bf28_8c85903d48d1row4_col2\" class=\"data row4 col2\" >17</td>\n",
       "                        <td id=\"T_d24c04f2_f33c_11ea_bf28_8c85903d48d1row4_col3\" class=\"data row4 col3\" >41.997</td>\n",
       "                        <td id=\"T_d24c04f2_f33c_11ea_bf28_8c85903d48d1row4_col4\" class=\"data row4 col4\" >4.146</td>\n",
       "                        <td id=\"T_d24c04f2_f33c_11ea_bf28_8c85903d48d1row4_col5\" class=\"data row4 col5\" >2.397</td>\n",
       "            </tr>\n",
       "            <tr>\n",
       "                        <th id=\"T_d24c04f2_f33c_11ea_bf28_8c85903d48d1level0_row5\" class=\"row_heading level0 row5\" >34</th>\n",
       "                        <td id=\"T_d24c04f2_f33c_11ea_bf28_8c85903d48d1row5_col0\" class=\"data row5 col0\" >data/top95.txt:8</td>\n",
       "                        <td id=\"T_d24c04f2_f33c_11ea_bf28_8c85903d48d1row5_col1\" class=\"data row5 col1\" >Diabolical</td>\n",
       "                        <td id=\"T_d24c04f2_f33c_11ea_bf28_8c85903d48d1row5_col2\" class=\"data row5 col2\" >17</td>\n",
       "                        <td id=\"T_d24c04f2_f33c_11ea_bf28_8c85903d48d1row5_col3\" class=\"data row5 col3\" >113.456</td>\n",
       "                        <td id=\"T_d24c04f2_f33c_11ea_bf28_8c85903d48d1row5_col4\" class=\"data row5 col4\" >3.755</td>\n",
       "                        <td id=\"T_d24c04f2_f33c_11ea_bf28_8c85903d48d1row5_col5\" class=\"data row5 col5\" >4.387</td>\n",
       "            </tr>\n",
       "            <tr>\n",
       "                        <th id=\"T_d24c04f2_f33c_11ea_bf28_8c85903d48d1level0_row6\" class=\"row_heading level0 row6\" >36</th>\n",
       "                        <td id=\"T_d24c04f2_f33c_11ea_bf28_8c85903d48d1row6_col0\" class=\"data row6 col0\" >data/top95.txt:10</td>\n",
       "                        <td id=\"T_d24c04f2_f33c_11ea_bf28_8c85903d48d1row6_col1\" class=\"data row6 col1\" >Diabolical</td>\n",
       "                        <td id=\"T_d24c04f2_f33c_11ea_bf28_8c85903d48d1row6_col2\" class=\"data row6 col2\" >17</td>\n",
       "                        <td id=\"T_d24c04f2_f33c_11ea_bf28_8c85903d48d1row6_col3\" class=\"data row6 col3\" >108.378</td>\n",
       "                        <td id=\"T_d24c04f2_f33c_11ea_bf28_8c85903d48d1row6_col4\" class=\"data row6 col4\" >3.407</td>\n",
       "                        <td id=\"T_d24c04f2_f33c_11ea_bf28_8c85903d48d1row6_col5\" class=\"data row6 col5\" >5.18</td>\n",
       "            </tr>\n",
       "            <tr>\n",
       "                        <th id=\"T_d24c04f2_f33c_11ea_bf28_8c85903d48d1level0_row7\" class=\"row_heading level0 row7\" >35</th>\n",
       "                        <td id=\"T_d24c04f2_f33c_11ea_bf28_8c85903d48d1row7_col0\" class=\"data row7 col0\" >data/top95.txt:9</td>\n",
       "                        <td id=\"T_d24c04f2_f33c_11ea_bf28_8c85903d48d1row7_col1\" class=\"data row7 col1\" >Diabolical</td>\n",
       "                        <td id=\"T_d24c04f2_f33c_11ea_bf28_8c85903d48d1row7_col2\" class=\"data row7 col2\" >17</td>\n",
       "                        <td id=\"T_d24c04f2_f33c_11ea_bf28_8c85903d48d1row7_col3\" class=\"data row7 col3\" >1.692</td>\n",
       "                        <td id=\"T_d24c04f2_f33c_11ea_bf28_8c85903d48d1row7_col4\" class=\"data row7 col4\" >3.184</td>\n",
       "                        <td id=\"T_d24c04f2_f33c_11ea_bf28_8c85903d48d1row7_col5\" class=\"data row7 col5\" >0.4814</td>\n",
       "            </tr>\n",
       "            <tr>\n",
       "                        <th id=\"T_d24c04f2_f33c_11ea_bf28_8c85903d48d1level0_row8\" class=\"row_heading level0 row8\" >97</th>\n",
       "                        <td id=\"T_d24c04f2_f33c_11ea_bf28_8c85903d48d1row8_col0\" class=\"data row8 col0\" >data/top95.txt:71</td>\n",
       "                        <td id=\"T_d24c04f2_f33c_11ea_bf28_8c85903d48d1row8_col1\" class=\"data row8 col1\" >Diabolical</td>\n",
       "                        <td id=\"T_d24c04f2_f33c_11ea_bf28_8c85903d48d1row8_col2\" class=\"data row8 col2\" >17</td>\n",
       "                        <td id=\"T_d24c04f2_f33c_11ea_bf28_8c85903d48d1row8_col3\" class=\"data row8 col3\" >203.091</td>\n",
       "                        <td id=\"T_d24c04f2_f33c_11ea_bf28_8c85903d48d1row8_col4\" class=\"data row8 col4\" >2.501</td>\n",
       "                        <td id=\"T_d24c04f2_f33c_11ea_bf28_8c85903d48d1row8_col5\" class=\"data row8 col5\" >2.299</td>\n",
       "            </tr>\n",
       "            <tr>\n",
       "                        <th id=\"T_d24c04f2_f33c_11ea_bf28_8c85903d48d1level0_row9\" class=\"row_heading level0 row9\" >31</th>\n",
       "                        <td id=\"T_d24c04f2_f33c_11ea_bf28_8c85903d48d1row9_col0\" class=\"data row9 col0\" >data/top95.txt:5</td>\n",
       "                        <td id=\"T_d24c04f2_f33c_11ea_bf28_8c85903d48d1row9_col1\" class=\"data row9 col1\" >Diabolical</td>\n",
       "                        <td id=\"T_d24c04f2_f33c_11ea_bf28_8c85903d48d1row9_col2\" class=\"data row9 col2\" >17</td>\n",
       "                        <td id=\"T_d24c04f2_f33c_11ea_bf28_8c85903d48d1row9_col3\" class=\"data row9 col3\" >798.769</td>\n",
       "                        <td id=\"T_d24c04f2_f33c_11ea_bf28_8c85903d48d1row9_col4\" class=\"data row9 col4\" >2.268</td>\n",
       "                        <td id=\"T_d24c04f2_f33c_11ea_bf28_8c85903d48d1row9_col5\" class=\"data row9 col5\" >1.707</td>\n",
       "            </tr>\n",
       "            <tr>\n",
       "                        <th id=\"T_d24c04f2_f33c_11ea_bf28_8c85903d48d1level0_row10\" class=\"row_heading level0 row10\" >13</th>\n",
       "                        <td id=\"T_d24c04f2_f33c_11ea_bf28_8c85903d48d1row10_col0\" class=\"data row10 col0\" >Rico Alan 3</td>\n",
       "                        <td id=\"T_d24c04f2_f33c_11ea_bf28_8c85903d48d1row10_col1\" class=\"data row10 col1\" >Pathalogical</td>\n",
       "                        <td id=\"T_d24c04f2_f33c_11ea_bf28_8c85903d48d1row10_col2\" class=\"data row10 col2\" >17</td>\n",
       "                        <td id=\"T_d24c04f2_f33c_11ea_bf28_8c85903d48d1row10_col3\" class=\"data row10 col3\" >627.189</td>\n",
       "                        <td id=\"T_d24c04f2_f33c_11ea_bf28_8c85903d48d1row10_col4\" class=\"data row10 col4\" >2.232</td>\n",
       "                        <td id=\"T_d24c04f2_f33c_11ea_bf28_8c85903d48d1row10_col5\" class=\"data row10 col5\" >0.01581</td>\n",
       "            </tr>\n",
       "            <tr>\n",
       "                        <th id=\"T_d24c04f2_f33c_11ea_bf28_8c85903d48d1level0_row11\" class=\"row_heading level0 row11\" >72</th>\n",
       "                        <td id=\"T_d24c04f2_f33c_11ea_bf28_8c85903d48d1row11_col0\" class=\"data row11 col0\" >data/top95.txt:46</td>\n",
       "                        <td id=\"T_d24c04f2_f33c_11ea_bf28_8c85903d48d1row11_col1\" class=\"data row11 col1\" >Diabolical</td>\n",
       "                        <td id=\"T_d24c04f2_f33c_11ea_bf28_8c85903d48d1row11_col2\" class=\"data row11 col2\" >17</td>\n",
       "                        <td id=\"T_d24c04f2_f33c_11ea_bf28_8c85903d48d1row11_col3\" class=\"data row11 col3\" >45.829</td>\n",
       "                        <td id=\"T_d24c04f2_f33c_11ea_bf28_8c85903d48d1row11_col4\" class=\"data row11 col4\" >1.125</td>\n",
       "                        <td id=\"T_d24c04f2_f33c_11ea_bf28_8c85903d48d1row11_col5\" class=\"data row11 col5\" >0.04835</td>\n",
       "            </tr>\n",
       "    </tbody></table>"
      ],
      "text/plain": [
       "<pandas.io.formats.style.Styler at 0x114d17e90>"
      ]
     },
     "execution_count": 32,
     "metadata": {},
     "output_type": "execute_result"
    }
   ],
   "source": [
    "def highlight_where_backtracking_faster(s):\n",
    "    if s.constraintpropogation > s.backtracking:\n",
    "        return ['background-color: yellow; color: black'] * len(s)\n",
    "    elif s.constraintpropogation < 1.0:\n",
    "        return ['background-color: lightgreen; color: black'] * len(s)\n",
    "    else:\n",
    "        return ['background-color: black; color: white'] * len(s)\n",
    "\n",
    "ndf = df.sort_values(by=method, ascending=False).head(n=12)\n",
    "ndf.style.apply(highlight_where_backtracking_faster, axis=1).bar(subset=[method], color='orange').format({method: \"{:.3f}\", 'backtracking': '{:.3f}'})\n"
   ]
  },
  {
   "cell_type": "markdown",
   "metadata": {},
   "source": [
    "Interesting points:\n",
    "\n",
    "* Puzzles 7 and 9 (highlighted yellow) actually take longer to solve with the constraint propogation solution than simple backtracking\n",
    "* Puzzles 21 and 46 look like good candidates for looking at closer, because the backtracking time isn't so long that we can't wait for profiler output if we want to compare profiles\n",
    "* Puzzle 42 looks like a good place to start though: < ~1 second (highlighted green)\n",
    "\n",
    "So let's look at Puzzle 42 (answer to the Ultimate Question?), using the built in Jupyet profiler tools. First though, a quick check that the total time matches up. According to original testing performance, this should take ~8 microseconds (ms).\n"
   ]
  },
  {
   "cell_type": "code",
   "execution_count": 33,
   "metadata": {},
   "outputs": [
    {
     "name": "stdout",
     "output_type": "stream",
     "text": [
      "CPU times: user 980 ms, sys: 18.1 ms, total: 998 ms\n",
      "Wall time: 1.1 s\n"
     ]
    },
    {
     "data": {
      "text/plain": [
       "True"
      ]
     },
     "execution_count": 33,
     "metadata": {},
     "output_type": "execute_result"
    }
   ],
   "source": [
    "puzzle42 = '......8.16..2........7.5......6...2..1....3...8.......2......7..3..8....5...4....'\n",
    "puzzle.init_puzzle(puzzle42)\n",
    "solver = su.SudokuSolver(method=method)\n",
    "%time solver.solve(puzzle)"
   ]
  },
  {
   "cell_type": "markdown",
   "metadata": {},
   "source": [
    "That looks OK. So reset the puzzle and profile below. The profiler itself adds some overhead so this takes slightly longer (~1.2 seconds)."
   ]
  },
  {
   "cell_type": "code",
   "execution_count": 34,
   "metadata": {},
   "outputs": [
    {
     "name": "stdout",
     "output_type": "stream",
     "text": [
      " "
     ]
    },
    {
     "data": {
      "text/plain": [
       "         2059321 function calls (2030331 primitive calls) in 1.656 seconds\n",
       "\n",
       "   Ordered by: internal time\n",
       "\n",
       "   ncalls  tottime  percall  cumtime  percall filename:lineno(function)\n",
       "   398932    0.499    0.000    0.887    0.000 sudoku.py:100(get_allowed_values)\n",
       "    57980    0.345    0.000    1.143    0.000 puzzlegrid.py:260(next_best_empty_cell)\n",
       "   398932    0.250    0.000    0.250    0.000 puzzlegrid.py:297(get_allowed_values)\n",
       "   456848    0.157    0.000    0.157    0.000 sudoku.py:52(box_xy_to_num)\n",
       "  28991/1    0.123    0.000    1.656    1.656 sudoku.py:215(_solve_backtracking)\n",
       "    28990    0.057    0.000    0.151    0.000 puzzlegrid.py:177(set)\n",
       "    28926    0.046    0.000    0.103    0.000 sudoku.py:73(clear)\n",
       "    28990    0.043    0.000    0.206    0.000 sudoku.py:60(set)\n",
       "    28926    0.035    0.000    0.044    0.000 puzzlegrid.py:206(clear)\n",
       "   341006    0.033    0.000    0.033    0.000 {built-in method builtins.len}\n",
       "    28990    0.020    0.000    0.081    0.000 puzzlegrid.py:309(is_allowed_value)\n",
       "    86970    0.016    0.000    0.016    0.000 {method 'remove' of 'set' objects}\n",
       "    86778    0.012    0.000    0.012    0.000 {method 'add' of 'set' objects}\n",
       "    28990    0.011    0.000    1.143    0.000 {built-in method builtins.next}\n",
       "    28992    0.009    0.000    0.009    0.000 puzzlegrid.py:163(num_empty_cells)\n",
       "        1    0.000    0.000    1.656    1.656 {built-in method builtins.exec}\n",
       "        1    0.000    0.000    0.000    0.000 puzzlegrid.py:321(is_puzzle_valid)\n",
       "        1    0.000    0.000    0.000    0.000 sudoku.py:114(is_puzzle_valid)\n",
       "        9    0.000    0.000    0.000    0.000 sudoku.py:88(get_box_values)\n",
       "        9    0.000    0.000    0.000    0.000 puzzlegrid.py:295(<listcomp>)\n",
       "        9    0.000    0.000    0.000    0.000 sudoku.py:95(<listcomp>)\n",
       "        9    0.000    0.000    0.000    0.000 sudoku.py:98(<listcomp>)\n",
       "        9    0.000    0.000    0.000    0.000 sudoku.py:40(box_num_to_xy)\n",
       "        9    0.000    0.000    0.000    0.000 puzzlegrid.py:288(<listcomp>)\n",
       "        9    0.000    0.000    0.000    0.000 puzzlegrid.py:283(get_row_values)\n",
       "        1    0.000    0.000    1.656    1.656 sudoku.py:175(solve)\n",
       "        1    0.000    0.000    1.656    1.656 sudoku.py:527(solve)\n",
       "        9    0.000    0.000    0.000    0.000 puzzlegrid.py:290(get_column_values)\n",
       "        1    0.000    0.000    1.656    1.656 <string>:1(<module>)\n",
       "        1    0.000    0.000    0.000    0.000 puzzlegrid.py:344(is_solved)\n",
       "        1    0.000    0.000    0.000    0.000 {method 'disable' of '_lsprof.Profiler' objects}"
      ]
     },
     "metadata": {},
     "output_type": "display_data"
    }
   ],
   "source": [
    "puzzle.init_puzzle(puzzle42)\n",
    "s = su.SudokuSolver(method=method)\n",
    "%prun s.solve(puzzle)"
   ]
  },
  {
   "cell_type": "markdown",
   "metadata": {},
   "source": [
    "Notes:\n",
    "\n",
    "* 399K calls to `get_allowed_values`. The first entry is in [sudoku.py](sudoku.py#line_88), which gets the allowed values for the box, then calls the same method in the [parent class](puzzlegrid.py#line_321) to return the intersection of allowed cells in that row, column and box.\n",
    "* Recurses into `solve_constraintpropogation` 29K times.\n",
    "\n",
    "Compare the performance of #42 to #46. Expect #46 to take ~2.5 seconds."
   ]
  },
  {
   "cell_type": "code",
   "execution_count": 35,
   "metadata": {},
   "outputs": [
    {
     "name": "stdout",
     "output_type": "stream",
     "text": [
      "CPU times: user 248 ms, sys: 4.79 ms, total: 253 ms\n",
      "Wall time: 283 ms\n"
     ]
    },
    {
     "data": {
      "text/plain": [
       "True"
      ]
     },
     "execution_count": 35,
     "metadata": {},
     "output_type": "execute_result"
    }
   ],
   "source": [
    "puzzle46 = '.834.........7..5...........4.1.8..........27...3.....2.6.5....5.....8........1..'\n",
    "puzzle.init_puzzle(puzzle46)\n",
    "solver = su.SudokuSolver(method=method)\n",
    "%time solver.solve(puzzle)"
   ]
  },
  {
   "cell_type": "markdown",
   "metadata": {},
   "source": [
    "OK, this is weird. That was supposed to take ~2.5 seconds and instead finished in ~0.3 seconds. Let's run it again...and again. And this time we'll output some of the stats collected by the solver itself:\n",
    "\n",
    "* Max Depth: The deepest stack-depth the recursion reached\n",
    "* Backtracks: The number of \"mistakes\" made by the algorithm that resulted in it backtracking to a prior state\n"
   ]
  },
  {
   "cell_type": "code",
   "execution_count": 38,
   "metadata": {},
   "outputs": [
    {
     "name": "stdout",
     "output_type": "stream",
     "text": [
      "RUN 0\n",
      "CPU times: user 2.91 s, sys: 20.4 ms, total: 2.93 s\n",
      "Wall time: 3.04 s\n",
      "Max Depth=63; Backtracks=105917\n",
      "\n",
      "RUN 1\n",
      "CPU times: user 2.64 s, sys: 13.2 ms, total: 2.66 s\n",
      "Wall time: 2.7 s\n",
      "Max Depth=63; Backtracks=105917\n",
      "\n",
      "RUN 2\n",
      "CPU times: user 229 ms, sys: 1.39 ms, total: 230 ms\n",
      "Wall time: 232 ms\n",
      "Max Depth=63; Backtracks=8766\n",
      "\n",
      "RUN 3\n",
      "CPU times: user 238 ms, sys: 1.69 ms, total: 240 ms\n",
      "Wall time: 253 ms\n",
      "Max Depth=63; Backtracks=8766\n",
      "\n",
      "RUN 4\n",
      "CPU times: user 239 ms, sys: 2.37 ms, total: 242 ms\n",
      "Wall time: 247 ms\n",
      "Max Depth=63; Backtracks=8766\n",
      "\n"
     ]
    }
   ],
   "source": [
    "puzzle = su.SudokuPuzzle()\n",
    "solver = su.SudokuSolver(method=method)\n",
    "for i in range(5):\n",
    "    print(f\"RUN {i}\")\n",
    "    puzzle.init_puzzle(starting_grid=puzzle46)\n",
    "    assert(not puzzle.is_solved())\n",
    "    %time solver.solve(puzzle)\n",
    "    print(f\"Max Depth={solver.solver.max_depth}; Backtracks={solver.solver.backtrack_count}\\n\")"
   ]
  },
  {
   "cell_type": "markdown",
   "metadata": {},
   "source": [
    "In testing, the first two usually take ~2.5 seconds, and the last 3 take ~220 ms. Even though it's exactly the same puzzle being solved by exactly the same algorithm.\n",
    "\n",
    "Difference is caused by the return order of the set of allowed values. Since the values are returned in a set, the order of the set members is not guaranteed to be consistent. When the order is slightly different, then the backtracking can take dramatically different search paths, with consequent impacts on run time. You can see this in the `Backtracks` reported (105K vs 88K).\n",
    "\n",
    "In this specific case, one of the cells has allowed values (1, 9). If \"1\" is chosen then the solution takes 2.5 seconds to find. However if the \"9\" is chosen, then the search takes ~220 ms. \n",
    "\n",
    "If I modify the algorithm to always sort the allowed values then the performance time is always consistent. Otherwise there's a certain amount of randmomness to it.\n",
    "\n",
    "The other change is to recreate the `puzzle` instance each time. When I do that, the performance remains consistent, because the set order remains consistent. Not sure why that is.\n"
   ]
  },
  {
   "cell_type": "markdown",
   "metadata": {},
   "source": [
    "# Next Steps\n",
    "\n",
    "Still to do:\n",
    "\n",
    "* Not sure if the change in set ordering happens when running tests in `PuzzleTester` -- should check and see if that impacts results (I get an average but what's the stddev?)\n",
    "* Could force the set ordering to be deterministic and test with different preferred sort orders. Expect to find the same range of performance times, even as times for individual puzzles might vary.\n",
    "\n",
    "On that first point: I changed the code so that I get the expected behaviour. The method `run_single_test` was creating a new `SudokuPuzzle` instance each and every time it was called. I changed it to re-use the same instance and can now observe the variation. Not sure if that's really desireable or not.\n"
   ]
  },
  {
   "cell_type": "code",
   "execution_count": 39,
   "metadata": {},
   "outputs": [
    {
     "data": {
      "text/plain": [
       "1"
      ]
     },
     "execution_count": 39,
     "metadata": {},
     "output_type": "execute_result"
    }
   ],
   "source": [
    "newpt = pg.PuzzleTester(puzzle_class=su.SudokuPuzzle, test_samples=10)\n",
    "newcases = [x for x in pg.from_file(\"data/top95.txt\", level=\"Diabolical\") if x['label'] == 'data/top95.txt:46']\n",
    "newpt.add_testcases(newcases)\n",
    "newpt.num_testcases()"
   ]
  },
  {
   "cell_type": "code",
   "execution_count": 40,
   "metadata": {},
   "outputs": [
    {
     "data": {
      "text/html": [
       "<progress style=\"width: 100%\" max=1 value=1>1 out of 1</progress>"
      ],
      "text/plain": [
       "<IPython.core.display.HTML object>"
      ]
     },
     "metadata": {},
     "output_type": "display_data"
    },
    {
     "data": {
      "text/html": [
       "<p>Completed 1 test cases in 7.53 seconds</p>"
      ],
      "text/plain": [
       "<IPython.core.display.HTML object>"
      ]
     },
     "metadata": {},
     "output_type": "display_data"
    },
    {
     "data": {
      "text/html": [
       "<div>\n",
       "<style scoped>\n",
       "    .dataframe tbody tr th:only-of-type {\n",
       "        vertical-align: middle;\n",
       "    }\n",
       "\n",
       "    .dataframe tbody tr th {\n",
       "        vertical-align: top;\n",
       "    }\n",
       "\n",
       "    .dataframe thead th {\n",
       "        text-align: right;\n",
       "    }\n",
       "</style>\n",
       "<table border=\"1\" class=\"dataframe\">\n",
       "  <thead>\n",
       "    <tr style=\"text-align: right;\">\n",
       "      <th></th>\n",
       "      <th>label</th>\n",
       "      <th>level</th>\n",
       "      <th>starting_clues</th>\n",
       "      <th>constraintpropogation</th>\n",
       "    </tr>\n",
       "  </thead>\n",
       "  <tbody>\n",
       "    <tr>\n",
       "      <th>0</th>\n",
       "      <td>data/top95.txt:46</td>\n",
       "      <td>Diabolical</td>\n",
       "      <td>17</td>\n",
       "      <td>0.7531</td>\n",
       "    </tr>\n",
       "  </tbody>\n",
       "</table>\n",
       "</div>"
      ],
      "text/plain": [
       "               label       level  starting_clues  constraintpropogation\n",
       "0  data/top95.txt:46  Diabolical              17                 0.7531"
      ]
     },
     "execution_count": 40,
     "metadata": {},
     "output_type": "execute_result"
    }
   ],
   "source": [
    "method = 'constraintpropogation'\n",
    "solver = su.SudokuSolver(method=method)\n",
    "newpt.run_tests(solver, method, callback=update_progress)\n",
    "newdf = pd.DataFrame(newpt.get_test_results())\n",
    "newdf"
   ]
  },
  {
   "cell_type": "markdown",
   "metadata": {},
   "source": [
    "# Just for Fun: Cheating\n",
    "\n",
    "Occurred to me that the way I've designed the puzzle and solver classes opens the way to having a \"cheating\" solver. Basically a solver that over-writes the puzzle with a pre-programmed sequence of numbers that obey the rules but do not match the original puzzle clues.\n",
    "\n",
    "So just for fun let's see how easy that is to do and how I could improve the puzzle class to detect and block attempts to \"cheat\".\n"
   ]
  },
  {
   "cell_type": "code",
   "execution_count": 41,
   "metadata": {},
   "outputs": [
    {
     "data": {
      "text/plain": [
       "True"
      ]
     },
     "execution_count": 41,
     "metadata": {},
     "output_type": "execute_result"
    }
   ],
   "source": [
    "class CheatingSolver(pg.ConstraintSolver):\n",
    "    def solve(self, puzzle):\n",
    "        \"\"\"Easiest way to cheat would be to trick the is_solved() method on the puzzle to always returning True\"\"\"\n",
    "        puzzle._num_empty_cells = 0\n",
    "        return True\n",
    "\n",
    "puzzle = su.SudokuPuzzle(starting_grid=su.SAMPLE_PUZZLES[0]['puzzle'])\n",
    "solver = CheatingSolver()\n",
    "solver.solve(puzzle)\n",
    "puzzle.is_solved()"
   ]
  },
  {
   "cell_type": "markdown",
   "metadata": {},
   "source": [
    "Gah. That was *too* easy. So maybe instead we should at least make sure that `is_solved()` does a cell-by-cell check to see that all values are really filled in."
   ]
  },
  {
   "cell_type": "code",
   "execution_count": 42,
   "metadata": {},
   "outputs": [
    {
     "data": {
      "text/plain": [
       "True"
      ]
     },
     "execution_count": 42,
     "metadata": {},
     "output_type": "execute_result"
    }
   ],
   "source": [
    "class AntiCheatSudoku(su.SudokuPuzzle):\n",
    "    def is_solved(self):\n",
    "        if self.is_puzzle_valid():\n",
    "            for i in range(self.max_value()):\n",
    "                for j in range(self.max_value()):\n",
    "                    if self.is_empty(i, j):\n",
    "                        return False\n",
    "            return True\n",
    "        else:\n",
    "            return False\n",
    "    \n",
    "puzzle = AntiCheatSudoku(starting_grid=su.SAMPLE_PUZZLES[0]['puzzle'])\n",
    "solver = CheatingSolver()\n",
    "solver.solve(puzzle)"
   ]
  },
  {
   "cell_type": "code",
   "execution_count": 43,
   "metadata": {},
   "outputs": [
    {
     "data": {
      "text/plain": [
       "False"
      ]
     },
     "execution_count": 43,
     "metadata": {},
     "output_type": "execute_result"
    }
   ],
   "source": [
    "puzzle.is_solved()"
   ]
  },
  {
   "cell_type": "markdown",
   "metadata": {},
   "source": [
    "A little better -- the puzzle instance at least knows it is not solved, even though the \"solver\" reported that it was. So all we'd need to do now is make sure our test harness noticed the discrepency and threw away such results."
   ]
  },
  {
   "cell_type": "code",
   "execution_count": 44,
   "metadata": {},
   "outputs": [
    {
     "data": {
      "text/plain": [
       "8"
      ]
     },
     "execution_count": 44,
     "metadata": {},
     "output_type": "execute_result"
    }
   ],
   "source": [
    "pt._puzzle_class=AntiCheatSudoku\n",
    "method = 'cheating'\n",
    "solver = CheatingSolver()\n",
    "pt.run_tests(solver, method)"
   ]
  },
  {
   "cell_type": "code",
   "execution_count": 45,
   "metadata": {},
   "outputs": [
    {
     "data": {
      "text/html": [
       "<div>\n",
       "<style scoped>\n",
       "    .dataframe tbody tr th:only-of-type {\n",
       "        vertical-align: middle;\n",
       "    }\n",
       "\n",
       "    .dataframe tbody tr th {\n",
       "        vertical-align: top;\n",
       "    }\n",
       "\n",
       "    .dataframe thead th {\n",
       "        text-align: right;\n",
       "    }\n",
       "</style>\n",
       "<table border=\"1\" class=\"dataframe\">\n",
       "  <thead>\n",
       "    <tr style=\"text-align: right;\">\n",
       "      <th></th>\n",
       "      <th>label</th>\n",
       "      <th>level</th>\n",
       "      <th>starting_clues</th>\n",
       "      <th>backtracking</th>\n",
       "      <th>constraintpropogation</th>\n",
       "      <th>deductive</th>\n",
       "      <th>combination</th>\n",
       "      <th>cheating</th>\n",
       "    </tr>\n",
       "  </thead>\n",
       "  <tbody>\n",
       "    <tr>\n",
       "      <th>0</th>\n",
       "      <td>SMH 1</td>\n",
       "      <td>Kids</td>\n",
       "      <td>31</td>\n",
       "      <td>0.0043</td>\n",
       "      <td>0.0029</td>\n",
       "      <td>0.0024</td>\n",
       "      <td>0.0038</td>\n",
       "      <td>None</td>\n",
       "    </tr>\n",
       "    <tr>\n",
       "      <th>1</th>\n",
       "      <td>SMH 2</td>\n",
       "      <td>Easy</td>\n",
       "      <td>24</td>\n",
       "      <td>0.2511</td>\n",
       "      <td>0.0031</td>\n",
       "      <td>0.0079</td>\n",
       "      <td>0.0094</td>\n",
       "      <td>None</td>\n",
       "    </tr>\n",
       "    <tr>\n",
       "      <th>2</th>\n",
       "      <td>KTH 1</td>\n",
       "      <td>Easy</td>\n",
       "      <td>30</td>\n",
       "      <td>0.0176</td>\n",
       "      <td>0.0017</td>\n",
       "      <td>0.0033</td>\n",
       "      <td>0.0027</td>\n",
       "      <td>None</td>\n",
       "    </tr>\n",
       "    <tr>\n",
       "      <th>3</th>\n",
       "      <td>Rico Alan Heart</td>\n",
       "      <td>Easy</td>\n",
       "      <td>22</td>\n",
       "      <td>0.0769</td>\n",
       "      <td>0.0370</td>\n",
       "      <td>0.0173</td>\n",
       "      <td>0.0110</td>\n",
       "      <td>None</td>\n",
       "    </tr>\n",
       "    <tr>\n",
       "      <th>4</th>\n",
       "      <td>SMH 3</td>\n",
       "      <td>Moderate</td>\n",
       "      <td>26</td>\n",
       "      <td>0.1026</td>\n",
       "      <td>0.0290</td>\n",
       "      <td>NaN</td>\n",
       "      <td>0.0445</td>\n",
       "      <td>None</td>\n",
       "    </tr>\n",
       "    <tr>\n",
       "      <th>5</th>\n",
       "      <td>SMH 4</td>\n",
       "      <td>Hard</td>\n",
       "      <td>22</td>\n",
       "      <td>1.9386</td>\n",
       "      <td>0.0363</td>\n",
       "      <td>NaN</td>\n",
       "      <td>0.0273</td>\n",
       "      <td>None</td>\n",
       "    </tr>\n",
       "    <tr>\n",
       "      <th>6</th>\n",
       "      <td>SMH 5</td>\n",
       "      <td>Hard</td>\n",
       "      <td>25</td>\n",
       "      <td>0.8990</td>\n",
       "      <td>0.0299</td>\n",
       "      <td>NaN</td>\n",
       "      <td>0.0199</td>\n",
       "      <td>None</td>\n",
       "    </tr>\n",
       "    <tr>\n",
       "      <th>7</th>\n",
       "      <td>Greg [2017]</td>\n",
       "      <td>Hard</td>\n",
       "      <td>21</td>\n",
       "      <td>0.8557</td>\n",
       "      <td>0.0585</td>\n",
       "      <td>NaN</td>\n",
       "      <td>0.0500</td>\n",
       "      <td>None</td>\n",
       "    </tr>\n",
       "  </tbody>\n",
       "</table>\n",
       "</div>"
      ],
      "text/plain": [
       "             label     level  starting_clues  backtracking  \\\n",
       "0            SMH 1      Kids              31        0.0043   \n",
       "1            SMH 2      Easy              24        0.2511   \n",
       "2            KTH 1      Easy              30        0.0176   \n",
       "3  Rico Alan Heart      Easy              22        0.0769   \n",
       "4            SMH 3  Moderate              26        0.1026   \n",
       "5            SMH 4      Hard              22        1.9386   \n",
       "6            SMH 5      Hard              25        0.8990   \n",
       "7      Greg [2017]      Hard              21        0.8557   \n",
       "\n",
       "   constraintpropogation  deductive  combination cheating  \n",
       "0                 0.0029     0.0024       0.0038     None  \n",
       "1                 0.0031     0.0079       0.0094     None  \n",
       "2                 0.0017     0.0033       0.0027     None  \n",
       "3                 0.0370     0.0173       0.0110     None  \n",
       "4                 0.0290        NaN       0.0445     None  \n",
       "5                 0.0363        NaN       0.0273     None  \n",
       "6                 0.0299        NaN       0.0199     None  \n",
       "7                 0.0585        NaN       0.0500     None  "
      ]
     },
     "execution_count": 45,
     "metadata": {},
     "output_type": "execute_result"
    }
   ],
   "source": [
    "df = pd.DataFrame(pt.get_test_results())\n",
    "df"
   ]
  },
  {
   "cell_type": "markdown",
   "metadata": {},
   "source": [
    "So I had to change `PuzzleTester` class to check the return value of `run_single_test` (which returns the value of `puzzle.is_solved()`) so at least if the puzzle asserts that it is NOT solved then no result is recorded for the solver.\n",
    "\n",
    "## Cheating Attempt #2\n",
    "\n",
    "So since our really simple cheater no longer works I guess we'll need a more sophisticated version. We could just fill in the blank cells with \"1\" (or any other value) but then the `is_puzzle_valid` check would fail, at which point we may as well solve it properly. Let's just verify that that's true...\n"
   ]
  },
  {
   "cell_type": "code",
   "execution_count": 46,
   "metadata": {},
   "outputs": [],
   "source": [
    "class CheatingSolver(pg.ConstraintSolver):\n",
    "    def solve(self, puzzle):\n",
    "        \"\"\"Write some random value into empty cells\"\"\"\n",
    "        for i in range(puzzle.max_value()):\n",
    "            for j in range(puzzle.max_value()):\n",
    "                if puzzle.is_empty(i, j):\n",
    "                    # can't use set() because it checks validity!\n",
    "                    puzzle._grid[i][j] = 1\n",
    "        puzzle._num_empty_cells = 0\n",
    "        return True"
   ]
  },
  {
   "cell_type": "code",
   "execution_count": 47,
   "metadata": {},
   "outputs": [
    {
     "data": {
      "text/plain": [
       "False"
      ]
     },
     "execution_count": 47,
     "metadata": {},
     "output_type": "execute_result"
    }
   ],
   "source": [
    "puzzle = AntiCheatSudoku(starting_grid=su.SAMPLE_PUZZLES[0]['puzzle'])\n",
    "solver = CheatingSolver()\n",
    "solver.solve(puzzle)\n",
    "puzzle.is_solved()"
   ]
  },
  {
   "cell_type": "markdown",
   "metadata": {},
   "source": [
    "Correct! And that's because the puzzle isn't valid, right?"
   ]
  },
  {
   "cell_type": "code",
   "execution_count": 48,
   "metadata": {},
   "outputs": [
    {
     "data": {
      "text/plain": [
       "False"
      ]
     },
     "execution_count": 48,
     "metadata": {},
     "output_type": "execute_result"
    }
   ],
   "source": [
    "puzzle.is_puzzle_valid()"
   ]
  },
  {
   "cell_type": "markdown",
   "metadata": {},
   "source": [
    "Excellent! \n",
    "\n",
    "So maybe what our cheat needs to do is overwrite *all* cells in a rule-abiding way. We won't be actually solving the original puzzle. Basically, we're just writing a \"pre-solved\" puzzle over the top."
   ]
  },
  {
   "cell_type": "code",
   "execution_count": 49,
   "metadata": {},
   "outputs": [],
   "source": [
    "class CheatingSolver(pg.ConstraintSolver):\n",
    "    def solve(self, puzzle):\n",
    "        \"\"\"Write a pre-solved puzzle in over the top of the provided one\"\"\"\n",
    "        starting_values = [0, 3, 6, 1, 4, 7, 2, 5, 8]\n",
    "        max_value = puzzle.max_value()\n",
    "        puzzle.clear_all()\n",
    "        for i in range(max_value):\n",
    "            for j in range(max_value):\n",
    "                #print(i, j, (starting_values[i] + j) % max_value + 1)\n",
    "                puzzle.set(i, j, (starting_values[i] + j) % max_value + 1)\n",
    "        return True"
   ]
  },
  {
   "cell_type": "code",
   "execution_count": 50,
   "metadata": {},
   "outputs": [
    {
     "data": {
      "text/plain": [
       "True"
      ]
     },
     "execution_count": 50,
     "metadata": {},
     "output_type": "execute_result"
    }
   ],
   "source": [
    "puzzle = AntiCheatSudoku(starting_grid=su.SAMPLE_PUZZLES[0]['puzzle'])\n",
    "solver = CheatingSolver()\n",
    "solver.solve(puzzle)\n",
    "puzzle.is_solved()"
   ]
  },
  {
   "cell_type": "markdown",
   "metadata": {},
   "source": [
    "The whole point of this is to be faster than a real solver, so let's test performance."
   ]
  },
  {
   "cell_type": "code",
   "execution_count": 58,
   "metadata": {},
   "outputs": [
    {
     "data": {
      "text/html": [
       "<style  type=\"text/css\" >\n",
       "    #T_1901ae64_f33e_11ea_bf28_8c85903d48d1row0_col0 {\n",
       "            color:  green;\n",
       "        }    #T_1901ae64_f33e_11ea_bf28_8c85903d48d1row0_col1 {\n",
       "            color:  green;\n",
       "        }    #T_1901ae64_f33e_11ea_bf28_8c85903d48d1row0_col2 {\n",
       "            color:  green;\n",
       "        }    #T_1901ae64_f33e_11ea_bf28_8c85903d48d1row0_col3 {\n",
       "            color:  green;\n",
       "        }    #T_1901ae64_f33e_11ea_bf28_8c85903d48d1row0_col4 {\n",
       "            color:  green;\n",
       "        }    #T_1901ae64_f33e_11ea_bf28_8c85903d48d1row0_col5 {\n",
       "            color:  green;\n",
       "        }    #T_1901ae64_f33e_11ea_bf28_8c85903d48d1row0_col6 {\n",
       "            color:  green;\n",
       "        }    #T_1901ae64_f33e_11ea_bf28_8c85903d48d1row0_col7 {\n",
       "            color:  green;\n",
       "        }    #T_1901ae64_f33e_11ea_bf28_8c85903d48d1row0_col8 {\n",
       "            color:  green;\n",
       "        }    #T_1901ae64_f33e_11ea_bf28_8c85903d48d1row0_col9 {\n",
       "            color:  green;\n",
       "        }    #T_1901ae64_f33e_11ea_bf28_8c85903d48d1row1_col0 {\n",
       "            color:  green;\n",
       "        }    #T_1901ae64_f33e_11ea_bf28_8c85903d48d1row1_col1 {\n",
       "            color:  green;\n",
       "        }    #T_1901ae64_f33e_11ea_bf28_8c85903d48d1row1_col2 {\n",
       "            color:  green;\n",
       "        }    #T_1901ae64_f33e_11ea_bf28_8c85903d48d1row1_col3 {\n",
       "            color:  green;\n",
       "        }    #T_1901ae64_f33e_11ea_bf28_8c85903d48d1row1_col4 {\n",
       "            color:  green;\n",
       "        }    #T_1901ae64_f33e_11ea_bf28_8c85903d48d1row1_col5 {\n",
       "            color:  green;\n",
       "        }    #T_1901ae64_f33e_11ea_bf28_8c85903d48d1row1_col6 {\n",
       "            color:  green;\n",
       "        }    #T_1901ae64_f33e_11ea_bf28_8c85903d48d1row1_col7 {\n",
       "            color:  green;\n",
       "        }    #T_1901ae64_f33e_11ea_bf28_8c85903d48d1row1_col8 {\n",
       "            color:  green;\n",
       "        }    #T_1901ae64_f33e_11ea_bf28_8c85903d48d1row1_col9 {\n",
       "            color:  green;\n",
       "        }    #T_1901ae64_f33e_11ea_bf28_8c85903d48d1row2_col0 {\n",
       "            color:  green;\n",
       "        }    #T_1901ae64_f33e_11ea_bf28_8c85903d48d1row2_col1 {\n",
       "            color:  green;\n",
       "        }    #T_1901ae64_f33e_11ea_bf28_8c85903d48d1row2_col2 {\n",
       "            color:  green;\n",
       "        }    #T_1901ae64_f33e_11ea_bf28_8c85903d48d1row2_col3 {\n",
       "            color:  green;\n",
       "        }    #T_1901ae64_f33e_11ea_bf28_8c85903d48d1row2_col4 {\n",
       "            color:  green;\n",
       "        }    #T_1901ae64_f33e_11ea_bf28_8c85903d48d1row2_col5 {\n",
       "            color:  green;\n",
       "        }    #T_1901ae64_f33e_11ea_bf28_8c85903d48d1row2_col6 {\n",
       "            color:  green;\n",
       "        }    #T_1901ae64_f33e_11ea_bf28_8c85903d48d1row2_col7 {\n",
       "            color:  green;\n",
       "        }    #T_1901ae64_f33e_11ea_bf28_8c85903d48d1row2_col8 {\n",
       "            color:  green;\n",
       "        }    #T_1901ae64_f33e_11ea_bf28_8c85903d48d1row2_col9 {\n",
       "            color:  green;\n",
       "        }    #T_1901ae64_f33e_11ea_bf28_8c85903d48d1row3_col0 {\n",
       "            color:  green;\n",
       "        }    #T_1901ae64_f33e_11ea_bf28_8c85903d48d1row3_col1 {\n",
       "            color:  green;\n",
       "        }    #T_1901ae64_f33e_11ea_bf28_8c85903d48d1row3_col2 {\n",
       "            color:  green;\n",
       "        }    #T_1901ae64_f33e_11ea_bf28_8c85903d48d1row3_col3 {\n",
       "            color:  green;\n",
       "        }    #T_1901ae64_f33e_11ea_bf28_8c85903d48d1row3_col4 {\n",
       "            color:  green;\n",
       "        }    #T_1901ae64_f33e_11ea_bf28_8c85903d48d1row3_col5 {\n",
       "            color:  green;\n",
       "        }    #T_1901ae64_f33e_11ea_bf28_8c85903d48d1row3_col6 {\n",
       "            color:  green;\n",
       "        }    #T_1901ae64_f33e_11ea_bf28_8c85903d48d1row3_col7 {\n",
       "            color:  green;\n",
       "        }    #T_1901ae64_f33e_11ea_bf28_8c85903d48d1row3_col8 {\n",
       "            color:  green;\n",
       "        }    #T_1901ae64_f33e_11ea_bf28_8c85903d48d1row3_col9 {\n",
       "            color:  green;\n",
       "        }    #T_1901ae64_f33e_11ea_bf28_8c85903d48d1row4_col0 {\n",
       "            color:  green;\n",
       "        }    #T_1901ae64_f33e_11ea_bf28_8c85903d48d1row4_col1 {\n",
       "            color:  green;\n",
       "        }    #T_1901ae64_f33e_11ea_bf28_8c85903d48d1row4_col2 {\n",
       "            color:  green;\n",
       "        }    #T_1901ae64_f33e_11ea_bf28_8c85903d48d1row4_col3 {\n",
       "            color:  green;\n",
       "        }    #T_1901ae64_f33e_11ea_bf28_8c85903d48d1row4_col4 {\n",
       "            color:  green;\n",
       "        }    #T_1901ae64_f33e_11ea_bf28_8c85903d48d1row4_col5 {\n",
       "            color:  green;\n",
       "        }    #T_1901ae64_f33e_11ea_bf28_8c85903d48d1row4_col6 {\n",
       "            color:  green;\n",
       "        }    #T_1901ae64_f33e_11ea_bf28_8c85903d48d1row4_col7 {\n",
       "            color:  green;\n",
       "        }    #T_1901ae64_f33e_11ea_bf28_8c85903d48d1row4_col8 {\n",
       "            color:  green;\n",
       "        }    #T_1901ae64_f33e_11ea_bf28_8c85903d48d1row4_col9 {\n",
       "            color:  green;\n",
       "        }    #T_1901ae64_f33e_11ea_bf28_8c85903d48d1row5_col0 {\n",
       "            color:  green;\n",
       "        }    #T_1901ae64_f33e_11ea_bf28_8c85903d48d1row5_col1 {\n",
       "            color:  green;\n",
       "        }    #T_1901ae64_f33e_11ea_bf28_8c85903d48d1row5_col2 {\n",
       "            color:  green;\n",
       "        }    #T_1901ae64_f33e_11ea_bf28_8c85903d48d1row5_col3 {\n",
       "            color:  green;\n",
       "        }    #T_1901ae64_f33e_11ea_bf28_8c85903d48d1row5_col4 {\n",
       "            color:  green;\n",
       "        }    #T_1901ae64_f33e_11ea_bf28_8c85903d48d1row5_col5 {\n",
       "            color:  green;\n",
       "        }    #T_1901ae64_f33e_11ea_bf28_8c85903d48d1row5_col6 {\n",
       "            color:  green;\n",
       "        }    #T_1901ae64_f33e_11ea_bf28_8c85903d48d1row5_col7 {\n",
       "            color:  green;\n",
       "        }    #T_1901ae64_f33e_11ea_bf28_8c85903d48d1row5_col8 {\n",
       "            color:  green;\n",
       "        }    #T_1901ae64_f33e_11ea_bf28_8c85903d48d1row5_col9 {\n",
       "            color:  green;\n",
       "        }    #T_1901ae64_f33e_11ea_bf28_8c85903d48d1row6_col0 {\n",
       "            color:  green;\n",
       "        }    #T_1901ae64_f33e_11ea_bf28_8c85903d48d1row6_col1 {\n",
       "            color:  green;\n",
       "        }    #T_1901ae64_f33e_11ea_bf28_8c85903d48d1row6_col2 {\n",
       "            color:  green;\n",
       "        }    #T_1901ae64_f33e_11ea_bf28_8c85903d48d1row6_col3 {\n",
       "            color:  green;\n",
       "        }    #T_1901ae64_f33e_11ea_bf28_8c85903d48d1row6_col4 {\n",
       "            color:  green;\n",
       "        }    #T_1901ae64_f33e_11ea_bf28_8c85903d48d1row6_col5 {\n",
       "            color:  green;\n",
       "        }    #T_1901ae64_f33e_11ea_bf28_8c85903d48d1row6_col6 {\n",
       "            color:  green;\n",
       "        }    #T_1901ae64_f33e_11ea_bf28_8c85903d48d1row6_col7 {\n",
       "            color:  green;\n",
       "        }    #T_1901ae64_f33e_11ea_bf28_8c85903d48d1row6_col8 {\n",
       "            color:  green;\n",
       "        }    #T_1901ae64_f33e_11ea_bf28_8c85903d48d1row6_col9 {\n",
       "            color:  green;\n",
       "        }    #T_1901ae64_f33e_11ea_bf28_8c85903d48d1row7_col0 {\n",
       "            color:  green;\n",
       "        }    #T_1901ae64_f33e_11ea_bf28_8c85903d48d1row7_col1 {\n",
       "            color:  green;\n",
       "        }    #T_1901ae64_f33e_11ea_bf28_8c85903d48d1row7_col2 {\n",
       "            color:  green;\n",
       "        }    #T_1901ae64_f33e_11ea_bf28_8c85903d48d1row7_col3 {\n",
       "            color:  green;\n",
       "        }    #T_1901ae64_f33e_11ea_bf28_8c85903d48d1row7_col4 {\n",
       "            color:  green;\n",
       "        }    #T_1901ae64_f33e_11ea_bf28_8c85903d48d1row7_col5 {\n",
       "            color:  green;\n",
       "        }    #T_1901ae64_f33e_11ea_bf28_8c85903d48d1row7_col6 {\n",
       "            color:  green;\n",
       "        }    #T_1901ae64_f33e_11ea_bf28_8c85903d48d1row7_col7 {\n",
       "            color:  green;\n",
       "        }    #T_1901ae64_f33e_11ea_bf28_8c85903d48d1row7_col8 {\n",
       "            color:  green;\n",
       "        }    #T_1901ae64_f33e_11ea_bf28_8c85903d48d1row7_col9 {\n",
       "            color:  green;\n",
       "        }</style><table id=\"T_1901ae64_f33e_11ea_bf28_8c85903d48d1\" ><thead>    <tr>        <th class=\"blank level0\" ></th>        <th class=\"col_heading level0 col0\" >label</th>        <th class=\"col_heading level0 col1\" >level</th>        <th class=\"col_heading level0 col2\" >starting_clues</th>        <th class=\"col_heading level0 col3\" >backtracking</th>        <th class=\"col_heading level0 col4\" >constraintpropogation</th>        <th class=\"col_heading level0 col5\" >deductive</th>        <th class=\"col_heading level0 col6\" >combination</th>        <th class=\"col_heading level0 col7\" >cheating</th>        <th class=\"col_heading level0 col8\" >overwrite</th>        <th class=\"col_heading level0 col9\" >cheat</th>    </tr></thead><tbody>\n",
       "                <tr>\n",
       "                        <th id=\"T_1901ae64_f33e_11ea_bf28_8c85903d48d1level0_row0\" class=\"row_heading level0 row0\" >0</th>\n",
       "                        <td id=\"T_1901ae64_f33e_11ea_bf28_8c85903d48d1row0_col0\" class=\"data row0 col0\" >SMH 1</td>\n",
       "                        <td id=\"T_1901ae64_f33e_11ea_bf28_8c85903d48d1row0_col1\" class=\"data row0 col1\" >Kids</td>\n",
       "                        <td id=\"T_1901ae64_f33e_11ea_bf28_8c85903d48d1row0_col2\" class=\"data row0 col2\" >31</td>\n",
       "                        <td id=\"T_1901ae64_f33e_11ea_bf28_8c85903d48d1row0_col3\" class=\"data row0 col3\" >0.004338</td>\n",
       "                        <td id=\"T_1901ae64_f33e_11ea_bf28_8c85903d48d1row0_col4\" class=\"data row0 col4\" >0.002866</td>\n",
       "                        <td id=\"T_1901ae64_f33e_11ea_bf28_8c85903d48d1row0_col5\" class=\"data row0 col5\" >0.002422</td>\n",
       "                        <td id=\"T_1901ae64_f33e_11ea_bf28_8c85903d48d1row0_col6\" class=\"data row0 col6\" >0.003806</td>\n",
       "                        <td id=\"T_1901ae64_f33e_11ea_bf28_8c85903d48d1row0_col7\" class=\"data row0 col7\" >None</td>\n",
       "                        <td id=\"T_1901ae64_f33e_11ea_bf28_8c85903d48d1row0_col8\" class=\"data row0 col8\" >0.0006537</td>\n",
       "                        <td id=\"T_1901ae64_f33e_11ea_bf28_8c85903d48d1row0_col9\" class=\"data row0 col9\" >0.0008166</td>\n",
       "            </tr>\n",
       "            <tr>\n",
       "                        <th id=\"T_1901ae64_f33e_11ea_bf28_8c85903d48d1level0_row1\" class=\"row_heading level0 row1\" >1</th>\n",
       "                        <td id=\"T_1901ae64_f33e_11ea_bf28_8c85903d48d1row1_col0\" class=\"data row1 col0\" >SMH 2</td>\n",
       "                        <td id=\"T_1901ae64_f33e_11ea_bf28_8c85903d48d1row1_col1\" class=\"data row1 col1\" >Easy</td>\n",
       "                        <td id=\"T_1901ae64_f33e_11ea_bf28_8c85903d48d1row1_col2\" class=\"data row1 col2\" >24</td>\n",
       "                        <td id=\"T_1901ae64_f33e_11ea_bf28_8c85903d48d1row1_col3\" class=\"data row1 col3\" >0.2511</td>\n",
       "                        <td id=\"T_1901ae64_f33e_11ea_bf28_8c85903d48d1row1_col4\" class=\"data row1 col4\" >0.003105</td>\n",
       "                        <td id=\"T_1901ae64_f33e_11ea_bf28_8c85903d48d1row1_col5\" class=\"data row1 col5\" >0.007922</td>\n",
       "                        <td id=\"T_1901ae64_f33e_11ea_bf28_8c85903d48d1row1_col6\" class=\"data row1 col6\" >0.009418</td>\n",
       "                        <td id=\"T_1901ae64_f33e_11ea_bf28_8c85903d48d1row1_col7\" class=\"data row1 col7\" >None</td>\n",
       "                        <td id=\"T_1901ae64_f33e_11ea_bf28_8c85903d48d1row1_col8\" class=\"data row1 col8\" >0.0007045</td>\n",
       "                        <td id=\"T_1901ae64_f33e_11ea_bf28_8c85903d48d1row1_col9\" class=\"data row1 col9\" >0.0007245</td>\n",
       "            </tr>\n",
       "            <tr>\n",
       "                        <th id=\"T_1901ae64_f33e_11ea_bf28_8c85903d48d1level0_row2\" class=\"row_heading level0 row2\" >2</th>\n",
       "                        <td id=\"T_1901ae64_f33e_11ea_bf28_8c85903d48d1row2_col0\" class=\"data row2 col0\" >KTH 1</td>\n",
       "                        <td id=\"T_1901ae64_f33e_11ea_bf28_8c85903d48d1row2_col1\" class=\"data row2 col1\" >Easy</td>\n",
       "                        <td id=\"T_1901ae64_f33e_11ea_bf28_8c85903d48d1row2_col2\" class=\"data row2 col2\" >30</td>\n",
       "                        <td id=\"T_1901ae64_f33e_11ea_bf28_8c85903d48d1row2_col3\" class=\"data row2 col3\" >0.0176</td>\n",
       "                        <td id=\"T_1901ae64_f33e_11ea_bf28_8c85903d48d1row2_col4\" class=\"data row2 col4\" >0.00171</td>\n",
       "                        <td id=\"T_1901ae64_f33e_11ea_bf28_8c85903d48d1row2_col5\" class=\"data row2 col5\" >0.003293</td>\n",
       "                        <td id=\"T_1901ae64_f33e_11ea_bf28_8c85903d48d1row2_col6\" class=\"data row2 col6\" >0.002696</td>\n",
       "                        <td id=\"T_1901ae64_f33e_11ea_bf28_8c85903d48d1row2_col7\" class=\"data row2 col7\" >None</td>\n",
       "                        <td id=\"T_1901ae64_f33e_11ea_bf28_8c85903d48d1row2_col8\" class=\"data row2 col8\" >0.0007921</td>\n",
       "                        <td id=\"T_1901ae64_f33e_11ea_bf28_8c85903d48d1row2_col9\" class=\"data row2 col9\" >0.0006268</td>\n",
       "            </tr>\n",
       "            <tr>\n",
       "                        <th id=\"T_1901ae64_f33e_11ea_bf28_8c85903d48d1level0_row3\" class=\"row_heading level0 row3\" >3</th>\n",
       "                        <td id=\"T_1901ae64_f33e_11ea_bf28_8c85903d48d1row3_col0\" class=\"data row3 col0\" >Rico Alan Heart</td>\n",
       "                        <td id=\"T_1901ae64_f33e_11ea_bf28_8c85903d48d1row3_col1\" class=\"data row3 col1\" >Easy</td>\n",
       "                        <td id=\"T_1901ae64_f33e_11ea_bf28_8c85903d48d1row3_col2\" class=\"data row3 col2\" >22</td>\n",
       "                        <td id=\"T_1901ae64_f33e_11ea_bf28_8c85903d48d1row3_col3\" class=\"data row3 col3\" >0.07689</td>\n",
       "                        <td id=\"T_1901ae64_f33e_11ea_bf28_8c85903d48d1row3_col4\" class=\"data row3 col4\" >0.03697</td>\n",
       "                        <td id=\"T_1901ae64_f33e_11ea_bf28_8c85903d48d1row3_col5\" class=\"data row3 col5\" >0.01729</td>\n",
       "                        <td id=\"T_1901ae64_f33e_11ea_bf28_8c85903d48d1row3_col6\" class=\"data row3 col6\" >0.01095</td>\n",
       "                        <td id=\"T_1901ae64_f33e_11ea_bf28_8c85903d48d1row3_col7\" class=\"data row3 col7\" >None</td>\n",
       "                        <td id=\"T_1901ae64_f33e_11ea_bf28_8c85903d48d1row3_col8\" class=\"data row3 col8\" >0.000984</td>\n",
       "                        <td id=\"T_1901ae64_f33e_11ea_bf28_8c85903d48d1row3_col9\" class=\"data row3 col9\" >0.001657</td>\n",
       "            </tr>\n",
       "            <tr>\n",
       "                        <th id=\"T_1901ae64_f33e_11ea_bf28_8c85903d48d1level0_row4\" class=\"row_heading level0 row4\" >4</th>\n",
       "                        <td id=\"T_1901ae64_f33e_11ea_bf28_8c85903d48d1row4_col0\" class=\"data row4 col0\" >SMH 3</td>\n",
       "                        <td id=\"T_1901ae64_f33e_11ea_bf28_8c85903d48d1row4_col1\" class=\"data row4 col1\" >Moderate</td>\n",
       "                        <td id=\"T_1901ae64_f33e_11ea_bf28_8c85903d48d1row4_col2\" class=\"data row4 col2\" >26</td>\n",
       "                        <td id=\"T_1901ae64_f33e_11ea_bf28_8c85903d48d1row4_col3\" class=\"data row4 col3\" >0.1026</td>\n",
       "                        <td id=\"T_1901ae64_f33e_11ea_bf28_8c85903d48d1row4_col4\" class=\"data row4 col4\" >0.02901</td>\n",
       "                        <td id=\"T_1901ae64_f33e_11ea_bf28_8c85903d48d1row4_col5\" class=\"data row4 col5\" >nan</td>\n",
       "                        <td id=\"T_1901ae64_f33e_11ea_bf28_8c85903d48d1row4_col6\" class=\"data row4 col6\" >0.04449</td>\n",
       "                        <td id=\"T_1901ae64_f33e_11ea_bf28_8c85903d48d1row4_col7\" class=\"data row4 col7\" >None</td>\n",
       "                        <td id=\"T_1901ae64_f33e_11ea_bf28_8c85903d48d1row4_col8\" class=\"data row4 col8\" >0.0008106</td>\n",
       "                        <td id=\"T_1901ae64_f33e_11ea_bf28_8c85903d48d1row4_col9\" class=\"data row4 col9\" >0.001202</td>\n",
       "            </tr>\n",
       "            <tr>\n",
       "                        <th id=\"T_1901ae64_f33e_11ea_bf28_8c85903d48d1level0_row5\" class=\"row_heading level0 row5\" >5</th>\n",
       "                        <td id=\"T_1901ae64_f33e_11ea_bf28_8c85903d48d1row5_col0\" class=\"data row5 col0\" >SMH 4</td>\n",
       "                        <td id=\"T_1901ae64_f33e_11ea_bf28_8c85903d48d1row5_col1\" class=\"data row5 col1\" >Hard</td>\n",
       "                        <td id=\"T_1901ae64_f33e_11ea_bf28_8c85903d48d1row5_col2\" class=\"data row5 col2\" >22</td>\n",
       "                        <td id=\"T_1901ae64_f33e_11ea_bf28_8c85903d48d1row5_col3\" class=\"data row5 col3\" >1.939</td>\n",
       "                        <td id=\"T_1901ae64_f33e_11ea_bf28_8c85903d48d1row5_col4\" class=\"data row5 col4\" >0.03625</td>\n",
       "                        <td id=\"T_1901ae64_f33e_11ea_bf28_8c85903d48d1row5_col5\" class=\"data row5 col5\" >nan</td>\n",
       "                        <td id=\"T_1901ae64_f33e_11ea_bf28_8c85903d48d1row5_col6\" class=\"data row5 col6\" >0.02726</td>\n",
       "                        <td id=\"T_1901ae64_f33e_11ea_bf28_8c85903d48d1row5_col7\" class=\"data row5 col7\" >None</td>\n",
       "                        <td id=\"T_1901ae64_f33e_11ea_bf28_8c85903d48d1row5_col8\" class=\"data row5 col8\" >0.0006492</td>\n",
       "                        <td id=\"T_1901ae64_f33e_11ea_bf28_8c85903d48d1row5_col9\" class=\"data row5 col9\" >0.001976</td>\n",
       "            </tr>\n",
       "            <tr>\n",
       "                        <th id=\"T_1901ae64_f33e_11ea_bf28_8c85903d48d1level0_row6\" class=\"row_heading level0 row6\" >6</th>\n",
       "                        <td id=\"T_1901ae64_f33e_11ea_bf28_8c85903d48d1row6_col0\" class=\"data row6 col0\" >SMH 5</td>\n",
       "                        <td id=\"T_1901ae64_f33e_11ea_bf28_8c85903d48d1row6_col1\" class=\"data row6 col1\" >Hard</td>\n",
       "                        <td id=\"T_1901ae64_f33e_11ea_bf28_8c85903d48d1row6_col2\" class=\"data row6 col2\" >25</td>\n",
       "                        <td id=\"T_1901ae64_f33e_11ea_bf28_8c85903d48d1row6_col3\" class=\"data row6 col3\" >0.899</td>\n",
       "                        <td id=\"T_1901ae64_f33e_11ea_bf28_8c85903d48d1row6_col4\" class=\"data row6 col4\" >0.02989</td>\n",
       "                        <td id=\"T_1901ae64_f33e_11ea_bf28_8c85903d48d1row6_col5\" class=\"data row6 col5\" >nan</td>\n",
       "                        <td id=\"T_1901ae64_f33e_11ea_bf28_8c85903d48d1row6_col6\" class=\"data row6 col6\" >0.01987</td>\n",
       "                        <td id=\"T_1901ae64_f33e_11ea_bf28_8c85903d48d1row6_col7\" class=\"data row6 col7\" >None</td>\n",
       "                        <td id=\"T_1901ae64_f33e_11ea_bf28_8c85903d48d1row6_col8\" class=\"data row6 col8\" >0.0006114</td>\n",
       "                        <td id=\"T_1901ae64_f33e_11ea_bf28_8c85903d48d1row6_col9\" class=\"data row6 col9\" >0.0007032</td>\n",
       "            </tr>\n",
       "            <tr>\n",
       "                        <th id=\"T_1901ae64_f33e_11ea_bf28_8c85903d48d1level0_row7\" class=\"row_heading level0 row7\" >7</th>\n",
       "                        <td id=\"T_1901ae64_f33e_11ea_bf28_8c85903d48d1row7_col0\" class=\"data row7 col0\" >Greg [2017]</td>\n",
       "                        <td id=\"T_1901ae64_f33e_11ea_bf28_8c85903d48d1row7_col1\" class=\"data row7 col1\" >Hard</td>\n",
       "                        <td id=\"T_1901ae64_f33e_11ea_bf28_8c85903d48d1row7_col2\" class=\"data row7 col2\" >21</td>\n",
       "                        <td id=\"T_1901ae64_f33e_11ea_bf28_8c85903d48d1row7_col3\" class=\"data row7 col3\" >0.8557</td>\n",
       "                        <td id=\"T_1901ae64_f33e_11ea_bf28_8c85903d48d1row7_col4\" class=\"data row7 col4\" >0.0585</td>\n",
       "                        <td id=\"T_1901ae64_f33e_11ea_bf28_8c85903d48d1row7_col5\" class=\"data row7 col5\" >nan</td>\n",
       "                        <td id=\"T_1901ae64_f33e_11ea_bf28_8c85903d48d1row7_col6\" class=\"data row7 col6\" >0.05001</td>\n",
       "                        <td id=\"T_1901ae64_f33e_11ea_bf28_8c85903d48d1row7_col7\" class=\"data row7 col7\" >None</td>\n",
       "                        <td id=\"T_1901ae64_f33e_11ea_bf28_8c85903d48d1row7_col8\" class=\"data row7 col8\" >0.0005685</td>\n",
       "                        <td id=\"T_1901ae64_f33e_11ea_bf28_8c85903d48d1row7_col9\" class=\"data row7 col9\" >0.001171</td>\n",
       "            </tr>\n",
       "    </tbody></table>"
      ],
      "text/plain": [
       "<pandas.io.formats.style.Styler at 0x115379e50>"
      ]
     },
     "execution_count": 58,
     "metadata": {},
     "output_type": "execute_result"
    }
   ],
   "source": [
    "def highlight_where_cheating_faster(s):\n",
    "    if s.constraintpropogation > s.cheat:\n",
    "        return ['color: green'] * len(s)\n",
    "    else:\n",
    "        return ['color: white'] * len(s)\n",
    "\n",
    "method = 'cheat'\n",
    "pt.run_tests(solver, method)\n",
    "df = pd.DataFrame(pt.get_test_results())\n",
    "df.style.apply(highlight_where_cheating_faster, axis=1)\n"
   ]
  },
  {
   "cell_type": "markdown",
   "metadata": {},
   "source": [
    "## Catching Cheat #2\n",
    "\n",
    "To prevent the new cheat we basically need to compare the puzzle with a copy of the original. That way we can detect that the starting clues have been over written.\n",
    "\n",
    "We can't do this in the `SudokuPuzzle` itself. Python doesn't really have `private` attributes, [just a naming convention](https://docs.python.org/3/tutorial/classes.html#tut-private) that signals \"hey, you're not supposed to muck around with this\", but we've already seen that we can pretty much ignore that and modify the class's internals. And since we're trying to guard against cheating we can assume an attacker will happily ignore convention.\n",
    "\n",
    "If we assume that the caller (test harness) can be trusted then we can let the caller verify that the original puzzle is OK. We'll just need a function that confirms if the starting clues in one puzzle also exist in the second.\n"
   ]
  },
  {
   "cell_type": "code",
   "execution_count": 59,
   "metadata": {},
   "outputs": [],
   "source": [
    "def has_same_clues(a, b):\n",
    "    \"\"\"Returns true if the non empty cells in a have the same value in b\"\"\"\n",
    "    if a.max_value() != b.max_value():\n",
    "        return False\n",
    "    \n",
    "    for i in range(a.max_value()):\n",
    "        for j in range(a.max_value()):\n",
    "            if not a.is_empty(i, j) and a.get(i, j) != b.get(i, j):\n",
    "                return False\n",
    "    return True"
   ]
  },
  {
   "cell_type": "code",
   "execution_count": 60,
   "metadata": {},
   "outputs": [
    {
     "data": {
      "text/plain": [
       "True"
      ]
     },
     "execution_count": 60,
     "metadata": {},
     "output_type": "execute_result"
    }
   ],
   "source": [
    "puzzle = AntiCheatSudoku(starting_grid=su.SAMPLE_PUZZLES[0]['puzzle'])\n",
    "original = copy.deepcopy(puzzle)\n",
    "has_same_clues(original, puzzle)"
   ]
  },
  {
   "cell_type": "code",
   "execution_count": 61,
   "metadata": {},
   "outputs": [
    {
     "data": {
      "text/plain": [
       "True"
      ]
     },
     "execution_count": 61,
     "metadata": {},
     "output_type": "execute_result"
    }
   ],
   "source": [
    "solver.solve(puzzle)\n",
    "puzzle.is_solved()"
   ]
  },
  {
   "cell_type": "code",
   "execution_count": 62,
   "metadata": {},
   "outputs": [
    {
     "data": {
      "text/plain": [
       "False"
      ]
     },
     "execution_count": 62,
     "metadata": {},
     "output_type": "execute_result"
    }
   ],
   "source": [
    "has_same_clues(original, puzzle)"
   ]
  },
  {
   "cell_type": "markdown",
   "metadata": {},
   "source": [
    "Putting it all together, let's ~~monkey patch~~ override the test harness instance and make sure it throws away test results if the solver has cheated."
   ]
  },
  {
   "cell_type": "code",
   "execution_count": 63,
   "metadata": {},
   "outputs": [
    {
     "data": {
      "text/plain": [
       "8"
      ]
     },
     "execution_count": 63,
     "metadata": {},
     "output_type": "execute_result"
    }
   ],
   "source": [
    "class AntiCheatTester(pg.PuzzleTester):\n",
    "    def run_single_test(self, test_case, puzzle, solver):\n",
    "            \"\"\"Checks that the solver has really solved the puzzle\"\"\"\n",
    "            puzzle.init_puzzle(test_case['puzzle'])\n",
    "            original = copy.deepcopy(puzzle)\n",
    "            solver.solve(puzzle)\n",
    "            if has_same_clues(original, puzzle):\n",
    "                self._last_was_solved = puzzle.is_solved()\n",
    "            else:\n",
    "                self._last_was_solved = False\n",
    "            return self._last_was_solved\n",
    "    \n",
    "newpt = AntiCheatTester(puzzle_class=AntiCheatSudoku, test_samples=NUM_SAMPLES)\n",
    "newpt.add_testcases(test_cases)\n",
    "newpt.num_testcases()"
   ]
  },
  {
   "cell_type": "code",
   "execution_count": 64,
   "metadata": {},
   "outputs": [
    {
     "data": {
      "text/html": [
       "<div>\n",
       "<style scoped>\n",
       "    .dataframe tbody tr th:only-of-type {\n",
       "        vertical-align: middle;\n",
       "    }\n",
       "\n",
       "    .dataframe tbody tr th {\n",
       "        vertical-align: top;\n",
       "    }\n",
       "\n",
       "    .dataframe thead th {\n",
       "        text-align: right;\n",
       "    }\n",
       "</style>\n",
       "<table border=\"1\" class=\"dataframe\">\n",
       "  <thead>\n",
       "    <tr style=\"text-align: right;\">\n",
       "      <th></th>\n",
       "      <th>label</th>\n",
       "      <th>level</th>\n",
       "      <th>starting_clues</th>\n",
       "      <th>cheat</th>\n",
       "    </tr>\n",
       "  </thead>\n",
       "  <tbody>\n",
       "    <tr>\n",
       "      <th>0</th>\n",
       "      <td>SMH 1</td>\n",
       "      <td>Kids</td>\n",
       "      <td>31</td>\n",
       "      <td>None</td>\n",
       "    </tr>\n",
       "    <tr>\n",
       "      <th>1</th>\n",
       "      <td>SMH 2</td>\n",
       "      <td>Easy</td>\n",
       "      <td>24</td>\n",
       "      <td>None</td>\n",
       "    </tr>\n",
       "    <tr>\n",
       "      <th>2</th>\n",
       "      <td>KTH 1</td>\n",
       "      <td>Easy</td>\n",
       "      <td>30</td>\n",
       "      <td>None</td>\n",
       "    </tr>\n",
       "    <tr>\n",
       "      <th>3</th>\n",
       "      <td>Rico Alan Heart</td>\n",
       "      <td>Easy</td>\n",
       "      <td>22</td>\n",
       "      <td>None</td>\n",
       "    </tr>\n",
       "    <tr>\n",
       "      <th>4</th>\n",
       "      <td>SMH 3</td>\n",
       "      <td>Moderate</td>\n",
       "      <td>26</td>\n",
       "      <td>None</td>\n",
       "    </tr>\n",
       "    <tr>\n",
       "      <th>5</th>\n",
       "      <td>SMH 4</td>\n",
       "      <td>Hard</td>\n",
       "      <td>22</td>\n",
       "      <td>None</td>\n",
       "    </tr>\n",
       "    <tr>\n",
       "      <th>6</th>\n",
       "      <td>SMH 5</td>\n",
       "      <td>Hard</td>\n",
       "      <td>25</td>\n",
       "      <td>None</td>\n",
       "    </tr>\n",
       "    <tr>\n",
       "      <th>7</th>\n",
       "      <td>Greg [2017]</td>\n",
       "      <td>Hard</td>\n",
       "      <td>21</td>\n",
       "      <td>None</td>\n",
       "    </tr>\n",
       "  </tbody>\n",
       "</table>\n",
       "</div>"
      ],
      "text/plain": [
       "             label     level  starting_clues cheat\n",
       "0            SMH 1      Kids              31  None\n",
       "1            SMH 2      Easy              24  None\n",
       "2            KTH 1      Easy              30  None\n",
       "3  Rico Alan Heart      Easy              22  None\n",
       "4            SMH 3  Moderate              26  None\n",
       "5            SMH 4      Hard              22  None\n",
       "6            SMH 5      Hard              25  None\n",
       "7      Greg [2017]      Hard              21  None"
      ]
     },
     "execution_count": 64,
     "metadata": {},
     "output_type": "execute_result"
    }
   ],
   "source": [
    "newpt.run_tests(solver, method)\n",
    "df = pd.DataFrame(newpt.get_test_results())\n",
    "df"
   ]
  },
  {
   "cell_type": "markdown",
   "metadata": {},
   "source": [
    "OK! Our cheating solver has had no results recorded for it, because the answer it gives does not match the starting clues!\n",
    "\n",
    "There are probably ways to defeat these checks, particularly in a language like Python where \"monkey patching\" is a thing and everything is dynamic. That might be a fun way to learn more about the internals of Python, but for now I'm declaring this \"done\" and moving on to the next puzzle..."
   ]
  },
  {
   "cell_type": "code",
   "execution_count": 65,
   "metadata": {},
   "outputs": [
    {
     "name": "stdout",
     "output_type": "stream",
     "text": [
      "2020-09-10 18:19:32.048683\n"
     ]
    }
   ],
   "source": [
    "import datetime\n",
    "print(datetime.datetime.now())"
   ]
  },
  {
   "cell_type": "markdown",
   "metadata": {},
   "source": [
    "# Appendix\n",
    "\n",
    "## Sources\n",
    "\n",
    "Part of this exercise was to learn Python and Jupyter skills while also solving a problem that I found interesting. So I've largely avoided reading other people's solutions to solving Sudoku. However from time to time I've gotten stuck or just been curious about something and found the below sources useful.\n",
    "\n",
    "* The \"Top 95\" and \"Hardest\" puzzle examples in the data directory come from [Solving Every Sudoku Puzzle (by Peter Norvig)](https://norvig.com/sudoku.html)\n",
    "* [Sudoku solving algorithms](https://en.wikipedia.org/wiki/Sudoku_solving_algorithms) -- links to some sample puzzles (on Flickr of all places). Found via the [Wikipedia article on Sudoku solving algorithms](https://en.wikipedia.org/wiki/Sudoku_solving_algorithms).\n",
    "* [AI Sudoku](http://www.aisudoku.com/index_en.html) -- collection of really hard puzzles.\n",
    "* The [sudoku.py](sudoku.py) class has URLs to where I found some of the sample puzzles. I've attempted to use labels for them that credit the source, although it's not always clear where the original puzzle came from.\n",
    "* Also used examples from [Simple sudoku solver using constraint propagation](https://gpicavet.github.io/jekyll/update/2017/12/16/sudoku-solver.html) (Grégory Picavet's Blog).\n",
    "\n",
    "\n",
    "## Table formatting\n",
    "\n",
    "Snippet below inserts some CSS to make the table look more like a Sudoku puzzle grid.\n"
   ]
  },
  {
   "cell_type": "code",
   "execution_count": 66,
   "metadata": {},
   "outputs": [
    {
     "data": {
      "text/html": [
       "\n",
       "<style type=\"text/css\">\n",
       ".sudoku table {\n",
       "    border: 3px solid red;\n",
       "    text-align: center; \n",
       "    vertical-align: middle;\n",
       "}\n",
       "\n",
       ".sudoku td {\n",
       "    width: 40px;\n",
       "    height: 40px;\n",
       "    border: 1px solid #F00;\n",
       "}\n",
       "\n",
       ".sudoku td:nth-of-type(3n) {    \n",
       "    border-right: 3px solid red;\n",
       "}\n",
       "\n",
       ".sudoku tr:nth-of-type(3n) td {    \n",
       "    border-bottom: 3px solid red;\n",
       "}\n",
       "\n",
       ".sudoku.solved table {\n",
       "    border: 3px solid green;\n",
       "}\n",
       "\n",
       ".sudoku.solved td {\n",
       "    border: 1px solid green;\n",
       "}\n",
       "\n",
       ".sudoku.solved td:nth-of-type(3n) {    \n",
       "    border-right: 3px solid green;\n",
       "}\n",
       "\n",
       ".sudoku.solved tr:nth-of-type(3n) td {    \n",
       "    border-bottom: 3px solid green;\n",
       "}\n",
       "\n",
       "</style>\n"
      ],
      "text/plain": [
       "<IPython.core.display.HTML object>"
      ]
     },
     "metadata": {},
     "output_type": "display_data"
    }
   ],
   "source": [
    "display(HTML('''\n",
    "<style type=\"text/css\">\n",
    ".sudoku table {\n",
    "    border: 3px solid red;\n",
    "    text-align: center; \n",
    "    vertical-align: middle;\n",
    "}\n",
    "\n",
    ".sudoku td {\n",
    "    width: 40px;\n",
    "    height: 40px;\n",
    "    border: 1px solid #F00;\n",
    "}\n",
    "\n",
    ".sudoku td:nth-of-type(3n) {    \n",
    "    border-right: 3px solid red;\n",
    "}\n",
    "\n",
    ".sudoku tr:nth-of-type(3n) td {    \n",
    "    border-bottom: 3px solid red;\n",
    "}\n",
    "\n",
    ".sudoku.solved table {\n",
    "    border: 3px solid green;\n",
    "}\n",
    "\n",
    ".sudoku.solved td {\n",
    "    border: 1px solid green;\n",
    "}\n",
    "\n",
    ".sudoku.solved td:nth-of-type(3n) {    \n",
    "    border-right: 3px solid green;\n",
    "}\n",
    "\n",
    ".sudoku.solved tr:nth-of-type(3n) td {    \n",
    "    border-bottom: 3px solid green;\n",
    "}\n",
    "\n",
    "</style>\n",
    "'''))"
   ]
  },
  {
   "cell_type": "markdown",
   "metadata": {},
   "source": [
    "Scratch.txt\n",
    "\n",
    "#10: Rico Alan Border #1\n",
    "Greg: Solved in 3 ms, 59 tests, 0 backtracks\n",
    "Me: Solved in 3 ms\n",
    "\n",
    "#13: Rico Alan #3\n",
    "Greg: Invalid board!\n",
    "Me: Solved in 1.771 s\n",
    "\n",
    "#11: Rico Alan #4\n",
    "Greg: Solved in 30 ms, 5396 tests, 2371 backtracks\n",
    "Me: Solved in 26 ms\n",
    "\n",
    "#12: Qassim Hamza\n",
    "Greg: Solved in 15 ms\n",
    "Me: Solved in 59 ms\n",
    "\n",
    "#14: World's Hardest Sudoku 2012\n",
    "Greg: Solved in 21 ms\n",
    "Me: Solved in 30 ms\n",
    "\n",
    "#15: AI escargot\n",
    "Greg: Solved in 1 ms, 187 tests, 12 backtracks\n",
    "Me: Solved in 4 ms"
   ]
  }
 ],
 "metadata": {
  "kernelspec": {
   "display_name": "Python 3",
   "language": "python",
   "name": "python3"
  },
  "language_info": {
   "codemirror_mode": {
    "name": "ipython",
    "version": 3
   },
   "file_extension": ".py",
   "mimetype": "text/x-python",
   "name": "python",
   "nbconvert_exporter": "python",
   "pygments_lexer": "ipython3",
   "version": "3.7.4"
  }
 },
 "nbformat": 4,
 "nbformat_minor": 4
}
