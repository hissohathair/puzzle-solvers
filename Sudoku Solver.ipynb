{
 "cells": [
  {
   "cell_type": "markdown",
   "metadata": {},
   "source": [
    "# Sudoku Puzzle Solver\n",
    "\n",
    "Some test puzzles of varying difficulties are encoded in a 2 dimensional matrix below.\n"
   ]
  },
  {
   "cell_type": "code",
   "execution_count": 1,
   "metadata": {},
   "outputs": [],
   "source": [
    "# Some puzzles for testing\n",
    "diabolical = [\n",
    "    [0, 0, 8, 0, 0, 0, 0, 0, 0],\n",
    "    [1, 0, 0, 6, 0, 0, 4, 9, 0],\n",
    "    [5, 0, 0, 0, 0, 0, 0, 7, 0],\n",
    "    [0, 7, 0, 0, 4, 0, 0, 0, 0],\n",
    "    [0, 5, 0, 2, 0, 6, 0, 0, 0],\n",
    "    [8, 0, 0, 7, 9, 0, 0, 1, 0],\n",
    "    [0, 6, 3, 0, 0, 0, 0, 0, 1],\n",
    "    [0, 0, 5, 0, 7, 3, 0, 0, 0],\n",
    "    [0, 0, 0, 9, 0, 0, 7, 5, 0]\n",
    "]\n",
    "\n",
    "hard = [\n",
    "    [0, 0, 4, 5, 0, 7, 0, 0, 0],\n",
    "    [0, 0, 0, 0, 0, 0, 0, 9, 8],\n",
    "    [0, 0, 2, 0, 6, 0, 0, 3, 0],\n",
    "    [7, 0, 0, 1, 5, 0, 0, 0, 0],\n",
    "    [0, 0, 0, 0, 0, 9, 0, 0, 0],\n",
    "    [0, 0, 0, 0, 0, 0, 0, 5, 6],\n",
    "    [0, 8, 6, 0, 4, 0, 0, 0, 0],\n",
    "    [0, 2, 0, 0, 0, 0, 1, 7, 0],\n",
    "    [0, 3, 0, 0, 0, 1, 0, 0, 0]\n",
    "]\n",
    "\n",
    "moderate = [\n",
    "    [0, 0, 7, 5, 0, 0, 0, 0, 0],\n",
    "    [1, 0, 0, 0, 0, 9, 8, 0, 0],\n",
    "    [0, 6, 0, 0, 1, 0, 4, 3, 0],\n",
    "    [8, 0, 5, 0, 0, 2, 0, 1, 0],\n",
    "    [0, 0, 0, 0, 0, 0, 2, 0, 0],\n",
    "    [0, 1, 0, 7, 0, 0, 0, 0, 9],\n",
    "    [0, 0, 3, 0, 0, 8, 0, 0, 4],\n",
    "    [0, 4, 0, 9, 0, 0, 3, 0, 0],\n",
    "    [9, 0, 0, 0, 0, 6, 0, 2, 0]\n",
    "]\n",
    "\n",
    "easy = [\n",
    "    [7, 4, 3, 8, 0, 0, 0, 0, 0],\n",
    "    [0, 0, 0, 4, 0, 0, 0, 0, 0],\n",
    "    [0, 0, 0, 0, 9, 6, 0, 0, 0],\n",
    "    [0, 5, 0, 0, 8, 0, 0, 6, 0],\n",
    "    [8, 0, 4, 7, 0, 9, 3, 0, 0],\n",
    "    [0, 0, 0, 0, 0, 5, 0, 0, 0],\n",
    "    [0, 0, 0, 0, 0, 3, 0, 0, 9],\n",
    "    [9, 0, 0, 0, 1, 0, 0, 0, 0],\n",
    "    [0, 6, 0, 0, 0, 0, 7, 8, 2]\n",
    "]\n",
    "\n",
    "kids = [\n",
    "    [8, 9, 0, 4, 0, 0, 0, 5, 6],\n",
    "    [1, 4, 0, 3, 5, 0, 0, 9, 0],\n",
    "    [0, 0, 0, 0, 0, 0, 8, 0, 0],\n",
    "    [9, 0, 0, 0, 0, 0, 2, 0, 0],\n",
    "    [0, 8, 0, 9, 6, 5, 0, 4, 0],\n",
    "    [0, 0, 1, 0, 0, 0, 0, 0, 5],\n",
    "    [0, 0, 8, 0, 0, 0, 0, 0, 0],\n",
    "    [0, 3, 0, 0, 2, 1, 0, 7, 8],\n",
    "    [4, 2, 0, 0, 0, 6, 0, 1, 3]\n",
    "]"
   ]
  },
  {
   "cell_type": "markdown",
   "metadata": {},
   "source": [
    "## Checking puzzles\n",
    "\n",
    "Defining a couple of functions to check our puzzle grid. For now, just a basic test that the puzzle is the expected size.\n",
    "\n",
    "*TODO:* Should check that the puzzle is internally consistent and hasn't broken the rules.\n"
   ]
  },
  {
   "cell_type": "code",
   "execution_count": 2,
   "metadata": {},
   "outputs": [],
   "source": [
    "def check_puzzle_is_ok(puzzle):\n",
    "    '''Roughly check chosen puzzle \"shape\" by counting elements'''\n",
    "    flat_list = [item for sublist in puzzle for item in sublist]\n",
    "    if len(flat_list) != 81:\n",
    "        raise ValueError(\"Expecting 9x9 matrix to have 81 elements\")\n",
    "    return True\n"
   ]
  },
  {
   "cell_type": "markdown",
   "metadata": {},
   "source": [
    "We'll also check that a puzzle has been validly solved:\n",
    "\n",
    "1. Has a value for every cell\n",
    "2. That value is not repeated in its row, or column\n",
    "3. That value is not repeated in its cage\n"
   ]
  },
  {
   "cell_type": "code",
   "execution_count": 3,
   "metadata": {},
   "outputs": [],
   "source": [
    "def extract_cage_from_matrix(puzzle, cage):\n",
    "    '''Given a matrix \"p\", extract the elements that can be found in the 3x3 cage c.'''\n",
    "    '''Cages are numbered 0..8 with top left being 0 and bottom right being 8.'''\n",
    "    r = []\n",
    "\n",
    "    top_x = (cage // 3) * 3\n",
    "    top_y = (cage % 3) * 3\n",
    "    for x in range(top_x, top_x+3):\n",
    "        for y in range(top_y, top_y+3):\n",
    "            r.append(puzzle[x][y])\n",
    "    return r\n",
    "    \n",
    "def check_solution_is_valid(puzzle, is_complete=True):\n",
    "    ''' Check that each row, column, and cage has digits 1..9 with no repeats\n",
    "        If is_complete is True, caller is claiming that the puzzle has been completed,\n",
    "        so function will reject an incomplete solution. Otherwise will just check \n",
    "        that values provided so far don't appear to break the rules yet.'''\n",
    "\n",
    "    complete_list = set(range(1, 10))\n",
    "    \n",
    "    # Check each row\n",
    "    for row in range(9):\n",
    "        check_list = puzzle[row]\n",
    "        if is_complete:\n",
    "            if set(check_list) != complete_list:\n",
    "                raise ValueError(f\"Row {row} broke the rules: {check_list} {is_complete}\")\n",
    "        else:\n",
    "            check_list = [x for x in check_list if x != 0]\n",
    "            if len(check_list) != len(set(check_list)):\n",
    "                raise ValueError(f\"Row {row} contains duplicates: {check_list}\")\n",
    "            \n",
    "    # Check each column\n",
    "    for col in range(9):\n",
    "        check_list = [row[col] for row in puzzle]\n",
    "        if is_complete:\n",
    "            if set(check_list) != complete_list:\n",
    "                raise ValueError(f\"Column {col} broke the rules: {check_list}\")\n",
    "        else:\n",
    "            check_list = [x for x in check_list if x != 0]\n",
    "            if len(check_list) != len(set(check_list)):\n",
    "                raise ValueError(f\"Column {col} contains duplicates: {check_list}\")\n",
    "            \n",
    "            \n",
    "    # Check each cage\n",
    "    for c in range(9):\n",
    "        check_list = extract_cage_from_matrix(puzzle, c)\n",
    "        if is_complete:\n",
    "            if set(check_list) != complete_list:\n",
    "                raise ValueError(f\"Cage {c} broke the rules: {check_list}\")\n",
    "        else:\n",
    "            check_list = [x for x in check_list if x != 0]\n",
    "            if len(check_list) != len(set(check_list)):\n",
    "                raise ValueError(f\"Cage {c} contains duplucates: {check_list}\")\n",
    "\n",
    "        \n",
    "    return True\n"
   ]
  },
  {
   "cell_type": "markdown",
   "metadata": {},
   "source": [
    "## The possibility matrix\n",
    "\n",
    "We build a \"possibility matrix\" which is a 9x9 matrix, with each cell initially containing the set of integers from 1 to 9 (inclusive). The idea then is to check the puzzle and update the possibility matrix by excluding any integers according to the Sudoku rules:\n",
    "\n",
    "1. No integer can be repeated in a row\n",
    "2. No integer can be repeated in a column\n",
    "3. No integer can be repeated with a \"cage\", which is the 3x3 box marked by heavy lines in the puzzle\n",
    "\n",
    "The idea is that once we exclude the impossibilities what should be left are some possible answers.\n",
    "\n",
    "### Building the matrix\n",
    "\n",
    "The matrix is built as a list of lists of integer sets. "
   ]
  },
  {
   "cell_type": "code",
   "execution_count": 4,
   "metadata": {},
   "outputs": [],
   "source": [
    "def build_possibility_matrix():\n",
    "    '''Build a 9x9 matrix with each cell containing the set of digits 1..9'''\n",
    "    ret = [[] for x in range(9)]\n",
    "    for x in range(9):\n",
    "        ret[x] = [[] for y in range(9)]\n",
    "        for y in range(9):\n",
    "            ret[x][y] = set(range(1,10))\n",
    "    return ret\n"
   ]
  },
  {
   "cell_type": "markdown",
   "metadata": {},
   "source": [
    "### Excluding possibilities based on a single value\n",
    "\n",
    "We define a function that takes a `value`, and its position (0-based) in the puzzle `row`,`col`, and the current `possibility_matrix`. We then exclude the `value` from all the places in the matrix that it is no longer allowed to appear because it's \"locked in\" to `row`,`col`.\n"
   ]
  },
  {
   "cell_type": "code",
   "execution_count": 5,
   "metadata": {},
   "outputs": [],
   "source": [
    "def exclude_possibility(value, row, col, possibility_matrix):\n",
    "    '''Exclude value \"value\" found at row,col from matrix \"possibility_matrix\"'''\n",
    "    #print(f\"Excluding {value} at {row+1},{col+1}\")\n",
    "    \n",
    "    # First, value cannot happen anywhere in row \"row\"\n",
    "    for y in range(9):\n",
    "        if value in possibility_matrix[row][y]:\n",
    "            possibility_matrix[row][y].remove(value)\n",
    "        \n",
    "    # Next, value v cannot happen anywhere in column \"col\"\n",
    "    for x in range(9):\n",
    "        if value in possibility_matrix[x][col]:\n",
    "            possibility_matrix[x][col].remove(value)\n",
    "            \n",
    "    # Finally, value v cannot happen in the 3x3 cell that contains row,col\n",
    "    cell_x = (row // 3)\n",
    "    cell_y = (col // 3)\n",
    "    for x in range(cell_x * 3, (cell_x+1)*3):\n",
    "        for y in range(cell_y*3, (cell_y+1)*3):\n",
    "            if value in possibility_matrix[x][y]:\n",
    "                possibility_matrix[x][y].remove(value)\n",
    "    \n",
    "    # We now lock in \"v\" as only possibility at row,col in q\n",
    "    possibility_matrix[row][col] = set([value])\n",
    "    return\n",
    "\n"
   ]
  },
  {
   "cell_type": "markdown",
   "metadata": {},
   "source": [
    "### Updating the possibility matrix\n",
    "\n",
    "We walk through the entire puzzle `p`, and for each solved cell, we update the possibility matrix `q` to remove the solved cell value from the unsolved cells where we know it cannot appear.\n",
    "\n",
    "The function will return the number of solved cells *in total* which is just a way of keepimg track of how we're doing.\n"
   ]
  },
  {
   "cell_type": "code",
   "execution_count": 6,
   "metadata": {},
   "outputs": [],
   "source": [
    "def update_possibilities(puzzle, possibility_matrix):\n",
    "    '''Pass through puzzle and exclude possibilities from possibility_matrix based on what is already solved'''\n",
    "    solved_cells = 0\n",
    "    for x in range(9):\n",
    "        for y in range(9):\n",
    "            if puzzle[x][y] != 0:\n",
    "                solved_cells += 1\n",
    "                exclude_possibility(puzzle[x][y], x, y, possibility_matrix)\n",
    "    return solved_cells\n"
   ]
  },
  {
   "cell_type": "markdown",
   "metadata": {},
   "source": [
    "# Solution Strategy\n",
    "\n",
    "So far, have only a single solution strategy, which is to maintain a matrix of *possible values* in `q`. We begin be excluding possible values based on what we know already in the puzzle `p`. We can then check to see if that's collapsed any of the list of possible values to just one remaining possibility. When that happens, we update our puzzle `p` with the solved value.\n",
    "\n",
    "Eventually (or rather quickly, particularly on harder Sudoku puzzles) this strategy runs out of options and there are no cells left in `q` with a single remaining possible value. At this point we have to throw over to the human.\n",
    "\n",
    "## Solving using remaining possibilities\n",
    "\n",
    "This function checks the possibility matrix `q`, looking for cells that have only a single possible value remaining for a cell. When we find one, we update puzzle `p` with that value.\n",
    "\n",
    "Very often, we'll find that the possibility matrix has only one value because we updated the matrix with our current puzzle `p`. That's OK -- we'll just check that the values are the same. We'll also check that we haven't ended up in a state where a cell has *no possible values* -- clearly that would mean we've made a programming mistake.\n"
   ]
  },
  {
   "cell_type": "code",
   "execution_count": 18,
   "metadata": {},
   "outputs": [],
   "source": [
    "def update_puzzle_using_possibilities(puzzle, possibility_matrix):\n",
    "    ''' Check possibility_matrix, to see if any possibilities have collapsed to a single\n",
    "        value, and if so, update puzzle'''\n",
    "    num_solved = 0\n",
    "    for x in range(9):\n",
    "        for y in range(9):\n",
    "            if len(possibility_matrix[x][y]) == 1:\n",
    "                # Only 1 possibility left! Stash it in \"n\" but without removing from set\n",
    "                n = next(iter(possibility_matrix[x][y]))\n",
    "\n",
    "                # We either have never solved this cell (==0) or we solved it already, but\n",
    "                # make sure we're keeping our matrix consistent\n",
    "                if puzzle[x][y] == 0:\n",
    "                    puzzle[x][y] = n\n",
    "                    print(f\"Resolved {x},{y} as {n}\")\n",
    "                    num_solved += 1\n",
    "\n",
    "                elif puzzle[x][y] != n:\n",
    "                    raise ValueError(f\"Logic error: Expected to find {puzzle[x][y]} at {x},{y} but resolved to {n} instead\")\n",
    "\n",
    "            elif len(possibility_matrix[x][y]) < 1:\n",
    "                raise ValueError(f\"Logic error: Excluded all possibilities at {x},{y}\")\n",
    "\n",
    "    return num_solved\n"
   ]
  },
  {
   "cell_type": "markdown",
   "metadata": {},
   "source": [
    "## Displaying the puzzle grid\n",
    "\n",
    "Occassionally we'll want to take a look at the state of the puzzle so far. We'll print the matrix and show\n",
    "\n",
    "1. Solved cells\n",
    "2. Cells with 2 possibilities\n",
    "\n"
   ]
  },
  {
   "cell_type": "code",
   "execution_count": 8,
   "metadata": {},
   "outputs": [
    {
     "data": {
      "text/html": [
       "\n",
       "<style type=\"text/css\">\n",
       "td {\n",
       "    width: 40px;\n",
       "    height: 40px;\n",
       "    border: 1px solid #000 !important; \n",
       "    text-align: center !important;\n",
       "}\n",
       "\n",
       "td:nth-of-type(3n) {    \n",
       "    border-right: 3px solid red !important;\n",
       "}\n",
       "\n",
       "tr:nth-of-type(3n) td {    \n",
       "    border-bottom: 3px solid red !important;\n",
       "}\n",
       "\n",
       "table {\n",
       "    border: 3px solid red !important;\n",
       "}\n",
       "</style>\n"
      ],
      "text/plain": [
       "<IPython.core.display.HTML object>"
      ]
     },
     "metadata": {},
     "output_type": "display_data"
    }
   ],
   "source": [
    "from IPython.display import HTML, display\n",
    "\n",
    "display(HTML('''\n",
    "<style type=\"text/css\">\n",
    "td {\n",
    "    width: 40px;\n",
    "    height: 40px;\n",
    "    border: 1px solid #000 !important; \n",
    "    text-align: center !important;\n",
    "}\n",
    "\n",
    "td:nth-of-type(3n) {    \n",
    "    border-right: 3px solid red !important;\n",
    "}\n",
    "\n",
    "tr:nth-of-type(3n) td {    \n",
    "    border-bottom: 3px solid red !important;\n",
    "}\n",
    "\n",
    "table {\n",
    "    border: 3px solid red !important;\n",
    "}\n",
    "</style>\n",
    "'''))\n",
    "\n",
    "def print_puzzle(puzzle, use_possibility_matrix=[]):\n",
    "    ''' Display a version of the puzzle matrix. If passed a possibility matrix in `use_possibility_matrix,\n",
    "        then will also show possible values in any cell where there are just 2 possible values remaining. '''\n",
    "    data = []\n",
    "    for x in range(9):\n",
    "        row_to_show = []\n",
    "        for y in range(9):\n",
    "            if puzzle[x][y] != 0:\n",
    "                row_to_show.append(puzzle[x][y])\n",
    "            elif len(use_possibility_matrix) > 0 and len(use_possibility_matrix[x][y]) <= 2:\n",
    "                row_to_show.append(use_possibility_matrix[x][y])\n",
    "            else:\n",
    "                row_to_show.append(' ')\n",
    "        data.append(row_to_show)\n",
    "    \n",
    "    display(HTML(\n",
    "       '<table><tr>{}</tr></table>'.format(\n",
    "           '</tr><tr>'.join(\n",
    "               '<td>{}</td>'.format('</td><td>'.join(str(_) for _ in row)) for row in data)\n",
    "           )\n",
    "    ))\n",
    "        "
   ]
  },
  {
   "cell_type": "markdown",
   "metadata": {},
   "source": [
    "# Solution Strategies\n",
    "\n",
    "So let's give it a go. There are some standard puzzles defined at the top of the page: `diabolical`, `hard`, `moderate`, `easy`, and `kids`. Assign one of these to `p`, and do a quick check the data has been entered consistently.\n",
    "\n",
    "* **kids**: Starts with 31 solved cells, can be solved using the possibility matrix alone in 11 rounds.\n",
    "* **easy**: Starts with 24 solved cells, after 13 rounds has 59 solved cells before giving up.\n",
    "* **moderate**: Starts with 26 solved cells, solves a single new cell, then gives up after the first round.\n",
    "* **hard**: Starts with 22 solved cells, also solves a single new cell then stops.\n",
    "* **diabolical**: Starts with 26 solved cells, solves a single new cell, then stops.\n"
   ]
  },
  {
   "cell_type": "code",
   "execution_count": 19,
   "metadata": {},
   "outputs": [
    {
     "data": {
      "text/html": [
       "<table><tr><td>8</td><td>9</td><td> </td><td>4</td><td> </td><td> </td><td> </td><td>5</td><td>6</td></tr><tr><td>1</td><td>4</td><td> </td><td>3</td><td>5</td><td> </td><td> </td><td>9</td><td> </td></tr><tr><td> </td><td> </td><td> </td><td> </td><td> </td><td> </td><td>8</td><td> </td><td> </td></tr><tr><td>9</td><td> </td><td> </td><td> </td><td> </td><td> </td><td>2</td><td> </td><td> </td></tr><tr><td> </td><td>8</td><td> </td><td>9</td><td>6</td><td>5</td><td> </td><td>4</td><td> </td></tr><tr><td> </td><td> </td><td>1</td><td> </td><td> </td><td> </td><td> </td><td> </td><td>5</td></tr><tr><td> </td><td> </td><td>8</td><td> </td><td> </td><td> </td><td> </td><td> </td><td> </td></tr><tr><td> </td><td>3</td><td> </td><td> </td><td>2</td><td>1</td><td> </td><td>7</td><td>8</td></tr><tr><td>4</td><td>2</td><td> </td><td> </td><td> </td><td>6</td><td> </td><td>1</td><td>3</td></tr></table>"
      ],
      "text/plain": [
       "<IPython.core.display.HTML object>"
      ]
     },
     "metadata": {},
     "output_type": "display_data"
    }
   ],
   "source": [
    "import copy\n",
    "p = copy.deepcopy(kids)\n",
    "check_puzzle_is_ok(p)\n",
    "print_puzzle(p)"
   ]
  },
  {
   "cell_type": "markdown",
   "metadata": {},
   "source": [
    "## Strategy 1: Possibility Matrix\n",
    "\n",
    "One of the tools we built above wa the \"possibility matrix.\" We'll build our possibility matrix in `q`, and then update it to exclude values already solved in the initial puzzle.\n"
   ]
  },
  {
   "cell_type": "code",
   "execution_count": 20,
   "metadata": {},
   "outputs": [
    {
     "name": "stdout",
     "output_type": "stream",
     "text": [
      "Solved 31 cells so far\n"
     ]
    }
   ],
   "source": [
    "# Build a \"possibility matrix\" in q\n",
    "q = build_possibility_matrix()\n",
    "n = update_possibilities(p, q)\n",
    "print(f\"Solved {n} cells so far\")"
   ]
  },
  {
   "cell_type": "markdown",
   "metadata": {},
   "source": [
    "Having updated the possibility matrix `q` there may now be some cells which only have a single remaining possible value. If so, we will copy those to `p`, and advise the human how many cells were solved this way."
   ]
  },
  {
   "cell_type": "code",
   "execution_count": 21,
   "metadata": {},
   "outputs": [
    {
     "name": "stdout",
     "output_type": "stream",
     "text": [
      "Resolved 1,6 as 7\n",
      "Resolved 7,3 as 5\n",
      "Solved 2 cells\n"
     ]
    },
    {
     "data": {
      "text/html": [
       "<table><tr><td>8</td><td>9</td><td> </td><td>4</td><td> </td><td> </td><td> </td><td>5</td><td>6</td></tr><tr><td>1</td><td>4</td><td> </td><td>3</td><td>5</td><td> </td><td>7</td><td>9</td><td> </td></tr><tr><td> </td><td> </td><td> </td><td> </td><td> </td><td> </td><td>8</td><td> </td><td> </td></tr><tr><td>9</td><td> </td><td> </td><td> </td><td> </td><td> </td><td>2</td><td> </td><td> </td></tr><tr><td> </td><td>8</td><td> </td><td>9</td><td>6</td><td>5</td><td> </td><td>4</td><td> </td></tr><tr><td> </td><td> </td><td>1</td><td> </td><td> </td><td> </td><td> </td><td> </td><td>5</td></tr><tr><td> </td><td> </td><td>8</td><td> </td><td> </td><td> </td><td> </td><td> </td><td> </td></tr><tr><td> </td><td>3</td><td> </td><td>5</td><td>2</td><td>1</td><td> </td><td>7</td><td>8</td></tr><tr><td>4</td><td>2</td><td> </td><td> </td><td> </td><td>6</td><td> </td><td>1</td><td>3</td></tr></table>"
      ],
      "text/plain": [
       "<IPython.core.display.HTML object>"
      ]
     },
     "metadata": {},
     "output_type": "display_data"
    }
   ],
   "source": [
    "num_solved = update_puzzle_using_possibilities(p, q)\n",
    "print(f\"Solved {num_solved} cells\")\n",
    "print_puzzle(p)"
   ]
  },
  {
   "cell_type": "markdown",
   "metadata": {},
   "source": [
    "Assuming we solved at least one cell this way let's keep going with this strategy until either\n",
    "1. The puzzle is solved, or\n",
    "2. We're not solving any more cells this way.\n",
    "\n",
    "We'll do that using the function `solve_using_possibilities` which will return `True` if the puzzle is solved or `False` if it is forced to give up.\n"
   ]
  },
  {
   "cell_type": "code",
   "execution_count": 22,
   "metadata": {},
   "outputs": [
    {
     "name": "stdout",
     "output_type": "stream",
     "text": [
      "Resolved 1,8 as 2\n",
      "Resolved 6,3 as 7\n",
      "Resolved 7,0 as 6\n",
      "Solved 3 cells this round, now 36 total solved cells\n",
      "Resolved 1,2 as 6\n",
      "Resolved 1,5 as 8\n",
      "Resolved 2,7 as 3\n",
      "Resolved 6,0 as 5\n",
      "Resolved 7,2 as 9\n",
      "Resolved 8,3 as 8\n",
      "Solved 6 cells this round, now 42 total solved cells\n",
      "Resolved 0,6 as 1\n",
      "Resolved 3,3 as 1\n",
      "Resolved 5,3 as 2\n",
      "Resolved 6,1 as 1\n",
      "Resolved 7,6 as 4\n",
      "Resolved 8,2 as 7\n",
      "Resolved 8,4 as 9\n",
      "Solved 7 cells this round, now 49 total solved cells\n",
      "Resolved 0,4 as 7\n",
      "Resolved 2,3 as 6\n",
      "Resolved 2,8 as 4\n",
      "Resolved 3,8 as 7\n",
      "Resolved 4,6 as 3\n",
      "Resolved 6,8 as 9\n",
      "Resolved 8,6 as 5\n",
      "Solved 7 cells this round, now 56 total solved cells\n",
      "Resolved 0,5 as 2\n",
      "Resolved 2,4 as 1\n",
      "Resolved 4,2 as 2\n",
      "Resolved 4,8 as 1\n",
      "Resolved 6,6 as 6\n",
      "Solved 5 cells this round, now 61 total solved cells\n",
      "Resolved 0,2 as 3\n",
      "Resolved 2,2 as 5\n",
      "Resolved 2,5 as 9\n",
      "Resolved 4,0 as 7\n",
      "Resolved 5,6 as 9\n",
      "Resolved 6,7 as 2\n",
      "Solved 6 cells this round, now 67 total solved cells\n",
      "Resolved 2,0 as 2\n",
      "Resolved 2,1 as 7\n",
      "Resolved 3,2 as 4\n",
      "Resolved 5,0 as 3\n",
      "Resolved 5,1 as 6\n",
      "Solved 5 cells this round, now 72 total solved cells\n",
      "Resolved 3,1 as 5\n",
      "Resolved 3,5 as 3\n",
      "Resolved 5,7 as 8\n",
      "Solved 3 cells this round, now 75 total solved cells\n",
      "Resolved 3,4 as 8\n",
      "Resolved 3,7 as 6\n",
      "Resolved 5,4 as 4\n",
      "Resolved 6,5 as 4\n",
      "Solved 4 cells this round, now 79 total solved cells\n",
      "Resolved 5,5 as 7\n",
      "Resolved 6,4 as 3\n",
      "Solved 2 cells this round, now 81 total solved cells\n",
      "\n",
      "Huzzah! Puzzle has been solved in 10 rounds!\n",
      "\n"
     ]
    },
    {
     "data": {
      "text/html": [
       "<table><tr><td>8</td><td>9</td><td>3</td><td>4</td><td>7</td><td>2</td><td>1</td><td>5</td><td>6</td></tr><tr><td>1</td><td>4</td><td>6</td><td>3</td><td>5</td><td>8</td><td>7</td><td>9</td><td>2</td></tr><tr><td>2</td><td>7</td><td>5</td><td>6</td><td>1</td><td>9</td><td>8</td><td>3</td><td>4</td></tr><tr><td>9</td><td>5</td><td>4</td><td>1</td><td>8</td><td>3</td><td>2</td><td>6</td><td>7</td></tr><tr><td>7</td><td>8</td><td>2</td><td>9</td><td>6</td><td>5</td><td>3</td><td>4</td><td>1</td></tr><tr><td>3</td><td>6</td><td>1</td><td>2</td><td>4</td><td>7</td><td>9</td><td>8</td><td>5</td></tr><tr><td>5</td><td>1</td><td>8</td><td>7</td><td>3</td><td>4</td><td>6</td><td>2</td><td>9</td></tr><tr><td>6</td><td>3</td><td>9</td><td>5</td><td>2</td><td>1</td><td>4</td><td>7</td><td>8</td></tr><tr><td>4</td><td>2</td><td>7</td><td>8</td><td>9</td><td>6</td><td>5</td><td>1</td><td>3</td></tr></table>"
      ],
      "text/plain": [
       "<IPython.core.display.HTML object>"
      ]
     },
     "metadata": {},
     "output_type": "display_data"
    }
   ],
   "source": [
    "def solve_using_possibilities(puzzle, possibility_matrix):\n",
    "    ''' Repeatedly update the puzzle matrix wherever the possibility_matrix indicates there is only one\n",
    "        possible value; then re-calculate the possible values using the updated puzzle.\n",
    "        Returns when *either* the puzzle is solved (returns True); \n",
    "        OR we stop making progress (returns False).\n",
    "    '''\n",
    "    \n",
    "    rounds = 0\n",
    "    num_just_solved = 0   # How many cells were solved *this* round?\n",
    "    num_total_solved = 0  # How many cells have been solved in *total*?\n",
    "    while True:\n",
    "        rounds += 1\n",
    "        num_total_solved = update_possibilities(puzzle, possibility_matrix)\n",
    "        num_just_solved  = update_puzzle_using_possibilities(puzzle, possibility_matrix)\n",
    "        num_total_solved += num_just_solved\n",
    "        print(f\"Solved {num_just_solved} cells this round, now {num_total_solved} total solved cells\")\n",
    "        \n",
    "        if num_total_solved == 81 or num_just_solved == 0:\n",
    "            break\n",
    "\n",
    "    # Check for solution (or not)\n",
    "    if num_total_solved == 81:\n",
    "        print(f\"\\nHuzzah! Puzzle has been solved in {rounds} rounds!\\n\")\n",
    "        return True\n",
    "    else:\n",
    "        print(f\"\\nUh oh. Run out of options after {rounds} rounds...\\n\")\n",
    "        return False\n",
    "\n",
    "is_solved = solve_using_possibilities(p, q)\n",
    "print_puzzle(p, use_possibility_matrix=q)"
   ]
  },
  {
   "cell_type": "markdown",
   "metadata": {},
   "source": [
    "\n",
    "Check that the puzzle is correctly solved, or at least is still valid.\n"
   ]
  },
  {
   "cell_type": "code",
   "execution_count": 28,
   "metadata": {},
   "outputs": [
    {
     "name": "stdout",
     "output_type": "stream",
     "text": [
      "Puzzle isn't solved yet, but work in progress is valid.\n"
     ]
    }
   ],
   "source": [
    "def check_puzzle_state(is_solved, puzzle):\n",
    "    if is_solved:\n",
    "        if check_solution_is_valid(puzzle, is_complete=True):\n",
    "            print(\"Puzzle is solved, and solution checks out. Done.\")\n",
    "        else:\n",
    "            raise ValueError(\"Bug detected -- we claim to have solved a puzzle but solution is not valid\")\n",
    "\n",
    "    elif check_solution_is_valid(puzzle, is_complete=False):\n",
    "        print(\"Puzzle isn't solved yet, but work in progress is valid.\")\n",
    "\n",
    "    else:\n",
    "        raise ValueError(\"Bug detected -- puzzle is no longer in a valid state\")\n",
    "        \n",
    "    return\n",
    "\n",
    "check_puzzle_state(is_solved, p)"
   ]
  },
  {
   "cell_type": "markdown",
   "metadata": {},
   "source": [
    "## Strategy 2: Find the digits that only appear once\n",
    "\n",
    "Assuming that the puzzle hasn't yet been solved (only the `kids` puzzle is solved solely using the above strategy), we'll need another strategy for making more progress.\n",
    "\n",
    "The plan is to go row by row, then column by column, and finally cage by cage. For each of those sets we'll take a look at the remaining possibilities in that set (i.e. that row, or column, or cage). If a particular digit appears only once in that set, then that digit *must* be written in to the only cell that it appears in.\n",
    "\n",
    "So first, let's go row by row."
   ]
  },
  {
   "cell_type": "code",
   "execution_count": 29,
   "metadata": {},
   "outputs": [
    {
     "name": "stdout",
     "output_type": "stream",
     "text": [
      "Solved 10 more cells\n"
     ]
    }
   ],
   "source": [
    "from collections import Counter\n",
    "\n",
    "def update_puzzle_using_single_apperance_digits(puzzle, possibility_matrix):\n",
    "    ''' Scan the possibility_matrix for digits that only appear once in their row, column, or cage.\n",
    "        Since every digit must appear exactly once in a row, column or cage, such digits can be written\n",
    "        into the puzzle at that position. \n",
    "        Returns the number of cells we solved this way.\n",
    "    '''\n",
    "    num_solved = 0\n",
    "    q = possibility_matrix\n",
    "    p = puzzle\n",
    "    \n",
    "    # Row by row search\n",
    "    for x in range(9):\n",
    "        check_list = q[x]\n",
    "        possibles = [i for sublist in [c for c in check_list if len(c) > 1] for i in sublist]\n",
    "        cnt = Counter(possibles)\n",
    "        singles = set([i for i in cnt if cnt[i] == 1])  # list of digits that have only one possible position\n",
    "\n",
    "        for y in range(9):\n",
    "            if len(q[x][y]) > 1:\n",
    "                v = singles & q[x][y]\n",
    "                if v:\n",
    "                    p[x][y] = v.pop()\n",
    "                    num_solved += 1\n",
    "                    \n",
    "    # Column by column then\n",
    "    for y in range(9):\n",
    "        check_list = [row[y] for row in q]\n",
    "        possibles = [i for sublist in [c for c in check_list if len(c) > 1] for i in sublist]\n",
    "        cnt = Counter(possibles)\n",
    "        singles = set([i for i in cnt if cnt[i] == 1])\n",
    "        \n",
    "        for x in range(9):\n",
    "            if len(q[x][y]) > 1:\n",
    "                v = singles & q[x][y]\n",
    "                if v:\n",
    "                    p[x][y] = v.pop()\n",
    "                    num_solved += 1\n",
    "                    \n",
    "    # Cage by cage next\n",
    "    for cage in range(9):\n",
    "        check_list = extract_cage_from_matrix(q, cage)\n",
    "        possibles = [i for sublist in [c for c in check_list if len(c) > 1] for i in sublist]\n",
    "        cnt = Counter(possibles)\n",
    "        singles = set([i for i in cnt if cnt[i] == 1])\n",
    "        \n",
    "        top_x = (cage // 3) * 3\n",
    "        top_y = (cage % 3) * 3\n",
    "        for x in range(top_x, top_x+3):\n",
    "            for y in range(top_y, top_y+3):\n",
    "                v = singles & q[x][y]\n",
    "                if v:\n",
    "                    p[x][y] = v.pop()\n",
    "                    num_solved += 1\n",
    "        \n",
    "    return num_solved\n",
    "\n",
    "num_solved = update_puzzle_using_single_apperance_digits(p, q)\n",
    "print(f\"Solved {num_solved} more cells\")"
   ]
  },
  {
   "cell_type": "markdown",
   "metadata": {},
   "source": [
    "Hope we added something this way. Worth trying another round of updates."
   ]
  },
  {
   "cell_type": "code",
   "execution_count": 30,
   "metadata": {},
   "outputs": [
    {
     "name": "stdout",
     "output_type": "stream",
     "text": [
      "Solved 0 cells this round, now 31 total solved cells\n",
      "\n",
      "Uh oh. Run out of options after 1 rounds...\n",
      "\n",
      "Puzzle isn't solved yet, but work in progress is valid.\n"
     ]
    },
    {
     "data": {
      "text/html": [
       "<table><tr><td> </td><td> </td><td>8</td><td> </td><td> </td><td> </td><td> </td><td> </td><td> </td></tr><tr><td>1</td><td>{2, 3}</td><td>7</td><td>6</td><td> </td><td>{2, 8}</td><td>4</td><td>9</td><td> </td></tr><tr><td>5</td><td> </td><td> </td><td> </td><td> </td><td> </td><td> </td><td>7</td><td> </td></tr><tr><td> </td><td>7</td><td> </td><td> </td><td>4</td><td>{1, 8}</td><td> </td><td> </td><td> </td></tr><tr><td> </td><td>5</td><td> </td><td>2</td><td> </td><td>6</td><td> </td><td> </td><td>7</td></tr><tr><td>8</td><td> </td><td> </td><td>7</td><td>9</td><td>5</td><td> </td><td>1</td><td> </td></tr><tr><td>7</td><td>6</td><td>3</td><td> </td><td> </td><td> </td><td> </td><td> </td><td>1</td></tr><tr><td> </td><td> </td><td>5</td><td> </td><td>7</td><td>3</td><td> </td><td> </td><td> </td></tr><tr><td>{2, 4}</td><td> </td><td> </td><td>9</td><td>6</td><td> </td><td>7</td><td>5</td><td>3</td></tr></table>"
      ],
      "text/plain": [
       "<IPython.core.display.HTML object>"
      ]
     },
     "metadata": {},
     "output_type": "display_data"
    }
   ],
   "source": [
    "is_solved = solve_using_possibilities(p, q)\n",
    "check_puzzle_state(is_solved, p)\n",
    "print_puzzle(p, use_possibility_matrix=q)"
   ]
  },
  {
   "cell_type": "markdown",
   "metadata": {},
   "source": [
    "# Results\n",
    "\n",
    "So far, we have:\n",
    "\n",
    "* **kids:** Can be solved with strategy 1 alone.\n",
    "* **easy:** Can be solved with strategy 1 and 2 repeated a few times.\n",
    "* **moderate:** Gets stuck at 30 solved cells, having tried alternating strategy 1 & 2.\n",
    "* **hard:** Has the same result as *moderate* (only gets to 26 cells).\n",
    "* **diabolical:** Get's a little further, solving 64 cells by alternating strategies 1 & 2 several times over. But eventually, it gets stuck.\n",
    "\n",
    "We've still got some algorithmic options to try later:\n",
    "\n",
    "1. Backtracking -- basically, brute-force the bastard by trying every possible answer\n",
    "2. Trying out a [stochastic or consraint-satisfaction](https://en.wikipedia.org/wiki/Sudoku_solving_algorithms) based approach\n",
    "3. [Knuth's Algorithm X](https://en.wikipedia.org/wiki/Knuth%27s_Algorithm_X) -- whatever that is. Dancing Links? Sounds fun.\n",
    "4. Some deductive reasoning techniques are explained in this article on [Sudoku techniques](https://www.conceptispuzzles.com/index.aspx?uri=puzzle/sudoku/techniques)."
   ]
  },
  {
   "cell_type": "code",
   "execution_count": null,
   "metadata": {},
   "outputs": [],
   "source": []
  }
 ],
 "metadata": {
  "kernelspec": {
   "display_name": "Python 3",
   "language": "python",
   "name": "python3"
  },
  "language_info": {
   "codemirror_mode": {
    "name": "ipython",
    "version": 3
   },
   "file_extension": ".py",
   "mimetype": "text/x-python",
   "name": "python",
   "nbconvert_exporter": "python",
   "pygments_lexer": "ipython3",
   "version": "3.7.4"
  }
 },
 "nbformat": 4,
 "nbformat_minor": 4
}
