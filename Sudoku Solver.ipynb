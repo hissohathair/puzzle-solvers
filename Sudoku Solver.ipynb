{
 "cells": [
  {
   "cell_type": "markdown",
   "metadata": {},
   "source": [
    "# Sudoku Solver (v3)\n",
    "---\n",
    "\n",
    "Close to final form.\n",
    "\n",
    "Objectives:\n",
    "\n",
    "1. Assess effectiveness and performance against different test cases\n",
    " 1. Back tracking\n",
    " 2. Back tracking + constraint propogation\n",
    " 3. Deductive logic\n",
    " 4. ~~Solution X or Dancing Links?~~\n",
    " 5. Boolean Satisfiability (SAT) solver\n",
    "3. Learn some more Pandas + Matplotlib (draw some pretty graphs)\n",
    "4. ~~Assess performance against other implementations~~\n"
   ]
  },
  {
   "cell_type": "markdown",
   "metadata": {},
   "source": [
    "## Supporting Packages\n",
    "\n",
    "**TODO**: Brief description of [sudoku](sudoku.py) and [puzzlegrid](puzzlegrid.py) libraries.\n"
   ]
  },
  {
   "cell_type": "code",
   "execution_count": 1,
   "metadata": {},
   "outputs": [],
   "source": [
    "import sudoku as su\n",
    "import puzzlegrid as pg"
   ]
  },
  {
   "cell_type": "markdown",
   "metadata": {},
   "source": [
    "**TODO**: Brief description of why we need the following"
   ]
  },
  {
   "cell_type": "code",
   "execution_count": 2,
   "metadata": {},
   "outputs": [],
   "source": [
    "import copy\n",
    "import numpy as np\n",
    "import pandas as pd\n",
    "import matplotlib.pyplot as plt\n",
    "\n",
    "%matplotlib inline\n",
    "plt.rcParams[\"figure.figsize\"] = [12, 6]\n",
    "pd.set_option('precision', 3)"
   ]
  },
  {
   "cell_type": "markdown",
   "metadata": {},
   "source": [
    "## Help functions\n",
    "\n",
    "**TODO:** Print puzzles descriptions.\n"
   ]
  },
  {
   "cell_type": "code",
   "execution_count": 3,
   "metadata": {},
   "outputs": [],
   "source": [
    "from IPython.display import HTML, display, clear_output\n",
    "\n",
    "def print_puzzle(puzzle, **args):\n",
    "    display(HTML(puzzle.as_html(**args)))\n",
    "\n",
    "def print_2_puzzles(puz1, puz2, **args):\n",
    "    display(HTML('<table><tr><td>' + puz1.as_html(**args) + '</td><td>' + puz2.as_html() + '</td></tr></table>'))\n",
    "\n",
    "def update_progress(label, current, total, time_so_far, test_case):\n",
    "    clear_output(wait=True)\n",
    "    display(HTML(f'<progress style=\"width: 100%\" max={total} value={current}>{current} out of {total}</progress>'))\n",
    "    if test_case:\n",
    "        display(HTML(f\"<p>Working on {label}: <i>{test_case['label']}</i> ({current} of {total}), time so far {time_so_far:.2f}s</p>\"))\n",
    "    else:\n",
    "        display(HTML(f\"<p>Completed {total} test cases in {time_so_far:.2f} seconds</p>\"))\n",
    "    return"
   ]
  },
  {
   "cell_type": "markdown",
   "metadata": {},
   "source": [
    "## Example class usage\n",
    "\n",
    "Create a puzzle in `SudokuPuzzle`. There are sample puzzles in the [sudoku](sudoku.py#line=423) module.\n"
   ]
  },
  {
   "cell_type": "code",
   "execution_count": 4,
   "metadata": {},
   "outputs": [
    {
     "data": {
      "text/plain": [
       "['SMH 1',\n",
       " 'SMH 2',\n",
       " 'KTH 1',\n",
       " 'Rico Alan Heart',\n",
       " 'SMH 3',\n",
       " 'SMH 4',\n",
       " 'SMH 5',\n",
       " 'Greg [2017]',\n",
       " 'Rico Alan 1',\n",
       " 'Rico Alan 2',\n",
       " 'Rico Alan Border #1',\n",
       " 'Rico Alan 4',\n",
       " 'Qassim Hamza',\n",
       " 'Rico Alan 3',\n",
       " \"World's Hardest Sudoku 2012\",\n",
       " 'AI escargot']"
      ]
     },
     "execution_count": 4,
     "metadata": {},
     "output_type": "execute_result"
    }
   ],
   "source": [
    "[x['label'] for x in su.SAMPLE_PUZZLES]"
   ]
  },
  {
   "cell_type": "markdown",
   "metadata": {},
   "source": [
    "The solver classes are defined in [sudoku](sudoku.py). A number of different strategies are defined, in separate classes. There's a helper class `SudokuSolver` which will \"just work\" without too much fuss."
   ]
  },
  {
   "cell_type": "code",
   "execution_count": 5,
   "metadata": {},
   "outputs": [
    {
     "data": {
      "text/html": [
       "<table><tr><td><table class=\"sudoku\"><tr><td>8</td><td>9</td><td> </td><td>4</td><td>{1, 7}</td><td>{2, 7}</td><td> </td><td>5</td><td>6</td></tr><tr><td>1</td><td>4</td><td> </td><td>3</td><td>5</td><td> </td><td>{7}</td><td>9</td><td>{2, 7}</td></tr><tr><td> </td><td> </td><td> </td><td> </td><td> </td><td> </td><td>8</td><td>{2, 3}</td><td> </td></tr><tr><td>9</td><td> </td><td> </td><td> </td><td> </td><td> </td><td>2</td><td> </td><td>{1, 7}</td></tr><tr><td> </td><td>8</td><td> </td><td>9</td><td>6</td><td>5</td><td> </td><td>4</td><td>{1, 7}</td></tr><tr><td> </td><td>{6, 7}</td><td>1</td><td> </td><td> </td><td> </td><td> </td><td> </td><td>5</td></tr><tr><td> </td><td> </td><td>8</td><td>{5, 7}</td><td> </td><td> </td><td> </td><td>{2, 6}</td><td> </td></tr><tr><td>{5, 6}</td><td>3</td><td> </td><td>{5}</td><td>2</td><td>1</td><td> </td><td>7</td><td>8</td></tr><tr><td>4</td><td>2</td><td> </td><td> </td><td> </td><td>6</td><td>{9, 5}</td><td>1</td><td>3</td></tr></table></td><td><table class=\"sudoku solved\"><tr><td>8</td><td>9</td><td>3</td><td>4</td><td>7</td><td>2</td><td>1</td><td>5</td><td>6</td></tr><tr><td>1</td><td>4</td><td>6</td><td>3</td><td>5</td><td>8</td><td>7</td><td>9</td><td>2</td></tr><tr><td>2</td><td>7</td><td>5</td><td>6</td><td>1</td><td>9</td><td>8</td><td>3</td><td>4</td></tr><tr><td>9</td><td>5</td><td>4</td><td>1</td><td>8</td><td>3</td><td>2</td><td>6</td><td>7</td></tr><tr><td>7</td><td>8</td><td>2</td><td>9</td><td>6</td><td>5</td><td>3</td><td>4</td><td>1</td></tr><tr><td>3</td><td>6</td><td>1</td><td>2</td><td>4</td><td>7</td><td>9</td><td>8</td><td>5</td></tr><tr><td>5</td><td>1</td><td>8</td><td>7</td><td>3</td><td>4</td><td>6</td><td>2</td><td>9</td></tr><tr><td>6</td><td>3</td><td>9</td><td>5</td><td>2</td><td>1</td><td>4</td><td>7</td><td>8</td></tr><tr><td>4</td><td>2</td><td>7</td><td>8</td><td>9</td><td>6</td><td>5</td><td>1</td><td>3</td></tr></table></td></tr></table>"
      ],
      "text/plain": [
       "<IPython.core.display.HTML object>"
      ]
     },
     "metadata": {},
     "output_type": "display_data"
    }
   ],
   "source": [
    "puzzle = su.SudokuPuzzle(starting_grid=pg.from_string(su.SAMPLE_PUZZLES[0]['puzzle']))\n",
    "original = copy.deepcopy(puzzle)\n",
    "\n",
    "solver = su.SudokuSolver()\n",
    "solver.solve(puzzle)\n",
    "print_2_puzzles(original, puzzle, show_possibilities=2)"
   ]
  },
  {
   "cell_type": "markdown",
   "metadata": {},
   "source": [
    "# Sudoku Solution Strategies\n",
    "\n",
    "These are the strategies implemented in the `*Solver` classes:"
   ]
  },
  {
   "cell_type": "code",
   "execution_count": 6,
   "metadata": {},
   "outputs": [
    {
     "data": {
      "text/plain": [
       "['backtracking', 'constraintpropogation', 'deductive', 'sat']"
      ]
     },
     "execution_count": 6,
     "metadata": {},
     "output_type": "execute_result"
    }
   ],
   "source": [
    "[x for x in su.SOLVERS.keys()]"
   ]
  },
  {
   "cell_type": "markdown",
   "metadata": {},
   "source": [
    "We have some test puzzles in the `sudoku` module. Each puzzle is marked with a \"difficulty level\", which is based on the number of starting clues. We're using the `include_levels` list below to select which levels to include in our tests."
   ]
  },
  {
   "cell_type": "code",
   "execution_count": 7,
   "metadata": {},
   "outputs": [],
   "source": [
    "include_levels = ['Kids', 'Easy', 'Moderate', 'Hard']  # , 'Diabolical', 'Pathalogical']\n",
    "test_cases = [x for x in su.SAMPLE_PUZZLES if x['level'] in include_levels]"
   ]
  },
  {
   "cell_type": "markdown",
   "metadata": {},
   "source": [
    "The final bit of code to introduce is the `PuzzleTester` class. We add puzzles as test cases and then run different solving strategies against them. The tester class will track performance times."
   ]
  },
  {
   "cell_type": "code",
   "execution_count": 8,
   "metadata": {},
   "outputs": [
    {
     "data": {
      "text/plain": [
       "8"
      ]
     },
     "execution_count": 8,
     "metadata": {},
     "output_type": "execute_result"
    }
   ],
   "source": [
    "pt = pg.PuzzleTester(puzzle_class=su.SudokuPuzzle)\n",
    "pt.add_testcases(test_cases)\n",
    "pt.num_testcases()"
   ]
  },
  {
   "cell_type": "markdown",
   "metadata": {},
   "source": [
    "## Deductive Logic\n",
    "\n",
    "There are some [common Sudoku strategies](https://www.sudokudragon.com/sudokustrategy.htm) which aren't too hard to code and I wanted to test them. This was where I started when I first wanted to try to write a Sudoku solver. \n",
    "\n",
    "Their primary advantage is that they are fast, but they're not always able to solve all puzzles. The more difficult ones aren't usually solved this way, and we have to fall back to one of the other methods below.\n",
    "\n",
    "The three coded here are:\n",
    "\n",
    "- Single Possibilities\n",
    "- Only Squares\n",
    "- Two out of Three Rule\n",
    "\n",
    "In the examples below we'll be using a single puzzle. Puzzle #`0` is the easiest in the test suite to solve. A copy of the puzzle is made in `original` so that we can compare side by side.\n"
   ]
  },
  {
   "cell_type": "code",
   "execution_count": 9,
   "metadata": {},
   "outputs": [],
   "source": [
    "method = 'deductive'\n",
    "solver = su.DeductiveSolver(use_backtracking=False)\n",
    "puzzle = su.SudokuPuzzle(starting_grid=pg.from_string(su.SAMPLE_PUZZLES[0]['puzzle']))\n",
    "original = copy.deepcopy(puzzle)"
   ]
  },
  {
   "cell_type": "markdown",
   "metadata": {},
   "source": [
    "### Single Possibilities\n",
    "\n",
    "*TODO:* How does this work?"
   ]
  },
  {
   "cell_type": "code",
   "execution_count": 10,
   "metadata": {},
   "outputs": [
    {
     "data": {
      "text/html": [
       "<table><tr><td><table class=\"sudoku\"><tr><td>8</td><td>9</td><td> </td><td>4</td><td> </td><td> </td><td> </td><td>5</td><td>6</td></tr><tr><td>1</td><td>4</td><td> </td><td>3</td><td>5</td><td> </td><td>{7}</td><td>9</td><td> </td></tr><tr><td> </td><td> </td><td> </td><td> </td><td> </td><td> </td><td>8</td><td> </td><td> </td></tr><tr><td>9</td><td> </td><td> </td><td> </td><td> </td><td> </td><td>2</td><td> </td><td> </td></tr><tr><td> </td><td>8</td><td> </td><td>9</td><td>6</td><td>5</td><td> </td><td>4</td><td> </td></tr><tr><td> </td><td> </td><td>1</td><td> </td><td> </td><td> </td><td> </td><td> </td><td>5</td></tr><tr><td> </td><td> </td><td>8</td><td> </td><td> </td><td> </td><td> </td><td> </td><td> </td></tr><tr><td> </td><td>3</td><td> </td><td>{5}</td><td>2</td><td>1</td><td> </td><td>7</td><td>8</td></tr><tr><td>4</td><td>2</td><td> </td><td> </td><td> </td><td>6</td><td> </td><td>1</td><td>3</td></tr></table></td><td><table class=\"sudoku solved\"><tr><td>8</td><td>9</td><td>3</td><td>4</td><td>7</td><td>2</td><td>1</td><td>5</td><td>6</td></tr><tr><td>1</td><td>4</td><td>6</td><td>3</td><td>5</td><td>8</td><td>7</td><td>9</td><td>2</td></tr><tr><td>2</td><td>7</td><td>5</td><td>6</td><td>1</td><td>9</td><td>8</td><td>3</td><td>4</td></tr><tr><td>9</td><td>5</td><td>4</td><td>1</td><td>8</td><td>3</td><td>2</td><td>6</td><td>7</td></tr><tr><td>7</td><td>8</td><td>2</td><td>9</td><td>6</td><td>5</td><td>3</td><td>4</td><td>1</td></tr><tr><td>3</td><td>6</td><td>1</td><td>2</td><td>4</td><td>7</td><td>9</td><td>8</td><td>5</td></tr><tr><td>5</td><td>1</td><td>8</td><td>7</td><td>3</td><td>4</td><td>6</td><td>2</td><td>9</td></tr><tr><td>6</td><td>3</td><td>9</td><td>5</td><td>2</td><td>1</td><td>4</td><td>7</td><td>8</td></tr><tr><td>4</td><td>2</td><td>7</td><td>8</td><td>9</td><td>6</td><td>5</td><td>1</td><td>3</td></tr></table></td></tr></table>"
      ],
      "text/plain": [
       "<IPython.core.display.HTML object>"
      ]
     },
     "metadata": {},
     "output_type": "display_data"
    }
   ],
   "source": [
    "solver.solve_single_possibilities(puzzle)\n",
    "print_2_puzzles(original, puzzle, show_possibilities=1)"
   ]
  },
  {
   "cell_type": "markdown",
   "metadata": {},
   "source": [
    "### Only Squares\n",
    "\n",
    "*TODO:* How does this work?\n"
   ]
  },
  {
   "cell_type": "code",
   "execution_count": 11,
   "metadata": {},
   "outputs": [
    {
     "data": {
      "text/html": [
       "<table><tr><td><table class=\"sudoku\"><tr><td>8</td><td>9</td><td> </td><td>4</td><td> </td><td> </td><td> </td><td>5</td><td>6</td></tr><tr><td>1</td><td>4</td><td> </td><td>3</td><td>5</td><td> </td><td> </td><td>9</td><td> </td></tr><tr><td> </td><td> </td><td> </td><td> </td><td> </td><td> </td><td>8</td><td> </td><td> </td></tr><tr><td>9</td><td> </td><td> </td><td> </td><td> </td><td> </td><td>2</td><td> </td><td> </td></tr><tr><td> </td><td>8</td><td> </td><td>9</td><td>6</td><td>5</td><td> </td><td>4</td><td> </td></tr><tr><td> </td><td> </td><td>1</td><td> </td><td> </td><td> </td><td> </td><td> </td><td>5</td></tr><tr><td> </td><td> </td><td>8</td><td> </td><td> </td><td> </td><td> </td><td> </td><td> </td></tr><tr><td> </td><td>3</td><td> </td><td> </td><td>2</td><td>1</td><td> </td><td>7</td><td>8</td></tr><tr><td>4</td><td>2</td><td> </td><td> </td><td> </td><td>6</td><td> </td><td>1</td><td>3</td></tr></table></td><td><table class=\"sudoku solved\"><tr><td>8</td><td>9</td><td>3</td><td>4</td><td>7</td><td>2</td><td>1</td><td>5</td><td>6</td></tr><tr><td>1</td><td>4</td><td>6</td><td>3</td><td>5</td><td>8</td><td>7</td><td>9</td><td>2</td></tr><tr><td>2</td><td>7</td><td>5</td><td>6</td><td>1</td><td>9</td><td>8</td><td>3</td><td>4</td></tr><tr><td>9</td><td>5</td><td>4</td><td>1</td><td>8</td><td>3</td><td>2</td><td>6</td><td>7</td></tr><tr><td>7</td><td>8</td><td>2</td><td>9</td><td>6</td><td>5</td><td>3</td><td>4</td><td>1</td></tr><tr><td>3</td><td>6</td><td>1</td><td>2</td><td>4</td><td>7</td><td>9</td><td>8</td><td>5</td></tr><tr><td>5</td><td>1</td><td>8</td><td>7</td><td>3</td><td>4</td><td>6</td><td>2</td><td>9</td></tr><tr><td>6</td><td>3</td><td>9</td><td>5</td><td>2</td><td>1</td><td>4</td><td>7</td><td>8</td></tr><tr><td>4</td><td>2</td><td>7</td><td>8</td><td>9</td><td>6</td><td>5</td><td>1</td><td>3</td></tr></table></td></tr></table>"
      ],
      "text/plain": [
       "<IPython.core.display.HTML object>"
      ]
     },
     "metadata": {},
     "output_type": "display_data"
    }
   ],
   "source": [
    "puzzle = copy.deepcopy(original)\n",
    "solver.solve_only_squares(puzzle)\n",
    "print_2_puzzles(original, puzzle)"
   ]
  },
  {
   "cell_type": "markdown",
   "metadata": {},
   "source": [
    "### Two out of Three\n",
    "\n",
    "This idea comes from [Sudoku Dragon's Two out of Three Rule](https://www.sudokudragon.com/forum/twothreestrategy.htm). The code is more complicated than any of the other methods which makes its performance dissapointing: On its own, it is not able to solve any puzzles. It can solve a few cells though.\n"
   ]
  },
  {
   "cell_type": "code",
   "execution_count": 12,
   "metadata": {},
   "outputs": [
    {
     "data": {
      "text/html": [
       "<table><tr><td><table class=\"sudoku\"><tr><td>8</td><td>9</td><td> </td><td>4</td><td>{1, 7}</td><td>{2, 7}</td><td> </td><td>5</td><td>6</td></tr><tr><td>1</td><td>4</td><td> </td><td>3</td><td>5</td><td> </td><td>{7}</td><td>9</td><td>{2, 7}</td></tr><tr><td> </td><td> </td><td> </td><td> </td><td> </td><td> </td><td>8</td><td>{2, 3}</td><td> </td></tr><tr><td>9</td><td> </td><td> </td><td> </td><td> </td><td> </td><td>2</td><td> </td><td>{1, 7}</td></tr><tr><td> </td><td>8</td><td> </td><td>9</td><td>6</td><td>5</td><td> </td><td>4</td><td>{1, 7}</td></tr><tr><td> </td><td>{6, 7}</td><td>1</td><td> </td><td> </td><td> </td><td> </td><td> </td><td>5</td></tr><tr><td> </td><td> </td><td>8</td><td>{5, 7}</td><td> </td><td> </td><td> </td><td>{2, 6}</td><td> </td></tr><tr><td>{5, 6}</td><td>3</td><td> </td><td>{5}</td><td>2</td><td>1</td><td> </td><td>7</td><td>8</td></tr><tr><td>4</td><td>2</td><td> </td><td> </td><td> </td><td>6</td><td>{9, 5}</td><td>1</td><td>3</td></tr></table></td><td><table class=\"sudoku\"><tr><td>8</td><td>9</td><td> </td><td>4</td><td> </td><td> </td><td> </td><td>5</td><td>6</td></tr><tr><td>1</td><td>4</td><td>6</td><td>3</td><td>5</td><td>8</td><td> </td><td>9</td><td>2</td></tr><tr><td> </td><td> </td><td> </td><td>6</td><td> </td><td> </td><td>8</td><td> </td><td>4</td></tr><tr><td>9</td><td>5</td><td>4</td><td> </td><td> </td><td> </td><td>2</td><td> </td><td> </td></tr><tr><td> </td><td>8</td><td> </td><td>9</td><td>6</td><td>5</td><td> </td><td>4</td><td> </td></tr><tr><td> </td><td> </td><td>1</td><td> </td><td> </td><td> </td><td>9</td><td> </td><td>5</td></tr><tr><td> </td><td>1</td><td>8</td><td> </td><td> </td><td> </td><td> </td><td>2</td><td>9</td></tr><tr><td> </td><td>3</td><td> </td><td> </td><td>2</td><td>1</td><td> </td><td>7</td><td>8</td></tr><tr><td>4</td><td>2</td><td> </td><td> </td><td> </td><td>6</td><td> </td><td>1</td><td>3</td></tr></table></td></tr></table>"
      ],
      "text/plain": [
       "<IPython.core.display.HTML object>"
      ]
     },
     "metadata": {},
     "output_type": "display_data"
    }
   ],
   "source": [
    "puzzle = copy.deepcopy(original)\n",
    "solver.solve_two_out_of_three(puzzle)\n",
    "print_2_puzzles(original, puzzle, show_possibilities=2)"
   ]
  },
  {
   "cell_type": "markdown",
   "metadata": {},
   "source": [
    "So how many cells did this method solve?"
   ]
  },
  {
   "cell_type": "code",
   "execution_count": 13,
   "metadata": {},
   "outputs": [
    {
     "data": {
      "text/plain": [
       "11"
      ]
     },
     "execution_count": 13,
     "metadata": {},
     "output_type": "execute_result"
    }
   ],
   "source": [
    "original.num_empty_cells() - puzzle.num_empty_cells()"
   ]
  },
  {
   "cell_type": "markdown",
   "metadata": {},
   "source": [
    "And that was on the easiest puzzle in the test suite. When solving \"manually\" it's actually quite a useful and easy technique to apply. My code is pretty awful though and its effectiveness led me to lose motivation for coding any more complicated methods!\n",
    "\n",
    "## Trying all three\n",
    "\n",
    "You can see from above that even though the \"two out of three\" solver only filled in 11 cells it left a few cells that could be solved by \"single possibilities\". The `DeductiveSolver` class can repeatedly call on the different deductive techniques, trying all of them in turn until no effective progress is made. \n",
    "\n",
    "For this test we'll move to another puzzle, because we know that the first two methods above can already solve puzzle `#0`.\n"
   ]
  },
  {
   "cell_type": "code",
   "execution_count": 14,
   "metadata": {},
   "outputs": [
    {
     "data": {
      "text/html": [
       "<progress style=\"width: 100%\" max=8 value=8>8 out of 8</progress>"
      ],
      "text/plain": [
       "<IPython.core.display.HTML object>"
      ]
     },
     "metadata": {},
     "output_type": "display_data"
    },
    {
     "data": {
      "text/html": [
       "<p>Completed 8 test cases in 0.10 seconds</p>"
      ],
      "text/plain": [
       "<IPython.core.display.HTML object>"
      ]
     },
     "metadata": {},
     "output_type": "display_data"
    },
    {
     "data": {
      "text/plain": [
       "8"
      ]
     },
     "execution_count": 14,
     "metadata": {},
     "output_type": "execute_result"
    }
   ],
   "source": [
    "method = 'deductive'\n",
    "pt.run_tests(solver, method, callback=update_progress)"
   ]
  },
  {
   "cell_type": "code",
   "execution_count": 15,
   "metadata": {},
   "outputs": [
    {
     "data": {
      "text/html": [
       "<style  type=\"text/css\" >\n",
       "    #T_04d84888_f737_11ea_9d17_8c85903d48d1row0_col3 {\n",
       "            : ;\n",
       "            : ;\n",
       "            background-color:  green;\n",
       "        }    #T_04d84888_f737_11ea_9d17_8c85903d48d1row3_col3 {\n",
       "            : ;\n",
       "            background-color:  orange;\n",
       "            : ;\n",
       "        }    #T_04d84888_f737_11ea_9d17_8c85903d48d1row4_col3 {\n",
       "            background-color:  red;\n",
       "            : ;\n",
       "            : ;\n",
       "        }    #T_04d84888_f737_11ea_9d17_8c85903d48d1row5_col3 {\n",
       "            background-color:  red;\n",
       "            : ;\n",
       "            : ;\n",
       "        }    #T_04d84888_f737_11ea_9d17_8c85903d48d1row6_col3 {\n",
       "            background-color:  red;\n",
       "            : ;\n",
       "            : ;\n",
       "        }    #T_04d84888_f737_11ea_9d17_8c85903d48d1row7_col3 {\n",
       "            background-color:  red;\n",
       "            : ;\n",
       "            : ;\n",
       "        }</style><table id=\"T_04d84888_f737_11ea_9d17_8c85903d48d1\" ><thead>    <tr>        <th class=\"blank level0\" ></th>        <th class=\"col_heading level0 col0\" >label</th>        <th class=\"col_heading level0 col1\" >level</th>        <th class=\"col_heading level0 col2\" >starting_clues</th>        <th class=\"col_heading level0 col3\" >deductive</th>    </tr></thead><tbody>\n",
       "                <tr>\n",
       "                        <th id=\"T_04d84888_f737_11ea_9d17_8c85903d48d1level0_row0\" class=\"row_heading level0 row0\" >0</th>\n",
       "                        <td id=\"T_04d84888_f737_11ea_9d17_8c85903d48d1row0_col0\" class=\"data row0 col0\" >SMH 1</td>\n",
       "                        <td id=\"T_04d84888_f737_11ea_9d17_8c85903d48d1row0_col1\" class=\"data row0 col1\" >Kids</td>\n",
       "                        <td id=\"T_04d84888_f737_11ea_9d17_8c85903d48d1row0_col2\" class=\"data row0 col2\" >31</td>\n",
       "                        <td id=\"T_04d84888_f737_11ea_9d17_8c85903d48d1row0_col3\" class=\"data row0 col3\" >0.003</td>\n",
       "            </tr>\n",
       "            <tr>\n",
       "                        <th id=\"T_04d84888_f737_11ea_9d17_8c85903d48d1level0_row1\" class=\"row_heading level0 row1\" >1</th>\n",
       "                        <td id=\"T_04d84888_f737_11ea_9d17_8c85903d48d1row1_col0\" class=\"data row1 col0\" >SMH 2</td>\n",
       "                        <td id=\"T_04d84888_f737_11ea_9d17_8c85903d48d1row1_col1\" class=\"data row1 col1\" >Easy</td>\n",
       "                        <td id=\"T_04d84888_f737_11ea_9d17_8c85903d48d1row1_col2\" class=\"data row1 col2\" >24</td>\n",
       "                        <td id=\"T_04d84888_f737_11ea_9d17_8c85903d48d1row1_col3\" class=\"data row1 col3\" >0.006</td>\n",
       "            </tr>\n",
       "            <tr>\n",
       "                        <th id=\"T_04d84888_f737_11ea_9d17_8c85903d48d1level0_row2\" class=\"row_heading level0 row2\" >2</th>\n",
       "                        <td id=\"T_04d84888_f737_11ea_9d17_8c85903d48d1row2_col0\" class=\"data row2 col0\" >KTH 1</td>\n",
       "                        <td id=\"T_04d84888_f737_11ea_9d17_8c85903d48d1row2_col1\" class=\"data row2 col1\" >Easy</td>\n",
       "                        <td id=\"T_04d84888_f737_11ea_9d17_8c85903d48d1row2_col2\" class=\"data row2 col2\" >30</td>\n",
       "                        <td id=\"T_04d84888_f737_11ea_9d17_8c85903d48d1row2_col3\" class=\"data row2 col3\" >0.004</td>\n",
       "            </tr>\n",
       "            <tr>\n",
       "                        <th id=\"T_04d84888_f737_11ea_9d17_8c85903d48d1level0_row3\" class=\"row_heading level0 row3\" >3</th>\n",
       "                        <td id=\"T_04d84888_f737_11ea_9d17_8c85903d48d1row3_col0\" class=\"data row3 col0\" >Rico Alan Heart</td>\n",
       "                        <td id=\"T_04d84888_f737_11ea_9d17_8c85903d48d1row3_col1\" class=\"data row3 col1\" >Easy</td>\n",
       "                        <td id=\"T_04d84888_f737_11ea_9d17_8c85903d48d1row3_col2\" class=\"data row3 col2\" >22</td>\n",
       "                        <td id=\"T_04d84888_f737_11ea_9d17_8c85903d48d1row3_col3\" class=\"data row3 col3\" >0.012</td>\n",
       "            </tr>\n",
       "            <tr>\n",
       "                        <th id=\"T_04d84888_f737_11ea_9d17_8c85903d48d1level0_row4\" class=\"row_heading level0 row4\" >4</th>\n",
       "                        <td id=\"T_04d84888_f737_11ea_9d17_8c85903d48d1row4_col0\" class=\"data row4 col0\" >SMH 3</td>\n",
       "                        <td id=\"T_04d84888_f737_11ea_9d17_8c85903d48d1row4_col1\" class=\"data row4 col1\" >Moderate</td>\n",
       "                        <td id=\"T_04d84888_f737_11ea_9d17_8c85903d48d1row4_col2\" class=\"data row4 col2\" >26</td>\n",
       "                        <td id=\"T_04d84888_f737_11ea_9d17_8c85903d48d1row4_col3\" class=\"data row4 col3\" >nan</td>\n",
       "            </tr>\n",
       "            <tr>\n",
       "                        <th id=\"T_04d84888_f737_11ea_9d17_8c85903d48d1level0_row5\" class=\"row_heading level0 row5\" >5</th>\n",
       "                        <td id=\"T_04d84888_f737_11ea_9d17_8c85903d48d1row5_col0\" class=\"data row5 col0\" >SMH 4</td>\n",
       "                        <td id=\"T_04d84888_f737_11ea_9d17_8c85903d48d1row5_col1\" class=\"data row5 col1\" >Hard</td>\n",
       "                        <td id=\"T_04d84888_f737_11ea_9d17_8c85903d48d1row5_col2\" class=\"data row5 col2\" >22</td>\n",
       "                        <td id=\"T_04d84888_f737_11ea_9d17_8c85903d48d1row5_col3\" class=\"data row5 col3\" >nan</td>\n",
       "            </tr>\n",
       "            <tr>\n",
       "                        <th id=\"T_04d84888_f737_11ea_9d17_8c85903d48d1level0_row6\" class=\"row_heading level0 row6\" >6</th>\n",
       "                        <td id=\"T_04d84888_f737_11ea_9d17_8c85903d48d1row6_col0\" class=\"data row6 col0\" >SMH 5</td>\n",
       "                        <td id=\"T_04d84888_f737_11ea_9d17_8c85903d48d1row6_col1\" class=\"data row6 col1\" >Hard</td>\n",
       "                        <td id=\"T_04d84888_f737_11ea_9d17_8c85903d48d1row6_col2\" class=\"data row6 col2\" >25</td>\n",
       "                        <td id=\"T_04d84888_f737_11ea_9d17_8c85903d48d1row6_col3\" class=\"data row6 col3\" >nan</td>\n",
       "            </tr>\n",
       "            <tr>\n",
       "                        <th id=\"T_04d84888_f737_11ea_9d17_8c85903d48d1level0_row7\" class=\"row_heading level0 row7\" >7</th>\n",
       "                        <td id=\"T_04d84888_f737_11ea_9d17_8c85903d48d1row7_col0\" class=\"data row7 col0\" >Greg [2017]</td>\n",
       "                        <td id=\"T_04d84888_f737_11ea_9d17_8c85903d48d1row7_col1\" class=\"data row7 col1\" >Hard</td>\n",
       "                        <td id=\"T_04d84888_f737_11ea_9d17_8c85903d48d1row7_col2\" class=\"data row7 col2\" >21</td>\n",
       "                        <td id=\"T_04d84888_f737_11ea_9d17_8c85903d48d1row7_col3\" class=\"data row7 col3\" >nan</td>\n",
       "            </tr>\n",
       "    </tbody></table>"
      ],
      "text/plain": [
       "<pandas.io.formats.style.Styler at 0x1180d8110>"
      ]
     },
     "execution_count": 15,
     "metadata": {},
     "output_type": "execute_result"
    }
   ],
   "source": [
    "def show_results(pt, axis=None):\n",
    "    df = pd.DataFrame(pt.get_test_results())\n",
    "    all_methods = list(pt.get_test_labels())\n",
    "    style1 = df.style.highlight_null().highlight_max(axis=axis, color='orange', subset=all_methods).highlight_min(axis=axis, color='green', subset=all_methods).format({m: '{:.3f}' for m in all_methods})\n",
    "    return style1\n",
    "\n",
    "show_results(pt)"
   ]
  },
  {
   "cell_type": "markdown",
   "metadata": {},
   "source": [
    "So, we very quickly hit a limitation with this approach.\n",
    "\n",
    "There are some [advanced techniques](https://www.sudokudragon.com/advancedstrategy.htm) but they get more and more complicated and difficult to both code and test. And in many Sudoku guides for players, you'll find a mention of \"backtracking\":\n",
    "\n",
    "> When all else fails, there is one technique that is guaranteed to always work, indeed you can solve any Sudoku puzzle just using just this one strategy alone. You just work logically through all the possible alternatives in every square in order until you find the allocations that work out. If you choose a wrong option at some stage later you will find a logical inconsistency and have to go back, undoing all allocations and then trying another option\n",
    "> [Sudoku Puzzle solving strategies](https://www.sudokudragon.com/sudokustrategy.htm)\n",
    "\n",
    "In other words, you can [guess](https://www.sudokudragon.com/sudokuguess.htm). This is called \"backtracking\" and it's the next strategy I tried.\n"
   ]
  },
  {
   "cell_type": "markdown",
   "metadata": {},
   "source": [
    "## Backtracking\n",
    "\n",
    "**TODO:** Explanation of algorithm. Implemented in `BacktrackingSolver`.\n",
    "\n",
    "The primary advantage of backtracking is that it can solve any puzzle, given sufficient time. In test code below, limiting `include_levels` to `Kids`, `Easy`, and `Moderate` will complete the testing in ~1 second. On the other hand:\n",
    "\n",
    "* `Hard` extends the running time to ~15 seconds.\n",
    "* `Diabolical` takes ~5 minutes.\n",
    "* `Pathalogical` takes ~36 minutes.\n",
    "\n",
    "The time is due to the poor performance of the \"naive\" backtracking algorithm on some (but not all) puzzles. We're also solving each puzzle `NUM_SAMPLES` times (5 by default). We then average out the running times."
   ]
  },
  {
   "cell_type": "code",
   "execution_count": 16,
   "metadata": {},
   "outputs": [
    {
     "data": {
      "text/html": [
       "<progress style=\"width: 100%\" max=8 value=8>8 out of 8</progress>"
      ],
      "text/plain": [
       "<IPython.core.display.HTML object>"
      ]
     },
     "metadata": {},
     "output_type": "display_data"
    },
    {
     "data": {
      "text/html": [
       "<p>Completed 8 test cases in 2.90 seconds</p>"
      ],
      "text/plain": [
       "<IPython.core.display.HTML object>"
      ]
     },
     "metadata": {},
     "output_type": "display_data"
    },
    {
     "data": {
      "text/html": [
       "<style  type=\"text/css\" >\n",
       "    #T_069ff922_f737_11ea_9d17_8c85903d48d1row0_col3 {\n",
       "            : ;\n",
       "            : ;\n",
       "            background-color:  green;\n",
       "        }    #T_069ff922_f737_11ea_9d17_8c85903d48d1row4_col3 {\n",
       "            background-color:  red;\n",
       "            : ;\n",
       "            : ;\n",
       "        }    #T_069ff922_f737_11ea_9d17_8c85903d48d1row5_col3 {\n",
       "            background-color:  red;\n",
       "            : ;\n",
       "            : ;\n",
       "        }    #T_069ff922_f737_11ea_9d17_8c85903d48d1row5_col4 {\n",
       "            : ;\n",
       "            background-color:  orange;\n",
       "            : ;\n",
       "        }    #T_069ff922_f737_11ea_9d17_8c85903d48d1row6_col3 {\n",
       "            background-color:  red;\n",
       "            : ;\n",
       "            : ;\n",
       "        }    #T_069ff922_f737_11ea_9d17_8c85903d48d1row7_col3 {\n",
       "            background-color:  red;\n",
       "            : ;\n",
       "            : ;\n",
       "        }</style><table id=\"T_069ff922_f737_11ea_9d17_8c85903d48d1\" ><thead>    <tr>        <th class=\"blank level0\" ></th>        <th class=\"col_heading level0 col0\" >label</th>        <th class=\"col_heading level0 col1\" >level</th>        <th class=\"col_heading level0 col2\" >starting_clues</th>        <th class=\"col_heading level0 col3\" >deductive</th>        <th class=\"col_heading level0 col4\" >backtracking</th>    </tr></thead><tbody>\n",
       "                <tr>\n",
       "                        <th id=\"T_069ff922_f737_11ea_9d17_8c85903d48d1level0_row0\" class=\"row_heading level0 row0\" >0</th>\n",
       "                        <td id=\"T_069ff922_f737_11ea_9d17_8c85903d48d1row0_col0\" class=\"data row0 col0\" >SMH 1</td>\n",
       "                        <td id=\"T_069ff922_f737_11ea_9d17_8c85903d48d1row0_col1\" class=\"data row0 col1\" >Kids</td>\n",
       "                        <td id=\"T_069ff922_f737_11ea_9d17_8c85903d48d1row0_col2\" class=\"data row0 col2\" >31</td>\n",
       "                        <td id=\"T_069ff922_f737_11ea_9d17_8c85903d48d1row0_col3\" class=\"data row0 col3\" >0.003</td>\n",
       "                        <td id=\"T_069ff922_f737_11ea_9d17_8c85903d48d1row0_col4\" class=\"data row0 col4\" >0.004</td>\n",
       "            </tr>\n",
       "            <tr>\n",
       "                        <th id=\"T_069ff922_f737_11ea_9d17_8c85903d48d1level0_row1\" class=\"row_heading level0 row1\" >1</th>\n",
       "                        <td id=\"T_069ff922_f737_11ea_9d17_8c85903d48d1row1_col0\" class=\"data row1 col0\" >SMH 2</td>\n",
       "                        <td id=\"T_069ff922_f737_11ea_9d17_8c85903d48d1row1_col1\" class=\"data row1 col1\" >Easy</td>\n",
       "                        <td id=\"T_069ff922_f737_11ea_9d17_8c85903d48d1row1_col2\" class=\"data row1 col2\" >24</td>\n",
       "                        <td id=\"T_069ff922_f737_11ea_9d17_8c85903d48d1row1_col3\" class=\"data row1 col3\" >0.006</td>\n",
       "                        <td id=\"T_069ff922_f737_11ea_9d17_8c85903d48d1row1_col4\" class=\"data row1 col4\" >0.188</td>\n",
       "            </tr>\n",
       "            <tr>\n",
       "                        <th id=\"T_069ff922_f737_11ea_9d17_8c85903d48d1level0_row2\" class=\"row_heading level0 row2\" >2</th>\n",
       "                        <td id=\"T_069ff922_f737_11ea_9d17_8c85903d48d1row2_col0\" class=\"data row2 col0\" >KTH 1</td>\n",
       "                        <td id=\"T_069ff922_f737_11ea_9d17_8c85903d48d1row2_col1\" class=\"data row2 col1\" >Easy</td>\n",
       "                        <td id=\"T_069ff922_f737_11ea_9d17_8c85903d48d1row2_col2\" class=\"data row2 col2\" >30</td>\n",
       "                        <td id=\"T_069ff922_f737_11ea_9d17_8c85903d48d1row2_col3\" class=\"data row2 col3\" >0.004</td>\n",
       "                        <td id=\"T_069ff922_f737_11ea_9d17_8c85903d48d1row2_col4\" class=\"data row2 col4\" >0.013</td>\n",
       "            </tr>\n",
       "            <tr>\n",
       "                        <th id=\"T_069ff922_f737_11ea_9d17_8c85903d48d1level0_row3\" class=\"row_heading level0 row3\" >3</th>\n",
       "                        <td id=\"T_069ff922_f737_11ea_9d17_8c85903d48d1row3_col0\" class=\"data row3 col0\" >Rico Alan Heart</td>\n",
       "                        <td id=\"T_069ff922_f737_11ea_9d17_8c85903d48d1row3_col1\" class=\"data row3 col1\" >Easy</td>\n",
       "                        <td id=\"T_069ff922_f737_11ea_9d17_8c85903d48d1row3_col2\" class=\"data row3 col2\" >22</td>\n",
       "                        <td id=\"T_069ff922_f737_11ea_9d17_8c85903d48d1row3_col3\" class=\"data row3 col3\" >0.012</td>\n",
       "                        <td id=\"T_069ff922_f737_11ea_9d17_8c85903d48d1row3_col4\" class=\"data row3 col4\" >0.078</td>\n",
       "            </tr>\n",
       "            <tr>\n",
       "                        <th id=\"T_069ff922_f737_11ea_9d17_8c85903d48d1level0_row4\" class=\"row_heading level0 row4\" >4</th>\n",
       "                        <td id=\"T_069ff922_f737_11ea_9d17_8c85903d48d1row4_col0\" class=\"data row4 col0\" >SMH 3</td>\n",
       "                        <td id=\"T_069ff922_f737_11ea_9d17_8c85903d48d1row4_col1\" class=\"data row4 col1\" >Moderate</td>\n",
       "                        <td id=\"T_069ff922_f737_11ea_9d17_8c85903d48d1row4_col2\" class=\"data row4 col2\" >26</td>\n",
       "                        <td id=\"T_069ff922_f737_11ea_9d17_8c85903d48d1row4_col3\" class=\"data row4 col3\" >nan</td>\n",
       "                        <td id=\"T_069ff922_f737_11ea_9d17_8c85903d48d1row4_col4\" class=\"data row4 col4\" >0.082</td>\n",
       "            </tr>\n",
       "            <tr>\n",
       "                        <th id=\"T_069ff922_f737_11ea_9d17_8c85903d48d1level0_row5\" class=\"row_heading level0 row5\" >5</th>\n",
       "                        <td id=\"T_069ff922_f737_11ea_9d17_8c85903d48d1row5_col0\" class=\"data row5 col0\" >SMH 4</td>\n",
       "                        <td id=\"T_069ff922_f737_11ea_9d17_8c85903d48d1row5_col1\" class=\"data row5 col1\" >Hard</td>\n",
       "                        <td id=\"T_069ff922_f737_11ea_9d17_8c85903d48d1row5_col2\" class=\"data row5 col2\" >22</td>\n",
       "                        <td id=\"T_069ff922_f737_11ea_9d17_8c85903d48d1row5_col3\" class=\"data row5 col3\" >nan</td>\n",
       "                        <td id=\"T_069ff922_f737_11ea_9d17_8c85903d48d1row5_col4\" class=\"data row5 col4\" >1.362</td>\n",
       "            </tr>\n",
       "            <tr>\n",
       "                        <th id=\"T_069ff922_f737_11ea_9d17_8c85903d48d1level0_row6\" class=\"row_heading level0 row6\" >6</th>\n",
       "                        <td id=\"T_069ff922_f737_11ea_9d17_8c85903d48d1row6_col0\" class=\"data row6 col0\" >SMH 5</td>\n",
       "                        <td id=\"T_069ff922_f737_11ea_9d17_8c85903d48d1row6_col1\" class=\"data row6 col1\" >Hard</td>\n",
       "                        <td id=\"T_069ff922_f737_11ea_9d17_8c85903d48d1row6_col2\" class=\"data row6 col2\" >25</td>\n",
       "                        <td id=\"T_069ff922_f737_11ea_9d17_8c85903d48d1row6_col3\" class=\"data row6 col3\" >nan</td>\n",
       "                        <td id=\"T_069ff922_f737_11ea_9d17_8c85903d48d1row6_col4\" class=\"data row6 col4\" >0.584</td>\n",
       "            </tr>\n",
       "            <tr>\n",
       "                        <th id=\"T_069ff922_f737_11ea_9d17_8c85903d48d1level0_row7\" class=\"row_heading level0 row7\" >7</th>\n",
       "                        <td id=\"T_069ff922_f737_11ea_9d17_8c85903d48d1row7_col0\" class=\"data row7 col0\" >Greg [2017]</td>\n",
       "                        <td id=\"T_069ff922_f737_11ea_9d17_8c85903d48d1row7_col1\" class=\"data row7 col1\" >Hard</td>\n",
       "                        <td id=\"T_069ff922_f737_11ea_9d17_8c85903d48d1row7_col2\" class=\"data row7 col2\" >21</td>\n",
       "                        <td id=\"T_069ff922_f737_11ea_9d17_8c85903d48d1row7_col3\" class=\"data row7 col3\" >nan</td>\n",
       "                        <td id=\"T_069ff922_f737_11ea_9d17_8c85903d48d1row7_col4\" class=\"data row7 col4\" >0.584</td>\n",
       "            </tr>\n",
       "    </tbody></table>"
      ],
      "text/plain": [
       "<pandas.io.formats.style.Styler at 0x11a2a7250>"
      ]
     },
     "execution_count": 16,
     "metadata": {},
     "output_type": "execute_result"
    }
   ],
   "source": [
    "method = 'backtracking'\n",
    "solver = su.BacktrackingSolver()\n",
    "pt.run_tests(solver, method, callback=update_progress)\n",
    "show_results(pt)"
   ]
  },
  {
   "cell_type": "markdown",
   "metadata": {},
   "source": [
    "## Constaint Propogation\n",
    "\n",
    "*TODO*: Explanation of backtracking + constraint propogation.\n",
    "\n"
   ]
  },
  {
   "cell_type": "code",
   "execution_count": 17,
   "metadata": {},
   "outputs": [
    {
     "data": {
      "text/html": [
       "<progress style=\"width: 100%\" max=8 value=8>8 out of 8</progress>"
      ],
      "text/plain": [
       "<IPython.core.display.HTML object>"
      ]
     },
     "metadata": {},
     "output_type": "display_data"
    },
    {
     "data": {
      "text/html": [
       "<p>Completed 8 test cases in 0.30 seconds</p>"
      ],
      "text/plain": [
       "<IPython.core.display.HTML object>"
      ]
     },
     "metadata": {},
     "output_type": "display_data"
    },
    {
     "data": {
      "text/html": [
       "<style  type=\"text/css\" >\n",
       "    #T_06e7949e_f737_11ea_9d17_8c85903d48d1row2_col5 {\n",
       "            : ;\n",
       "            : ;\n",
       "            background-color:  green;\n",
       "        }    #T_06e7949e_f737_11ea_9d17_8c85903d48d1row4_col3 {\n",
       "            background-color:  red;\n",
       "            : ;\n",
       "            : ;\n",
       "        }    #T_06e7949e_f737_11ea_9d17_8c85903d48d1row5_col3 {\n",
       "            background-color:  red;\n",
       "            : ;\n",
       "            : ;\n",
       "        }    #T_06e7949e_f737_11ea_9d17_8c85903d48d1row5_col4 {\n",
       "            : ;\n",
       "            background-color:  orange;\n",
       "            : ;\n",
       "        }    #T_06e7949e_f737_11ea_9d17_8c85903d48d1row6_col3 {\n",
       "            background-color:  red;\n",
       "            : ;\n",
       "            : ;\n",
       "        }    #T_06e7949e_f737_11ea_9d17_8c85903d48d1row7_col3 {\n",
       "            background-color:  red;\n",
       "            : ;\n",
       "            : ;\n",
       "        }</style><table id=\"T_06e7949e_f737_11ea_9d17_8c85903d48d1\" ><thead>    <tr>        <th class=\"blank level0\" ></th>        <th class=\"col_heading level0 col0\" >label</th>        <th class=\"col_heading level0 col1\" >level</th>        <th class=\"col_heading level0 col2\" >starting_clues</th>        <th class=\"col_heading level0 col3\" >deductive</th>        <th class=\"col_heading level0 col4\" >backtracking</th>        <th class=\"col_heading level0 col5\" >constraintpropogation</th>    </tr></thead><tbody>\n",
       "                <tr>\n",
       "                        <th id=\"T_06e7949e_f737_11ea_9d17_8c85903d48d1level0_row0\" class=\"row_heading level0 row0\" >0</th>\n",
       "                        <td id=\"T_06e7949e_f737_11ea_9d17_8c85903d48d1row0_col0\" class=\"data row0 col0\" >SMH 1</td>\n",
       "                        <td id=\"T_06e7949e_f737_11ea_9d17_8c85903d48d1row0_col1\" class=\"data row0 col1\" >Kids</td>\n",
       "                        <td id=\"T_06e7949e_f737_11ea_9d17_8c85903d48d1row0_col2\" class=\"data row0 col2\" >31</td>\n",
       "                        <td id=\"T_06e7949e_f737_11ea_9d17_8c85903d48d1row0_col3\" class=\"data row0 col3\" >0.003</td>\n",
       "                        <td id=\"T_06e7949e_f737_11ea_9d17_8c85903d48d1row0_col4\" class=\"data row0 col4\" >0.004</td>\n",
       "                        <td id=\"T_06e7949e_f737_11ea_9d17_8c85903d48d1row0_col5\" class=\"data row0 col5\" >0.005</td>\n",
       "            </tr>\n",
       "            <tr>\n",
       "                        <th id=\"T_06e7949e_f737_11ea_9d17_8c85903d48d1level0_row1\" class=\"row_heading level0 row1\" >1</th>\n",
       "                        <td id=\"T_06e7949e_f737_11ea_9d17_8c85903d48d1row1_col0\" class=\"data row1 col0\" >SMH 2</td>\n",
       "                        <td id=\"T_06e7949e_f737_11ea_9d17_8c85903d48d1row1_col1\" class=\"data row1 col1\" >Easy</td>\n",
       "                        <td id=\"T_06e7949e_f737_11ea_9d17_8c85903d48d1row1_col2\" class=\"data row1 col2\" >24</td>\n",
       "                        <td id=\"T_06e7949e_f737_11ea_9d17_8c85903d48d1row1_col3\" class=\"data row1 col3\" >0.006</td>\n",
       "                        <td id=\"T_06e7949e_f737_11ea_9d17_8c85903d48d1row1_col4\" class=\"data row1 col4\" >0.188</td>\n",
       "                        <td id=\"T_06e7949e_f737_11ea_9d17_8c85903d48d1row1_col5\" class=\"data row1 col5\" >0.006</td>\n",
       "            </tr>\n",
       "            <tr>\n",
       "                        <th id=\"T_06e7949e_f737_11ea_9d17_8c85903d48d1level0_row2\" class=\"row_heading level0 row2\" >2</th>\n",
       "                        <td id=\"T_06e7949e_f737_11ea_9d17_8c85903d48d1row2_col0\" class=\"data row2 col0\" >KTH 1</td>\n",
       "                        <td id=\"T_06e7949e_f737_11ea_9d17_8c85903d48d1row2_col1\" class=\"data row2 col1\" >Easy</td>\n",
       "                        <td id=\"T_06e7949e_f737_11ea_9d17_8c85903d48d1row2_col2\" class=\"data row2 col2\" >30</td>\n",
       "                        <td id=\"T_06e7949e_f737_11ea_9d17_8c85903d48d1row2_col3\" class=\"data row2 col3\" >0.004</td>\n",
       "                        <td id=\"T_06e7949e_f737_11ea_9d17_8c85903d48d1row2_col4\" class=\"data row2 col4\" >0.013</td>\n",
       "                        <td id=\"T_06e7949e_f737_11ea_9d17_8c85903d48d1row2_col5\" class=\"data row2 col5\" >0.002</td>\n",
       "            </tr>\n",
       "            <tr>\n",
       "                        <th id=\"T_06e7949e_f737_11ea_9d17_8c85903d48d1level0_row3\" class=\"row_heading level0 row3\" >3</th>\n",
       "                        <td id=\"T_06e7949e_f737_11ea_9d17_8c85903d48d1row3_col0\" class=\"data row3 col0\" >Rico Alan Heart</td>\n",
       "                        <td id=\"T_06e7949e_f737_11ea_9d17_8c85903d48d1row3_col1\" class=\"data row3 col1\" >Easy</td>\n",
       "                        <td id=\"T_06e7949e_f737_11ea_9d17_8c85903d48d1row3_col2\" class=\"data row3 col2\" >22</td>\n",
       "                        <td id=\"T_06e7949e_f737_11ea_9d17_8c85903d48d1row3_col3\" class=\"data row3 col3\" >0.012</td>\n",
       "                        <td id=\"T_06e7949e_f737_11ea_9d17_8c85903d48d1row3_col4\" class=\"data row3 col4\" >0.078</td>\n",
       "                        <td id=\"T_06e7949e_f737_11ea_9d17_8c85903d48d1row3_col5\" class=\"data row3 col5\" >0.051</td>\n",
       "            </tr>\n",
       "            <tr>\n",
       "                        <th id=\"T_06e7949e_f737_11ea_9d17_8c85903d48d1level0_row4\" class=\"row_heading level0 row4\" >4</th>\n",
       "                        <td id=\"T_06e7949e_f737_11ea_9d17_8c85903d48d1row4_col0\" class=\"data row4 col0\" >SMH 3</td>\n",
       "                        <td id=\"T_06e7949e_f737_11ea_9d17_8c85903d48d1row4_col1\" class=\"data row4 col1\" >Moderate</td>\n",
       "                        <td id=\"T_06e7949e_f737_11ea_9d17_8c85903d48d1row4_col2\" class=\"data row4 col2\" >26</td>\n",
       "                        <td id=\"T_06e7949e_f737_11ea_9d17_8c85903d48d1row4_col3\" class=\"data row4 col3\" >nan</td>\n",
       "                        <td id=\"T_06e7949e_f737_11ea_9d17_8c85903d48d1row4_col4\" class=\"data row4 col4\" >0.082</td>\n",
       "                        <td id=\"T_06e7949e_f737_11ea_9d17_8c85903d48d1row4_col5\" class=\"data row4 col5\" >0.055</td>\n",
       "            </tr>\n",
       "            <tr>\n",
       "                        <th id=\"T_06e7949e_f737_11ea_9d17_8c85903d48d1level0_row5\" class=\"row_heading level0 row5\" >5</th>\n",
       "                        <td id=\"T_06e7949e_f737_11ea_9d17_8c85903d48d1row5_col0\" class=\"data row5 col0\" >SMH 4</td>\n",
       "                        <td id=\"T_06e7949e_f737_11ea_9d17_8c85903d48d1row5_col1\" class=\"data row5 col1\" >Hard</td>\n",
       "                        <td id=\"T_06e7949e_f737_11ea_9d17_8c85903d48d1row5_col2\" class=\"data row5 col2\" >22</td>\n",
       "                        <td id=\"T_06e7949e_f737_11ea_9d17_8c85903d48d1row5_col3\" class=\"data row5 col3\" >nan</td>\n",
       "                        <td id=\"T_06e7949e_f737_11ea_9d17_8c85903d48d1row5_col4\" class=\"data row5 col4\" >1.362</td>\n",
       "                        <td id=\"T_06e7949e_f737_11ea_9d17_8c85903d48d1row5_col5\" class=\"data row5 col5\" >0.053</td>\n",
       "            </tr>\n",
       "            <tr>\n",
       "                        <th id=\"T_06e7949e_f737_11ea_9d17_8c85903d48d1level0_row6\" class=\"row_heading level0 row6\" >6</th>\n",
       "                        <td id=\"T_06e7949e_f737_11ea_9d17_8c85903d48d1row6_col0\" class=\"data row6 col0\" >SMH 5</td>\n",
       "                        <td id=\"T_06e7949e_f737_11ea_9d17_8c85903d48d1row6_col1\" class=\"data row6 col1\" >Hard</td>\n",
       "                        <td id=\"T_06e7949e_f737_11ea_9d17_8c85903d48d1row6_col2\" class=\"data row6 col2\" >25</td>\n",
       "                        <td id=\"T_06e7949e_f737_11ea_9d17_8c85903d48d1row6_col3\" class=\"data row6 col3\" >nan</td>\n",
       "                        <td id=\"T_06e7949e_f737_11ea_9d17_8c85903d48d1row6_col4\" class=\"data row6 col4\" >0.584</td>\n",
       "                        <td id=\"T_06e7949e_f737_11ea_9d17_8c85903d48d1row6_col5\" class=\"data row6 col5\" >0.048</td>\n",
       "            </tr>\n",
       "            <tr>\n",
       "                        <th id=\"T_06e7949e_f737_11ea_9d17_8c85903d48d1level0_row7\" class=\"row_heading level0 row7\" >7</th>\n",
       "                        <td id=\"T_06e7949e_f737_11ea_9d17_8c85903d48d1row7_col0\" class=\"data row7 col0\" >Greg [2017]</td>\n",
       "                        <td id=\"T_06e7949e_f737_11ea_9d17_8c85903d48d1row7_col1\" class=\"data row7 col1\" >Hard</td>\n",
       "                        <td id=\"T_06e7949e_f737_11ea_9d17_8c85903d48d1row7_col2\" class=\"data row7 col2\" >21</td>\n",
       "                        <td id=\"T_06e7949e_f737_11ea_9d17_8c85903d48d1row7_col3\" class=\"data row7 col3\" >nan</td>\n",
       "                        <td id=\"T_06e7949e_f737_11ea_9d17_8c85903d48d1row7_col4\" class=\"data row7 col4\" >0.584</td>\n",
       "                        <td id=\"T_06e7949e_f737_11ea_9d17_8c85903d48d1row7_col5\" class=\"data row7 col5\" >0.080</td>\n",
       "            </tr>\n",
       "    </tbody></table>"
      ],
      "text/plain": [
       "<pandas.io.formats.style.Styler at 0x11a470a10>"
      ]
     },
     "execution_count": 17,
     "metadata": {},
     "output_type": "execute_result"
    }
   ],
   "source": [
    "method = 'constraintpropogation'\n",
    "solver = su.ConstraintPropogationSolver()\n",
    "pt.run_tests(solver, method, callback=update_progress)\n",
    "show_results(pt)"
   ]
  },
  {
   "cell_type": "markdown",
   "metadata": {},
   "source": [
    "## Hybrid\n",
    "\n",
    "Since the deductive methods can't solve all puzzles we have a hybrid approach which will attempt to use the deductive methods as long as possible, and then fall back to backtracking + constraint propogation. It *should* be faster than CP alone.\n"
   ]
  },
  {
   "cell_type": "markdown",
   "metadata": {},
   "source": [
    "Now we'll use constraint propogation + backtracking if the deductive methods fail.\n"
   ]
  },
  {
   "cell_type": "code",
   "execution_count": 18,
   "metadata": {},
   "outputs": [
    {
     "data": {
      "text/html": [
       "<progress style=\"width: 100%\" max=8 value=8>8 out of 8</progress>"
      ],
      "text/plain": [
       "<IPython.core.display.HTML object>"
      ]
     },
     "metadata": {},
     "output_type": "display_data"
    },
    {
     "data": {
      "text/html": [
       "<p>Completed 8 test cases in 0.30 seconds</p>"
      ],
      "text/plain": [
       "<IPython.core.display.HTML object>"
      ]
     },
     "metadata": {},
     "output_type": "display_data"
    },
    {
     "data": {
      "text/html": [
       "<style  type=\"text/css\" >\n",
       "    #T_07305314_f737_11ea_9d17_8c85903d48d1row2_col5 {\n",
       "            : ;\n",
       "            : ;\n",
       "            background-color:  green;\n",
       "        }    #T_07305314_f737_11ea_9d17_8c85903d48d1row5_col4 {\n",
       "            : ;\n",
       "            background-color:  orange;\n",
       "            : ;\n",
       "        }</style><table id=\"T_07305314_f737_11ea_9d17_8c85903d48d1\" ><thead>    <tr>        <th class=\"blank level0\" ></th>        <th class=\"col_heading level0 col0\" >label</th>        <th class=\"col_heading level0 col1\" >level</th>        <th class=\"col_heading level0 col2\" >starting_clues</th>        <th class=\"col_heading level0 col3\" >deductive</th>        <th class=\"col_heading level0 col4\" >backtracking</th>        <th class=\"col_heading level0 col5\" >constraintpropogation</th>    </tr></thead><tbody>\n",
       "                <tr>\n",
       "                        <th id=\"T_07305314_f737_11ea_9d17_8c85903d48d1level0_row0\" class=\"row_heading level0 row0\" >0</th>\n",
       "                        <td id=\"T_07305314_f737_11ea_9d17_8c85903d48d1row0_col0\" class=\"data row0 col0\" >SMH 1</td>\n",
       "                        <td id=\"T_07305314_f737_11ea_9d17_8c85903d48d1row0_col1\" class=\"data row0 col1\" >Kids</td>\n",
       "                        <td id=\"T_07305314_f737_11ea_9d17_8c85903d48d1row0_col2\" class=\"data row0 col2\" >31</td>\n",
       "                        <td id=\"T_07305314_f737_11ea_9d17_8c85903d48d1row0_col3\" class=\"data row0 col3\" >0.005</td>\n",
       "                        <td id=\"T_07305314_f737_11ea_9d17_8c85903d48d1row0_col4\" class=\"data row0 col4\" >0.004</td>\n",
       "                        <td id=\"T_07305314_f737_11ea_9d17_8c85903d48d1row0_col5\" class=\"data row0 col5\" >0.005</td>\n",
       "            </tr>\n",
       "            <tr>\n",
       "                        <th id=\"T_07305314_f737_11ea_9d17_8c85903d48d1level0_row1\" class=\"row_heading level0 row1\" >1</th>\n",
       "                        <td id=\"T_07305314_f737_11ea_9d17_8c85903d48d1row1_col0\" class=\"data row1 col0\" >SMH 2</td>\n",
       "                        <td id=\"T_07305314_f737_11ea_9d17_8c85903d48d1row1_col1\" class=\"data row1 col1\" >Easy</td>\n",
       "                        <td id=\"T_07305314_f737_11ea_9d17_8c85903d48d1row1_col2\" class=\"data row1 col2\" >24</td>\n",
       "                        <td id=\"T_07305314_f737_11ea_9d17_8c85903d48d1row1_col3\" class=\"data row1 col3\" >0.007</td>\n",
       "                        <td id=\"T_07305314_f737_11ea_9d17_8c85903d48d1row1_col4\" class=\"data row1 col4\" >0.188</td>\n",
       "                        <td id=\"T_07305314_f737_11ea_9d17_8c85903d48d1row1_col5\" class=\"data row1 col5\" >0.006</td>\n",
       "            </tr>\n",
       "            <tr>\n",
       "                        <th id=\"T_07305314_f737_11ea_9d17_8c85903d48d1level0_row2\" class=\"row_heading level0 row2\" >2</th>\n",
       "                        <td id=\"T_07305314_f737_11ea_9d17_8c85903d48d1row2_col0\" class=\"data row2 col0\" >KTH 1</td>\n",
       "                        <td id=\"T_07305314_f737_11ea_9d17_8c85903d48d1row2_col1\" class=\"data row2 col1\" >Easy</td>\n",
       "                        <td id=\"T_07305314_f737_11ea_9d17_8c85903d48d1row2_col2\" class=\"data row2 col2\" >30</td>\n",
       "                        <td id=\"T_07305314_f737_11ea_9d17_8c85903d48d1row2_col3\" class=\"data row2 col3\" >0.006</td>\n",
       "                        <td id=\"T_07305314_f737_11ea_9d17_8c85903d48d1row2_col4\" class=\"data row2 col4\" >0.013</td>\n",
       "                        <td id=\"T_07305314_f737_11ea_9d17_8c85903d48d1row2_col5\" class=\"data row2 col5\" >0.002</td>\n",
       "            </tr>\n",
       "            <tr>\n",
       "                        <th id=\"T_07305314_f737_11ea_9d17_8c85903d48d1level0_row3\" class=\"row_heading level0 row3\" >3</th>\n",
       "                        <td id=\"T_07305314_f737_11ea_9d17_8c85903d48d1row3_col0\" class=\"data row3 col0\" >Rico Alan Heart</td>\n",
       "                        <td id=\"T_07305314_f737_11ea_9d17_8c85903d48d1row3_col1\" class=\"data row3 col1\" >Easy</td>\n",
       "                        <td id=\"T_07305314_f737_11ea_9d17_8c85903d48d1row3_col2\" class=\"data row3 col2\" >22</td>\n",
       "                        <td id=\"T_07305314_f737_11ea_9d17_8c85903d48d1row3_col3\" class=\"data row3 col3\" >0.021</td>\n",
       "                        <td id=\"T_07305314_f737_11ea_9d17_8c85903d48d1row3_col4\" class=\"data row3 col4\" >0.078</td>\n",
       "                        <td id=\"T_07305314_f737_11ea_9d17_8c85903d48d1row3_col5\" class=\"data row3 col5\" >0.051</td>\n",
       "            </tr>\n",
       "            <tr>\n",
       "                        <th id=\"T_07305314_f737_11ea_9d17_8c85903d48d1level0_row4\" class=\"row_heading level0 row4\" >4</th>\n",
       "                        <td id=\"T_07305314_f737_11ea_9d17_8c85903d48d1row4_col0\" class=\"data row4 col0\" >SMH 3</td>\n",
       "                        <td id=\"T_07305314_f737_11ea_9d17_8c85903d48d1row4_col1\" class=\"data row4 col1\" >Moderate</td>\n",
       "                        <td id=\"T_07305314_f737_11ea_9d17_8c85903d48d1row4_col2\" class=\"data row4 col2\" >26</td>\n",
       "                        <td id=\"T_07305314_f737_11ea_9d17_8c85903d48d1row4_col3\" class=\"data row4 col3\" >0.065</td>\n",
       "                        <td id=\"T_07305314_f737_11ea_9d17_8c85903d48d1row4_col4\" class=\"data row4 col4\" >0.082</td>\n",
       "                        <td id=\"T_07305314_f737_11ea_9d17_8c85903d48d1row4_col5\" class=\"data row4 col5\" >0.055</td>\n",
       "            </tr>\n",
       "            <tr>\n",
       "                        <th id=\"T_07305314_f737_11ea_9d17_8c85903d48d1level0_row5\" class=\"row_heading level0 row5\" >5</th>\n",
       "                        <td id=\"T_07305314_f737_11ea_9d17_8c85903d48d1row5_col0\" class=\"data row5 col0\" >SMH 4</td>\n",
       "                        <td id=\"T_07305314_f737_11ea_9d17_8c85903d48d1row5_col1\" class=\"data row5 col1\" >Hard</td>\n",
       "                        <td id=\"T_07305314_f737_11ea_9d17_8c85903d48d1row5_col2\" class=\"data row5 col2\" >22</td>\n",
       "                        <td id=\"T_07305314_f737_11ea_9d17_8c85903d48d1row5_col3\" class=\"data row5 col3\" >0.049</td>\n",
       "                        <td id=\"T_07305314_f737_11ea_9d17_8c85903d48d1row5_col4\" class=\"data row5 col4\" >1.362</td>\n",
       "                        <td id=\"T_07305314_f737_11ea_9d17_8c85903d48d1row5_col5\" class=\"data row5 col5\" >0.053</td>\n",
       "            </tr>\n",
       "            <tr>\n",
       "                        <th id=\"T_07305314_f737_11ea_9d17_8c85903d48d1level0_row6\" class=\"row_heading level0 row6\" >6</th>\n",
       "                        <td id=\"T_07305314_f737_11ea_9d17_8c85903d48d1row6_col0\" class=\"data row6 col0\" >SMH 5</td>\n",
       "                        <td id=\"T_07305314_f737_11ea_9d17_8c85903d48d1row6_col1\" class=\"data row6 col1\" >Hard</td>\n",
       "                        <td id=\"T_07305314_f737_11ea_9d17_8c85903d48d1row6_col2\" class=\"data row6 col2\" >25</td>\n",
       "                        <td id=\"T_07305314_f737_11ea_9d17_8c85903d48d1row6_col3\" class=\"data row6 col3\" >0.036</td>\n",
       "                        <td id=\"T_07305314_f737_11ea_9d17_8c85903d48d1row6_col4\" class=\"data row6 col4\" >0.584</td>\n",
       "                        <td id=\"T_07305314_f737_11ea_9d17_8c85903d48d1row6_col5\" class=\"data row6 col5\" >0.048</td>\n",
       "            </tr>\n",
       "            <tr>\n",
       "                        <th id=\"T_07305314_f737_11ea_9d17_8c85903d48d1level0_row7\" class=\"row_heading level0 row7\" >7</th>\n",
       "                        <td id=\"T_07305314_f737_11ea_9d17_8c85903d48d1row7_col0\" class=\"data row7 col0\" >Greg [2017]</td>\n",
       "                        <td id=\"T_07305314_f737_11ea_9d17_8c85903d48d1row7_col1\" class=\"data row7 col1\" >Hard</td>\n",
       "                        <td id=\"T_07305314_f737_11ea_9d17_8c85903d48d1row7_col2\" class=\"data row7 col2\" >21</td>\n",
       "                        <td id=\"T_07305314_f737_11ea_9d17_8c85903d48d1row7_col3\" class=\"data row7 col3\" >0.107</td>\n",
       "                        <td id=\"T_07305314_f737_11ea_9d17_8c85903d48d1row7_col4\" class=\"data row7 col4\" >0.584</td>\n",
       "                        <td id=\"T_07305314_f737_11ea_9d17_8c85903d48d1row7_col5\" class=\"data row7 col5\" >0.080</td>\n",
       "            </tr>\n",
       "    </tbody></table>"
      ],
      "text/plain": [
       "<pandas.io.formats.style.Styler at 0x11a48bd10>"
      ]
     },
     "execution_count": 18,
     "metadata": {},
     "output_type": "execute_result"
    }
   ],
   "source": [
    "method = 'deductive'\n",
    "solver = su.DeductiveSolver(use_backtracking=True)\n",
    "pt.run_tests(solver, method, callback=update_progress)\n",
    "show_results(pt)"
   ]
  },
  {
   "cell_type": "markdown",
   "metadata": {},
   "source": [
    "## SAT Solver\n",
    "\n",
    "*TODO:* Explain Boolean Satisfiability (SAT) solvers...if you can...\n",
    "\n",
    "Credit: [Taufan Ardhinata](https://github.com/taufanardi/sudoku-sat-solver)\n"
   ]
  },
  {
   "cell_type": "code",
   "execution_count": 19,
   "metadata": {},
   "outputs": [
    {
     "data": {
      "text/html": [
       "<progress style=\"width: 100%\" max=8 value=8>8 out of 8</progress>"
      ],
      "text/plain": [
       "<IPython.core.display.HTML object>"
      ]
     },
     "metadata": {},
     "output_type": "display_data"
    },
    {
     "data": {
      "text/html": [
       "<p>Completed 8 test cases in 0.26 seconds</p>"
      ],
      "text/plain": [
       "<IPython.core.display.HTML object>"
      ]
     },
     "metadata": {},
     "output_type": "display_data"
    },
    {
     "data": {
      "text/html": [
       "<style  type=\"text/css\" >\n",
       "    #T_076c64da_f737_11ea_9d17_8c85903d48d1row2_col5 {\n",
       "            : ;\n",
       "            : ;\n",
       "            background-color:  green;\n",
       "        }    #T_076c64da_f737_11ea_9d17_8c85903d48d1row5_col4 {\n",
       "            : ;\n",
       "            background-color:  orange;\n",
       "            : ;\n",
       "        }</style><table id=\"T_076c64da_f737_11ea_9d17_8c85903d48d1\" ><thead>    <tr>        <th class=\"blank level0\" ></th>        <th class=\"col_heading level0 col0\" >label</th>        <th class=\"col_heading level0 col1\" >level</th>        <th class=\"col_heading level0 col2\" >starting_clues</th>        <th class=\"col_heading level0 col3\" >deductive</th>        <th class=\"col_heading level0 col4\" >backtracking</th>        <th class=\"col_heading level0 col5\" >constraintpropogation</th>        <th class=\"col_heading level0 col6\" >sat</th>    </tr></thead><tbody>\n",
       "                <tr>\n",
       "                        <th id=\"T_076c64da_f737_11ea_9d17_8c85903d48d1level0_row0\" class=\"row_heading level0 row0\" >0</th>\n",
       "                        <td id=\"T_076c64da_f737_11ea_9d17_8c85903d48d1row0_col0\" class=\"data row0 col0\" >SMH 1</td>\n",
       "                        <td id=\"T_076c64da_f737_11ea_9d17_8c85903d48d1row0_col1\" class=\"data row0 col1\" >Kids</td>\n",
       "                        <td id=\"T_076c64da_f737_11ea_9d17_8c85903d48d1row0_col2\" class=\"data row0 col2\" >31</td>\n",
       "                        <td id=\"T_076c64da_f737_11ea_9d17_8c85903d48d1row0_col3\" class=\"data row0 col3\" >0.005</td>\n",
       "                        <td id=\"T_076c64da_f737_11ea_9d17_8c85903d48d1row0_col4\" class=\"data row0 col4\" >0.004</td>\n",
       "                        <td id=\"T_076c64da_f737_11ea_9d17_8c85903d48d1row0_col5\" class=\"data row0 col5\" >0.005</td>\n",
       "                        <td id=\"T_076c64da_f737_11ea_9d17_8c85903d48d1row0_col6\" class=\"data row0 col6\" >0.035</td>\n",
       "            </tr>\n",
       "            <tr>\n",
       "                        <th id=\"T_076c64da_f737_11ea_9d17_8c85903d48d1level0_row1\" class=\"row_heading level0 row1\" >1</th>\n",
       "                        <td id=\"T_076c64da_f737_11ea_9d17_8c85903d48d1row1_col0\" class=\"data row1 col0\" >SMH 2</td>\n",
       "                        <td id=\"T_076c64da_f737_11ea_9d17_8c85903d48d1row1_col1\" class=\"data row1 col1\" >Easy</td>\n",
       "                        <td id=\"T_076c64da_f737_11ea_9d17_8c85903d48d1row1_col2\" class=\"data row1 col2\" >24</td>\n",
       "                        <td id=\"T_076c64da_f737_11ea_9d17_8c85903d48d1row1_col3\" class=\"data row1 col3\" >0.007</td>\n",
       "                        <td id=\"T_076c64da_f737_11ea_9d17_8c85903d48d1row1_col4\" class=\"data row1 col4\" >0.188</td>\n",
       "                        <td id=\"T_076c64da_f737_11ea_9d17_8c85903d48d1row1_col5\" class=\"data row1 col5\" >0.006</td>\n",
       "                        <td id=\"T_076c64da_f737_11ea_9d17_8c85903d48d1row1_col6\" class=\"data row1 col6\" >0.040</td>\n",
       "            </tr>\n",
       "            <tr>\n",
       "                        <th id=\"T_076c64da_f737_11ea_9d17_8c85903d48d1level0_row2\" class=\"row_heading level0 row2\" >2</th>\n",
       "                        <td id=\"T_076c64da_f737_11ea_9d17_8c85903d48d1row2_col0\" class=\"data row2 col0\" >KTH 1</td>\n",
       "                        <td id=\"T_076c64da_f737_11ea_9d17_8c85903d48d1row2_col1\" class=\"data row2 col1\" >Easy</td>\n",
       "                        <td id=\"T_076c64da_f737_11ea_9d17_8c85903d48d1row2_col2\" class=\"data row2 col2\" >30</td>\n",
       "                        <td id=\"T_076c64da_f737_11ea_9d17_8c85903d48d1row2_col3\" class=\"data row2 col3\" >0.006</td>\n",
       "                        <td id=\"T_076c64da_f737_11ea_9d17_8c85903d48d1row2_col4\" class=\"data row2 col4\" >0.013</td>\n",
       "                        <td id=\"T_076c64da_f737_11ea_9d17_8c85903d48d1row2_col5\" class=\"data row2 col5\" >0.002</td>\n",
       "                        <td id=\"T_076c64da_f737_11ea_9d17_8c85903d48d1row2_col6\" class=\"data row2 col6\" >0.038</td>\n",
       "            </tr>\n",
       "            <tr>\n",
       "                        <th id=\"T_076c64da_f737_11ea_9d17_8c85903d48d1level0_row3\" class=\"row_heading level0 row3\" >3</th>\n",
       "                        <td id=\"T_076c64da_f737_11ea_9d17_8c85903d48d1row3_col0\" class=\"data row3 col0\" >Rico Alan Heart</td>\n",
       "                        <td id=\"T_076c64da_f737_11ea_9d17_8c85903d48d1row3_col1\" class=\"data row3 col1\" >Easy</td>\n",
       "                        <td id=\"T_076c64da_f737_11ea_9d17_8c85903d48d1row3_col2\" class=\"data row3 col2\" >22</td>\n",
       "                        <td id=\"T_076c64da_f737_11ea_9d17_8c85903d48d1row3_col3\" class=\"data row3 col3\" >0.021</td>\n",
       "                        <td id=\"T_076c64da_f737_11ea_9d17_8c85903d48d1row3_col4\" class=\"data row3 col4\" >0.078</td>\n",
       "                        <td id=\"T_076c64da_f737_11ea_9d17_8c85903d48d1row3_col5\" class=\"data row3 col5\" >0.051</td>\n",
       "                        <td id=\"T_076c64da_f737_11ea_9d17_8c85903d48d1row3_col6\" class=\"data row3 col6\" >0.025</td>\n",
       "            </tr>\n",
       "            <tr>\n",
       "                        <th id=\"T_076c64da_f737_11ea_9d17_8c85903d48d1level0_row4\" class=\"row_heading level0 row4\" >4</th>\n",
       "                        <td id=\"T_076c64da_f737_11ea_9d17_8c85903d48d1row4_col0\" class=\"data row4 col0\" >SMH 3</td>\n",
       "                        <td id=\"T_076c64da_f737_11ea_9d17_8c85903d48d1row4_col1\" class=\"data row4 col1\" >Moderate</td>\n",
       "                        <td id=\"T_076c64da_f737_11ea_9d17_8c85903d48d1row4_col2\" class=\"data row4 col2\" >26</td>\n",
       "                        <td id=\"T_076c64da_f737_11ea_9d17_8c85903d48d1row4_col3\" class=\"data row4 col3\" >0.065</td>\n",
       "                        <td id=\"T_076c64da_f737_11ea_9d17_8c85903d48d1row4_col4\" class=\"data row4 col4\" >0.082</td>\n",
       "                        <td id=\"T_076c64da_f737_11ea_9d17_8c85903d48d1row4_col5\" class=\"data row4 col5\" >0.055</td>\n",
       "                        <td id=\"T_076c64da_f737_11ea_9d17_8c85903d48d1row4_col6\" class=\"data row4 col6\" >0.026</td>\n",
       "            </tr>\n",
       "            <tr>\n",
       "                        <th id=\"T_076c64da_f737_11ea_9d17_8c85903d48d1level0_row5\" class=\"row_heading level0 row5\" >5</th>\n",
       "                        <td id=\"T_076c64da_f737_11ea_9d17_8c85903d48d1row5_col0\" class=\"data row5 col0\" >SMH 4</td>\n",
       "                        <td id=\"T_076c64da_f737_11ea_9d17_8c85903d48d1row5_col1\" class=\"data row5 col1\" >Hard</td>\n",
       "                        <td id=\"T_076c64da_f737_11ea_9d17_8c85903d48d1row5_col2\" class=\"data row5 col2\" >22</td>\n",
       "                        <td id=\"T_076c64da_f737_11ea_9d17_8c85903d48d1row5_col3\" class=\"data row5 col3\" >0.049</td>\n",
       "                        <td id=\"T_076c64da_f737_11ea_9d17_8c85903d48d1row5_col4\" class=\"data row5 col4\" >1.362</td>\n",
       "                        <td id=\"T_076c64da_f737_11ea_9d17_8c85903d48d1row5_col5\" class=\"data row5 col5\" >0.053</td>\n",
       "                        <td id=\"T_076c64da_f737_11ea_9d17_8c85903d48d1row5_col6\" class=\"data row5 col6\" >0.029</td>\n",
       "            </tr>\n",
       "            <tr>\n",
       "                        <th id=\"T_076c64da_f737_11ea_9d17_8c85903d48d1level0_row6\" class=\"row_heading level0 row6\" >6</th>\n",
       "                        <td id=\"T_076c64da_f737_11ea_9d17_8c85903d48d1row6_col0\" class=\"data row6 col0\" >SMH 5</td>\n",
       "                        <td id=\"T_076c64da_f737_11ea_9d17_8c85903d48d1row6_col1\" class=\"data row6 col1\" >Hard</td>\n",
       "                        <td id=\"T_076c64da_f737_11ea_9d17_8c85903d48d1row6_col2\" class=\"data row6 col2\" >25</td>\n",
       "                        <td id=\"T_076c64da_f737_11ea_9d17_8c85903d48d1row6_col3\" class=\"data row6 col3\" >0.036</td>\n",
       "                        <td id=\"T_076c64da_f737_11ea_9d17_8c85903d48d1row6_col4\" class=\"data row6 col4\" >0.584</td>\n",
       "                        <td id=\"T_076c64da_f737_11ea_9d17_8c85903d48d1row6_col5\" class=\"data row6 col5\" >0.048</td>\n",
       "                        <td id=\"T_076c64da_f737_11ea_9d17_8c85903d48d1row6_col6\" class=\"data row6 col6\" >0.033</td>\n",
       "            </tr>\n",
       "            <tr>\n",
       "                        <th id=\"T_076c64da_f737_11ea_9d17_8c85903d48d1level0_row7\" class=\"row_heading level0 row7\" >7</th>\n",
       "                        <td id=\"T_076c64da_f737_11ea_9d17_8c85903d48d1row7_col0\" class=\"data row7 col0\" >Greg [2017]</td>\n",
       "                        <td id=\"T_076c64da_f737_11ea_9d17_8c85903d48d1row7_col1\" class=\"data row7 col1\" >Hard</td>\n",
       "                        <td id=\"T_076c64da_f737_11ea_9d17_8c85903d48d1row7_col2\" class=\"data row7 col2\" >21</td>\n",
       "                        <td id=\"T_076c64da_f737_11ea_9d17_8c85903d48d1row7_col3\" class=\"data row7 col3\" >0.107</td>\n",
       "                        <td id=\"T_076c64da_f737_11ea_9d17_8c85903d48d1row7_col4\" class=\"data row7 col4\" >0.584</td>\n",
       "                        <td id=\"T_076c64da_f737_11ea_9d17_8c85903d48d1row7_col5\" class=\"data row7 col5\" >0.080</td>\n",
       "                        <td id=\"T_076c64da_f737_11ea_9d17_8c85903d48d1row7_col6\" class=\"data row7 col6\" >0.033</td>\n",
       "            </tr>\n",
       "    </tbody></table>"
      ],
      "text/plain": [
       "<pandas.io.formats.style.Styler at 0x11a48af10>"
      ]
     },
     "execution_count": 19,
     "metadata": {},
     "output_type": "execute_result"
    }
   ],
   "source": [
    "method = 'sat'\n",
    "solver = su.SATSolver()\n",
    "pt.run_tests(solver, method, callback=update_progress)\n",
    "show_results(pt)"
   ]
  },
  {
   "cell_type": "markdown",
   "metadata": {},
   "source": [
    "---\n",
    "\n",
    "# Evaluating the Solution Algorithms\n",
    "\n",
    "## Generating more test data\n",
    "\n",
    "Eventually I found my way to [Peter Norvig's Sudoku Solver](https://norvig.com/sudoku.html). Yes [that Peter Norvig](http://aima.cs.berkeley.edu/). He has a lot more test puzzles that I've added here. His code is clear, elegant, and blistering fast. But then he's the [Director of Research at Google](https://norvig.com/) so I'm trying not to feel bad. :-)\n",
    "\n",
    "First, bit of clean-up of the Notebook environment.\n"
   ]
  },
  {
   "cell_type": "code",
   "execution_count": 20,
   "metadata": {},
   "outputs": [],
   "source": [
    "try:\n",
    "    del df\n",
    "    del pt\n",
    "except:\n",
    "    pass"
   ]
  },
  {
   "cell_type": "markdown",
   "metadata": {},
   "source": [
    "If the test results file exists we'll use the results from earlier. Otherwise, this will re-run all the tests which took ~3.5 hours on my 2017 Macbook Pro (2.3 GHz Intel Core i5)."
   ]
  },
  {
   "cell_type": "code",
   "execution_count": 21,
   "metadata": {},
   "outputs": [
    {
     "name": "stdout",
     "output_type": "stream",
     "text": [
      "Using 124 test cases\n",
      "Read previous test results from sudoku_test_results.pkl from 2020-09-11 18:25:10.473189\n"
     ]
    }
   ],
   "source": [
    "import os.path\n",
    "import datetime\n",
    "\n",
    "TEST_RESULTS = \"sudoku_test_results.pkl\"\n",
    "NUM_SAMPLES = 5\n",
    "\n",
    "pt = pg.PuzzleTester(puzzle_class=su.SudokuPuzzle, test_samples=NUM_SAMPLES)\n",
    "pt.add_testcases([x for x in su.SAMPLE_PUZZLES])\n",
    "pt.add_testcases(pg.from_file(\"data/sudoku_9x9/hardest.txt\", level=\"Hard\"))\n",
    "pt.add_testcases(pg.from_file(\"data/sudoku_9x9/top95.txt\", level=\"Diabolical\"))\n",
    "print(f\"Using {pt.num_testcases()} test cases\")\n",
    "\n",
    "if os.path.isfile(TEST_RESULTS):\n",
    "    df = pd.read_pickle(TEST_RESULTS)\n",
    "    print(f\"Read previous test results from {TEST_RESULTS} from {datetime.datetime.fromtimestamp(os.path.getmtime(TEST_RESULTS))}\")\n",
    "    pt.set_test_results(df.to_dict('list'))\n",
    "\n",
    "else:\n",
    "    print(f\"Generating {TEST_RESULTS} at {datetime.datetime.now()}...\")\n",
    "    for m in su.SOLVERS:\n",
    "        solver = su.SudokuSolver(method=m)\n",
    "        pt.run_tests(solver, m, callback=update_progress)\n",
    "    df = pd.DataFrame(pt.get_test_results())\n",
    "    df.to_pickle(TEST_RESULTS)\n",
    "    print(f\"Saved {TEST_RESULTS} at {datetime.datetime.now()}\")\n"
   ]
  },
  {
   "cell_type": "markdown",
   "metadata": {},
   "source": [
    "## Results summary"
   ]
  },
  {
   "cell_type": "code",
   "execution_count": 22,
   "metadata": {},
   "outputs": [
    {
     "data": {
      "text/html": [
       "<div>\n",
       "<style scoped>\n",
       "    .dataframe tbody tr th:only-of-type {\n",
       "        vertical-align: middle;\n",
       "    }\n",
       "\n",
       "    .dataframe tbody tr th {\n",
       "        vertical-align: top;\n",
       "    }\n",
       "\n",
       "    .dataframe thead th {\n",
       "        text-align: right;\n",
       "    }\n",
       "</style>\n",
       "<table border=\"1\" class=\"dataframe\">\n",
       "  <thead>\n",
       "    <tr style=\"text-align: right;\">\n",
       "      <th></th>\n",
       "      <th>starting_clues</th>\n",
       "      <th>backtracking</th>\n",
       "      <th>constraintpropogation</th>\n",
       "      <th>deductive</th>\n",
       "      <th>sat</th>\n",
       "    </tr>\n",
       "  </thead>\n",
       "  <tbody>\n",
       "    <tr>\n",
       "      <th>count</th>\n",
       "      <td>122.000</td>\n",
       "      <td>122.000</td>\n",
       "      <td>122.000</td>\n",
       "      <td>122.000</td>\n",
       "      <td>122.000</td>\n",
       "    </tr>\n",
       "    <tr>\n",
       "      <th>mean</th>\n",
       "      <td>21.189</td>\n",
       "      <td>46.760</td>\n",
       "      <td>0.564</td>\n",
       "      <td>0.254</td>\n",
       "      <td>0.021</td>\n",
       "    </tr>\n",
       "    <tr>\n",
       "      <th>std</th>\n",
       "      <td>3.402</td>\n",
       "      <td>159.589</td>\n",
       "      <td>1.713</td>\n",
       "      <td>0.761</td>\n",
       "      <td>0.003</td>\n",
       "    </tr>\n",
       "    <tr>\n",
       "      <th>min</th>\n",
       "      <td>17.000</td>\n",
       "      <td>0.006</td>\n",
       "      <td>0.001</td>\n",
       "      <td>0.001</td>\n",
       "      <td>0.018</td>\n",
       "    </tr>\n",
       "    <tr>\n",
       "      <th>25%</th>\n",
       "      <td>17.000</td>\n",
       "      <td>0.308</td>\n",
       "      <td>0.017</td>\n",
       "      <td>0.020</td>\n",
       "      <td>0.019</td>\n",
       "    </tr>\n",
       "    <tr>\n",
       "      <th>50%</th>\n",
       "      <td>22.000</td>\n",
       "      <td>2.086</td>\n",
       "      <td>0.058</td>\n",
       "      <td>0.045</td>\n",
       "      <td>0.020</td>\n",
       "    </tr>\n",
       "    <tr>\n",
       "      <th>75%</th>\n",
       "      <td>23.000</td>\n",
       "      <td>11.893</td>\n",
       "      <td>0.190</td>\n",
       "      <td>0.121</td>\n",
       "      <td>0.023</td>\n",
       "    </tr>\n",
       "    <tr>\n",
       "      <th>max</th>\n",
       "      <td>31.000</td>\n",
       "      <td>1173.908</td>\n",
       "      <td>12.076</td>\n",
       "      <td>5.219</td>\n",
       "      <td>0.043</td>\n",
       "    </tr>\n",
       "  </tbody>\n",
       "</table>\n",
       "</div>"
      ],
      "text/plain": [
       "       starting_clues  backtracking  constraintpropogation  deductive      sat\n",
       "count         122.000       122.000                122.000    122.000  122.000\n",
       "mean           21.189        46.760                  0.564      0.254    0.021\n",
       "std             3.402       159.589                  1.713      0.761    0.003\n",
       "min            17.000         0.006                  0.001      0.001    0.018\n",
       "25%            17.000         0.308                  0.017      0.020    0.019\n",
       "50%            22.000         2.086                  0.058      0.045    0.020\n",
       "75%            23.000        11.893                  0.190      0.121    0.023\n",
       "max            31.000      1173.908                 12.076      5.219    0.043"
      ]
     },
     "execution_count": 22,
     "metadata": {},
     "output_type": "execute_result"
    }
   ],
   "source": [
    "df.describe()"
   ]
  },
  {
   "cell_type": "markdown",
   "metadata": {},
   "source": [
    "Some quick observatiobs:\n",
    "\n",
    "* Backtracking alone is appalling. Look it:\n",
    " * 75% of the test cases are solved in ~0.2 seconds with the constraint propogation solution, but we need ~12 seconds using backtrackng alone.\n",
    " * Mean time is terrible for backtracking alone (~46 seconds).\n",
    " * Standard deviation is wide, because the performance is so variable\n",
    "* The SAT solver is slower than I was expecting, but its performance is also a lot more consistent. That kind of makes sense now because the number of boolean propositions that have to be satisfied for any given puzzle doesn't actually change that much.\n",
    "* Constraint Propogation is the overall best performer, but it seems to pay to try and deduce a few cells first. This makes sense as well, because each cell that can be definitively solved can cut the search space significantly.\n",
    "\n",
    "You can see the variability between the methods better with the following plot."
   ]
  },
  {
   "cell_type": "code",
   "execution_count": 23,
   "metadata": {},
   "outputs": [
    {
     "data": {
      "image/png": "[encoded data removed]",
      "text/plain": [
       "<Figure size 864x432 with 1 Axes>"
      ]
     },
     "metadata": {
      "needs_background": "light"
     },
     "output_type": "display_data"
    }
   ],
   "source": [
    "all_methods = list(pt.get_test_labels())\n",
    "ax = df[all_methods].plot()\n",
    "#ax.set_facecolor(\"#161716\")"
   ]
  },
  {
   "cell_type": "markdown",
   "metadata": {},
   "source": [
    "The scale of backtracking obscures the differences between the other methods. "
   ]
  },
  {
   "cell_type": "code",
   "execution_count": 24,
   "metadata": {},
   "outputs": [
    {
     "data": {
      "image/png": "[encoded data removed]",
      "text/plain": [
       "<Figure size 864x432 with 1 Axes>"
      ]
     },
     "metadata": {
      "needs_background": "light"
     },
     "output_type": "display_data"
    }
   ],
   "source": [
    "all_methods.remove('backtracking')\n",
    "axs = df[all_methods].plot()"
   ]
  },
  {
   "cell_type": "markdown",
   "metadata": {},
   "source": [
    "So this just seems to fit the same pattern, but because constraint propogation dramatically cuts the search space, the performance is generally faster. Those \"spikes\" are where a particular guess turns out to be *really bad* and there is a lot of backtracking to do.\n",
    "\n",
    "You can also see the effect of the deductive solver. By solving a few cells straight away we cut the search space -- but there's still the occassional \"bad guess\" that triggers some backtracking.\n",
    "\n",
    "A better visualisation tool for this kind of data might be a [boxplot](http://vita.had.co.nz/papers/boxplots.pdf)."
   ]
  },
  {
   "cell_type": "code",
   "execution_count": 25,
   "metadata": {},
   "outputs": [
    {
     "data": {
      "image/png": "[encoded data removed]",
      "text/plain": [
       "<Figure size 864x432 with 1 Axes>"
      ]
     },
     "metadata": {
      "needs_background": "light"
     },
     "output_type": "display_data"
    }
   ],
   "source": [
    "ax = df[all_methods].plot(kind='box', patch_artist=True)"
   ]
  },
  {
   "cell_type": "markdown",
   "metadata": {},
   "source": [
    "Above chart shows how the performace of the SAT solver is consistently fast. I admit I don't fully understand the code, since I'm relying on [pycosat](https://pypi.org/project/pycosat/) for the SAT part, and cribbing [implementation details](https://github.com/ContinuumIO/pycosat/blob/master/examples/sudoku.py) from [Ilan Schnell](http://ilan.schnell-web.net/prog/sudoku/) for generating the clauses. The conversion of a puzzle to a set of boolean clauses I eventually understood -- but the actual SAT solution algorithm is confusing me still."
   ]
  },
  {
   "cell_type": "code",
   "execution_count": 26,
   "metadata": {},
   "outputs": [
    {
     "data": {
      "image/png": "[encoded data removed]",
      "text/plain": [
       "<Figure size 864x432 with 1 Axes>"
      ]
     },
     "metadata": {
      "needs_background": "light"
     },
     "output_type": "display_data"
    }
   ],
   "source": [
    "axs = df['sat'].plot(kind=\"box\", notch=True, patch_artist=True)"
   ]
  },
  {
   "cell_type": "markdown",
   "metadata": {},
   "source": [
    "So there is *some* variability in performance, just not a lot. Should also mention that `pycosat` is a wrapper around a C library called PicoSAT, which would be one reason why it's so much faster (that, and about 20 years of academic research on SAT solvers)!"
   ]
  },
  {
   "cell_type": "markdown",
   "metadata": {},
   "source": [
    "# Larger Puzzle Sizes\n",
    "\n",
    "Standard Sudoku is 9x9, but the same rules can apply to 16x16 or 25x25. Let's build up some new test cases.\n"
   ]
  },
  {
   "cell_type": "code",
   "execution_count": 27,
   "metadata": {},
   "outputs": [
    {
     "data": {
      "text/plain": [
       "29"
      ]
     },
     "execution_count": 27,
     "metadata": {},
     "output_type": "execute_result"
    }
   ],
   "source": [
    "big = pg.PuzzleTester(puzzle_class=su.SudokuPuzzle, test_samples=1)\n",
    "big.add_testcases(pg.from_file(\"data/sudoku_9x9/hardest.txt\", level=\"9x9 Hard\"))\n",
    "big.add_testcases(pg.from_file(\"data/sudoku_16x16/easy.txt\", level=\"16x16 Easy\"))\n",
    "#big.add_testcases(pg.from_file(\"data/sudoku_16x16/medium.txt\", level=\"16x16 Medium\"))\n",
    "#big.add_testcases(pg.from_file(\"data/sudoku_16x16/hard.txt\", level=\"16x16 Hard\"))\n",
    "big.add_testcases(pg.from_file(\"data/sudoku_25x25/easy.txt\", level=\"25x25 Easy\"))"
   ]
  },
  {
   "cell_type": "markdown",
   "metadata": {},
   "source": [
    "Some exploratory testing showed that backtracking alone has no hope (unless the puzzle is already 80% solved, which these aren't). So will exclude that method from these tests.\n",
    "\n",
    "Also, running these in \"reverse order\" because the SAT solver is *so* much faster than my lame solo attempts -- it's really impressive to watch. The first time I ran these puzzles it ran for 12 hours without finishing. The deductive solver was stuck on the first puzzle in `sudoky16x16/medium.txt`."
   ]
  },
  {
   "cell_type": "code",
   "execution_count": 28,
   "metadata": {},
   "outputs": [
    {
     "data": {
      "text/html": [
       "<progress style=\"width: 100%\" max=29 value=29>29 out of 29</progress>"
      ],
      "text/plain": [
       "<IPython.core.display.HTML object>"
      ]
     },
     "metadata": {},
     "output_type": "display_data"
    },
    {
     "data": {
      "text/html": [
       "<p>Completed 29 test cases in 18.04 seconds</p>"
      ],
      "text/plain": [
       "<IPython.core.display.HTML object>"
      ]
     },
     "metadata": {},
     "output_type": "display_data"
    },
    {
     "data": {
      "image/png": "[encoded data removed]",
      "text/plain": [
       "<Figure size 864x432 with 1 Axes>"
      ]
     },
     "metadata": {
      "needs_background": "light"
     },
     "output_type": "display_data"
    }
   ],
   "source": [
    "solver = su.SudokuSolver(method='sat')\n",
    "big.run_tests(solver, 'sat', callback=update_progress)\n",
    "bdf = pd.DataFrame(big.get_test_results())\n",
    "axs = bdf['sat'].plot(kind=\"box\", notch=True, patch_artist=True)"
   ]
  },
  {
   "cell_type": "code",
   "execution_count": 29,
   "metadata": {},
   "outputs": [
    {
     "data": {
      "text/html": [
       "<progress style=\"width: 100%\" max=29 value=29>29 out of 29</progress>"
      ],
      "text/plain": [
       "<IPython.core.display.HTML object>"
      ]
     },
     "metadata": {},
     "output_type": "display_data"
    },
    {
     "data": {
      "text/html": [
       "<p>Completed 29 test cases in 11878.34 seconds</p>"
      ],
      "text/plain": [
       "<IPython.core.display.HTML object>"
      ]
     },
     "metadata": {},
     "output_type": "display_data"
    },
    {
     "data": {
      "image/png": "[encoded data removed]",
      "text/plain": [
       "<Figure size 864x432 with 1 Axes>"
      ]
     },
     "metadata": {
      "needs_background": "light"
     },
     "output_type": "display_data"
    }
   ],
   "source": [
    "solver = su.SudokuSolver(method='deductive')\n",
    "big.run_tests(solver, 'deductive', callback=update_progress)\n",
    "bdf = pd.DataFrame(big.get_test_results())\n",
    "axs = bdf[['sat', 'deductive']].plot(kind=\"box\", notch=True, patch_artist=True)"
   ]
  },
  {
   "cell_type": "markdown",
   "metadata": {},
   "source": [
    "Oh...my...gawd...3.2 hours on a single puzzle. That's about how long it takes me to solve a normal Sudoku manually. :)\n"
   ]
  },
  {
   "cell_type": "code",
   "execution_count": 61,
   "metadata": {},
   "outputs": [
    {
     "data": {
      "text/html": [
       "<style  type=\"text/css\" >\n",
       "    #T_8c422f3a_f79d_11ea_9d17_8c85903d48d1row11_col4 {\n",
       "            : ;\n",
       "            : ;\n",
       "            background-color:  green;\n",
       "        }    #T_8c422f3a_f79d_11ea_9d17_8c85903d48d1row16_col4 {\n",
       "            : ;\n",
       "            background-color:  orange;\n",
       "            : ;\n",
       "        }</style><table id=\"T_8c422f3a_f79d_11ea_9d17_8c85903d48d1\" ><thead>    <tr>        <th class=\"blank level0\" ></th>        <th class=\"col_heading level0 col0\" >label</th>        <th class=\"col_heading level0 col1\" >level</th>        <th class=\"col_heading level0 col2\" >starting_clues</th>        <th class=\"col_heading level0 col3\" >sat</th>        <th class=\"col_heading level0 col4\" >deductive</th>    </tr></thead><tbody>\n",
       "                <tr>\n",
       "                        <th id=\"T_8c422f3a_f79d_11ea_9d17_8c85903d48d1level0_row0\" class=\"row_heading level0 row0\" >0</th>\n",
       "                        <td id=\"T_8c422f3a_f79d_11ea_9d17_8c85903d48d1row0_col0\" class=\"data row0 col0\" >data/sudoku_9x9/hardest.txt:1</td>\n",
       "                        <td id=\"T_8c422f3a_f79d_11ea_9d17_8c85903d48d1row0_col1\" class=\"data row0 col1\" >9x9 Hard</td>\n",
       "                        <td id=\"T_8c422f3a_f79d_11ea_9d17_8c85903d48d1row0_col2\" class=\"data row0 col2\" >22</td>\n",
       "                        <td id=\"T_8c422f3a_f79d_11ea_9d17_8c85903d48d1row0_col3\" class=\"data row0 col3\" >0.020</td>\n",
       "                        <td id=\"T_8c422f3a_f79d_11ea_9d17_8c85903d48d1row0_col4\" class=\"data row0 col4\" >0.021</td>\n",
       "            </tr>\n",
       "            <tr>\n",
       "                        <th id=\"T_8c422f3a_f79d_11ea_9d17_8c85903d48d1level0_row1\" class=\"row_heading level0 row1\" >1</th>\n",
       "                        <td id=\"T_8c422f3a_f79d_11ea_9d17_8c85903d48d1row1_col0\" class=\"data row1 col0\" >data/sudoku_9x9/hardest.txt:2</td>\n",
       "                        <td id=\"T_8c422f3a_f79d_11ea_9d17_8c85903d48d1row1_col1\" class=\"data row1 col1\" >9x9 Hard</td>\n",
       "                        <td id=\"T_8c422f3a_f79d_11ea_9d17_8c85903d48d1row1_col2\" class=\"data row1 col2\" >23</td>\n",
       "                        <td id=\"T_8c422f3a_f79d_11ea_9d17_8c85903d48d1row1_col3\" class=\"data row1 col3\" >0.020</td>\n",
       "                        <td id=\"T_8c422f3a_f79d_11ea_9d17_8c85903d48d1row1_col4\" class=\"data row1 col4\" >0.073</td>\n",
       "            </tr>\n",
       "            <tr>\n",
       "                        <th id=\"T_8c422f3a_f79d_11ea_9d17_8c85903d48d1level0_row2\" class=\"row_heading level0 row2\" >2</th>\n",
       "                        <td id=\"T_8c422f3a_f79d_11ea_9d17_8c85903d48d1row2_col0\" class=\"data row2 col0\" >data/sudoku_9x9/hardest.txt:3</td>\n",
       "                        <td id=\"T_8c422f3a_f79d_11ea_9d17_8c85903d48d1row2_col1\" class=\"data row2 col1\" >9x9 Hard</td>\n",
       "                        <td id=\"T_8c422f3a_f79d_11ea_9d17_8c85903d48d1row2_col2\" class=\"data row2 col2\" >26</td>\n",
       "                        <td id=\"T_8c422f3a_f79d_11ea_9d17_8c85903d48d1row2_col3\" class=\"data row2 col3\" >0.021</td>\n",
       "                        <td id=\"T_8c422f3a_f79d_11ea_9d17_8c85903d48d1row2_col4\" class=\"data row2 col4\" >0.028</td>\n",
       "            </tr>\n",
       "            <tr>\n",
       "                        <th id=\"T_8c422f3a_f79d_11ea_9d17_8c85903d48d1level0_row3\" class=\"row_heading level0 row3\" >3</th>\n",
       "                        <td id=\"T_8c422f3a_f79d_11ea_9d17_8c85903d48d1row3_col0\" class=\"data row3 col0\" >data/sudoku_9x9/hardest.txt:4</td>\n",
       "                        <td id=\"T_8c422f3a_f79d_11ea_9d17_8c85903d48d1row3_col1\" class=\"data row3 col1\" >9x9 Hard</td>\n",
       "                        <td id=\"T_8c422f3a_f79d_11ea_9d17_8c85903d48d1row3_col2\" class=\"data row3 col2\" >24</td>\n",
       "                        <td id=\"T_8c422f3a_f79d_11ea_9d17_8c85903d48d1row3_col3\" class=\"data row3 col3\" >0.024</td>\n",
       "                        <td id=\"T_8c422f3a_f79d_11ea_9d17_8c85903d48d1row3_col4\" class=\"data row3 col4\" >0.031</td>\n",
       "            </tr>\n",
       "            <tr>\n",
       "                        <th id=\"T_8c422f3a_f79d_11ea_9d17_8c85903d48d1level0_row4\" class=\"row_heading level0 row4\" >4</th>\n",
       "                        <td id=\"T_8c422f3a_f79d_11ea_9d17_8c85903d48d1row4_col0\" class=\"data row4 col0\" >data/sudoku_9x9/hardest.txt:5</td>\n",
       "                        <td id=\"T_8c422f3a_f79d_11ea_9d17_8c85903d48d1row4_col1\" class=\"data row4 col1\" >9x9 Hard</td>\n",
       "                        <td id=\"T_8c422f3a_f79d_11ea_9d17_8c85903d48d1row4_col2\" class=\"data row4 col2\" >22</td>\n",
       "                        <td id=\"T_8c422f3a_f79d_11ea_9d17_8c85903d48d1row4_col3\" class=\"data row4 col3\" >0.029</td>\n",
       "                        <td id=\"T_8c422f3a_f79d_11ea_9d17_8c85903d48d1row4_col4\" class=\"data row4 col4\" >0.027</td>\n",
       "            </tr>\n",
       "            <tr>\n",
       "                        <th id=\"T_8c422f3a_f79d_11ea_9d17_8c85903d48d1level0_row5\" class=\"row_heading level0 row5\" >5</th>\n",
       "                        <td id=\"T_8c422f3a_f79d_11ea_9d17_8c85903d48d1row5_col0\" class=\"data row5 col0\" >data/sudoku_9x9/hardest.txt:6</td>\n",
       "                        <td id=\"T_8c422f3a_f79d_11ea_9d17_8c85903d48d1row5_col1\" class=\"data row5 col1\" >9x9 Hard</td>\n",
       "                        <td id=\"T_8c422f3a_f79d_11ea_9d17_8c85903d48d1row5_col2\" class=\"data row5 col2\" >23</td>\n",
       "                        <td id=\"T_8c422f3a_f79d_11ea_9d17_8c85903d48d1row5_col3\" class=\"data row5 col3\" >0.020</td>\n",
       "                        <td id=\"T_8c422f3a_f79d_11ea_9d17_8c85903d48d1row5_col4\" class=\"data row5 col4\" >0.020</td>\n",
       "            </tr>\n",
       "            <tr>\n",
       "                        <th id=\"T_8c422f3a_f79d_11ea_9d17_8c85903d48d1level0_row6\" class=\"row_heading level0 row6\" >6</th>\n",
       "                        <td id=\"T_8c422f3a_f79d_11ea_9d17_8c85903d48d1row6_col0\" class=\"data row6 col0\" >data/sudoku_9x9/hardest.txt:7</td>\n",
       "                        <td id=\"T_8c422f3a_f79d_11ea_9d17_8c85903d48d1row6_col1\" class=\"data row6 col1\" >9x9 Hard</td>\n",
       "                        <td id=\"T_8c422f3a_f79d_11ea_9d17_8c85903d48d1row6_col2\" class=\"data row6 col2\" >28</td>\n",
       "                        <td id=\"T_8c422f3a_f79d_11ea_9d17_8c85903d48d1row6_col3\" class=\"data row6 col3\" >0.021</td>\n",
       "                        <td id=\"T_8c422f3a_f79d_11ea_9d17_8c85903d48d1row6_col4\" class=\"data row6 col4\" >0.017</td>\n",
       "            </tr>\n",
       "            <tr>\n",
       "                        <th id=\"T_8c422f3a_f79d_11ea_9d17_8c85903d48d1level0_row7\" class=\"row_heading level0 row7\" >7</th>\n",
       "                        <td id=\"T_8c422f3a_f79d_11ea_9d17_8c85903d48d1row7_col0\" class=\"data row7 col0\" >data/sudoku_9x9/hardest.txt:8</td>\n",
       "                        <td id=\"T_8c422f3a_f79d_11ea_9d17_8c85903d48d1row7_col1\" class=\"data row7 col1\" >9x9 Hard</td>\n",
       "                        <td id=\"T_8c422f3a_f79d_11ea_9d17_8c85903d48d1row7_col2\" class=\"data row7 col2\" >28</td>\n",
       "                        <td id=\"T_8c422f3a_f79d_11ea_9d17_8c85903d48d1row7_col3\" class=\"data row7 col3\" >0.021</td>\n",
       "                        <td id=\"T_8c422f3a_f79d_11ea_9d17_8c85903d48d1row7_col4\" class=\"data row7 col4\" >0.013</td>\n",
       "            </tr>\n",
       "            <tr>\n",
       "                        <th id=\"T_8c422f3a_f79d_11ea_9d17_8c85903d48d1level0_row8\" class=\"row_heading level0 row8\" >8</th>\n",
       "                        <td id=\"T_8c422f3a_f79d_11ea_9d17_8c85903d48d1row8_col0\" class=\"data row8 col0\" >data/sudoku_9x9/hardest.txt:9</td>\n",
       "                        <td id=\"T_8c422f3a_f79d_11ea_9d17_8c85903d48d1row8_col1\" class=\"data row8 col1\" >9x9 Hard</td>\n",
       "                        <td id=\"T_8c422f3a_f79d_11ea_9d17_8c85903d48d1row8_col2\" class=\"data row8 col2\" >24</td>\n",
       "                        <td id=\"T_8c422f3a_f79d_11ea_9d17_8c85903d48d1row8_col3\" class=\"data row8 col3\" >0.021</td>\n",
       "                        <td id=\"T_8c422f3a_f79d_11ea_9d17_8c85903d48d1row8_col4\" class=\"data row8 col4\" >0.015</td>\n",
       "            </tr>\n",
       "            <tr>\n",
       "                        <th id=\"T_8c422f3a_f79d_11ea_9d17_8c85903d48d1level0_row9\" class=\"row_heading level0 row9\" >9</th>\n",
       "                        <td id=\"T_8c422f3a_f79d_11ea_9d17_8c85903d48d1row9_col0\" class=\"data row9 col0\" >data/sudoku_9x9/hardest.txt:10</td>\n",
       "                        <td id=\"T_8c422f3a_f79d_11ea_9d17_8c85903d48d1row9_col1\" class=\"data row9 col1\" >9x9 Hard</td>\n",
       "                        <td id=\"T_8c422f3a_f79d_11ea_9d17_8c85903d48d1row9_col2\" class=\"data row9 col2\" >28</td>\n",
       "                        <td id=\"T_8c422f3a_f79d_11ea_9d17_8c85903d48d1row9_col3\" class=\"data row9 col3\" >0.029</td>\n",
       "                        <td id=\"T_8c422f3a_f79d_11ea_9d17_8c85903d48d1row9_col4\" class=\"data row9 col4\" >0.016</td>\n",
       "            </tr>\n",
       "            <tr>\n",
       "                        <th id=\"T_8c422f3a_f79d_11ea_9d17_8c85903d48d1level0_row10\" class=\"row_heading level0 row10\" >10</th>\n",
       "                        <td id=\"T_8c422f3a_f79d_11ea_9d17_8c85903d48d1row10_col0\" class=\"data row10 col0\" >data/sudoku_9x9/hardest.txt:11</td>\n",
       "                        <td id=\"T_8c422f3a_f79d_11ea_9d17_8c85903d48d1row10_col1\" class=\"data row10 col1\" >9x9 Hard</td>\n",
       "                        <td id=\"T_8c422f3a_f79d_11ea_9d17_8c85903d48d1row10_col2\" class=\"data row10 col2\" >22</td>\n",
       "                        <td id=\"T_8c422f3a_f79d_11ea_9d17_8c85903d48d1row10_col3\" class=\"data row10 col3\" >0.021</td>\n",
       "                        <td id=\"T_8c422f3a_f79d_11ea_9d17_8c85903d48d1row10_col4\" class=\"data row10 col4\" >0.015</td>\n",
       "            </tr>\n",
       "            <tr>\n",
       "                        <th id=\"T_8c422f3a_f79d_11ea_9d17_8c85903d48d1level0_row11\" class=\"row_heading level0 row11\" >11</th>\n",
       "                        <td id=\"T_8c422f3a_f79d_11ea_9d17_8c85903d48d1row11_col0\" class=\"data row11 col0\" >data/sudoku_9x9/hardest.txt:12</td>\n",
       "                        <td id=\"T_8c422f3a_f79d_11ea_9d17_8c85903d48d1row11_col1\" class=\"data row11 col1\" >9x9 Hard</td>\n",
       "                        <td id=\"T_8c422f3a_f79d_11ea_9d17_8c85903d48d1row11_col2\" class=\"data row11 col2\" >39</td>\n",
       "                        <td id=\"T_8c422f3a_f79d_11ea_9d17_8c85903d48d1row11_col3\" class=\"data row11 col3\" >0.022</td>\n",
       "                        <td id=\"T_8c422f3a_f79d_11ea_9d17_8c85903d48d1row11_col4\" class=\"data row11 col4\" >0.005</td>\n",
       "            </tr>\n",
       "            <tr>\n",
       "                        <th id=\"T_8c422f3a_f79d_11ea_9d17_8c85903d48d1level0_row12\" class=\"row_heading level0 row12\" >12</th>\n",
       "                        <td id=\"T_8c422f3a_f79d_11ea_9d17_8c85903d48d1row12_col0\" class=\"data row12 col0\" >data/sudoku_9x9/hardest.txt:13</td>\n",
       "                        <td id=\"T_8c422f3a_f79d_11ea_9d17_8c85903d48d1row12_col1\" class=\"data row12 col1\" >9x9 Hard</td>\n",
       "                        <td id=\"T_8c422f3a_f79d_11ea_9d17_8c85903d48d1row12_col2\" class=\"data row12 col2\" >17</td>\n",
       "                        <td id=\"T_8c422f3a_f79d_11ea_9d17_8c85903d48d1row12_col3\" class=\"data row12 col3\" >0.024</td>\n",
       "                        <td id=\"T_8c422f3a_f79d_11ea_9d17_8c85903d48d1row12_col4\" class=\"data row12 col4\" >0.014</td>\n",
       "            </tr>\n",
       "            <tr>\n",
       "                        <th id=\"T_8c422f3a_f79d_11ea_9d17_8c85903d48d1level0_row13\" class=\"row_heading level0 row13\" >13</th>\n",
       "                        <td id=\"T_8c422f3a_f79d_11ea_9d17_8c85903d48d1row13_col0\" class=\"data row13 col0\" >data/sudoku_16x16/easy.txt:1</td>\n",
       "                        <td id=\"T_8c422f3a_f79d_11ea_9d17_8c85903d48d1row13_col1\" class=\"data row13 col1\" >16x16 Easy</td>\n",
       "                        <td id=\"T_8c422f3a_f79d_11ea_9d17_8c85903d48d1row13_col2\" class=\"data row13 col2\" >102</td>\n",
       "                        <td id=\"T_8c422f3a_f79d_11ea_9d17_8c85903d48d1row13_col3\" class=\"data row13 col3\" >0.274</td>\n",
       "                        <td id=\"T_8c422f3a_f79d_11ea_9d17_8c85903d48d1row13_col4\" class=\"data row13 col4\" >43.843</td>\n",
       "            </tr>\n",
       "            <tr>\n",
       "                        <th id=\"T_8c422f3a_f79d_11ea_9d17_8c85903d48d1level0_row14\" class=\"row_heading level0 row14\" >14</th>\n",
       "                        <td id=\"T_8c422f3a_f79d_11ea_9d17_8c85903d48d1row14_col0\" class=\"data row14 col0\" >data/sudoku_16x16/easy.txt:2</td>\n",
       "                        <td id=\"T_8c422f3a_f79d_11ea_9d17_8c85903d48d1row14_col1\" class=\"data row14 col1\" >16x16 Easy</td>\n",
       "                        <td id=\"T_8c422f3a_f79d_11ea_9d17_8c85903d48d1row14_col2\" class=\"data row14 col2\" >98</td>\n",
       "                        <td id=\"T_8c422f3a_f79d_11ea_9d17_8c85903d48d1row14_col3\" class=\"data row14 col3\" >0.286</td>\n",
       "                        <td id=\"T_8c422f3a_f79d_11ea_9d17_8c85903d48d1row14_col4\" class=\"data row14 col4\" >0.264</td>\n",
       "            </tr>\n",
       "            <tr>\n",
       "                        <th id=\"T_8c422f3a_f79d_11ea_9d17_8c85903d48d1level0_row15\" class=\"row_heading level0 row15\" >15</th>\n",
       "                        <td id=\"T_8c422f3a_f79d_11ea_9d17_8c85903d48d1row15_col0\" class=\"data row15 col0\" >data/sudoku_16x16/easy.txt:3</td>\n",
       "                        <td id=\"T_8c422f3a_f79d_11ea_9d17_8c85903d48d1row15_col1\" class=\"data row15 col1\" >16x16 Easy</td>\n",
       "                        <td id=\"T_8c422f3a_f79d_11ea_9d17_8c85903d48d1row15_col2\" class=\"data row15 col2\" >100</td>\n",
       "                        <td id=\"T_8c422f3a_f79d_11ea_9d17_8c85903d48d1row15_col3\" class=\"data row15 col3\" >0.275</td>\n",
       "                        <td id=\"T_8c422f3a_f79d_11ea_9d17_8c85903d48d1row15_col4\" class=\"data row15 col4\" >0.225</td>\n",
       "            </tr>\n",
       "            <tr>\n",
       "                        <th id=\"T_8c422f3a_f79d_11ea_9d17_8c85903d48d1level0_row16\" class=\"row_heading level0 row16\" >16</th>\n",
       "                        <td id=\"T_8c422f3a_f79d_11ea_9d17_8c85903d48d1row16_col0\" class=\"data row16 col0\" >data/sudoku_16x16/easy.txt:4</td>\n",
       "                        <td id=\"T_8c422f3a_f79d_11ea_9d17_8c85903d48d1row16_col1\" class=\"data row16 col1\" >16x16 Easy</td>\n",
       "                        <td id=\"T_8c422f3a_f79d_11ea_9d17_8c85903d48d1row16_col2\" class=\"data row16 col2\" >97</td>\n",
       "                        <td id=\"T_8c422f3a_f79d_11ea_9d17_8c85903d48d1row16_col3\" class=\"data row16 col3\" >0.284</td>\n",
       "                        <td id=\"T_8c422f3a_f79d_11ea_9d17_8c85903d48d1row16_col4\" class=\"data row16 col4\" >11833.569</td>\n",
       "            </tr>\n",
       "            <tr>\n",
       "                        <th id=\"T_8c422f3a_f79d_11ea_9d17_8c85903d48d1level0_row17\" class=\"row_heading level0 row17\" >17</th>\n",
       "                        <td id=\"T_8c422f3a_f79d_11ea_9d17_8c85903d48d1row17_col0\" class=\"data row17 col0\" >data/sudoku_25x25/easy.txt:1</td>\n",
       "                        <td id=\"T_8c422f3a_f79d_11ea_9d17_8c85903d48d1row17_col1\" class=\"data row17 col1\" >25x25 Easy</td>\n",
       "                        <td id=\"T_8c422f3a_f79d_11ea_9d17_8c85903d48d1row17_col2\" class=\"data row17 col2\" >354</td>\n",
       "                        <td id=\"T_8c422f3a_f79d_11ea_9d17_8c85903d48d1row17_col3\" class=\"data row17 col3\" >1.378</td>\n",
       "                        <td id=\"T_8c422f3a_f79d_11ea_9d17_8c85903d48d1row17_col4\" class=\"data row17 col4\" >0.013</td>\n",
       "            </tr>\n",
       "            <tr>\n",
       "                        <th id=\"T_8c422f3a_f79d_11ea_9d17_8c85903d48d1level0_row18\" class=\"row_heading level0 row18\" >18</th>\n",
       "                        <td id=\"T_8c422f3a_f79d_11ea_9d17_8c85903d48d1row18_col0\" class=\"data row18 col0\" >data/sudoku_25x25/easy.txt:2</td>\n",
       "                        <td id=\"T_8c422f3a_f79d_11ea_9d17_8c85903d48d1row18_col1\" class=\"data row18 col1\" >25x25 Easy</td>\n",
       "                        <td id=\"T_8c422f3a_f79d_11ea_9d17_8c85903d48d1row18_col2\" class=\"data row18 col2\" >350</td>\n",
       "                        <td id=\"T_8c422f3a_f79d_11ea_9d17_8c85903d48d1row18_col3\" class=\"data row18 col3\" >1.425</td>\n",
       "                        <td id=\"T_8c422f3a_f79d_11ea_9d17_8c85903d48d1row18_col4\" class=\"data row18 col4\" >0.011</td>\n",
       "            </tr>\n",
       "            <tr>\n",
       "                        <th id=\"T_8c422f3a_f79d_11ea_9d17_8c85903d48d1level0_row19\" class=\"row_heading level0 row19\" >19</th>\n",
       "                        <td id=\"T_8c422f3a_f79d_11ea_9d17_8c85903d48d1row19_col0\" class=\"data row19 col0\" >data/sudoku_25x25/easy.txt:3</td>\n",
       "                        <td id=\"T_8c422f3a_f79d_11ea_9d17_8c85903d48d1row19_col1\" class=\"data row19 col1\" >25x25 Easy</td>\n",
       "                        <td id=\"T_8c422f3a_f79d_11ea_9d17_8c85903d48d1row19_col2\" class=\"data row19 col2\" >346</td>\n",
       "                        <td id=\"T_8c422f3a_f79d_11ea_9d17_8c85903d48d1row19_col3\" class=\"data row19 col3\" >1.338</td>\n",
       "                        <td id=\"T_8c422f3a_f79d_11ea_9d17_8c85903d48d1row19_col4\" class=\"data row19 col4\" >0.011</td>\n",
       "            </tr>\n",
       "            <tr>\n",
       "                        <th id=\"T_8c422f3a_f79d_11ea_9d17_8c85903d48d1level0_row20\" class=\"row_heading level0 row20\" >20</th>\n",
       "                        <td id=\"T_8c422f3a_f79d_11ea_9d17_8c85903d48d1row20_col0\" class=\"data row20 col0\" >data/sudoku_25x25/easy.txt:4</td>\n",
       "                        <td id=\"T_8c422f3a_f79d_11ea_9d17_8c85903d48d1row20_col1\" class=\"data row20 col1\" >25x25 Easy</td>\n",
       "                        <td id=\"T_8c422f3a_f79d_11ea_9d17_8c85903d48d1row20_col2\" class=\"data row20 col2\" >355</td>\n",
       "                        <td id=\"T_8c422f3a_f79d_11ea_9d17_8c85903d48d1row20_col3\" class=\"data row20 col3\" >1.358</td>\n",
       "                        <td id=\"T_8c422f3a_f79d_11ea_9d17_8c85903d48d1row20_col4\" class=\"data row20 col4\" >0.014</td>\n",
       "            </tr>\n",
       "            <tr>\n",
       "                        <th id=\"T_8c422f3a_f79d_11ea_9d17_8c85903d48d1level0_row21\" class=\"row_heading level0 row21\" >21</th>\n",
       "                        <td id=\"T_8c422f3a_f79d_11ea_9d17_8c85903d48d1row21_col0\" class=\"data row21 col0\" >data/sudoku_25x25/easy.txt:5</td>\n",
       "                        <td id=\"T_8c422f3a_f79d_11ea_9d17_8c85903d48d1row21_col1\" class=\"data row21 col1\" >25x25 Easy</td>\n",
       "                        <td id=\"T_8c422f3a_f79d_11ea_9d17_8c85903d48d1row21_col2\" class=\"data row21 col2\" >346</td>\n",
       "                        <td id=\"T_8c422f3a_f79d_11ea_9d17_8c85903d48d1row21_col3\" class=\"data row21 col3\" >1.344</td>\n",
       "                        <td id=\"T_8c422f3a_f79d_11ea_9d17_8c85903d48d1row21_col4\" class=\"data row21 col4\" >0.012</td>\n",
       "            </tr>\n",
       "            <tr>\n",
       "                        <th id=\"T_8c422f3a_f79d_11ea_9d17_8c85903d48d1level0_row22\" class=\"row_heading level0 row22\" >22</th>\n",
       "                        <td id=\"T_8c422f3a_f79d_11ea_9d17_8c85903d48d1row22_col0\" class=\"data row22 col0\" >data/sudoku_25x25/easy.txt:6</td>\n",
       "                        <td id=\"T_8c422f3a_f79d_11ea_9d17_8c85903d48d1row22_col1\" class=\"data row22 col1\" >25x25 Easy</td>\n",
       "                        <td id=\"T_8c422f3a_f79d_11ea_9d17_8c85903d48d1row22_col2\" class=\"data row22 col2\" >349</td>\n",
       "                        <td id=\"T_8c422f3a_f79d_11ea_9d17_8c85903d48d1row22_col3\" class=\"data row22 col3\" >1.362</td>\n",
       "                        <td id=\"T_8c422f3a_f79d_11ea_9d17_8c85903d48d1row22_col4\" class=\"data row22 col4\" >0.011</td>\n",
       "            </tr>\n",
       "            <tr>\n",
       "                        <th id=\"T_8c422f3a_f79d_11ea_9d17_8c85903d48d1level0_row23\" class=\"row_heading level0 row23\" >23</th>\n",
       "                        <td id=\"T_8c422f3a_f79d_11ea_9d17_8c85903d48d1row23_col0\" class=\"data row23 col0\" >data/sudoku_25x25/easy.txt:7</td>\n",
       "                        <td id=\"T_8c422f3a_f79d_11ea_9d17_8c85903d48d1row23_col1\" class=\"data row23 col1\" >25x25 Easy</td>\n",
       "                        <td id=\"T_8c422f3a_f79d_11ea_9d17_8c85903d48d1row23_col2\" class=\"data row23 col2\" >345</td>\n",
       "                        <td id=\"T_8c422f3a_f79d_11ea_9d17_8c85903d48d1row23_col3\" class=\"data row23 col3\" >1.319</td>\n",
       "                        <td id=\"T_8c422f3a_f79d_11ea_9d17_8c85903d48d1row23_col4\" class=\"data row23 col4\" >0.013</td>\n",
       "            </tr>\n",
       "            <tr>\n",
       "                        <th id=\"T_8c422f3a_f79d_11ea_9d17_8c85903d48d1level0_row24\" class=\"row_heading level0 row24\" >24</th>\n",
       "                        <td id=\"T_8c422f3a_f79d_11ea_9d17_8c85903d48d1row24_col0\" class=\"data row24 col0\" >data/sudoku_25x25/easy.txt:8</td>\n",
       "                        <td id=\"T_8c422f3a_f79d_11ea_9d17_8c85903d48d1row24_col1\" class=\"data row24 col1\" >25x25 Easy</td>\n",
       "                        <td id=\"T_8c422f3a_f79d_11ea_9d17_8c85903d48d1row24_col2\" class=\"data row24 col2\" >344</td>\n",
       "                        <td id=\"T_8c422f3a_f79d_11ea_9d17_8c85903d48d1row24_col3\" class=\"data row24 col3\" >1.465</td>\n",
       "                        <td id=\"T_8c422f3a_f79d_11ea_9d17_8c85903d48d1row24_col4\" class=\"data row24 col4\" >0.011</td>\n",
       "            </tr>\n",
       "            <tr>\n",
       "                        <th id=\"T_8c422f3a_f79d_11ea_9d17_8c85903d48d1level0_row25\" class=\"row_heading level0 row25\" >25</th>\n",
       "                        <td id=\"T_8c422f3a_f79d_11ea_9d17_8c85903d48d1row25_col0\" class=\"data row25 col0\" >data/sudoku_25x25/easy.txt:9</td>\n",
       "                        <td id=\"T_8c422f3a_f79d_11ea_9d17_8c85903d48d1row25_col1\" class=\"data row25 col1\" >25x25 Easy</td>\n",
       "                        <td id=\"T_8c422f3a_f79d_11ea_9d17_8c85903d48d1row25_col2\" class=\"data row25 col2\" >352</td>\n",
       "                        <td id=\"T_8c422f3a_f79d_11ea_9d17_8c85903d48d1row25_col3\" class=\"data row25 col3\" >1.446</td>\n",
       "                        <td id=\"T_8c422f3a_f79d_11ea_9d17_8c85903d48d1row25_col4\" class=\"data row25 col4\" >0.017</td>\n",
       "            </tr>\n",
       "            <tr>\n",
       "                        <th id=\"T_8c422f3a_f79d_11ea_9d17_8c85903d48d1level0_row26\" class=\"row_heading level0 row26\" >26</th>\n",
       "                        <td id=\"T_8c422f3a_f79d_11ea_9d17_8c85903d48d1row26_col0\" class=\"data row26 col0\" >data/sudoku_25x25/easy.txt:10</td>\n",
       "                        <td id=\"T_8c422f3a_f79d_11ea_9d17_8c85903d48d1row26_col1\" class=\"data row26 col1\" >25x25 Easy</td>\n",
       "                        <td id=\"T_8c422f3a_f79d_11ea_9d17_8c85903d48d1row26_col2\" class=\"data row26 col2\" >345</td>\n",
       "                        <td id=\"T_8c422f3a_f79d_11ea_9d17_8c85903d48d1row26_col3\" class=\"data row26 col3\" >1.542</td>\n",
       "                        <td id=\"T_8c422f3a_f79d_11ea_9d17_8c85903d48d1row26_col4\" class=\"data row26 col4\" >0.011</td>\n",
       "            </tr>\n",
       "            <tr>\n",
       "                        <th id=\"T_8c422f3a_f79d_11ea_9d17_8c85903d48d1level0_row27\" class=\"row_heading level0 row27\" >27</th>\n",
       "                        <td id=\"T_8c422f3a_f79d_11ea_9d17_8c85903d48d1row27_col0\" class=\"data row27 col0\" >data/sudoku_25x25/easy.txt:11</td>\n",
       "                        <td id=\"T_8c422f3a_f79d_11ea_9d17_8c85903d48d1row27_col1\" class=\"data row27 col1\" >25x25 Easy</td>\n",
       "                        <td id=\"T_8c422f3a_f79d_11ea_9d17_8c85903d48d1row27_col2\" class=\"data row27 col2\" >359</td>\n",
       "                        <td id=\"T_8c422f3a_f79d_11ea_9d17_8c85903d48d1row27_col3\" class=\"data row27 col3\" >1.237</td>\n",
       "                        <td id=\"T_8c422f3a_f79d_11ea_9d17_8c85903d48d1row27_col4\" class=\"data row27 col4\" >0.011</td>\n",
       "            </tr>\n",
       "            <tr>\n",
       "                        <th id=\"T_8c422f3a_f79d_11ea_9d17_8c85903d48d1level0_row28\" class=\"row_heading level0 row28\" >28</th>\n",
       "                        <td id=\"T_8c422f3a_f79d_11ea_9d17_8c85903d48d1row28_col0\" class=\"data row28 col0\" >data/sudoku_25x25/easy.txt:12</td>\n",
       "                        <td id=\"T_8c422f3a_f79d_11ea_9d17_8c85903d48d1row28_col1\" class=\"data row28 col1\" >25x25 Easy</td>\n",
       "                        <td id=\"T_8c422f3a_f79d_11ea_9d17_8c85903d48d1row28_col2\" class=\"data row28 col2\" >345</td>\n",
       "                        <td id=\"T_8c422f3a_f79d_11ea_9d17_8c85903d48d1row28_col3\" class=\"data row28 col3\" >1.413</td>\n",
       "                        <td id=\"T_8c422f3a_f79d_11ea_9d17_8c85903d48d1row28_col4\" class=\"data row28 col4\" >0.012</td>\n",
       "            </tr>\n",
       "    </tbody></table>"
      ],
      "text/plain": [
       "<pandas.io.formats.style.Styler at 0x108f4f5d0>"
      ]
     },
     "execution_count": 61,
     "metadata": {},
     "output_type": "execute_result"
    }
   ],
   "source": [
    "show_results(big) #bdf.sort_values(by='deductive', ascending=False).head(n=20))"
   ]
  },
  {
   "cell_type": "markdown",
   "metadata": {},
   "source": [
    "---\n",
    "\n",
    "# Diversions\n",
    "\n",
    "Went down a few rabbit holes doing this...\n",
    "\n",
    "## Diversion #1: Variability in performance on the *same* puzzle\n",
    "\n",
    "Started looking at constrint propogation performance in more detail. The majority of the test puzzles are solved in < ~ 0.2 seconds, however there are some that take longer, up to a maxiumum of 12 seconds."
   ]
  },
  {
   "cell_type": "code",
   "execution_count": 30,
   "metadata": {},
   "outputs": [
    {
     "data": {
      "image/png": "[encoded data removed]",
      "text/plain": [
       "<Figure size 864x432 with 1 Axes>"
      ]
     },
     "metadata": {
      "needs_background": "light"
     },
     "output_type": "display_data"
    }
   ],
   "source": [
    "method = 'constraintpropogation'\n",
    "axs = df.sort_values(by=method)[[method]].plot(kind='bar')\n",
    "axs.xaxis.label.set_visible(False)\n",
    "axs.xaxis.set_ticks([])\n",
    "plt.show()"
   ]
  },
  {
   "cell_type": "markdown",
   "metadata": {},
   "source": [
    "Let's take a look at those puzzles that take so much longer to solve and see if we can work out what's happening there."
   ]
  },
  {
   "cell_type": "code",
   "execution_count": 31,
   "metadata": {},
   "outputs": [
    {
     "data": {
      "text/html": [
       "<style  type=\"text/css\" >\n",
       "    #T_bba43700_f752_11ea_9d17_8c85903d48d1row0_col4 {\n",
       "            : ;\n",
       "            width:  10em;\n",
       "             height:  80%;\n",
       "            background:  linear-gradient(90deg,orange 100.0%, transparent 100.0%);\n",
       "        }    #T_bba43700_f752_11ea_9d17_8c85903d48d1row1_col4 {\n",
       "            : ;\n",
       "            width:  10em;\n",
       "             height:  80%;\n",
       "            background:  linear-gradient(90deg,orange 92.0%, transparent 92.0%);\n",
       "        }    #T_bba43700_f752_11ea_9d17_8c85903d48d1row2_col4 {\n",
       "            : ;\n",
       "            width:  10em;\n",
       "             height:  80%;\n",
       "            background:  linear-gradient(90deg,orange 36.1%, transparent 36.1%);\n",
       "        }    #T_bba43700_f752_11ea_9d17_8c85903d48d1row3_col0 {\n",
       "            background-color:  yellow;\n",
       "             color:  black;\n",
       "        }    #T_bba43700_f752_11ea_9d17_8c85903d48d1row3_col1 {\n",
       "            background-color:  yellow;\n",
       "             color:  black;\n",
       "        }    #T_bba43700_f752_11ea_9d17_8c85903d48d1row3_col2 {\n",
       "            background-color:  yellow;\n",
       "             color:  black;\n",
       "        }    #T_bba43700_f752_11ea_9d17_8c85903d48d1row3_col3 {\n",
       "            background-color:  yellow;\n",
       "             color:  black;\n",
       "        }    #T_bba43700_f752_11ea_9d17_8c85903d48d1row3_col4 {\n",
       "            background-color:  yellow;\n",
       "             color:  black;\n",
       "            width:  10em;\n",
       "             height:  80%;\n",
       "            background:  linear-gradient(90deg,orange 35.8%, transparent 35.8%);\n",
       "        }    #T_bba43700_f752_11ea_9d17_8c85903d48d1row3_col5 {\n",
       "            background-color:  yellow;\n",
       "             color:  black;\n",
       "        }    #T_bba43700_f752_11ea_9d17_8c85903d48d1row3_col6 {\n",
       "            background-color:  yellow;\n",
       "             color:  black;\n",
       "        }    #T_bba43700_f752_11ea_9d17_8c85903d48d1row4_col4 {\n",
       "            : ;\n",
       "            width:  10em;\n",
       "             height:  80%;\n",
       "            background:  linear-gradient(90deg,orange 30.3%, transparent 30.3%);\n",
       "        }    #T_bba43700_f752_11ea_9d17_8c85903d48d1row5_col4 {\n",
       "            : ;\n",
       "            width:  10em;\n",
       "             height:  80%;\n",
       "            background:  linear-gradient(90deg,orange 26.7%, transparent 26.7%);\n",
       "        }    #T_bba43700_f752_11ea_9d17_8c85903d48d1row6_col4 {\n",
       "            : ;\n",
       "            width:  10em;\n",
       "             height:  80%;\n",
       "            background:  linear-gradient(90deg,orange 23.4%, transparent 23.4%);\n",
       "        }    #T_bba43700_f752_11ea_9d17_8c85903d48d1row7_col0 {\n",
       "            background-color:  yellow;\n",
       "             color:  black;\n",
       "        }    #T_bba43700_f752_11ea_9d17_8c85903d48d1row7_col1 {\n",
       "            background-color:  yellow;\n",
       "             color:  black;\n",
       "        }    #T_bba43700_f752_11ea_9d17_8c85903d48d1row7_col2 {\n",
       "            background-color:  yellow;\n",
       "             color:  black;\n",
       "        }    #T_bba43700_f752_11ea_9d17_8c85903d48d1row7_col3 {\n",
       "            background-color:  yellow;\n",
       "             color:  black;\n",
       "        }    #T_bba43700_f752_11ea_9d17_8c85903d48d1row7_col4 {\n",
       "            background-color:  yellow;\n",
       "             color:  black;\n",
       "            width:  10em;\n",
       "             height:  80%;\n",
       "            background:  linear-gradient(90deg,orange 21.8%, transparent 21.8%);\n",
       "        }    #T_bba43700_f752_11ea_9d17_8c85903d48d1row7_col5 {\n",
       "            background-color:  yellow;\n",
       "             color:  black;\n",
       "        }    #T_bba43700_f752_11ea_9d17_8c85903d48d1row7_col6 {\n",
       "            background-color:  yellow;\n",
       "             color:  black;\n",
       "        }    #T_bba43700_f752_11ea_9d17_8c85903d48d1row8_col4 {\n",
       "            : ;\n",
       "            width:  10em;\n",
       "             height:  80%;\n",
       "            background:  linear-gradient(90deg,orange 15.6%, transparent 15.6%);\n",
       "        }    #T_bba43700_f752_11ea_9d17_8c85903d48d1row9_col4 {\n",
       "            : ;\n",
       "            width:  10em;\n",
       "             height:  80%;\n",
       "            background:  linear-gradient(90deg,orange 13.3%, transparent 13.3%);\n",
       "        }    #T_bba43700_f752_11ea_9d17_8c85903d48d1row10_col4 {\n",
       "            : ;\n",
       "            width:  10em;\n",
       "             height:  80%;\n",
       "            background:  linear-gradient(90deg,orange 13.3%, transparent 13.3%);\n",
       "        }    #T_bba43700_f752_11ea_9d17_8c85903d48d1row11_col4 {\n",
       "            : ;\n",
       "            width:  10em;\n",
       "             height:  80%;\n",
       "            background:  linear-gradient(90deg,orange 3.4%, transparent 3.4%);\n",
       "        }    #T_bba43700_f752_11ea_9d17_8c85903d48d1row12_col4 {\n",
       "            : ;\n",
       "            width:  10em;\n",
       "             height:  80%;\n",
       "            background:  linear-gradient(90deg,orange 0.5%, transparent 0.5%);\n",
       "        }    #T_bba43700_f752_11ea_9d17_8c85903d48d1row13_col4 {\n",
       "            : ;\n",
       "            width:  10em;\n",
       "             height:  80%;\n",
       "            background:  linear-gradient(90deg,orange 0.4%, transparent 0.4%);\n",
       "        }    #T_bba43700_f752_11ea_9d17_8c85903d48d1row14_col4 {\n",
       "            : ;\n",
       "            width:  10em;\n",
       "             height:  80%;\n",
       "        }</style><table id=\"T_bba43700_f752_11ea_9d17_8c85903d48d1\" ><thead>    <tr>        <th class=\"blank level0\" ></th>        <th class=\"col_heading level0 col0\" >label</th>        <th class=\"col_heading level0 col1\" >level</th>        <th class=\"col_heading level0 col2\" >starting_clues</th>        <th class=\"col_heading level0 col3\" >backtracking</th>        <th class=\"col_heading level0 col4\" >constraintpropogation</th>        <th class=\"col_heading level0 col5\" >deductive</th>        <th class=\"col_heading level0 col6\" >sat</th>    </tr></thead><tbody>\n",
       "                <tr>\n",
       "                        <th id=\"T_bba43700_f752_11ea_9d17_8c85903d48d1level0_row0\" class=\"row_heading level0 row0\" >54</th>\n",
       "                        <td id=\"T_bba43700_f752_11ea_9d17_8c85903d48d1row0_col0\" class=\"data row0 col0\" >data/top95.txt:28</td>\n",
       "                        <td id=\"T_bba43700_f752_11ea_9d17_8c85903d48d1row0_col1\" class=\"data row0 col1\" >Diabolical</td>\n",
       "                        <td id=\"T_bba43700_f752_11ea_9d17_8c85903d48d1row0_col2\" class=\"data row0 col2\" >17</td>\n",
       "                        <td id=\"T_bba43700_f752_11ea_9d17_8c85903d48d1row0_col3\" class=\"data row0 col3\" >17.757</td>\n",
       "                        <td id=\"T_bba43700_f752_11ea_9d17_8c85903d48d1row0_col4\" class=\"data row0 col4\" >12.076</td>\n",
       "                        <td id=\"T_bba43700_f752_11ea_9d17_8c85903d48d1row0_col5\" class=\"data row0 col5\" >0.063</td>\n",
       "                        <td id=\"T_bba43700_f752_11ea_9d17_8c85903d48d1row0_col6\" class=\"data row0 col6\" >0.025</td>\n",
       "            </tr>\n",
       "            <tr>\n",
       "                        <th id=\"T_bba43700_f752_11ea_9d17_8c85903d48d1level0_row1\" class=\"row_heading level0 row1\" >44</th>\n",
       "                        <td id=\"T_bba43700_f752_11ea_9d17_8c85903d48d1row1_col0\" class=\"data row1 col0\" >data/top95.txt:18</td>\n",
       "                        <td id=\"T_bba43700_f752_11ea_9d17_8c85903d48d1row1_col1\" class=\"data row1 col1\" >Diabolical</td>\n",
       "                        <td id=\"T_bba43700_f752_11ea_9d17_8c85903d48d1row1_col2\" class=\"data row1 col2\" >17</td>\n",
       "                        <td id=\"T_bba43700_f752_11ea_9d17_8c85903d48d1row1_col3\" class=\"data row1 col3\" >56.354</td>\n",
       "                        <td id=\"T_bba43700_f752_11ea_9d17_8c85903d48d1row1_col4\" class=\"data row1 col4\" >11.171</td>\n",
       "                        <td id=\"T_bba43700_f752_11ea_9d17_8c85903d48d1row1_col5\" class=\"data row1 col5\" >2.268</td>\n",
       "                        <td id=\"T_bba43700_f752_11ea_9d17_8c85903d48d1row1_col6\" class=\"data row1 col6\" >0.020</td>\n",
       "            </tr>\n",
       "            <tr>\n",
       "                        <th id=\"T_bba43700_f752_11ea_9d17_8c85903d48d1level0_row2\" class=\"row_heading level0 row2\" >67</th>\n",
       "                        <td id=\"T_bba43700_f752_11ea_9d17_8c85903d48d1row2_col0\" class=\"data row2 col0\" >data/top95.txt:41</td>\n",
       "                        <td id=\"T_bba43700_f752_11ea_9d17_8c85903d48d1row2_col1\" class=\"data row2 col1\" >Diabolical</td>\n",
       "                        <td id=\"T_bba43700_f752_11ea_9d17_8c85903d48d1row2_col2\" class=\"data row2 col2\" >17</td>\n",
       "                        <td id=\"T_bba43700_f752_11ea_9d17_8c85903d48d1row2_col3\" class=\"data row2 col3\" >1173.908</td>\n",
       "                        <td id=\"T_bba43700_f752_11ea_9d17_8c85903d48d1row2_col4\" class=\"data row2 col4\" >4.840</td>\n",
       "                        <td id=\"T_bba43700_f752_11ea_9d17_8c85903d48d1row2_col5\" class=\"data row2 col5\" >3.015</td>\n",
       "                        <td id=\"T_bba43700_f752_11ea_9d17_8c85903d48d1row2_col6\" class=\"data row2 col6\" >0.021</td>\n",
       "            </tr>\n",
       "            <tr>\n",
       "                        <th id=\"T_bba43700_f752_11ea_9d17_8c85903d48d1level0_row3\" class=\"row_heading level0 row3\" >33</th>\n",
       "                        <td id=\"T_bba43700_f752_11ea_9d17_8c85903d48d1row3_col0\" class=\"data row3 col0\" >data/top95.txt:7</td>\n",
       "                        <td id=\"T_bba43700_f752_11ea_9d17_8c85903d48d1row3_col1\" class=\"data row3 col1\" >Diabolical</td>\n",
       "                        <td id=\"T_bba43700_f752_11ea_9d17_8c85903d48d1row3_col2\" class=\"data row3 col2\" >17</td>\n",
       "                        <td id=\"T_bba43700_f752_11ea_9d17_8c85903d48d1row3_col3\" class=\"data row3 col3\" >1.697</td>\n",
       "                        <td id=\"T_bba43700_f752_11ea_9d17_8c85903d48d1row3_col4\" class=\"data row3 col4\" >4.804</td>\n",
       "                        <td id=\"T_bba43700_f752_11ea_9d17_8c85903d48d1row3_col5\" class=\"data row3 col5\" >1.025</td>\n",
       "                        <td id=\"T_bba43700_f752_11ea_9d17_8c85903d48d1row3_col6\" class=\"data row3 col6\" >0.026</td>\n",
       "            </tr>\n",
       "            <tr>\n",
       "                        <th id=\"T_bba43700_f752_11ea_9d17_8c85903d48d1level0_row4\" class=\"row_heading level0 row4\" >47</th>\n",
       "                        <td id=\"T_bba43700_f752_11ea_9d17_8c85903d48d1row4_col0\" class=\"data row4 col0\" >data/top95.txt:21</td>\n",
       "                        <td id=\"T_bba43700_f752_11ea_9d17_8c85903d48d1row4_col1\" class=\"data row4 col1\" >Diabolical</td>\n",
       "                        <td id=\"T_bba43700_f752_11ea_9d17_8c85903d48d1row4_col2\" class=\"data row4 col2\" >17</td>\n",
       "                        <td id=\"T_bba43700_f752_11ea_9d17_8c85903d48d1row4_col3\" class=\"data row4 col3\" >43.075</td>\n",
       "                        <td id=\"T_bba43700_f752_11ea_9d17_8c85903d48d1row4_col4\" class=\"data row4 col4\" >4.180</td>\n",
       "                        <td id=\"T_bba43700_f752_11ea_9d17_8c85903d48d1row4_col5\" class=\"data row4 col5\" >2.395</td>\n",
       "                        <td id=\"T_bba43700_f752_11ea_9d17_8c85903d48d1row4_col6\" class=\"data row4 col6\" >0.020</td>\n",
       "            </tr>\n",
       "            <tr>\n",
       "                        <th id=\"T_bba43700_f752_11ea_9d17_8c85903d48d1level0_row5\" class=\"row_heading level0 row5\" >34</th>\n",
       "                        <td id=\"T_bba43700_f752_11ea_9d17_8c85903d48d1row5_col0\" class=\"data row5 col0\" >data/top95.txt:8</td>\n",
       "                        <td id=\"T_bba43700_f752_11ea_9d17_8c85903d48d1row5_col1\" class=\"data row5 col1\" >Diabolical</td>\n",
       "                        <td id=\"T_bba43700_f752_11ea_9d17_8c85903d48d1row5_col2\" class=\"data row5 col2\" >17</td>\n",
       "                        <td id=\"T_bba43700_f752_11ea_9d17_8c85903d48d1row5_col3\" class=\"data row5 col3\" >113.328</td>\n",
       "                        <td id=\"T_bba43700_f752_11ea_9d17_8c85903d48d1row5_col4\" class=\"data row5 col4\" >3.775</td>\n",
       "                        <td id=\"T_bba43700_f752_11ea_9d17_8c85903d48d1row5_col5\" class=\"data row5 col5\" >4.442</td>\n",
       "                        <td id=\"T_bba43700_f752_11ea_9d17_8c85903d48d1row5_col6\" class=\"data row5 col6\" >0.022</td>\n",
       "            </tr>\n",
       "            <tr>\n",
       "                        <th id=\"T_bba43700_f752_11ea_9d17_8c85903d48d1level0_row6\" class=\"row_heading level0 row6\" >36</th>\n",
       "                        <td id=\"T_bba43700_f752_11ea_9d17_8c85903d48d1row6_col0\" class=\"data row6 col0\" >data/top95.txt:10</td>\n",
       "                        <td id=\"T_bba43700_f752_11ea_9d17_8c85903d48d1row6_col1\" class=\"data row6 col1\" >Diabolical</td>\n",
       "                        <td id=\"T_bba43700_f752_11ea_9d17_8c85903d48d1row6_col2\" class=\"data row6 col2\" >17</td>\n",
       "                        <td id=\"T_bba43700_f752_11ea_9d17_8c85903d48d1row6_col3\" class=\"data row6 col3\" >108.590</td>\n",
       "                        <td id=\"T_bba43700_f752_11ea_9d17_8c85903d48d1row6_col4\" class=\"data row6 col4\" >3.400</td>\n",
       "                        <td id=\"T_bba43700_f752_11ea_9d17_8c85903d48d1row6_col5\" class=\"data row6 col5\" >5.219</td>\n",
       "                        <td id=\"T_bba43700_f752_11ea_9d17_8c85903d48d1row6_col6\" class=\"data row6 col6\" >0.019</td>\n",
       "            </tr>\n",
       "            <tr>\n",
       "                        <th id=\"T_bba43700_f752_11ea_9d17_8c85903d48d1level0_row7\" class=\"row_heading level0 row7\" >35</th>\n",
       "                        <td id=\"T_bba43700_f752_11ea_9d17_8c85903d48d1row7_col0\" class=\"data row7 col0\" >data/top95.txt:9</td>\n",
       "                        <td id=\"T_bba43700_f752_11ea_9d17_8c85903d48d1row7_col1\" class=\"data row7 col1\" >Diabolical</td>\n",
       "                        <td id=\"T_bba43700_f752_11ea_9d17_8c85903d48d1row7_col2\" class=\"data row7 col2\" >17</td>\n",
       "                        <td id=\"T_bba43700_f752_11ea_9d17_8c85903d48d1row7_col3\" class=\"data row7 col3\" >1.691</td>\n",
       "                        <td id=\"T_bba43700_f752_11ea_9d17_8c85903d48d1row7_col4\" class=\"data row7 col4\" >3.226</td>\n",
       "                        <td id=\"T_bba43700_f752_11ea_9d17_8c85903d48d1row7_col5\" class=\"data row7 col5\" >0.491</td>\n",
       "                        <td id=\"T_bba43700_f752_11ea_9d17_8c85903d48d1row7_col6\" class=\"data row7 col6\" >0.036</td>\n",
       "            </tr>\n",
       "            <tr>\n",
       "                        <th id=\"T_bba43700_f752_11ea_9d17_8c85903d48d1level0_row8\" class=\"row_heading level0 row8\" >97</th>\n",
       "                        <td id=\"T_bba43700_f752_11ea_9d17_8c85903d48d1row8_col0\" class=\"data row8 col0\" >data/top95.txt:71</td>\n",
       "                        <td id=\"T_bba43700_f752_11ea_9d17_8c85903d48d1row8_col1\" class=\"data row8 col1\" >Diabolical</td>\n",
       "                        <td id=\"T_bba43700_f752_11ea_9d17_8c85903d48d1row8_col2\" class=\"data row8 col2\" >17</td>\n",
       "                        <td id=\"T_bba43700_f752_11ea_9d17_8c85903d48d1row8_col3\" class=\"data row8 col3\" >205.605</td>\n",
       "                        <td id=\"T_bba43700_f752_11ea_9d17_8c85903d48d1row8_col4\" class=\"data row8 col4\" >2.515</td>\n",
       "                        <td id=\"T_bba43700_f752_11ea_9d17_8c85903d48d1row8_col5\" class=\"data row8 col5\" >2.329</td>\n",
       "                        <td id=\"T_bba43700_f752_11ea_9d17_8c85903d48d1row8_col6\" class=\"data row8 col6\" >0.019</td>\n",
       "            </tr>\n",
       "            <tr>\n",
       "                        <th id=\"T_bba43700_f752_11ea_9d17_8c85903d48d1level0_row9\" class=\"row_heading level0 row9\" >31</th>\n",
       "                        <td id=\"T_bba43700_f752_11ea_9d17_8c85903d48d1row9_col0\" class=\"data row9 col0\" >data/top95.txt:5</td>\n",
       "                        <td id=\"T_bba43700_f752_11ea_9d17_8c85903d48d1row9_col1\" class=\"data row9 col1\" >Diabolical</td>\n",
       "                        <td id=\"T_bba43700_f752_11ea_9d17_8c85903d48d1row9_col2\" class=\"data row9 col2\" >17</td>\n",
       "                        <td id=\"T_bba43700_f752_11ea_9d17_8c85903d48d1row9_col3\" class=\"data row9 col3\" >790.428</td>\n",
       "                        <td id=\"T_bba43700_f752_11ea_9d17_8c85903d48d1row9_col4\" class=\"data row9 col4\" >2.263</td>\n",
       "                        <td id=\"T_bba43700_f752_11ea_9d17_8c85903d48d1row9_col5\" class=\"data row9 col5\" >1.707</td>\n",
       "                        <td id=\"T_bba43700_f752_11ea_9d17_8c85903d48d1row9_col6\" class=\"data row9 col6\" >0.021</td>\n",
       "            </tr>\n",
       "            <tr>\n",
       "                        <th id=\"T_bba43700_f752_11ea_9d17_8c85903d48d1level0_row10\" class=\"row_heading level0 row10\" >13</th>\n",
       "                        <td id=\"T_bba43700_f752_11ea_9d17_8c85903d48d1row10_col0\" class=\"data row10 col0\" >Rico Alan 3</td>\n",
       "                        <td id=\"T_bba43700_f752_11ea_9d17_8c85903d48d1row10_col1\" class=\"data row10 col1\" >Pathalogical</td>\n",
       "                        <td id=\"T_bba43700_f752_11ea_9d17_8c85903d48d1row10_col2\" class=\"data row10 col2\" >17</td>\n",
       "                        <td id=\"T_bba43700_f752_11ea_9d17_8c85903d48d1row10_col3\" class=\"data row10 col3\" >635.981</td>\n",
       "                        <td id=\"T_bba43700_f752_11ea_9d17_8c85903d48d1row10_col4\" class=\"data row10 col4\" >2.259</td>\n",
       "                        <td id=\"T_bba43700_f752_11ea_9d17_8c85903d48d1row10_col5\" class=\"data row10 col5\" >0.016</td>\n",
       "                        <td id=\"T_bba43700_f752_11ea_9d17_8c85903d48d1row10_col6\" class=\"data row10 col6\" >0.020</td>\n",
       "            </tr>\n",
       "            <tr>\n",
       "                        <th id=\"T_bba43700_f752_11ea_9d17_8c85903d48d1level0_row11\" class=\"row_heading level0 row11\" >72</th>\n",
       "                        <td id=\"T_bba43700_f752_11ea_9d17_8c85903d48d1row11_col0\" class=\"data row11 col0\" >data/top95.txt:46</td>\n",
       "                        <td id=\"T_bba43700_f752_11ea_9d17_8c85903d48d1row11_col1\" class=\"data row11 col1\" >Diabolical</td>\n",
       "                        <td id=\"T_bba43700_f752_11ea_9d17_8c85903d48d1row11_col2\" class=\"data row11 col2\" >17</td>\n",
       "                        <td id=\"T_bba43700_f752_11ea_9d17_8c85903d48d1row11_col3\" class=\"data row11 col3\" >46.067</td>\n",
       "                        <td id=\"T_bba43700_f752_11ea_9d17_8c85903d48d1row11_col4\" class=\"data row11 col4\" >1.137</td>\n",
       "                        <td id=\"T_bba43700_f752_11ea_9d17_8c85903d48d1row11_col5\" class=\"data row11 col5\" >0.049</td>\n",
       "                        <td id=\"T_bba43700_f752_11ea_9d17_8c85903d48d1row11_col6\" class=\"data row11 col6\" >0.025</td>\n",
       "            </tr>\n",
       "            <tr>\n",
       "                        <th id=\"T_bba43700_f752_11ea_9d17_8c85903d48d1level0_row12\" class=\"row_heading level0 row12\" >37</th>\n",
       "                        <td id=\"T_bba43700_f752_11ea_9d17_8c85903d48d1row12_col0\" class=\"data row12 col0\" >data/top95.txt:11</td>\n",
       "                        <td id=\"T_bba43700_f752_11ea_9d17_8c85903d48d1row12_col1\" class=\"data row12 col1\" >Diabolical</td>\n",
       "                        <td id=\"T_bba43700_f752_11ea_9d17_8c85903d48d1row12_col2\" class=\"data row12 col2\" >17</td>\n",
       "                        <td id=\"T_bba43700_f752_11ea_9d17_8c85903d48d1row12_col3\" class=\"data row12 col3\" >36.683</td>\n",
       "                        <td id=\"T_bba43700_f752_11ea_9d17_8c85903d48d1row12_col4\" class=\"data row12 col4\" >0.814</td>\n",
       "                        <td id=\"T_bba43700_f752_11ea_9d17_8c85903d48d1row12_col5\" class=\"data row12 col5\" >0.231</td>\n",
       "                        <td id=\"T_bba43700_f752_11ea_9d17_8c85903d48d1row12_col6\" class=\"data row12 col6\" >0.025</td>\n",
       "            </tr>\n",
       "            <tr>\n",
       "                        <th id=\"T_bba43700_f752_11ea_9d17_8c85903d48d1level0_row13\" class=\"row_heading level0 row13\" >42</th>\n",
       "                        <td id=\"T_bba43700_f752_11ea_9d17_8c85903d48d1row13_col0\" class=\"data row13 col0\" >data/top95.txt:16</td>\n",
       "                        <td id=\"T_bba43700_f752_11ea_9d17_8c85903d48d1row13_col1\" class=\"data row13 col1\" >Diabolical</td>\n",
       "                        <td id=\"T_bba43700_f752_11ea_9d17_8c85903d48d1row13_col2\" class=\"data row13 col2\" >17</td>\n",
       "                        <td id=\"T_bba43700_f752_11ea_9d17_8c85903d48d1row13_col3\" class=\"data row13 col3\" >37.799</td>\n",
       "                        <td id=\"T_bba43700_f752_11ea_9d17_8c85903d48d1row13_col4\" class=\"data row13 col4\" >0.801</td>\n",
       "                        <td id=\"T_bba43700_f752_11ea_9d17_8c85903d48d1row13_col5\" class=\"data row13 col5\" >0.159</td>\n",
       "                        <td id=\"T_bba43700_f752_11ea_9d17_8c85903d48d1row13_col6\" class=\"data row13 col6\" >0.025</td>\n",
       "            </tr>\n",
       "            <tr>\n",
       "                        <th id=\"T_bba43700_f752_11ea_9d17_8c85903d48d1level0_row14\" class=\"row_heading level0 row14\" >68</th>\n",
       "                        <td id=\"T_bba43700_f752_11ea_9d17_8c85903d48d1row14_col0\" class=\"data row14 col0\" >data/top95.txt:42</td>\n",
       "                        <td id=\"T_bba43700_f752_11ea_9d17_8c85903d48d1row14_col1\" class=\"data row14 col1\" >Diabolical</td>\n",
       "                        <td id=\"T_bba43700_f752_11ea_9d17_8c85903d48d1row14_col2\" class=\"data row14 col2\" >17</td>\n",
       "                        <td id=\"T_bba43700_f752_11ea_9d17_8c85903d48d1row14_col3\" class=\"data row14 col3\" >7.246</td>\n",
       "                        <td id=\"T_bba43700_f752_11ea_9d17_8c85903d48d1row14_col4\" class=\"data row14 col4\" >0.753</td>\n",
       "                        <td id=\"T_bba43700_f752_11ea_9d17_8c85903d48d1row14_col5\" class=\"data row14 col5\" >0.050</td>\n",
       "                        <td id=\"T_bba43700_f752_11ea_9d17_8c85903d48d1row14_col6\" class=\"data row14 col6\" >0.019</td>\n",
       "            </tr>\n",
       "    </tbody></table>"
      ],
      "text/plain": [
       "<pandas.io.formats.style.Styler at 0x11ad2ac10>"
      ]
     },
     "execution_count": 31,
     "metadata": {},
     "output_type": "execute_result"
    }
   ],
   "source": [
    "def highlight_where_backtracking_faster(s):\n",
    "    if s.constraintpropogation > s.backtracking:\n",
    "        return ['background-color: yellow; color: black'] * len(s)\n",
    "    else:\n",
    "        return [''] * len(s)\n",
    "\n",
    "method = 'constraintpropogation'\n",
    "ndf = df.sort_values(by=method, ascending=False).head(n=15)\n",
    "ndf.style.apply(highlight_where_backtracking_faster, axis=1).bar(subset=[method], color='orange').format({m: '{:.3f}' for m in su.SOLVERS})"
   ]
  },
  {
   "cell_type": "markdown",
   "metadata": {},
   "source": [
    "Interesting points:\n",
    "\n",
    "* Puzzles 7 and 9 (highlighted yellow) actually take longer to solve with the constraint propogation solution than simple backtracking\n",
    "* Puzzles 21 and 46 look like good candidates for looking at closer, because the backtracking time isn't so long that we can't wait for profiler output if we want to compare profiles\n",
    "* Puzzle 42 looks like a good place to start though: < ~1 second (highlighted green), deductive method on the same puzzle *much* faster, and backtracking time not so long tha we can't wait.\n",
    "\n",
    "### Puzzle 42\n",
    "\n",
    "So started looking at Puzzle 42 (answer to the Ultimate Question?), using the built in Jupyet profiler tools. First though, a quick check that the total time matches up. According to original testing performance, this should take ~8 microseconds (ms).\n"
   ]
  },
  {
   "cell_type": "code",
   "execution_count": 32,
   "metadata": {},
   "outputs": [
    {
     "name": "stdout",
     "output_type": "stream",
     "text": [
      "CPU times: user 771 ms, sys: 3.96 ms, total: 775 ms\n",
      "Wall time: 779 ms\n"
     ]
    },
    {
     "data": {
      "text/plain": [
       "True"
      ]
     },
     "execution_count": 32,
     "metadata": {},
     "output_type": "execute_result"
    }
   ],
   "source": [
    "puzzle42 = '......8.16..2........7.5......6...2..1....3...8.......2......7..3..8....5...4....'\n",
    "puzzle.init_puzzle(pg.from_string(puzzle42))\n",
    "solver = su.SudokuSolver(method=method)\n",
    "%time solver.solve(puzzle)"
   ]
  },
  {
   "cell_type": "markdown",
   "metadata": {},
   "source": [
    "That looks OK. So reset the puzzle and profile below. The profiler itself adds some overhead so this takes slightly longer (~1.2 seconds)."
   ]
  },
  {
   "cell_type": "code",
   "execution_count": 33,
   "metadata": {},
   "outputs": [
    {
     "name": "stdout",
     "output_type": "stream",
     "text": [
      " "
     ]
    },
    {
     "data": {
      "text/plain": [
       "         2059323 function calls (2030333 primitive calls) in 1.122 seconds\n",
       "\n",
       "   Ordered by: internal time\n",
       "\n",
       "   ncalls  tottime  percall  cumtime  percall filename:lineno(function)\n",
       "   398932    0.345    0.000    0.628    0.000 sudoku.py:135(get_allowed_values)\n",
       "    57980    0.233    0.000    0.799    0.000 puzzlegrid.py:312(next_best_empty_cell)\n",
       "   398932    0.183    0.000    0.183    0.000 puzzlegrid.py:352(get_allowed_values)\n",
       "   456848    0.114    0.000    0.114    0.000 sudoku.py:89(box_xy_to_num)\n",
       "  28991/1    0.069    0.000    1.122    1.122 sudoku.py:250(_solve_backtracking)\n",
       "    28990    0.035    0.000    0.096    0.000 puzzlegrid.py:230(set)\n",
       "    28926    0.029    0.000    0.069    0.000 sudoku.py:108(clear)\n",
       "    28990    0.029    0.000    0.134    0.000 sudoku.py:95(set)\n",
       "    28926    0.024    0.000    0.030    0.000 puzzlegrid.py:260(clear)\n",
       "   341006    0.022    0.000    0.022    0.000 {built-in method builtins.len}\n",
       "    28990    0.014    0.000    0.055    0.000 puzzlegrid.py:363(is_allowed_value)\n",
       "    86970    0.008    0.000    0.008    0.000 {method 'remove' of 'set' objects}\n",
       "    86778    0.008    0.000    0.008    0.000 {method 'add' of 'set' objects}\n",
       "    28990    0.006    0.000    0.799    0.000 {built-in method builtins.next}\n",
       "    28991    0.004    0.000    0.004    0.000 puzzlegrid.py:216(num_empty_cells)\n",
       "        1    0.000    0.000    1.122    1.122 {built-in method builtins.exec}\n",
       "        1    0.000    0.000    0.000    0.000 sudoku.py:149(is_puzzle_valid)\n",
       "        1    0.000    0.000    0.000    0.000 puzzlegrid.py:374(is_puzzle_valid)\n",
       "        9    0.000    0.000    0.000    0.000 sudoku.py:123(get_box_values)\n",
       "        9    0.000    0.000    0.000    0.000 puzzlegrid.py:338(get_row_values)\n",
       "        9    0.000    0.000    0.000    0.000 sudoku.py:133(<listcomp>)\n",
       "        9    0.000    0.000    0.000    0.000 puzzlegrid.py:350(<listcomp>)\n",
       "        9    0.000    0.000    0.000    0.000 sudoku.py:130(<listcomp>)\n",
       "        9    0.000    0.000    0.000    0.000 puzzlegrid.py:343(<listcomp>)\n",
       "        9    0.000    0.000    0.000    0.000 puzzlegrid.py:345(get_column_values)\n",
       "        9    0.000    0.000    0.000    0.000 sudoku.py:77(box_num_to_xy)\n",
       "        1    0.000    0.000    1.122    1.122 sudoku.py:210(solve)\n",
       "        1    0.000    0.000    1.122    1.122 <string>:1(<module>)\n",
       "        1    0.000    0.000    1.122    1.122 sudoku.py:656(solve)\n",
       "        2    0.000    0.000    0.000    0.000 puzzlegrid.py:173(max_value)\n",
       "        1    0.000    0.000    0.000    0.000 puzzlegrid.py:282(is_empty)\n",
       "        1    0.000    0.000    0.000    0.000 puzzlegrid.py:397(is_solved)\n",
       "        1    0.000    0.000    0.000    0.000 {method 'disable' of '_lsprof.Profiler' objects}"
      ]
     },
     "metadata": {},
     "output_type": "display_data"
    }
   ],
   "source": [
    "puzzle.init_puzzle(pg.from_string(puzzle42))\n",
    "s = su.SudokuSolver(method=method)\n",
    "%prun s.solve(puzzle)"
   ]
  },
  {
   "cell_type": "markdown",
   "metadata": {},
   "source": [
    "Notes:\n",
    "\n",
    "* 399K calls to `get_allowed_values`. The first entry is in [sudoku.py](sudoku.py#line_88), which gets the allowed values for the box, then calls the same method in the [parent class](puzzlegrid.py#line_321) to return the intersection of allowed cells in that row, column and box.\n",
    "* Recurses into `solve_constraintpropogation` 29K times.\n",
    "\n",
    "Compare the performance of #42 to #46. Expect #46 to take ~2.5 seconds."
   ]
  },
  {
   "cell_type": "code",
   "execution_count": 34,
   "metadata": {},
   "outputs": [
    {
     "name": "stdout",
     "output_type": "stream",
     "text": [
      "CPU times: user 228 ms, sys: 1.69 ms, total: 230 ms\n",
      "Wall time: 230 ms\n"
     ]
    },
    {
     "data": {
      "text/plain": [
       "True"
      ]
     },
     "execution_count": 34,
     "metadata": {},
     "output_type": "execute_result"
    }
   ],
   "source": [
    "puzzle46 = '.834.........7..5...........4.1.8..........27...3.....2.6.5....5.....8........1..'\n",
    "puzzle.init_puzzle(pg.from_string(puzzle46))\n",
    "solver = su.SudokuSolver(method=method)\n",
    "%time solver.solve(puzzle)"
   ]
  },
  {
   "cell_type": "markdown",
   "metadata": {},
   "source": [
    "OK, this is weird. That was supposed to take ~2.5 seconds and instead finished in ~0.3 seconds. Let's run it again...and again. And this time we'll output some of the stats collected by the solver itself:\n",
    "\n",
    "* Max Depth: The deepest stack-depth the recursion reached\n",
    "* Backtracks: The number of \"mistakes\" made by the algorithm that resulted in it backtracking to a prior state\n"
   ]
  },
  {
   "cell_type": "code",
   "execution_count": 35,
   "metadata": {},
   "outputs": [
    {
     "data": {
      "text/plain": [
       "'constraintpropogation'"
      ]
     },
     "execution_count": 35,
     "metadata": {},
     "output_type": "execute_result"
    }
   ],
   "source": [
    "method"
   ]
  },
  {
   "cell_type": "code",
   "execution_count": 36,
   "metadata": {},
   "outputs": [
    {
     "name": "stdout",
     "output_type": "stream",
     "text": [
      "RUN 0\n",
      "CPU times: user 2.54 s, sys: 7.21 ms, total: 2.55 s\n",
      "Wall time: 2.56 s\n",
      "Max Depth=63; Backtracks=105917\n",
      "\n",
      "RUN 1\n",
      "CPU times: user 2.53 s, sys: 5.74 ms, total: 2.54 s\n",
      "Wall time: 2.54 s\n",
      "Max Depth=63; Backtracks=105917\n",
      "\n",
      "RUN 2\n",
      "CPU times: user 223 ms, sys: 388 µs, total: 223 ms\n",
      "Wall time: 224 ms\n",
      "Max Depth=63; Backtracks=8766\n",
      "\n",
      "RUN 3\n",
      "CPU times: user 230 ms, sys: 1.46 ms, total: 232 ms\n",
      "Wall time: 233 ms\n",
      "Max Depth=63; Backtracks=8766\n",
      "\n",
      "RUN 4\n",
      "CPU times: user 232 ms, sys: 1.38 ms, total: 233 ms\n",
      "Wall time: 234 ms\n",
      "Max Depth=63; Backtracks=8766\n",
      "\n"
     ]
    }
   ],
   "source": [
    "puzzle = su.SudokuPuzzle()\n",
    "solver = su.SudokuSolver(method=method)\n",
    "for i in range(5):\n",
    "    print(f\"RUN {i}\")\n",
    "    puzzle.init_puzzle(starting_grid=pg.from_string(puzzle46))\n",
    "    assert(not puzzle.is_solved())\n",
    "    %time solver.solve(puzzle)\n",
    "    print(f\"Max Depth={solver.solver.max_depth}; Backtracks={solver.solver.backtrack_count}\\n\")"
   ]
  },
  {
   "cell_type": "markdown",
   "metadata": {},
   "source": [
    "In testing, the first two usually take ~2.5 seconds, and the last 3 take ~220 ms. Even though it's exactly the same puzzle being solved by exactly the same algorithm.\n",
    "\n",
    "It turns out the difference is caused by the return order of the set of allowed values. Since the values are returned in a set, the order of the elements is not guaranteed to be consistent. When the order is slightly different, then the backtracking can take dramatically different search paths, with consequent impacts on run time. You can see this in the `Backtracks` reported (~106K vs ~9K).\n",
    "\n",
    "In this specific case, one of the cells has allowed values (1, 9). If \"1\" is chosen then the solution takes 2.5 seconds to find. However if the \"9\" is chosen, then the search takes ~220 ms. \n",
    "\n",
    "If I modify the algorithm to always sort the allowed values then the performance time is always consistent. Otherwise there's a certain amount of randmomness to it.\n",
    "\n",
    "The other change is to recreate the `puzzle` instance each time. When I do that, the performance remains consistent, because the set order remains consistent. Not sure why that is.\n"
   ]
  },
  {
   "cell_type": "markdown",
   "metadata": {},
   "source": [
    "## Diversion #2: Cheating\n",
    "\n",
    "Occurred to me that the way I've designed the puzzle and solver classes opens the way to having a \"cheating\" solver. Basically a solver that over-writes the puzzle with a pre-programmed sequence of numbers that obey the rules but do not match the original puzzle clues.\n",
    "\n",
    "So just for fun let's see how easy that is to do and how I could improve the puzzle class to detect and block attempts to \"cheat\".\n",
    "\n",
    "### First attempt: Lie\n",
    "\n",
    "First attempt was based on this code in the original implementation of `is_solved`:\n",
    "\n",
    "```python\n",
    "def is_solved(self):\n",
    "    return self.is_puzzle_valid() and self._num_empty_cells == 0\n",
    "```\n",
    "\n",
    "So, how about a solver that just plain lies by over-writing the number of empty cells left?\n"
   ]
  },
  {
   "cell_type": "code",
   "execution_count": 37,
   "metadata": {},
   "outputs": [
    {
     "data": {
      "text/plain": [
       "True"
      ]
     },
     "execution_count": 37,
     "metadata": {},
     "output_type": "execute_result"
    }
   ],
   "source": [
    "class CheatingSolver(pg.ConstraintSolver):\n",
    "    def solve(self, puzzle):\n",
    "        \"\"\"Easiest way to cheat would be to trick the is_solved() method on the puzzle to always returning True\"\"\"\n",
    "        puzzle._num_empty_cells = 0\n",
    "        return True\n",
    "\n",
    "puzzle = su.SudokuPuzzle(starting_grid=pg.from_string(su.SAMPLE_PUZZLES[0]['puzzle']))\n",
    "solver = CheatingSolver()\n",
    "solver.solve(puzzle)"
   ]
  },
  {
   "cell_type": "markdown",
   "metadata": {},
   "source": [
    "So the solver will always return `True` but the puzzle itself should know that it's not really solved. I changed the `is_solved` method to actually check that every cell has a value.\n",
    "\n",
    "```python\n",
    "def is_solved(self):\n",
    "    if self.is_puzzle_valid():\n",
    "        for i in range(self.max_value()):\n",
    "            for j in range(self.max_value()):\n",
    "                if self.is_empty(i, j):\n",
    "                    return False\n",
    "        return True\n",
    "    else:\n",
    "        return False\n",
    "```"
   ]
  },
  {
   "cell_type": "code",
   "execution_count": 38,
   "metadata": {},
   "outputs": [
    {
     "data": {
      "text/plain": [
       "False"
      ]
     },
     "execution_count": 38,
     "metadata": {},
     "output_type": "execute_result"
    }
   ],
   "source": [
    "puzzle.is_solved()"
   ]
  },
  {
   "cell_type": "markdown",
   "metadata": {},
   "source": [
    "Now if we use this in the `PuzzleTester` then we want to make sure that it's detecting that the puzzle isn't really solved."
   ]
  },
  {
   "cell_type": "code",
   "execution_count": 39,
   "metadata": {},
   "outputs": [
    {
     "data": {
      "text/plain": [
       "8"
      ]
     },
     "execution_count": 39,
     "metadata": {},
     "output_type": "execute_result"
    }
   ],
   "source": [
    "include_levels = ['Kids', 'Easy', 'Moderate', 'Hard']  # , 'Diabolical', 'Pathalogical']\n",
    "test_cases = [x for x in su.SAMPLE_PUZZLES if x['level'] in include_levels]\n",
    "pt = pg.PuzzleTester(puzzle_class=su.SudokuPuzzle)\n",
    "pt.add_testcases(test_cases)"
   ]
  },
  {
   "cell_type": "code",
   "execution_count": 40,
   "metadata": {},
   "outputs": [
    {
     "data": {
      "text/html": [
       "<style  type=\"text/css\" >\n",
       "    #T_c06d0a14_f752_11ea_9d17_8c85903d48d1row0_col3 {\n",
       "            background-color:  red;\n",
       "        }    #T_c06d0a14_f752_11ea_9d17_8c85903d48d1row1_col3 {\n",
       "            background-color:  red;\n",
       "        }    #T_c06d0a14_f752_11ea_9d17_8c85903d48d1row2_col3 {\n",
       "            background-color:  red;\n",
       "        }    #T_c06d0a14_f752_11ea_9d17_8c85903d48d1row3_col3 {\n",
       "            background-color:  red;\n",
       "        }    #T_c06d0a14_f752_11ea_9d17_8c85903d48d1row4_col3 {\n",
       "            background-color:  red;\n",
       "        }    #T_c06d0a14_f752_11ea_9d17_8c85903d48d1row5_col3 {\n",
       "            background-color:  red;\n",
       "        }    #T_c06d0a14_f752_11ea_9d17_8c85903d48d1row6_col3 {\n",
       "            background-color:  red;\n",
       "        }    #T_c06d0a14_f752_11ea_9d17_8c85903d48d1row7_col3 {\n",
       "            background-color:  red;\n",
       "        }</style><table id=\"T_c06d0a14_f752_11ea_9d17_8c85903d48d1\" ><thead>    <tr>        <th class=\"blank level0\" ></th>        <th class=\"col_heading level0 col0\" >label</th>        <th class=\"col_heading level0 col1\" >level</th>        <th class=\"col_heading level0 col2\" >starting_clues</th>        <th class=\"col_heading level0 col3\" >cheat</th>    </tr></thead><tbody>\n",
       "                <tr>\n",
       "                        <th id=\"T_c06d0a14_f752_11ea_9d17_8c85903d48d1level0_row0\" class=\"row_heading level0 row0\" >0</th>\n",
       "                        <td id=\"T_c06d0a14_f752_11ea_9d17_8c85903d48d1row0_col0\" class=\"data row0 col0\" >SMH 1</td>\n",
       "                        <td id=\"T_c06d0a14_f752_11ea_9d17_8c85903d48d1row0_col1\" class=\"data row0 col1\" >Kids</td>\n",
       "                        <td id=\"T_c06d0a14_f752_11ea_9d17_8c85903d48d1row0_col2\" class=\"data row0 col2\" >31</td>\n",
       "                        <td id=\"T_c06d0a14_f752_11ea_9d17_8c85903d48d1row0_col3\" class=\"data row0 col3\" >None</td>\n",
       "            </tr>\n",
       "            <tr>\n",
       "                        <th id=\"T_c06d0a14_f752_11ea_9d17_8c85903d48d1level0_row1\" class=\"row_heading level0 row1\" >1</th>\n",
       "                        <td id=\"T_c06d0a14_f752_11ea_9d17_8c85903d48d1row1_col0\" class=\"data row1 col0\" >SMH 2</td>\n",
       "                        <td id=\"T_c06d0a14_f752_11ea_9d17_8c85903d48d1row1_col1\" class=\"data row1 col1\" >Easy</td>\n",
       "                        <td id=\"T_c06d0a14_f752_11ea_9d17_8c85903d48d1row1_col2\" class=\"data row1 col2\" >24</td>\n",
       "                        <td id=\"T_c06d0a14_f752_11ea_9d17_8c85903d48d1row1_col3\" class=\"data row1 col3\" >None</td>\n",
       "            </tr>\n",
       "            <tr>\n",
       "                        <th id=\"T_c06d0a14_f752_11ea_9d17_8c85903d48d1level0_row2\" class=\"row_heading level0 row2\" >2</th>\n",
       "                        <td id=\"T_c06d0a14_f752_11ea_9d17_8c85903d48d1row2_col0\" class=\"data row2 col0\" >KTH 1</td>\n",
       "                        <td id=\"T_c06d0a14_f752_11ea_9d17_8c85903d48d1row2_col1\" class=\"data row2 col1\" >Easy</td>\n",
       "                        <td id=\"T_c06d0a14_f752_11ea_9d17_8c85903d48d1row2_col2\" class=\"data row2 col2\" >30</td>\n",
       "                        <td id=\"T_c06d0a14_f752_11ea_9d17_8c85903d48d1row2_col3\" class=\"data row2 col3\" >None</td>\n",
       "            </tr>\n",
       "            <tr>\n",
       "                        <th id=\"T_c06d0a14_f752_11ea_9d17_8c85903d48d1level0_row3\" class=\"row_heading level0 row3\" >3</th>\n",
       "                        <td id=\"T_c06d0a14_f752_11ea_9d17_8c85903d48d1row3_col0\" class=\"data row3 col0\" >Rico Alan Heart</td>\n",
       "                        <td id=\"T_c06d0a14_f752_11ea_9d17_8c85903d48d1row3_col1\" class=\"data row3 col1\" >Easy</td>\n",
       "                        <td id=\"T_c06d0a14_f752_11ea_9d17_8c85903d48d1row3_col2\" class=\"data row3 col2\" >22</td>\n",
       "                        <td id=\"T_c06d0a14_f752_11ea_9d17_8c85903d48d1row3_col3\" class=\"data row3 col3\" >None</td>\n",
       "            </tr>\n",
       "            <tr>\n",
       "                        <th id=\"T_c06d0a14_f752_11ea_9d17_8c85903d48d1level0_row4\" class=\"row_heading level0 row4\" >4</th>\n",
       "                        <td id=\"T_c06d0a14_f752_11ea_9d17_8c85903d48d1row4_col0\" class=\"data row4 col0\" >SMH 3</td>\n",
       "                        <td id=\"T_c06d0a14_f752_11ea_9d17_8c85903d48d1row4_col1\" class=\"data row4 col1\" >Moderate</td>\n",
       "                        <td id=\"T_c06d0a14_f752_11ea_9d17_8c85903d48d1row4_col2\" class=\"data row4 col2\" >26</td>\n",
       "                        <td id=\"T_c06d0a14_f752_11ea_9d17_8c85903d48d1row4_col3\" class=\"data row4 col3\" >None</td>\n",
       "            </tr>\n",
       "            <tr>\n",
       "                        <th id=\"T_c06d0a14_f752_11ea_9d17_8c85903d48d1level0_row5\" class=\"row_heading level0 row5\" >5</th>\n",
       "                        <td id=\"T_c06d0a14_f752_11ea_9d17_8c85903d48d1row5_col0\" class=\"data row5 col0\" >SMH 4</td>\n",
       "                        <td id=\"T_c06d0a14_f752_11ea_9d17_8c85903d48d1row5_col1\" class=\"data row5 col1\" >Hard</td>\n",
       "                        <td id=\"T_c06d0a14_f752_11ea_9d17_8c85903d48d1row5_col2\" class=\"data row5 col2\" >22</td>\n",
       "                        <td id=\"T_c06d0a14_f752_11ea_9d17_8c85903d48d1row5_col3\" class=\"data row5 col3\" >None</td>\n",
       "            </tr>\n",
       "            <tr>\n",
       "                        <th id=\"T_c06d0a14_f752_11ea_9d17_8c85903d48d1level0_row6\" class=\"row_heading level0 row6\" >6</th>\n",
       "                        <td id=\"T_c06d0a14_f752_11ea_9d17_8c85903d48d1row6_col0\" class=\"data row6 col0\" >SMH 5</td>\n",
       "                        <td id=\"T_c06d0a14_f752_11ea_9d17_8c85903d48d1row6_col1\" class=\"data row6 col1\" >Hard</td>\n",
       "                        <td id=\"T_c06d0a14_f752_11ea_9d17_8c85903d48d1row6_col2\" class=\"data row6 col2\" >25</td>\n",
       "                        <td id=\"T_c06d0a14_f752_11ea_9d17_8c85903d48d1row6_col3\" class=\"data row6 col3\" >None</td>\n",
       "            </tr>\n",
       "            <tr>\n",
       "                        <th id=\"T_c06d0a14_f752_11ea_9d17_8c85903d48d1level0_row7\" class=\"row_heading level0 row7\" >7</th>\n",
       "                        <td id=\"T_c06d0a14_f752_11ea_9d17_8c85903d48d1row7_col0\" class=\"data row7 col0\" >Greg [2017]</td>\n",
       "                        <td id=\"T_c06d0a14_f752_11ea_9d17_8c85903d48d1row7_col1\" class=\"data row7 col1\" >Hard</td>\n",
       "                        <td id=\"T_c06d0a14_f752_11ea_9d17_8c85903d48d1row7_col2\" class=\"data row7 col2\" >21</td>\n",
       "                        <td id=\"T_c06d0a14_f752_11ea_9d17_8c85903d48d1row7_col3\" class=\"data row7 col3\" >None</td>\n",
       "            </tr>\n",
       "    </tbody></table>"
      ],
      "text/plain": [
       "<pandas.io.formats.style.Styler at 0x11ae97f90>"
      ]
     },
     "execution_count": 40,
     "metadata": {},
     "output_type": "execute_result"
    }
   ],
   "source": [
    "method = 'cheat'\n",
    "solver = CheatingSolver()\n",
    "pt.run_tests(solver, method)\n",
    "df = pd.DataFrame(pt.get_test_results())\n",
    "df.style.highlight_null()"
   ]
  },
  {
   "cell_type": "markdown",
   "metadata": {},
   "source": [
    "So I had to change `PuzzleTester` class to check the return value of the puzzle's `is_solved` method, rather than trust the solver's return value from `solve`. If the puzzle asserts that it is NOT solved then no result is recorded for the solver.\n",
    "\n",
    "### Second attempt: Over-write with a canned solution\n",
    "\n",
    "So since our really simple cheater no longer works I guess we'll need a more sophisticated version. We could just fill in the blank cells with \"1\" (or any other value) but then the `is_puzzle_valid` check would fail, at which point we may as well solve it properly. \n",
    "\n",
    "\n",
    "So maybe what our cheat needs to do is overwrite *all* cells in a rule-abiding way. We won't be actually solving the original puzzle. Basically, we're just writing a \"pre-solved\" puzzle over the top.\n"
   ]
  },
  {
   "cell_type": "code",
   "execution_count": 41,
   "metadata": {},
   "outputs": [],
   "source": [
    "class CheatingSolver(pg.ConstraintSolver):\n",
    "    def solve(self, puzzle):\n",
    "        \"\"\"Write a pre-solved puzzle in over the top of the provided one\"\"\"\n",
    "        starting_values = [0, 3, 6, 1, 4, 7, 2, 5, 8]\n",
    "        max_value = puzzle.max_value()\n",
    "        assert max_value == 9, \"I can't handle puzzles other than 9x9\"\n",
    "        puzzle.clear_all()\n",
    "        for i in range(max_value):\n",
    "            for j in range(max_value):\n",
    "                #print(i, j, (starting_values[i] + j) % max_value + 1)\n",
    "                puzzle.set(i, j, (starting_values[i] + j) % max_value + 1)\n",
    "        return True"
   ]
  },
  {
   "cell_type": "code",
   "execution_count": 42,
   "metadata": {},
   "outputs": [
    {
     "data": {
      "text/plain": [
       "True"
      ]
     },
     "execution_count": 42,
     "metadata": {},
     "output_type": "execute_result"
    }
   ],
   "source": [
    "puzzle = su.SudokuPuzzle(starting_grid=pg.from_string(su.SAMPLE_PUZZLES[0]['puzzle']))\n",
    "solver = CheatingSolver()\n",
    "solver.solve(puzzle)\n",
    "puzzle.is_solved()"
   ]
  },
  {
   "cell_type": "markdown",
   "metadata": {},
   "source": [
    "So the cheat works. \n",
    "\n",
    "Now, the whole point of cheating here is to be faster than a real solver, so let's test performance.\n"
   ]
  },
  {
   "cell_type": "code",
   "execution_count": 43,
   "metadata": {},
   "outputs": [],
   "source": [
    "for m in su.SOLVERS:\n",
    "    solver = su.SudokuSolver(method=m)\n",
    "    pt.run_tests(solver, m)"
   ]
  },
  {
   "cell_type": "code",
   "execution_count": 44,
   "metadata": {},
   "outputs": [
    {
     "data": {
      "text/html": [
       "<style  type=\"text/css\" >\n",
       "    #T_c2624668_f752_11ea_9d17_8c85903d48d1row0_col3 {\n",
       "            : ;\n",
       "            : ;\n",
       "            background-color:  green;\n",
       "        }    #T_c2624668_f752_11ea_9d17_8c85903d48d1row0_col7 {\n",
       "            : ;\n",
       "            background-color:  orange;\n",
       "            : ;\n",
       "        }    #T_c2624668_f752_11ea_9d17_8c85903d48d1row1_col3 {\n",
       "            : ;\n",
       "            : ;\n",
       "            background-color:  green;\n",
       "        }    #T_c2624668_f752_11ea_9d17_8c85903d48d1row1_col4 {\n",
       "            : ;\n",
       "            background-color:  orange;\n",
       "            : ;\n",
       "        }    #T_c2624668_f752_11ea_9d17_8c85903d48d1row2_col3 {\n",
       "            : ;\n",
       "            : ;\n",
       "            background-color:  green;\n",
       "        }    #T_c2624668_f752_11ea_9d17_8c85903d48d1row2_col7 {\n",
       "            : ;\n",
       "            background-color:  orange;\n",
       "            : ;\n",
       "        }    #T_c2624668_f752_11ea_9d17_8c85903d48d1row3_col3 {\n",
       "            : ;\n",
       "            : ;\n",
       "            background-color:  green;\n",
       "        }    #T_c2624668_f752_11ea_9d17_8c85903d48d1row3_col4 {\n",
       "            : ;\n",
       "            background-color:  orange;\n",
       "            : ;\n",
       "        }    #T_c2624668_f752_11ea_9d17_8c85903d48d1row4_col3 {\n",
       "            : ;\n",
       "            : ;\n",
       "            background-color:  green;\n",
       "        }    #T_c2624668_f752_11ea_9d17_8c85903d48d1row4_col4 {\n",
       "            : ;\n",
       "            background-color:  orange;\n",
       "            : ;\n",
       "        }    #T_c2624668_f752_11ea_9d17_8c85903d48d1row5_col3 {\n",
       "            : ;\n",
       "            : ;\n",
       "            background-color:  green;\n",
       "        }    #T_c2624668_f752_11ea_9d17_8c85903d48d1row5_col4 {\n",
       "            : ;\n",
       "            background-color:  orange;\n",
       "            : ;\n",
       "        }    #T_c2624668_f752_11ea_9d17_8c85903d48d1row6_col3 {\n",
       "            : ;\n",
       "            : ;\n",
       "            background-color:  green;\n",
       "        }    #T_c2624668_f752_11ea_9d17_8c85903d48d1row6_col4 {\n",
       "            : ;\n",
       "            background-color:  orange;\n",
       "            : ;\n",
       "        }    #T_c2624668_f752_11ea_9d17_8c85903d48d1row7_col3 {\n",
       "            : ;\n",
       "            : ;\n",
       "            background-color:  green;\n",
       "        }    #T_c2624668_f752_11ea_9d17_8c85903d48d1row7_col4 {\n",
       "            : ;\n",
       "            background-color:  orange;\n",
       "            : ;\n",
       "        }</style><table id=\"T_c2624668_f752_11ea_9d17_8c85903d48d1\" ><thead>    <tr>        <th class=\"blank level0\" ></th>        <th class=\"col_heading level0 col0\" >label</th>        <th class=\"col_heading level0 col1\" >level</th>        <th class=\"col_heading level0 col2\" >starting_clues</th>        <th class=\"col_heading level0 col3\" >cheat</th>        <th class=\"col_heading level0 col4\" >backtracking</th>        <th class=\"col_heading level0 col5\" >constraintpropogation</th>        <th class=\"col_heading level0 col6\" >deductive</th>        <th class=\"col_heading level0 col7\" >sat</th>    </tr></thead><tbody>\n",
       "                <tr>\n",
       "                        <th id=\"T_c2624668_f752_11ea_9d17_8c85903d48d1level0_row0\" class=\"row_heading level0 row0\" >0</th>\n",
       "                        <td id=\"T_c2624668_f752_11ea_9d17_8c85903d48d1row0_col0\" class=\"data row0 col0\" >SMH 1</td>\n",
       "                        <td id=\"T_c2624668_f752_11ea_9d17_8c85903d48d1row0_col1\" class=\"data row0 col1\" >Kids</td>\n",
       "                        <td id=\"T_c2624668_f752_11ea_9d17_8c85903d48d1row0_col2\" class=\"data row0 col2\" >31</td>\n",
       "                        <td id=\"T_c2624668_f752_11ea_9d17_8c85903d48d1row0_col3\" class=\"data row0 col3\" >0.001</td>\n",
       "                        <td id=\"T_c2624668_f752_11ea_9d17_8c85903d48d1row0_col4\" class=\"data row0 col4\" >0.003</td>\n",
       "                        <td id=\"T_c2624668_f752_11ea_9d17_8c85903d48d1row0_col5\" class=\"data row0 col5\" >0.002</td>\n",
       "                        <td id=\"T_c2624668_f752_11ea_9d17_8c85903d48d1row0_col6\" class=\"data row0 col6\" >0.002</td>\n",
       "                        <td id=\"T_c2624668_f752_11ea_9d17_8c85903d48d1row0_col7\" class=\"data row0 col7\" >0.017</td>\n",
       "            </tr>\n",
       "            <tr>\n",
       "                        <th id=\"T_c2624668_f752_11ea_9d17_8c85903d48d1level0_row1\" class=\"row_heading level0 row1\" >1</th>\n",
       "                        <td id=\"T_c2624668_f752_11ea_9d17_8c85903d48d1row1_col0\" class=\"data row1 col0\" >SMH 2</td>\n",
       "                        <td id=\"T_c2624668_f752_11ea_9d17_8c85903d48d1row1_col1\" class=\"data row1 col1\" >Easy</td>\n",
       "                        <td id=\"T_c2624668_f752_11ea_9d17_8c85903d48d1row1_col2\" class=\"data row1 col2\" >24</td>\n",
       "                        <td id=\"T_c2624668_f752_11ea_9d17_8c85903d48d1row1_col3\" class=\"data row1 col3\" >0.001</td>\n",
       "                        <td id=\"T_c2624668_f752_11ea_9d17_8c85903d48d1row1_col4\" class=\"data row1 col4\" >0.180</td>\n",
       "                        <td id=\"T_c2624668_f752_11ea_9d17_8c85903d48d1row1_col5\" class=\"data row1 col5\" >0.002</td>\n",
       "                        <td id=\"T_c2624668_f752_11ea_9d17_8c85903d48d1row1_col6\" class=\"data row1 col6\" >0.003</td>\n",
       "                        <td id=\"T_c2624668_f752_11ea_9d17_8c85903d48d1row1_col7\" class=\"data row1 col7\" >0.017</td>\n",
       "            </tr>\n",
       "            <tr>\n",
       "                        <th id=\"T_c2624668_f752_11ea_9d17_8c85903d48d1level0_row2\" class=\"row_heading level0 row2\" >2</th>\n",
       "                        <td id=\"T_c2624668_f752_11ea_9d17_8c85903d48d1row2_col0\" class=\"data row2 col0\" >KTH 1</td>\n",
       "                        <td id=\"T_c2624668_f752_11ea_9d17_8c85903d48d1row2_col1\" class=\"data row2 col1\" >Easy</td>\n",
       "                        <td id=\"T_c2624668_f752_11ea_9d17_8c85903d48d1row2_col2\" class=\"data row2 col2\" >30</td>\n",
       "                        <td id=\"T_c2624668_f752_11ea_9d17_8c85903d48d1row2_col3\" class=\"data row2 col3\" >0.001</td>\n",
       "                        <td id=\"T_c2624668_f752_11ea_9d17_8c85903d48d1row2_col4\" class=\"data row2 col4\" >0.011</td>\n",
       "                        <td id=\"T_c2624668_f752_11ea_9d17_8c85903d48d1row2_col5\" class=\"data row2 col5\" >0.001</td>\n",
       "                        <td id=\"T_c2624668_f752_11ea_9d17_8c85903d48d1row2_col6\" class=\"data row2 col6\" >0.002</td>\n",
       "                        <td id=\"T_c2624668_f752_11ea_9d17_8c85903d48d1row2_col7\" class=\"data row2 col7\" >0.018</td>\n",
       "            </tr>\n",
       "            <tr>\n",
       "                        <th id=\"T_c2624668_f752_11ea_9d17_8c85903d48d1level0_row3\" class=\"row_heading level0 row3\" >3</th>\n",
       "                        <td id=\"T_c2624668_f752_11ea_9d17_8c85903d48d1row3_col0\" class=\"data row3 col0\" >Rico Alan Heart</td>\n",
       "                        <td id=\"T_c2624668_f752_11ea_9d17_8c85903d48d1row3_col1\" class=\"data row3 col1\" >Easy</td>\n",
       "                        <td id=\"T_c2624668_f752_11ea_9d17_8c85903d48d1row3_col2\" class=\"data row3 col2\" >22</td>\n",
       "                        <td id=\"T_c2624668_f752_11ea_9d17_8c85903d48d1row3_col3\" class=\"data row3 col3\" >0.001</td>\n",
       "                        <td id=\"T_c2624668_f752_11ea_9d17_8c85903d48d1row3_col4\" class=\"data row3 col4\" >0.072</td>\n",
       "                        <td id=\"T_c2624668_f752_11ea_9d17_8c85903d48d1row3_col5\" class=\"data row3 col5\" >0.021</td>\n",
       "                        <td id=\"T_c2624668_f752_11ea_9d17_8c85903d48d1row3_col6\" class=\"data row3 col6\" >0.007</td>\n",
       "                        <td id=\"T_c2624668_f752_11ea_9d17_8c85903d48d1row3_col7\" class=\"data row3 col7\" >0.018</td>\n",
       "            </tr>\n",
       "            <tr>\n",
       "                        <th id=\"T_c2624668_f752_11ea_9d17_8c85903d48d1level0_row4\" class=\"row_heading level0 row4\" >4</th>\n",
       "                        <td id=\"T_c2624668_f752_11ea_9d17_8c85903d48d1row4_col0\" class=\"data row4 col0\" >SMH 3</td>\n",
       "                        <td id=\"T_c2624668_f752_11ea_9d17_8c85903d48d1row4_col1\" class=\"data row4 col1\" >Moderate</td>\n",
       "                        <td id=\"T_c2624668_f752_11ea_9d17_8c85903d48d1row4_col2\" class=\"data row4 col2\" >26</td>\n",
       "                        <td id=\"T_c2624668_f752_11ea_9d17_8c85903d48d1row4_col3\" class=\"data row4 col3\" >0.001</td>\n",
       "                        <td id=\"T_c2624668_f752_11ea_9d17_8c85903d48d1row4_col4\" class=\"data row4 col4\" >0.076</td>\n",
       "                        <td id=\"T_c2624668_f752_11ea_9d17_8c85903d48d1row4_col5\" class=\"data row4 col5\" >0.020</td>\n",
       "                        <td id=\"T_c2624668_f752_11ea_9d17_8c85903d48d1row4_col6\" class=\"data row4 col6\" >0.028</td>\n",
       "                        <td id=\"T_c2624668_f752_11ea_9d17_8c85903d48d1row4_col7\" class=\"data row4 col7\" >0.019</td>\n",
       "            </tr>\n",
       "            <tr>\n",
       "                        <th id=\"T_c2624668_f752_11ea_9d17_8c85903d48d1level0_row5\" class=\"row_heading level0 row5\" >5</th>\n",
       "                        <td id=\"T_c2624668_f752_11ea_9d17_8c85903d48d1row5_col0\" class=\"data row5 col0\" >SMH 4</td>\n",
       "                        <td id=\"T_c2624668_f752_11ea_9d17_8c85903d48d1row5_col1\" class=\"data row5 col1\" >Hard</td>\n",
       "                        <td id=\"T_c2624668_f752_11ea_9d17_8c85903d48d1row5_col2\" class=\"data row5 col2\" >22</td>\n",
       "                        <td id=\"T_c2624668_f752_11ea_9d17_8c85903d48d1row5_col3\" class=\"data row5 col3\" >0.001</td>\n",
       "                        <td id=\"T_c2624668_f752_11ea_9d17_8c85903d48d1row5_col4\" class=\"data row5 col4\" >1.332</td>\n",
       "                        <td id=\"T_c2624668_f752_11ea_9d17_8c85903d48d1row5_col5\" class=\"data row5 col5\" >0.025</td>\n",
       "                        <td id=\"T_c2624668_f752_11ea_9d17_8c85903d48d1row5_col6\" class=\"data row5 col6\" >0.016</td>\n",
       "                        <td id=\"T_c2624668_f752_11ea_9d17_8c85903d48d1row5_col7\" class=\"data row5 col7\" >0.025</td>\n",
       "            </tr>\n",
       "            <tr>\n",
       "                        <th id=\"T_c2624668_f752_11ea_9d17_8c85903d48d1level0_row6\" class=\"row_heading level0 row6\" >6</th>\n",
       "                        <td id=\"T_c2624668_f752_11ea_9d17_8c85903d48d1row6_col0\" class=\"data row6 col0\" >SMH 5</td>\n",
       "                        <td id=\"T_c2624668_f752_11ea_9d17_8c85903d48d1row6_col1\" class=\"data row6 col1\" >Hard</td>\n",
       "                        <td id=\"T_c2624668_f752_11ea_9d17_8c85903d48d1row6_col2\" class=\"data row6 col2\" >25</td>\n",
       "                        <td id=\"T_c2624668_f752_11ea_9d17_8c85903d48d1row6_col3\" class=\"data row6 col3\" >0.001</td>\n",
       "                        <td id=\"T_c2624668_f752_11ea_9d17_8c85903d48d1row6_col4\" class=\"data row6 col4\" >0.560</td>\n",
       "                        <td id=\"T_c2624668_f752_11ea_9d17_8c85903d48d1row6_col5\" class=\"data row6 col5\" >0.025</td>\n",
       "                        <td id=\"T_c2624668_f752_11ea_9d17_8c85903d48d1row6_col6\" class=\"data row6 col6\" >0.013</td>\n",
       "                        <td id=\"T_c2624668_f752_11ea_9d17_8c85903d48d1row6_col7\" class=\"data row6 col7\" >0.018</td>\n",
       "            </tr>\n",
       "            <tr>\n",
       "                        <th id=\"T_c2624668_f752_11ea_9d17_8c85903d48d1level0_row7\" class=\"row_heading level0 row7\" >7</th>\n",
       "                        <td id=\"T_c2624668_f752_11ea_9d17_8c85903d48d1row7_col0\" class=\"data row7 col0\" >Greg [2017]</td>\n",
       "                        <td id=\"T_c2624668_f752_11ea_9d17_8c85903d48d1row7_col1\" class=\"data row7 col1\" >Hard</td>\n",
       "                        <td id=\"T_c2624668_f752_11ea_9d17_8c85903d48d1row7_col2\" class=\"data row7 col2\" >21</td>\n",
       "                        <td id=\"T_c2624668_f752_11ea_9d17_8c85903d48d1row7_col3\" class=\"data row7 col3\" >0.001</td>\n",
       "                        <td id=\"T_c2624668_f752_11ea_9d17_8c85903d48d1row7_col4\" class=\"data row7 col4\" >0.572</td>\n",
       "                        <td id=\"T_c2624668_f752_11ea_9d17_8c85903d48d1row7_col5\" class=\"data row7 col5\" >0.038</td>\n",
       "                        <td id=\"T_c2624668_f752_11ea_9d17_8c85903d48d1row7_col6\" class=\"data row7 col6\" >0.042</td>\n",
       "                        <td id=\"T_c2624668_f752_11ea_9d17_8c85903d48d1row7_col7\" class=\"data row7 col7\" >0.020</td>\n",
       "            </tr>\n",
       "    </tbody></table>"
      ],
      "text/plain": [
       "<pandas.io.formats.style.Styler at 0x1232b9c90>"
      ]
     },
     "execution_count": 44,
     "metadata": {},
     "output_type": "execute_result"
    }
   ],
   "source": [
    "method = 'cheat'\n",
    "all_methods = list(pt.get_test_labels())\n",
    "all_methods.append(method)\n",
    "\n",
    "solver = CheatingSolver()\n",
    "pt.run_tests(solver, method)\n",
    "show_results(pt, axis=1)"
   ]
  },
  {
   "cell_type": "markdown",
   "metadata": {},
   "source": [
    "## Diversion #3: Catching Cheats\n",
    "\n",
    "To prevent the new cheat we basically need to compare the puzzle with a copy of the original. That way we can detect that the starting clues have been over written.\n",
    "\n",
    "We can't do this in the `SudokuPuzzle` itself. Python doesn't really have `private` attributes, [more a naming convention](https://docs.python.org/3/tutorial/classes.html#tut-private) that signals \"hey, you're not supposed to muck around with this\", but we've already seen that we can pretty much ignore that and modify the class's internals. And since we're trying to guard against cheating we can assume an attacker will happily ignore convention.\n",
    "\n",
    "If we assume that the caller (test harness) can be trusted then we can let the caller verify that the original puzzle is OK. We'll just need a function that confirms if the starting clues in one puzzle also exist in the second.\n"
   ]
  },
  {
   "cell_type": "code",
   "execution_count": 45,
   "metadata": {},
   "outputs": [],
   "source": [
    "def has_same_clues(a, b):\n",
    "    \"\"\"Returns true if the non empty cells in a have the same value in b\"\"\"\n",
    "    if a.max_value() != b.max_value():\n",
    "        return False\n",
    "    \n",
    "    for i in range(a.max_value()):\n",
    "        for j in range(a.max_value()):\n",
    "            if not a.is_empty(i, j) and a.get(i, j) != b.get(i, j):\n",
    "                return False\n",
    "    return True"
   ]
  },
  {
   "cell_type": "code",
   "execution_count": 46,
   "metadata": {},
   "outputs": [
    {
     "data": {
      "text/plain": [
       "True"
      ]
     },
     "execution_count": 46,
     "metadata": {},
     "output_type": "execute_result"
    }
   ],
   "source": [
    "puzzle = su.SudokuPuzzle(starting_grid=pg.from_string(su.SAMPLE_PUZZLES[-1]['puzzle']))\n",
    "original = copy.deepcopy(puzzle)\n",
    "has_same_clues(original, puzzle)"
   ]
  },
  {
   "cell_type": "code",
   "execution_count": 47,
   "metadata": {},
   "outputs": [
    {
     "data": {
      "text/plain": [
       "True"
      ]
     },
     "execution_count": 47,
     "metadata": {},
     "output_type": "execute_result"
    }
   ],
   "source": [
    "solver.solve(puzzle)\n",
    "puzzle.is_solved()"
   ]
  },
  {
   "cell_type": "code",
   "execution_count": 48,
   "metadata": {},
   "outputs": [
    {
     "data": {
      "text/plain": [
       "False"
      ]
     },
     "execution_count": 48,
     "metadata": {},
     "output_type": "execute_result"
    }
   ],
   "source": [
    "has_same_clues(original, puzzle)"
   ]
  },
  {
   "cell_type": "markdown",
   "metadata": {},
   "source": [
    "Putting it all together, let's ~~monkey patch~~ switch on anti-cheat checking and make sure it throws away test results if the solver has cheated."
   ]
  },
  {
   "cell_type": "code",
   "execution_count": 49,
   "metadata": {},
   "outputs": [
    {
     "data": {
      "text/html": [
       "<style  type=\"text/css\" >\n",
       "    #T_c26bbcc0_f752_11ea_9d17_8c85903d48d1row0_col3 {\n",
       "            background-color:  red;\n",
       "        }    #T_c26bbcc0_f752_11ea_9d17_8c85903d48d1row1_col3 {\n",
       "            background-color:  red;\n",
       "        }    #T_c26bbcc0_f752_11ea_9d17_8c85903d48d1row2_col3 {\n",
       "            background-color:  red;\n",
       "        }    #T_c26bbcc0_f752_11ea_9d17_8c85903d48d1row3_col3 {\n",
       "            background-color:  red;\n",
       "        }    #T_c26bbcc0_f752_11ea_9d17_8c85903d48d1row4_col3 {\n",
       "            background-color:  red;\n",
       "        }    #T_c26bbcc0_f752_11ea_9d17_8c85903d48d1row5_col3 {\n",
       "            background-color:  red;\n",
       "        }    #T_c26bbcc0_f752_11ea_9d17_8c85903d48d1row6_col3 {\n",
       "            background-color:  red;\n",
       "        }    #T_c26bbcc0_f752_11ea_9d17_8c85903d48d1row7_col3 {\n",
       "            background-color:  red;\n",
       "        }</style><table id=\"T_c26bbcc0_f752_11ea_9d17_8c85903d48d1\" ><thead>    <tr>        <th class=\"blank level0\" ></th>        <th class=\"col_heading level0 col0\" >label</th>        <th class=\"col_heading level0 col1\" >level</th>        <th class=\"col_heading level0 col2\" >starting_clues</th>        <th class=\"col_heading level0 col3\" >cheat</th>        <th class=\"col_heading level0 col4\" >backtracking</th>        <th class=\"col_heading level0 col5\" >constraintpropogation</th>        <th class=\"col_heading level0 col6\" >deductive</th>        <th class=\"col_heading level0 col7\" >sat</th>    </tr></thead><tbody>\n",
       "                <tr>\n",
       "                        <th id=\"T_c26bbcc0_f752_11ea_9d17_8c85903d48d1level0_row0\" class=\"row_heading level0 row0\" >0</th>\n",
       "                        <td id=\"T_c26bbcc0_f752_11ea_9d17_8c85903d48d1row0_col0\" class=\"data row0 col0\" >SMH 1</td>\n",
       "                        <td id=\"T_c26bbcc0_f752_11ea_9d17_8c85903d48d1row0_col1\" class=\"data row0 col1\" >Kids</td>\n",
       "                        <td id=\"T_c26bbcc0_f752_11ea_9d17_8c85903d48d1row0_col2\" class=\"data row0 col2\" >31</td>\n",
       "                        <td id=\"T_c26bbcc0_f752_11ea_9d17_8c85903d48d1row0_col3\" class=\"data row0 col3\" >None</td>\n",
       "                        <td id=\"T_c26bbcc0_f752_11ea_9d17_8c85903d48d1row0_col4\" class=\"data row0 col4\" >0.00337</td>\n",
       "                        <td id=\"T_c26bbcc0_f752_11ea_9d17_8c85903d48d1row0_col5\" class=\"data row0 col5\" >0.00159</td>\n",
       "                        <td id=\"T_c26bbcc0_f752_11ea_9d17_8c85903d48d1row0_col6\" class=\"data row0 col6\" >0.00159</td>\n",
       "                        <td id=\"T_c26bbcc0_f752_11ea_9d17_8c85903d48d1row0_col7\" class=\"data row0 col7\" >0.0173</td>\n",
       "            </tr>\n",
       "            <tr>\n",
       "                        <th id=\"T_c26bbcc0_f752_11ea_9d17_8c85903d48d1level0_row1\" class=\"row_heading level0 row1\" >1</th>\n",
       "                        <td id=\"T_c26bbcc0_f752_11ea_9d17_8c85903d48d1row1_col0\" class=\"data row1 col0\" >SMH 2</td>\n",
       "                        <td id=\"T_c26bbcc0_f752_11ea_9d17_8c85903d48d1row1_col1\" class=\"data row1 col1\" >Easy</td>\n",
       "                        <td id=\"T_c26bbcc0_f752_11ea_9d17_8c85903d48d1row1_col2\" class=\"data row1 col2\" >24</td>\n",
       "                        <td id=\"T_c26bbcc0_f752_11ea_9d17_8c85903d48d1row1_col3\" class=\"data row1 col3\" >None</td>\n",
       "                        <td id=\"T_c26bbcc0_f752_11ea_9d17_8c85903d48d1row1_col4\" class=\"data row1 col4\" >0.18</td>\n",
       "                        <td id=\"T_c26bbcc0_f752_11ea_9d17_8c85903d48d1row1_col5\" class=\"data row1 col5\" >0.00198</td>\n",
       "                        <td id=\"T_c26bbcc0_f752_11ea_9d17_8c85903d48d1row1_col6\" class=\"data row1 col6\" >0.00305</td>\n",
       "                        <td id=\"T_c26bbcc0_f752_11ea_9d17_8c85903d48d1row1_col7\" class=\"data row1 col7\" >0.0173</td>\n",
       "            </tr>\n",
       "            <tr>\n",
       "                        <th id=\"T_c26bbcc0_f752_11ea_9d17_8c85903d48d1level0_row2\" class=\"row_heading level0 row2\" >2</th>\n",
       "                        <td id=\"T_c26bbcc0_f752_11ea_9d17_8c85903d48d1row2_col0\" class=\"data row2 col0\" >KTH 1</td>\n",
       "                        <td id=\"T_c26bbcc0_f752_11ea_9d17_8c85903d48d1row2_col1\" class=\"data row2 col1\" >Easy</td>\n",
       "                        <td id=\"T_c26bbcc0_f752_11ea_9d17_8c85903d48d1row2_col2\" class=\"data row2 col2\" >30</td>\n",
       "                        <td id=\"T_c26bbcc0_f752_11ea_9d17_8c85903d48d1row2_col3\" class=\"data row2 col3\" >None</td>\n",
       "                        <td id=\"T_c26bbcc0_f752_11ea_9d17_8c85903d48d1row2_col4\" class=\"data row2 col4\" >0.0109</td>\n",
       "                        <td id=\"T_c26bbcc0_f752_11ea_9d17_8c85903d48d1row2_col5\" class=\"data row2 col5\" >0.00143</td>\n",
       "                        <td id=\"T_c26bbcc0_f752_11ea_9d17_8c85903d48d1row2_col6\" class=\"data row2 col6\" >0.00154</td>\n",
       "                        <td id=\"T_c26bbcc0_f752_11ea_9d17_8c85903d48d1row2_col7\" class=\"data row2 col7\" >0.0178</td>\n",
       "            </tr>\n",
       "            <tr>\n",
       "                        <th id=\"T_c26bbcc0_f752_11ea_9d17_8c85903d48d1level0_row3\" class=\"row_heading level0 row3\" >3</th>\n",
       "                        <td id=\"T_c26bbcc0_f752_11ea_9d17_8c85903d48d1row3_col0\" class=\"data row3 col0\" >Rico Alan Heart</td>\n",
       "                        <td id=\"T_c26bbcc0_f752_11ea_9d17_8c85903d48d1row3_col1\" class=\"data row3 col1\" >Easy</td>\n",
       "                        <td id=\"T_c26bbcc0_f752_11ea_9d17_8c85903d48d1row3_col2\" class=\"data row3 col2\" >22</td>\n",
       "                        <td id=\"T_c26bbcc0_f752_11ea_9d17_8c85903d48d1row3_col3\" class=\"data row3 col3\" >None</td>\n",
       "                        <td id=\"T_c26bbcc0_f752_11ea_9d17_8c85903d48d1row3_col4\" class=\"data row3 col4\" >0.0718</td>\n",
       "                        <td id=\"T_c26bbcc0_f752_11ea_9d17_8c85903d48d1row3_col5\" class=\"data row3 col5\" >0.0211</td>\n",
       "                        <td id=\"T_c26bbcc0_f752_11ea_9d17_8c85903d48d1row3_col6\" class=\"data row3 col6\" >0.00683</td>\n",
       "                        <td id=\"T_c26bbcc0_f752_11ea_9d17_8c85903d48d1row3_col7\" class=\"data row3 col7\" >0.0182</td>\n",
       "            </tr>\n",
       "            <tr>\n",
       "                        <th id=\"T_c26bbcc0_f752_11ea_9d17_8c85903d48d1level0_row4\" class=\"row_heading level0 row4\" >4</th>\n",
       "                        <td id=\"T_c26bbcc0_f752_11ea_9d17_8c85903d48d1row4_col0\" class=\"data row4 col0\" >SMH 3</td>\n",
       "                        <td id=\"T_c26bbcc0_f752_11ea_9d17_8c85903d48d1row4_col1\" class=\"data row4 col1\" >Moderate</td>\n",
       "                        <td id=\"T_c26bbcc0_f752_11ea_9d17_8c85903d48d1row4_col2\" class=\"data row4 col2\" >26</td>\n",
       "                        <td id=\"T_c26bbcc0_f752_11ea_9d17_8c85903d48d1row4_col3\" class=\"data row4 col3\" >None</td>\n",
       "                        <td id=\"T_c26bbcc0_f752_11ea_9d17_8c85903d48d1row4_col4\" class=\"data row4 col4\" >0.0761</td>\n",
       "                        <td id=\"T_c26bbcc0_f752_11ea_9d17_8c85903d48d1row4_col5\" class=\"data row4 col5\" >0.0203</td>\n",
       "                        <td id=\"T_c26bbcc0_f752_11ea_9d17_8c85903d48d1row4_col6\" class=\"data row4 col6\" >0.0277</td>\n",
       "                        <td id=\"T_c26bbcc0_f752_11ea_9d17_8c85903d48d1row4_col7\" class=\"data row4 col7\" >0.0194</td>\n",
       "            </tr>\n",
       "            <tr>\n",
       "                        <th id=\"T_c26bbcc0_f752_11ea_9d17_8c85903d48d1level0_row5\" class=\"row_heading level0 row5\" >5</th>\n",
       "                        <td id=\"T_c26bbcc0_f752_11ea_9d17_8c85903d48d1row5_col0\" class=\"data row5 col0\" >SMH 4</td>\n",
       "                        <td id=\"T_c26bbcc0_f752_11ea_9d17_8c85903d48d1row5_col1\" class=\"data row5 col1\" >Hard</td>\n",
       "                        <td id=\"T_c26bbcc0_f752_11ea_9d17_8c85903d48d1row5_col2\" class=\"data row5 col2\" >22</td>\n",
       "                        <td id=\"T_c26bbcc0_f752_11ea_9d17_8c85903d48d1row5_col3\" class=\"data row5 col3\" >None</td>\n",
       "                        <td id=\"T_c26bbcc0_f752_11ea_9d17_8c85903d48d1row5_col4\" class=\"data row5 col4\" >1.33</td>\n",
       "                        <td id=\"T_c26bbcc0_f752_11ea_9d17_8c85903d48d1row5_col5\" class=\"data row5 col5\" >0.0253</td>\n",
       "                        <td id=\"T_c26bbcc0_f752_11ea_9d17_8c85903d48d1row5_col6\" class=\"data row5 col6\" >0.0163</td>\n",
       "                        <td id=\"T_c26bbcc0_f752_11ea_9d17_8c85903d48d1row5_col7\" class=\"data row5 col7\" >0.0254</td>\n",
       "            </tr>\n",
       "            <tr>\n",
       "                        <th id=\"T_c26bbcc0_f752_11ea_9d17_8c85903d48d1level0_row6\" class=\"row_heading level0 row6\" >6</th>\n",
       "                        <td id=\"T_c26bbcc0_f752_11ea_9d17_8c85903d48d1row6_col0\" class=\"data row6 col0\" >SMH 5</td>\n",
       "                        <td id=\"T_c26bbcc0_f752_11ea_9d17_8c85903d48d1row6_col1\" class=\"data row6 col1\" >Hard</td>\n",
       "                        <td id=\"T_c26bbcc0_f752_11ea_9d17_8c85903d48d1row6_col2\" class=\"data row6 col2\" >25</td>\n",
       "                        <td id=\"T_c26bbcc0_f752_11ea_9d17_8c85903d48d1row6_col3\" class=\"data row6 col3\" >None</td>\n",
       "                        <td id=\"T_c26bbcc0_f752_11ea_9d17_8c85903d48d1row6_col4\" class=\"data row6 col4\" >0.56</td>\n",
       "                        <td id=\"T_c26bbcc0_f752_11ea_9d17_8c85903d48d1row6_col5\" class=\"data row6 col5\" >0.0248</td>\n",
       "                        <td id=\"T_c26bbcc0_f752_11ea_9d17_8c85903d48d1row6_col6\" class=\"data row6 col6\" >0.0127</td>\n",
       "                        <td id=\"T_c26bbcc0_f752_11ea_9d17_8c85903d48d1row6_col7\" class=\"data row6 col7\" >0.0182</td>\n",
       "            </tr>\n",
       "            <tr>\n",
       "                        <th id=\"T_c26bbcc0_f752_11ea_9d17_8c85903d48d1level0_row7\" class=\"row_heading level0 row7\" >7</th>\n",
       "                        <td id=\"T_c26bbcc0_f752_11ea_9d17_8c85903d48d1row7_col0\" class=\"data row7 col0\" >Greg [2017]</td>\n",
       "                        <td id=\"T_c26bbcc0_f752_11ea_9d17_8c85903d48d1row7_col1\" class=\"data row7 col1\" >Hard</td>\n",
       "                        <td id=\"T_c26bbcc0_f752_11ea_9d17_8c85903d48d1row7_col2\" class=\"data row7 col2\" >21</td>\n",
       "                        <td id=\"T_c26bbcc0_f752_11ea_9d17_8c85903d48d1row7_col3\" class=\"data row7 col3\" >None</td>\n",
       "                        <td id=\"T_c26bbcc0_f752_11ea_9d17_8c85903d48d1row7_col4\" class=\"data row7 col4\" >0.572</td>\n",
       "                        <td id=\"T_c26bbcc0_f752_11ea_9d17_8c85903d48d1row7_col5\" class=\"data row7 col5\" >0.0381</td>\n",
       "                        <td id=\"T_c26bbcc0_f752_11ea_9d17_8c85903d48d1row7_col6\" class=\"data row7 col6\" >0.0418</td>\n",
       "                        <td id=\"T_c26bbcc0_f752_11ea_9d17_8c85903d48d1row7_col7\" class=\"data row7 col7\" >0.0197</td>\n",
       "            </tr>\n",
       "    </tbody></table>"
      ],
      "text/plain": [
       "<pandas.io.formats.style.Styler at 0x123272a10>"
      ]
     },
     "execution_count": 49,
     "metadata": {},
     "output_type": "execute_result"
    }
   ],
   "source": [
    "pt.anti_cheat_checking = True\n",
    "pt.run_tests(solver, method)\n",
    "df = pd.DataFrame(pt.get_test_results())\n",
    "df.style.highlight_null()"
   ]
  },
  {
   "cell_type": "markdown",
   "metadata": {},
   "source": [
    "OK! Our cheating solver has had no results recorded for it, because the answer it gives does not match the starting clues!\n",
    "\n",
    "There are probably ways to defeat these checks, particularly in a language like Python where \"monkey patching\" is a thing and everything is dynamic. That might be a fun way to learn more about the internals of Python, but for now I'm declaring this \"done\" and moving on to the next puzzle..."
   ]
  },
  {
   "cell_type": "markdown",
   "metadata": {},
   "source": [
    "---\n",
    "# Conclusion\n",
    "\n",
    "*TODO:* Next steps?\n"
   ]
  },
  {
   "cell_type": "code",
   "execution_count": 50,
   "metadata": {},
   "outputs": [
    {
     "name": "stdout",
     "output_type": "stream",
     "text": [
      "2020-09-15 22:55:40.957634\n"
     ]
    }
   ],
   "source": [
    "import datetime\n",
    "print(datetime.datetime.now())"
   ]
  },
  {
   "cell_type": "markdown",
   "metadata": {},
   "source": [
    "---\n",
    "# Appendix\n",
    "\n",
    "## Sources\n",
    "\n",
    "Part of this exercise was to learn Python and Jupyter skills while also solving a problem that I found interesting. So I've largely avoided reading other people's solutions to solving Sudoku. However from time to time I've gotten stuck or just been curious about something and found the below sources useful.\n",
    "\n",
    "* The \"Top 95\" and \"Hardest\" puzzle examples in the data directory come from [Solving Every Sudoku Puzzle (by Peter Norvig)](https://norvig.com/sudoku.html)\n",
    "* [Sudoku solving algorithms](https://en.wikipedia.org/wiki/Sudoku_solving_algorithms) -- links to some sample puzzles (on Flickr of all places). Found via the [Wikipedia article on Sudoku solving algorithms](https://en.wikipedia.org/wiki/Sudoku_solving_algorithms).\n",
    "* [AI Sudoku](http://www.aisudoku.com/index_en.html) -- collection of really hard puzzles.\n",
    "* The [sudoku.py](sudoku.py) class has URLs to where I found some of the sample puzzles. I've attempted to use labels for them that credit the source, although it's not always clear where the original puzzle came from.\n",
    "* Also used examples from [Simple sudoku solver using constraint propagation](https://gpicavet.github.io/jekyll/update/2017/12/16/sudoku-solver.html) (Grégory Picavet's Blog).\n",
    "\n",
    "\n",
    "## Table formatting\n",
    "\n",
    "Snippet below inserts some CSS to make the table look more like a Sudoku puzzle grid.\n"
   ]
  },
  {
   "cell_type": "code",
   "execution_count": 51,
   "metadata": {},
   "outputs": [
    {
     "data": {
      "text/html": [
       "\n",
       "<style type=\"text/css\">\n",
       ".sudoku table {\n",
       "    border: 3px solid red;\n",
       "    text-align: center; \n",
       "    vertical-align: middle;\n",
       "}\n",
       "\n",
       ".sudoku td {\n",
       "    width: 40px;\n",
       "    height: 40px;\n",
       "    border: 1px solid #F00;\n",
       "}\n",
       "\n",
       ".sudoku td:nth-of-type(3n) {    \n",
       "    border-right: 3px solid red;\n",
       "}\n",
       "\n",
       ".sudoku tr:nth-of-type(3n) td {    \n",
       "    border-bottom: 3px solid red;\n",
       "}\n",
       "\n",
       ".sudoku.solved table {\n",
       "    border: 3px solid green;\n",
       "}\n",
       "\n",
       ".sudoku.solved td {\n",
       "    border: 1px solid green;\n",
       "}\n",
       "\n",
       ".sudoku.solved td:nth-of-type(3n) {    \n",
       "    border-right: 3px solid green;\n",
       "}\n",
       "\n",
       ".sudoku.solved tr:nth-of-type(3n) td {    \n",
       "    border-bottom: 3px solid green;\n",
       "}\n",
       "\n",
       "</style>\n"
      ],
      "text/plain": [
       "<IPython.core.display.HTML object>"
      ]
     },
     "metadata": {},
     "output_type": "display_data"
    }
   ],
   "source": [
    "display(HTML('''\n",
    "<style type=\"text/css\">\n",
    ".sudoku table {\n",
    "    border: 3px solid red;\n",
    "    text-align: center; \n",
    "    vertical-align: middle;\n",
    "}\n",
    "\n",
    ".sudoku td {\n",
    "    width: 40px;\n",
    "    height: 40px;\n",
    "    border: 1px solid #F00;\n",
    "}\n",
    "\n",
    ".sudoku td:nth-of-type(3n) {    \n",
    "    border-right: 3px solid red;\n",
    "}\n",
    "\n",
    ".sudoku tr:nth-of-type(3n) td {    \n",
    "    border-bottom: 3px solid red;\n",
    "}\n",
    "\n",
    ".sudoku.solved table {\n",
    "    border: 3px solid green;\n",
    "}\n",
    "\n",
    ".sudoku.solved td {\n",
    "    border: 1px solid green;\n",
    "}\n",
    "\n",
    ".sudoku.solved td:nth-of-type(3n) {    \n",
    "    border-right: 3px solid green;\n",
    "}\n",
    "\n",
    ".sudoku.solved tr:nth-of-type(3n) td {    \n",
    "    border-bottom: 3px solid green;\n",
    "}\n",
    "\n",
    "</style>\n",
    "'''))"
   ]
  },
  {
   "cell_type": "markdown",
   "metadata": {},
   "source": [
    "Scratch.txt\n",
    "\n",
    "#10: Rico Alan Border #1\n",
    "Greg: Solved in 3 ms, 59 tests, 0 backtracks\n",
    "Me: Solved in 3 ms\n",
    "\n",
    "#13: Rico Alan #3\n",
    "Greg: Invalid board!\n",
    "Me: Solved in 1.771 s\n",
    "\n",
    "#11: Rico Alan #4\n",
    "Greg: Solved in 30 ms, 5396 tests, 2371 backtracks\n",
    "Me: Solved in 26 ms\n",
    "\n",
    "#12: Qassim Hamza\n",
    "Greg: Solved in 15 ms\n",
    "Me: Solved in 59 ms\n",
    "\n",
    "#14: World's Hardest Sudoku 2012\n",
    "Greg: Solved in 21 ms\n",
    "Me: Solved in 30 ms\n",
    "\n",
    "#15: AI escargot\n",
    "Greg: Solved in 1 ms, 187 tests, 12 backtracks\n",
    "Me: Solved in 4 ms"
   ]
  }
 ],
 "metadata": {
  "kernelspec": {
   "display_name": "Python 3",
   "language": "python",
   "name": "python3"
  },
  "language_info": {
   "codemirror_mode": {
    "name": "ipython",
    "version": 3
   },
   "file_extension": ".py",
   "mimetype": "text/x-python",
   "name": "python",
   "nbconvert_exporter": "python",
   "pygments_lexer": "ipython3",
   "version": "3.7.4"
  }
 },
 "nbformat": 4,
 "nbformat_minor": 4
}
