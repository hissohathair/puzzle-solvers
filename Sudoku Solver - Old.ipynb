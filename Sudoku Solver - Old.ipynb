{
 "cells": [
  {
   "cell_type": "markdown",
   "metadata": {},
   "source": [
    "# Sudoku Puzzle Solver\n",
    "\n",
    "Some test puzzles of varying difficulties are encoded in a 2 dimensional matrix below.\n"
   ]
  },
  {
   "cell_type": "code",
   "execution_count": null,
   "metadata": {},
   "outputs": [],
   "source": [
    "# Some puzzles for testing\n",
    "diabolical = [\n",
    "    [0, 0, 8, 0, 0, 0, 0, 0, 0],\n",
    "    [1, 0, 0, 6, 0, 0, 4, 9, 0],\n",
    "    [5, 0, 0, 0, 0, 0, 0, 7, 0],\n",
    "    [0, 7, 0, 0, 4, 0, 0, 0, 0],\n",
    "    [0, 5, 0, 2, 0, 6, 0, 0, 0],\n",
    "    [8, 0, 0, 7, 9, 0, 0, 1, 0],\n",
    "    [0, 6, 3, 0, 0, 0, 0, 0, 1],\n",
    "    [0, 0, 5, 0, 7, 3, 0, 0, 0],\n",
    "    [0, 0, 0, 9, 0, 0, 7, 5, 0]\n",
    "]\n",
    "\n",
    "hard = [\n",
    "    [0, 0, 4, 5, 0, 7, 0, 0, 0],\n",
    "    [0, 0, 0, 0, 0, 0, 0, 9, 8],\n",
    "    [0, 0, 2, 0, 6, 0, 0, 3, 0],\n",
    "    [7, 0, 0, 1, 5, 0, 0, 0, 0],\n",
    "    [0, 0, 0, 0, 0, 9, 0, 0, 0],\n",
    "    [0, 0, 0, 0, 0, 0, 0, 5, 6],\n",
    "    [0, 8, 6, 0, 4, 0, 0, 0, 0],\n",
    "    [0, 2, 0, 0, 0, 0, 1, 7, 0],\n",
    "    [0, 3, 0, 0, 0, 1, 0, 0, 0]\n",
    "]\n",
    "\n",
    "moderate = [\n",
    "    [0, 0, 7, 5, 0, 0, 0, 0, 0],\n",
    "    [1, 0, 0, 0, 0, 9, 8, 0, 0],\n",
    "    [0, 6, 0, 0, 1, 0, 4, 3, 0],\n",
    "    [8, 0, 5, 0, 0, 2, 0, 1, 0],\n",
    "    [0, 0, 0, 0, 0, 0, 2, 0, 0],\n",
    "    [0, 1, 0, 7, 0, 0, 0, 0, 9],\n",
    "    [0, 0, 3, 0, 0, 8, 0, 0, 4],\n",
    "    [0, 4, 0, 9, 0, 0, 3, 0, 0],\n",
    "    [9, 0, 0, 0, 0, 6, 0, 2, 0]\n",
    "]\n",
    "\n",
    "easy = [\n",
    "    [7, 4, 3, 8, 0, 0, 0, 0, 0],\n",
    "    [0, 0, 0, 4, 0, 0, 0, 0, 0],\n",
    "    [0, 0, 0, 0, 9, 6, 0, 0, 0],\n",
    "    [0, 5, 0, 0, 8, 0, 0, 6, 0],\n",
    "    [8, 0, 4, 7, 0, 9, 3, 0, 0],\n",
    "    [0, 0, 0, 0, 0, 5, 0, 0, 0],\n",
    "    [0, 0, 0, 0, 0, 3, 0, 0, 9],\n",
    "    [9, 0, 0, 0, 1, 0, 0, 0, 0],\n",
    "    [0, 6, 0, 0, 0, 0, 7, 8, 2]\n",
    "]\n",
    "\n",
    "kids = [\n",
    "    [8, 9, 0, 4, 0, 0, 0, 5, 6],\n",
    "    [1, 4, 0, 3, 5, 0, 0, 9, 0],\n",
    "    [0, 0, 0, 0, 0, 0, 8, 0, 0],\n",
    "    [9, 0, 0, 0, 0, 0, 2, 0, 0],\n",
    "    [0, 8, 0, 9, 6, 5, 0, 4, 0],\n",
    "    [0, 0, 1, 0, 0, 0, 0, 0, 5],\n",
    "    [0, 0, 8, 0, 0, 0, 0, 0, 0],\n",
    "    [0, 3, 0, 0, 2, 1, 0, 7, 8],\n",
    "    [4, 2, 0, 0, 0, 6, 0, 1, 3]\n",
    "]"
   ]
  },
  {
   "cell_type": "markdown",
   "metadata": {},
   "source": [
    "## Checking puzzles\n",
    "\n",
    "For now, just a basic test that the puzzle is the expected size.\n",
    "\n",
    "*TODO:* Should check that the puzzle is internally consistent and hasn't broken the rules.\n"
   ]
  },
  {
   "cell_type": "code",
   "execution_count": null,
   "metadata": {},
   "outputs": [],
   "source": [
    "def check_puzzle_is_ok(puzzle):\n",
    "    '''Roughly check chosen puzzle \"shape\" by counting elements'''\n",
    "    flat_list = [item for sublist in puzzle for item in sublist]\n",
    "    if len(flat_list) != 81:\n",
    "        raise ValueError(\"Expecting 9x9 matrix to have 81 elements\")\n",
    "    return True\n"
   ]
  },
  {
   "cell_type": "markdown",
   "metadata": {},
   "source": [
    "We'll also check that a puzzle has been validly solved:\n",
    "\n",
    "1. Has a value for every cell\n",
    "2. That value is not repeated in its row, or column\n",
    "3. That value is not repeated in its cage\n"
   ]
  },
  {
   "cell_type": "code",
   "execution_count": null,
   "metadata": {},
   "outputs": [],
   "source": [
    "def extract_cage_from_matrix(puzzle, cage):\n",
    "    '''Given a matrix \"p\", extract the elements that can be found in the 3x3 cage c.'''\n",
    "    '''Cages are numbered 0..8 with top left being 0 and bottom right being 8.'''\n",
    "    r = []\n",
    "\n",
    "    top_x = (cage // 3) * 3\n",
    "    top_y = (cage % 3) * 3\n",
    "    for x in range(top_x, top_x+3):\n",
    "        for y in range(top_y, top_y+3):\n",
    "            r.append(puzzle[x][y])\n",
    "    return r\n",
    "    \n",
    "def check_solution_is_valid(puzzle, is_complete=True):\n",
    "    ''' Check that each row, column, and cage has digits 1..9 with no repeats\n",
    "        If is_complete is True, caller is claiming that the puzzle has been completed,\n",
    "        so function will reject an incomplete solution. Otherwise will just check \n",
    "        that values provided so far don't appear to break the rules yet.'''\n",
    "\n",
    "    complete_list = set(range(1, 10))\n",
    "    \n",
    "    # Check each row\n",
    "    for row in range(9):\n",
    "        check_list = puzzle[row]\n",
    "        if is_complete:\n",
    "            if set(check_list) != complete_list:\n",
    "                raise ValueError(f\"Row {row} broke the rules: {check_list} {is_complete}\")\n",
    "        else:\n",
    "            check_list = [x for x in check_list if x != 0]\n",
    "            if len(check_list) != len(set(check_list)):\n",
    "                raise ValueError(f\"Row {row} contains duplicates: {check_list}\")\n",
    "            \n",
    "    # Check each column\n",
    "    for col in range(9):\n",
    "        check_list = [row[col] for row in puzzle]\n",
    "        if is_complete:\n",
    "            if set(check_list) != complete_list:\n",
    "                raise ValueError(f\"Column {col} broke the rules: {check_list}\")\n",
    "        else:\n",
    "            check_list = [x for x in check_list if x != 0]\n",
    "            if len(check_list) != len(set(check_list)):\n",
    "                raise ValueError(f\"Column {col} contains duplicates: {check_list}\")\n",
    "            \n",
    "            \n",
    "    # Check each cage\n",
    "    for c in range(9):\n",
    "        check_list = extract_cage_from_matrix(puzzle, c)\n",
    "        if is_complete:\n",
    "            if set(check_list) != complete_list:\n",
    "                raise ValueError(f\"Cage {c} broke the rules: {check_list}\")\n",
    "        else:\n",
    "            check_list = [x for x in check_list if x != 0]\n",
    "            if len(check_list) != len(set(check_list)):\n",
    "                raise ValueError(f\"Cage {c} contains duplucates: {check_list}\")\n",
    "\n",
    "        \n",
    "    return True\n"
   ]
  },
  {
   "cell_type": "markdown",
   "metadata": {},
   "source": [
    "## The possibility matrix\n",
    "\n",
    "We build a \"possibility matrix\" which is a 9x9 matrix, with each cell initially containing the set of integers from 1 to 9 (inclusive). The idea then is to check the puzzle and update the possibility matrix by excluding any integers according to the Sudoku rules:\n",
    "\n",
    "1. No integer can be repeated in a row\n",
    "2. No integer can be repeated in a column\n",
    "3. No integer can be repeated with a \"cage\", which is the 3x3 box marked by heavy lines in the puzzle\n",
    "\n",
    "The idea is that once we exclude the impossibilities what should be left are some possible answers.\n",
    "\n",
    "### Building the matrix\n",
    "\n",
    "The matrix is built as a list of lists of integer sets. "
   ]
  },
  {
   "cell_type": "code",
   "execution_count": null,
   "metadata": {},
   "outputs": [],
   "source": [
    "def build_possibility_matrix():\n",
    "    '''Build a 9x9 matrix with each cell containing the set of digits 1..9'''\n",
    "    ret = [[] for x in range(9)]\n",
    "    for x in range(9):\n",
    "        ret[x] = [[] for y in range(9)]\n",
    "        for y in range(9):\n",
    "            ret[x][y] = set(range(1,10))\n",
    "    return ret\n"
   ]
  },
  {
   "cell_type": "markdown",
   "metadata": {},
   "source": [
    "### Excluding possibilities based on a single value\n",
    "\n",
    "We define a function that takes a `value`, and its position (0-based) in the puzzle `row`,`col`, and the current `possibility_matrix`. We then exclude the `value` from all the places in the matrix that it is no longer allowed to appear because it's \"locked in\" to `row`,`col`.\n"
   ]
  },
  {
   "cell_type": "code",
   "execution_count": null,
   "metadata": {},
   "outputs": [],
   "source": [
    "def exclude_possibility(value, row, col, possibility_matrix):\n",
    "    '''Exclude value \"value\" found at row,col from matrix \"possibility_matrix\"'''\n",
    "    #print(f\"Excluding {value} at {row+1},{col+1}\")\n",
    "    \n",
    "    # First, value cannot happen anywhere in row \"row\"\n",
    "    for y in range(9):\n",
    "        if value in possibility_matrix[row][y]:\n",
    "            possibility_matrix[row][y].remove(value)\n",
    "        \n",
    "    # Next, value v cannot happen anywhere in column \"col\"\n",
    "    for x in range(9):\n",
    "        if value in possibility_matrix[x][col]:\n",
    "            possibility_matrix[x][col].remove(value)\n",
    "            \n",
    "    # Finally, value v cannot happen in the 3x3 cell that contains row,col\n",
    "    cell_x = (row // 3)\n",
    "    cell_y = (col // 3)\n",
    "    for x in range(cell_x * 3, (cell_x+1)*3):\n",
    "        for y in range(cell_y*3, (cell_y+1)*3):\n",
    "            if value in possibility_matrix[x][y]:\n",
    "                possibility_matrix[x][y].remove(value)\n",
    "    \n",
    "    # We now lock in \"v\" as only possibility at row,col in q\n",
    "    possibility_matrix[row][col] = set([value])\n",
    "    return\n",
    "\n"
   ]
  },
  {
   "cell_type": "markdown",
   "metadata": {},
   "source": [
    "### Updating the possibility matrix\n",
    "\n",
    "We walk through the entire puzzle `p`, and for each solved cell, we update the possibility matrix `q` to remove the solved cell value from the unsolved cells where we know it cannot appear.\n",
    "\n",
    "The function will return the number of solved cells *in total* which is just a way of keepimg track of how we're doing.\n"
   ]
  },
  {
   "cell_type": "code",
   "execution_count": null,
   "metadata": {},
   "outputs": [],
   "source": [
    "def update_possibilities(puzzle, possibility_matrix):\n",
    "    '''Pass through puzzle and exclude possibilities from possibility_matrix based on what is already solved'''\n",
    "    solved_cells = 0\n",
    "    for x in range(9):\n",
    "        for y in range(9):\n",
    "            if puzzle[x][y] != 0:\n",
    "                solved_cells += 1\n",
    "                exclude_possibility(puzzle[x][y], x, y, possibility_matrix)\n",
    "    return solved_cells\n"
   ]
  },
  {
   "cell_type": "markdown",
   "metadata": {},
   "source": [
    "# Solution Strategy\n",
    "\n",
    "So far, have only a single solution strategy, which is to maintain a matrix of *possible values* in `q`. We begin be excluding possible values based on what we know already in the puzzle `p`. We can then check to see if that's collapsed any of the list of possible values to just one remaining possibility. When that happens, we update our puzzle `p` with the solved value.\n",
    "\n",
    "Eventually (or rather quickly, particularly on harder Sudoku puzzles) this strategy runs out of options and there are no cells left in `q` with a single remaining possible value. At this point we have to throw over to the human.\n",
    "\n",
    "## Solving using remaining possibilities\n",
    "\n",
    "This function checks the possibility matrix `q`, looking for cells that have only a single possible value remaining for a cell. When we find one, we update puzzle `p` with that value.\n",
    "\n",
    "Very often, we'll find that the possibility matrix has only one value because we updated the matrix with our current puzzle `p`. That's OK -- we'll just check that the values are the same. We'll also check that we haven't ended up in a state where a cell has *no possible values* -- clearly that would mean we've made a programming mistake.\n"
   ]
  },
  {
   "cell_type": "code",
   "execution_count": null,
   "metadata": {},
   "outputs": [],
   "source": [
    "def update_puzzle_using_possibilities(puzzle, possibility_matrix):\n",
    "    ''' Check possibility_matrix, to see if any possibilities have collapsed to a single\n",
    "        value, and if so, update puzzle'''\n",
    "    num_solved = 0\n",
    "    for x in range(9):\n",
    "        for y in range(9):\n",
    "            if len(possibility_matrix[x][y]) == 1:\n",
    "                # Only 1 possibility left! Stash it in \"n\" but without removing from set\n",
    "                n = next(iter(possibility_matrix[x][y]))\n",
    "\n",
    "                # We either have never solved this cell (==0) or we solved it already, but\n",
    "                # make sure we're keeping our matrix consistent\n",
    "                if puzzle[x][y] == 0:\n",
    "                    puzzle[x][y] = n\n",
    "                    #print(f\"Resolved {x+1},{y+1} as {n}\")\n",
    "                    num_solved += 1\n",
    "\n",
    "                elif puzzle[x][y] != n:\n",
    "                    raise ValueError(f\"Logic error: Expected to find {puzzle[x][y]} at {x},{y} but resolved to {n} instead\")\n",
    "\n",
    "            elif len(possibility_matrix[x][y]) < 1:\n",
    "                raise ValueError(f\"Logic error: Excluded all possibilities at {x},{y}\")\n",
    "\n",
    "    return num_solved\n"
   ]
  },
  {
   "cell_type": "markdown",
   "metadata": {},
   "source": [
    "## Getting hints from the human?\n",
    "\n",
    "For now, the only other strategy we have is to show a human the state of the puzzle so far. We'll print the matrix (fairly ugly but functional) and show\n",
    "\n",
    "1. Solved cells\n",
    "2. Cells with 2 possibilities\n",
    "\n",
    "The human can then make a copy of `p` with a guess for one of the values and then keep trying.\n"
   ]
  },
  {
   "cell_type": "code",
   "execution_count": null,
   "metadata": {},
   "outputs": [],
   "source": [
    "from IPython.display import HTML, display\n",
    "\n",
    "display(HTML('''\n",
    "<style type=\"text/css\">\n",
    "td {\n",
    "    width: 40px;\n",
    "    height: 40px;\n",
    "    border: 1px solid #000 !important; \n",
    "    text-align: center !important;\n",
    "}\n",
    "\n",
    "td:nth-of-type(3n) {    \n",
    "    border-right: 3px solid red !important;\n",
    "}\n",
    "\n",
    "tr:nth-of-type(3n) td {    \n",
    "    border-bottom: 3px solid red !important;\n",
    "}\n",
    "\n",
    "table {\n",
    "    border: 3px solid red !important;\n",
    "}\n",
    "</style>\n",
    "'''))\n",
    "\n",
    "def print_puzzle(puzzle, use_possibility_matrix=[]):\n",
    "    ''' Display a version of the puzzle matrix. If passed a possibility matrix in `use_possibility_matrix,\n",
    "        then will also show possible values in any cell where there are just 2 possible values remaining. '''\n",
    "    data = []\n",
    "    for x in range(9):\n",
    "        row_to_show = []\n",
    "        for y in range(9):\n",
    "            if puzzle[x][y] != 0:\n",
    "                row_to_show.append(puzzle[x][y])\n",
    "            elif len(use_possibility_matrix) > 0 and len(use_possibility_matrix[x][y]) <= 2:\n",
    "                row_to_show.append(use_possibility_matrix[x][y])\n",
    "            else:\n",
    "                row_to_show.append(' ')\n",
    "        data.append(row_to_show)\n",
    "    \n",
    "    display(HTML(\n",
    "       '<table><tr>{}</tr></table>'.format(\n",
    "           '</tr><tr>'.join(\n",
    "               '<td>{}</td>'.format('</td><td>'.join(str(_) for _ in row)) for row in data)\n",
    "           )\n",
    "    ))\n",
    "        "
   ]
  },
  {
   "cell_type": "markdown",
   "metadata": {},
   "source": [
    "# Trying it out\n",
    "\n",
    "So let's give it a go. There are some standard puzzles defined at the top of the page: `diabolical`, `hard`, `moderate`, `easy`, and `kids`. Assign one of these to `p`, and do a quick check the data has been entered consistently.\n",
    "\n",
    "* **kids**: Starts with 31 solved cells, can be solved using the possibility matrix alone in 11 rounds.\n",
    "* **easy**: Starts with 24 solved cells, after 13 rounds has 59 solved cells before giving up.\n",
    "* **moderate**: Starts with 26 solved cells, solves a single new cell, then gives up after the first round.\n",
    "* **hard**: Starts with 22 solved cells, also solves a single new cell then stops.\n",
    "* **diabolical**: Starts with 26 solved cells, solves a single new cell, then stops.\n"
   ]
  },
  {
   "cell_type": "code",
   "execution_count": null,
   "metadata": {},
   "outputs": [],
   "source": [
    "import copy\n",
    "p = copy.deepcopy(easy)\n",
    "check_puzzle_is_ok(p)\n",
    "print_puzzle(p)"
   ]
  },
  {
   "cell_type": "markdown",
   "metadata": {},
   "source": [
    "Next we'll build our possibility matrix in `q`, and then update it to exclude values already solved in the initial puzzle."
   ]
  },
  {
   "cell_type": "code",
   "execution_count": null,
   "metadata": {},
   "outputs": [],
   "source": [
    "# Build a \"possibility matrix\" in q\n",
    "q = build_possibility_matrix()\n",
    "n = update_possibilities(p, q)\n",
    "print(f\"Solved {n} cells so far\")\n"
   ]
  },
  {
   "cell_type": "markdown",
   "metadata": {},
   "source": [
    "Having updated the possibility matrix `q` there may now be some cells which only have a single remaining possible value. If so, we will copy those to `p`, and advise the human how many cells were solved this way."
   ]
  },
  {
   "cell_type": "code",
   "execution_count": null,
   "metadata": {},
   "outputs": [],
   "source": [
    "num_solved = update_puzzle_using_possibilities(p, q)\n",
    "print(f\"Solved {num_solved} cells\")\n"
   ]
  },
  {
   "cell_type": "markdown",
   "metadata": {},
   "source": [
    "Assuming we solved at least one cell this way let's keep going with this strategy until either\n",
    "1. The puzzle is solved, or\n",
    "2. We're not solving any more cells this way.\n",
    "\n",
    "We'll do that using the function `solve_using_possibilities` which will return `True` if the puzzle is solved or `False` if it is forced to give up.\n"
   ]
  },
  {
   "cell_type": "code",
   "execution_count": null,
   "metadata": {},
   "outputs": [],
   "source": [
    "def solve_using_possibilities(puzzle, possibility_matrix):\n",
    "    ''' Repeatedly update the puzzle matrix wherever the possibility_matrix indicates there is only one\n",
    "        possible value; then re-calculate the possible values using the updated puzzle.\n",
    "        Returns when *either* the puzzle is solved (returns True); \n",
    "        OR we stop making progress (returns False).'''\n",
    "    \n",
    "    rounds = 0\n",
    "    num_just_solved = 0   # How many cells were solved *this* round?\n",
    "    num_total_solved = 0  # How many cells have been solved in *total*?\n",
    "    while True:\n",
    "        rounds += 1\n",
    "        num_total_solved = update_possibilities(puzzle, possibility_matrix)\n",
    "        num_just_solved  = update_puzzle_using_possibilities(puzzle, possibility_matrix)\n",
    "        num_total_solved += num_just_solved\n",
    "        print(f\"Solved {num_just_solved} cells this round, now {num_total_solved} total solved cells\")\n",
    "        \n",
    "        if num_total_solved == 81 or num_just_solved == 0:\n",
    "            break\n",
    "\n",
    "    # Check for solution (or not)\n",
    "    if num_total_solved == 81:\n",
    "        print(f\"\\nHuzzah! Puzzle has been solved in {rounds} rounds!\\n\")\n",
    "        return True\n",
    "    else:\n",
    "        print(f\"\\nUh oh. Run out of options after {rounds} rounds...\\n\")\n",
    "        return False\n",
    "\n",
    "is_solved = solve_using_possibilities(p, q)\n",
    "print_puzzle(p, use_possibility_matrix=q)"
   ]
  },
  {
   "cell_type": "markdown",
   "metadata": {},
   "source": [
    "\n",
    "Check that the puzzle is correctly solved, or at least is still valid.\n"
   ]
  },
  {
   "cell_type": "code",
   "execution_count": null,
   "metadata": {},
   "outputs": [],
   "source": [
    "if is_solved:\n",
    "    if check_solution_is_valid(p, is_complete=True):\n",
    "        print(\"Puzzle is solved, and solution checks out. Done.\")\n",
    "    else:\n",
    "        raise ValueError(\"Bug detected -- we claim to have solved a puzzle but solution is not valid\")\n",
    "\n",
    "elif check_solution_is_valid(p, is_complete=False):\n",
    "    print(\"Puzzle isn't solved yet, but work in progress is valid.\")\n",
    "\n",
    "else:\n",
    "    raise ValueError(\"Bug detected -- puzzle is no longer in a valid state\")"
   ]
  },
  {
   "cell_type": "markdown",
   "metadata": {},
   "source": [
    "## What next?\n",
    "\n",
    "Assuming that the puzzle hasn't yet been solved (only the `kids` puzzle is solved solely using the above strategy), what could we do to get unstuck?\n",
    "\n",
    "### Try: Pick a value at random\n",
    "\n",
    "We could take a guess at a value, write it in, and then see if the possibility matrix can proceed to make some more exclusions.\n",
    "\n",
    "Since we're taking a guess, we should copy our puzzle `p` and possibility matrix `q`. We'll then find a cell that has only 2 possibilities left, choose a value at random, and then run the possibilities through again. This strategy runs the risk of us guessing wrong -- if that happens the puzzle or the possibility matrix will enter an invalid state and an exception will be raised.\n",
    "\n",
    "OK, first let's make copies..."
   ]
  },
  {
   "cell_type": "code",
   "execution_count": null,
   "metadata": {},
   "outputs": [],
   "source": [
    "p1 = copy.deepcopy(p)\n",
    "q1 = copy.deepcopy(q)"
   ]
  },
  {
   "cell_type": "markdown",
   "metadata": {},
   "source": [
    "OK, now get a list of cells that have just 2 possibilities left. We have a function `get_nearly_solved_cells` which will return a list of cell positions in `[x,y]` format (i.e. a list of tuples). Then use that function to get all the \"nearly solved\" (i.e. just 2 possibilities remaining) cells."
   ]
  },
  {
   "cell_type": "code",
   "execution_count": null,
   "metadata": {},
   "outputs": [],
   "source": [
    "import random\n",
    "\n",
    "def get_nearly_solved_cells(possibility_matrix, nearly_solved_is=2):\n",
    "    ret = []\n",
    "    for x in range(9):\n",
    "        for y in range(9):\n",
    "            if len(possibility_matrix[x][y]) == nearly_solved_is:\n",
    "                ret.append([x,y])\n",
    "    return ret"
   ]
  },
  {
   "cell_type": "markdown",
   "metadata": {},
   "source": [
    "Once we have our list we'll chose one of the two possible values at random."
   ]
  },
  {
   "cell_type": "code",
   "execution_count": null,
   "metadata": {},
   "outputs": [],
   "source": [
    "# Pick a cell\n",
    "nsc = get_nearly_solved_cells(q1)\n",
    "c = random.choice(nsc)\n",
    "\n",
    "# Pick a value from the possibilities in that cell\n",
    "v = random.choice(list(q1[c[0]][c[1]]))\n",
    "print(f\"Have chosen to place {v} at {c}\")\n",
    "p1[c[0]][c[1]] = v"
   ]
  },
  {
   "cell_type": "markdown",
   "metadata": {},
   "source": [
    "Having taken a guess by writing in `v` to position `c`, let's continue now with updating the possibility matrix `q1` and then scoring off values in puzzle `p1` wherever the number of possibilities has collapsed to one."
   ]
  },
  {
   "cell_type": "code",
   "execution_count": null,
   "metadata": {},
   "outputs": [],
   "source": [
    "is_solved = solve_using_possibilities(p1, q1)"
   ]
  },
  {
   "cell_type": "markdown",
   "metadata": {},
   "source": [
    "### Evaluation: Pick a value at random\n",
    "\n",
    "Depending on what value gets chosen at random, the following results might be showing in the cell above:\n",
    "\n",
    "1. The puzzle is solved; or\n",
    "2. An error has been raised, because the guess was wrong and the possibility matrix has gone into an inconsistent state; or\n",
    "2. The puzzle is *not* solved, because `solve_using_possibilities` has given up (it ran out of useful options). We do not know yet if the guess was correct though -- the puzzle may or may not still be solveable.\n",
    "\n",
    "Let's check that if the puzzle is solved, or at least still valid.\n"
   ]
  },
  {
   "cell_type": "code",
   "execution_count": null,
   "metadata": {},
   "outputs": [],
   "source": [
    "check_solution_is_valid(p1, is_complete=is_solved)\n",
    "print_puzzle(p1)"
   ]
  },
  {
   "cell_type": "markdown",
   "metadata": {},
   "source": [
    "### Try: Stacked guessing\n",
    "\n",
    "For the `easy` puzzle a single round of \"guess and check\" is often enough to resolve the puzzle. However sometimes this strategy doesn't work on easy (e.g. when placing `3` at `[2, 8]`). When that happens we can go back to the cell where we copied `p` and `q` and repeat the process. Because we pick a cell and value at random a second attempt may be able to solve the puzzle.\n",
    "\n",
    "For the `moderate` test puzzle though this single round of \"guess and check\" rarely results in a solution. Either the possibility matrix goes into an inconsistent state, or the `solve_using_possibilities` function is forced to give up again because it runs out of options.\n",
    "\n",
    "So what we *could* do then is try this:\n",
    "\n",
    "1. If the previous guess resulted in an invalid state, go back to the previous versions of `p` and `q` and try again.\n",
    "2. If the guess simply resulted in a stalled solution (but one that looks valid so far), then try another guess and keep going.\n",
    "3. Eventually, we either solve the puzzle or find that we have to back up to a previous version and restart the process.\n",
    "\n",
    "We can keep doing this until all cells are solved. \n",
    "\n",
    "This method is called \"stacked guessing\" because we'll use a stack to maintain the list of interim puzzles. \n"
   ]
  },
  {
   "cell_type": "code",
   "execution_count": null,
   "metadata": {},
   "outputs": [],
   "source": [
    "# Puzzle stack (p) and possibility matrix stack (q)\n",
    "p_stack = list(p)\n",
    "q_stack = list(q)\n",
    "\n",
    "# Always push *deep* copies\n",
    "p_stack.append(copy.deepcopy(p))\n",
    "q_stack.append(copy.deepcopy(q))"
   ]
  },
  {
   "cell_type": "code",
   "execution_count": null,
   "metadata": {},
   "outputs": [],
   "source": [
    "def run_guessing_round(puzzle, possibility_matrix):\n",
    "    ''' Given a puzzle and a possibility_matrix, try guessing a value of a cell with 2 remaining possibilities, \n",
    "        and then run solve_using_possibilities to see how far we get. Function will catch any exceptions thrown\n",
    "        by a \"bad guess\".\n",
    "    '''\n",
    "    \n",
    "    # Get the \"nearly solved\" cells and pick one of them to run a guessing round with\n",
    "    nsc = get_nearly_solved_cells(possibility_matrix)\n",
    "    c = random.choice(nsc)\n",
    "\n",
    "    # Pick a value from the possibilities in that cell and place in puzzle\n",
    "    v = random.choice(list(possibility_matrix[c[0]][c[1]]))\n",
    "    print(f\"Have chosen to place {v} at {c}\")\n",
    "    puzzle[c[0]][c[1]] = v\n",
    "    \n",
    "    # Have a go at updating the possibility matrix and puzzle\n",
    "    is_solved = solve_using_possibilities(puzzle, possibility_matrix)\n",
    "    \n",
    "    # If this was solved, then good guessing round! Return \"81\" to mean \"all solved\", or just \"1\" to mean\n",
    "    # \"meh...it's not *wrong* yet but...I dunno...\"\n",
    "    if is_solved:\n",
    "        return 81\n",
    "    else:\n",
    "        return 1\n",
    "\n",
    "# Run a guessing attempt on the top of the stack\n",
    "result = run_guessing_round(p_stack[-1], q_stack[-1])"
   ]
  },
  {
   "cell_type": "code",
   "execution_count": null,
   "metadata": {},
   "outputs": [],
   "source": [
    "# If we've solved, great. If we at least didn't stuff the puzzle up then let's push our current state\n",
    "# onto the stack and try another guess. But if we ended up in an invalid state...\n",
    "\n",
    "if result == 81:\n",
    "    print(\"Solution found\")\n",
    "elif result > 0:\n",
    "    print(\"Still searching...\")\n",
    "    p_stack.append(copy.deepcopy(p))\n",
    "    q_stack.append(copy.deepcopy(q))\n",
    "else:\n",
    "    print(\"Dead end eliminated...\")\n",
    "    p_stack.pop()\n",
    "    q_stack.pop()\n",
    "    \n",
    "# Run a guessing attempt on the top of the stack\n",
    "print(f\"Stack is now {len(p_stack)} deep\")\n",
    "result = run_guessing_round(p_stack[-1], q_stack[-1])"
   ]
  },
  {
   "cell_type": "code",
   "execution_count": null,
   "metadata": {},
   "outputs": [],
   "source": []
  }
 ],
 "metadata": {
  "kernelspec": {
   "display_name": "Python 3",
   "language": "python",
   "name": "python3"
  },
  "language_info": {
   "codemirror_mode": {
    "name": "ipython",
    "version": 3
   },
   "file_extension": ".py",
   "mimetype": "text/x-python",
   "name": "python",
   "nbconvert_exporter": "python",
   "pygments_lexer": "ipython3",
   "version": "3.7.4"
  }
 },
 "nbformat": 4,
 "nbformat_minor": 4
}
