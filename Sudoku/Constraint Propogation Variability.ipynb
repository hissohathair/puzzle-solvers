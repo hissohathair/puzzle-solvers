{
 "cells": [
  {
   "cell_type": "code",
   "execution_count": 2,
   "metadata": {},
   "outputs": [
    {
     "data": {
      "text/html": [
       "\n",
       "    <style type=\"text/css\">\n",
       "    .sudoku table {\n",
       "        border: 3px solid red;\n",
       "        text-align: center;\n",
       "        vertical-align: middle;\n",
       "    }\n",
       "\n",
       "    .sudoku td {\n",
       "        width: 40px;\n",
       "        height: 40px;\n",
       "        border: 1px solid #F00;\n",
       "    }\n",
       "\n",
       "    .sudoku td:nth-of-type(3n) {\n",
       "        border-right: 3px solid red;\n",
       "    }\n",
       "\n",
       "    .sudoku tr:nth-of-type(3n) td {\n",
       "        border-bottom: 3px solid red;\n",
       "    }\n",
       "\n",
       "    .sudoku.solved table {\n",
       "        border: 3px solid green;\n",
       "    }\n",
       "\n",
       "    .sudoku.solved td {\n",
       "        border: 1px solid green;\n",
       "    }\n",
       "\n",
       "    .sudoku.solved td:nth-of-type(3n) {\n",
       "        border-right: 3px solid green;\n",
       "    }\n",
       "\n",
       "    .sudoku.solved tr:nth-of-type(3n) td {\n",
       "        border-bottom: 3px solid green;\n",
       "    }\n",
       "\n",
       "    </style>\n"
      ],
      "text/plain": [
       "<IPython.core.display.HTML object>"
      ]
     },
     "metadata": {},
     "output_type": "display_data"
    }
   ],
   "source": [
    "import sys\n",
    "sys.path.insert(-1, '..')\n",
    "\n",
    "import puzzle.tester as tester\n",
    "import puzzle.sudoku as su\n",
    "from puzzle.jupyter_helpers import *\n",
    "display(HTML(SUDOKU_CSS))"
   ]
  },
  {
   "cell_type": "code",
   "execution_count": 4,
   "metadata": {},
   "outputs": [],
   "source": [
    "import copy\n",
    "import pandas as pd\n",
    "import matplotlib.pyplot as plt\n",
    "\n",
    "%matplotlib inline\n",
    "plt.rcParams[\"figure.figsize\"] = [12, 6]\n",
    "pd.set_option('precision', 3)"
   ]
  },
  {
   "cell_type": "code",
   "execution_count": 5,
   "metadata": {},
   "outputs": [
    {
     "name": "stdout",
     "output_type": "stream",
     "text": [
      "Using 125 test cases\n",
      "Read previous test results from ../data/sudoku_test_results.pkl from 2020-09-11 18:25:10.473189\n"
     ]
    }
   ],
   "source": [
    "import os.path\n",
    "import datetime\n",
    "\n",
    "TEST_RESULTS = \"../data/sudoku_test_results.pkl\"\n",
    "NUM_SAMPLES = 5\n",
    "\n",
    "pt = tester.PuzzleTester(puzzle_class=su.SudokuPuzzle, test_samples=NUM_SAMPLES)\n",
    "pt.add_test_cases([x for x in su.SAMPLE_PUZZLES])\n",
    "pt.add_test_cases(tester.from_file(\"../data/sudoku_9x9/hardest.txt\", level=\"Hard\"))\n",
    "pt.add_test_cases(tester.from_file(\"../data/sudoku_9x9/top95.txt\", level=\"Diabolical\"))\n",
    "print(f\"Using {pt.num_test_cases()} test cases\")\n",
    "\n",
    "if os.path.isfile(TEST_RESULTS):\n",
    "    df = pd.read_pickle(TEST_RESULTS)\n",
    "    print(f\"Read previous test results from {TEST_RESULTS} from {datetime.datetime.fromtimestamp(os.path.getmtime(TEST_RESULTS))}\")\n",
    "    pt.set_test_results(df.to_dict('list'))\n",
    "\n",
    "else:\n",
    "    print(f\"Generating {TEST_RESULTS} at {datetime.datetime.now()}...\")\n",
    "    for m in su.SOLVERS:\n",
    "        solver = su.SudokuSolver(method=m)\n",
    "        pt.run_tests(solver, m, callback=update_progress)\n",
    "    df = pd.DataFrame(pt.get_test_results())\n",
    "    df.to_pickle(TEST_RESULTS)\n",
    "    print(f\"Saved {TEST_RESULTS} at {datetime.datetime.now()}\")\n"
   ]
  },
  {
   "cell_type": "markdown",
   "metadata": {},
   "source": [
    "---\n",
    "\n",
    "# Diversions\n",
    "\n",
    "Went down a few rabbit holes doing this...\n",
    "\n",
    "## Diversion #1: Variability in performance on the *same* puzzle\n",
    "\n",
    "Started looking at constrint propogation performance in more detail. The majority of the test puzzles are solved in < ~ 0.2 seconds, however there are some that take longer, up to a maxiumum of 12 seconds."
   ]
  },
  {
   "cell_type": "code",
   "execution_count": 7,
   "metadata": {},
   "outputs": [
    {
     "data": {
      "image/png": "[encoded data removed]",
      "text/plain": [
       "<Figure size 864x432 with 1 Axes>"
      ]
     },
     "metadata": {
      "needs_background": "light"
     },
     "output_type": "display_data"
    }
   ],
   "source": [
    "method = 'constraintpropogation'\n",
    "axs = df.sort_values(by=method)[[method]].plot(kind='bar')\n",
    "axs.xaxis.label.set_visible(False)\n",
    "axs.xaxis.set_ticks([])\n",
    "plt.show()"
   ]
  },
  {
   "cell_type": "markdown",
   "metadata": {},
   "source": [
    "Let's take a look at those puzzles that take so much longer to solve and see if we can work out what's happening there."
   ]
  },
  {
   "cell_type": "code",
   "execution_count": 8,
   "metadata": {},
   "outputs": [
    {
     "data": {
      "text/html": [
       "<style  type=\"text/css\" >\n",
       "    #T_7b6a7b92_fa75_11ea_8dcc_8c85903d48d1row0_col4 {\n",
       "            : ;\n",
       "            width:  10em;\n",
       "             height:  80%;\n",
       "            background:  linear-gradient(90deg,orange 100.0%, transparent 100.0%);\n",
       "        }    #T_7b6a7b92_fa75_11ea_8dcc_8c85903d48d1row1_col4 {\n",
       "            : ;\n",
       "            width:  10em;\n",
       "             height:  80%;\n",
       "            background:  linear-gradient(90deg,orange 92.0%, transparent 92.0%);\n",
       "        }    #T_7b6a7b92_fa75_11ea_8dcc_8c85903d48d1row2_col4 {\n",
       "            : ;\n",
       "            width:  10em;\n",
       "             height:  80%;\n",
       "            background:  linear-gradient(90deg,orange 36.1%, transparent 36.1%);\n",
       "        }    #T_7b6a7b92_fa75_11ea_8dcc_8c85903d48d1row3_col0 {\n",
       "            background-color:  yellow;\n",
       "             color:  black;\n",
       "        }    #T_7b6a7b92_fa75_11ea_8dcc_8c85903d48d1row3_col1 {\n",
       "            background-color:  yellow;\n",
       "             color:  black;\n",
       "        }    #T_7b6a7b92_fa75_11ea_8dcc_8c85903d48d1row3_col2 {\n",
       "            background-color:  yellow;\n",
       "             color:  black;\n",
       "        }    #T_7b6a7b92_fa75_11ea_8dcc_8c85903d48d1row3_col3 {\n",
       "            background-color:  yellow;\n",
       "             color:  black;\n",
       "        }    #T_7b6a7b92_fa75_11ea_8dcc_8c85903d48d1row3_col4 {\n",
       "            background-color:  yellow;\n",
       "             color:  black;\n",
       "            width:  10em;\n",
       "             height:  80%;\n",
       "            background:  linear-gradient(90deg,orange 35.8%, transparent 35.8%);\n",
       "        }    #T_7b6a7b92_fa75_11ea_8dcc_8c85903d48d1row3_col5 {\n",
       "            background-color:  yellow;\n",
       "             color:  black;\n",
       "        }    #T_7b6a7b92_fa75_11ea_8dcc_8c85903d48d1row3_col6 {\n",
       "            background-color:  yellow;\n",
       "             color:  black;\n",
       "        }    #T_7b6a7b92_fa75_11ea_8dcc_8c85903d48d1row4_col4 {\n",
       "            : ;\n",
       "            width:  10em;\n",
       "             height:  80%;\n",
       "            background:  linear-gradient(90deg,orange 30.3%, transparent 30.3%);\n",
       "        }    #T_7b6a7b92_fa75_11ea_8dcc_8c85903d48d1row5_col4 {\n",
       "            : ;\n",
       "            width:  10em;\n",
       "             height:  80%;\n",
       "            background:  linear-gradient(90deg,orange 26.7%, transparent 26.7%);\n",
       "        }    #T_7b6a7b92_fa75_11ea_8dcc_8c85903d48d1row6_col4 {\n",
       "            : ;\n",
       "            width:  10em;\n",
       "             height:  80%;\n",
       "            background:  linear-gradient(90deg,orange 23.4%, transparent 23.4%);\n",
       "        }    #T_7b6a7b92_fa75_11ea_8dcc_8c85903d48d1row7_col0 {\n",
       "            background-color:  yellow;\n",
       "             color:  black;\n",
       "        }    #T_7b6a7b92_fa75_11ea_8dcc_8c85903d48d1row7_col1 {\n",
       "            background-color:  yellow;\n",
       "             color:  black;\n",
       "        }    #T_7b6a7b92_fa75_11ea_8dcc_8c85903d48d1row7_col2 {\n",
       "            background-color:  yellow;\n",
       "             color:  black;\n",
       "        }    #T_7b6a7b92_fa75_11ea_8dcc_8c85903d48d1row7_col3 {\n",
       "            background-color:  yellow;\n",
       "             color:  black;\n",
       "        }    #T_7b6a7b92_fa75_11ea_8dcc_8c85903d48d1row7_col4 {\n",
       "            background-color:  yellow;\n",
       "             color:  black;\n",
       "            width:  10em;\n",
       "             height:  80%;\n",
       "            background:  linear-gradient(90deg,orange 21.8%, transparent 21.8%);\n",
       "        }    #T_7b6a7b92_fa75_11ea_8dcc_8c85903d48d1row7_col5 {\n",
       "            background-color:  yellow;\n",
       "             color:  black;\n",
       "        }    #T_7b6a7b92_fa75_11ea_8dcc_8c85903d48d1row7_col6 {\n",
       "            background-color:  yellow;\n",
       "             color:  black;\n",
       "        }    #T_7b6a7b92_fa75_11ea_8dcc_8c85903d48d1row8_col4 {\n",
       "            : ;\n",
       "            width:  10em;\n",
       "             height:  80%;\n",
       "            background:  linear-gradient(90deg,orange 15.6%, transparent 15.6%);\n",
       "        }    #T_7b6a7b92_fa75_11ea_8dcc_8c85903d48d1row9_col4 {\n",
       "            : ;\n",
       "            width:  10em;\n",
       "             height:  80%;\n",
       "            background:  linear-gradient(90deg,orange 13.3%, transparent 13.3%);\n",
       "        }    #T_7b6a7b92_fa75_11ea_8dcc_8c85903d48d1row10_col4 {\n",
       "            : ;\n",
       "            width:  10em;\n",
       "             height:  80%;\n",
       "            background:  linear-gradient(90deg,orange 13.3%, transparent 13.3%);\n",
       "        }    #T_7b6a7b92_fa75_11ea_8dcc_8c85903d48d1row11_col4 {\n",
       "            : ;\n",
       "            width:  10em;\n",
       "             height:  80%;\n",
       "            background:  linear-gradient(90deg,orange 3.4%, transparent 3.4%);\n",
       "        }    #T_7b6a7b92_fa75_11ea_8dcc_8c85903d48d1row12_col4 {\n",
       "            : ;\n",
       "            width:  10em;\n",
       "             height:  80%;\n",
       "            background:  linear-gradient(90deg,orange 0.5%, transparent 0.5%);\n",
       "        }    #T_7b6a7b92_fa75_11ea_8dcc_8c85903d48d1row13_col4 {\n",
       "            : ;\n",
       "            width:  10em;\n",
       "             height:  80%;\n",
       "            background:  linear-gradient(90deg,orange 0.4%, transparent 0.4%);\n",
       "        }    #T_7b6a7b92_fa75_11ea_8dcc_8c85903d48d1row14_col4 {\n",
       "            : ;\n",
       "            width:  10em;\n",
       "             height:  80%;\n",
       "        }</style><table id=\"T_7b6a7b92_fa75_11ea_8dcc_8c85903d48d1\" ><thead>    <tr>        <th class=\"blank level0\" ></th>        <th class=\"col_heading level0 col0\" >label</th>        <th class=\"col_heading level0 col1\" >level</th>        <th class=\"col_heading level0 col2\" >starting_clues</th>        <th class=\"col_heading level0 col3\" >backtracking</th>        <th class=\"col_heading level0 col4\" >constraintpropogation</th>        <th class=\"col_heading level0 col5\" >deductive</th>        <th class=\"col_heading level0 col6\" >sat</th>    </tr></thead><tbody>\n",
       "                <tr>\n",
       "                        <th id=\"T_7b6a7b92_fa75_11ea_8dcc_8c85903d48d1level0_row0\" class=\"row_heading level0 row0\" >54</th>\n",
       "                        <td id=\"T_7b6a7b92_fa75_11ea_8dcc_8c85903d48d1row0_col0\" class=\"data row0 col0\" >data/top95.txt:28</td>\n",
       "                        <td id=\"T_7b6a7b92_fa75_11ea_8dcc_8c85903d48d1row0_col1\" class=\"data row0 col1\" >Diabolical</td>\n",
       "                        <td id=\"T_7b6a7b92_fa75_11ea_8dcc_8c85903d48d1row0_col2\" class=\"data row0 col2\" >17</td>\n",
       "                        <td id=\"T_7b6a7b92_fa75_11ea_8dcc_8c85903d48d1row0_col3\" class=\"data row0 col3\" >17.757</td>\n",
       "                        <td id=\"T_7b6a7b92_fa75_11ea_8dcc_8c85903d48d1row0_col4\" class=\"data row0 col4\" >12.076</td>\n",
       "                        <td id=\"T_7b6a7b92_fa75_11ea_8dcc_8c85903d48d1row0_col5\" class=\"data row0 col5\" >0.063</td>\n",
       "                        <td id=\"T_7b6a7b92_fa75_11ea_8dcc_8c85903d48d1row0_col6\" class=\"data row0 col6\" >0.025</td>\n",
       "            </tr>\n",
       "            <tr>\n",
       "                        <th id=\"T_7b6a7b92_fa75_11ea_8dcc_8c85903d48d1level0_row1\" class=\"row_heading level0 row1\" >44</th>\n",
       "                        <td id=\"T_7b6a7b92_fa75_11ea_8dcc_8c85903d48d1row1_col0\" class=\"data row1 col0\" >data/top95.txt:18</td>\n",
       "                        <td id=\"T_7b6a7b92_fa75_11ea_8dcc_8c85903d48d1row1_col1\" class=\"data row1 col1\" >Diabolical</td>\n",
       "                        <td id=\"T_7b6a7b92_fa75_11ea_8dcc_8c85903d48d1row1_col2\" class=\"data row1 col2\" >17</td>\n",
       "                        <td id=\"T_7b6a7b92_fa75_11ea_8dcc_8c85903d48d1row1_col3\" class=\"data row1 col3\" >56.354</td>\n",
       "                        <td id=\"T_7b6a7b92_fa75_11ea_8dcc_8c85903d48d1row1_col4\" class=\"data row1 col4\" >11.171</td>\n",
       "                        <td id=\"T_7b6a7b92_fa75_11ea_8dcc_8c85903d48d1row1_col5\" class=\"data row1 col5\" >2.268</td>\n",
       "                        <td id=\"T_7b6a7b92_fa75_11ea_8dcc_8c85903d48d1row1_col6\" class=\"data row1 col6\" >0.020</td>\n",
       "            </tr>\n",
       "            <tr>\n",
       "                        <th id=\"T_7b6a7b92_fa75_11ea_8dcc_8c85903d48d1level0_row2\" class=\"row_heading level0 row2\" >67</th>\n",
       "                        <td id=\"T_7b6a7b92_fa75_11ea_8dcc_8c85903d48d1row2_col0\" class=\"data row2 col0\" >data/top95.txt:41</td>\n",
       "                        <td id=\"T_7b6a7b92_fa75_11ea_8dcc_8c85903d48d1row2_col1\" class=\"data row2 col1\" >Diabolical</td>\n",
       "                        <td id=\"T_7b6a7b92_fa75_11ea_8dcc_8c85903d48d1row2_col2\" class=\"data row2 col2\" >17</td>\n",
       "                        <td id=\"T_7b6a7b92_fa75_11ea_8dcc_8c85903d48d1row2_col3\" class=\"data row2 col3\" >1173.908</td>\n",
       "                        <td id=\"T_7b6a7b92_fa75_11ea_8dcc_8c85903d48d1row2_col4\" class=\"data row2 col4\" >4.840</td>\n",
       "                        <td id=\"T_7b6a7b92_fa75_11ea_8dcc_8c85903d48d1row2_col5\" class=\"data row2 col5\" >3.015</td>\n",
       "                        <td id=\"T_7b6a7b92_fa75_11ea_8dcc_8c85903d48d1row2_col6\" class=\"data row2 col6\" >0.021</td>\n",
       "            </tr>\n",
       "            <tr>\n",
       "                        <th id=\"T_7b6a7b92_fa75_11ea_8dcc_8c85903d48d1level0_row3\" class=\"row_heading level0 row3\" >33</th>\n",
       "                        <td id=\"T_7b6a7b92_fa75_11ea_8dcc_8c85903d48d1row3_col0\" class=\"data row3 col0\" >data/top95.txt:7</td>\n",
       "                        <td id=\"T_7b6a7b92_fa75_11ea_8dcc_8c85903d48d1row3_col1\" class=\"data row3 col1\" >Diabolical</td>\n",
       "                        <td id=\"T_7b6a7b92_fa75_11ea_8dcc_8c85903d48d1row3_col2\" class=\"data row3 col2\" >17</td>\n",
       "                        <td id=\"T_7b6a7b92_fa75_11ea_8dcc_8c85903d48d1row3_col3\" class=\"data row3 col3\" >1.697</td>\n",
       "                        <td id=\"T_7b6a7b92_fa75_11ea_8dcc_8c85903d48d1row3_col4\" class=\"data row3 col4\" >4.804</td>\n",
       "                        <td id=\"T_7b6a7b92_fa75_11ea_8dcc_8c85903d48d1row3_col5\" class=\"data row3 col5\" >1.025</td>\n",
       "                        <td id=\"T_7b6a7b92_fa75_11ea_8dcc_8c85903d48d1row3_col6\" class=\"data row3 col6\" >0.026</td>\n",
       "            </tr>\n",
       "            <tr>\n",
       "                        <th id=\"T_7b6a7b92_fa75_11ea_8dcc_8c85903d48d1level0_row4\" class=\"row_heading level0 row4\" >47</th>\n",
       "                        <td id=\"T_7b6a7b92_fa75_11ea_8dcc_8c85903d48d1row4_col0\" class=\"data row4 col0\" >data/top95.txt:21</td>\n",
       "                        <td id=\"T_7b6a7b92_fa75_11ea_8dcc_8c85903d48d1row4_col1\" class=\"data row4 col1\" >Diabolical</td>\n",
       "                        <td id=\"T_7b6a7b92_fa75_11ea_8dcc_8c85903d48d1row4_col2\" class=\"data row4 col2\" >17</td>\n",
       "                        <td id=\"T_7b6a7b92_fa75_11ea_8dcc_8c85903d48d1row4_col3\" class=\"data row4 col3\" >43.075</td>\n",
       "                        <td id=\"T_7b6a7b92_fa75_11ea_8dcc_8c85903d48d1row4_col4\" class=\"data row4 col4\" >4.180</td>\n",
       "                        <td id=\"T_7b6a7b92_fa75_11ea_8dcc_8c85903d48d1row4_col5\" class=\"data row4 col5\" >2.395</td>\n",
       "                        <td id=\"T_7b6a7b92_fa75_11ea_8dcc_8c85903d48d1row4_col6\" class=\"data row4 col6\" >0.020</td>\n",
       "            </tr>\n",
       "            <tr>\n",
       "                        <th id=\"T_7b6a7b92_fa75_11ea_8dcc_8c85903d48d1level0_row5\" class=\"row_heading level0 row5\" >34</th>\n",
       "                        <td id=\"T_7b6a7b92_fa75_11ea_8dcc_8c85903d48d1row5_col0\" class=\"data row5 col0\" >data/top95.txt:8</td>\n",
       "                        <td id=\"T_7b6a7b92_fa75_11ea_8dcc_8c85903d48d1row5_col1\" class=\"data row5 col1\" >Diabolical</td>\n",
       "                        <td id=\"T_7b6a7b92_fa75_11ea_8dcc_8c85903d48d1row5_col2\" class=\"data row5 col2\" >17</td>\n",
       "                        <td id=\"T_7b6a7b92_fa75_11ea_8dcc_8c85903d48d1row5_col3\" class=\"data row5 col3\" >113.328</td>\n",
       "                        <td id=\"T_7b6a7b92_fa75_11ea_8dcc_8c85903d48d1row5_col4\" class=\"data row5 col4\" >3.775</td>\n",
       "                        <td id=\"T_7b6a7b92_fa75_11ea_8dcc_8c85903d48d1row5_col5\" class=\"data row5 col5\" >4.442</td>\n",
       "                        <td id=\"T_7b6a7b92_fa75_11ea_8dcc_8c85903d48d1row5_col6\" class=\"data row5 col6\" >0.022</td>\n",
       "            </tr>\n",
       "            <tr>\n",
       "                        <th id=\"T_7b6a7b92_fa75_11ea_8dcc_8c85903d48d1level0_row6\" class=\"row_heading level0 row6\" >36</th>\n",
       "                        <td id=\"T_7b6a7b92_fa75_11ea_8dcc_8c85903d48d1row6_col0\" class=\"data row6 col0\" >data/top95.txt:10</td>\n",
       "                        <td id=\"T_7b6a7b92_fa75_11ea_8dcc_8c85903d48d1row6_col1\" class=\"data row6 col1\" >Diabolical</td>\n",
       "                        <td id=\"T_7b6a7b92_fa75_11ea_8dcc_8c85903d48d1row6_col2\" class=\"data row6 col2\" >17</td>\n",
       "                        <td id=\"T_7b6a7b92_fa75_11ea_8dcc_8c85903d48d1row6_col3\" class=\"data row6 col3\" >108.590</td>\n",
       "                        <td id=\"T_7b6a7b92_fa75_11ea_8dcc_8c85903d48d1row6_col4\" class=\"data row6 col4\" >3.400</td>\n",
       "                        <td id=\"T_7b6a7b92_fa75_11ea_8dcc_8c85903d48d1row6_col5\" class=\"data row6 col5\" >5.219</td>\n",
       "                        <td id=\"T_7b6a7b92_fa75_11ea_8dcc_8c85903d48d1row6_col6\" class=\"data row6 col6\" >0.019</td>\n",
       "            </tr>\n",
       "            <tr>\n",
       "                        <th id=\"T_7b6a7b92_fa75_11ea_8dcc_8c85903d48d1level0_row7\" class=\"row_heading level0 row7\" >35</th>\n",
       "                        <td id=\"T_7b6a7b92_fa75_11ea_8dcc_8c85903d48d1row7_col0\" class=\"data row7 col0\" >data/top95.txt:9</td>\n",
       "                        <td id=\"T_7b6a7b92_fa75_11ea_8dcc_8c85903d48d1row7_col1\" class=\"data row7 col1\" >Diabolical</td>\n",
       "                        <td id=\"T_7b6a7b92_fa75_11ea_8dcc_8c85903d48d1row7_col2\" class=\"data row7 col2\" >17</td>\n",
       "                        <td id=\"T_7b6a7b92_fa75_11ea_8dcc_8c85903d48d1row7_col3\" class=\"data row7 col3\" >1.691</td>\n",
       "                        <td id=\"T_7b6a7b92_fa75_11ea_8dcc_8c85903d48d1row7_col4\" class=\"data row7 col4\" >3.226</td>\n",
       "                        <td id=\"T_7b6a7b92_fa75_11ea_8dcc_8c85903d48d1row7_col5\" class=\"data row7 col5\" >0.491</td>\n",
       "                        <td id=\"T_7b6a7b92_fa75_11ea_8dcc_8c85903d48d1row7_col6\" class=\"data row7 col6\" >0.036</td>\n",
       "            </tr>\n",
       "            <tr>\n",
       "                        <th id=\"T_7b6a7b92_fa75_11ea_8dcc_8c85903d48d1level0_row8\" class=\"row_heading level0 row8\" >97</th>\n",
       "                        <td id=\"T_7b6a7b92_fa75_11ea_8dcc_8c85903d48d1row8_col0\" class=\"data row8 col0\" >data/top95.txt:71</td>\n",
       "                        <td id=\"T_7b6a7b92_fa75_11ea_8dcc_8c85903d48d1row8_col1\" class=\"data row8 col1\" >Diabolical</td>\n",
       "                        <td id=\"T_7b6a7b92_fa75_11ea_8dcc_8c85903d48d1row8_col2\" class=\"data row8 col2\" >17</td>\n",
       "                        <td id=\"T_7b6a7b92_fa75_11ea_8dcc_8c85903d48d1row8_col3\" class=\"data row8 col3\" >205.605</td>\n",
       "                        <td id=\"T_7b6a7b92_fa75_11ea_8dcc_8c85903d48d1row8_col4\" class=\"data row8 col4\" >2.515</td>\n",
       "                        <td id=\"T_7b6a7b92_fa75_11ea_8dcc_8c85903d48d1row8_col5\" class=\"data row8 col5\" >2.329</td>\n",
       "                        <td id=\"T_7b6a7b92_fa75_11ea_8dcc_8c85903d48d1row8_col6\" class=\"data row8 col6\" >0.019</td>\n",
       "            </tr>\n",
       "            <tr>\n",
       "                        <th id=\"T_7b6a7b92_fa75_11ea_8dcc_8c85903d48d1level0_row9\" class=\"row_heading level0 row9\" >31</th>\n",
       "                        <td id=\"T_7b6a7b92_fa75_11ea_8dcc_8c85903d48d1row9_col0\" class=\"data row9 col0\" >data/top95.txt:5</td>\n",
       "                        <td id=\"T_7b6a7b92_fa75_11ea_8dcc_8c85903d48d1row9_col1\" class=\"data row9 col1\" >Diabolical</td>\n",
       "                        <td id=\"T_7b6a7b92_fa75_11ea_8dcc_8c85903d48d1row9_col2\" class=\"data row9 col2\" >17</td>\n",
       "                        <td id=\"T_7b6a7b92_fa75_11ea_8dcc_8c85903d48d1row9_col3\" class=\"data row9 col3\" >790.428</td>\n",
       "                        <td id=\"T_7b6a7b92_fa75_11ea_8dcc_8c85903d48d1row9_col4\" class=\"data row9 col4\" >2.263</td>\n",
       "                        <td id=\"T_7b6a7b92_fa75_11ea_8dcc_8c85903d48d1row9_col5\" class=\"data row9 col5\" >1.707</td>\n",
       "                        <td id=\"T_7b6a7b92_fa75_11ea_8dcc_8c85903d48d1row9_col6\" class=\"data row9 col6\" >0.021</td>\n",
       "            </tr>\n",
       "            <tr>\n",
       "                        <th id=\"T_7b6a7b92_fa75_11ea_8dcc_8c85903d48d1level0_row10\" class=\"row_heading level0 row10\" >13</th>\n",
       "                        <td id=\"T_7b6a7b92_fa75_11ea_8dcc_8c85903d48d1row10_col0\" class=\"data row10 col0\" >Rico Alan 3</td>\n",
       "                        <td id=\"T_7b6a7b92_fa75_11ea_8dcc_8c85903d48d1row10_col1\" class=\"data row10 col1\" >Pathalogical</td>\n",
       "                        <td id=\"T_7b6a7b92_fa75_11ea_8dcc_8c85903d48d1row10_col2\" class=\"data row10 col2\" >17</td>\n",
       "                        <td id=\"T_7b6a7b92_fa75_11ea_8dcc_8c85903d48d1row10_col3\" class=\"data row10 col3\" >635.981</td>\n",
       "                        <td id=\"T_7b6a7b92_fa75_11ea_8dcc_8c85903d48d1row10_col4\" class=\"data row10 col4\" >2.259</td>\n",
       "                        <td id=\"T_7b6a7b92_fa75_11ea_8dcc_8c85903d48d1row10_col5\" class=\"data row10 col5\" >0.016</td>\n",
       "                        <td id=\"T_7b6a7b92_fa75_11ea_8dcc_8c85903d48d1row10_col6\" class=\"data row10 col6\" >0.020</td>\n",
       "            </tr>\n",
       "            <tr>\n",
       "                        <th id=\"T_7b6a7b92_fa75_11ea_8dcc_8c85903d48d1level0_row11\" class=\"row_heading level0 row11\" >72</th>\n",
       "                        <td id=\"T_7b6a7b92_fa75_11ea_8dcc_8c85903d48d1row11_col0\" class=\"data row11 col0\" >data/top95.txt:46</td>\n",
       "                        <td id=\"T_7b6a7b92_fa75_11ea_8dcc_8c85903d48d1row11_col1\" class=\"data row11 col1\" >Diabolical</td>\n",
       "                        <td id=\"T_7b6a7b92_fa75_11ea_8dcc_8c85903d48d1row11_col2\" class=\"data row11 col2\" >17</td>\n",
       "                        <td id=\"T_7b6a7b92_fa75_11ea_8dcc_8c85903d48d1row11_col3\" class=\"data row11 col3\" >46.067</td>\n",
       "                        <td id=\"T_7b6a7b92_fa75_11ea_8dcc_8c85903d48d1row11_col4\" class=\"data row11 col4\" >1.137</td>\n",
       "                        <td id=\"T_7b6a7b92_fa75_11ea_8dcc_8c85903d48d1row11_col5\" class=\"data row11 col5\" >0.049</td>\n",
       "                        <td id=\"T_7b6a7b92_fa75_11ea_8dcc_8c85903d48d1row11_col6\" class=\"data row11 col6\" >0.025</td>\n",
       "            </tr>\n",
       "            <tr>\n",
       "                        <th id=\"T_7b6a7b92_fa75_11ea_8dcc_8c85903d48d1level0_row12\" class=\"row_heading level0 row12\" >37</th>\n",
       "                        <td id=\"T_7b6a7b92_fa75_11ea_8dcc_8c85903d48d1row12_col0\" class=\"data row12 col0\" >data/top95.txt:11</td>\n",
       "                        <td id=\"T_7b6a7b92_fa75_11ea_8dcc_8c85903d48d1row12_col1\" class=\"data row12 col1\" >Diabolical</td>\n",
       "                        <td id=\"T_7b6a7b92_fa75_11ea_8dcc_8c85903d48d1row12_col2\" class=\"data row12 col2\" >17</td>\n",
       "                        <td id=\"T_7b6a7b92_fa75_11ea_8dcc_8c85903d48d1row12_col3\" class=\"data row12 col3\" >36.683</td>\n",
       "                        <td id=\"T_7b6a7b92_fa75_11ea_8dcc_8c85903d48d1row12_col4\" class=\"data row12 col4\" >0.814</td>\n",
       "                        <td id=\"T_7b6a7b92_fa75_11ea_8dcc_8c85903d48d1row12_col5\" class=\"data row12 col5\" >0.231</td>\n",
       "                        <td id=\"T_7b6a7b92_fa75_11ea_8dcc_8c85903d48d1row12_col6\" class=\"data row12 col6\" >0.025</td>\n",
       "            </tr>\n",
       "            <tr>\n",
       "                        <th id=\"T_7b6a7b92_fa75_11ea_8dcc_8c85903d48d1level0_row13\" class=\"row_heading level0 row13\" >42</th>\n",
       "                        <td id=\"T_7b6a7b92_fa75_11ea_8dcc_8c85903d48d1row13_col0\" class=\"data row13 col0\" >data/top95.txt:16</td>\n",
       "                        <td id=\"T_7b6a7b92_fa75_11ea_8dcc_8c85903d48d1row13_col1\" class=\"data row13 col1\" >Diabolical</td>\n",
       "                        <td id=\"T_7b6a7b92_fa75_11ea_8dcc_8c85903d48d1row13_col2\" class=\"data row13 col2\" >17</td>\n",
       "                        <td id=\"T_7b6a7b92_fa75_11ea_8dcc_8c85903d48d1row13_col3\" class=\"data row13 col3\" >37.799</td>\n",
       "                        <td id=\"T_7b6a7b92_fa75_11ea_8dcc_8c85903d48d1row13_col4\" class=\"data row13 col4\" >0.801</td>\n",
       "                        <td id=\"T_7b6a7b92_fa75_11ea_8dcc_8c85903d48d1row13_col5\" class=\"data row13 col5\" >0.159</td>\n",
       "                        <td id=\"T_7b6a7b92_fa75_11ea_8dcc_8c85903d48d1row13_col6\" class=\"data row13 col6\" >0.025</td>\n",
       "            </tr>\n",
       "            <tr>\n",
       "                        <th id=\"T_7b6a7b92_fa75_11ea_8dcc_8c85903d48d1level0_row14\" class=\"row_heading level0 row14\" >68</th>\n",
       "                        <td id=\"T_7b6a7b92_fa75_11ea_8dcc_8c85903d48d1row14_col0\" class=\"data row14 col0\" >data/top95.txt:42</td>\n",
       "                        <td id=\"T_7b6a7b92_fa75_11ea_8dcc_8c85903d48d1row14_col1\" class=\"data row14 col1\" >Diabolical</td>\n",
       "                        <td id=\"T_7b6a7b92_fa75_11ea_8dcc_8c85903d48d1row14_col2\" class=\"data row14 col2\" >17</td>\n",
       "                        <td id=\"T_7b6a7b92_fa75_11ea_8dcc_8c85903d48d1row14_col3\" class=\"data row14 col3\" >7.246</td>\n",
       "                        <td id=\"T_7b6a7b92_fa75_11ea_8dcc_8c85903d48d1row14_col4\" class=\"data row14 col4\" >0.753</td>\n",
       "                        <td id=\"T_7b6a7b92_fa75_11ea_8dcc_8c85903d48d1row14_col5\" class=\"data row14 col5\" >0.050</td>\n",
       "                        <td id=\"T_7b6a7b92_fa75_11ea_8dcc_8c85903d48d1row14_col6\" class=\"data row14 col6\" >0.019</td>\n",
       "            </tr>\n",
       "    </tbody></table>"
      ],
      "text/plain": [
       "<pandas.io.formats.style.Styler at 0x11b09e9d0>"
      ]
     },
     "execution_count": 8,
     "metadata": {},
     "output_type": "execute_result"
    }
   ],
   "source": [
    "def highlight_where_backtracking_faster(s):\n",
    "    if s.constraintpropogation > s.backtracking:\n",
    "        return ['background-color: yellow; color: black'] * len(s)\n",
    "    else:\n",
    "        return [''] * len(s)\n",
    "\n",
    "method = 'constraintpropogation'\n",
    "ndf = df.sort_values(by=method, ascending=False).head(n=15)\n",
    "ndf.style.apply(highlight_where_backtracking_faster, axis=1).bar(subset=[method], color='orange').format({m: '{:.3f}' for m in su.SOLVERS})"
   ]
  },
  {
   "cell_type": "markdown",
   "metadata": {},
   "source": [
    "Interesting points:\n",
    "\n",
    "* Puzzles 7 and 9 (highlighted yellow) actually take longer to solve with the constraint propogation solution than simple backtracking\n",
    "* Puzzles 21 and 46 look like good candidates for looking at closer, because the backtracking time isn't so long that we can't wait for profiler output if we want to compare profiles\n",
    "* Puzzle 42 looks like a good place to start though: < ~1 second (highlighted green), deductive method on the same puzzle *much* faster, and backtracking time not so long tha we can't wait.\n",
    "\n",
    "### Puzzle 42\n",
    "\n",
    "So started looking at Puzzle 42 (answer to the Ultimate Question?), using the built in Jupyet profiler tools. First though, a quick check that the total time matches up. According to original testing performance, this should take ~8 microseconds (ms).\n"
   ]
  },
  {
   "cell_type": "code",
   "execution_count": 9,
   "metadata": {},
   "outputs": [
    {
     "name": "stdout",
     "output_type": "stream",
     "text": [
      "CPU times: user 793 ms, sys: 8.39 ms, total: 801 ms\n",
      "Wall time: 837 ms\n"
     ]
    },
    {
     "data": {
      "text/plain": [
       "True"
      ]
     },
     "execution_count": 9,
     "metadata": {},
     "output_type": "execute_result"
    }
   ],
   "source": [
    "puzzle42 = '......8.16..2........7.5......6...2..1....3...8.......2......7..3..8....5...4....'\n",
    "puzzle = su.SudokuPuzzle()\n",
    "puzzle.init_puzzle(su.from_string(puzzle42))\n",
    "solver = su.SudokuSolver(method=method)\n",
    "%time solver.solve(puzzle)"
   ]
  },
  {
   "cell_type": "markdown",
   "metadata": {},
   "source": [
    "That looks OK. So reset the puzzle and profile below. The profiler itself adds some overhead so this takes slightly longer (~1.2 seconds)."
   ]
  },
  {
   "cell_type": "code",
   "execution_count": 10,
   "metadata": {},
   "outputs": [
    {
     "name": "stdout",
     "output_type": "stream",
     "text": [
      " "
     ]
    },
    {
     "data": {
      "text/plain": [
       "         2030331 function calls (2001341 primitive calls) in 1.164 seconds\n",
       "\n",
       "   Ordered by: internal time\n",
       "\n",
       "   ncalls  tottime  percall  cumtime  percall filename:lineno(function)\n",
       "   398932    0.363    0.000    0.654    0.000 sudoku.py:181(get_allowed_values)\n",
       "    57980    0.246    0.000    0.837    0.000 latinsquare.py:302(next_best_empty_cell)\n",
       "   398932    0.194    0.000    0.194    0.000 latinsquare.py:326(get_allowed_values)\n",
       "   456848    0.112    0.000    0.112    0.000 sudoku.py:131(box_xy_to_num)\n",
       "  28991/1    0.074    0.000    1.164    1.164 sudoku.py:340(_solve_backtracking)\n",
       "    28990    0.039    0.000    0.088    0.000 latinsquare.py:213(set)\n",
       "    28926    0.031    0.000    0.072    0.000 sudoku.py:156(clear)\n",
       "    28990    0.029    0.000    0.127    0.000 sudoku.py:143(set)\n",
       "    28926    0.025    0.000    0.031    0.000 latinsquare.py:250(clear)\n",
       "   341006    0.022    0.000    0.022    0.000 {built-in method builtins.len}\n",
       "    86970    0.009    0.000    0.009    0.000 {method 'remove' of 'set' objects}\n",
       "    86778    0.009    0.000    0.009    0.000 {method 'add' of 'set' objects}\n",
       "    28990    0.007    0.000    0.837    0.000 {built-in method builtins.next}\n",
       "    28991    0.004    0.000    0.004    0.000 latinsquare.py:205(num_empty_cells)\n",
       "        1    0.000    0.000    1.164    1.164 {built-in method builtins.exec}\n",
       "        1    0.000    0.000    0.000    0.000 sudoku.py:200(is_valid)\n",
       "        9    0.000    0.000    0.000    0.000 sudoku.py:168(get_box_values)\n",
       "        1    0.000    0.000    0.000    0.000 latinsquare.py:337(is_valid)\n",
       "        9    0.000    0.000    0.000    0.000 latinsquare.py:324(<listcomp>)\n",
       "        9    0.000    0.000    0.000    0.000 sudoku.py:174(<listcomp>)\n",
       "        9    0.000    0.000    0.000    0.000 latinsquare.py:320(<listcomp>)\n",
       "        9    0.000    0.000    0.000    0.000 latinsquare.py:318(get_row_values)\n",
       "        9    0.000    0.000    0.000    0.000 sudoku.py:179(<listcomp>)\n",
       "        9    0.000    0.000    0.000    0.000 latinsquare.py:322(get_column_values)\n",
       "        1    0.000    0.000    0.000    0.000 latinsquare.py:360(is_solved)\n",
       "        9    0.000    0.000    0.000    0.000 sudoku.py:114(box_num_to_xy)\n",
       "        1    0.000    0.000    1.164    1.164 sudoku.py:286(solve)\n",
       "        1    0.000    0.000    0.000    0.000 {method 'disable' of '_lsprof.Profiler' objects}\n",
       "        1    0.000    0.000    1.164    1.164 sudoku.py:844(solve)\n",
       "        1    0.000    0.000    1.164    1.164 <string>:1(<module>)\n",
       "        1    0.000    0.000    0.000    0.000 latinsquare.py:272(is_empty)"
      ]
     },
     "metadata": {},
     "output_type": "display_data"
    }
   ],
   "source": [
    "puzzle.init_puzzle(su.from_string(puzzle42))\n",
    "s = su.SudokuSolver(method=method)\n",
    "%prun s.solve(puzzle)"
   ]
  },
  {
   "cell_type": "markdown",
   "metadata": {},
   "source": [
    "Notes:\n",
    "\n",
    "* 399K calls to `get_allowed_values`. The first entry is in [sudoku.py](sudoku.py#line_88), which gets the allowed values for the box, then calls the same method in the [parent class](puzzlegrid.py#line_321) to return the intersection of allowed cells in that row, column and box.\n",
    "* Recurses into `solve_constraintpropogation` 29K times.\n",
    "\n",
    "Compare the performance of #42 to #46. Expect #46 to take ~2.5 seconds."
   ]
  },
  {
   "cell_type": "code",
   "execution_count": 11,
   "metadata": {},
   "outputs": [
    {
     "name": "stdout",
     "output_type": "stream",
     "text": [
      "CPU times: user 249 ms, sys: 4.54 ms, total: 253 ms\n",
      "Wall time: 260 ms\n"
     ]
    },
    {
     "data": {
      "text/plain": [
       "True"
      ]
     },
     "execution_count": 11,
     "metadata": {},
     "output_type": "execute_result"
    }
   ],
   "source": [
    "puzzle46 = '.834.........7..5...........4.1.8..........27...3.....2.6.5....5.....8........1..'\n",
    "puzzle.init_puzzle(su.from_string(puzzle46))\n",
    "solver = su.SudokuSolver(method=method)\n",
    "%time solver.solve(puzzle)"
   ]
  },
  {
   "cell_type": "markdown",
   "metadata": {},
   "source": [
    "OK, this is weird. That was supposed to take ~2.5 seconds and instead finished in ~0.3 seconds. Let's run it again...and again. And this time we'll output some of the stats collected by the solver itself:\n",
    "\n",
    "* Max Depth: The deepest stack-depth the recursion reached\n",
    "* Backtracks: The number of \"mistakes\" made by the algorithm that resulted in it backtracking to a prior state\n"
   ]
  },
  {
   "cell_type": "code",
   "execution_count": 12,
   "metadata": {},
   "outputs": [
    {
     "data": {
      "text/plain": [
       "'constraintpropogation'"
      ]
     },
     "execution_count": 12,
     "metadata": {},
     "output_type": "execute_result"
    }
   ],
   "source": [
    "method"
   ]
  },
  {
   "cell_type": "code",
   "execution_count": 13,
   "metadata": {},
   "outputs": [
    {
     "name": "stdout",
     "output_type": "stream",
     "text": [
      "RUN 0\n",
      "CPU times: user 2.68 s, sys: 26.3 ms, total: 2.7 s\n",
      "Wall time: 2.76 s\n",
      "Max Depth=63; Backtracks=105917\n",
      "\n",
      "RUN 1\n",
      "CPU times: user 2.55 s, sys: 10.7 ms, total: 2.57 s\n",
      "Wall time: 2.6 s\n",
      "Max Depth=63; Backtracks=105917\n",
      "\n",
      "RUN 2\n",
      "CPU times: user 224 ms, sys: 1.09 ms, total: 225 ms\n",
      "Wall time: 226 ms\n",
      "Max Depth=63; Backtracks=8766\n",
      "\n",
      "RUN 3\n",
      "CPU times: user 228 ms, sys: 1.41 ms, total: 230 ms\n",
      "Wall time: 231 ms\n",
      "Max Depth=63; Backtracks=8766\n",
      "\n",
      "RUN 4\n",
      "CPU times: user 245 ms, sys: 2.43 ms, total: 247 ms\n",
      "Wall time: 251 ms\n",
      "Max Depth=63; Backtracks=8766\n",
      "\n"
     ]
    }
   ],
   "source": [
    "puzzle = su.SudokuPuzzle()\n",
    "solver = su.SudokuSolver(method=method)\n",
    "for i in range(5):\n",
    "    print(f\"RUN {i}\")\n",
    "    puzzle.init_puzzle(starting_grid=su.from_string(puzzle46))\n",
    "    assert(not puzzle.is_solved())\n",
    "    %time solver.solve(puzzle)\n",
    "    print(f\"Max Depth={solver.solver.max_depth}; Backtracks={solver.solver.backtrack_count}\\n\")"
   ]
  },
  {
   "cell_type": "markdown",
   "metadata": {},
   "source": [
    "In testing, the first two usually take ~2.5 seconds, and the last 3 take ~220 ms. Even though it's exactly the same puzzle being solved by exactly the same algorithm.\n",
    "\n",
    "It turns out the difference is caused by the return order of the set of allowed values. Since the values are returned in a set, the order of the elements is not guaranteed to be consistent. When the order is slightly different, then the backtracking can take dramatically different search paths, with consequent impacts on run time. You can see this in the `Backtracks` reported (~106K vs ~9K).\n",
    "\n",
    "In this specific case, one of the cells has allowed values (1, 9). If \"1\" is chosen then the solution takes 2.5 seconds to find. However if the \"9\" is chosen, then the search takes ~220 ms. \n",
    "\n",
    "If I modify the algorithm to always sort the allowed values then the performance time is always consistent. Otherwise there's a certain amount of randmomness to it.\n",
    "\n",
    "The other change is to recreate the `puzzle` instance each time. When I do that, the performance remains consistent, because the set order remains consistent. Not sure why that is.\n"
   ]
  }
 ],
 "metadata": {
  "kernelspec": {
   "display_name": "Python 3",
   "language": "python",
   "name": "python3"
  },
  "language_info": {
   "codemirror_mode": {
    "name": "ipython",
    "version": 3
   },
   "file_extension": ".py",
   "mimetype": "text/x-python",
   "name": "python",
   "nbconvert_exporter": "python",
   "pygments_lexer": "ipython3",
   "version": "3.7.4"
  }
 },
 "nbformat": 4,
 "nbformat_minor": 4
}
