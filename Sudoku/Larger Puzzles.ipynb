{
 "cells": [
  {
   "cell_type": "code",
   "execution_count": null,
   "metadata": {},
   "outputs": [],
   "source": []
  },
  {
   "cell_type": "markdown",
   "metadata": {},
   "source": [
    "# Larger Puzzle Sizes\n",
    "\n",
    "Standard Sudoku is 9x9, but the same rules can apply to 16x16 or 25x25. Let's build up some new test cases.\n"
   ]
  },
  {
   "cell_type": "code",
   "execution_count": 44,
   "metadata": {},
   "outputs": [
    {
     "data": {
      "text/plain": [
       "29"
      ]
     },
     "execution_count": 44,
     "metadata": {},
     "output_type": "execute_result"
    }
   ],
   "source": [
    "big = tester.PuzzleTester(puzzle_class=su.SudokuPuzzle, test_samples=1)\n",
    "big.add_test_cases(tester.from_file(\"data/sudoku_9x9/hardest.txt\", level=\"9x9 Hard\"))\n",
    "big.add_test_cases(tester.from_file(\"data/sudoku_16x16/easy.txt\", level=\"16x16 Easy\"))\n",
    "#big.add_test_cases(tester.from_file(\"data/sudoku_16x16/medium.txt\", level=\"16x16 Medium\"))\n",
    "#big.add_test_cases(tester.from_file(\"data/sudoku_16x16/hard.txt\", level=\"16x16 Hard\"))\n",
    "big.add_test_cases(tester.from_file(\"data/sudoku_25x25/easy.txt\", level=\"25x25 Easy\"))"
   ]
  },
  {
   "cell_type": "markdown",
   "metadata": {},
   "source": [
    "Some exploratory testing showed that backtracking alone has no hope (unless the puzzle is already 80% solved, which these aren't). So will exclude that method from these tests.\n",
    "\n",
    "Also, running these in \"reverse order\" because the SAT solver is *so* much faster than my lame solo attempts -- it's really impressive to watch. The first time I ran these puzzles it ran for 12 hours without finishing. The deductive solver was stuck on the first puzzle in `sudoky16x16/medium.txt`."
   ]
  },
  {
   "cell_type": "code",
   "execution_count": 45,
   "metadata": {},
   "outputs": [
    {
     "data": {
      "text/html": [
       "<progress style=\"width: 100%\" max=29 value=29>29 of 29</progress>"
      ],
      "text/plain": [
       "<IPython.core.display.HTML object>"
      ]
     },
     "metadata": {},
     "output_type": "display_data"
    },
    {
     "data": {
      "text/html": [
       "<p>Completed 29 test cases in 14.94 seconds</p>"
      ],
      "text/plain": [
       "<IPython.core.display.HTML object>"
      ]
     },
     "metadata": {},
     "output_type": "display_data"
    },
    {
     "data": {
      "image/png": "[encoded data removed]",
      "text/plain": [
       "<Figure size 864x432 with 1 Axes>"
      ]
     },
     "metadata": {
      "needs_background": "light"
     },
     "output_type": "display_data"
    }
   ],
   "source": [
    "solver = su.SudokuSolver(method='sat')\n",
    "big.run_tests(solver, 'sat', callback=update_progress)\n",
    "bdf = pd.DataFrame(big.get_test_results())\n",
    "axs = bdf['sat'].plot(kind=\"box\", notch=True, patch_artist=True)"
   ]
  },
  {
   "cell_type": "code",
   "execution_count": null,
   "metadata": {},
   "outputs": [],
   "source": [
    "solver = su.SudokuSolver(method='deductive')\n",
    "big.run_tests(solver, callback=update_progress)\n",
    "bdf = pd.DataFrame(big.get_test_results())\n",
    "axs = bdf[['sat', 'deductive']].plot(kind=\"box\", notch=True, patch_artist=True)"
   ]
  },
  {
   "cell_type": "markdown",
   "metadata": {},
   "source": [
    "Oh...my...gawd...3.2 hours on a single puzzle. That's about how long it takes me to solve a normal Sudoku manually. :)\n"
   ]
  },
  {
   "cell_type": "code",
   "execution_count": null,
   "metadata": {},
   "outputs": [],
   "source": [
    "show_results(big) #bdf.sort_values(by='deductive', ascending=False).head(n=20))"
   ]
  }
 ],
 "metadata": {
  "kernelspec": {
   "display_name": "Python 3",
   "language": "python",
   "name": "python3"
  },
  "language_info": {
   "codemirror_mode": {
    "name": "ipython",
    "version": 3
   },
   "file_extension": ".py",
   "mimetype": "text/x-python",
   "name": "python",
   "nbconvert_exporter": "python",
   "pygments_lexer": "ipython3",
   "version": "3.7.4"
  }
 },
 "nbformat": 4,
 "nbformat_minor": 4
}
