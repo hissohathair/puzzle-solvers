{
 "cells": [
  {
   "cell_type": "code",
   "execution_count": null,
   "metadata": {},
   "outputs": [],
   "source": []
  },
  {
   "cell_type": "markdown",
   "metadata": {},
   "source": [
    "## Diversion #2: Cheating\n",
    "\n",
    "Occurred to me that the way I've designed the puzzle and solver classes opens the way to having a \"cheating\" solver. Basically a solver that over-writes the puzzle with a pre-programmed sequence of numbers that obey the rules but do not match the original puzzle clues.\n",
    "\n",
    "So just for fun let's see how easy that is to do and how I could improve the puzzle class to detect and block attempts to \"cheat\".\n",
    "\n",
    "### First attempt: Lie\n",
    "\n",
    "First attempt was based on this code in the original implementation of `is_solved`:\n",
    "\n",
    "```python\n",
    "def is_solved(self):\n",
    "    return self.is_puzzle_valid() and self._num_empty_cells == 0\n",
    "```\n",
    "\n",
    "So, how about a solver that just plain lies by over-writing the number of empty cells left?\n"
   ]
  },
  {
   "cell_type": "code",
   "execution_count": 61,
   "metadata": {},
   "outputs": [
    {
     "data": {
      "text/plain": [
       "True"
      ]
     },
     "execution_count": 61,
     "metadata": {},
     "output_type": "execute_result"
    }
   ],
   "source": [
    "class CheatingSolver:\n",
    "    def solve(self, puzzle):\n",
    "        \"\"\"Easiest way to cheat would be to trick the is_solved() method on the puzzle to always returning True\"\"\"\n",
    "        puzzle._num_empty_cells = 0\n",
    "        return True\n",
    "\n",
    "puzzle = su.SudokuPuzzle(starting_grid=su.from_string(su.SAMPLE_PUZZLES[0]['puzzle']))\n",
    "solver = CheatingSolver()\n",
    "solver.solve(puzzle)"
   ]
  },
  {
   "cell_type": "markdown",
   "metadata": {},
   "source": [
    "So the solver will always return `True` but the puzzle itself should know that it's not really solved. I changed the `is_solved` method to actually check that every cell has a value.\n",
    "\n",
    "```python\n",
    "def is_solved(self):\n",
    "    if self.is_puzzle_valid():\n",
    "        for i in range(self.max_value()):\n",
    "            for j in range(self.max_value()):\n",
    "                if self.is_empty(i, j):\n",
    "                    return False\n",
    "        return True\n",
    "    else:\n",
    "        return False\n",
    "```"
   ]
  },
  {
   "cell_type": "code",
   "execution_count": 63,
   "metadata": {},
   "outputs": [
    {
     "data": {
      "text/plain": [
       "False"
      ]
     },
     "execution_count": 63,
     "metadata": {},
     "output_type": "execute_result"
    }
   ],
   "source": [
    "puzzle.is_solved()"
   ]
  },
  {
   "cell_type": "markdown",
   "metadata": {},
   "source": [
    "Now if we use this in the `PuzzleTester` then we want to make sure that it's detecting that the puzzle isn't really solved."
   ]
  },
  {
   "cell_type": "code",
   "execution_count": 65,
   "metadata": {},
   "outputs": [
    {
     "data": {
      "text/plain": [
       "8"
      ]
     },
     "execution_count": 65,
     "metadata": {},
     "output_type": "execute_result"
    }
   ],
   "source": [
    "include_levels = ['Kids', 'Easy', 'Moderate', 'Hard']  # , 'Diabolical', 'Pathalogical']\n",
    "test_cases = [x for x in su.SAMPLE_PUZZLES if x['level'] in include_levels]\n",
    "pt = tester.PuzzleTester(puzzle_class=su.SudokuPuzzle)\n",
    "pt.add_test_cases(test_cases)"
   ]
  },
  {
   "cell_type": "code",
   "execution_count": 66,
   "metadata": {},
   "outputs": [
    {
     "data": {
      "text/html": [
       "<style  type=\"text/css\" >\n",
       "    #T_fdef83b0_f9a7_11ea_b55e_8c85903d48d1row0_col3 {\n",
       "            background-color:  red;\n",
       "        }    #T_fdef83b0_f9a7_11ea_b55e_8c85903d48d1row1_col3 {\n",
       "            background-color:  red;\n",
       "        }    #T_fdef83b0_f9a7_11ea_b55e_8c85903d48d1row2_col3 {\n",
       "            background-color:  red;\n",
       "        }    #T_fdef83b0_f9a7_11ea_b55e_8c85903d48d1row3_col3 {\n",
       "            background-color:  red;\n",
       "        }    #T_fdef83b0_f9a7_11ea_b55e_8c85903d48d1row4_col3 {\n",
       "            background-color:  red;\n",
       "        }    #T_fdef83b0_f9a7_11ea_b55e_8c85903d48d1row5_col3 {\n",
       "            background-color:  red;\n",
       "        }    #T_fdef83b0_f9a7_11ea_b55e_8c85903d48d1row6_col3 {\n",
       "            background-color:  red;\n",
       "        }    #T_fdef83b0_f9a7_11ea_b55e_8c85903d48d1row7_col3 {\n",
       "            background-color:  red;\n",
       "        }</style><table id=\"T_fdef83b0_f9a7_11ea_b55e_8c85903d48d1\" ><thead>    <tr>        <th class=\"blank level0\" ></th>        <th class=\"col_heading level0 col0\" >label</th>        <th class=\"col_heading level0 col1\" >level</th>        <th class=\"col_heading level0 col2\" >starting_clues</th>        <th class=\"col_heading level0 col3\" >CheatingSolver</th>    </tr></thead><tbody>\n",
       "                <tr>\n",
       "                        <th id=\"T_fdef83b0_f9a7_11ea_b55e_8c85903d48d1level0_row0\" class=\"row_heading level0 row0\" >0</th>\n",
       "                        <td id=\"T_fdef83b0_f9a7_11ea_b55e_8c85903d48d1row0_col0\" class=\"data row0 col0\" >SMH 1</td>\n",
       "                        <td id=\"T_fdef83b0_f9a7_11ea_b55e_8c85903d48d1row0_col1\" class=\"data row0 col1\" >Kids</td>\n",
       "                        <td id=\"T_fdef83b0_f9a7_11ea_b55e_8c85903d48d1row0_col2\" class=\"data row0 col2\" >31</td>\n",
       "                        <td id=\"T_fdef83b0_f9a7_11ea_b55e_8c85903d48d1row0_col3\" class=\"data row0 col3\" >None</td>\n",
       "            </tr>\n",
       "            <tr>\n",
       "                        <th id=\"T_fdef83b0_f9a7_11ea_b55e_8c85903d48d1level0_row1\" class=\"row_heading level0 row1\" >1</th>\n",
       "                        <td id=\"T_fdef83b0_f9a7_11ea_b55e_8c85903d48d1row1_col0\" class=\"data row1 col0\" >SMH 2</td>\n",
       "                        <td id=\"T_fdef83b0_f9a7_11ea_b55e_8c85903d48d1row1_col1\" class=\"data row1 col1\" >Easy</td>\n",
       "                        <td id=\"T_fdef83b0_f9a7_11ea_b55e_8c85903d48d1row1_col2\" class=\"data row1 col2\" >24</td>\n",
       "                        <td id=\"T_fdef83b0_f9a7_11ea_b55e_8c85903d48d1row1_col3\" class=\"data row1 col3\" >None</td>\n",
       "            </tr>\n",
       "            <tr>\n",
       "                        <th id=\"T_fdef83b0_f9a7_11ea_b55e_8c85903d48d1level0_row2\" class=\"row_heading level0 row2\" >2</th>\n",
       "                        <td id=\"T_fdef83b0_f9a7_11ea_b55e_8c85903d48d1row2_col0\" class=\"data row2 col0\" >KTH 1</td>\n",
       "                        <td id=\"T_fdef83b0_f9a7_11ea_b55e_8c85903d48d1row2_col1\" class=\"data row2 col1\" >Easy</td>\n",
       "                        <td id=\"T_fdef83b0_f9a7_11ea_b55e_8c85903d48d1row2_col2\" class=\"data row2 col2\" >30</td>\n",
       "                        <td id=\"T_fdef83b0_f9a7_11ea_b55e_8c85903d48d1row2_col3\" class=\"data row2 col3\" >None</td>\n",
       "            </tr>\n",
       "            <tr>\n",
       "                        <th id=\"T_fdef83b0_f9a7_11ea_b55e_8c85903d48d1level0_row3\" class=\"row_heading level0 row3\" >3</th>\n",
       "                        <td id=\"T_fdef83b0_f9a7_11ea_b55e_8c85903d48d1row3_col0\" class=\"data row3 col0\" >Rico Alan Heart</td>\n",
       "                        <td id=\"T_fdef83b0_f9a7_11ea_b55e_8c85903d48d1row3_col1\" class=\"data row3 col1\" >Easy</td>\n",
       "                        <td id=\"T_fdef83b0_f9a7_11ea_b55e_8c85903d48d1row3_col2\" class=\"data row3 col2\" >22</td>\n",
       "                        <td id=\"T_fdef83b0_f9a7_11ea_b55e_8c85903d48d1row3_col3\" class=\"data row3 col3\" >None</td>\n",
       "            </tr>\n",
       "            <tr>\n",
       "                        <th id=\"T_fdef83b0_f9a7_11ea_b55e_8c85903d48d1level0_row4\" class=\"row_heading level0 row4\" >4</th>\n",
       "                        <td id=\"T_fdef83b0_f9a7_11ea_b55e_8c85903d48d1row4_col0\" class=\"data row4 col0\" >SMH 3</td>\n",
       "                        <td id=\"T_fdef83b0_f9a7_11ea_b55e_8c85903d48d1row4_col1\" class=\"data row4 col1\" >Moderate</td>\n",
       "                        <td id=\"T_fdef83b0_f9a7_11ea_b55e_8c85903d48d1row4_col2\" class=\"data row4 col2\" >26</td>\n",
       "                        <td id=\"T_fdef83b0_f9a7_11ea_b55e_8c85903d48d1row4_col3\" class=\"data row4 col3\" >None</td>\n",
       "            </tr>\n",
       "            <tr>\n",
       "                        <th id=\"T_fdef83b0_f9a7_11ea_b55e_8c85903d48d1level0_row5\" class=\"row_heading level0 row5\" >5</th>\n",
       "                        <td id=\"T_fdef83b0_f9a7_11ea_b55e_8c85903d48d1row5_col0\" class=\"data row5 col0\" >SMH 4</td>\n",
       "                        <td id=\"T_fdef83b0_f9a7_11ea_b55e_8c85903d48d1row5_col1\" class=\"data row5 col1\" >Hard</td>\n",
       "                        <td id=\"T_fdef83b0_f9a7_11ea_b55e_8c85903d48d1row5_col2\" class=\"data row5 col2\" >22</td>\n",
       "                        <td id=\"T_fdef83b0_f9a7_11ea_b55e_8c85903d48d1row5_col3\" class=\"data row5 col3\" >None</td>\n",
       "            </tr>\n",
       "            <tr>\n",
       "                        <th id=\"T_fdef83b0_f9a7_11ea_b55e_8c85903d48d1level0_row6\" class=\"row_heading level0 row6\" >6</th>\n",
       "                        <td id=\"T_fdef83b0_f9a7_11ea_b55e_8c85903d48d1row6_col0\" class=\"data row6 col0\" >SMH 5</td>\n",
       "                        <td id=\"T_fdef83b0_f9a7_11ea_b55e_8c85903d48d1row6_col1\" class=\"data row6 col1\" >Hard</td>\n",
       "                        <td id=\"T_fdef83b0_f9a7_11ea_b55e_8c85903d48d1row6_col2\" class=\"data row6 col2\" >25</td>\n",
       "                        <td id=\"T_fdef83b0_f9a7_11ea_b55e_8c85903d48d1row6_col3\" class=\"data row6 col3\" >None</td>\n",
       "            </tr>\n",
       "            <tr>\n",
       "                        <th id=\"T_fdef83b0_f9a7_11ea_b55e_8c85903d48d1level0_row7\" class=\"row_heading level0 row7\" >7</th>\n",
       "                        <td id=\"T_fdef83b0_f9a7_11ea_b55e_8c85903d48d1row7_col0\" class=\"data row7 col0\" >Greg [2017]</td>\n",
       "                        <td id=\"T_fdef83b0_f9a7_11ea_b55e_8c85903d48d1row7_col1\" class=\"data row7 col1\" >Hard</td>\n",
       "                        <td id=\"T_fdef83b0_f9a7_11ea_b55e_8c85903d48d1row7_col2\" class=\"data row7 col2\" >21</td>\n",
       "                        <td id=\"T_fdef83b0_f9a7_11ea_b55e_8c85903d48d1row7_col3\" class=\"data row7 col3\" >None</td>\n",
       "            </tr>\n",
       "    </tbody></table>"
      ],
      "text/plain": [
       "<pandas.io.formats.style.Styler at 0x12472a9d0>"
      ]
     },
     "execution_count": 66,
     "metadata": {},
     "output_type": "execute_result"
    }
   ],
   "source": [
    "solver = CheatingSolver()\n",
    "pt.run_tests(solver)\n",
    "df = pd.DataFrame(pt.get_test_results())\n",
    "df.style.highlight_null()"
   ]
  },
  {
   "cell_type": "markdown",
   "metadata": {},
   "source": [
    "So I had to change `PuzzleTester` class to check the return value of the puzzle's `is_solved` method, rather than trust the solver's return value from `solve`. If the puzzle asserts that it is NOT solved then no result is recorded for the solver.\n",
    "\n",
    "### Second attempt: Over-write with a canned solution\n",
    "\n",
    "So since our really simple cheater no longer works I guess we'll need a more sophisticated version. We could just fill in the blank cells with \"1\" (or any other value) but then the `is_puzzle_valid` check would fail, at which point we may as well solve it properly. \n",
    "\n",
    "\n",
    "So maybe what our cheat needs to do is overwrite *all* cells in a rule-abiding way. We won't be actually solving the original puzzle. Basically, we're just writing a \"pre-solved\" puzzle over the top.\n"
   ]
  },
  {
   "cell_type": "code",
   "execution_count": 69,
   "metadata": {},
   "outputs": [],
   "source": [
    "class CheatingSolver:\n",
    "    def solve(self, puzzle):\n",
    "        \"\"\"Write a pre-solved puzzle in over the top of the provided one\"\"\"\n",
    "        starting_values = [0, 3, 6, 1, 4, 7, 2, 5, 8]\n",
    "        max_value = puzzle.max_value\n",
    "        assert max_value == 9, \"I can't handle puzzles other than 9x9\"\n",
    "        puzzle.clear_all()\n",
    "        for i in range(max_value):\n",
    "            for j in range(max_value):\n",
    "                #print(i, j, (starting_values[i] + j) % max_value + 1)\n",
    "                puzzle.set(i, j, (starting_values[i] + j) % max_value + 1)\n",
    "        return True"
   ]
  },
  {
   "cell_type": "code",
   "execution_count": 70,
   "metadata": {},
   "outputs": [
    {
     "data": {
      "text/plain": [
       "True"
      ]
     },
     "execution_count": 70,
     "metadata": {},
     "output_type": "execute_result"
    }
   ],
   "source": [
    "puzzle = su.SudokuPuzzle(starting_grid=su.from_string(su.SAMPLE_PUZZLES[0]['puzzle']))\n",
    "solver = CheatingSolver()\n",
    "solver.solve(puzzle)\n",
    "puzzle.is_solved()"
   ]
  },
  {
   "cell_type": "markdown",
   "metadata": {},
   "source": [
    "So the cheat works. \n",
    "\n",
    "Now, the whole point of cheating here is to be faster than a real solver, so let's test performance.\n"
   ]
  },
  {
   "cell_type": "code",
   "execution_count": 72,
   "metadata": {},
   "outputs": [],
   "source": [
    "for m in su.SOLVERS:\n",
    "    solver = su.SudokuSolver(method=m)\n",
    "    pt.run_tests(solver, m)"
   ]
  },
  {
   "cell_type": "code",
   "execution_count": 83,
   "metadata": {},
   "outputs": [
    {
     "data": {
      "text/html": [
       "<div>\n",
       "<style scoped>\n",
       "    .dataframe tbody tr th:only-of-type {\n",
       "        vertical-align: middle;\n",
       "    }\n",
       "\n",
       "    .dataframe tbody tr th {\n",
       "        vertical-align: top;\n",
       "    }\n",
       "\n",
       "    .dataframe thead th {\n",
       "        text-align: right;\n",
       "    }\n",
       "</style>\n",
       "<table border=\"1\" class=\"dataframe\">\n",
       "  <thead>\n",
       "    <tr style=\"text-align: right;\">\n",
       "      <th></th>\n",
       "      <th>label</th>\n",
       "      <th>level</th>\n",
       "      <th>starting_clues</th>\n",
       "      <th>CheatingSolver</th>\n",
       "      <th>backtracking</th>\n",
       "      <th>constraintpropogation</th>\n",
       "      <th>deductive</th>\n",
       "      <th>sat</th>\n",
       "    </tr>\n",
       "  </thead>\n",
       "  <tbody>\n",
       "    <tr>\n",
       "      <th>0</th>\n",
       "      <td>SMH 1</td>\n",
       "      <td>Kids</td>\n",
       "      <td>31</td>\n",
       "      <td>None</td>\n",
       "      <td>0.003</td>\n",
       "      <td>0.003</td>\n",
       "      <td>0.002</td>\n",
       "      <td>0.016</td>\n",
       "    </tr>\n",
       "    <tr>\n",
       "      <th>1</th>\n",
       "      <td>SMH 2</td>\n",
       "      <td>Easy</td>\n",
       "      <td>24</td>\n",
       "      <td>None</td>\n",
       "      <td>0.207</td>\n",
       "      <td>0.003</td>\n",
       "      <td>0.003</td>\n",
       "      <td>0.017</td>\n",
       "    </tr>\n",
       "    <tr>\n",
       "      <th>2</th>\n",
       "      <td>KTH 1</td>\n",
       "      <td>Easy</td>\n",
       "      <td>30</td>\n",
       "      <td>None</td>\n",
       "      <td>0.010</td>\n",
       "      <td>0.002</td>\n",
       "      <td>0.002</td>\n",
       "      <td>0.016</td>\n",
       "    </tr>\n",
       "    <tr>\n",
       "      <th>3</th>\n",
       "      <td>Rico Alan Heart</td>\n",
       "      <td>Easy</td>\n",
       "      <td>22</td>\n",
       "      <td>None</td>\n",
       "      <td>0.072</td>\n",
       "      <td>0.032</td>\n",
       "      <td>0.007</td>\n",
       "      <td>0.017</td>\n",
       "    </tr>\n",
       "    <tr>\n",
       "      <th>4</th>\n",
       "      <td>SMH 3</td>\n",
       "      <td>Moderate</td>\n",
       "      <td>26</td>\n",
       "      <td>None</td>\n",
       "      <td>0.072</td>\n",
       "      <td>0.028</td>\n",
       "      <td>0.027</td>\n",
       "      <td>0.017</td>\n",
       "    </tr>\n",
       "    <tr>\n",
       "      <th>5</th>\n",
       "      <td>SMH 4</td>\n",
       "      <td>Hard</td>\n",
       "      <td>22</td>\n",
       "      <td>None</td>\n",
       "      <td>1.291</td>\n",
       "      <td>0.033</td>\n",
       "      <td>0.016</td>\n",
       "      <td>0.017</td>\n",
       "    </tr>\n",
       "    <tr>\n",
       "      <th>6</th>\n",
       "      <td>SMH 5</td>\n",
       "      <td>Hard</td>\n",
       "      <td>25</td>\n",
       "      <td>None</td>\n",
       "      <td>0.529</td>\n",
       "      <td>0.027</td>\n",
       "      <td>0.012</td>\n",
       "      <td>0.018</td>\n",
       "    </tr>\n",
       "    <tr>\n",
       "      <th>7</th>\n",
       "      <td>Greg [2017]</td>\n",
       "      <td>Hard</td>\n",
       "      <td>21</td>\n",
       "      <td>None</td>\n",
       "      <td>0.596</td>\n",
       "      <td>0.037</td>\n",
       "      <td>0.041</td>\n",
       "      <td>0.019</td>\n",
       "    </tr>\n",
       "  </tbody>\n",
       "</table>\n",
       "</div>"
      ],
      "text/plain": [
       "             label     level  starting_clues CheatingSolver  backtracking  \\\n",
       "0            SMH 1      Kids              31           None         0.003   \n",
       "1            SMH 2      Easy              24           None         0.207   \n",
       "2            KTH 1      Easy              30           None         0.010   \n",
       "3  Rico Alan Heart      Easy              22           None         0.072   \n",
       "4            SMH 3  Moderate              26           None         0.072   \n",
       "5            SMH 4      Hard              22           None         1.291   \n",
       "6            SMH 5      Hard              25           None         0.529   \n",
       "7      Greg [2017]      Hard              21           None         0.596   \n",
       "\n",
       "   constraintpropogation  deductive    sat  \n",
       "0                  0.003      0.002  0.016  \n",
       "1                  0.003      0.003  0.017  \n",
       "2                  0.002      0.002  0.016  \n",
       "3                  0.032      0.007  0.017  \n",
       "4                  0.028      0.027  0.017  \n",
       "5                  0.033      0.016  0.017  \n",
       "6                  0.027      0.012  0.018  \n",
       "7                  0.037      0.041  0.019  "
      ]
     },
     "execution_count": 83,
     "metadata": {},
     "output_type": "execute_result"
    }
   ],
   "source": [
    "all_methods = list(pt.get_solver_labels())\n",
    "all_methods.append(method)\n",
    "\n",
    "solver = CheatingSolver()\n",
    "pt.run_tests(solver)\n",
    "# show_results(pt, axis=1)\n",
    "df = pd.DataFrame(pt.get_test_results())\n",
    "df"
   ]
  },
  {
   "cell_type": "markdown",
   "metadata": {},
   "source": [
    "## Diversion #3: Catching Cheats\n",
    "\n",
    "To prevent the new cheat we basically need to compare the puzzle with a copy of the original. That way we can detect that the starting clues have been over written.\n",
    "\n",
    "We can't do this in the `SudokuPuzzle` itself. Python doesn't really have `private` attributes, [more a naming convention](https://docs.python.org/3/tutorial/classes.html#tut-private) that signals \"hey, you're not supposed to muck around with this\", but we've already seen that we can pretty much ignore that and modify the class's internals. And since we're trying to guard against cheating we can assume an attacker will happily ignore convention.\n",
    "\n",
    "If we assume that the caller (test harness) can be trusted then we can let the caller verify that the original puzzle is OK. We'll just need a function that confirms if the starting clues in one puzzle also exist in the second.\n"
   ]
  },
  {
   "cell_type": "code",
   "execution_count": 87,
   "metadata": {},
   "outputs": [],
   "source": [
    "def has_same_clues(a, b):\n",
    "    \"\"\"Returns true if the non empty cells in a have the same value in b\"\"\"\n",
    "    if a.max_value != b.max_value:\n",
    "        return False\n",
    "    \n",
    "    for i in range(a.max_value):\n",
    "        for j in range(a.max_value):\n",
    "            if not a.is_empty(i, j) and a.get(i, j) != b.get(i, j):\n",
    "                return False\n",
    "    return True"
   ]
  },
  {
   "cell_type": "code",
   "execution_count": 88,
   "metadata": {},
   "outputs": [
    {
     "data": {
      "text/plain": [
       "True"
      ]
     },
     "execution_count": 88,
     "metadata": {},
     "output_type": "execute_result"
    }
   ],
   "source": [
    "puzzle = su.SudokuPuzzle(starting_grid=su.from_string(su.SAMPLE_PUZZLES[-1]['puzzle']))\n",
    "original = copy.deepcopy(puzzle)\n",
    "has_same_clues(original, puzzle)"
   ]
  },
  {
   "cell_type": "code",
   "execution_count": 89,
   "metadata": {},
   "outputs": [
    {
     "data": {
      "text/plain": [
       "True"
      ]
     },
     "execution_count": 89,
     "metadata": {},
     "output_type": "execute_result"
    }
   ],
   "source": [
    "solver.solve(puzzle)\n",
    "puzzle.is_solved()"
   ]
  },
  {
   "cell_type": "code",
   "execution_count": 90,
   "metadata": {},
   "outputs": [
    {
     "data": {
      "text/plain": [
       "False"
      ]
     },
     "execution_count": 90,
     "metadata": {},
     "output_type": "execute_result"
    }
   ],
   "source": [
    "has_same_clues(original, puzzle)"
   ]
  },
  {
   "cell_type": "markdown",
   "metadata": {},
   "source": [
    "Putting it all together, let's ~~monkey patch~~ switch on anti-cheat checking and make sure it throws away test results if the solver has cheated."
   ]
  },
  {
   "cell_type": "code",
   "execution_count": 91,
   "metadata": {},
   "outputs": [
    {
     "data": {
      "text/html": [
       "<style  type=\"text/css\" >\n",
       "    #T_e6ab90f8_f9a8_11ea_b55e_8c85903d48d1row0_col3 {\n",
       "            background-color:  red;\n",
       "        }    #T_e6ab90f8_f9a8_11ea_b55e_8c85903d48d1row1_col3 {\n",
       "            background-color:  red;\n",
       "        }    #T_e6ab90f8_f9a8_11ea_b55e_8c85903d48d1row2_col3 {\n",
       "            background-color:  red;\n",
       "        }    #T_e6ab90f8_f9a8_11ea_b55e_8c85903d48d1row3_col3 {\n",
       "            background-color:  red;\n",
       "        }    #T_e6ab90f8_f9a8_11ea_b55e_8c85903d48d1row4_col3 {\n",
       "            background-color:  red;\n",
       "        }    #T_e6ab90f8_f9a8_11ea_b55e_8c85903d48d1row5_col3 {\n",
       "            background-color:  red;\n",
       "        }    #T_e6ab90f8_f9a8_11ea_b55e_8c85903d48d1row6_col3 {\n",
       "            background-color:  red;\n",
       "        }    #T_e6ab90f8_f9a8_11ea_b55e_8c85903d48d1row7_col3 {\n",
       "            background-color:  red;\n",
       "        }</style><table id=\"T_e6ab90f8_f9a8_11ea_b55e_8c85903d48d1\" ><thead>    <tr>        <th class=\"blank level0\" ></th>        <th class=\"col_heading level0 col0\" >label</th>        <th class=\"col_heading level0 col1\" >level</th>        <th class=\"col_heading level0 col2\" >starting_clues</th>        <th class=\"col_heading level0 col3\" >CheatingSolver</th>        <th class=\"col_heading level0 col4\" >backtracking</th>        <th class=\"col_heading level0 col5\" >constraintpropogation</th>        <th class=\"col_heading level0 col6\" >deductive</th>        <th class=\"col_heading level0 col7\" >sat</th>    </tr></thead><tbody>\n",
       "                <tr>\n",
       "                        <th id=\"T_e6ab90f8_f9a8_11ea_b55e_8c85903d48d1level0_row0\" class=\"row_heading level0 row0\" >0</th>\n",
       "                        <td id=\"T_e6ab90f8_f9a8_11ea_b55e_8c85903d48d1row0_col0\" class=\"data row0 col0\" >SMH 1</td>\n",
       "                        <td id=\"T_e6ab90f8_f9a8_11ea_b55e_8c85903d48d1row0_col1\" class=\"data row0 col1\" >Kids</td>\n",
       "                        <td id=\"T_e6ab90f8_f9a8_11ea_b55e_8c85903d48d1row0_col2\" class=\"data row0 col2\" >31</td>\n",
       "                        <td id=\"T_e6ab90f8_f9a8_11ea_b55e_8c85903d48d1row0_col3\" class=\"data row0 col3\" >None</td>\n",
       "                        <td id=\"T_e6ab90f8_f9a8_11ea_b55e_8c85903d48d1row0_col4\" class=\"data row0 col4\" >0.00339</td>\n",
       "                        <td id=\"T_e6ab90f8_f9a8_11ea_b55e_8c85903d48d1row0_col5\" class=\"data row0 col5\" >0.00279</td>\n",
       "                        <td id=\"T_e6ab90f8_f9a8_11ea_b55e_8c85903d48d1row0_col6\" class=\"data row0 col6\" >0.00159</td>\n",
       "                        <td id=\"T_e6ab90f8_f9a8_11ea_b55e_8c85903d48d1row0_col7\" class=\"data row0 col7\" >0.0165</td>\n",
       "            </tr>\n",
       "            <tr>\n",
       "                        <th id=\"T_e6ab90f8_f9a8_11ea_b55e_8c85903d48d1level0_row1\" class=\"row_heading level0 row1\" >1</th>\n",
       "                        <td id=\"T_e6ab90f8_f9a8_11ea_b55e_8c85903d48d1row1_col0\" class=\"data row1 col0\" >SMH 2</td>\n",
       "                        <td id=\"T_e6ab90f8_f9a8_11ea_b55e_8c85903d48d1row1_col1\" class=\"data row1 col1\" >Easy</td>\n",
       "                        <td id=\"T_e6ab90f8_f9a8_11ea_b55e_8c85903d48d1row1_col2\" class=\"data row1 col2\" >24</td>\n",
       "                        <td id=\"T_e6ab90f8_f9a8_11ea_b55e_8c85903d48d1row1_col3\" class=\"data row1 col3\" >None</td>\n",
       "                        <td id=\"T_e6ab90f8_f9a8_11ea_b55e_8c85903d48d1row1_col4\" class=\"data row1 col4\" >0.207</td>\n",
       "                        <td id=\"T_e6ab90f8_f9a8_11ea_b55e_8c85903d48d1row1_col5\" class=\"data row1 col5\" >0.00343</td>\n",
       "                        <td id=\"T_e6ab90f8_f9a8_11ea_b55e_8c85903d48d1row1_col6\" class=\"data row1 col6\" >0.003</td>\n",
       "                        <td id=\"T_e6ab90f8_f9a8_11ea_b55e_8c85903d48d1row1_col7\" class=\"data row1 col7\" >0.0166</td>\n",
       "            </tr>\n",
       "            <tr>\n",
       "                        <th id=\"T_e6ab90f8_f9a8_11ea_b55e_8c85903d48d1level0_row2\" class=\"row_heading level0 row2\" >2</th>\n",
       "                        <td id=\"T_e6ab90f8_f9a8_11ea_b55e_8c85903d48d1row2_col0\" class=\"data row2 col0\" >KTH 1</td>\n",
       "                        <td id=\"T_e6ab90f8_f9a8_11ea_b55e_8c85903d48d1row2_col1\" class=\"data row2 col1\" >Easy</td>\n",
       "                        <td id=\"T_e6ab90f8_f9a8_11ea_b55e_8c85903d48d1row2_col2\" class=\"data row2 col2\" >30</td>\n",
       "                        <td id=\"T_e6ab90f8_f9a8_11ea_b55e_8c85903d48d1row2_col3\" class=\"data row2 col3\" >None</td>\n",
       "                        <td id=\"T_e6ab90f8_f9a8_11ea_b55e_8c85903d48d1row2_col4\" class=\"data row2 col4\" >0.0104</td>\n",
       "                        <td id=\"T_e6ab90f8_f9a8_11ea_b55e_8c85903d48d1row2_col5\" class=\"data row2 col5\" >0.00165</td>\n",
       "                        <td id=\"T_e6ab90f8_f9a8_11ea_b55e_8c85903d48d1row2_col6\" class=\"data row2 col6\" >0.00152</td>\n",
       "                        <td id=\"T_e6ab90f8_f9a8_11ea_b55e_8c85903d48d1row2_col7\" class=\"data row2 col7\" >0.0163</td>\n",
       "            </tr>\n",
       "            <tr>\n",
       "                        <th id=\"T_e6ab90f8_f9a8_11ea_b55e_8c85903d48d1level0_row3\" class=\"row_heading level0 row3\" >3</th>\n",
       "                        <td id=\"T_e6ab90f8_f9a8_11ea_b55e_8c85903d48d1row3_col0\" class=\"data row3 col0\" >Rico Alan Heart</td>\n",
       "                        <td id=\"T_e6ab90f8_f9a8_11ea_b55e_8c85903d48d1row3_col1\" class=\"data row3 col1\" >Easy</td>\n",
       "                        <td id=\"T_e6ab90f8_f9a8_11ea_b55e_8c85903d48d1row3_col2\" class=\"data row3 col2\" >22</td>\n",
       "                        <td id=\"T_e6ab90f8_f9a8_11ea_b55e_8c85903d48d1row3_col3\" class=\"data row3 col3\" >None</td>\n",
       "                        <td id=\"T_e6ab90f8_f9a8_11ea_b55e_8c85903d48d1row3_col4\" class=\"data row3 col4\" >0.0722</td>\n",
       "                        <td id=\"T_e6ab90f8_f9a8_11ea_b55e_8c85903d48d1row3_col5\" class=\"data row3 col5\" >0.032</td>\n",
       "                        <td id=\"T_e6ab90f8_f9a8_11ea_b55e_8c85903d48d1row3_col6\" class=\"data row3 col6\" >0.00664</td>\n",
       "                        <td id=\"T_e6ab90f8_f9a8_11ea_b55e_8c85903d48d1row3_col7\" class=\"data row3 col7\" >0.0167</td>\n",
       "            </tr>\n",
       "            <tr>\n",
       "                        <th id=\"T_e6ab90f8_f9a8_11ea_b55e_8c85903d48d1level0_row4\" class=\"row_heading level0 row4\" >4</th>\n",
       "                        <td id=\"T_e6ab90f8_f9a8_11ea_b55e_8c85903d48d1row4_col0\" class=\"data row4 col0\" >SMH 3</td>\n",
       "                        <td id=\"T_e6ab90f8_f9a8_11ea_b55e_8c85903d48d1row4_col1\" class=\"data row4 col1\" >Moderate</td>\n",
       "                        <td id=\"T_e6ab90f8_f9a8_11ea_b55e_8c85903d48d1row4_col2\" class=\"data row4 col2\" >26</td>\n",
       "                        <td id=\"T_e6ab90f8_f9a8_11ea_b55e_8c85903d48d1row4_col3\" class=\"data row4 col3\" >None</td>\n",
       "                        <td id=\"T_e6ab90f8_f9a8_11ea_b55e_8c85903d48d1row4_col4\" class=\"data row4 col4\" >0.0721</td>\n",
       "                        <td id=\"T_e6ab90f8_f9a8_11ea_b55e_8c85903d48d1row4_col5\" class=\"data row4 col5\" >0.0276</td>\n",
       "                        <td id=\"T_e6ab90f8_f9a8_11ea_b55e_8c85903d48d1row4_col6\" class=\"data row4 col6\" >0.0269</td>\n",
       "                        <td id=\"T_e6ab90f8_f9a8_11ea_b55e_8c85903d48d1row4_col7\" class=\"data row4 col7\" >0.0167</td>\n",
       "            </tr>\n",
       "            <tr>\n",
       "                        <th id=\"T_e6ab90f8_f9a8_11ea_b55e_8c85903d48d1level0_row5\" class=\"row_heading level0 row5\" >5</th>\n",
       "                        <td id=\"T_e6ab90f8_f9a8_11ea_b55e_8c85903d48d1row5_col0\" class=\"data row5 col0\" >SMH 4</td>\n",
       "                        <td id=\"T_e6ab90f8_f9a8_11ea_b55e_8c85903d48d1row5_col1\" class=\"data row5 col1\" >Hard</td>\n",
       "                        <td id=\"T_e6ab90f8_f9a8_11ea_b55e_8c85903d48d1row5_col2\" class=\"data row5 col2\" >22</td>\n",
       "                        <td id=\"T_e6ab90f8_f9a8_11ea_b55e_8c85903d48d1row5_col3\" class=\"data row5 col3\" >None</td>\n",
       "                        <td id=\"T_e6ab90f8_f9a8_11ea_b55e_8c85903d48d1row5_col4\" class=\"data row5 col4\" >1.29</td>\n",
       "                        <td id=\"T_e6ab90f8_f9a8_11ea_b55e_8c85903d48d1row5_col5\" class=\"data row5 col5\" >0.0326</td>\n",
       "                        <td id=\"T_e6ab90f8_f9a8_11ea_b55e_8c85903d48d1row5_col6\" class=\"data row5 col6\" >0.0163</td>\n",
       "                        <td id=\"T_e6ab90f8_f9a8_11ea_b55e_8c85903d48d1row5_col7\" class=\"data row5 col7\" >0.0174</td>\n",
       "            </tr>\n",
       "            <tr>\n",
       "                        <th id=\"T_e6ab90f8_f9a8_11ea_b55e_8c85903d48d1level0_row6\" class=\"row_heading level0 row6\" >6</th>\n",
       "                        <td id=\"T_e6ab90f8_f9a8_11ea_b55e_8c85903d48d1row6_col0\" class=\"data row6 col0\" >SMH 5</td>\n",
       "                        <td id=\"T_e6ab90f8_f9a8_11ea_b55e_8c85903d48d1row6_col1\" class=\"data row6 col1\" >Hard</td>\n",
       "                        <td id=\"T_e6ab90f8_f9a8_11ea_b55e_8c85903d48d1row6_col2\" class=\"data row6 col2\" >25</td>\n",
       "                        <td id=\"T_e6ab90f8_f9a8_11ea_b55e_8c85903d48d1row6_col3\" class=\"data row6 col3\" >None</td>\n",
       "                        <td id=\"T_e6ab90f8_f9a8_11ea_b55e_8c85903d48d1row6_col4\" class=\"data row6 col4\" >0.529</td>\n",
       "                        <td id=\"T_e6ab90f8_f9a8_11ea_b55e_8c85903d48d1row6_col5\" class=\"data row6 col5\" >0.0273</td>\n",
       "                        <td id=\"T_e6ab90f8_f9a8_11ea_b55e_8c85903d48d1row6_col6\" class=\"data row6 col6\" >0.0122</td>\n",
       "                        <td id=\"T_e6ab90f8_f9a8_11ea_b55e_8c85903d48d1row6_col7\" class=\"data row6 col7\" >0.0176</td>\n",
       "            </tr>\n",
       "            <tr>\n",
       "                        <th id=\"T_e6ab90f8_f9a8_11ea_b55e_8c85903d48d1level0_row7\" class=\"row_heading level0 row7\" >7</th>\n",
       "                        <td id=\"T_e6ab90f8_f9a8_11ea_b55e_8c85903d48d1row7_col0\" class=\"data row7 col0\" >Greg [2017]</td>\n",
       "                        <td id=\"T_e6ab90f8_f9a8_11ea_b55e_8c85903d48d1row7_col1\" class=\"data row7 col1\" >Hard</td>\n",
       "                        <td id=\"T_e6ab90f8_f9a8_11ea_b55e_8c85903d48d1row7_col2\" class=\"data row7 col2\" >21</td>\n",
       "                        <td id=\"T_e6ab90f8_f9a8_11ea_b55e_8c85903d48d1row7_col3\" class=\"data row7 col3\" >None</td>\n",
       "                        <td id=\"T_e6ab90f8_f9a8_11ea_b55e_8c85903d48d1row7_col4\" class=\"data row7 col4\" >0.596</td>\n",
       "                        <td id=\"T_e6ab90f8_f9a8_11ea_b55e_8c85903d48d1row7_col5\" class=\"data row7 col5\" >0.0371</td>\n",
       "                        <td id=\"T_e6ab90f8_f9a8_11ea_b55e_8c85903d48d1row7_col6\" class=\"data row7 col6\" >0.0411</td>\n",
       "                        <td id=\"T_e6ab90f8_f9a8_11ea_b55e_8c85903d48d1row7_col7\" class=\"data row7 col7\" >0.0192</td>\n",
       "            </tr>\n",
       "    </tbody></table>"
      ],
      "text/plain": [
       "<pandas.io.formats.style.Styler at 0x12472ab50>"
      ]
     },
     "execution_count": 91,
     "metadata": {},
     "output_type": "execute_result"
    }
   ],
   "source": [
    "pt.run_tests(solver)\n",
    "df = pd.DataFrame(pt.get_test_results())\n",
    "df.style.highlight_null()"
   ]
  },
  {
   "cell_type": "markdown",
   "metadata": {},
   "source": [
    "OK! Our cheating solver has had no results recorded for it, because the answer it gives does not match the starting clues!\n",
    "\n",
    "There are probably ways to defeat these checks, particularly in a language like Python where \"monkey patching\" is a thing and everything is dynamic. That might be a fun way to learn more about the internals of Python, but for now I'm declaring this \"done\" and moving on to the next puzzle..."
   ]
  }
 ],
 "metadata": {
  "kernelspec": {
   "display_name": "Python 3",
   "language": "python",
   "name": "python3"
  },
  "language_info": {
   "codemirror_mode": {
    "name": "ipython",
    "version": 3
   },
   "file_extension": ".py",
   "mimetype": "text/x-python",
   "name": "python",
   "nbconvert_exporter": "python",
   "pygments_lexer": "ipython3",
   "version": "3.7.4"
  }
 },
 "nbformat": 4,
 "nbformat_minor": 4
}
