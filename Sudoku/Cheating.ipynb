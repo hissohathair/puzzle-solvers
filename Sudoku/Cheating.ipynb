{
 "cells": [
  {
   "cell_type": "markdown",
   "metadata": {},
   "source": [
    "# Cheating\n",
    "\n",
    "It occurred to me that the way I've designed the puzzle and solver classes opens the way to having a \"cheating\" solver. Basically a solver that replaces the puzzle with a pre-programmed sequence of numbers that obey the rules but do not match the original puzzle clues.\n",
    "\n",
    "So just for fun let's see how easy that is to do and how I could improve the puzzle class to detect and block attempts to \"cheat\".\n",
    "\n",
    "## Modules required\n",
    "\n",
    "We're using the [sudoku](../puzzle/sudoku.py) and [tester](../puzzle/tester.py) modules used elsewhere, as well as a small number of standard libraries. We have to make a slight adjustment to the notebook's environment in order to find these modules, since this notebook is in a sub-directory."
   ]
  },
  {
   "cell_type": "code",
   "execution_count": 1,
   "metadata": {},
   "outputs": [
    {
     "data": {
      "text/html": [
       "\n",
       "    <style type=\"text/css\">\n",
       "    .sudoku table {\n",
       "        border: 3px solid red;\n",
       "        text-align: center;\n",
       "        vertical-align: middle;\n",
       "    }\n",
       "\n",
       "    .sudoku td {\n",
       "        width: 40px;\n",
       "        height: 40px;\n",
       "        border: 1px solid #F00;\n",
       "    }\n",
       "\n",
       "    .sudoku td:nth-of-type(3n) {\n",
       "        border-right: 3px solid red;\n",
       "    }\n",
       "\n",
       "    .sudoku tr:nth-of-type(3n) td {\n",
       "        border-bottom: 3px solid red;\n",
       "    }\n",
       "\n",
       "    .sudoku.solved table {\n",
       "        border: 3px solid green;\n",
       "    }\n",
       "\n",
       "    .sudoku.solved td {\n",
       "        border: 1px solid green;\n",
       "    }\n",
       "\n",
       "    .sudoku.solved td:nth-of-type(3n) {\n",
       "        border-right: 3px solid green;\n",
       "    }\n",
       "\n",
       "    .sudoku.solved tr:nth-of-type(3n) td {\n",
       "        border-bottom: 3px solid green;\n",
       "    }\n",
       "\n",
       "    </style>\n"
      ],
      "text/plain": [
       "<IPython.core.display.HTML object>"
      ]
     },
     "metadata": {},
     "output_type": "display_data"
    }
   ],
   "source": [
    "import copy\n",
    "import sys\n",
    "\n",
    "sys.path.insert(-1, '..')\n",
    "import puzzle.tester as tester\n",
    "import puzzle.sudoku as su\n",
    "from puzzle.jupyter_helpers import *\n",
    "display(HTML(SUDOKU_CSS))"
   ]
  },
  {
   "cell_type": "markdown",
   "metadata": {},
   "source": [
    "The \"purpose\" of cheating is to beat the performance of legitimate solvers. We'll be using Pandas and Matplotlib then to assess results."
   ]
  },
  {
   "cell_type": "code",
   "execution_count": 2,
   "metadata": {},
   "outputs": [],
   "source": [
    "import pandas as pd\n",
    "import matplotlib.pyplot as plt\n",
    "\n",
    "%matplotlib inline\n",
    "plt.rcParams[\"figure.figsize\"] = [12, 6]\n",
    "pd.set_option('precision', 3)"
   ]
  },
  {
   "cell_type": "markdown",
   "metadata": {},
   "source": [
    "# Cheating Attempts\n",
    "\n",
    "## First attempt: Lie\n",
    "\n",
    "First attempt was based on this code in the original implementation of `is_solved` (if you check [the code](../puzzle/sudoku.py) you'll see the method is no longer implemented this way - see below for why):\n",
    "\n",
    "```python\n",
    "def is_solved(self):\n",
    "    return self.is_puzzle_valid() and self._num_empty_cells == 0\n",
    "```\n",
    "\n",
    "So, how about a solver that just plain lies by replacing the number of empty cells left? To try this I've created a new class `CheatingSolver` which tries to replace `puzzle`'s private attribute tracking the number of empty cells and then just *always* return `True`.\n"
   ]
  },
  {
   "cell_type": "code",
   "execution_count": 3,
   "metadata": {},
   "outputs": [
    {
     "data": {
      "text/plain": [
       "True"
      ]
     },
     "execution_count": 3,
     "metadata": {},
     "output_type": "execute_result"
    }
   ],
   "source": [
    "class CheatingSolver:\n",
    "    def solve(self, puzzle):\n",
    "        \"\"\"Easiest way to cheat would be to trick the is_solved() method on the puzzle to always returning True\"\"\"\n",
    "        puzzle._num_empty_cells = 0\n",
    "        return True\n",
    "\n",
    "puzzle = su.SudokuPuzzle(starting_grid=su.from_string(su.SAMPLE_PUZZLES[0]['puzzle']))\n",
    "solver = CheatingSolver()\n",
    "solver.solve(puzzle)"
   ]
  },
  {
   "cell_type": "markdown",
   "metadata": {},
   "source": [
    "So the solver will always return `True` but the puzzle itself should know that it's not really solved. I changed the `is_solved` method to actually check that every cell has a value.\n",
    "\n",
    "```python\n",
    "def is_solved(self):\n",
    "    if self.is_puzzle_valid():\n",
    "        for i in range(self.max_value()):\n",
    "            for j in range(self.max_value()):\n",
    "                if self.is_empty(i, j):\n",
    "                    return False\n",
    "        return True\n",
    "    else:\n",
    "        return False\n",
    "```"
   ]
  },
  {
   "cell_type": "code",
   "execution_count": 4,
   "metadata": {},
   "outputs": [
    {
     "data": {
      "text/plain": [
       "False"
      ]
     },
     "execution_count": 4,
     "metadata": {},
     "output_type": "execute_result"
    }
   ],
   "source": [
    "puzzle.is_solved()"
   ]
  },
  {
   "cell_type": "markdown",
   "metadata": {},
   "source": [
    "Now if we use this in the `PuzzleTester` then we want to make sure that it's detecting that the puzzle isn't really solved. You'll notice there's an initialization parameter, `anti_cheat_check` that has been set to `False`. We'll demonstrate later why I added that in."
   ]
  },
  {
   "cell_type": "code",
   "execution_count": 5,
   "metadata": {},
   "outputs": [
    {
     "data": {
      "text/plain": [
       "8"
      ]
     },
     "execution_count": 5,
     "metadata": {},
     "output_type": "execute_result"
    }
   ],
   "source": [
    "include_levels = ['Kids', 'Easy', 'Moderate', 'Hard']  # , 'Diabolical', 'Pathalogical']\n",
    "test_cases = [x for x in su.SAMPLE_PUZZLES if x['level'] in include_levels]\n",
    "pt = tester.PuzzleTester(puzzle_class=su.SudokuPuzzle, anti_cheat_check=False)\n",
    "pt.add_test_cases(test_cases)"
   ]
  },
  {
   "cell_type": "code",
   "execution_count": 6,
   "metadata": {},
   "outputs": [
    {
     "data": {
      "text/html": [
       "<style  type=\"text/css\" >\n",
       "    #T_02c9e41c_fd4e_11ea_9268_8c85903d48d1row0_col3 {\n",
       "            background-color:  red;\n",
       "        }    #T_02c9e41c_fd4e_11ea_9268_8c85903d48d1row1_col3 {\n",
       "            background-color:  red;\n",
       "        }    #T_02c9e41c_fd4e_11ea_9268_8c85903d48d1row2_col3 {\n",
       "            background-color:  red;\n",
       "        }    #T_02c9e41c_fd4e_11ea_9268_8c85903d48d1row3_col3 {\n",
       "            background-color:  red;\n",
       "        }    #T_02c9e41c_fd4e_11ea_9268_8c85903d48d1row4_col3 {\n",
       "            background-color:  red;\n",
       "        }    #T_02c9e41c_fd4e_11ea_9268_8c85903d48d1row5_col3 {\n",
       "            background-color:  red;\n",
       "        }    #T_02c9e41c_fd4e_11ea_9268_8c85903d48d1row6_col3 {\n",
       "            background-color:  red;\n",
       "        }    #T_02c9e41c_fd4e_11ea_9268_8c85903d48d1row7_col3 {\n",
       "            background-color:  red;\n",
       "        }</style><table id=\"T_02c9e41c_fd4e_11ea_9268_8c85903d48d1\" ><thead>    <tr>        <th class=\"blank level0\" ></th>        <th class=\"col_heading level0 col0\" >label</th>        <th class=\"col_heading level0 col1\" >level</th>        <th class=\"col_heading level0 col2\" >starting_clues</th>        <th class=\"col_heading level0 col3\" >CheatingSolver</th>    </tr></thead><tbody>\n",
       "                <tr>\n",
       "                        <th id=\"T_02c9e41c_fd4e_11ea_9268_8c85903d48d1level0_row0\" class=\"row_heading level0 row0\" >0</th>\n",
       "                        <td id=\"T_02c9e41c_fd4e_11ea_9268_8c85903d48d1row0_col0\" class=\"data row0 col0\" >SMH 1</td>\n",
       "                        <td id=\"T_02c9e41c_fd4e_11ea_9268_8c85903d48d1row0_col1\" class=\"data row0 col1\" >Kids</td>\n",
       "                        <td id=\"T_02c9e41c_fd4e_11ea_9268_8c85903d48d1row0_col2\" class=\"data row0 col2\" >31</td>\n",
       "                        <td id=\"T_02c9e41c_fd4e_11ea_9268_8c85903d48d1row0_col3\" class=\"data row0 col3\" >None</td>\n",
       "            </tr>\n",
       "            <tr>\n",
       "                        <th id=\"T_02c9e41c_fd4e_11ea_9268_8c85903d48d1level0_row1\" class=\"row_heading level0 row1\" >1</th>\n",
       "                        <td id=\"T_02c9e41c_fd4e_11ea_9268_8c85903d48d1row1_col0\" class=\"data row1 col0\" >SMH 2</td>\n",
       "                        <td id=\"T_02c9e41c_fd4e_11ea_9268_8c85903d48d1row1_col1\" class=\"data row1 col1\" >Easy</td>\n",
       "                        <td id=\"T_02c9e41c_fd4e_11ea_9268_8c85903d48d1row1_col2\" class=\"data row1 col2\" >24</td>\n",
       "                        <td id=\"T_02c9e41c_fd4e_11ea_9268_8c85903d48d1row1_col3\" class=\"data row1 col3\" >None</td>\n",
       "            </tr>\n",
       "            <tr>\n",
       "                        <th id=\"T_02c9e41c_fd4e_11ea_9268_8c85903d48d1level0_row2\" class=\"row_heading level0 row2\" >2</th>\n",
       "                        <td id=\"T_02c9e41c_fd4e_11ea_9268_8c85903d48d1row2_col0\" class=\"data row2 col0\" >KTH 1</td>\n",
       "                        <td id=\"T_02c9e41c_fd4e_11ea_9268_8c85903d48d1row2_col1\" class=\"data row2 col1\" >Easy</td>\n",
       "                        <td id=\"T_02c9e41c_fd4e_11ea_9268_8c85903d48d1row2_col2\" class=\"data row2 col2\" >30</td>\n",
       "                        <td id=\"T_02c9e41c_fd4e_11ea_9268_8c85903d48d1row2_col3\" class=\"data row2 col3\" >None</td>\n",
       "            </tr>\n",
       "            <tr>\n",
       "                        <th id=\"T_02c9e41c_fd4e_11ea_9268_8c85903d48d1level0_row3\" class=\"row_heading level0 row3\" >3</th>\n",
       "                        <td id=\"T_02c9e41c_fd4e_11ea_9268_8c85903d48d1row3_col0\" class=\"data row3 col0\" >Rico Alan Heart</td>\n",
       "                        <td id=\"T_02c9e41c_fd4e_11ea_9268_8c85903d48d1row3_col1\" class=\"data row3 col1\" >Easy</td>\n",
       "                        <td id=\"T_02c9e41c_fd4e_11ea_9268_8c85903d48d1row3_col2\" class=\"data row3 col2\" >22</td>\n",
       "                        <td id=\"T_02c9e41c_fd4e_11ea_9268_8c85903d48d1row3_col3\" class=\"data row3 col3\" >None</td>\n",
       "            </tr>\n",
       "            <tr>\n",
       "                        <th id=\"T_02c9e41c_fd4e_11ea_9268_8c85903d48d1level0_row4\" class=\"row_heading level0 row4\" >4</th>\n",
       "                        <td id=\"T_02c9e41c_fd4e_11ea_9268_8c85903d48d1row4_col0\" class=\"data row4 col0\" >SMH 3</td>\n",
       "                        <td id=\"T_02c9e41c_fd4e_11ea_9268_8c85903d48d1row4_col1\" class=\"data row4 col1\" >Moderate</td>\n",
       "                        <td id=\"T_02c9e41c_fd4e_11ea_9268_8c85903d48d1row4_col2\" class=\"data row4 col2\" >26</td>\n",
       "                        <td id=\"T_02c9e41c_fd4e_11ea_9268_8c85903d48d1row4_col3\" class=\"data row4 col3\" >None</td>\n",
       "            </tr>\n",
       "            <tr>\n",
       "                        <th id=\"T_02c9e41c_fd4e_11ea_9268_8c85903d48d1level0_row5\" class=\"row_heading level0 row5\" >5</th>\n",
       "                        <td id=\"T_02c9e41c_fd4e_11ea_9268_8c85903d48d1row5_col0\" class=\"data row5 col0\" >SMH 4</td>\n",
       "                        <td id=\"T_02c9e41c_fd4e_11ea_9268_8c85903d48d1row5_col1\" class=\"data row5 col1\" >Hard</td>\n",
       "                        <td id=\"T_02c9e41c_fd4e_11ea_9268_8c85903d48d1row5_col2\" class=\"data row5 col2\" >22</td>\n",
       "                        <td id=\"T_02c9e41c_fd4e_11ea_9268_8c85903d48d1row5_col3\" class=\"data row5 col3\" >None</td>\n",
       "            </tr>\n",
       "            <tr>\n",
       "                        <th id=\"T_02c9e41c_fd4e_11ea_9268_8c85903d48d1level0_row6\" class=\"row_heading level0 row6\" >6</th>\n",
       "                        <td id=\"T_02c9e41c_fd4e_11ea_9268_8c85903d48d1row6_col0\" class=\"data row6 col0\" >SMH 5</td>\n",
       "                        <td id=\"T_02c9e41c_fd4e_11ea_9268_8c85903d48d1row6_col1\" class=\"data row6 col1\" >Hard</td>\n",
       "                        <td id=\"T_02c9e41c_fd4e_11ea_9268_8c85903d48d1row6_col2\" class=\"data row6 col2\" >25</td>\n",
       "                        <td id=\"T_02c9e41c_fd4e_11ea_9268_8c85903d48d1row6_col3\" class=\"data row6 col3\" >None</td>\n",
       "            </tr>\n",
       "            <tr>\n",
       "                        <th id=\"T_02c9e41c_fd4e_11ea_9268_8c85903d48d1level0_row7\" class=\"row_heading level0 row7\" >7</th>\n",
       "                        <td id=\"T_02c9e41c_fd4e_11ea_9268_8c85903d48d1row7_col0\" class=\"data row7 col0\" >Greg [2017]</td>\n",
       "                        <td id=\"T_02c9e41c_fd4e_11ea_9268_8c85903d48d1row7_col1\" class=\"data row7 col1\" >Hard</td>\n",
       "                        <td id=\"T_02c9e41c_fd4e_11ea_9268_8c85903d48d1row7_col2\" class=\"data row7 col2\" >21</td>\n",
       "                        <td id=\"T_02c9e41c_fd4e_11ea_9268_8c85903d48d1row7_col3\" class=\"data row7 col3\" >None</td>\n",
       "            </tr>\n",
       "    </tbody></table>"
      ],
      "text/plain": [
       "<pandas.io.formats.style.Styler at 0x10a12c450>"
      ]
     },
     "execution_count": 6,
     "metadata": {},
     "output_type": "execute_result"
    }
   ],
   "source": [
    "solver = CheatingSolver()\n",
    "pt.run_tests(solver)\n",
    "df = pd.DataFrame(pt.get_test_results())\n",
    "df.style.highlight_null()"
   ]
  },
  {
   "cell_type": "markdown",
   "metadata": {},
   "source": [
    "I had to change `PuzzleTester` class to check the return value of the puzzle's `is_solved` method, rather than trust the solver's return value from `solve`. If the puzzle asserts that it is NOT solved then no result is recorded for the solver.\n",
    "\n",
    "I also changed the `num_empty_cells` attribute in `SudokuPuzzle` from [protected to private](https://www.tutorialsteacher.com/python/private-and-protected-access-modifiers-in-python), so the attempt to replace the real value no longer works."
   ]
  },
  {
   "cell_type": "code",
   "execution_count": 7,
   "metadata": {},
   "outputs": [
    {
     "data": {
      "text/plain": [
       "50"
      ]
     },
     "execution_count": 7,
     "metadata": {},
     "output_type": "execute_result"
    }
   ],
   "source": [
    "puzzle.num_empty_cells()"
   ]
  },
  {
   "cell_type": "markdown",
   "metadata": {},
   "source": [
    "# Second attempt: Replace puzzle with a canned solution\n",
    "\n",
    "Since our really simple cheater no longer worked I needed a more sophisticated version. We could just fill in the blank cells with \"1\" (or random values) but then the `is_puzzle_valid` check would fail, at which point we may as well solve it properly. \n",
    "\n",
    "So maybe what our cheat needs to do is fill in *all* cells in a rule-abiding way. We won't be actually solving the original puzzle. Basically, we're just writing a \"pre-solved\" puzzle over the top."
   ]
  },
  {
   "cell_type": "code",
   "execution_count": 8,
   "metadata": {},
   "outputs": [],
   "source": [
    "class CheatingSolver:\n",
    "    def solve(self, puzzle):\n",
    "        \"\"\"Write a pre-solved puzzle in over the top of the provided one\"\"\"\n",
    "        starting_values = [0, 3, 6, 1, 4, 7, 2, 5, 8]\n",
    "        max_value = puzzle.max_value\n",
    "        assert max_value == 9, \"I can't handle puzzles other than 9x9\"\n",
    "        puzzle.clear_all()\n",
    "        for i in range(max_value):\n",
    "            for j in range(max_value):\n",
    "                puzzle.set(i, j, (starting_values[i] + j) % max_value + 1)\n",
    "        return True"
   ]
  },
  {
   "cell_type": "code",
   "execution_count": 9,
   "metadata": {},
   "outputs": [
    {
     "data": {
      "text/plain": [
       "True"
      ]
     },
     "execution_count": 9,
     "metadata": {},
     "output_type": "execute_result"
    }
   ],
   "source": [
    "puzzle = su.SudokuPuzzle(starting_grid=su.from_string(su.SAMPLE_PUZZLES[0]['puzzle']))\n",
    "solver = CheatingSolver()\n",
    "solver.solve(puzzle)\n",
    "puzzle.is_solved()"
   ]
  },
  {
   "cell_type": "markdown",
   "metadata": {},
   "source": [
    "So this cheat works, at least as far as the `puzzle` instance is concerned.\n",
    "\n",
    "Now, the whole point of cheating here is to be faster than a real solver, so let's test performance.\n"
   ]
  },
  {
   "cell_type": "code",
   "execution_count": 10,
   "metadata": {},
   "outputs": [],
   "source": [
    "# Runs all the \"legit\" solvers\n",
    "for m in su.SOLVERS:\n",
    "    solver = su.SudokuSolver(method=m)\n",
    "    pt.run_tests(solver, m)"
   ]
  },
  {
   "cell_type": "code",
   "execution_count": 11,
   "metadata": {},
   "outputs": [],
   "source": [
    "# Runs the \"cheat\" solver\n",
    "solver = CheatingSolver()\n",
    "pt.run_tests(solver)\n",
    "solver_labels = list(pt.get_solver_labels())"
   ]
  },
  {
   "cell_type": "code",
   "execution_count": 12,
   "metadata": {},
   "outputs": [
    {
     "data": {
      "text/html": [
       "<style  type=\"text/css\" >\n",
       "    #T_04ceeea6_fd4e_11ea_9268_8c85903d48d1row0_col6 {\n",
       "            : ;\n",
       "            : ;\n",
       "            background-color:  green;\n",
       "        }    #T_04ceeea6_fd4e_11ea_9268_8c85903d48d1row0_col7 {\n",
       "            : ;\n",
       "            background-color:  darkorange;\n",
       "            : ;\n",
       "        }    #T_04ceeea6_fd4e_11ea_9268_8c85903d48d1row1_col3 {\n",
       "            : ;\n",
       "            : ;\n",
       "            background-color:  green;\n",
       "        }    #T_04ceeea6_fd4e_11ea_9268_8c85903d48d1row1_col4 {\n",
       "            : ;\n",
       "            background-color:  darkorange;\n",
       "            : ;\n",
       "        }    #T_04ceeea6_fd4e_11ea_9268_8c85903d48d1row2_col5 {\n",
       "            : ;\n",
       "            : ;\n",
       "            background-color:  green;\n",
       "        }    #T_04ceeea6_fd4e_11ea_9268_8c85903d48d1row2_col7 {\n",
       "            : ;\n",
       "            background-color:  darkorange;\n",
       "            : ;\n",
       "        }    #T_04ceeea6_fd4e_11ea_9268_8c85903d48d1row3_col3 {\n",
       "            : ;\n",
       "            : ;\n",
       "            background-color:  green;\n",
       "        }    #T_04ceeea6_fd4e_11ea_9268_8c85903d48d1row3_col4 {\n",
       "            : ;\n",
       "            background-color:  darkorange;\n",
       "            : ;\n",
       "        }    #T_04ceeea6_fd4e_11ea_9268_8c85903d48d1row4_col3 {\n",
       "            : ;\n",
       "            : ;\n",
       "            background-color:  green;\n",
       "        }    #T_04ceeea6_fd4e_11ea_9268_8c85903d48d1row4_col4 {\n",
       "            : ;\n",
       "            background-color:  darkorange;\n",
       "            : ;\n",
       "        }    #T_04ceeea6_fd4e_11ea_9268_8c85903d48d1row5_col3 {\n",
       "            : ;\n",
       "            : ;\n",
       "            background-color:  green;\n",
       "        }    #T_04ceeea6_fd4e_11ea_9268_8c85903d48d1row5_col4 {\n",
       "            : ;\n",
       "            background-color:  darkorange;\n",
       "            : ;\n",
       "        }    #T_04ceeea6_fd4e_11ea_9268_8c85903d48d1row6_col3 {\n",
       "            : ;\n",
       "            : ;\n",
       "            background-color:  green;\n",
       "        }    #T_04ceeea6_fd4e_11ea_9268_8c85903d48d1row6_col4 {\n",
       "            : ;\n",
       "            background-color:  darkorange;\n",
       "            : ;\n",
       "        }    #T_04ceeea6_fd4e_11ea_9268_8c85903d48d1row7_col3 {\n",
       "            : ;\n",
       "            : ;\n",
       "            background-color:  green;\n",
       "        }    #T_04ceeea6_fd4e_11ea_9268_8c85903d48d1row7_col4 {\n",
       "            : ;\n",
       "            background-color:  darkorange;\n",
       "            : ;\n",
       "        }</style><table id=\"T_04ceeea6_fd4e_11ea_9268_8c85903d48d1\" ><thead>    <tr>        <th class=\"blank level0\" ></th>        <th class=\"col_heading level0 col0\" >label</th>        <th class=\"col_heading level0 col1\" >level</th>        <th class=\"col_heading level0 col2\" >starting_clues</th>        <th class=\"col_heading level0 col3\" >CheatingSolver</th>        <th class=\"col_heading level0 col4\" >backtracking</th>        <th class=\"col_heading level0 col5\" >constraintpropogation</th>        <th class=\"col_heading level0 col6\" >deductive</th>        <th class=\"col_heading level0 col7\" >sat</th>    </tr></thead><tbody>\n",
       "                <tr>\n",
       "                        <th id=\"T_04ceeea6_fd4e_11ea_9268_8c85903d48d1level0_row0\" class=\"row_heading level0 row0\" >0</th>\n",
       "                        <td id=\"T_04ceeea6_fd4e_11ea_9268_8c85903d48d1row0_col0\" class=\"data row0 col0\" >SMH 1</td>\n",
       "                        <td id=\"T_04ceeea6_fd4e_11ea_9268_8c85903d48d1row0_col1\" class=\"data row0 col1\" >Kids</td>\n",
       "                        <td id=\"T_04ceeea6_fd4e_11ea_9268_8c85903d48d1row0_col2\" class=\"data row0 col2\" >31</td>\n",
       "                        <td id=\"T_04ceeea6_fd4e_11ea_9268_8c85903d48d1row0_col3\" class=\"data row0 col3\" >0.005</td>\n",
       "                        <td id=\"T_04ceeea6_fd4e_11ea_9268_8c85903d48d1row0_col4\" class=\"data row0 col4\" >0.014</td>\n",
       "                        <td id=\"T_04ceeea6_fd4e_11ea_9268_8c85903d48d1row0_col5\" class=\"data row0 col5\" >0.002</td>\n",
       "                        <td id=\"T_04ceeea6_fd4e_11ea_9268_8c85903d48d1row0_col6\" class=\"data row0 col6\" >0.002</td>\n",
       "                        <td id=\"T_04ceeea6_fd4e_11ea_9268_8c85903d48d1row0_col7\" class=\"data row0 col7\" >0.017</td>\n",
       "            </tr>\n",
       "            <tr>\n",
       "                        <th id=\"T_04ceeea6_fd4e_11ea_9268_8c85903d48d1level0_row1\" class=\"row_heading level0 row1\" >1</th>\n",
       "                        <td id=\"T_04ceeea6_fd4e_11ea_9268_8c85903d48d1row1_col0\" class=\"data row1 col0\" >SMH 2</td>\n",
       "                        <td id=\"T_04ceeea6_fd4e_11ea_9268_8c85903d48d1row1_col1\" class=\"data row1 col1\" >Easy</td>\n",
       "                        <td id=\"T_04ceeea6_fd4e_11ea_9268_8c85903d48d1row1_col2\" class=\"data row1 col2\" >24</td>\n",
       "                        <td id=\"T_04ceeea6_fd4e_11ea_9268_8c85903d48d1row1_col3\" class=\"data row1 col3\" >0.002</td>\n",
       "                        <td id=\"T_04ceeea6_fd4e_11ea_9268_8c85903d48d1row1_col4\" class=\"data row1 col4\" >0.254</td>\n",
       "                        <td id=\"T_04ceeea6_fd4e_11ea_9268_8c85903d48d1row1_col5\" class=\"data row1 col5\" >0.002</td>\n",
       "                        <td id=\"T_04ceeea6_fd4e_11ea_9268_8c85903d48d1row1_col6\" class=\"data row1 col6\" >0.003</td>\n",
       "                        <td id=\"T_04ceeea6_fd4e_11ea_9268_8c85903d48d1row1_col7\" class=\"data row1 col7\" >0.017</td>\n",
       "            </tr>\n",
       "            <tr>\n",
       "                        <th id=\"T_04ceeea6_fd4e_11ea_9268_8c85903d48d1level0_row2\" class=\"row_heading level0 row2\" >2</th>\n",
       "                        <td id=\"T_04ceeea6_fd4e_11ea_9268_8c85903d48d1row2_col0\" class=\"data row2 col0\" >KTH 1</td>\n",
       "                        <td id=\"T_04ceeea6_fd4e_11ea_9268_8c85903d48d1row2_col1\" class=\"data row2 col1\" >Easy</td>\n",
       "                        <td id=\"T_04ceeea6_fd4e_11ea_9268_8c85903d48d1row2_col2\" class=\"data row2 col2\" >30</td>\n",
       "                        <td id=\"T_04ceeea6_fd4e_11ea_9268_8c85903d48d1row2_col3\" class=\"data row2 col3\" >0.002</td>\n",
       "                        <td id=\"T_04ceeea6_fd4e_11ea_9268_8c85903d48d1row2_col4\" class=\"data row2 col4\" >0.011</td>\n",
       "                        <td id=\"T_04ceeea6_fd4e_11ea_9268_8c85903d48d1row2_col5\" class=\"data row2 col5\" >0.002</td>\n",
       "                        <td id=\"T_04ceeea6_fd4e_11ea_9268_8c85903d48d1row2_col6\" class=\"data row2 col6\" >0.002</td>\n",
       "                        <td id=\"T_04ceeea6_fd4e_11ea_9268_8c85903d48d1row2_col7\" class=\"data row2 col7\" >0.017</td>\n",
       "            </tr>\n",
       "            <tr>\n",
       "                        <th id=\"T_04ceeea6_fd4e_11ea_9268_8c85903d48d1level0_row3\" class=\"row_heading level0 row3\" >3</th>\n",
       "                        <td id=\"T_04ceeea6_fd4e_11ea_9268_8c85903d48d1row3_col0\" class=\"data row3 col0\" >Rico Alan Heart</td>\n",
       "                        <td id=\"T_04ceeea6_fd4e_11ea_9268_8c85903d48d1row3_col1\" class=\"data row3 col1\" >Easy</td>\n",
       "                        <td id=\"T_04ceeea6_fd4e_11ea_9268_8c85903d48d1row3_col2\" class=\"data row3 col2\" >22</td>\n",
       "                        <td id=\"T_04ceeea6_fd4e_11ea_9268_8c85903d48d1row3_col3\" class=\"data row3 col3\" >0.001</td>\n",
       "                        <td id=\"T_04ceeea6_fd4e_11ea_9268_8c85903d48d1row3_col4\" class=\"data row3 col4\" >0.071</td>\n",
       "                        <td id=\"T_04ceeea6_fd4e_11ea_9268_8c85903d48d1row3_col5\" class=\"data row3 col5\" >0.021</td>\n",
       "                        <td id=\"T_04ceeea6_fd4e_11ea_9268_8c85903d48d1row3_col6\" class=\"data row3 col6\" >0.007</td>\n",
       "                        <td id=\"T_04ceeea6_fd4e_11ea_9268_8c85903d48d1row3_col7\" class=\"data row3 col7\" >0.017</td>\n",
       "            </tr>\n",
       "            <tr>\n",
       "                        <th id=\"T_04ceeea6_fd4e_11ea_9268_8c85903d48d1level0_row4\" class=\"row_heading level0 row4\" >4</th>\n",
       "                        <td id=\"T_04ceeea6_fd4e_11ea_9268_8c85903d48d1row4_col0\" class=\"data row4 col0\" >SMH 3</td>\n",
       "                        <td id=\"T_04ceeea6_fd4e_11ea_9268_8c85903d48d1row4_col1\" class=\"data row4 col1\" >Moderate</td>\n",
       "                        <td id=\"T_04ceeea6_fd4e_11ea_9268_8c85903d48d1row4_col2\" class=\"data row4 col2\" >26</td>\n",
       "                        <td id=\"T_04ceeea6_fd4e_11ea_9268_8c85903d48d1row4_col3\" class=\"data row4 col3\" >0.001</td>\n",
       "                        <td id=\"T_04ceeea6_fd4e_11ea_9268_8c85903d48d1row4_col4\" class=\"data row4 col4\" >0.075</td>\n",
       "                        <td id=\"T_04ceeea6_fd4e_11ea_9268_8c85903d48d1row4_col5\" class=\"data row4 col5\" >0.020</td>\n",
       "                        <td id=\"T_04ceeea6_fd4e_11ea_9268_8c85903d48d1row4_col6\" class=\"data row4 col6\" >0.029</td>\n",
       "                        <td id=\"T_04ceeea6_fd4e_11ea_9268_8c85903d48d1row4_col7\" class=\"data row4 col7\" >0.019</td>\n",
       "            </tr>\n",
       "            <tr>\n",
       "                        <th id=\"T_04ceeea6_fd4e_11ea_9268_8c85903d48d1level0_row5\" class=\"row_heading level0 row5\" >5</th>\n",
       "                        <td id=\"T_04ceeea6_fd4e_11ea_9268_8c85903d48d1row5_col0\" class=\"data row5 col0\" >SMH 4</td>\n",
       "                        <td id=\"T_04ceeea6_fd4e_11ea_9268_8c85903d48d1row5_col1\" class=\"data row5 col1\" >Hard</td>\n",
       "                        <td id=\"T_04ceeea6_fd4e_11ea_9268_8c85903d48d1row5_col2\" class=\"data row5 col2\" >22</td>\n",
       "                        <td id=\"T_04ceeea6_fd4e_11ea_9268_8c85903d48d1row5_col3\" class=\"data row5 col3\" >0.001</td>\n",
       "                        <td id=\"T_04ceeea6_fd4e_11ea_9268_8c85903d48d1row5_col4\" class=\"data row5 col4\" >1.348</td>\n",
       "                        <td id=\"T_04ceeea6_fd4e_11ea_9268_8c85903d48d1row5_col5\" class=\"data row5 col5\" >0.024</td>\n",
       "                        <td id=\"T_04ceeea6_fd4e_11ea_9268_8c85903d48d1row5_col6\" class=\"data row5 col6\" >0.016</td>\n",
       "                        <td id=\"T_04ceeea6_fd4e_11ea_9268_8c85903d48d1row5_col7\" class=\"data row5 col7\" >0.017</td>\n",
       "            </tr>\n",
       "            <tr>\n",
       "                        <th id=\"T_04ceeea6_fd4e_11ea_9268_8c85903d48d1level0_row6\" class=\"row_heading level0 row6\" >6</th>\n",
       "                        <td id=\"T_04ceeea6_fd4e_11ea_9268_8c85903d48d1row6_col0\" class=\"data row6 col0\" >SMH 5</td>\n",
       "                        <td id=\"T_04ceeea6_fd4e_11ea_9268_8c85903d48d1row6_col1\" class=\"data row6 col1\" >Hard</td>\n",
       "                        <td id=\"T_04ceeea6_fd4e_11ea_9268_8c85903d48d1row6_col2\" class=\"data row6 col2\" >25</td>\n",
       "                        <td id=\"T_04ceeea6_fd4e_11ea_9268_8c85903d48d1row6_col3\" class=\"data row6 col3\" >0.001</td>\n",
       "                        <td id=\"T_04ceeea6_fd4e_11ea_9268_8c85903d48d1row6_col4\" class=\"data row6 col4\" >0.565</td>\n",
       "                        <td id=\"T_04ceeea6_fd4e_11ea_9268_8c85903d48d1row6_col5\" class=\"data row6 col5\" >0.024</td>\n",
       "                        <td id=\"T_04ceeea6_fd4e_11ea_9268_8c85903d48d1row6_col6\" class=\"data row6 col6\" >0.013</td>\n",
       "                        <td id=\"T_04ceeea6_fd4e_11ea_9268_8c85903d48d1row6_col7\" class=\"data row6 col7\" >0.018</td>\n",
       "            </tr>\n",
       "            <tr>\n",
       "                        <th id=\"T_04ceeea6_fd4e_11ea_9268_8c85903d48d1level0_row7\" class=\"row_heading level0 row7\" >7</th>\n",
       "                        <td id=\"T_04ceeea6_fd4e_11ea_9268_8c85903d48d1row7_col0\" class=\"data row7 col0\" >Greg [2017]</td>\n",
       "                        <td id=\"T_04ceeea6_fd4e_11ea_9268_8c85903d48d1row7_col1\" class=\"data row7 col1\" >Hard</td>\n",
       "                        <td id=\"T_04ceeea6_fd4e_11ea_9268_8c85903d48d1row7_col2\" class=\"data row7 col2\" >21</td>\n",
       "                        <td id=\"T_04ceeea6_fd4e_11ea_9268_8c85903d48d1row7_col3\" class=\"data row7 col3\" >0.001</td>\n",
       "                        <td id=\"T_04ceeea6_fd4e_11ea_9268_8c85903d48d1row7_col4\" class=\"data row7 col4\" >0.541</td>\n",
       "                        <td id=\"T_04ceeea6_fd4e_11ea_9268_8c85903d48d1row7_col5\" class=\"data row7 col5\" >0.038</td>\n",
       "                        <td id=\"T_04ceeea6_fd4e_11ea_9268_8c85903d48d1row7_col6\" class=\"data row7 col6\" >0.042</td>\n",
       "                        <td id=\"T_04ceeea6_fd4e_11ea_9268_8c85903d48d1row7_col7\" class=\"data row7 col7\" >0.019</td>\n",
       "            </tr>\n",
       "    </tbody></table>"
      ],
      "text/plain": [
       "<pandas.io.formats.style.Styler at 0x11b8d6fd0>"
      ]
     },
     "execution_count": 12,
     "metadata": {},
     "output_type": "execute_result"
    }
   ],
   "source": [
    "df = pd.DataFrame(pt.get_test_results())\n",
    "df.style.highlight_null().\\\n",
    "    highlight_max(axis=1, color='darkorange', subset=solver_labels).\\\n",
    "    highlight_min(axis=1, color='green', subset=solver_labels).\\\n",
    "    format({m: '{:.3f}' for m in solver_labels})"
   ]
  },
  {
   "cell_type": "markdown",
   "metadata": {},
   "source": [
    "Orange in each row is the slowest time, and green in each row is the fastest. Oddly, the cheating solver doesn't *always* win, but it wins enough that there appears a sufficient motivation to cheat. So let's fix that.\n"
   ]
  },
  {
   "cell_type": "markdown",
   "metadata": {},
   "source": [
    "---\n",
    "# Catching Cheats\n",
    "\n",
    "To prevent the new cheat we basically need to compare the puzzle with a copy of the original. That way we can detect that the starting clues have been replaced.\n",
    "\n",
    "We can't do this in the `SudokuPuzzle` itself. Python's private attributes can be tampered with (it's [more a naming convention](https://docs.python.org/3/tutorial/classes.html#tut-private) to stop programmers shooting themselves in the foot than a security control). Since we're trying to guard against cheating we can assume an attacker will happily ignore convention.\n",
    "\n",
    "If we assume that the caller (test harness) can be trusted then we can let the caller verify that the original puzzle is OK. We'll just need a function that confirms if the starting clues in one puzzle also exist in the second.\n"
   ]
  },
  {
   "cell_type": "code",
   "execution_count": 13,
   "metadata": {},
   "outputs": [],
   "source": [
    "def has_same_clues(a, b):\n",
    "    \"\"\"Returns true if the non empty cells in a have the same value in b\"\"\"\n",
    "    if a.max_value != b.max_value:\n",
    "        return False\n",
    "    \n",
    "    for i in range(a.max_value):\n",
    "        for j in range(a.max_value):\n",
    "            if not a.is_empty(i, j) and a.get(i, j) != b.get(i, j):\n",
    "                return False\n",
    "    return True"
   ]
  },
  {
   "cell_type": "code",
   "execution_count": 14,
   "metadata": {},
   "outputs": [
    {
     "data": {
      "text/plain": [
       "True"
      ]
     },
     "execution_count": 14,
     "metadata": {},
     "output_type": "execute_result"
    }
   ],
   "source": [
    "puzzle = su.SudokuPuzzle(starting_grid=su.from_string(su.SAMPLE_PUZZLES[-1]['puzzle']))\n",
    "original = copy.deepcopy(puzzle)\n",
    "has_same_clues(original, puzzle)"
   ]
  },
  {
   "cell_type": "code",
   "execution_count": 15,
   "metadata": {},
   "outputs": [
    {
     "data": {
      "text/plain": [
       "True"
      ]
     },
     "execution_count": 15,
     "metadata": {},
     "output_type": "execute_result"
    }
   ],
   "source": [
    "# Solver is cheating and will replace puzzle\n",
    "solver.solve(puzzle)\n",
    "puzzle.is_solved()"
   ]
  },
  {
   "cell_type": "code",
   "execution_count": 16,
   "metadata": {},
   "outputs": [
    {
     "data": {
      "text/plain": [
       "False"
      ]
     },
     "execution_count": 16,
     "metadata": {},
     "output_type": "execute_result"
    }
   ],
   "source": [
    "# Should return False because puzzle has been replaced\n",
    "has_same_clues(original, puzzle)"
   ]
  },
  {
   "cell_type": "markdown",
   "metadata": {},
   "source": [
    "This is the fix I put in the `PuzzleTester` class. The `anti_cheat_check` is on by default. The `run_single_test` method makes a copy of each puzzle *before* calling the solver, then compares the \"solved\" puzzle to the copy. If the clues in the original aren't present in the solved puzzle then it's not a real solution.\n",
    "\n",
    "So now we can re-run the tests and check to see that our cheater won't prosper.\n"
   ]
  },
  {
   "cell_type": "code",
   "execution_count": 17,
   "metadata": {},
   "outputs": [
    {
     "data": {
      "text/plain": [
       "8"
      ]
     },
     "execution_count": 17,
     "metadata": {},
     "output_type": "execute_result"
    }
   ],
   "source": [
    "# New instance of PuzzleTester, anti_cheat_check is True by default\n",
    "pt = tester.PuzzleTester(puzzle_class=su.SudokuPuzzle)\n",
    "pt.add_test_cases(test_cases)"
   ]
  },
  {
   "cell_type": "code",
   "execution_count": 18,
   "metadata": {},
   "outputs": [
    {
     "data": {
      "text/plain": [
       "8"
      ]
     },
     "execution_count": 18,
     "metadata": {},
     "output_type": "execute_result"
    }
   ],
   "source": [
    "# Runs the \"cheat\" solver\n",
    "solver = CheatingSolver()\n",
    "pt.run_tests(solver)"
   ]
  },
  {
   "cell_type": "code",
   "execution_count": 19,
   "metadata": {},
   "outputs": [],
   "source": [
    "# Runs all the \"legit\" solvers\n",
    "for m in su.SOLVERS:\n",
    "    solver = su.SudokuSolver(method=m)\n",
    "    pt.run_tests(solver, m)\n",
    "solver_labels = list(pt.get_solver_labels())"
   ]
  },
  {
   "cell_type": "code",
   "execution_count": 23,
   "metadata": {},
   "outputs": [
    {
     "data": {
      "text/html": [
       "<style  type=\"text/css\" >\n",
       "    #T_796518f8_fd4e_11ea_9268_8c85903d48d1row0_col3 {\n",
       "            background-color:  red;\n",
       "            : ;\n",
       "            : ;\n",
       "        }    #T_796518f8_fd4e_11ea_9268_8c85903d48d1row0_col6 {\n",
       "            : ;\n",
       "            : ;\n",
       "            background-color:  green;\n",
       "        }    #T_796518f8_fd4e_11ea_9268_8c85903d48d1row0_col7 {\n",
       "            : ;\n",
       "            background-color:  darkorange;\n",
       "            : ;\n",
       "        }    #T_796518f8_fd4e_11ea_9268_8c85903d48d1row1_col3 {\n",
       "            background-color:  red;\n",
       "            : ;\n",
       "            : ;\n",
       "        }    #T_796518f8_fd4e_11ea_9268_8c85903d48d1row1_col4 {\n",
       "            : ;\n",
       "            background-color:  darkorange;\n",
       "            : ;\n",
       "        }    #T_796518f8_fd4e_11ea_9268_8c85903d48d1row1_col5 {\n",
       "            : ;\n",
       "            : ;\n",
       "            background-color:  green;\n",
       "        }    #T_796518f8_fd4e_11ea_9268_8c85903d48d1row2_col3 {\n",
       "            background-color:  red;\n",
       "            : ;\n",
       "            : ;\n",
       "        }    #T_796518f8_fd4e_11ea_9268_8c85903d48d1row2_col5 {\n",
       "            : ;\n",
       "            : ;\n",
       "            background-color:  green;\n",
       "        }    #T_796518f8_fd4e_11ea_9268_8c85903d48d1row2_col7 {\n",
       "            : ;\n",
       "            background-color:  darkorange;\n",
       "            : ;\n",
       "        }    #T_796518f8_fd4e_11ea_9268_8c85903d48d1row3_col3 {\n",
       "            background-color:  red;\n",
       "            : ;\n",
       "            : ;\n",
       "        }    #T_796518f8_fd4e_11ea_9268_8c85903d48d1row3_col4 {\n",
       "            : ;\n",
       "            background-color:  darkorange;\n",
       "            : ;\n",
       "        }    #T_796518f8_fd4e_11ea_9268_8c85903d48d1row3_col6 {\n",
       "            : ;\n",
       "            : ;\n",
       "            background-color:  green;\n",
       "        }    #T_796518f8_fd4e_11ea_9268_8c85903d48d1row4_col3 {\n",
       "            background-color:  red;\n",
       "            : ;\n",
       "            : ;\n",
       "        }    #T_796518f8_fd4e_11ea_9268_8c85903d48d1row4_col4 {\n",
       "            : ;\n",
       "            background-color:  darkorange;\n",
       "            : ;\n",
       "        }    #T_796518f8_fd4e_11ea_9268_8c85903d48d1row4_col7 {\n",
       "            : ;\n",
       "            : ;\n",
       "            background-color:  green;\n",
       "        }    #T_796518f8_fd4e_11ea_9268_8c85903d48d1row5_col3 {\n",
       "            background-color:  red;\n",
       "            : ;\n",
       "            : ;\n",
       "        }    #T_796518f8_fd4e_11ea_9268_8c85903d48d1row5_col4 {\n",
       "            : ;\n",
       "            background-color:  darkorange;\n",
       "            : ;\n",
       "        }    #T_796518f8_fd4e_11ea_9268_8c85903d48d1row5_col6 {\n",
       "            : ;\n",
       "            : ;\n",
       "            background-color:  green;\n",
       "        }    #T_796518f8_fd4e_11ea_9268_8c85903d48d1row6_col3 {\n",
       "            background-color:  red;\n",
       "            : ;\n",
       "            : ;\n",
       "        }    #T_796518f8_fd4e_11ea_9268_8c85903d48d1row6_col4 {\n",
       "            : ;\n",
       "            background-color:  darkorange;\n",
       "            : ;\n",
       "        }    #T_796518f8_fd4e_11ea_9268_8c85903d48d1row6_col6 {\n",
       "            : ;\n",
       "            : ;\n",
       "            background-color:  green;\n",
       "        }    #T_796518f8_fd4e_11ea_9268_8c85903d48d1row7_col3 {\n",
       "            background-color:  red;\n",
       "            : ;\n",
       "            : ;\n",
       "        }    #T_796518f8_fd4e_11ea_9268_8c85903d48d1row7_col4 {\n",
       "            : ;\n",
       "            background-color:  darkorange;\n",
       "            : ;\n",
       "        }    #T_796518f8_fd4e_11ea_9268_8c85903d48d1row7_col7 {\n",
       "            : ;\n",
       "            : ;\n",
       "            background-color:  green;\n",
       "        }</style><table id=\"T_796518f8_fd4e_11ea_9268_8c85903d48d1\" ><thead>    <tr>        <th class=\"blank level0\" ></th>        <th class=\"col_heading level0 col0\" >label</th>        <th class=\"col_heading level0 col1\" >level</th>        <th class=\"col_heading level0 col2\" >starting_clues</th>        <th class=\"col_heading level0 col3\" >CheatingSolver</th>        <th class=\"col_heading level0 col4\" >backtracking</th>        <th class=\"col_heading level0 col5\" >constraintpropogation</th>        <th class=\"col_heading level0 col6\" >deductive</th>        <th class=\"col_heading level0 col7\" >sat</th>    </tr></thead><tbody>\n",
       "                <tr>\n",
       "                        <th id=\"T_796518f8_fd4e_11ea_9268_8c85903d48d1level0_row0\" class=\"row_heading level0 row0\" >0</th>\n",
       "                        <td id=\"T_796518f8_fd4e_11ea_9268_8c85903d48d1row0_col0\" class=\"data row0 col0\" >SMH 1</td>\n",
       "                        <td id=\"T_796518f8_fd4e_11ea_9268_8c85903d48d1row0_col1\" class=\"data row0 col1\" >Kids</td>\n",
       "                        <td id=\"T_796518f8_fd4e_11ea_9268_8c85903d48d1row0_col2\" class=\"data row0 col2\" >31</td>\n",
       "                        <td id=\"T_796518f8_fd4e_11ea_9268_8c85903d48d1row0_col3\" class=\"data row0 col3\" >None</td>\n",
       "                        <td id=\"T_796518f8_fd4e_11ea_9268_8c85903d48d1row0_col4\" class=\"data row0 col4\" >0.005</td>\n",
       "                        <td id=\"T_796518f8_fd4e_11ea_9268_8c85903d48d1row0_col5\" class=\"data row0 col5\" >0.002</td>\n",
       "                        <td id=\"T_796518f8_fd4e_11ea_9268_8c85903d48d1row0_col6\" class=\"data row0 col6\" >0.002</td>\n",
       "                        <td id=\"T_796518f8_fd4e_11ea_9268_8c85903d48d1row0_col7\" class=\"data row0 col7\" >0.017</td>\n",
       "            </tr>\n",
       "            <tr>\n",
       "                        <th id=\"T_796518f8_fd4e_11ea_9268_8c85903d48d1level0_row1\" class=\"row_heading level0 row1\" >1</th>\n",
       "                        <td id=\"T_796518f8_fd4e_11ea_9268_8c85903d48d1row1_col0\" class=\"data row1 col0\" >SMH 2</td>\n",
       "                        <td id=\"T_796518f8_fd4e_11ea_9268_8c85903d48d1row1_col1\" class=\"data row1 col1\" >Easy</td>\n",
       "                        <td id=\"T_796518f8_fd4e_11ea_9268_8c85903d48d1row1_col2\" class=\"data row1 col2\" >24</td>\n",
       "                        <td id=\"T_796518f8_fd4e_11ea_9268_8c85903d48d1row1_col3\" class=\"data row1 col3\" >None</td>\n",
       "                        <td id=\"T_796518f8_fd4e_11ea_9268_8c85903d48d1row1_col4\" class=\"data row1 col4\" >0.220</td>\n",
       "                        <td id=\"T_796518f8_fd4e_11ea_9268_8c85903d48d1row1_col5\" class=\"data row1 col5\" >0.002</td>\n",
       "                        <td id=\"T_796518f8_fd4e_11ea_9268_8c85903d48d1row1_col6\" class=\"data row1 col6\" >0.003</td>\n",
       "                        <td id=\"T_796518f8_fd4e_11ea_9268_8c85903d48d1row1_col7\" class=\"data row1 col7\" >0.017</td>\n",
       "            </tr>\n",
       "            <tr>\n",
       "                        <th id=\"T_796518f8_fd4e_11ea_9268_8c85903d48d1level0_row2\" class=\"row_heading level0 row2\" >2</th>\n",
       "                        <td id=\"T_796518f8_fd4e_11ea_9268_8c85903d48d1row2_col0\" class=\"data row2 col0\" >KTH 1</td>\n",
       "                        <td id=\"T_796518f8_fd4e_11ea_9268_8c85903d48d1row2_col1\" class=\"data row2 col1\" >Easy</td>\n",
       "                        <td id=\"T_796518f8_fd4e_11ea_9268_8c85903d48d1row2_col2\" class=\"data row2 col2\" >30</td>\n",
       "                        <td id=\"T_796518f8_fd4e_11ea_9268_8c85903d48d1row2_col3\" class=\"data row2 col3\" >None</td>\n",
       "                        <td id=\"T_796518f8_fd4e_11ea_9268_8c85903d48d1row2_col4\" class=\"data row2 col4\" >0.011</td>\n",
       "                        <td id=\"T_796518f8_fd4e_11ea_9268_8c85903d48d1row2_col5\" class=\"data row2 col5\" >0.001</td>\n",
       "                        <td id=\"T_796518f8_fd4e_11ea_9268_8c85903d48d1row2_col6\" class=\"data row2 col6\" >0.002</td>\n",
       "                        <td id=\"T_796518f8_fd4e_11ea_9268_8c85903d48d1row2_col7\" class=\"data row2 col7\" >0.017</td>\n",
       "            </tr>\n",
       "            <tr>\n",
       "                        <th id=\"T_796518f8_fd4e_11ea_9268_8c85903d48d1level0_row3\" class=\"row_heading level0 row3\" >3</th>\n",
       "                        <td id=\"T_796518f8_fd4e_11ea_9268_8c85903d48d1row3_col0\" class=\"data row3 col0\" >Rico Alan Heart</td>\n",
       "                        <td id=\"T_796518f8_fd4e_11ea_9268_8c85903d48d1row3_col1\" class=\"data row3 col1\" >Easy</td>\n",
       "                        <td id=\"T_796518f8_fd4e_11ea_9268_8c85903d48d1row3_col2\" class=\"data row3 col2\" >22</td>\n",
       "                        <td id=\"T_796518f8_fd4e_11ea_9268_8c85903d48d1row3_col3\" class=\"data row3 col3\" >None</td>\n",
       "                        <td id=\"T_796518f8_fd4e_11ea_9268_8c85903d48d1row3_col4\" class=\"data row3 col4\" >0.076</td>\n",
       "                        <td id=\"T_796518f8_fd4e_11ea_9268_8c85903d48d1row3_col5\" class=\"data row3 col5\" >0.021</td>\n",
       "                        <td id=\"T_796518f8_fd4e_11ea_9268_8c85903d48d1row3_col6\" class=\"data row3 col6\" >0.007</td>\n",
       "                        <td id=\"T_796518f8_fd4e_11ea_9268_8c85903d48d1row3_col7\" class=\"data row3 col7\" >0.017</td>\n",
       "            </tr>\n",
       "            <tr>\n",
       "                        <th id=\"T_796518f8_fd4e_11ea_9268_8c85903d48d1level0_row4\" class=\"row_heading level0 row4\" >4</th>\n",
       "                        <td id=\"T_796518f8_fd4e_11ea_9268_8c85903d48d1row4_col0\" class=\"data row4 col0\" >SMH 3</td>\n",
       "                        <td id=\"T_796518f8_fd4e_11ea_9268_8c85903d48d1row4_col1\" class=\"data row4 col1\" >Moderate</td>\n",
       "                        <td id=\"T_796518f8_fd4e_11ea_9268_8c85903d48d1row4_col2\" class=\"data row4 col2\" >26</td>\n",
       "                        <td id=\"T_796518f8_fd4e_11ea_9268_8c85903d48d1row4_col3\" class=\"data row4 col3\" >None</td>\n",
       "                        <td id=\"T_796518f8_fd4e_11ea_9268_8c85903d48d1row4_col4\" class=\"data row4 col4\" >0.075</td>\n",
       "                        <td id=\"T_796518f8_fd4e_11ea_9268_8c85903d48d1row4_col5\" class=\"data row4 col5\" >0.020</td>\n",
       "                        <td id=\"T_796518f8_fd4e_11ea_9268_8c85903d48d1row4_col6\" class=\"data row4 col6\" >0.028</td>\n",
       "                        <td id=\"T_796518f8_fd4e_11ea_9268_8c85903d48d1row4_col7\" class=\"data row4 col7\" >0.018</td>\n",
       "            </tr>\n",
       "            <tr>\n",
       "                        <th id=\"T_796518f8_fd4e_11ea_9268_8c85903d48d1level0_row5\" class=\"row_heading level0 row5\" >5</th>\n",
       "                        <td id=\"T_796518f8_fd4e_11ea_9268_8c85903d48d1row5_col0\" class=\"data row5 col0\" >SMH 4</td>\n",
       "                        <td id=\"T_796518f8_fd4e_11ea_9268_8c85903d48d1row5_col1\" class=\"data row5 col1\" >Hard</td>\n",
       "                        <td id=\"T_796518f8_fd4e_11ea_9268_8c85903d48d1row5_col2\" class=\"data row5 col2\" >22</td>\n",
       "                        <td id=\"T_796518f8_fd4e_11ea_9268_8c85903d48d1row5_col3\" class=\"data row5 col3\" >None</td>\n",
       "                        <td id=\"T_796518f8_fd4e_11ea_9268_8c85903d48d1row5_col4\" class=\"data row5 col4\" >1.371</td>\n",
       "                        <td id=\"T_796518f8_fd4e_11ea_9268_8c85903d48d1row5_col5\" class=\"data row5 col5\" >0.024</td>\n",
       "                        <td id=\"T_796518f8_fd4e_11ea_9268_8c85903d48d1row5_col6\" class=\"data row5 col6\" >0.017</td>\n",
       "                        <td id=\"T_796518f8_fd4e_11ea_9268_8c85903d48d1row5_col7\" class=\"data row5 col7\" >0.018</td>\n",
       "            </tr>\n",
       "            <tr>\n",
       "                        <th id=\"T_796518f8_fd4e_11ea_9268_8c85903d48d1level0_row6\" class=\"row_heading level0 row6\" >6</th>\n",
       "                        <td id=\"T_796518f8_fd4e_11ea_9268_8c85903d48d1row6_col0\" class=\"data row6 col0\" >SMH 5</td>\n",
       "                        <td id=\"T_796518f8_fd4e_11ea_9268_8c85903d48d1row6_col1\" class=\"data row6 col1\" >Hard</td>\n",
       "                        <td id=\"T_796518f8_fd4e_11ea_9268_8c85903d48d1row6_col2\" class=\"data row6 col2\" >25</td>\n",
       "                        <td id=\"T_796518f8_fd4e_11ea_9268_8c85903d48d1row6_col3\" class=\"data row6 col3\" >None</td>\n",
       "                        <td id=\"T_796518f8_fd4e_11ea_9268_8c85903d48d1row6_col4\" class=\"data row6 col4\" >0.665</td>\n",
       "                        <td id=\"T_796518f8_fd4e_11ea_9268_8c85903d48d1row6_col5\" class=\"data row6 col5\" >0.025</td>\n",
       "                        <td id=\"T_796518f8_fd4e_11ea_9268_8c85903d48d1row6_col6\" class=\"data row6 col6\" >0.014</td>\n",
       "                        <td id=\"T_796518f8_fd4e_11ea_9268_8c85903d48d1row6_col7\" class=\"data row6 col7\" >0.018</td>\n",
       "            </tr>\n",
       "            <tr>\n",
       "                        <th id=\"T_796518f8_fd4e_11ea_9268_8c85903d48d1level0_row7\" class=\"row_heading level0 row7\" >7</th>\n",
       "                        <td id=\"T_796518f8_fd4e_11ea_9268_8c85903d48d1row7_col0\" class=\"data row7 col0\" >Greg [2017]</td>\n",
       "                        <td id=\"T_796518f8_fd4e_11ea_9268_8c85903d48d1row7_col1\" class=\"data row7 col1\" >Hard</td>\n",
       "                        <td id=\"T_796518f8_fd4e_11ea_9268_8c85903d48d1row7_col2\" class=\"data row7 col2\" >21</td>\n",
       "                        <td id=\"T_796518f8_fd4e_11ea_9268_8c85903d48d1row7_col3\" class=\"data row7 col3\" >None</td>\n",
       "                        <td id=\"T_796518f8_fd4e_11ea_9268_8c85903d48d1row7_col4\" class=\"data row7 col4\" >0.553</td>\n",
       "                        <td id=\"T_796518f8_fd4e_11ea_9268_8c85903d48d1row7_col5\" class=\"data row7 col5\" >0.038</td>\n",
       "                        <td id=\"T_796518f8_fd4e_11ea_9268_8c85903d48d1row7_col6\" class=\"data row7 col6\" >0.046</td>\n",
       "                        <td id=\"T_796518f8_fd4e_11ea_9268_8c85903d48d1row7_col7\" class=\"data row7 col7\" >0.021</td>\n",
       "            </tr>\n",
       "    </tbody></table>"
      ],
      "text/plain": [
       "<pandas.io.formats.style.Styler at 0x11b87f9d0>"
      ]
     },
     "execution_count": 23,
     "metadata": {},
     "output_type": "execute_result"
    }
   ],
   "source": [
    "df = pd.DataFrame(pt.get_test_results())\n",
    "df.style.highlight_null().\\\n",
    "    highlight_max(axis=1, color='darkorange', subset=solver_labels).\\\n",
    "    highlight_min(axis=1, color='green', subset=solver_labels).\\\n",
    "    format({m: '{:.3f}' for m in solver_labels if m != 'CheatingSolver'})"
   ]
  },
  {
   "cell_type": "markdown",
   "metadata": {},
   "source": [
    "OK! Our cheating solver has had no results recorded for it, because the answer it gives does not match the starting clues!"
   ]
  },
  {
   "cell_type": "markdown",
   "metadata": {},
   "source": [
    "---\n",
    "# Next Steps\n",
    "\n",
    "There are probably ways to defeat these checks, particularly in a language like Python where \"[monkey patching](https://medium.com/@chipiga86/python-monkey-patching-like-a-boss-87d7ddb8098e)\" is a thing and everything is dynamic. For example:\n",
    "\n",
    "* Could we subclass `SudokuPuzzle` and modify the methods there?\n",
    "* The `PuzzleTester` method `run_tests` takes a `callback` parameter that's called just before each test is run, and then finally when all tests are complete. Could we hijack that to fake our test results? You'd have to do it from inside the solver class for it to be a real \"cheat\"...\n",
    "* Can the solver class access and modify the copy of the original puzzle?\n",
    "\n",
    "These might be a fun way to learn more about the internals of Python, but for now I'm declaring this \"done\" and moving on to the next puzzle..."
   ]
  }
 ],
 "metadata": {
  "kernelspec": {
   "display_name": "Python 3",
   "language": "python",
   "name": "python3"
  },
  "language_info": {
   "codemirror_mode": {
    "name": "ipython",
    "version": 3
   },
   "file_extension": ".py",
   "mimetype": "text/x-python",
   "name": "python",
   "nbconvert_exporter": "python",
   "pygments_lexer": "ipython3",
   "version": "3.7.4"
  }
 },
 "nbformat": 4,
 "nbformat_minor": 4
}
