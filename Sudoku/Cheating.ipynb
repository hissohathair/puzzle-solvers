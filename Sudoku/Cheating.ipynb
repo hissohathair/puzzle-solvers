{
 "cells": [
  {
   "cell_type": "code",
   "execution_count": 1,
   "metadata": {},
   "outputs": [
    {
     "data": {
      "text/html": [
       "\n",
       "    <style type=\"text/css\">\n",
       "    .sudoku table {\n",
       "        border: 3px solid red;\n",
       "        text-align: center;\n",
       "        vertical-align: middle;\n",
       "    }\n",
       "\n",
       "    .sudoku td {\n",
       "        width: 40px;\n",
       "        height: 40px;\n",
       "        border: 1px solid #F00;\n",
       "    }\n",
       "\n",
       "    .sudoku td:nth-of-type(3n) {\n",
       "        border-right: 3px solid red;\n",
       "    }\n",
       "\n",
       "    .sudoku tr:nth-of-type(3n) td {\n",
       "        border-bottom: 3px solid red;\n",
       "    }\n",
       "\n",
       "    .sudoku.solved table {\n",
       "        border: 3px solid green;\n",
       "    }\n",
       "\n",
       "    .sudoku.solved td {\n",
       "        border: 1px solid green;\n",
       "    }\n",
       "\n",
       "    .sudoku.solved td:nth-of-type(3n) {\n",
       "        border-right: 3px solid green;\n",
       "    }\n",
       "\n",
       "    .sudoku.solved tr:nth-of-type(3n) td {\n",
       "        border-bottom: 3px solid green;\n",
       "    }\n",
       "\n",
       "    </style>\n"
      ],
      "text/plain": [
       "<IPython.core.display.HTML object>"
      ]
     },
     "metadata": {},
     "output_type": "display_data"
    }
   ],
   "source": [
    "import sys\n",
    "sys.path.insert(-1, '..')\n",
    "\n",
    "import puzzle.tester as tester\n",
    "import puzzle.sudoku as su\n",
    "from puzzle.jupyter_helpers import *\n",
    "display(HTML(SUDOKU_CSS))"
   ]
  },
  {
   "cell_type": "code",
   "execution_count": 2,
   "metadata": {},
   "outputs": [],
   "source": [
    "import copy\n",
    "import pandas as pd\n",
    "import matplotlib.pyplot as plt\n",
    "\n",
    "%matplotlib inline\n",
    "plt.rcParams[\"figure.figsize\"] = [12, 6]\n",
    "pd.set_option('precision', 3)"
   ]
  },
  {
   "cell_type": "markdown",
   "metadata": {},
   "source": [
    "## Diversion #2: Cheating\n",
    "\n",
    "Occurred to me that the way I've designed the puzzle and solver classes opens the way to having a \"cheating\" solver. Basically a solver that over-writes the puzzle with a pre-programmed sequence of numbers that obey the rules but do not match the original puzzle clues.\n",
    "\n",
    "So just for fun let's see how easy that is to do and how I could improve the puzzle class to detect and block attempts to \"cheat\".\n",
    "\n",
    "### First attempt: Lie\n",
    "\n",
    "First attempt was based on this code in the original implementation of `is_solved`:\n",
    "\n",
    "```python\n",
    "def is_solved(self):\n",
    "    return self.is_puzzle_valid() and self._num_empty_cells == 0\n",
    "```\n",
    "\n",
    "So, how about a solver that just plain lies by over-writing the number of empty cells left?\n"
   ]
  },
  {
   "cell_type": "code",
   "execution_count": 3,
   "metadata": {},
   "outputs": [
    {
     "data": {
      "text/plain": [
       "True"
      ]
     },
     "execution_count": 3,
     "metadata": {},
     "output_type": "execute_result"
    }
   ],
   "source": [
    "class CheatingSolver:\n",
    "    def solve(self, puzzle):\n",
    "        \"\"\"Easiest way to cheat would be to trick the is_solved() method on the puzzle to always returning True\"\"\"\n",
    "        puzzle._num_empty_cells = 0\n",
    "        return True\n",
    "\n",
    "puzzle = su.SudokuPuzzle(starting_grid=su.from_string(su.SAMPLE_PUZZLES[0]['puzzle']))\n",
    "solver = CheatingSolver()\n",
    "solver.solve(puzzle)"
   ]
  },
  {
   "cell_type": "markdown",
   "metadata": {},
   "source": [
    "So the solver will always return `True` but the puzzle itself should know that it's not really solved. I changed the `is_solved` method to actually check that every cell has a value.\n",
    "\n",
    "```python\n",
    "def is_solved(self):\n",
    "    if self.is_puzzle_valid():\n",
    "        for i in range(self.max_value()):\n",
    "            for j in range(self.max_value()):\n",
    "                if self.is_empty(i, j):\n",
    "                    return False\n",
    "        return True\n",
    "    else:\n",
    "        return False\n",
    "```"
   ]
  },
  {
   "cell_type": "code",
   "execution_count": 4,
   "metadata": {},
   "outputs": [
    {
     "data": {
      "text/plain": [
       "False"
      ]
     },
     "execution_count": 4,
     "metadata": {},
     "output_type": "execute_result"
    }
   ],
   "source": [
    "puzzle.is_solved()"
   ]
  },
  {
   "cell_type": "markdown",
   "metadata": {},
   "source": [
    "Now if we use this in the `PuzzleTester` then we want to make sure that it's detecting that the puzzle isn't really solved."
   ]
  },
  {
   "cell_type": "code",
   "execution_count": 5,
   "metadata": {},
   "outputs": [
    {
     "data": {
      "text/plain": [
       "8"
      ]
     },
     "execution_count": 5,
     "metadata": {},
     "output_type": "execute_result"
    }
   ],
   "source": [
    "include_levels = ['Kids', 'Easy', 'Moderate', 'Hard']  # , 'Diabolical', 'Pathalogical']\n",
    "test_cases = [x for x in su.SAMPLE_PUZZLES if x['level'] in include_levels]\n",
    "pt = tester.PuzzleTester(puzzle_class=su.SudokuPuzzle)\n",
    "pt.add_test_cases(test_cases)"
   ]
  },
  {
   "cell_type": "code",
   "execution_count": 6,
   "metadata": {},
   "outputs": [
    {
     "data": {
      "text/html": [
       "<style  type=\"text/css\" >\n",
       "    #T_2840f180_fa75_11ea_905a_8c85903d48d1row0_col3 {\n",
       "            background-color:  red;\n",
       "        }    #T_2840f180_fa75_11ea_905a_8c85903d48d1row1_col3 {\n",
       "            background-color:  red;\n",
       "        }    #T_2840f180_fa75_11ea_905a_8c85903d48d1row2_col3 {\n",
       "            background-color:  red;\n",
       "        }    #T_2840f180_fa75_11ea_905a_8c85903d48d1row3_col3 {\n",
       "            background-color:  red;\n",
       "        }    #T_2840f180_fa75_11ea_905a_8c85903d48d1row4_col3 {\n",
       "            background-color:  red;\n",
       "        }    #T_2840f180_fa75_11ea_905a_8c85903d48d1row5_col3 {\n",
       "            background-color:  red;\n",
       "        }    #T_2840f180_fa75_11ea_905a_8c85903d48d1row6_col3 {\n",
       "            background-color:  red;\n",
       "        }    #T_2840f180_fa75_11ea_905a_8c85903d48d1row7_col3 {\n",
       "            background-color:  red;\n",
       "        }</style><table id=\"T_2840f180_fa75_11ea_905a_8c85903d48d1\" ><thead>    <tr>        <th class=\"blank level0\" ></th>        <th class=\"col_heading level0 col0\" >label</th>        <th class=\"col_heading level0 col1\" >level</th>        <th class=\"col_heading level0 col2\" >starting_clues</th>        <th class=\"col_heading level0 col3\" >CheatingSolver</th>    </tr></thead><tbody>\n",
       "                <tr>\n",
       "                        <th id=\"T_2840f180_fa75_11ea_905a_8c85903d48d1level0_row0\" class=\"row_heading level0 row0\" >0</th>\n",
       "                        <td id=\"T_2840f180_fa75_11ea_905a_8c85903d48d1row0_col0\" class=\"data row0 col0\" >SMH 1</td>\n",
       "                        <td id=\"T_2840f180_fa75_11ea_905a_8c85903d48d1row0_col1\" class=\"data row0 col1\" >Kids</td>\n",
       "                        <td id=\"T_2840f180_fa75_11ea_905a_8c85903d48d1row0_col2\" class=\"data row0 col2\" >31</td>\n",
       "                        <td id=\"T_2840f180_fa75_11ea_905a_8c85903d48d1row0_col3\" class=\"data row0 col3\" >None</td>\n",
       "            </tr>\n",
       "            <tr>\n",
       "                        <th id=\"T_2840f180_fa75_11ea_905a_8c85903d48d1level0_row1\" class=\"row_heading level0 row1\" >1</th>\n",
       "                        <td id=\"T_2840f180_fa75_11ea_905a_8c85903d48d1row1_col0\" class=\"data row1 col0\" >SMH 2</td>\n",
       "                        <td id=\"T_2840f180_fa75_11ea_905a_8c85903d48d1row1_col1\" class=\"data row1 col1\" >Easy</td>\n",
       "                        <td id=\"T_2840f180_fa75_11ea_905a_8c85903d48d1row1_col2\" class=\"data row1 col2\" >24</td>\n",
       "                        <td id=\"T_2840f180_fa75_11ea_905a_8c85903d48d1row1_col3\" class=\"data row1 col3\" >None</td>\n",
       "            </tr>\n",
       "            <tr>\n",
       "                        <th id=\"T_2840f180_fa75_11ea_905a_8c85903d48d1level0_row2\" class=\"row_heading level0 row2\" >2</th>\n",
       "                        <td id=\"T_2840f180_fa75_11ea_905a_8c85903d48d1row2_col0\" class=\"data row2 col0\" >KTH 1</td>\n",
       "                        <td id=\"T_2840f180_fa75_11ea_905a_8c85903d48d1row2_col1\" class=\"data row2 col1\" >Easy</td>\n",
       "                        <td id=\"T_2840f180_fa75_11ea_905a_8c85903d48d1row2_col2\" class=\"data row2 col2\" >30</td>\n",
       "                        <td id=\"T_2840f180_fa75_11ea_905a_8c85903d48d1row2_col3\" class=\"data row2 col3\" >None</td>\n",
       "            </tr>\n",
       "            <tr>\n",
       "                        <th id=\"T_2840f180_fa75_11ea_905a_8c85903d48d1level0_row3\" class=\"row_heading level0 row3\" >3</th>\n",
       "                        <td id=\"T_2840f180_fa75_11ea_905a_8c85903d48d1row3_col0\" class=\"data row3 col0\" >Rico Alan Heart</td>\n",
       "                        <td id=\"T_2840f180_fa75_11ea_905a_8c85903d48d1row3_col1\" class=\"data row3 col1\" >Easy</td>\n",
       "                        <td id=\"T_2840f180_fa75_11ea_905a_8c85903d48d1row3_col2\" class=\"data row3 col2\" >22</td>\n",
       "                        <td id=\"T_2840f180_fa75_11ea_905a_8c85903d48d1row3_col3\" class=\"data row3 col3\" >None</td>\n",
       "            </tr>\n",
       "            <tr>\n",
       "                        <th id=\"T_2840f180_fa75_11ea_905a_8c85903d48d1level0_row4\" class=\"row_heading level0 row4\" >4</th>\n",
       "                        <td id=\"T_2840f180_fa75_11ea_905a_8c85903d48d1row4_col0\" class=\"data row4 col0\" >SMH 3</td>\n",
       "                        <td id=\"T_2840f180_fa75_11ea_905a_8c85903d48d1row4_col1\" class=\"data row4 col1\" >Moderate</td>\n",
       "                        <td id=\"T_2840f180_fa75_11ea_905a_8c85903d48d1row4_col2\" class=\"data row4 col2\" >26</td>\n",
       "                        <td id=\"T_2840f180_fa75_11ea_905a_8c85903d48d1row4_col3\" class=\"data row4 col3\" >None</td>\n",
       "            </tr>\n",
       "            <tr>\n",
       "                        <th id=\"T_2840f180_fa75_11ea_905a_8c85903d48d1level0_row5\" class=\"row_heading level0 row5\" >5</th>\n",
       "                        <td id=\"T_2840f180_fa75_11ea_905a_8c85903d48d1row5_col0\" class=\"data row5 col0\" >SMH 4</td>\n",
       "                        <td id=\"T_2840f180_fa75_11ea_905a_8c85903d48d1row5_col1\" class=\"data row5 col1\" >Hard</td>\n",
       "                        <td id=\"T_2840f180_fa75_11ea_905a_8c85903d48d1row5_col2\" class=\"data row5 col2\" >22</td>\n",
       "                        <td id=\"T_2840f180_fa75_11ea_905a_8c85903d48d1row5_col3\" class=\"data row5 col3\" >None</td>\n",
       "            </tr>\n",
       "            <tr>\n",
       "                        <th id=\"T_2840f180_fa75_11ea_905a_8c85903d48d1level0_row6\" class=\"row_heading level0 row6\" >6</th>\n",
       "                        <td id=\"T_2840f180_fa75_11ea_905a_8c85903d48d1row6_col0\" class=\"data row6 col0\" >SMH 5</td>\n",
       "                        <td id=\"T_2840f180_fa75_11ea_905a_8c85903d48d1row6_col1\" class=\"data row6 col1\" >Hard</td>\n",
       "                        <td id=\"T_2840f180_fa75_11ea_905a_8c85903d48d1row6_col2\" class=\"data row6 col2\" >25</td>\n",
       "                        <td id=\"T_2840f180_fa75_11ea_905a_8c85903d48d1row6_col3\" class=\"data row6 col3\" >None</td>\n",
       "            </tr>\n",
       "            <tr>\n",
       "                        <th id=\"T_2840f180_fa75_11ea_905a_8c85903d48d1level0_row7\" class=\"row_heading level0 row7\" >7</th>\n",
       "                        <td id=\"T_2840f180_fa75_11ea_905a_8c85903d48d1row7_col0\" class=\"data row7 col0\" >Greg [2017]</td>\n",
       "                        <td id=\"T_2840f180_fa75_11ea_905a_8c85903d48d1row7_col1\" class=\"data row7 col1\" >Hard</td>\n",
       "                        <td id=\"T_2840f180_fa75_11ea_905a_8c85903d48d1row7_col2\" class=\"data row7 col2\" >21</td>\n",
       "                        <td id=\"T_2840f180_fa75_11ea_905a_8c85903d48d1row7_col3\" class=\"data row7 col3\" >None</td>\n",
       "            </tr>\n",
       "    </tbody></table>"
      ],
      "text/plain": [
       "<pandas.io.formats.style.Styler at 0x117d12210>"
      ]
     },
     "execution_count": 6,
     "metadata": {},
     "output_type": "execute_result"
    }
   ],
   "source": [
    "solver = CheatingSolver()\n",
    "pt.run_tests(solver)\n",
    "df = pd.DataFrame(pt.get_test_results())\n",
    "df.style.highlight_null()"
   ]
  },
  {
   "cell_type": "markdown",
   "metadata": {},
   "source": [
    "So I had to change `PuzzleTester` class to check the return value of the puzzle's `is_solved` method, rather than trust the solver's return value from `solve`. If the puzzle asserts that it is NOT solved then no result is recorded for the solver.\n",
    "\n",
    "### Second attempt: Over-write with a canned solution\n",
    "\n",
    "So since our really simple cheater no longer works I guess we'll need a more sophisticated version. We could just fill in the blank cells with \"1\" (or any other value) but then the `is_puzzle_valid` check would fail, at which point we may as well solve it properly. \n",
    "\n",
    "\n",
    "So maybe what our cheat needs to do is overwrite *all* cells in a rule-abiding way. We won't be actually solving the original puzzle. Basically, we're just writing a \"pre-solved\" puzzle over the top.\n"
   ]
  },
  {
   "cell_type": "code",
   "execution_count": 7,
   "metadata": {},
   "outputs": [],
   "source": [
    "class CheatingSolver:\n",
    "    def solve(self, puzzle):\n",
    "        \"\"\"Write a pre-solved puzzle in over the top of the provided one\"\"\"\n",
    "        starting_values = [0, 3, 6, 1, 4, 7, 2, 5, 8]\n",
    "        max_value = puzzle.max_value\n",
    "        assert max_value == 9, \"I can't handle puzzles other than 9x9\"\n",
    "        puzzle.clear_all()\n",
    "        for i in range(max_value):\n",
    "            for j in range(max_value):\n",
    "                #print(i, j, (starting_values[i] + j) % max_value + 1)\n",
    "                puzzle.set(i, j, (starting_values[i] + j) % max_value + 1)\n",
    "        return True"
   ]
  },
  {
   "cell_type": "code",
   "execution_count": 8,
   "metadata": {},
   "outputs": [
    {
     "data": {
      "text/plain": [
       "True"
      ]
     },
     "execution_count": 8,
     "metadata": {},
     "output_type": "execute_result"
    }
   ],
   "source": [
    "puzzle = su.SudokuPuzzle(starting_grid=su.from_string(su.SAMPLE_PUZZLES[0]['puzzle']))\n",
    "solver = CheatingSolver()\n",
    "solver.solve(puzzle)\n",
    "puzzle.is_solved()"
   ]
  },
  {
   "cell_type": "markdown",
   "metadata": {},
   "source": [
    "So the cheat works. \n",
    "\n",
    "Now, the whole point of cheating here is to be faster than a real solver, so let's test performance.\n"
   ]
  },
  {
   "cell_type": "code",
   "execution_count": 9,
   "metadata": {},
   "outputs": [],
   "source": [
    "for m in su.SOLVERS:\n",
    "    solver = su.SudokuSolver(method=m)\n",
    "    pt.run_tests(solver, m)"
   ]
  },
  {
   "cell_type": "code",
   "execution_count": 10,
   "metadata": {},
   "outputs": [
    {
     "ename": "NameError",
     "evalue": "name 'method' is not defined",
     "output_type": "error",
     "traceback": [
      "\u001b[0;31m---------------------------------------------------------------------------\u001b[0m",
      "\u001b[0;31mNameError\u001b[0m                                 Traceback (most recent call last)",
      "\u001b[0;32m<ipython-input-10-6b248e8335b3>\u001b[0m in \u001b[0;36m<module>\u001b[0;34m\u001b[0m\n\u001b[1;32m      1\u001b[0m \u001b[0mall_methods\u001b[0m \u001b[0;34m=\u001b[0m \u001b[0mlist\u001b[0m\u001b[0;34m(\u001b[0m\u001b[0mpt\u001b[0m\u001b[0;34m.\u001b[0m\u001b[0mget_solver_labels\u001b[0m\u001b[0;34m(\u001b[0m\u001b[0;34m)\u001b[0m\u001b[0;34m)\u001b[0m\u001b[0;34m\u001b[0m\u001b[0;34m\u001b[0m\u001b[0m\n\u001b[0;32m----> 2\u001b[0;31m \u001b[0mall_methods\u001b[0m\u001b[0;34m.\u001b[0m\u001b[0mappend\u001b[0m\u001b[0;34m(\u001b[0m\u001b[0mmethod\u001b[0m\u001b[0;34m)\u001b[0m\u001b[0;34m\u001b[0m\u001b[0;34m\u001b[0m\u001b[0m\n\u001b[0m\u001b[1;32m      3\u001b[0m \u001b[0;34m\u001b[0m\u001b[0m\n\u001b[1;32m      4\u001b[0m \u001b[0msolver\u001b[0m \u001b[0;34m=\u001b[0m \u001b[0mCheatingSolver\u001b[0m\u001b[0;34m(\u001b[0m\u001b[0;34m)\u001b[0m\u001b[0;34m\u001b[0m\u001b[0;34m\u001b[0m\u001b[0m\n\u001b[1;32m      5\u001b[0m \u001b[0mpt\u001b[0m\u001b[0;34m.\u001b[0m\u001b[0mrun_tests\u001b[0m\u001b[0;34m(\u001b[0m\u001b[0msolver\u001b[0m\u001b[0;34m)\u001b[0m\u001b[0;34m\u001b[0m\u001b[0;34m\u001b[0m\u001b[0m\n",
      "\u001b[0;31mNameError\u001b[0m: name 'method' is not defined"
     ]
    }
   ],
   "source": [
    "all_methods = list(pt.get_solver_labels())\n",
    "all_methods.append(method)\n",
    "\n",
    "solver = CheatingSolver()\n",
    "pt.run_tests(solver)\n",
    "# show_results(pt, axis=1)\n",
    "df = pd.DataFrame(pt.get_test_results())\n",
    "df"
   ]
  },
  {
   "cell_type": "markdown",
   "metadata": {},
   "source": [
    "## Diversion #3: Catching Cheats\n",
    "\n",
    "To prevent the new cheat we basically need to compare the puzzle with a copy of the original. That way we can detect that the starting clues have been over written.\n",
    "\n",
    "We can't do this in the `SudokuPuzzle` itself. Python doesn't really have `private` attributes, [more a naming convention](https://docs.python.org/3/tutorial/classes.html#tut-private) that signals \"hey, you're not supposed to muck around with this\", but we've already seen that we can pretty much ignore that and modify the class's internals. And since we're trying to guard against cheating we can assume an attacker will happily ignore convention.\n",
    "\n",
    "If we assume that the caller (test harness) can be trusted then we can let the caller verify that the original puzzle is OK. We'll just need a function that confirms if the starting clues in one puzzle also exist in the second.\n"
   ]
  },
  {
   "cell_type": "code",
   "execution_count": 11,
   "metadata": {},
   "outputs": [],
   "source": [
    "def has_same_clues(a, b):\n",
    "    \"\"\"Returns true if the non empty cells in a have the same value in b\"\"\"\n",
    "    if a.max_value != b.max_value:\n",
    "        return False\n",
    "    \n",
    "    for i in range(a.max_value):\n",
    "        for j in range(a.max_value):\n",
    "            if not a.is_empty(i, j) and a.get(i, j) != b.get(i, j):\n",
    "                return False\n",
    "    return True"
   ]
  },
  {
   "cell_type": "code",
   "execution_count": 12,
   "metadata": {},
   "outputs": [
    {
     "data": {
      "text/plain": [
       "True"
      ]
     },
     "execution_count": 12,
     "metadata": {},
     "output_type": "execute_result"
    }
   ],
   "source": [
    "puzzle = su.SudokuPuzzle(starting_grid=su.from_string(su.SAMPLE_PUZZLES[-1]['puzzle']))\n",
    "original = copy.deepcopy(puzzle)\n",
    "has_same_clues(original, puzzle)"
   ]
  },
  {
   "cell_type": "code",
   "execution_count": 13,
   "metadata": {},
   "outputs": [
    {
     "data": {
      "text/plain": [
       "True"
      ]
     },
     "execution_count": 13,
     "metadata": {},
     "output_type": "execute_result"
    }
   ],
   "source": [
    "solver.solve(puzzle)\n",
    "puzzle.is_solved()"
   ]
  },
  {
   "cell_type": "code",
   "execution_count": 14,
   "metadata": {},
   "outputs": [
    {
     "data": {
      "text/plain": [
       "True"
      ]
     },
     "execution_count": 14,
     "metadata": {},
     "output_type": "execute_result"
    }
   ],
   "source": [
    "has_same_clues(original, puzzle)"
   ]
  },
  {
   "cell_type": "markdown",
   "metadata": {},
   "source": [
    "Putting it all together, let's ~~monkey patch~~ switch on anti-cheat checking and make sure it throws away test results if the solver has cheated."
   ]
  },
  {
   "cell_type": "code",
   "execution_count": 15,
   "metadata": {},
   "outputs": [
    {
     "data": {
      "text/html": [
       "<style  type=\"text/css\" >\n",
       "    #T_339091bc_fa75_11ea_905a_8c85903d48d1row0_col3 {\n",
       "            background-color:  red;\n",
       "        }    #T_339091bc_fa75_11ea_905a_8c85903d48d1row1_col3 {\n",
       "            background-color:  red;\n",
       "        }    #T_339091bc_fa75_11ea_905a_8c85903d48d1row2_col3 {\n",
       "            background-color:  red;\n",
       "        }    #T_339091bc_fa75_11ea_905a_8c85903d48d1row3_col3 {\n",
       "            background-color:  red;\n",
       "        }    #T_339091bc_fa75_11ea_905a_8c85903d48d1row4_col3 {\n",
       "            background-color:  red;\n",
       "        }    #T_339091bc_fa75_11ea_905a_8c85903d48d1row5_col3 {\n",
       "            background-color:  red;\n",
       "        }    #T_339091bc_fa75_11ea_905a_8c85903d48d1row6_col3 {\n",
       "            background-color:  red;\n",
       "        }    #T_339091bc_fa75_11ea_905a_8c85903d48d1row7_col3 {\n",
       "            background-color:  red;\n",
       "        }</style><table id=\"T_339091bc_fa75_11ea_905a_8c85903d48d1\" ><thead>    <tr>        <th class=\"blank level0\" ></th>        <th class=\"col_heading level0 col0\" >label</th>        <th class=\"col_heading level0 col1\" >level</th>        <th class=\"col_heading level0 col2\" >starting_clues</th>        <th class=\"col_heading level0 col3\" >CheatingSolver</th>        <th class=\"col_heading level0 col4\" >backtracking</th>        <th class=\"col_heading level0 col5\" >constraintpropogation</th>        <th class=\"col_heading level0 col6\" >deductive</th>        <th class=\"col_heading level0 col7\" >sat</th>        <th class=\"col_heading level0 col8\" >SudokuSolver</th>    </tr></thead><tbody>\n",
       "                <tr>\n",
       "                        <th id=\"T_339091bc_fa75_11ea_905a_8c85903d48d1level0_row0\" class=\"row_heading level0 row0\" >0</th>\n",
       "                        <td id=\"T_339091bc_fa75_11ea_905a_8c85903d48d1row0_col0\" class=\"data row0 col0\" >SMH 1</td>\n",
       "                        <td id=\"T_339091bc_fa75_11ea_905a_8c85903d48d1row0_col1\" class=\"data row0 col1\" >Kids</td>\n",
       "                        <td id=\"T_339091bc_fa75_11ea_905a_8c85903d48d1row0_col2\" class=\"data row0 col2\" >31</td>\n",
       "                        <td id=\"T_339091bc_fa75_11ea_905a_8c85903d48d1row0_col3\" class=\"data row0 col3\" >None</td>\n",
       "                        <td id=\"T_339091bc_fa75_11ea_905a_8c85903d48d1row0_col4\" class=\"data row0 col4\" >0.00383</td>\n",
       "                        <td id=\"T_339091bc_fa75_11ea_905a_8c85903d48d1row0_col5\" class=\"data row0 col5\" >0.00167</td>\n",
       "                        <td id=\"T_339091bc_fa75_11ea_905a_8c85903d48d1row0_col6\" class=\"data row0 col6\" >0.00166</td>\n",
       "                        <td id=\"T_339091bc_fa75_11ea_905a_8c85903d48d1row0_col7\" class=\"data row0 col7\" >0.0173</td>\n",
       "                        <td id=\"T_339091bc_fa75_11ea_905a_8c85903d48d1row0_col8\" class=\"data row0 col8\" >0.0259</td>\n",
       "            </tr>\n",
       "            <tr>\n",
       "                        <th id=\"T_339091bc_fa75_11ea_905a_8c85903d48d1level0_row1\" class=\"row_heading level0 row1\" >1</th>\n",
       "                        <td id=\"T_339091bc_fa75_11ea_905a_8c85903d48d1row1_col0\" class=\"data row1 col0\" >SMH 2</td>\n",
       "                        <td id=\"T_339091bc_fa75_11ea_905a_8c85903d48d1row1_col1\" class=\"data row1 col1\" >Easy</td>\n",
       "                        <td id=\"T_339091bc_fa75_11ea_905a_8c85903d48d1row1_col2\" class=\"data row1 col2\" >24</td>\n",
       "                        <td id=\"T_339091bc_fa75_11ea_905a_8c85903d48d1row1_col3\" class=\"data row1 col3\" >None</td>\n",
       "                        <td id=\"T_339091bc_fa75_11ea_905a_8c85903d48d1row1_col4\" class=\"data row1 col4\" >0.2</td>\n",
       "                        <td id=\"T_339091bc_fa75_11ea_905a_8c85903d48d1row1_col5\" class=\"data row1 col5\" >0.00196</td>\n",
       "                        <td id=\"T_339091bc_fa75_11ea_905a_8c85903d48d1row1_col6\" class=\"data row1 col6\" >0.00311</td>\n",
       "                        <td id=\"T_339091bc_fa75_11ea_905a_8c85903d48d1row1_col7\" class=\"data row1 col7\" >0.017</td>\n",
       "                        <td id=\"T_339091bc_fa75_11ea_905a_8c85903d48d1row1_col8\" class=\"data row1 col8\" >0.0217</td>\n",
       "            </tr>\n",
       "            <tr>\n",
       "                        <th id=\"T_339091bc_fa75_11ea_905a_8c85903d48d1level0_row2\" class=\"row_heading level0 row2\" >2</th>\n",
       "                        <td id=\"T_339091bc_fa75_11ea_905a_8c85903d48d1row2_col0\" class=\"data row2 col0\" >KTH 1</td>\n",
       "                        <td id=\"T_339091bc_fa75_11ea_905a_8c85903d48d1row2_col1\" class=\"data row2 col1\" >Easy</td>\n",
       "                        <td id=\"T_339091bc_fa75_11ea_905a_8c85903d48d1row2_col2\" class=\"data row2 col2\" >30</td>\n",
       "                        <td id=\"T_339091bc_fa75_11ea_905a_8c85903d48d1row2_col3\" class=\"data row2 col3\" >None</td>\n",
       "                        <td id=\"T_339091bc_fa75_11ea_905a_8c85903d48d1row2_col4\" class=\"data row2 col4\" >0.0112</td>\n",
       "                        <td id=\"T_339091bc_fa75_11ea_905a_8c85903d48d1row2_col5\" class=\"data row2 col5\" >0.00142</td>\n",
       "                        <td id=\"T_339091bc_fa75_11ea_905a_8c85903d48d1row2_col6\" class=\"data row2 col6\" >0.00152</td>\n",
       "                        <td id=\"T_339091bc_fa75_11ea_905a_8c85903d48d1row2_col7\" class=\"data row2 col7\" >0.0168</td>\n",
       "                        <td id=\"T_339091bc_fa75_11ea_905a_8c85903d48d1row2_col8\" class=\"data row2 col8\" >0.0188</td>\n",
       "            </tr>\n",
       "            <tr>\n",
       "                        <th id=\"T_339091bc_fa75_11ea_905a_8c85903d48d1level0_row3\" class=\"row_heading level0 row3\" >3</th>\n",
       "                        <td id=\"T_339091bc_fa75_11ea_905a_8c85903d48d1row3_col0\" class=\"data row3 col0\" >Rico Alan Heart</td>\n",
       "                        <td id=\"T_339091bc_fa75_11ea_905a_8c85903d48d1row3_col1\" class=\"data row3 col1\" >Easy</td>\n",
       "                        <td id=\"T_339091bc_fa75_11ea_905a_8c85903d48d1row3_col2\" class=\"data row3 col2\" >22</td>\n",
       "                        <td id=\"T_339091bc_fa75_11ea_905a_8c85903d48d1row3_col3\" class=\"data row3 col3\" >None</td>\n",
       "                        <td id=\"T_339091bc_fa75_11ea_905a_8c85903d48d1row3_col4\" class=\"data row3 col4\" >0.0686</td>\n",
       "                        <td id=\"T_339091bc_fa75_11ea_905a_8c85903d48d1row3_col5\" class=\"data row3 col5\" >0.0206</td>\n",
       "                        <td id=\"T_339091bc_fa75_11ea_905a_8c85903d48d1row3_col6\" class=\"data row3 col6\" >0.00644</td>\n",
       "                        <td id=\"T_339091bc_fa75_11ea_905a_8c85903d48d1row3_col7\" class=\"data row3 col7\" >0.0169</td>\n",
       "                        <td id=\"T_339091bc_fa75_11ea_905a_8c85903d48d1row3_col8\" class=\"data row3 col8\" >0.0208</td>\n",
       "            </tr>\n",
       "            <tr>\n",
       "                        <th id=\"T_339091bc_fa75_11ea_905a_8c85903d48d1level0_row4\" class=\"row_heading level0 row4\" >4</th>\n",
       "                        <td id=\"T_339091bc_fa75_11ea_905a_8c85903d48d1row4_col0\" class=\"data row4 col0\" >SMH 3</td>\n",
       "                        <td id=\"T_339091bc_fa75_11ea_905a_8c85903d48d1row4_col1\" class=\"data row4 col1\" >Moderate</td>\n",
       "                        <td id=\"T_339091bc_fa75_11ea_905a_8c85903d48d1row4_col2\" class=\"data row4 col2\" >26</td>\n",
       "                        <td id=\"T_339091bc_fa75_11ea_905a_8c85903d48d1row4_col3\" class=\"data row4 col3\" >None</td>\n",
       "                        <td id=\"T_339091bc_fa75_11ea_905a_8c85903d48d1row4_col4\" class=\"data row4 col4\" >0.0744</td>\n",
       "                        <td id=\"T_339091bc_fa75_11ea_905a_8c85903d48d1row4_col5\" class=\"data row4 col5\" >0.0193</td>\n",
       "                        <td id=\"T_339091bc_fa75_11ea_905a_8c85903d48d1row4_col6\" class=\"data row4 col6\" >0.027</td>\n",
       "                        <td id=\"T_339091bc_fa75_11ea_905a_8c85903d48d1row4_col7\" class=\"data row4 col7\" >0.0173</td>\n",
       "                        <td id=\"T_339091bc_fa75_11ea_905a_8c85903d48d1row4_col8\" class=\"data row4 col8\" >0.0177</td>\n",
       "            </tr>\n",
       "            <tr>\n",
       "                        <th id=\"T_339091bc_fa75_11ea_905a_8c85903d48d1level0_row5\" class=\"row_heading level0 row5\" >5</th>\n",
       "                        <td id=\"T_339091bc_fa75_11ea_905a_8c85903d48d1row5_col0\" class=\"data row5 col0\" >SMH 4</td>\n",
       "                        <td id=\"T_339091bc_fa75_11ea_905a_8c85903d48d1row5_col1\" class=\"data row5 col1\" >Hard</td>\n",
       "                        <td id=\"T_339091bc_fa75_11ea_905a_8c85903d48d1row5_col2\" class=\"data row5 col2\" >22</td>\n",
       "                        <td id=\"T_339091bc_fa75_11ea_905a_8c85903d48d1row5_col3\" class=\"data row5 col3\" >None</td>\n",
       "                        <td id=\"T_339091bc_fa75_11ea_905a_8c85903d48d1row5_col4\" class=\"data row5 col4\" >1.34</td>\n",
       "                        <td id=\"T_339091bc_fa75_11ea_905a_8c85903d48d1row5_col5\" class=\"data row5 col5\" >0.0242</td>\n",
       "                        <td id=\"T_339091bc_fa75_11ea_905a_8c85903d48d1row5_col6\" class=\"data row5 col6\" >0.0166</td>\n",
       "                        <td id=\"T_339091bc_fa75_11ea_905a_8c85903d48d1row5_col7\" class=\"data row5 col7\" >0.0171</td>\n",
       "                        <td id=\"T_339091bc_fa75_11ea_905a_8c85903d48d1row5_col8\" class=\"data row5 col8\" >0.0174</td>\n",
       "            </tr>\n",
       "            <tr>\n",
       "                        <th id=\"T_339091bc_fa75_11ea_905a_8c85903d48d1level0_row6\" class=\"row_heading level0 row6\" >6</th>\n",
       "                        <td id=\"T_339091bc_fa75_11ea_905a_8c85903d48d1row6_col0\" class=\"data row6 col0\" >SMH 5</td>\n",
       "                        <td id=\"T_339091bc_fa75_11ea_905a_8c85903d48d1row6_col1\" class=\"data row6 col1\" >Hard</td>\n",
       "                        <td id=\"T_339091bc_fa75_11ea_905a_8c85903d48d1row6_col2\" class=\"data row6 col2\" >25</td>\n",
       "                        <td id=\"T_339091bc_fa75_11ea_905a_8c85903d48d1row6_col3\" class=\"data row6 col3\" >None</td>\n",
       "                        <td id=\"T_339091bc_fa75_11ea_905a_8c85903d48d1row6_col4\" class=\"data row6 col4\" >0.562</td>\n",
       "                        <td id=\"T_339091bc_fa75_11ea_905a_8c85903d48d1row6_col5\" class=\"data row6 col5\" >0.0237</td>\n",
       "                        <td id=\"T_339091bc_fa75_11ea_905a_8c85903d48d1row6_col6\" class=\"data row6 col6\" >0.0125</td>\n",
       "                        <td id=\"T_339091bc_fa75_11ea_905a_8c85903d48d1row6_col7\" class=\"data row6 col7\" >0.019</td>\n",
       "                        <td id=\"T_339091bc_fa75_11ea_905a_8c85903d48d1row6_col8\" class=\"data row6 col8\" >0.0182</td>\n",
       "            </tr>\n",
       "            <tr>\n",
       "                        <th id=\"T_339091bc_fa75_11ea_905a_8c85903d48d1level0_row7\" class=\"row_heading level0 row7\" >7</th>\n",
       "                        <td id=\"T_339091bc_fa75_11ea_905a_8c85903d48d1row7_col0\" class=\"data row7 col0\" >Greg [2017]</td>\n",
       "                        <td id=\"T_339091bc_fa75_11ea_905a_8c85903d48d1row7_col1\" class=\"data row7 col1\" >Hard</td>\n",
       "                        <td id=\"T_339091bc_fa75_11ea_905a_8c85903d48d1row7_col2\" class=\"data row7 col2\" >21</td>\n",
       "                        <td id=\"T_339091bc_fa75_11ea_905a_8c85903d48d1row7_col3\" class=\"data row7 col3\" >None</td>\n",
       "                        <td id=\"T_339091bc_fa75_11ea_905a_8c85903d48d1row7_col4\" class=\"data row7 col4\" >0.565</td>\n",
       "                        <td id=\"T_339091bc_fa75_11ea_905a_8c85903d48d1row7_col5\" class=\"data row7 col5\" >0.037</td>\n",
       "                        <td id=\"T_339091bc_fa75_11ea_905a_8c85903d48d1row7_col6\" class=\"data row7 col6\" >0.0406</td>\n",
       "                        <td id=\"T_339091bc_fa75_11ea_905a_8c85903d48d1row7_col7\" class=\"data row7 col7\" >0.0194</td>\n",
       "                        <td id=\"T_339091bc_fa75_11ea_905a_8c85903d48d1row7_col8\" class=\"data row7 col8\" >0.0244</td>\n",
       "            </tr>\n",
       "    </tbody></table>"
      ],
      "text/plain": [
       "<pandas.io.formats.style.Styler at 0x1069d7b10>"
      ]
     },
     "execution_count": 15,
     "metadata": {},
     "output_type": "execute_result"
    }
   ],
   "source": [
    "pt.run_tests(solver)\n",
    "df = pd.DataFrame(pt.get_test_results())\n",
    "df.style.highlight_null()"
   ]
  },
  {
   "cell_type": "markdown",
   "metadata": {},
   "source": [
    "OK! Our cheating solver has had no results recorded for it, because the answer it gives does not match the starting clues!\n",
    "\n",
    "There are probably ways to defeat these checks, particularly in a language like Python where \"monkey patching\" is a thing and everything is dynamic. That might be a fun way to learn more about the internals of Python, but for now I'm declaring this \"done\" and moving on to the next puzzle..."
   ]
  }
 ],
 "metadata": {
  "kernelspec": {
   "display_name": "Python 3",
   "language": "python",
   "name": "python3"
  },
  "language_info": {
   "codemirror_mode": {
    "name": "ipython",
    "version": 3
   },
   "file_extension": ".py",
   "mimetype": "text/x-python",
   "name": "python",
   "nbconvert_exporter": "python",
   "pygments_lexer": "ipython3",
   "version": "3.7.4"
  }
 },
 "nbformat": 4,
 "nbformat_minor": 4
}
