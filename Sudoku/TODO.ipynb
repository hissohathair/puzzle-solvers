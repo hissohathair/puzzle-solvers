{
 "cells": [
  {
   "cell_type": "markdown",
   "metadata": {},
   "source": [
    "# Sudoku Solver TODO\n",
    "\n",
    "Objectives:\n",
    "\n",
    "1. Assess effectiveness and performance against different test cases\n",
    " 1. Back tracking\n",
    " 2. Back tracking + constraint propogation\n",
    " 3. Deductive logic\n",
    " 4. ~~Solution X or Dancing Links?~~\n",
    " 5. Boolean Satisfiability (SAT) solver\n",
    "3. Learn some more Pandas + Matplotlib (draw some pretty graphs)\n",
    "4. ~~Assess performance against other implementations~~\n"
   ]
  },
  {
   "cell_type": "markdown",
   "metadata": {},
   "source": [
    "Scratch.txt\n",
    "\n",
    "#10: Rico Alan Border #1\n",
    "Greg: Solved in 3 ms, 59 tests, 0 backtracks\n",
    "Me: Solved in 3 ms\n",
    "\n",
    "#13: Rico Alan #3\n",
    "Greg: Invalid board!\n",
    "Me: Solved in 1.771 s\n",
    "\n",
    "#11: Rico Alan #4\n",
    "Greg: Solved in 30 ms, 5396 tests, 2371 backtracks\n",
    "Me: Solved in 26 ms\n",
    "\n",
    "#12: Qassim Hamza\n",
    "Greg: Solved in 15 ms\n",
    "Me: Solved in 59 ms\n",
    "\n",
    "#14: World's Hardest Sudoku 2012\n",
    "Greg: Solved in 21 ms\n",
    "Me: Solved in 30 ms\n",
    "\n",
    "#15: AI escargot\n",
    "Greg: Solved in 1 ms, 187 tests, 12 backtracks\n",
    "Me: Solved in 4 ms"
   ]
  }
 ],
 "metadata": {
  "kernelspec": {
   "display_name": "Python 3",
   "language": "python",
   "name": "python3"
  },
  "language_info": {
   "codemirror_mode": {
    "name": "ipython",
    "version": 3
   },
   "file_extension": ".py",
   "mimetype": "text/x-python",
   "name": "python",
   "nbconvert_exporter": "python",
   "pygments_lexer": "ipython3",
   "version": "3.7.4"
  }
 },
 "nbformat": 4,
 "nbformat_minor": 4
}
