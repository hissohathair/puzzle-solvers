{
 "cells": [
  {
   "cell_type": "code",
   "execution_count": 14,
   "metadata": {},
   "outputs": [
    {
     "data": {
      "text/html": [
       "\n",
       "    <style type=\"text/css\">\n",
       "    .sudoku table {\n",
       "        border: 3px solid red;\n",
       "        text-align: center;\n",
       "        vertical-align: middle;\n",
       "    }\n",
       "\n",
       "    .sudoku td {\n",
       "        width: 40px;\n",
       "        height: 40px;\n",
       "        border: 1px solid #F00;\n",
       "    }\n",
       "\n",
       "    .sudoku td:nth-of-type(3n) {\n",
       "        border-right: 3px solid red;\n",
       "    }\n",
       "\n",
       "    .sudoku tr:nth-of-type(3n) td {\n",
       "        border-bottom: 3px solid red;\n",
       "    }\n",
       "\n",
       "    .sudoku.solved table {\n",
       "        border: 3px solid green;\n",
       "    }\n",
       "\n",
       "    .sudoku.solved td {\n",
       "        border: 1px solid green;\n",
       "    }\n",
       "\n",
       "    .sudoku.solved td:nth-of-type(3n) {\n",
       "        border-right: 3px solid green;\n",
       "    }\n",
       "\n",
       "    .sudoku.solved tr:nth-of-type(3n) td {\n",
       "        border-bottom: 3px solid green;\n",
       "    }\n",
       "\n",
       "    </style>\n"
      ],
      "text/plain": [
       "<IPython.core.display.HTML object>"
      ]
     },
     "metadata": {},
     "output_type": "display_data"
    }
   ],
   "source": [
    "import sys\n",
    "sys.path.insert(-1, '..')\n",
    "\n",
    "import copy\n",
    "\n",
    "import puzzle.sudoku as su\n",
    "from puzzle.jupyter_helpers import *\n",
    "\n",
    "display(HTML(SUDOKU_CSS))\n",
    "\n",
    "def solve_side_by_side(example, solver_method, **args):\n",
    "    puzzle = su.SudokuPuzzle(starting_grid=su.from_string(example))\n",
    "    original = copy.deepcopy(puzzle)\n",
    "    solver_method(puzzle)\n",
    "    print_2_puzzles(original, puzzle, **args)\n",
    "    return puzzle"
   ]
  },
  {
   "cell_type": "markdown",
   "metadata": {},
   "source": [
    "# Sudoku Moderate (SMH Spectrum Nov 28-29, 2020)\n"
   ]
  },
  {
   "cell_type": "code",
   "execution_count": 15,
   "metadata": {},
   "outputs": [
    {
     "data": {
      "text/html": [
       "<table class=\"sudoku\"><tr><td> </td><td> </td><td>1</td><td> </td><td> </td><td> </td><td>7</td><td> </td><td> </td></tr><tr><td> </td><td> </td><td> </td><td> </td><td>7</td><td> </td><td>2</td><td> </td><td>3</td></tr><tr><td> </td><td> </td><td> </td><td> </td><td>9</td><td> </td><td> </td><td> </td><td>6</td></tr><tr><td> </td><td> </td><td>2</td><td> </td><td>3</td><td> </td><td> </td><td>4</td><td> </td></tr><tr><td> </td><td> </td><td> </td><td> </td><td>6</td><td>5</td><td>9</td><td> </td><td> </td></tr><tr><td> </td><td>8</td><td> </td><td>9</td><td> </td><td>7</td><td> </td><td> </td><td> </td></tr><tr><td> </td><td>3</td><td> </td><td> </td><td> </td><td> </td><td> </td><td> </td><td>5</td></tr><tr><td> </td><td>9</td><td>5</td><td> </td><td> </td><td>3</td><td> </td><td>7</td><td>8</td></tr><tr><td> </td><td>4</td><td> </td><td> </td><td> </td><td> </td><td>1</td><td> </td><td> </td></tr></table>"
      ],
      "text/plain": [
       "<IPython.core.display.HTML object>"
      ]
     },
     "metadata": {},
     "output_type": "display_data"
    }
   ],
   "source": [
    "example = '..1...7......7.2.3....9...6..2.3..4.....659...8.9.7....3......5.95..3.78.4....1..'\n",
    "puzzle = su.SudokuPuzzle(starting_grid=su.from_string(example))\n",
    "display(HTML(puzzle.as_html()))"
   ]
  },
  {
   "cell_type": "code",
   "execution_count": 21,
   "metadata": {},
   "outputs": [
    {
     "data": {
      "text/html": [
       "<table><tr><td><table class=\"sudoku\"><tr><td> </td><td> </td><td>1</td><td> </td><td> </td><td> </td><td>7</td><td> </td><td>{9, 4}</td></tr><tr><td> </td><td>{5, 6}</td><td> </td><td> </td><td>7</td><td> </td><td>2</td><td> </td><td>3</td></tr><tr><td> </td><td> </td><td> </td><td> </td><td>9</td><td> </td><td> </td><td> </td><td>6</td></tr><tr><td> </td><td> </td><td>2</td><td>{8, 1}</td><td>3</td><td>{8, 1}</td><td> </td><td>4</td><td>{1, 7}</td></tr><tr><td> </td><td>{1, 7}</td><td> </td><td> </td><td>6</td><td>5</td><td>9</td><td> </td><td> </td></tr><tr><td> </td><td>8</td><td> </td><td>9</td><td> </td><td>7</td><td> </td><td> </td><td>{1, 2}</td></tr><tr><td> </td><td>3</td><td> </td><td> </td><td> </td><td> </td><td>{4, 6}</td><td> </td><td>5</td></tr><tr><td> </td><td>9</td><td>5</td><td> </td><td> </td><td>3</td><td>{4, 6}</td><td>7</td><td>8</td></tr><tr><td> </td><td>4</td><td> </td><td> </td><td> </td><td> </td><td>1</td><td> </td><td>{9, 2}</td></tr></table></td><td><table class=\"sudoku\"><tr><td> </td><td> </td><td>1</td><td> </td><td> </td><td> </td><td>7</td><td> </td><td>{9, 4}</td></tr><tr><td> </td><td>{5, 6}</td><td>9</td><td> </td><td>7</td><td> </td><td>2</td><td> </td><td>3</td></tr><tr><td> </td><td> </td><td> </td><td> </td><td>9</td><td> </td><td> </td><td> </td><td>6</td></tr><tr><td>9</td><td> </td><td>2</td><td>{8, 1}</td><td>3</td><td>{8, 1}</td><td> </td><td>4</td><td>{1, 7}</td></tr><tr><td> </td><td>{1, 7}</td><td> </td><td> </td><td>6</td><td>5</td><td>9</td><td> </td><td> </td></tr><tr><td> </td><td>8</td><td>{4, 6}</td><td>9</td><td> </td><td>7</td><td>3</td><td> </td><td>{1, 2}</td></tr><tr><td> </td><td>3</td><td> </td><td> </td><td> </td><td> </td><td>{4, 6}</td><td> </td><td>5</td></tr><tr><td> </td><td>9</td><td>5</td><td> </td><td> </td><td>3</td><td>{4, 6}</td><td>7</td><td>8</td></tr><tr><td> </td><td>4</td><td> </td><td> </td><td> </td><td> </td><td>1</td><td>3</td><td>{9, 2}</td></tr></table></td></tr></table>"
      ],
      "text/plain": [
       "<IPython.core.display.HTML object>"
      ]
     },
     "metadata": {},
     "output_type": "display_data"
    }
   ],
   "source": [
    "solver = su.DeductiveSolver(use_backtracking=False)\n",
    "puzzle = solve_side_by_side(example, solver.solve_two_out_of_three, show_possibilities=2)"
   ]
  },
  {
   "cell_type": "code",
   "execution_count": null,
   "metadata": {},
   "outputs": [],
   "source": []
  }
 ],
 "metadata": {
  "kernelspec": {
   "display_name": "Python 3",
   "language": "python",
   "name": "python3"
  },
  "language_info": {
   "codemirror_mode": {
    "name": "ipython",
    "version": 3
   },
   "file_extension": ".py",
   "mimetype": "text/x-python",
   "name": "python",
   "nbconvert_exporter": "python",
   "pygments_lexer": "ipython3",
   "version": "3.8.5"
  }
 },
 "nbformat": 4,
 "nbformat_minor": 4
}
