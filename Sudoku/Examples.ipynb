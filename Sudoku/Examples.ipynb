{
 "cells": [
  {
   "cell_type": "code",
   "execution_count": 1,
   "metadata": {},
   "outputs": [
    {
     "data": {
      "text/html": [
       "\n",
       "    <style type=\"text/css\">\n",
       "    .sudoku table {\n",
       "        border: 3px solid red;\n",
       "        text-align: center;\n",
       "        vertical-align: middle;\n",
       "    }\n",
       "\n",
       "    .sudoku td {\n",
       "        width: 40px;\n",
       "        height: 40px;\n",
       "        border: 1px solid #F00;\n",
       "    }\n",
       "\n",
       "    .sudoku td:nth-of-type(3n) {\n",
       "        border-right: 3px solid red;\n",
       "    }\n",
       "\n",
       "    .sudoku tr:nth-of-type(3n) td {\n",
       "        border-bottom: 3px solid red;\n",
       "    }\n",
       "\n",
       "    .sudoku.solved table {\n",
       "        border: 3px solid green;\n",
       "    }\n",
       "\n",
       "    .sudoku.solved td {\n",
       "        border: 1px solid green;\n",
       "    }\n",
       "\n",
       "    .sudoku.solved td:nth-of-type(3n) {\n",
       "        border-right: 3px solid green;\n",
       "    }\n",
       "\n",
       "    .sudoku.solved tr:nth-of-type(3n) td {\n",
       "        border-bottom: 3px solid green;\n",
       "    }\n",
       "\n",
       "    </style>\n"
      ],
      "text/plain": [
       "<IPython.core.display.HTML object>"
      ]
     },
     "metadata": {},
     "output_type": "display_data"
    }
   ],
   "source": [
    "import sys\n",
    "sys.path.insert(-1, '..')\n",
    "\n",
    "import copy\n",
    "\n",
    "import puzzle.sudoku as su\n",
    "from puzzle.jupyter_helpers import *\n",
    "\n",
    "display(HTML(SUDOKU_CSS))\n",
    "\n",
    "def solve_side_by_side(example, solver_method, **args):\n",
    "    puzzle = su.SudokuPuzzle(starting_grid=su.from_string(example))\n",
    "    original = copy.deepcopy(puzzle)\n",
    "    solver_method(puzzle)\n",
    "    print_2_puzzles(original, puzzle, **args)\n",
    "    return puzzle"
   ]
  },
  {
   "cell_type": "markdown",
   "metadata": {},
   "source": [
    "# Sudoku Moderate (SMH Spectrum Nov 28-29, 2020)\n"
   ]
  },
  {
   "cell_type": "code",
   "execution_count": 2,
   "metadata": {},
   "outputs": [
    {
     "data": {
      "text/html": [
       "<table class=\"sudoku\"><tr><td> </td><td> </td><td>1</td><td> </td><td> </td><td> </td><td>7</td><td> </td><td> </td></tr><tr><td> </td><td> </td><td> </td><td> </td><td>7</td><td> </td><td>2</td><td> </td><td>3</td></tr><tr><td> </td><td> </td><td> </td><td> </td><td>9</td><td> </td><td> </td><td> </td><td>6</td></tr><tr><td> </td><td> </td><td>2</td><td> </td><td>3</td><td> </td><td> </td><td>4</td><td> </td></tr><tr><td> </td><td> </td><td> </td><td> </td><td>6</td><td>5</td><td>9</td><td> </td><td> </td></tr><tr><td> </td><td>8</td><td> </td><td>9</td><td> </td><td>7</td><td> </td><td> </td><td> </td></tr><tr><td> </td><td>3</td><td> </td><td> </td><td> </td><td> </td><td> </td><td> </td><td>5</td></tr><tr><td> </td><td>9</td><td>5</td><td> </td><td> </td><td>3</td><td> </td><td>7</td><td>8</td></tr><tr><td> </td><td>4</td><td> </td><td> </td><td> </td><td> </td><td>1</td><td> </td><td> </td></tr></table>"
      ],
      "text/plain": [
       "<IPython.core.display.HTML object>"
      ]
     },
     "metadata": {},
     "output_type": "display_data"
    }
   ],
   "source": [
    "example = '..1...7......7.2.3....9...6..2.3..4.....659...8.9.7....3......5.95..3.78.4....1..'\n",
    "puzzle = su.SudokuPuzzle(starting_grid=su.from_string(example))\n",
    "display(HTML(puzzle.as_html()))"
   ]
  },
  {
   "cell_type": "code",
   "execution_count": 3,
   "metadata": {},
   "outputs": [
    {
     "name": "stderr",
     "output_type": "stream",
     "text": [
      "Writing 9 at (3,0) because that's the only available cell for row 3\n",
      "Writing 3 at (8,7) because that's the only available cell for row 8\n",
      "Writing 9 at (1,2) because that's the only available cell for column 2\n",
      "Writing 3 at (5,6) because that's the only available cell for column 6\n",
      "Writing 4 at (0, 8) because 4 can't go anywhere else in column 8\n",
      "Writing 9 at (8, 8) because 9 can't go anywhere else in column 8\n",
      "Writing 9 at (0, 7) because 9 can't go anywhere else in this box\n",
      "Writing 9 at (6, 5) because 9 can't go anywhere else in this box\n",
      "Writing 2 at (6, 7) because 2 can't go anywhere else in this box\n",
      "Writing 6 at (5, 7) because 6 can't go anywhere else in column 7\n",
      "Writing 6 at (3, 1) because 6 can't go anywhere else in this box\n",
      "Writing 5 at (3, 6) because 5 can't go anywhere else in this box\n",
      "Writing 8 at (4, 7) because 8 can't go anywhere else in this box\n",
      "Writing 7 at (3, 8) because 7 can't go anywhere else in row 3\n",
      "Writing 5 at (5, 0) because 5 can't go anywhere else in row 5\n",
      "Writing 1 at (4, 1) because 1 can't go anywhere else in column 1\n",
      "Writing 7 at (2, 1) because 7 can't go anywhere else in column 1\n",
      "Writing 8 at (2, 6) because 8 can't go anywhere else in column 6\n",
      "Writing 1 at (5, 8) because 1 can't go anywhere else in column 8\n",
      "Writing 2 at (4, 8) because 2 can't go anywhere else in column 8\n",
      "Writing 2 at (5, 4) because 2 can't go anywhere else in this box\n",
      "Writing 4 at (4, 3) because 4 can't go anywhere else in this box\n",
      "Writing 4 at (5, 2) because 4 can't go anywhere else in row 5\n",
      "Writing 2 at (0, 1) because 2 can't go anywhere else in column 1\n",
      "Writing 5 at (1, 1) because 5 can't go anywhere else in column 1\n",
      "Writing 5 at (2, 7) because 5 can't go anywhere else in column 7\n",
      "Writing 1 at (1, 7) because 1 can't go anywhere else in this box\n",
      "Writing 3 at (2, 2) because it's the only possible value left for that cell\n",
      "Writing 7 at (4, 2) because it's the only possible value left for that cell\n",
      "Writing 4 at (2, 0) because it's the only possible value left for that cell\n",
      "Writing 3 at (4, 0) because it's the only possible value left for that cell\n",
      "Writing 3 at (0, 3) because 3 can't go anywhere else in row 0\n",
      "Writing 5 at (0, 4) because 5 can't go anywhere else in row 0\n",
      "Writing 4 at (1, 5) because 4 can't go anywhere else in row 1\n",
      "Writing 5 at (8, 3) because 5 can't go anywhere else in row 8\n",
      "Writing 7 at (8, 0) because 7 can't go anywhere else in row 8\n",
      "Writing 2 at (7, 0) because 2 can't go anywhere else in column 0\n",
      "Writing 2 at (2, 3) because 2 can't go anywhere else in column 3\n",
      "Writing 7 at (6, 3) because 7 can't go anywhere else in column 3\n",
      "Writing 2 at (8, 5) because 2 can't go anywhere else in column 5\n",
      "Writing 6 at (0, 5) because 6 can't go anywhere else in column 5\n",
      "Writing 6 at (1, 0) because 6 can't go anywhere else in this box\n",
      "Writing 8 at (1, 3) because 8 can't go anywhere else in this box\n",
      "Writing 1 at (2, 5) because 1 can't go anywhere else in this box\n",
      "Writing 8 at (3, 5) because 8 can't go anywhere else in this box\n",
      "Writing 1 at (3, 3) because 1 can't go anywhere else in this box\n",
      "Writing 1 at (6, 0) because 1 can't go anywhere else in this box\n",
      "Writing 1 at (7, 4) because 1 can't go anywhere else in this box\n",
      "Writing 4 at (6, 4) because 4 can't go anywhere else in this box\n",
      "Writing 6 at (7, 3) because 6 can't go anywhere else in this box\n",
      "Writing 4 at (7, 6) because 4 can't go anywhere else in this box\n",
      "Writing 6 at (6, 6) because 6 can't go anywhere else in this box\n",
      "Writing 8 at (0, 0) because 8 can't go anywhere else in row 0\n",
      "Writing 8 at (6, 2) because 8 can't go anywhere else in row 6\n",
      "Writing 8 at (8, 4) because 8 can't go anywhere else in row 8\n",
      "Writing 6 at (8, 2) because 6 can't go anywhere else in row 8\n"
     ]
    },
    {
     "data": {
      "text/html": [
       "<table><tr><td><table class=\"sudoku\"><tr><td> </td><td> </td><td>1</td><td> </td><td> </td><td> </td><td>7</td><td> </td><td>{9, 4}</td></tr><tr><td> </td><td>{5, 6}</td><td> </td><td> </td><td>7</td><td> </td><td>2</td><td> </td><td>3</td></tr><tr><td> </td><td> </td><td> </td><td> </td><td>9</td><td> </td><td> </td><td> </td><td>6</td></tr><tr><td> </td><td> </td><td>2</td><td>{8, 1}</td><td>3</td><td>{8, 1}</td><td> </td><td>4</td><td>{1, 7}</td></tr><tr><td> </td><td>{1, 7}</td><td> </td><td> </td><td>6</td><td>5</td><td>9</td><td> </td><td> </td></tr><tr><td> </td><td>8</td><td> </td><td>9</td><td> </td><td>7</td><td> </td><td> </td><td>{1, 2}</td></tr><tr><td> </td><td>3</td><td> </td><td> </td><td> </td><td> </td><td>{4, 6}</td><td> </td><td>5</td></tr><tr><td> </td><td>9</td><td>5</td><td> </td><td> </td><td>3</td><td>{4, 6}</td><td>7</td><td>8</td></tr><tr><td> </td><td>4</td><td> </td><td> </td><td> </td><td> </td><td>1</td><td> </td><td>{9, 2}</td></tr></table></td><td><table class=\"sudoku solved\"><tr><td>8</td><td>2</td><td>1</td><td>3</td><td>5</td><td>6</td><td>7</td><td>9</td><td>4</td></tr><tr><td>6</td><td>5</td><td>9</td><td>8</td><td>7</td><td>4</td><td>2</td><td>1</td><td>3</td></tr><tr><td>4</td><td>7</td><td>3</td><td>2</td><td>9</td><td>1</td><td>8</td><td>5</td><td>6</td></tr><tr><td>9</td><td>6</td><td>2</td><td>1</td><td>3</td><td>8</td><td>5</td><td>4</td><td>7</td></tr><tr><td>3</td><td>1</td><td>7</td><td>4</td><td>6</td><td>5</td><td>9</td><td>8</td><td>2</td></tr><tr><td>5</td><td>8</td><td>4</td><td>9</td><td>2</td><td>7</td><td>3</td><td>6</td><td>1</td></tr><tr><td>1</td><td>3</td><td>8</td><td>7</td><td>4</td><td>9</td><td>6</td><td>2</td><td>5</td></tr><tr><td>2</td><td>9</td><td>5</td><td>6</td><td>1</td><td>3</td><td>4</td><td>7</td><td>8</td></tr><tr><td>7</td><td>4</td><td>6</td><td>5</td><td>8</td><td>2</td><td>1</td><td>3</td><td>9</td></tr></table></td></tr></table>"
      ],
      "text/plain": [
       "<IPython.core.display.HTML object>"
      ]
     },
     "metadata": {},
     "output_type": "display_data"
    }
   ],
   "source": [
    "solver = su.DeductiveSolver(use_backtracking=False)\n",
    "puzzle = solve_side_by_side(example, solver.solve, show_possibilities=2)"
   ]
  },
  {
   "cell_type": "code",
   "execution_count": null,
   "metadata": {},
   "outputs": [],
   "source": []
  }
 ],
 "metadata": {
  "kernelspec": {
   "display_name": "Python 3",
   "language": "python",
   "name": "python3"
  },
  "language_info": {
   "codemirror_mode": {
    "name": "ipython",
    "version": 3
   },
   "file_extension": ".py",
   "mimetype": "text/x-python",
   "name": "python",
   "nbconvert_exporter": "python",
   "pygments_lexer": "ipython3",
   "version": "3.8.5"
  }
 },
 "nbformat": 4,
 "nbformat_minor": 4
}
