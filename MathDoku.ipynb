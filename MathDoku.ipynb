{
 "cells": [
  {
   "cell_type": "markdown",
   "metadata": {},
   "source": [
    "# MathDoku Solver\n",
    "\n",
    "Similar to the puzzles published under the KenKen trademark.\n",
    "\n",
    "## Testing the class\n",
    "\n",
    "Have built a `MathDoku` class in [mathdoku](mathdoku.py). Testing with a backtracking solution here...\n"
   ]
  },
  {
   "cell_type": "code",
   "execution_count": 1,
   "metadata": {},
   "outputs": [],
   "source": [
    "import mathdoku as md"
   ]
  },
  {
   "cell_type": "code",
   "execution_count": 2,
   "metadata": {},
   "outputs": [],
   "source": [
    "grid_size = 4\n",
    "cages = [(16, '*', 3), \n",
    "         (7, '+', 3), \n",
    "         (2, '-', 2),\n",
    "         (12, '*', 3),\n",
    "         (2, '/', 2),\n",
    "         (2, '/', 2),\n",
    "         (4, '=', 1)]\n",
    "cage_map = [[0, 0, 1, 1],\n",
    "              [2, 0, 1, 6],\n",
    "              [2, 3, 4, 4],\n",
    "              [3, 3, 5, 5]]\n",
    "\n",
    "answer = [[2, 4, 1, 3],\n",
    "          [1, 2, 3, 4],\n",
    "          [3, 1, 4, 2],\n",
    "          [4, 3, 2, 1]]\n"
   ]
  },
  {
   "cell_type": "code",
   "execution_count": 3,
   "metadata": {},
   "outputs": [],
   "source": [
    "m = md.MathDoku(grid_size=grid_size)\n",
    "m.init_puzzle(cages, cage_map)"
   ]
  },
  {
   "cell_type": "code",
   "execution_count": 4,
   "metadata": {},
   "outputs": [
    {
     "name": "stdout",
     "output_type": "stream",
     "text": [
      "2 4 1 3\n",
      "1 2 3 4\n",
      "3 1 4 2\n",
      "4 3 2 1\n"
     ]
    }
   ],
   "source": [
    "for x in range(grid_size):\n",
    "    for y in range(grid_size):\n",
    "        m.set(x, y, answer[x][y])\n",
    "print(m.as_grid())"
   ]
  },
  {
   "cell_type": "code",
   "execution_count": 5,
   "metadata": {},
   "outputs": [],
   "source": [
    "def backtracker(puzzle, depth=0):\n",
    "    if puzzle.num_empty_cells() == 0:\n",
    "        return True\n",
    "    \n",
    "    x, y = puzzle.find_empty_cell()\n",
    "    for val in puzzle.get_allowed_values(x, y):\n",
    "        try:\n",
    "            puzzle.set(x, y, val)\n",
    "        except ValueError:\n",
    "            continue\n",
    "\n",
    "        if backtracker(puzzle, depth=depth+1):\n",
    "            return True\n",
    "        else:\n",
    "            puzzle.clear(x, y)\n",
    "    return False"
   ]
  },
  {
   "cell_type": "code",
   "execution_count": 6,
   "metadata": {},
   "outputs": [],
   "source": [
    "m = md.MathDoku(grid_size=grid_size)\n",
    "m.init_puzzle(cages, cage_map)"
   ]
  },
  {
   "cell_type": "code",
   "execution_count": 7,
   "metadata": {},
   "outputs": [
    {
     "name": "stdout",
     "output_type": "stream",
     "text": [
      "Cage 0: (16, <function product at 0x1124018c0>, 3); possibilities=[(1, 4, 4), (2, 2, 4)]\n",
      "Cage 1: (7, <built-in function sum>, 3); possibilities=[(1, 2, 4), (1, 3, 3), (2, 2, 3)]\n",
      "Cage 2: (2, <function subtract at 0x112420cb0>, 2); possibilities=[(3, 1), (4, 2)]\n",
      "Cage 3: (12, <function product at 0x1124018c0>, 3); possibilities=[(1, 3, 4), (2, 2, 3)]\n",
      "Cage 4: (2, <function divide at 0x112420560>, 2); possibilities=[(2, 1), (4, 2)]\n",
      "Cage 5: (2, <function divide at 0x112420560>, 2); possibilities=[(2, 1), (4, 2)]\n",
      "Cage 6: (4, <function equals at 0x112420710>, 1); possibilities=[(4,)]\n"
     ]
    }
   ],
   "source": [
    "for i, cage in enumerate(m._cages):\n",
    "    print(f\"Cage {i}: {cage}; possibilities={m._cage_possibilities[i]}\")"
   ]
  },
  {
   "cell_type": "code",
   "execution_count": 38,
   "metadata": {},
   "outputs": [
    {
     "name": "stdout",
     "output_type": "stream",
     "text": [
      "2 4 1 3\n",
      "1 2 3 4\n",
      "3 1 4 2\n",
      "4 3 2 1\n"
     ]
    },
    {
     "data": {
      "text/plain": [
       "True"
      ]
     },
     "execution_count": 38,
     "metadata": {},
     "output_type": "execute_result"
    }
   ],
   "source": [
    "backtracker(m)\n",
    "print(m.as_grid())\n",
    "m.is_solved()"
   ]
  },
  {
   "cell_type": "markdown",
   "metadata": {},
   "source": [
    "## Exploratory Work\n",
    "\n",
    "First question...given a target number, arithmetic operator, and range of digits, can we show all combinations that produce the right target?\n",
    "\n",
    "Starting with addition and multiplication as they're associative and commutative."
   ]
  },
  {
   "cell_type": "code",
   "execution_count": 9,
   "metadata": {},
   "outputs": [],
   "source": [
    "max_digit = 4\n",
    "all_digits = range(1, max_digit+1)"
   ]
  },
  {
   "cell_type": "code",
   "execution_count": 10,
   "metadata": {},
   "outputs": [],
   "source": [
    "target = 7\n",
    "operation = sum\n",
    "num_digits = 3"
   ]
  },
  {
   "cell_type": "code",
   "execution_count": 11,
   "metadata": {},
   "outputs": [
    {
     "data": {
      "text/plain": [
       "[(1, 2, 3), (1, 2, 4), (1, 3, 4), (2, 3, 4)]"
      ]
     },
     "execution_count": 11,
     "metadata": {},
     "output_type": "execute_result"
    }
   ],
   "source": [
    "# First, n choose k (e.g. 6 digits, choose 3)\n",
    "import itertools\n",
    "[x for x in itertools.combinations(all_digits, num_digits)]"
   ]
  },
  {
   "cell_type": "code",
   "execution_count": 12,
   "metadata": {},
   "outputs": [
    {
     "data": {
      "text/plain": [
       "[(1, 2, 4)]"
      ]
     },
     "execution_count": 12,
     "metadata": {},
     "output_type": "execute_result"
    }
   ],
   "source": [
    "# Filter to just those that hit target\n",
    "[x for x in itertools.combinations(all_digits, num_digits) if operation(x) == target]"
   ]
  },
  {
   "cell_type": "code",
   "execution_count": 13,
   "metadata": {},
   "outputs": [
    {
     "data": {
      "text/plain": [
       "[(2, 3, 4)]"
      ]
     },
     "execution_count": 13,
     "metadata": {},
     "output_type": "execute_result"
    }
   ],
   "source": [
    "import numpy\n",
    "target = 24\n",
    "operation = numpy.prod\n",
    "[x for x in itertools.combinations(all_digits, num_digits) if operation(x)==target]"
   ]
  },
  {
   "cell_type": "markdown",
   "metadata": {},
   "source": [
    "## First Complication\n",
    "\n",
    "So far so good but there's a complication: if we use the rules from KenKen then digits can be repeated in a cage (as long as they're not also repeated in a row or column).\n"
   ]
  },
  {
   "cell_type": "code",
   "execution_count": 14,
   "metadata": {},
   "outputs": [
    {
     "data": {
      "text/plain": [
       "[]"
      ]
     },
     "execution_count": 14,
     "metadata": {},
     "output_type": "execute_result"
    }
   ],
   "source": [
    "target = 16\n",
    "[x for x in itertools.combinations(all_digits, num_digits) if operation(x)==target]"
   ]
  },
  {
   "cell_type": "code",
   "execution_count": 15,
   "metadata": {},
   "outputs": [
    {
     "data": {
      "text/plain": [
       "16"
      ]
     },
     "execution_count": 15,
     "metadata": {},
     "output_type": "execute_result"
    }
   ],
   "source": [
    "2*2*4"
   ]
  },
  {
   "cell_type": "markdown",
   "metadata": {},
   "source": [
    "It's OK though, because `itertools` has that covered in `combinations_with_replacement`."
   ]
  },
  {
   "cell_type": "code",
   "execution_count": 16,
   "metadata": {},
   "outputs": [
    {
     "data": {
      "text/plain": [
       "[(1, 4, 4), (2, 2, 4)]"
      ]
     },
     "execution_count": 16,
     "metadata": {},
     "output_type": "execute_result"
    }
   ],
   "source": [
    "[x for x in itertools.combinations_with_replacement(all_digits, num_digits) if operation(x)==target]"
   ]
  },
  {
   "cell_type": "markdown",
   "metadata": {},
   "source": [
    "## Second Complication\n",
    "\n",
    "Next problem is that subtraction and division are not associative -- order changes the result. KenKen rules aren't particularly fussed about this, you decide the order in your head and that's fine. Generally the puzzles will only have 2 cells when the target must be produced with subtraction or division but apparently not all puzzles will do this."
   ]
  },
  {
   "cell_type": "code",
   "execution_count": 17,
   "metadata": {},
   "outputs": [],
   "source": [
    "def subtract(numbers):\n",
    "    ret = numbers[0]\n",
    "    for i in range(1, len(numbers)):\n",
    "        ret -= numbers[i]\n",
    "    return ret\n",
    "\n",
    "def divide(numbers):\n",
    "    ret = numbers[0]\n",
    "    for i in range(1, len(numbers)):\n",
    "        ret = ret // i\n",
    "    return ret"
   ]
  },
  {
   "cell_type": "markdown",
   "metadata": {},
   "source": [
    "So what we need to do here is, for each possible combination of digits, produce all the possible orderings of those digits. Because subtraction and division are not associative we'll need to use `product` instead of `combinations_with_replacement`. KenKen never uses negative targets in cages but some other puzzles do."
   ]
  },
  {
   "cell_type": "code",
   "execution_count": 18,
   "metadata": {},
   "outputs": [
    {
     "data": {
      "text/plain": [
       "[(1, 1),\n",
       " (1, 2),\n",
       " (1, 3),\n",
       " (1, 4),\n",
       " (2, 1),\n",
       " (2, 2),\n",
       " (2, 3),\n",
       " (2, 4),\n",
       " (3, 1),\n",
       " (3, 2),\n",
       " (3, 3),\n",
       " (3, 4),\n",
       " (4, 1),\n",
       " (4, 2),\n",
       " (4, 3),\n",
       " (4, 4)]"
      ]
     },
     "execution_count": 18,
     "metadata": {},
     "output_type": "execute_result"
    }
   ],
   "source": [
    "num_digits = 2\n",
    "target = 2\n",
    "operation = subtract\n",
    "\n",
    "[x for x in itertools.product(all_digits, repeat=num_digits)]"
   ]
  },
  {
   "cell_type": "code",
   "execution_count": 19,
   "metadata": {},
   "outputs": [
    {
     "data": {
      "text/plain": [
       "[(3, 1), (4, 2)]"
      ]
     },
     "execution_count": 19,
     "metadata": {},
     "output_type": "execute_result"
    }
   ],
   "source": [
    "[x for x in itertools.product(all_digits, repeat=num_digits) if operation(x) == target]"
   ]
  },
  {
   "cell_type": "markdown",
   "metadata": {},
   "source": [
    "# Representing MathDoku puzzles\n",
    "\n",
    "These puzzles are a little more complicated to represent. We need:\n",
    "\n",
    "* Standard N x N grid (latin squre)\n",
    "* A list of \"cages\" -- target values and operations\n",
    "* A mapping that tells us which cells are in which cages\n"
   ]
  },
  {
   "cell_type": "code",
   "execution_count": 20,
   "metadata": {},
   "outputs": [],
   "source": [
    "import puzzlegrid as pg\n",
    "\n",
    "grid = pg.ConstraintPuzzle(max_digit)"
   ]
  },
  {
   "cell_type": "code",
   "execution_count": 21,
   "metadata": {},
   "outputs": [],
   "source": [
    "cages = [(16, numpy.product, 3), (7, sum, 3), (2, subtract, 2), (12, numpy.product, 3), (2, divide, 2), (2, divide, 2), (4, sum, 1)]\n",
    "cage_cells = [[0, 0, 1, 1],\n",
    "              [2, 0, 1, 6],\n",
    "              [2, 3, 4, 4],\n",
    "              [3, 3, 5, 5]]"
   ]
  },
  {
   "cell_type": "code",
   "execution_count": 22,
   "metadata": {},
   "outputs": [],
   "source": [
    "grid.set(1, 3, 4)"
   ]
  },
  {
   "cell_type": "code",
   "execution_count": 23,
   "metadata": {},
   "outputs": [
    {
     "name": "stdout",
     "output_type": "stream",
     "text": [
      ".......4........\n"
     ]
    }
   ],
   "source": [
    "print(grid)"
   ]
  },
  {
   "cell_type": "code",
   "execution_count": 24,
   "metadata": {},
   "outputs": [
    {
     "data": {
      "text/plain": [
       "[4, 3]"
      ]
     },
     "execution_count": 24,
     "metadata": {},
     "output_type": "execute_result"
    }
   ],
   "source": [
    "[x for x in range(max_digit, 1, -1)[0:2]]"
   ]
  },
  {
   "cell_type": "markdown",
   "metadata": {},
   "source": [
    "So let's get the possible values for each cage"
   ]
  },
  {
   "cell_type": "code",
   "execution_count": 25,
   "metadata": {},
   "outputs": [
    {
     "name": "stdout",
     "output_type": "stream",
     "text": [
      "0 [(1, 4, 4), (2, 2, 4)]\n",
      "1 [(1, 2, 4), (1, 3, 3), (2, 2, 3)]\n",
      "2 [(3, 1), (4, 2)]\n",
      "3 [(1, 3, 4), (2, 2, 3)]\n",
      "4 [(2, 1), (2, 2), (2, 3), (2, 4)]\n",
      "5 [(2, 1), (2, 2), (2, 3), (2, 4)]\n",
      "6 [(4,)]\n"
     ]
    }
   ],
   "source": [
    "cage_values = []\n",
    "for i, c in enumerate(cages):\n",
    "    target, operation, num = c\n",
    "    combos = []\n",
    "    if operation == sum or operation == numpy.product:\n",
    "        combos = [x for x in itertools.combinations_with_replacement(all_digits, num)]\n",
    "    else:\n",
    "        combos = [x for x in itertools.product(all_digits, repeat=num)]\n",
    "    cage_values.append([x for x in combos if operation(x) == target])\n",
    "    print(i, cage_values[i])"
   ]
  },
  {
   "cell_type": "markdown",
   "metadata": {},
   "source": [
    "We already have a value for cell 1, 3 (4). Let's see if that helps us with any of the other cells in that row or column."
   ]
  },
  {
   "cell_type": "code",
   "execution_count": 26,
   "metadata": {},
   "outputs": [
    {
     "name": "stdout",
     "output_type": "stream",
     "text": [
      "(1, 0) {1, 2, 3} [(3, 1), (4, 2)]\n",
      "(1, 1) {1, 2, 3} [(1, 4, 4), (2, 2, 4)]\n",
      "(1, 2) {1, 2, 3} [(1, 2, 4), (1, 3, 3), (2, 2, 3)]\n",
      "(1, 3) {4} [(4,)]\n"
     ]
    }
   ],
   "source": [
    "for j in range(max_digit):\n",
    "    print((1, j), grid.get_allowed_values(1, j), cage_values[cage_cells[1][j]])"
   ]
  },
  {
   "cell_type": "code",
   "execution_count": 27,
   "metadata": {},
   "outputs": [
    {
     "name": "stdout",
     "output_type": "stream",
     "text": [
      "(0, 3) {1, 2, 3} [(1, 2, 4), (1, 3, 3), (2, 2, 3)]\n",
      "(1, 3) {4} [(4,)]\n",
      "(2, 3) {1, 2, 3} [(2, 1), (2, 2), (2, 3), (2, 4)]\n",
      "(3, 3) {1, 2, 3} [(2, 1), (2, 2), (2, 3), (2, 4)]\n"
     ]
    }
   ],
   "source": [
    "for i in range(max_digit):\n",
    "    print((i, 3), grid.get_allowed_values(i, 3), cage_values[cage_cells[i][3]])"
   ]
  },
  {
   "cell_type": "markdown",
   "metadata": {},
   "source": [
    "Hmmm. So, basically, each cell can take any number from 1-4. \n",
    "\n",
    "This isn't going to work.\n",
    "\n",
    "Better approach will be backtracking and not worrying about constraint propogation just yet.\n",
    "\n",
    "One thought: take cell (0, 3). It has allowed values (1, 2, 3). Then the cage has some possible combinations, one of which includes \"4\" which we know is not allowed. So we should be able to reduce the list of allowed values?\n"
   ]
  },
  {
   "cell_type": "code",
   "execution_count": 28,
   "metadata": {},
   "outputs": [],
   "source": [
    "row_and_col_allowed = {1, 2, 3}\n",
    "cage_allowed = [(1, 2, 4), (1, 3, 3), (2, 2, 3)]\n",
    "\n",
    "expect = [(1, 3, 3), (2, 2, 3)]\n",
    "\n",
    "not_allowed = set(all_digits) - row_and_col_allowed"
   ]
  },
  {
   "cell_type": "code",
   "execution_count": 29,
   "metadata": {},
   "outputs": [
    {
     "data": {
      "text/plain": [
       "{4}"
      ]
     },
     "execution_count": 29,
     "metadata": {},
     "output_type": "execute_result"
    }
   ],
   "source": [
    "not_allowed"
   ]
  },
  {
   "cell_type": "code",
   "execution_count": 30,
   "metadata": {},
   "outputs": [
    {
     "data": {
      "text/plain": [
       "{1, 2, 4}"
      ]
     },
     "execution_count": 30,
     "metadata": {},
     "output_type": "execute_result"
    }
   ],
   "source": [
    "set(cage_allowed[0])"
   ]
  },
  {
   "cell_type": "code",
   "execution_count": 31,
   "metadata": {},
   "outputs": [
    {
     "data": {
      "text/plain": [
       "[(1, 3, 3), (2, 2, 3)]"
      ]
     },
     "execution_count": 31,
     "metadata": {},
     "output_type": "execute_result"
    }
   ],
   "source": [
    "cage_allowed = [x for x in cage_allowed if not not_allowed & set(x)]\n",
    "cage_allowed"
   ]
  },
  {
   "cell_type": "markdown",
   "metadata": {},
   "source": [
    "# Backtracking Solution\n",
    "\n",
    "OK, might have enough now to attempt a backtracking solution...\n"
   ]
  },
  {
   "cell_type": "code",
   "execution_count": 32,
   "metadata": {},
   "outputs": [],
   "source": [
    "def solve_backtracking(puzzle, depth=0):\n",
    "    \"\"\"Implements a simple \"naive\" back tracking solution\"\"\"\n",
    "    if puzzle.num_empty_cells() == 0:\n",
    "        return True\n",
    "\n",
    "    x, y = puzzle.find_empty_cell()\n",
    "    for val in puzzle.get_allowed_values(x, y):\n",
    "        puzzle.set(x, y, val)\n",
    "        if solve_backtracking(puzzle, depth=depth + 1):\n",
    "            return True\n",
    "        else:\n",
    "            puzzle.clear(x, y)\n",
    "\n",
    "    return False\n"
   ]
  },
  {
   "cell_type": "code",
   "execution_count": 33,
   "metadata": {},
   "outputs": [
    {
     "data": {
      "text/plain": [
       "True"
      ]
     },
     "execution_count": 33,
     "metadata": {},
     "output_type": "execute_result"
    }
   ],
   "source": [
    "solve_backtracking(grid)"
   ]
  },
  {
   "cell_type": "code",
   "execution_count": 34,
   "metadata": {},
   "outputs": [
    {
     "name": "stdout",
     "output_type": "stream",
     "text": [
      "1243213434124321\n"
     ]
    }
   ],
   "source": [
    "print(grid)"
   ]
  },
  {
   "cell_type": "code",
   "execution_count": 35,
   "metadata": {},
   "outputs": [
    {
     "data": {
      "text/plain": [
       "True"
      ]
     },
     "execution_count": 35,
     "metadata": {},
     "output_type": "execute_result"
    }
   ],
   "source": [
    "grid.is_puzzle_valid()"
   ]
  },
  {
   "cell_type": "code",
   "execution_count": 36,
   "metadata": {},
   "outputs": [
    {
     "data": {
      "text/plain": [
       "[[(0, 0), (0, 1), (1, 1)],\n",
       " [(0, 2), (0, 3), (1, 2)],\n",
       " [(1, 0), (2, 0)],\n",
       " [(2, 1), (3, 0), (3, 1)],\n",
       " [(2, 2), (2, 3)],\n",
       " [(3, 2), (3, 3)],\n",
       " [(1, 3)]]"
      ]
     },
     "execution_count": 36,
     "metadata": {},
     "output_type": "execute_result"
    }
   ],
   "source": [
    "cell_map = [[] for x in range(len(cages))]\n",
    "for i in range(max_digit):\n",
    "    for j in range(max_digit):\n",
    "        cell_map[cage_cells[i][j]].append((i, j))\n",
    "\n",
    "cell_map"
   ]
  },
  {
   "cell_type": "code",
   "execution_count": 37,
   "metadata": {},
   "outputs": [
    {
     "name": "stdout",
     "output_type": "stream",
     "text": [
      "Checking cell 0: Need a target 16 using <function product at 0x1133429e0> from 3 cells\n",
      "\tCell values in this cage are: [1, 2, 1]\n",
      "\tBOGUS cell values!\n",
      "Checking cell 1: Need a target 7 using <built-in function sum> from 3 cells\n",
      "\tCell values in this cage are: [4, 3, 3]\n",
      "\tBOGUS cell values!\n",
      "Checking cell 2: Need a target 2 using <function subtract at 0x11244c680> from 2 cells\n",
      "\tCell values in this cage are: [2, 3]\n",
      "\tBOGUS cell values!\n",
      "Checking cell 3: Need a target 12 using <function product at 0x1133429e0> from 3 cells\n",
      "\tCell values in this cage are: [4, 4, 3]\n",
      "\tBOGUS cell values!\n",
      "Checking cell 4: Need a target 2 using <function divide at 0x11244c7a0> from 2 cells\n",
      "\tCell values in this cage are: [1, 2]\n",
      "\tBOGUS cell values!\n",
      "Checking cell 5: Need a target 2 using <function divide at 0x11244c7a0> from 2 cells\n",
      "\tCell values in this cage are: [2, 1]\n",
      "\tChecks out!\n",
      "Checking cell 6: Need a target 4 using <built-in function sum> from 1 cells\n",
      "\tCell values in this cage are: [4]\n",
      "\tChecks out!\n"
     ]
    }
   ],
   "source": [
    "for i, cells in enumerate(cell_map):\n",
    "    target, operation, cell_count = cages[i]\n",
    "    print(f\"Checking cell {i}: Need a target {target} using {operation} from {cell_count} cells\")\n",
    "    cell_values = []\n",
    "    for cell in cells:\n",
    "        x, y = cell\n",
    "        cell_values.append(grid.get(x, y))\n",
    "    print(f\"\\tCell values in this cage are: {cell_values}\")\n",
    "    if operation(cell_values) == target:\n",
    "        print(f\"\\tChecks out!\")\n",
    "    else:\n",
    "        print(f\"\\tBOGUS cell values!\")"
   ]
  },
  {
   "cell_type": "code",
   "execution_count": null,
   "metadata": {},
   "outputs": [],
   "source": []
  }
 ],
 "metadata": {
  "kernelspec": {
   "display_name": "Python 3",
   "language": "python",
   "name": "python3"
  },
  "language_info": {
   "codemirror_mode": {
    "name": "ipython",
    "version": 3
   },
   "file_extension": ".py",
   "mimetype": "text/x-python",
   "name": "python",
   "nbconvert_exporter": "python",
   "pygments_lexer": "ipython3",
   "version": "3.7.4"
  }
 },
 "nbformat": 4,
 "nbformat_minor": 4
}
