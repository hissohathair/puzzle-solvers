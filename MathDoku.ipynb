{
 "cells": [
  {
   "cell_type": "markdown",
   "metadata": {},
   "source": [
    "# MathDoku Solver\n",
    "\n",
    "Similar to the puzzles published under the KenKen trademark.\n",
    "\n",
    "## Exploratory Work\n",
    "\n",
    "First question...given a target number, arithmetic operator, and range of digits, can we show all combinations that produce the right target?\n",
    "\n",
    "Starting with addition and multiplication as they're associative and commutative.\n"
   ]
  },
  {
   "cell_type": "code",
   "execution_count": 10,
   "metadata": {},
   "outputs": [],
   "source": [
    "max_digit = 4\n",
    "all_digits = range(1, max_digit+1)"
   ]
  },
  {
   "cell_type": "code",
   "execution_count": 45,
   "metadata": {},
   "outputs": [],
   "source": [
    "target = 7\n",
    "operation = sum\n",
    "num_digits = 3"
   ]
  },
  {
   "cell_type": "code",
   "execution_count": 46,
   "metadata": {},
   "outputs": [
    {
     "data": {
      "text/plain": [
       "[(1, 2, 3), (1, 2, 4), (1, 3, 4), (2, 3, 4)]"
      ]
     },
     "execution_count": 46,
     "metadata": {},
     "output_type": "execute_result"
    }
   ],
   "source": [
    "# First, n choose k (e.g. 6 digits, choose 3)\n",
    "import itertools\n",
    "[x for x in itertools.combinations(all_digits, num_digits)]"
   ]
  },
  {
   "cell_type": "code",
   "execution_count": 47,
   "metadata": {},
   "outputs": [
    {
     "data": {
      "text/plain": [
       "[(1, 2, 4)]"
      ]
     },
     "execution_count": 47,
     "metadata": {},
     "output_type": "execute_result"
    }
   ],
   "source": [
    "# Filter to just those that hit target\n",
    "[x for x in itertools.combinations(all_digits, num_digits) if operation(x) == target]"
   ]
  },
  {
   "cell_type": "code",
   "execution_count": 48,
   "metadata": {},
   "outputs": [
    {
     "data": {
      "text/plain": [
       "[(2, 3, 4)]"
      ]
     },
     "execution_count": 48,
     "metadata": {},
     "output_type": "execute_result"
    }
   ],
   "source": [
    "import numpy\n",
    "target = 24\n",
    "operation = numpy.prod\n",
    "[x for x in itertools.combinations(all_digits, num_digits) if operation(x)==target]"
   ]
  },
  {
   "cell_type": "markdown",
   "metadata": {},
   "source": [
    "## First Complication\n",
    "\n",
    "So far so good but there's a complication: if we use the rules from KenKen then digits can be repeated in a cage (as long as they're not also repeated in a row or column).\n"
   ]
  },
  {
   "cell_type": "code",
   "execution_count": 50,
   "metadata": {},
   "outputs": [
    {
     "data": {
      "text/plain": [
       "[]"
      ]
     },
     "execution_count": 50,
     "metadata": {},
     "output_type": "execute_result"
    }
   ],
   "source": [
    "target = 16\n",
    "[x for x in itertools.combinations(all_digits, num_digits) if operation(x)==target]"
   ]
  },
  {
   "cell_type": "code",
   "execution_count": 51,
   "metadata": {},
   "outputs": [
    {
     "data": {
      "text/plain": [
       "16"
      ]
     },
     "execution_count": 51,
     "metadata": {},
     "output_type": "execute_result"
    }
   ],
   "source": [
    "2*2*4"
   ]
  },
  {
   "cell_type": "markdown",
   "metadata": {},
   "source": [
    "It's OK though, because `itertools` has that covered in `combinations_with_replacement`."
   ]
  },
  {
   "cell_type": "code",
   "execution_count": 52,
   "metadata": {},
   "outputs": [
    {
     "data": {
      "text/plain": [
       "[(1, 4, 4), (2, 2, 4)]"
      ]
     },
     "execution_count": 52,
     "metadata": {},
     "output_type": "execute_result"
    }
   ],
   "source": [
    "[x for x in itertools.combinations_with_replacement(all_digits, num_digits) if operation(x)==target]"
   ]
  },
  {
   "cell_type": "markdown",
   "metadata": {},
   "source": [
    "## Second Complication\n",
    "\n",
    "Next problem is that subtraction and division are not associative -- order changes the result. KenKen rules aren't particularly fussed about this, you decide the order in your head and that's fine. Generally the puzzles will only have 2 cells when the target must be produced with subtraction or division but apparently not all puzzles will do this."
   ]
  },
  {
   "cell_type": "code",
   "execution_count": 53,
   "metadata": {},
   "outputs": [],
   "source": [
    "def subtract(numbers):\n",
    "    ret = numbers[0]\n",
    "    for i in range(1, len(numbers)):\n",
    "        ret -= numbers[i]\n",
    "    return ret\n",
    "\n",
    "def divide(numbers):\n",
    "    ret = numbers[0]\n",
    "    for i in range(1, len(numbers)):\n",
    "        ret = ret // i\n",
    "    return ret"
   ]
  },
  {
   "cell_type": "markdown",
   "metadata": {},
   "source": [
    "So what we need to do here is, for each possible combination of digits, produce all the possible orderings of those digits. Because subtraction and division are not associative we'll need to use `product` instead of `combinations_with_replacement`. KenKen never uses negative targets in cages but some other puzzles do."
   ]
  },
  {
   "cell_type": "code",
   "execution_count": 60,
   "metadata": {},
   "outputs": [
    {
     "data": {
      "text/plain": [
       "[(1, 1),\n",
       " (1, 2),\n",
       " (1, 3),\n",
       " (1, 4),\n",
       " (2, 1),\n",
       " (2, 2),\n",
       " (2, 3),\n",
       " (2, 4),\n",
       " (3, 1),\n",
       " (3, 2),\n",
       " (3, 3),\n",
       " (3, 4),\n",
       " (4, 1),\n",
       " (4, 2),\n",
       " (4, 3),\n",
       " (4, 4)]"
      ]
     },
     "execution_count": 60,
     "metadata": {},
     "output_type": "execute_result"
    }
   ],
   "source": [
    "num_digits = 2\n",
    "target = 2\n",
    "operation = subtract\n",
    "\n",
    "[x for x in itertools.product(all_digits, repeat=num_digits)]"
   ]
  },
  {
   "cell_type": "code",
   "execution_count": 62,
   "metadata": {},
   "outputs": [
    {
     "data": {
      "text/plain": [
       "[(3, 1), (4, 2)]"
      ]
     },
     "execution_count": 62,
     "metadata": {},
     "output_type": "execute_result"
    }
   ],
   "source": [
    "[x for x in itertools.product(all_digits, repeat=num_digits) if operation(x) == target]"
   ]
  },
  {
   "cell_type": "markdown",
   "metadata": {},
   "source": [
    "# Representing MathDoku puzzles\n",
    "\n",
    "These puzzles are a little more complicated to represent. We need:\n",
    "\n",
    "* Standard N x N grid (latin squre)\n",
    "* A list of \"cages\" -- target values and operations\n",
    "* A mapping that tells us which cells are in which cages\n"
   ]
  },
  {
   "cell_type": "code",
   "execution_count": 88,
   "metadata": {},
   "outputs": [],
   "source": [
    "import puzzlegrid as pg\n",
    "\n",
    "grid = pg.ConstraintPuzzle(max_digit)"
   ]
  },
  {
   "cell_type": "code",
   "execution_count": 89,
   "metadata": {},
   "outputs": [],
   "source": [
    "cages = [(16, numpy.product, 3), (7, sum, 3), (2, subtract, 2), (12, numpy.product, 3), (2, divide, 2), (2, divide, 2), (4, sum, 1)]"
   ]
  },
  {
   "cell_type": "code",
   "execution_count": 90,
   "metadata": {},
   "outputs": [],
   "source": [
    "cage_cells = [[0, 0, 1, 1],\n",
    "              [2, 0, 1, 6],\n",
    "              [2, 3, 4, 4],\n",
    "              [3, 3, 5, 5]]"
   ]
  },
  {
   "cell_type": "code",
   "execution_count": 91,
   "metadata": {},
   "outputs": [],
   "source": [
    "grid.set(1, 3, 4)"
   ]
  },
  {
   "cell_type": "code",
   "execution_count": 92,
   "metadata": {},
   "outputs": [
    {
     "name": "stdout",
     "output_type": "stream",
     "text": [
      ".......4........\n"
     ]
    }
   ],
   "source": [
    "print(grid)"
   ]
  },
  {
   "cell_type": "markdown",
   "metadata": {},
   "source": [
    "So let's get the possible values for each cage"
   ]
  },
  {
   "cell_type": "code",
   "execution_count": 96,
   "metadata": {},
   "outputs": [
    {
     "name": "stdout",
     "output_type": "stream",
     "text": [
      "0 [(1, 4, 4), (2, 2, 4)]\n",
      "1 [(1, 2, 4), (1, 3, 3), (2, 2, 3)]\n",
      "2 [(3, 1), (4, 2)]\n",
      "3 [(1, 3, 4), (2, 2, 3)]\n",
      "4 [(2, 1), (2, 2), (2, 3), (2, 4)]\n",
      "5 [(2, 1), (2, 2), (2, 3), (2, 4)]\n",
      "6 [(4,)]\n"
     ]
    }
   ],
   "source": [
    "cage_values = []\n",
    "for i, c in enumerate(cages):\n",
    "    target, operation, num = c\n",
    "    combos = []\n",
    "    if operation == sum or operation == numpy.product:\n",
    "        combos = [x for x in itertools.combinations_with_replacement(all_digits, num)]\n",
    "    else:\n",
    "        combos = [x for x in itertools.product(all_digits, repeat=num)]\n",
    "    cage_values.append([x for x in combos if operation(x) == target])\n",
    "    print(i, cage_values[i])"
   ]
  },
  {
   "cell_type": "markdown",
   "metadata": {},
   "source": [
    "We already have a value for cell 1, 3 (4). Let's see if that helps us with any of the other cells in that row or column."
   ]
  },
  {
   "cell_type": "code",
   "execution_count": 94,
   "metadata": {},
   "outputs": [
    {
     "name": "stdout",
     "output_type": "stream",
     "text": [
      "(1, 0) {1, 2, 3} [(3, 1), (4, 2)]\n",
      "(1, 1) {1, 2, 3} [(1, 4, 4), (2, 2, 4)]\n",
      "(1, 2) {1, 2, 3} [(1, 2, 4), (1, 3, 3), (2, 2, 3)]\n",
      "(1, 3) {4} [(4,)]\n"
     ]
    }
   ],
   "source": [
    "for j in range(max_digit):\n",
    "    print((1, j), grid.get_allowed_values(1, j), cage_values[cage_cells[1][j]])"
   ]
  },
  {
   "cell_type": "code",
   "execution_count": 97,
   "metadata": {},
   "outputs": [
    {
     "name": "stdout",
     "output_type": "stream",
     "text": [
      "(0, 3) {1, 2, 3} [(1, 2, 4), (1, 3, 3), (2, 2, 3)]\n",
      "(1, 3) {4} [(4,)]\n",
      "(2, 3) {1, 2, 3} [(2, 1), (2, 2), (2, 3), (2, 4)]\n",
      "(3, 3) {1, 2, 3} [(2, 1), (2, 2), (2, 3), (2, 4)]\n"
     ]
    }
   ],
   "source": [
    "for i in range(max_digit):\n",
    "    print((i, 3), grid.get_allowed_values(i, 3), cage_values[cage_cells[i][3]])"
   ]
  },
  {
   "cell_type": "markdown",
   "metadata": {},
   "source": [
    "Hmmm. So, basically, each cell can take any number from 1-4. \n",
    "\n",
    "This isn't going to work.\n",
    "\n",
    "Better approach will be backtracking and not worrying about constraint propogation just yet."
   ]
  }
 ],
 "metadata": {
  "kernelspec": {
   "display_name": "Python 3",
   "language": "python",
   "name": "python3"
  },
  "language_info": {
   "codemirror_mode": {
    "name": "ipython",
    "version": 3
   },
   "file_extension": ".py",
   "mimetype": "text/x-python",
   "name": "python",
   "nbconvert_exporter": "python",
   "pygments_lexer": "ipython3",
   "version": "3.7.4"
  }
 },
 "nbformat": 4,
 "nbformat_minor": 4
}
